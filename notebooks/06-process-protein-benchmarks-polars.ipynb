{
 "cells": [
  {
   "cell_type": "markdown",
   "id": "c7b68939-9b88-442b-872e-69fb175ce903",
   "metadata": {},
   "source": [
    "# Imports and setup"
   ]
  },
  {
   "cell_type": "markdown",
   "id": "9f82e23d-66f0-440a-8163-dfffae025202",
   "metadata": {},
   "source": [
    "### Auto-re-import python modules, useful for editing local fils"
   ]
  },
  {
   "cell_type": "code",
   "execution_count": 13,
   "id": "1616f0c6-9104-4889-9fde-4c85479fb245",
   "metadata": {
    "execution": {
     "iopub.execute_input": "2024-10-30T21:14:33.537388Z",
     "iopub.status.busy": "2024-10-30T21:14:33.537061Z",
     "iopub.status.idle": "2024-10-30T21:14:33.548003Z",
     "shell.execute_reply": "2024-10-30T21:14:33.547650Z",
     "shell.execute_reply.started": "2024-10-30T21:14:33.537375Z"
    }
   },
   "outputs": [],
   "source": [
    "%load_ext autoreload\n",
    "%autoreload 2"
   ]
  },
  {
   "cell_type": "code",
   "execution_count": 14,
   "id": "bc73a60e-dbe4-42f6-b034-836a1906616e",
   "metadata": {
    "execution": {
     "iopub.execute_input": "2024-10-30T21:14:33.802149Z",
     "iopub.status.busy": "2024-10-30T21:14:33.801788Z",
     "iopub.status.idle": "2024-10-30T21:14:33.811465Z",
     "shell.execute_reply": "2024-10-30T21:14:33.811141Z",
     "shell.execute_reply.started": "2024-10-30T21:14:33.802135Z"
    }
   },
   "outputs": [
    {
     "data": {
      "text/plain": [
       "2"
      ]
     },
     "execution_count": 14,
     "metadata": {},
     "output_type": "execute_result"
    }
   ],
   "source": [
    "1 + 1"
   ]
  },
  {
   "cell_type": "markdown",
   "id": "1f8ce8fc-4e4f-4d34-8ea5-07af0dd1de7e",
   "metadata": {},
   "source": [
    "## Imports"
   ]
  },
  {
   "cell_type": "code",
   "execution_count": 1,
   "id": "a905ccc7-8a61-40cd-b56a-36c5935ef523",
   "metadata": {
    "execution": {
     "iopub.execute_input": "2024-10-30T21:17:32.599998Z",
     "iopub.status.busy": "2024-10-30T21:17:32.599667Z",
     "iopub.status.idle": "2024-10-30T21:17:36.269308Z",
     "shell.execute_reply": "2024-10-30T21:17:36.268842Z",
     "shell.execute_reply.started": "2024-10-30T21:17:32.599982Z"
    }
   },
   "outputs": [],
   "source": [
    "import itertools\n",
    "\n",
    "import matplotlib as mpl\n",
    "import polars as pl\n",
    "import seaborn as sns\n",
    "\n",
    "pl.Config.set_verbose(True)\n",
    "mpl.rcParams[\"figure.max_open_warning\"] = 0\n",
    "\n",
    "# Handwritten local modules\n",
    "import process_scop_sourmash_multisearch_polars"
   ]
  },
  {
   "cell_type": "markdown",
   "id": "4c099fc7-f907-4583-99be-c94ab7d8671f",
   "metadata": {},
   "source": [
    "# Read in data"
   ]
  },
  {
   "cell_type": "code",
   "execution_count": 2,
   "id": "195f1815-6420-4a0d-aa49-7b84f6d2ce79",
   "metadata": {
    "execution": {
     "iopub.execute_input": "2024-10-30T21:17:36.270197Z",
     "iopub.status.busy": "2024-10-30T21:17:36.270059Z",
     "iopub.status.idle": "2024-10-30T21:17:36.272282Z",
     "shell.execute_reply": "2024-10-30T21:17:36.271969Z",
     "shell.execute_reply.started": "2024-10-30T21:17:36.270185Z"
    }
   },
   "outputs": [],
   "source": [
    "analysis_outdir = (\n",
    "    \"s3://seanome-kmerseek/scope-benchmark/analysis-outputs/2024-10-09__protein_k5-20\"\n",
    ")"
   ]
  },
  {
   "cell_type": "code",
   "execution_count": 3,
   "id": "56fa62a8-b603-4fa8-a11e-aa699a26045f",
   "metadata": {
    "execution": {
     "iopub.execute_input": "2024-10-30T21:17:36.272827Z",
     "iopub.status.busy": "2024-10-30T21:17:36.272715Z",
     "iopub.status.idle": "2024-10-30T21:17:37.698245Z",
     "shell.execute_reply": "2024-10-30T21:17:37.697587Z",
     "shell.execute_reply.started": "2024-10-30T21:17:36.272817Z"
    }
   },
   "outputs": [
    {
     "name": "stdout",
     "output_type": "stream",
     "text": [
      "                           PRE multiqc/\n",
      "                           PRE pipeline_info/\n",
      "                           PRE seqkit/\n",
      "                           PRE sourmash/\n"
     ]
    }
   ],
   "source": [
    "pipeline_outdir = (\n",
    "    \"s3://seanome-kmerseek/scope-benchmark/pipeline-outputs/2024-10-08__protein_k5-20\"\n",
    ")\n",
    "! aws s3 ls $pipeline_outdir/"
   ]
  },
  {
   "cell_type": "code",
   "execution_count": 4,
   "id": "fb0ea835-39cc-4846-af2b-eb5c63f888d8",
   "metadata": {
    "execution": {
     "iopub.execute_input": "2024-10-30T21:17:37.699501Z",
     "iopub.status.busy": "2024-10-30T21:17:37.699353Z",
     "iopub.status.idle": "2024-10-30T21:17:38.298206Z",
     "shell.execute_reply": "2024-10-30T21:17:38.297622Z",
     "shell.execute_reply.started": "2024-10-30T21:17:37.699486Z"
    }
   },
   "outputs": [
    {
     "name": "stdout",
     "output_type": "stream",
     "text": [
      "                           PRE multisearch/\n",
      "                           PRE sigs/\n"
     ]
    }
   ],
   "source": [
    "! aws s3 ls $pipeline_outdir/sourmash/"
   ]
  },
  {
   "cell_type": "code",
   "execution_count": 5,
   "id": "defc7224-89ad-4235-b18d-2d5ddf7b1321",
   "metadata": {
    "execution": {
     "iopub.execute_input": "2024-10-30T21:17:38.299011Z",
     "iopub.status.busy": "2024-10-30T21:17:38.298865Z",
     "iopub.status.idle": "2024-10-30T21:17:38.899469Z",
     "shell.execute_reply": "2024-10-30T21:17:38.898913Z",
     "shell.execute_reply.started": "2024-10-30T21:17:38.298995Z"
    }
   },
   "outputs": [
    {
     "name": "stdout",
     "output_type": "stream",
     "text": [
      "2024-10-09 13:29:03    0 Bytes \n",
      "2024-10-09 03:28:12    6.0 MiB astral-scopedom-seqres-gd-sel-gs-bib-40-2.08.part_001.fa--in--astral-scopedom-seqres-gd-sel-gs-bib-40-2.08.part_001.fa.protein.10.multisearch.csv\n",
      "2024-10-09 06:17:15    5.7 MiB astral-scopedom-seqres-gd-sel-gs-bib-40-2.08.part_001.fa--in--astral-scopedom-seqres-gd-sel-gs-bib-40-2.08.part_001.fa.protein.11.multisearch.csv\n",
      "2024-10-09 04:22:24    5.5 MiB astral-scopedom-seqres-gd-sel-gs-bib-40-2.08.part_001.fa--in--astral-scopedom-seqres-gd-sel-gs-bib-40-2.08.part_001.fa.protein.12.multisearch.csv\n",
      "2024-10-09 08:07:15    5.5 MiB astral-scopedom-seqres-gd-sel-gs-bib-40-2.08.part_001.fa--in--astral-scopedom-seqres-gd-sel-gs-bib-40-2.08.part_001.fa.protein.13.multisearch.csv\n",
      "2024-10-09 07:10:35    5.4 MiB astral-scopedom-seqres-gd-sel-gs-bib-40-2.08.part_001.fa--in--astral-scopedom-seqres-gd-sel-gs-bib-40-2.08.part_001.fa.protein.14.multisearch.csv\n",
      "2024-10-09 12:35:34    5.4 MiB astral-scopedom-seqres-gd-sel-gs-bib-40-2.08.part_001.fa--in--astral-scopedom-seqres-gd-sel-gs-bib-40-2.08.part_001.fa.protein.15.multisearch.csv\n",
      "2024-10-09 09:54:25    5.4 MiB astral-scopedom-seqres-gd-sel-gs-bib-40-2.08.part_001.fa--in--astral-scopedom-seqres-gd-sel-gs-bib-40-2.08.part_001.fa.protein.16.multisearch.csv\n",
      "2024-10-09 08:57:55    5.4 MiB astral-scopedom-seqres-gd-sel-gs-bib-40-2.08.part_001.fa--in--astral-scopedom-seqres-gd-sel-gs-bib-40-2.08.part_001.fa.protein.17.multisearch.csv\n",
      "2024-10-09 11:36:24    5.4 MiB astral-scopedom-seqres-gd-sel-gs-bib-40-2.08.part_001.fa--in--astral-scopedom-seqres-gd-sel-gs-bib-40-2.08.part_001.fa.protein.18.multisearch.csv\n",
      "2024-10-09 13:29:03    5.4 MiB astral-scopedom-seqres-gd-sel-gs-bib-40-2.08.part_001.fa--in--astral-scopedom-seqres-gd-sel-gs-bib-40-2.08.part_001.fa.protein.19.multisearch.csv\n",
      "2024-10-09 10:43:33    5.4 MiB astral-scopedom-seqres-gd-sel-gs-bib-40-2.08.part_001.fa--in--astral-scopedom-seqres-gd-sel-gs-bib-40-2.08.part_001.fa.protein.20.multisearch.csv\n",
      "2024-10-09 00:40:23    2.3 GiB astral-scopedom-seqres-gd-sel-gs-bib-40-2.08.part_001.fa--in--astral-scopedom-seqres-gd-sel-gs-bib-40-2.08.part_001.fa.protein.5.multisearch.csv\n",
      "2024-10-09 02:30:23  175.0 MiB astral-scopedom-seqres-gd-sel-gs-bib-40-2.08.part_001.fa--in--astral-scopedom-seqres-gd-sel-gs-bib-40-2.08.part_001.fa.protein.6.multisearch.csv\n",
      "2024-10-09 00:24:32   20.7 MiB astral-scopedom-seqres-gd-sel-gs-bib-40-2.08.part_001.fa--in--astral-scopedom-seqres-gd-sel-gs-bib-40-2.08.part_001.fa.protein.7.multisearch.csv\n",
      "2024-10-09 05:21:54    8.4 MiB astral-scopedom-seqres-gd-sel-gs-bib-40-2.08.part_001.fa--in--astral-scopedom-seqres-gd-sel-gs-bib-40-2.08.part_001.fa.protein.8.multisearch.csv\n",
      "2024-10-09 01:40:13    6.6 MiB astral-scopedom-seqres-gd-sel-gs-bib-40-2.08.part_001.fa--in--astral-scopedom-seqres-gd-sel-gs-bib-40-2.08.part_001.fa.protein.9.multisearch.csv\n"
     ]
    }
   ],
   "source": [
    "! aws s3 ls --human-readable $pipeline_outdir/sourmash/multisearch/"
   ]
  },
  {
   "cell_type": "code",
   "execution_count": 6,
   "id": "a066e937-8dc5-4297-b9df-697e43a61ced",
   "metadata": {
    "execution": {
     "iopub.execute_input": "2024-10-30T21:17:38.900314Z",
     "iopub.status.busy": "2024-10-30T21:17:38.900171Z",
     "iopub.status.idle": "2024-10-30T21:17:38.904702Z",
     "shell.execute_reply": "2024-10-30T21:17:38.904390Z",
     "shell.execute_reply.started": "2024-10-30T21:17:38.900299Z"
    }
   },
   "outputs": [
    {
     "data": {
      "text/plain": [
       "'s3://seanome-kmerseek/scope-benchmark/analysis-outputs/2024-10-09__protein_k5-20'"
      ]
     },
     "execution_count": 6,
     "metadata": {},
     "output_type": "execute_result"
    }
   ],
   "source": [
    "analysis_outdir"
   ]
  },
  {
   "cell_type": "markdown",
   "id": "c4db935d-1821-416e-b0d2-c735fb3a5d2c",
   "metadata": {},
   "source": [
    "## Read metadata"
   ]
  },
  {
   "cell_type": "markdown",
   "id": "815929d9-8030-4ef2-9c55-aebd060c0342",
   "metadata": {},
   "source": [
    "### Read Query Metadata"
   ]
  },
  {
   "cell_type": "code",
   "execution_count": 7,
   "id": "797fa5ec-d026-4f65-80ab-445081847a1b",
   "metadata": {
    "execution": {
     "iopub.execute_input": "2024-10-30T21:17:38.905383Z",
     "iopub.status.busy": "2024-10-30T21:17:38.905089Z",
     "iopub.status.idle": "2024-10-30T21:17:39.350978Z",
     "shell.execute_reply": "2024-10-30T21:17:39.350606Z",
     "shell.execute_reply.started": "2024-10-30T21:17:38.905371Z"
    }
   },
   "outputs": [
    {
     "name": "stderr",
     "output_type": "stream",
     "text": [
      "Async thread count: 4\n",
      "/home/ec2-user/miniconda3/envs/2024-kmerseek-analysis-polars/lib/python3.12/site-packages/IPython/core/formatters.py:347: UserWarning: '(default_)region' not set; polars will try to get it from bucket\n",
      "\n",
      "Set the region manually to silence this warning.\n",
      "  return method()\n"
     ]
    },
    {
     "data": {
      "text/html": [
       "<h4>NAIVE QUERY PLAN</h4><p>run <b>LazyFrame.show_graph()</b> to see the optimized version</p><?xml version=\"1.0\" encoding=\"UTF-8\" standalone=\"no\"?>\n",
       "<!DOCTYPE svg PUBLIC \"-//W3C//DTD SVG 1.1//EN\"\n",
       " \"http://www.w3.org/Graphics/SVG/1.1/DTD/svg11.dtd\">\n",
       "<!-- Generated by graphviz version 2.44.0 (0)\n",
       " -->\n",
       "<!-- Title: polars_query Pages: 1 -->\n",
       "<svg width=\"672pt\" height=\"46pt\"\n",
       " viewBox=\"0.00 0.00 672.00 46.00\" xmlns=\"http://www.w3.org/2000/svg\" xmlns:xlink=\"http://www.w3.org/1999/xlink\">\n",
       "<g id=\"graph0\" class=\"graph\" transform=\"scale(1 1) rotate(0) translate(4 42)\">\n",
       "<title>polars_query</title>\n",
       "<polygon fill=\"white\" stroke=\"transparent\" points=\"-4,4 -4,-42 668,-42 668,4 -4,4\"/>\n",
       "<!-- p1 -->\n",
       "<g id=\"node1\" class=\"node\">\n",
       "<title>p1</title>\n",
       "<polygon fill=\"none\" stroke=\"black\" points=\"664,-38 0,-38 0,0 664,0 664,-38\"/>\n",
       "<text text-anchor=\"middle\" x=\"332\" y=\"-22.8\" font-family=\"Times-Roman\" font-size=\"14.00\">Parquet SCAN [s3://seanome&#45;kmerseek/scope&#45;benchmark/reference_files/scop.e.2.08.query_metadata.pq]</text>\n",
       "<text text-anchor=\"middle\" x=\"332\" y=\"-7.8\" font-family=\"Times-Roman\" font-size=\"14.00\">π */10;</text>\n",
       "</g>\n",
       "</g>\n",
       "</svg>\n"
      ],
      "text/plain": [
       "<LazyFrame at 0x7F477A89D730>"
      ]
     },
     "execution_count": 7,
     "metadata": {},
     "output_type": "execute_result"
    }
   ],
   "source": [
    "query_metadata = pl.scan_parquet(\n",
    "    \"s3://seanome-kmerseek/scope-benchmark/reference_files/scop.e.2.08.query_metadata.pq\"\n",
    ")\n",
    "query_metadata"
   ]
  },
  {
   "cell_type": "markdown",
   "id": "794e82ea-b8ff-496d-a81b-d3fad3886c33",
   "metadata": {},
   "source": [
    "### Read match metadata"
   ]
  },
  {
   "cell_type": "code",
   "execution_count": 8,
   "id": "490c5fc3-ce41-4456-bf91-e8974550494e",
   "metadata": {
    "execution": {
     "iopub.execute_input": "2024-10-30T21:17:39.351613Z",
     "iopub.status.busy": "2024-10-30T21:17:39.351490Z",
     "iopub.status.idle": "2024-10-30T21:17:39.485069Z",
     "shell.execute_reply": "2024-10-30T21:17:39.484696Z",
     "shell.execute_reply.started": "2024-10-30T21:17:39.351602Z"
    }
   },
   "outputs": [
    {
     "data": {
      "text/html": [
       "<h4>NAIVE QUERY PLAN</h4><p>run <b>LazyFrame.show_graph()</b> to see the optimized version</p><?xml version=\"1.0\" encoding=\"UTF-8\" standalone=\"no\"?>\n",
       "<!DOCTYPE svg PUBLIC \"-//W3C//DTD SVG 1.1//EN\"\n",
       " \"http://www.w3.org/Graphics/SVG/1.1/DTD/svg11.dtd\">\n",
       "<!-- Generated by graphviz version 2.44.0 (0)\n",
       " -->\n",
       "<!-- Title: polars_query Pages: 1 -->\n",
       "<svg width=\"675pt\" height=\"46pt\"\n",
       " viewBox=\"0.00 0.00 675.00 46.00\" xmlns=\"http://www.w3.org/2000/svg\" xmlns:xlink=\"http://www.w3.org/1999/xlink\">\n",
       "<g id=\"graph0\" class=\"graph\" transform=\"scale(1 1) rotate(0) translate(4 42)\">\n",
       "<title>polars_query</title>\n",
       "<polygon fill=\"white\" stroke=\"transparent\" points=\"-4,4 -4,-42 671,-42 671,4 -4,4\"/>\n",
       "<!-- p1 -->\n",
       "<g id=\"node1\" class=\"node\">\n",
       "<title>p1</title>\n",
       "<polygon fill=\"none\" stroke=\"black\" points=\"667,-38 0,-38 0,0 667,0 667,-38\"/>\n",
       "<text text-anchor=\"middle\" x=\"333.5\" y=\"-22.8\" font-family=\"Times-Roman\" font-size=\"14.00\">Parquet SCAN [s3://seanome&#45;kmerseek/scope&#45;benchmark/reference_files/scop.e.2.08.match_metadata.pq]</text>\n",
       "<text text-anchor=\"middle\" x=\"333.5\" y=\"-7.8\" font-family=\"Times-Roman\" font-size=\"14.00\">π */6;</text>\n",
       "</g>\n",
       "</g>\n",
       "</svg>\n"
      ],
      "text/plain": [
       "<LazyFrame at 0x7F477A89FF80>"
      ]
     },
     "execution_count": 8,
     "metadata": {},
     "output_type": "execute_result"
    }
   ],
   "source": [
    "match_metadata = pl.scan_parquet(\n",
    "    \"s3://seanome-kmerseek/scope-benchmark/reference_files/scop.e.2.08.match_metadata.pq\"\n",
    ")\n",
    "match_metadata"
   ]
  },
  {
   "cell_type": "code",
   "execution_count": null,
   "id": "ea29dac9-aa78-412c-9bfc-44e48ae08ddd",
   "metadata": {
    "execution": {
     "iopub.execute_input": "2024-10-30T21:17:45.774368Z",
     "iopub.status.busy": "2024-10-30T21:17:45.773772Z"
    }
   },
   "outputs": [
    {
     "name": "stderr",
     "output_type": "stream",
     "text": [
      "2024-10-30 21:17 - DEBUG - \n",
      "\n",
      "--- moltype: hp, ksize: 10 --\n",
      "\n",
      "\n",
      "--- moltype: hp, ksize: 10 --\n",
      "2024-10-30 21:17 - DEBUG - \n",
      "Reading /home/ec2-user/data/seanome-kmerseek/scope-benchmark/pipeline-outputs/2024-10-09__hp_k20-60/sourmash/multisearch/astral-scopedom-seqres-gd-sel-gs-bib-40-2.08.part_001.fa--in--astral-scopedom-seqres-gd-sel-gs-bib-40-2.08.part_001.fa.hp.10.multisearch.pq ...\n",
      "\n",
      "Reading /home/ec2-user/data/seanome-kmerseek/scope-benchmark/pipeline-outputs/2024-10-09__hp_k20-60/sourmash/multisearch/astral-scopedom-seqres-gd-sel-gs-bib-40-2.08.part_001.fa--in--astral-scopedom-seqres-gd-sel-gs-bib-40-2.08.part_001.fa.hp.10.multisearch.pq ...\n",
      "2024-10-30 21:17 - DEBUG - \tDone.\n",
      "\tDone.\n",
      "2024-10-30 21:17 - DEBUG - \n",
      "\n",
      "Joining multisearch with query and match metadata ...\n",
      "\n",
      "\n",
      "Joining multisearch with query and match metadata ...\n",
      "2024-10-30 21:17 - DEBUG - \tDone.\n",
      "\tDone.\n",
      "2024-10-30 21:17 - DEBUG - \n",
      "\n",
      "Joining multisearch with query and match metadata ...\n",
      "\n",
      "\n",
      "Joining multisearch with query and match metadata ...\n",
      "2024-10-30 21:17 - DEBUG - \tDone.\n",
      "\tDone.\n",
      "2024-10-30 21:17 - DEBUG - \n",
      "\n",
      "Joining multisearch with query and match metadata ...\n",
      "\n",
      "\n",
      "Joining multisearch with query and match metadata ...\n",
      "2024-10-30 21:17 - DEBUG - \tDone.\n",
      "\tDone.\n",
      "2024-10-30 21:17 - DEBUG - \n",
      "\n",
      "Joining multisearch with query and match metadata ...\n",
      "\n",
      "\n",
      "Joining multisearch with query and match metadata ...\n",
      "2024-10-30 21:17 - DEBUG - \tDone.\n",
      "\tDone.\n",
      "2024-10-30 21:17 - DEBUG - \n",
      "\n",
      "Joining multisearch with query and match metadata ...\n",
      "\n",
      "\n",
      "Joining multisearch with query and match metadata ...\n",
      "2024-10-30 21:17 - DEBUG - \tDone.\n",
      "\tDone.\n",
      "2024-10-30 21:17 - DEBUG - \n",
      "Creating log10 version of prob_overlap_adjusted\n",
      "\n",
      "Creating log10 version of prob_overlap_adjusted\n",
      "2024-10-30 21:17 - DEBUG - \tDone.\n",
      "\tDone.\n",
      "2024-10-30 21:17 - DEBUG - \n",
      "Creating log10 version of containment\n",
      "\n",
      "Creating log10 version of containment\n",
      "2024-10-30 21:17 - DEBUG - \tDone.\n",
      "\tDone.\n",
      "2024-10-30 21:17 - DEBUG - \n",
      "Creating log10 version of max_containment\n",
      "\n",
      "Creating log10 version of max_containment\n",
      "2024-10-30 21:17 - DEBUG - \tDone.\n",
      "\tDone.\n",
      "2024-10-30 21:17 - DEBUG - \n",
      "Creating log10 version of tf_idf_score\n",
      "\n",
      "Creating log10 version of tf_idf_score\n",
      "2024-10-30 21:17 - DEBUG - \tDone.\n",
      "\tDone.\n",
      "2024-10-30 21:17 - DEBUG - \n",
      "Creating log10 version of jaccard\n",
      "\n",
      "Creating log10 version of jaccard\n",
      "2024-10-30 21:17 - DEBUG - \tDone.\n",
      "\tDone.\n",
      "2024-10-30 21:17 - DEBUG - \n",
      "Saving multisearch file, filtered: False\n",
      "\n",
      "Saving multisearch file, filtered: False\n",
      "join parallel: true\n",
      "join parallel: true\n",
      "POLARS PREFETCH_SIZE: 32\n",
      "POLARS PREFETCH_SIZE: 32\n",
      "querying metadata of 1/1 files...\n",
      "querying metadata of 1/1 files...\n",
      "reading of 1/1 file...\n",
      "reading of 1/1 file...\n",
      "POLARS ROW_GROUP PREFETCH_SIZE: 128\n",
      "POLARS ROW_GROUP PREFETCH_SIZE: 128\n"
     ]
    }
   ],
   "source": [
    "# Skip ksizes 5 and 6 for now because those files are enormous, 2.3 GiB for k=5 and 175 MiB for k=6\n",
    "# # -> Figure out how to use polars later\n",
    "# ksizes = range(7, 21)\n",
    "# moltype = \"protein\"\n",
    "\n",
    "moltype_info = {\n",
    "    # \"protein\": dict(\n",
    "    #     ksizes=range(5, 21),\n",
    "    #     pipeline_outdir=\"s3://seanome-kmerseek/scope-benchmark/pipeline-outputs/2024-10-08__protein_k5-20\",\n",
    "    #     analysis_outdir=\"s3://seanome-kmerseek/scope-benchmark/analysis-outputs/protein\",\n",
    "    # ),\n",
    "    # \"dayhoff\": dict(\n",
    "    #     ksizes=range(5, 21),\n",
    "    #     pipeline_outdir=\"s3://seanome-kmerseek/scope-benchmark/pipeline-outputs/2024-10-09__dayhoff_k5-20\",\n",
    "    #     analysis_outdir=\"s3://seanome-kmerseek/scope-benchmark/analysis-outputs/dayhoff\",\n",
    "    # ),\n",
    "    \"hp\": dict(\n",
    "        ksizes=range(10, 20),\n",
    "        # pipeline_outdir=\"s3://seanome-kmerseek/scope-benchmark/pipeline-outputs/2024-10-09__hp_k20-60\",\n",
    "        pipeline_outdir=\"/home/ec2-user/data/seanome-kmerseek/scope-benchmark/pipeline-outputs/2024-10-09__hp_k20-60\",\n",
    "        analysis_outdir=\"s3://seanome-kmerseek/scope-benchmark/analysis-outputs/hp\",\n",
    "    ),\n",
    "}\n",
    "\n",
    "for moltype, info in moltype_info.items():\n",
    "    ksizes = info[\"ksizes\"]\n",
    "    analysis_outdir = info[\"analysis_outdir\"]\n",
    "    pipeline_outdir = info[\"pipeline_outdir\"]\n",
    "    for ksize in ksizes:\n",
    "        try:\n",
    "            parser = process_scop_sourmash_multisearch_polars.MultisearchParser(\n",
    "                query_metadata=query_metadata,\n",
    "                match_metadata=match_metadata,\n",
    "                pipeline_outdir=pipeline_outdir,\n",
    "                moltype=moltype,\n",
    "                ksize=ksize,\n",
    "                analysis_outdir=analysis_outdir,\n",
    "                verbose=True,\n",
    "                input_filetype=\"pq\",\n",
    "            )\n",
    "            lf = parser.process_multisearch_scop_results()\n",
    "            # lf.head().collect()\n",
    "        except FileNotFoundError:\n",
    "            pass\n",
    "    # break\n",
    "multisearch_metadata_filtered.head()"
   ]
  },
  {
   "cell_type": "code",
   "execution_count": 10,
   "id": "d898c7d6-0f1e-45db-be20-d4b93685f61f",
   "metadata": {
    "execution": {
     "iopub.execute_input": "2024-10-30T21:17:39.489276Z",
     "iopub.status.busy": "2024-10-30T21:17:39.489160Z",
     "iopub.status.idle": "2024-10-30T21:17:39.491927Z",
     "shell.execute_reply": "2024-10-30T21:17:39.491649Z",
     "shell.execute_reply.started": "2024-10-30T21:17:39.489266Z"
    }
   },
   "outputs": [],
   "source": [
    "# %debug"
   ]
  },
  {
   "cell_type": "code",
   "execution_count": 11,
   "id": "934b8064-44bc-4239-9942-76a2a2695536",
   "metadata": {
    "execution": {
     "iopub.execute_input": "2024-10-30T21:17:39.492359Z",
     "iopub.status.busy": "2024-10-30T21:17:39.492257Z",
     "iopub.status.idle": "2024-10-30T21:17:39.495268Z",
     "shell.execute_reply": "2024-10-30T21:17:39.494969Z",
     "shell.execute_reply.started": "2024-10-30T21:17:39.492349Z"
    }
   },
   "outputs": [],
   "source": [
    "# ! aws s3 ls --human-readable \\\n",
    "#     s3://seanome-kmerseek/scope-benchmark/pipeline-outputs/2024-10-09__hp_k20-60/sourmash/multisearch/astral-scopedom-seqres-gd-sel-gs-bib-40-2.08.part_001.fa--in--astral-scopedom-seqres-gd-sel-gs-bib-40-2.08.part_001.fa.hp.10.multisearch.csv"
   ]
  },
  {
   "cell_type": "code",
   "execution_count": 12,
   "id": "d8dfc013-aefa-44ce-b3d0-7e86ff0a5406",
   "metadata": {
    "execution": {
     "iopub.execute_input": "2024-10-30T21:17:39.495891Z",
     "iopub.status.busy": "2024-10-30T21:17:39.495627Z",
     "iopub.status.idle": "2024-10-30T21:17:39.499002Z",
     "shell.execute_reply": "2024-10-30T21:17:39.498723Z",
     "shell.execute_reply.started": "2024-10-30T21:17:39.495879Z"
    }
   },
   "outputs": [],
   "source": [
    "# ! aws s3 ls s3://seanome-kmerseek/scope-benchmark/pipeline-outputs/2024-10-09__hp_k20-60/sourmash/multisearch/"
   ]
  },
  {
   "cell_type": "code",
   "execution_count": null,
   "id": "47b1cb02-cb58-4f5d-a8d9-5046853e9079",
   "metadata": {
    "execution": {
     "iopub.status.busy": "2024-10-30T18:00:30.154884Z",
     "iopub.status.idle": "2024-10-30T18:00:30.154994Z",
     "shell.execute_reply": "2024-10-30T18:00:30.154944Z",
     "shell.execute_reply.started": "2024-10-30T18:00:30.154939Z"
    }
   },
   "outputs": [],
   "source": [
    "multisearch_metadata_filtered.dtypes"
   ]
  },
  {
   "cell_type": "code",
   "execution_count": null,
   "id": "93f8408d-7495-4924-9da0-72f0ee2a87f5",
   "metadata": {},
   "outputs": [],
   "source": []
  },
  {
   "cell_type": "code",
   "execution_count": null,
   "id": "9a065d4c-6283-44fa-b795-26b72b5080d7",
   "metadata": {},
   "outputs": [],
   "source": []
  },
  {
   "cell_type": "code",
   "execution_count": 1,
   "id": "7faac186-42ff-4ff8-9d4b-269d01e2dec5",
   "metadata": {
    "execution": {
     "iopub.execute_input": "2024-10-30T21:11:19.183293Z",
     "iopub.status.busy": "2024-10-30T21:11:19.182837Z",
     "iopub.status.idle": "2024-10-30T21:11:19.185363Z",
     "shell.execute_reply": "2024-10-30T21:11:19.185103Z",
     "shell.execute_reply.started": "2024-10-30T21:11:19.183276Z"
    }
   },
   "outputs": [],
   "source": [
    "import logging"
   ]
  },
  {
   "cell_type": "code",
   "execution_count": 2,
   "id": "af0435ce-ff4d-4c2d-8d65-4e39443d4fd5",
   "metadata": {
    "execution": {
     "iopub.execute_input": "2024-10-30T21:11:26.481125Z",
     "iopub.status.busy": "2024-10-30T21:11:26.480789Z",
     "iopub.status.idle": "2024-10-30T21:11:26.483412Z",
     "shell.execute_reply": "2024-10-30T21:11:26.483047Z",
     "shell.execute_reply.started": "2024-10-30T21:11:26.481109Z"
    }
   },
   "outputs": [],
   "source": [
    "logging.basicConfig(\n",
    "    format=\"{asctime} - {levelname} - {message}\",\n",
    "    style=\"{\",\n",
    "    datefmt=\"%Y-%m-%d %H:%M\",\n",
    ")"
   ]
  },
  {
   "cell_type": "code",
   "execution_count": 12,
   "id": "42087bfe-f64e-48d1-9661-ee13e110d6f9",
   "metadata": {
    "execution": {
     "iopub.execute_input": "2024-10-30T21:13:56.342528Z",
     "iopub.status.busy": "2024-10-30T21:13:56.341870Z",
     "iopub.status.idle": "2024-10-30T21:13:56.346113Z",
     "shell.execute_reply": "2024-10-30T21:13:56.345745Z",
     "shell.execute_reply.started": "2024-10-30T21:13:56.342511Z"
    }
   },
   "outputs": [
    {
     "name": "stderr",
     "output_type": "stream",
     "text": [
      "2024-10-30 21:13 - DEBUG - debug\n",
      "debug\n",
      "2024-10-30 21:13 - INFO - info\n",
      "info\n"
     ]
    }
   ],
   "source": [
    "# logging.basicConfig(level=logging.DEBUG)\n",
    "\n",
    "# logger = logging.getLogger()\n",
    "# logger.setLevel(logging.DEBUG)\n",
    "\n",
    "# handler = logging.StreamHandler()\n",
    "# logger.addHandler(handler)\n",
    "\n",
    "# logging.debug(\"debug\")\n",
    "# logging.info(\"info\")"
   ]
  },
  {
   "cell_type": "code",
   "execution_count": null,
   "id": "b64b5adf-fb77-4942-92bf-36acde142653",
   "metadata": {},
   "outputs": [],
   "source": []
  }
 ],
 "metadata": {
  "kernelspec": {
   "display_name": "Python [conda env:2024-kmerseek-analysis-polars]",
   "language": "python",
   "name": "conda-env-2024-kmerseek-analysis-polars-py"
  },
  "language_info": {
   "codemirror_mode": {
    "name": "ipython",
    "version": 3
   },
   "file_extension": ".py",
   "mimetype": "text/x-python",
   "name": "python",
   "nbconvert_exporter": "python",
   "pygments_lexer": "ipython3",
   "version": "3.12.7"
  }
 },
 "nbformat": 4,
 "nbformat_minor": 5
}
