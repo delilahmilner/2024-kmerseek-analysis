{
 "cells": [
  {
   "cell_type": "markdown",
   "id": "704d881e-50f8-4427-b75f-dec0606a80fc",
   "metadata": {},
   "source": [
    "# Imports and setup"
   ]
  },
  {
   "cell_type": "markdown",
   "id": "db740d49-eb0a-4c98-9841-9d85bb8aa663",
   "metadata": {},
   "source": [
    "### Auto-re-import python modules, useful for editing local files"
   ]
  },
  {
   "cell_type": "code",
   "execution_count": 2,
   "id": "856088a0-cad6-475c-9c0d-b62d7024466a",
   "metadata": {},
   "outputs": [],
   "source": [
    "%load_ext autoreload\n",
    "%autoreload 2"
   ]
  },
  {
   "cell_type": "markdown",
   "id": "42e88362-eae0-4d50-b7dc-08ff8b44300e",
   "metadata": {},
   "source": [
    "## Imports"
   ]
  },
  {
   "cell_type": "code",
   "execution_count": 3,
   "id": "2a5499bb-5390-4ddc-8908-147a373ba951",
   "metadata": {},
   "outputs": [],
   "source": [
    "import itertools\n",
    "import warnings\n",
    "from collections import Counter\n",
    "\n",
    "import matplotlib as mpl\n",
    "import numpy as np\n",
    "import pandas as pd\n",
    "import polars as pl\n",
    "import seaborn as sns\n",
    "from tqdm import tqdm\n",
    "\n",
    "pd.options.display.max_columns = 100\n",
    "\n",
    "mpl.rcParams[\"figure.max_open_warning\"] = 0"
   ]
  },
  {
   "cell_type": "code",
   "execution_count": 4,
   "id": "0d6039bd-42ad-432c-8369-4e2f8df1a1ac",
   "metadata": {},
   "outputs": [],
   "source": [
    "assert pl.__version__ == \"1.9.0\""
   ]
  },
  {
   "cell_type": "markdown",
   "id": "79a69c5d-3e6e-44e1-9dba-d17f26608d72",
   "metadata": {},
   "source": [
    "# Read in data"
   ]
  },
  {
   "cell_type": "code",
   "execution_count": 5,
   "id": "4c9f7ed7-0740-4365-8272-d3876da41955",
   "metadata": {},
   "outputs": [],
   "source": [
    "lineage_cols = [\"family\", \"superfamily\", \"fold\", \"class\"]"
   ]
  },
  {
   "cell_type": "markdown",
   "id": "c874953a-7c85-4531-96de-6c1be69b6b46",
   "metadata": {},
   "source": [
    "# Iterate over all protein benchmarks, randomly sampling 1000 queries to compare across moltypes and ksizes"
   ]
  },
  {
   "cell_type": "markdown",
   "id": "7b32a039-49d7-4de1-b2af-25061f7eb257",
   "metadata": {},
   "source": [
    "### Read one example file to get query names"
   ]
  },
  {
   "cell_type": "code",
   "execution_count": 6,
   "id": "96e89b60-df99-4ce9-950a-fd735a2ccad1",
   "metadata": {},
   "outputs": [
    {
     "name": "stderr",
     "output_type": "stream",
     "text": [
      "/tmp/ipykernel_18056/3307523111.py:2: UserWarning: '(default_)region' not set; polars will try to get it from bucket\n",
      "\n",
      "Set the region manually to silence this warning.\n",
      "  multisearch = pl.read_parquet(pq)\n"
     ]
    },
    {
     "data": {
      "text/html": [
       "<div><style>\n",
       ".dataframe > thead > tr,\n",
       ".dataframe > tbody > tr {\n",
       "  text-align: right;\n",
       "  white-space: pre-wrap;\n",
       "}\n",
       "</style>\n",
       "<small>shape: (1_000,)</small><table border=\"1\" class=\"dataframe\"><thead><tr><th>query_name</th></tr><tr><td>str</td></tr></thead><tbody><tr><td>&quot;d3mgka_ c.23.16.0 (A:) automat…</td></tr><tr><td>&quot;d5aooc_ b.121.4.0 (C:) automat…</td></tr><tr><td>&quot;d5jgya_ c.1.7.0 (A:) automated…</td></tr><tr><td>&quot;d1mw7a_ e.39.1.1 (A:) Hypothet…</td></tr><tr><td>&quot;d2nvwa2 d.81.1.5 (A:155-373) G…</td></tr><tr><td>&hellip;</td></tr><tr><td>&quot;d1jpdx2 d.54.1.1 (X:-2-113) L-…</td></tr><tr><td>&quot;d1h3za_ b.34.9.2 (A:) Hypothet…</td></tr><tr><td>&quot;d6oa6a1 a.40.1.0 (A:47-160) au…</td></tr><tr><td>&quot;d4dnda_ a.47.2.1 (A:) automate…</td></tr><tr><td>&quot;d2h6ra_ c.1.1.1 (A:) Triosepho…</td></tr></tbody></table></div>"
      ],
      "text/plain": [
       "shape: (1_000,)\n",
       "Series: 'query_name' [str]\n",
       "[\n",
       "\t\"d3mgka_ c.23.16.0 (A:) automat…\n",
       "\t\"d5aooc_ b.121.4.0 (C:) automat…\n",
       "\t\"d5jgya_ c.1.7.0 (A:) automated…\n",
       "\t\"d1mw7a_ e.39.1.1 (A:) Hypothet…\n",
       "\t\"d2nvwa2 d.81.1.5 (A:155-373) G…\n",
       "\t…\n",
       "\t\"d1jpdx2 d.54.1.1 (X:-2-113) L-…\n",
       "\t\"d1h3za_ b.34.9.2 (A:) Hypothet…\n",
       "\t\"d6oa6a1 a.40.1.0 (A:47-160) au…\n",
       "\t\"d4dnda_ a.47.2.1 (A:) automate…\n",
       "\t\"d2h6ra_ c.1.1.1 (A:) Triosepho…\n",
       "]"
      ]
     },
     "execution_count": 6,
     "metadata": {},
     "output_type": "execute_result"
    }
   ],
   "source": [
    "pq = \"s3://seanome-kmerseek/scope-benchmark/analysis-outputs/2024-10-09__hp_k20-60/00_cleaned_multisearch_results/scope40.multisearch.hp.k40.pq\"\n",
    "multisearch = pl.read_parquet(pq)\n",
    "\n",
    "randomly_chosen_queries = multisearch[\"query_name\"].unique().sample(1000, seed=0)\n",
    "randomly_chosen_queries"
   ]
  },
  {
   "cell_type": "code",
   "execution_count": 7,
   "id": "eac5036d-aabf-4d70-86f9-7ae2c8d3ff82",
   "metadata": {},
   "outputs": [
    {
     "name": "stdout",
     "output_type": "stream",
     "text": [
      "moltype: protein\n",
      "moltype: dayhoff\n",
      "moltype: hp\n"
     ]
    }
   ],
   "source": [
    "def make_multisearch_pq(\n",
    "    analysis_outdir,\n",
    "    moltype,\n",
    "    ksize,\n",
    "):\n",
    "    basename = f\"scope40.multisearch.{moltype}.k{ksize}.pq\"\n",
    "    pq = f\"{analysis_outdir}/00_cleaned_multisearch_results/{basename}\"\n",
    "    return pq\n",
    "\n",
    "\n",
    "moltype_info = {\n",
    "    \"protein\": dict(\n",
    "        ksizes=range(5, 21),\n",
    "        pipeline_outdir=\"s3://seanome-kmerseek/scope-benchmark/pipeline-outputs/2024-10-08__protein_k5-20\",\n",
    "        analysis_outdir=\"s3://seanome-kmerseek/scope-benchmark/analysis-outputs/2024-10-09__protein_k5-20\",\n",
    "    ),\n",
    "    \"dayhoff\": dict(\n",
    "        ksizes=range(5, 21),\n",
    "        pipeline_outdir=\"s3://seanome-kmerseek/scope-benchmark/pipeline-outputs/2024-10-09__dayhoff_k5-20\",\n",
    "        analysis_outdir=\"s3://seanome-kmerseek/scope-benchmark/analysis-outputs/2024-10-09__dayhoff_k5-20\",\n",
    "    ),\n",
    "    \"hp\": dict(\n",
    "        ksizes=range(20, 61),\n",
    "        pipeline_outdir=\"s3://seanome-kmerseek/scope-benchmark/pipeline-outputs/2024-10-09__hp_k20-60\",\n",
    "        analysis_outdir=\"s3://seanome-kmerseek/scope-benchmark/analysis-outputs/2024-10-09__hp_k20-60\",\n",
    "    ),\n",
    "}\n",
    "\n",
    "\n",
    "def add_log10_col(df, col):\n",
    "    return df.with_columns(pl.col(col).log10().alias(f\"{col}_log10\"))\n",
    "\n",
    "\n",
    "def process_multisearch_results(analysis_outidr, moltype, ksize):\n",
    "    pq = make_multisearch_pq(analysis_outdir, moltype, ksize)\n",
    "    scanned = pl.scan_parquet(pq)\n",
    "    df = scanned.filter(pl.col(\"query_name\").is_in(randomly_chosen_queries)).collect()\n",
    "\n",
    "    df = add_log10_col(df, \"prob_overlap_adjusted\")\n",
    "    df = add_log10_col(df, \"containment\")\n",
    "    df = add_log10_col(df, \"max_containment\")\n",
    "    df = add_log10_col(df, \"tf_idf_score\")\n",
    "    df = add_log10_col(df, \"jaccard\")\n",
    "\n",
    "    melted = melt_sourmash_scop(df)\n",
    "\n",
    "    melted = melted.with_columns(pl.lit(ksize).alias(\"ksize\"))\n",
    "    melted = melted.with_columns(pl.lit(moltype).alias(\"moltype\"))\n",
    "    return melted\n",
    "\n",
    "\n",
    "def melt_sourmash_scop(\n",
    "    df,\n",
    "    same_lineage_cols=[\"same_family\", \"same_superfamily\", \"same_fold\", \"same_class\"],\n",
    "    sourmash_score_cols=[\n",
    "        \"containment_log10\",\n",
    "        \"max_containment_log10\",\n",
    "        \"jaccard_log10\",\n",
    "        \"intersect_hashes\",\n",
    "        \"containment_adjusted_log10\",\n",
    "        \"tf_idf_score_log10\",\n",
    "        \"prob_overlap_adjusted_log10\",\n",
    "    ],\n",
    "):\n",
    "\n",
    "    df_melt_scop_levels = df.unpivot(\n",
    "        index=[\"query_name\", \"match_name\"],\n",
    "        on=same_lineage_cols,\n",
    "        variable_name=\"scop_level\",\n",
    "        value_name=\"is_same\",\n",
    "    )\n",
    "    df_melt_scop_levels = df_melt_scop_levels.with_columns(\n",
    "        pl.col(\"scop_level\").str.split(\"_\").list.last().alias(\"scop_level\")\n",
    "    )\n",
    "\n",
    "    df_melt_sourmash_score = df.unpivot(\n",
    "        index=[\"query_name\", \"match_name\"],\n",
    "        on=sourmash_score_cols,\n",
    "        variable_name=\"sourmash_score\",\n",
    "        value_name=\"score_value\",\n",
    "    )\n",
    "    melt_combined = df_melt_sourmash_score.join(\n",
    "        df_melt_scop_levels, on=[\"query_name\", \"match_name\"]\n",
    "    )\n",
    "\n",
    "    return melt_combined\n",
    "\n",
    "    # print(multisearch_melt_sourmash_score.shape)\n",
    "    # multisearch_melt_sourmash_score.head()\n",
    "\n",
    "\n",
    "dfs = []\n",
    "\n",
    "for moltype, info in moltype_info.items():\n",
    "    ksizes = info[\"ksizes\"]\n",
    "    analysis_outdir = info[\"analysis_outdir\"]\n",
    "    print(f\"moltype: {moltype}\")\n",
    "    for ksize in ksizes:\n",
    "        try:\n",
    "            df = process_multisearch_results(analysis_outdir, moltype, ksize)\n",
    "            dfs.append(df)\n",
    "        except pl.exceptions.ComputeError:\n",
    "            pass"
   ]
  },
  {
   "cell_type": "code",
   "execution_count": 8,
   "id": "6fecd2ee-0a26-4573-b0d3-8783e6eb310b",
   "metadata": {},
   "outputs": [
    {
     "data": {
      "text/html": [
       "<div><style>\n",
       ".dataframe > thead > tr,\n",
       ".dataframe > tbody > tr {\n",
       "  text-align: right;\n",
       "  white-space: pre-wrap;\n",
       "}\n",
       "</style>\n",
       "<small>shape: (27_040_720, 8)</small><table border=\"1\" class=\"dataframe\"><thead><tr><th>query_name</th><th>match_name</th><th>sourmash_score</th><th>score_value</th><th>scop_level</th><th>is_same</th><th>ksize</th><th>moltype</th></tr><tr><td>str</td><td>str</td><td>str</td><td>f64</td><td>str</td><td>bool</td><td>i32</td><td>str</td></tr></thead><tbody><tr><td>&quot;d2cqka1 a.4.5.46 (A:43-130) La…</td><td>&quot;d4j42a_ a.25.3.0 (A:) automate…</td><td>&quot;containment_log10&quot;</td><td>-1.924279</td><td>&quot;family&quot;</td><td>false</td><td>5</td><td>&quot;protein&quot;</td></tr><tr><td>&quot;d2cqka1 a.4.5.46 (A:43-130) La…</td><td>&quot;d4j42a_ a.25.3.0 (A:) automate…</td><td>&quot;containment_log10&quot;</td><td>-1.924279</td><td>&quot;superfamily&quot;</td><td>false</td><td>5</td><td>&quot;protein&quot;</td></tr><tr><td>&quot;d2cqka1 a.4.5.46 (A:43-130) La…</td><td>&quot;d4j42a_ a.25.3.0 (A:) automate…</td><td>&quot;containment_log10&quot;</td><td>-1.924279</td><td>&quot;fold&quot;</td><td>false</td><td>5</td><td>&quot;protein&quot;</td></tr><tr><td>&quot;d2cqka1 a.4.5.46 (A:43-130) La…</td><td>&quot;d4j42a_ a.25.3.0 (A:) automate…</td><td>&quot;containment_log10&quot;</td><td>-1.924279</td><td>&quot;class&quot;</td><td>true</td><td>5</td><td>&quot;protein&quot;</td></tr><tr><td>&quot;d6vzda_ a.64.1.0 (A:) automate…</td><td>&quot;d4j42a_ a.25.3.0 (A:) automate…</td><td>&quot;containment_log10&quot;</td><td>-1.875061</td><td>&quot;family&quot;</td><td>false</td><td>5</td><td>&quot;protein&quot;</td></tr><tr><td>&hellip;</td><td>&hellip;</td><td>&hellip;</td><td>&hellip;</td><td>&hellip;</td><td>&hellip;</td><td>&hellip;</td><td>&hellip;</td></tr><tr><td>&quot;d2q6ka1 c.132.1.0 (A:1-163) au…</td><td>&quot;d2q6ka1 c.132.1.0 (A:1-163) au…</td><td>&quot;prob_overlap_adjusted_log10&quot;</td><td>-2.187956</td><td>&quot;class&quot;</td><td>true</td><td>60</td><td>&quot;hp&quot;</td></tr><tr><td>&quot;d2wcua_ c.133.1.0 (A:) automat…</td><td>&quot;d2wcua_ c.133.1.0 (A:) automat…</td><td>&quot;prob_overlap_adjusted_log10&quot;</td><td>-2.250747</td><td>&quot;family&quot;</td><td>true</td><td>60</td><td>&quot;hp&quot;</td></tr><tr><td>&quot;d2wcua_ c.133.1.0 (A:) automat…</td><td>&quot;d2wcua_ c.133.1.0 (A:) automat…</td><td>&quot;prob_overlap_adjusted_log10&quot;</td><td>-2.250747</td><td>&quot;superfamily&quot;</td><td>true</td><td>60</td><td>&quot;hp&quot;</td></tr><tr><td>&quot;d2wcua_ c.133.1.0 (A:) automat…</td><td>&quot;d2wcua_ c.133.1.0 (A:) automat…</td><td>&quot;prob_overlap_adjusted_log10&quot;</td><td>-2.250747</td><td>&quot;fold&quot;</td><td>true</td><td>60</td><td>&quot;hp&quot;</td></tr><tr><td>&quot;d2wcua_ c.133.1.0 (A:) automat…</td><td>&quot;d2wcua_ c.133.1.0 (A:) automat…</td><td>&quot;prob_overlap_adjusted_log10&quot;</td><td>-2.250747</td><td>&quot;class&quot;</td><td>true</td><td>60</td><td>&quot;hp&quot;</td></tr></tbody></table></div>"
      ],
      "text/plain": [
       "shape: (27_040_720, 8)\n",
       "┌──────────────┬─────────────┬─────────────┬─────────────┬─────────────┬─────────┬───────┬─────────┐\n",
       "│ query_name   ┆ match_name  ┆ sourmash_sc ┆ score_value ┆ scop_level  ┆ is_same ┆ ksize ┆ moltype │\n",
       "│ ---          ┆ ---         ┆ ore         ┆ ---         ┆ ---         ┆ ---     ┆ ---   ┆ ---     │\n",
       "│ str          ┆ str         ┆ ---         ┆ f64         ┆ str         ┆ bool    ┆ i32   ┆ str     │\n",
       "│              ┆             ┆ str         ┆             ┆             ┆         ┆       ┆         │\n",
       "╞══════════════╪═════════════╪═════════════╪═════════════╪═════════════╪═════════╪═══════╪═════════╡\n",
       "│ d2cqka1      ┆ d4j42a_     ┆ containment ┆ -1.924279   ┆ family      ┆ false   ┆ 5     ┆ protein │\n",
       "│ a.4.5.46     ┆ a.25.3.0    ┆ _log10      ┆             ┆             ┆         ┆       ┆         │\n",
       "│ (A:43-130)   ┆ (A:)        ┆             ┆             ┆             ┆         ┆       ┆         │\n",
       "│ La…          ┆ automate…   ┆             ┆             ┆             ┆         ┆       ┆         │\n",
       "│ d2cqka1      ┆ d4j42a_     ┆ containment ┆ -1.924279   ┆ superfamily ┆ false   ┆ 5     ┆ protein │\n",
       "│ a.4.5.46     ┆ a.25.3.0    ┆ _log10      ┆             ┆             ┆         ┆       ┆         │\n",
       "│ (A:43-130)   ┆ (A:)        ┆             ┆             ┆             ┆         ┆       ┆         │\n",
       "│ La…          ┆ automate…   ┆             ┆             ┆             ┆         ┆       ┆         │\n",
       "│ d2cqka1      ┆ d4j42a_     ┆ containment ┆ -1.924279   ┆ fold        ┆ false   ┆ 5     ┆ protein │\n",
       "│ a.4.5.46     ┆ a.25.3.0    ┆ _log10      ┆             ┆             ┆         ┆       ┆         │\n",
       "│ (A:43-130)   ┆ (A:)        ┆             ┆             ┆             ┆         ┆       ┆         │\n",
       "│ La…          ┆ automate…   ┆             ┆             ┆             ┆         ┆       ┆         │\n",
       "│ d2cqka1      ┆ d4j42a_     ┆ containment ┆ -1.924279   ┆ class       ┆ true    ┆ 5     ┆ protein │\n",
       "│ a.4.5.46     ┆ a.25.3.0    ┆ _log10      ┆             ┆             ┆         ┆       ┆         │\n",
       "│ (A:43-130)   ┆ (A:)        ┆             ┆             ┆             ┆         ┆       ┆         │\n",
       "│ La…          ┆ automate…   ┆             ┆             ┆             ┆         ┆       ┆         │\n",
       "│ d6vzda_      ┆ d4j42a_     ┆ containment ┆ -1.875061   ┆ family      ┆ false   ┆ 5     ┆ protein │\n",
       "│ a.64.1.0     ┆ a.25.3.0    ┆ _log10      ┆             ┆             ┆         ┆       ┆         │\n",
       "│ (A:)         ┆ (A:)        ┆             ┆             ┆             ┆         ┆       ┆         │\n",
       "│ automate…    ┆ automate…   ┆             ┆             ┆             ┆         ┆       ┆         │\n",
       "│ …            ┆ …           ┆ …           ┆ …           ┆ …           ┆ …       ┆ …     ┆ …       │\n",
       "│ d2q6ka1      ┆ d2q6ka1     ┆ prob_overla ┆ -2.187956   ┆ class       ┆ true    ┆ 60    ┆ hp      │\n",
       "│ c.132.1.0    ┆ c.132.1.0   ┆ p_adjusted_ ┆             ┆             ┆         ┆       ┆         │\n",
       "│ (A:1-163)    ┆ (A:1-163)   ┆ log10       ┆             ┆             ┆         ┆       ┆         │\n",
       "│ au…          ┆ au…         ┆             ┆             ┆             ┆         ┆       ┆         │\n",
       "│ d2wcua_      ┆ d2wcua_     ┆ prob_overla ┆ -2.250747   ┆ family      ┆ true    ┆ 60    ┆ hp      │\n",
       "│ c.133.1.0    ┆ c.133.1.0   ┆ p_adjusted_ ┆             ┆             ┆         ┆       ┆         │\n",
       "│ (A:)         ┆ (A:)        ┆ log10       ┆             ┆             ┆         ┆       ┆         │\n",
       "│ automat…     ┆ automat…    ┆             ┆             ┆             ┆         ┆       ┆         │\n",
       "│ d2wcua_      ┆ d2wcua_     ┆ prob_overla ┆ -2.250747   ┆ superfamily ┆ true    ┆ 60    ┆ hp      │\n",
       "│ c.133.1.0    ┆ c.133.1.0   ┆ p_adjusted_ ┆             ┆             ┆         ┆       ┆         │\n",
       "│ (A:)         ┆ (A:)        ┆ log10       ┆             ┆             ┆         ┆       ┆         │\n",
       "│ automat…     ┆ automat…    ┆             ┆             ┆             ┆         ┆       ┆         │\n",
       "│ d2wcua_      ┆ d2wcua_     ┆ prob_overla ┆ -2.250747   ┆ fold        ┆ true    ┆ 60    ┆ hp      │\n",
       "│ c.133.1.0    ┆ c.133.1.0   ┆ p_adjusted_ ┆             ┆             ┆         ┆       ┆         │\n",
       "│ (A:)         ┆ (A:)        ┆ log10       ┆             ┆             ┆         ┆       ┆         │\n",
       "│ automat…     ┆ automat…    ┆             ┆             ┆             ┆         ┆       ┆         │\n",
       "│ d2wcua_      ┆ d2wcua_     ┆ prob_overla ┆ -2.250747   ┆ class       ┆ true    ┆ 60    ┆ hp      │\n",
       "│ c.133.1.0    ┆ c.133.1.0   ┆ p_adjusted_ ┆             ┆             ┆         ┆       ┆         │\n",
       "│ (A:)         ┆ (A:)        ┆ log10       ┆             ┆             ┆         ┆       ┆         │\n",
       "│ automat…     ┆ automat…    ┆             ┆             ┆             ┆         ┆       ┆         │\n",
       "└──────────────┴─────────────┴─────────────┴─────────────┴─────────────┴─────────┴───────┴─────────┘"
      ]
     },
     "execution_count": 8,
     "metadata": {},
     "output_type": "execute_result"
    }
   ],
   "source": [
    "multisearch_moltype_ksize = pl.concat(dfs)\n",
    "multisearch_moltype_ksize"
   ]
  },
  {
   "cell_type": "code",
   "execution_count": 16,
   "id": "914ae5ad-73cc-48d1-86a5-1e01b87ad50c",
   "metadata": {},
   "outputs": [
    {
     "name": "stderr",
     "output_type": "stream",
     "text": [
      "/tmp/ipykernel_18056/2295335737.py:9: UserWarning: Polars found a filename. Ensure you pass a path to the file instead of a python file object when possible for best performance.\n",
      "  multisearch_moltype_ksize.write_parquet(f)\n"
     ]
    }
   ],
   "source": [
    "import s3fs\n",
    "\n",
    "fs = s3fs.S3FileSystem()\n",
    "# fs.ls('seanome-kmerseek')\n",
    "\n",
    "pq = \"s3://seanome-kmerseek/scope-benchmark/analysis-outputs/2024-10-11__subsample_1000_queries/multisearch.subsampled.1000.protein.dayhoff.hp.pq\"\n",
    "\n",
    "with fs.open(pq, mode=\"wb\") as f:\n",
    "    multisearch_moltype_ksize.write_parquet(f)"
   ]
  },
  {
   "cell_type": "code",
   "execution_count": null,
   "id": "9166fcf1-d42f-40ba-84b2-df8f3a74df81",
   "metadata": {},
   "outputs": [],
   "source": []
  },
  {
   "cell_type": "code",
   "execution_count": null,
   "id": "31b58d7b-7557-4c8e-8840-4365580b9599",
   "metadata": {},
   "outputs": [],
   "source": []
  }
 ],
 "metadata": {
  "kernelspec": {
   "display_name": "Python [conda env:2024-kmerseek-analysis-polars]",
   "language": "python",
   "name": "conda-env-2024-kmerseek-analysis-polars-py"
  },
  "language_info": {
   "codemirror_mode": {
    "name": "ipython",
    "version": 3
   },
   "file_extension": ".py",
   "mimetype": "text/x-python",
   "name": "python",
   "nbconvert_exporter": "python",
   "pygments_lexer": "ipython3",
   "version": "3.12.7"
  }
 },
 "nbformat": 4,
 "nbformat_minor": 5
}
