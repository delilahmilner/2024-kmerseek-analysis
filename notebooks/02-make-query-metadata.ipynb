{
 "cells": [
  {
   "cell_type": "code",
   "execution_count": 2,
   "id": "f0f4db6c-e14d-4778-a4f4-05f9b28b45e4",
   "metadata": {},
   "outputs": [],
   "source": [
    "%load_ext autoreload\n",
    "%autoreload 2"
   ]
  },
  {
   "cell_type": "markdown",
   "id": "2678d5fc-682d-48b9-9cff-33f8308c63c9",
   "metadata": {},
   "source": [
    "## Imports"
   ]
  },
  {
   "cell_type": "code",
   "execution_count": 1,
   "id": "4f5b48d8-bac0-4c16-8049-33bb46b8a0e9",
   "metadata": {},
   "outputs": [],
   "source": [
    "import itertools\n",
    "import warnings\n",
    "from collections import Counter\n",
    "\n",
    "import matplotlib as mpl\n",
    "import numpy as np\n",
    "import pandas as pd\n",
    "import polars as pl\n",
    "import seaborn as sns\n",
    "from tqdm import tqdm\n",
    "\n",
    "pd.options.display.max_columns = 100\n",
    "\n",
    "mpl.rcParams[\"figure.max_open_warning\"] = 0"
   ]
  },
  {
   "cell_type": "code",
   "execution_count": 2,
   "id": "57ac6c21-422d-457a-a72e-35c5f3ef8c67",
   "metadata": {},
   "outputs": [],
   "source": [
    "assert pl.__version__ == \"1.9.0\""
   ]
  },
  {
   "cell_type": "markdown",
   "id": "9db64104-49eb-4721-b261-4a80f454b564",
   "metadata": {},
   "source": [
    "# Read in data"
   ]
  },
  {
   "cell_type": "markdown",
   "id": "eabf84d5-5e97-4557-a319-320e419f8cd8",
   "metadata": {},
   "source": [
    "## read in unfiltered data\n",
    "\n",
    "The unfiltered data uses the fixed SCOP lookups provided by FoldSeek authors"
   ]
  },
  {
   "cell_type": "code",
   "execution_count": 3,
   "id": "b674ef08-6296-4e5c-9bad-b20d07a39c75",
   "metadata": {},
   "outputs": [],
   "source": [
    "pq = \"s3://seanome-kmerseek/scope-benchmark/analysis-outputs/2024-10-09__hp_k20-60/00_cleaned_multisearch_results/scope40.multisearch.hp.k20.pq\"\n",
    "multisearch_unfiltered = pd.read_parquet(pq)"
   ]
  },
  {
   "cell_type": "markdown",
   "id": "f03c5450-46f3-427e-9201-c9e9f36d588a",
   "metadata": {},
   "source": [
    "### Set SCOP lineage column names"
   ]
  },
  {
   "cell_type": "code",
   "execution_count": 17,
   "id": "b0dff231-4308-452b-8e4e-b01ae8d879ca",
   "metadata": {},
   "outputs": [],
   "source": [
    "lineage_cols = [\"name\", \"family\", \"superfamily\", \"fold\", \"class\"]\n",
    "query_scop_cols = [f\"query_{x}\" for x in lineage_cols]\n",
    "match_scop_cols = [f\"match_{x}\" for x in lineage_cols]\n",
    "\n",
    "same_scop_cols = [f\"same_{x}\" for x in lineage_cols]"
   ]
  },
  {
   "cell_type": "code",
   "execution_count": 53,
   "id": "882367f9-0667-4573-870a-28a84d7b23ba",
   "metadata": {},
   "outputs": [
    {
     "data": {
      "text/plain": [
       "['query_family', 'query_superfamily', 'query_fold', 'query_class']"
      ]
     },
     "execution_count": 53,
     "metadata": {},
     "output_type": "execute_result"
    }
   ],
   "source": [
    "query_scop_cols_minus_name = [x for x in query_scop_cols if \"name\" not in x]\n",
    "query_scop_cols_minus_name"
   ]
  },
  {
   "cell_type": "code",
   "execution_count": 55,
   "id": "561e99a7-313e-4e08-8fcf-aefa0b9af054",
   "metadata": {},
   "outputs": [
    {
     "data": {
      "text/plain": [
       "['family', 'superfamily', 'fold', 'class']"
      ]
     },
     "execution_count": 55,
     "metadata": {},
     "output_type": "execute_result"
    }
   ],
   "source": [
    "lineage_cols_minus_name = [x for x in lineage_cols if \"name\" not in x]\n",
    "lineage_cols_minus_name"
   ]
  },
  {
   "cell_type": "markdown",
   "id": "f3e2f6fe-6cff-42df-a917-3f42151eb5d5",
   "metadata": {},
   "source": [
    "### Make query metadata"
   ]
  },
  {
   "cell_type": "code",
   "execution_count": 18,
   "id": "d60d2fa5-b938-42f6-914a-45131fc33d11",
   "metadata": {
    "scrolled": true
   },
   "outputs": [
    {
     "name": "stdout",
     "output_type": "stream",
     "text": [
      "(3471675, 5)\n",
      "(15177, 5)\n"
     ]
    },
    {
     "data": {
      "text/html": [
       "<div>\n",
       "<style scoped>\n",
       "    .dataframe tbody tr th:only-of-type {\n",
       "        vertical-align: middle;\n",
       "    }\n",
       "\n",
       "    .dataframe tbody tr th {\n",
       "        vertical-align: top;\n",
       "    }\n",
       "\n",
       "    .dataframe thead th {\n",
       "        text-align: right;\n",
       "    }\n",
       "</style>\n",
       "<table border=\"1\" class=\"dataframe\">\n",
       "  <thead>\n",
       "    <tr style=\"text-align: right;\">\n",
       "      <th></th>\n",
       "      <th>query_name</th>\n",
       "      <th>query_family</th>\n",
       "      <th>query_superfamily</th>\n",
       "      <th>query_fold</th>\n",
       "      <th>query_class</th>\n",
       "    </tr>\n",
       "  </thead>\n",
       "  <tbody>\n",
       "    <tr>\n",
       "      <th>d12asa_</th>\n",
       "      <td>d12asa_ d.104.1.1 (A:) Asparagine synthetase {...</td>\n",
       "      <td>d.104.1.1</td>\n",
       "      <td>d.104.1</td>\n",
       "      <td>d.104</td>\n",
       "      <td>d</td>\n",
       "    </tr>\n",
       "    <tr>\n",
       "      <th>d16vpa_</th>\n",
       "      <td>d16vpa_ d.180.1.1 (A:) Conserved core of trans...</td>\n",
       "      <td>d.180.1.1</td>\n",
       "      <td>d.180.1</td>\n",
       "      <td>d.180</td>\n",
       "      <td>d</td>\n",
       "    </tr>\n",
       "    <tr>\n",
       "      <th>d1914a1</th>\n",
       "      <td>d1914a1 d.49.1.1 (A:4004-4081) Signal recognit...</td>\n",
       "      <td>d.49.1.1</td>\n",
       "      <td>d.49.1</td>\n",
       "      <td>d.49</td>\n",
       "      <td>d</td>\n",
       "    </tr>\n",
       "    <tr>\n",
       "      <th>d1914a2</th>\n",
       "      <td>d1914a2 d.49.1.1 (A:2001-2097) Signal recognit...</td>\n",
       "      <td>d.49.1.1</td>\n",
       "      <td>d.49.1</td>\n",
       "      <td>d.49</td>\n",
       "      <td>d</td>\n",
       "    </tr>\n",
       "    <tr>\n",
       "      <th>d1a04a1</th>\n",
       "      <td>d1a04a1 a.4.6.2 (A:150-216) Nitrate/nitrite re...</td>\n",
       "      <td>a.4.6.2</td>\n",
       "      <td>a.4.6</td>\n",
       "      <td>a.4</td>\n",
       "      <td>a</td>\n",
       "    </tr>\n",
       "  </tbody>\n",
       "</table>\n",
       "</div>"
      ],
      "text/plain": [
       "                                                query_name query_family  \\\n",
       "d12asa_  d12asa_ d.104.1.1 (A:) Asparagine synthetase {...    d.104.1.1   \n",
       "d16vpa_  d16vpa_ d.180.1.1 (A:) Conserved core of trans...    d.180.1.1   \n",
       "d1914a1  d1914a1 d.49.1.1 (A:4004-4081) Signal recognit...     d.49.1.1   \n",
       "d1914a2  d1914a2 d.49.1.1 (A:2001-2097) Signal recognit...     d.49.1.1   \n",
       "d1a04a1  d1a04a1 a.4.6.2 (A:150-216) Nitrate/nitrite re...      a.4.6.2   \n",
       "\n",
       "        query_superfamily query_fold query_class  \n",
       "d12asa_           d.104.1      d.104           d  \n",
       "d16vpa_           d.180.1      d.180           d  \n",
       "d1914a1            d.49.1       d.49           d  \n",
       "d1914a2            d.49.1       d.49           d  \n",
       "d1a04a1             a.4.6        a.4           a  "
      ]
     },
     "execution_count": 18,
     "metadata": {},
     "output_type": "execute_result"
    }
   ],
   "source": [
    "query_metadata = pd.DataFrame(\n",
    "    multisearch_unfiltered[query_scop_cols].values,\n",
    "    index=multisearch_unfiltered[\"query_scop_id\"].values,\n",
    "    columns=query_scop_cols,\n",
    ")\n",
    "query_metadata = query_metadata.sort_index()\n",
    "print(query_metadata.shape)\n",
    "query_metadata = query_metadata.loc[~query_metadata.index.duplicated()]\n",
    "print(query_metadata.shape)\n",
    "query_metadata.head()"
   ]
  },
  {
   "cell_type": "markdown",
   "id": "3ad1150b-37f9-4d79-9f98-b1fc51eeec08",
   "metadata": {},
   "source": [
    "### Count number of groups per sample"
   ]
  },
  {
   "cell_type": "code",
   "execution_count": 45,
   "id": "fcc1a89b-40c7-477d-8176-cb3dea5061ab",
   "metadata": {},
   "outputs": [
    {
     "data": {
      "text/plain": [
       "dict_keys(['family', 'superfamily', 'fold', 'class'])"
      ]
     },
     "execution_count": 45,
     "metadata": {},
     "output_type": "execute_result"
    }
   ],
   "source": [
    "def count_scop_lineage(df, col):\n",
    "    return Counter(df[col])\n",
    "\n",
    "\n",
    "n_groups_per_scop_lineage = {\n",
    "    lineage: pd.Series(\n",
    "        count_scop_lineage(query_metadata, f\"query_{lineage}\"), name=f\"n_{lineage}\"\n",
    "    )\n",
    "    for lineage in lineage_cols\n",
    "    if lineage != \"name\"\n",
    "}\n",
    "n_groups_per_scop_lineage.keys()\n",
    "# n_groups_per_scop_lineage"
   ]
  },
  {
   "cell_type": "code",
   "execution_count": 46,
   "id": "8ad47f1c-e93a-4be2-afae-aa9ca9edcb92",
   "metadata": {
    "scrolled": true
   },
   "outputs": [
    {
     "data": {
      "text/plain": [
       "d    3653\n",
       "a    2644\n",
       "c    4463\n",
       "b    3059\n",
       "f     332\n",
       "g     722\n",
       "e     304\n",
       "Name: n_class, dtype: int64"
      ]
     },
     "execution_count": 46,
     "metadata": {},
     "output_type": "execute_result"
    }
   ],
   "source": [
    "n_groups_per_scop_lineage[\"class\"]"
   ]
  },
  {
   "cell_type": "code",
   "execution_count": 47,
   "id": "30c91ccc-42e1-433a-a5de-0d7502f14f13",
   "metadata": {},
   "outputs": [
    {
     "data": {
      "text/html": [
       "<div>\n",
       "<style scoped>\n",
       "    .dataframe tbody tr th:only-of-type {\n",
       "        vertical-align: middle;\n",
       "    }\n",
       "\n",
       "    .dataframe tbody tr th {\n",
       "        vertical-align: top;\n",
       "    }\n",
       "\n",
       "    .dataframe thead th {\n",
       "        text-align: right;\n",
       "    }\n",
       "</style>\n",
       "<table border=\"1\" class=\"dataframe\">\n",
       "  <thead>\n",
       "    <tr style=\"text-align: right;\">\n",
       "      <th></th>\n",
       "      <th>query_name</th>\n",
       "      <th>query_family</th>\n",
       "      <th>query_superfamily</th>\n",
       "      <th>query_fold</th>\n",
       "      <th>query_class</th>\n",
       "      <th>n_family</th>\n",
       "      <th>n_superfamily</th>\n",
       "      <th>n_fold</th>\n",
       "      <th>n_class</th>\n",
       "    </tr>\n",
       "    <tr>\n",
       "      <th>query_scop_id</th>\n",
       "      <th></th>\n",
       "      <th></th>\n",
       "      <th></th>\n",
       "      <th></th>\n",
       "      <th></th>\n",
       "      <th></th>\n",
       "      <th></th>\n",
       "      <th></th>\n",
       "      <th></th>\n",
       "    </tr>\n",
       "  </thead>\n",
       "  <tbody>\n",
       "    <tr>\n",
       "      <th>d12asa_</th>\n",
       "      <td>d12asa_ d.104.1.1 (A:) Asparagine synthetase {...</td>\n",
       "      <td>d.104.1.1</td>\n",
       "      <td>d.104.1</td>\n",
       "      <td>d.104</td>\n",
       "      <td>d</td>\n",
       "      <td>15</td>\n",
       "      <td>29</td>\n",
       "      <td>29</td>\n",
       "      <td>3653</td>\n",
       "    </tr>\n",
       "    <tr>\n",
       "      <th>d16vpa_</th>\n",
       "      <td>d16vpa_ d.180.1.1 (A:) Conserved core of trans...</td>\n",
       "      <td>d.180.1.1</td>\n",
       "      <td>d.180.1</td>\n",
       "      <td>d.180</td>\n",
       "      <td>d</td>\n",
       "      <td>1</td>\n",
       "      <td>1</td>\n",
       "      <td>1</td>\n",
       "      <td>3653</td>\n",
       "    </tr>\n",
       "    <tr>\n",
       "      <th>d1914a1</th>\n",
       "      <td>d1914a1 d.49.1.1 (A:4004-4081) Signal recognit...</td>\n",
       "      <td>d.49.1.1</td>\n",
       "      <td>d.49.1</td>\n",
       "      <td>d.49</td>\n",
       "      <td>d</td>\n",
       "      <td>2</td>\n",
       "      <td>3</td>\n",
       "      <td>3</td>\n",
       "      <td>3653</td>\n",
       "    </tr>\n",
       "    <tr>\n",
       "      <th>d1914a2</th>\n",
       "      <td>d1914a2 d.49.1.1 (A:2001-2097) Signal recognit...</td>\n",
       "      <td>d.49.1.1</td>\n",
       "      <td>d.49.1</td>\n",
       "      <td>d.49</td>\n",
       "      <td>d</td>\n",
       "      <td>2</td>\n",
       "      <td>3</td>\n",
       "      <td>3</td>\n",
       "      <td>3653</td>\n",
       "    </tr>\n",
       "    <tr>\n",
       "      <th>d1a04a1</th>\n",
       "      <td>d1a04a1 a.4.6.2 (A:150-216) Nitrate/nitrite re...</td>\n",
       "      <td>a.4.6.2</td>\n",
       "      <td>a.4.6</td>\n",
       "      <td>a.4</td>\n",
       "      <td>a</td>\n",
       "      <td>5</td>\n",
       "      <td>30</td>\n",
       "      <td>425</td>\n",
       "      <td>2644</td>\n",
       "    </tr>\n",
       "  </tbody>\n",
       "</table>\n",
       "</div>"
      ],
      "text/plain": [
       "                                                      query_name query_family  \\\n",
       "query_scop_id                                                                   \n",
       "d12asa_        d12asa_ d.104.1.1 (A:) Asparagine synthetase {...    d.104.1.1   \n",
       "d16vpa_        d16vpa_ d.180.1.1 (A:) Conserved core of trans...    d.180.1.1   \n",
       "d1914a1        d1914a1 d.49.1.1 (A:4004-4081) Signal recognit...     d.49.1.1   \n",
       "d1914a2        d1914a2 d.49.1.1 (A:2001-2097) Signal recognit...     d.49.1.1   \n",
       "d1a04a1        d1a04a1 a.4.6.2 (A:150-216) Nitrate/nitrite re...      a.4.6.2   \n",
       "\n",
       "              query_superfamily query_fold query_class  n_family  \\\n",
       "query_scop_id                                                      \n",
       "d12asa_                 d.104.1      d.104           d        15   \n",
       "d16vpa_                 d.180.1      d.180           d         1   \n",
       "d1914a1                  d.49.1       d.49           d         2   \n",
       "d1914a2                  d.49.1       d.49           d         2   \n",
       "d1a04a1                   a.4.6        a.4           a         5   \n",
       "\n",
       "               n_superfamily  n_fold  n_class  \n",
       "query_scop_id                                  \n",
       "d12asa_                   29      29     3653  \n",
       "d16vpa_                    1       1     3653  \n",
       "d1914a1                    3       3     3653  \n",
       "d1914a2                    3       3     3653  \n",
       "d1a04a1                   30     425     2644  "
      ]
     },
     "execution_count": 47,
     "metadata": {},
     "output_type": "execute_result"
    }
   ],
   "source": [
    "query_metadata_with_n_groups = query_metadata.copy()\n",
    "\n",
    "for lineage, series in n_groups_per_scop_lineage.items():\n",
    "    # display(series)\n",
    "    on = f\"query_{lineage}\"\n",
    "\n",
    "    query_metadata_with_n_groups = query_metadata_with_n_groups.join(series, on=on)\n",
    "query_metadata_with_n_groups.index.name = \"query_scop_id\"\n",
    "query_metadata_with_n_groups.head()"
   ]
  },
  {
   "cell_type": "code",
   "execution_count": null,
   "id": "01d24ccc-ad62-40d4-a311-ec890f60d736",
   "metadata": {},
   "outputs": [],
   "source": []
  },
  {
   "cell_type": "code",
   "execution_count": null,
   "id": "3ac8d252-1ec6-4775-98ac-25303ca928dc",
   "metadata": {},
   "outputs": [],
   "source": []
  },
  {
   "cell_type": "code",
   "execution_count": 48,
   "id": "4780eb5f-7f75-4874-843a-bc869f3a72e0",
   "metadata": {},
   "outputs": [],
   "source": [
    "query_metadata_with_n_groups.to_csv(\n",
    "    \"s3://seanome-kmerseek/scope-benchmark/reference_files/scop.e.2.08.query_metadata.csv\"\n",
    ")"
   ]
  },
  {
   "cell_type": "markdown",
   "id": "0ba6060b-2000-4275-8e89-0b4f7e5aecc6",
   "metadata": {},
   "source": [
    "### Add categories to make polars happy"
   ]
  },
  {
   "cell_type": "code",
   "execution_count": 54,
   "id": "f7ff89a6-6ca9-4fe3-8f1e-73f10f5a601e",
   "metadata": {},
   "outputs": [
    {
     "data": {
      "text/plain": [
       "query_name             object\n",
       "query_family         category\n",
       "query_superfamily    category\n",
       "query_fold           category\n",
       "query_class          category\n",
       "n_family                int64\n",
       "n_superfamily           int64\n",
       "n_fold                  int64\n",
       "n_class                 int64\n",
       "dtype: object"
      ]
     },
     "execution_count": 54,
     "metadata": {},
     "output_type": "execute_result"
    }
   ],
   "source": [
    "for col in query_scop_cols_minus_name:\n",
    "    categories = sorted(list(set(query_metadata_with_n_groups[col])))\n",
    "    query_metadata_with_n_groups[col] = pd.Categorical(\n",
    "        query_metadata_with_n_groups[col], ordered=True, categories=categories\n",
    "    )\n",
    "query_metadata_with_n_groups.dtypes"
   ]
  },
  {
   "cell_type": "markdown",
   "id": "1167edf0-15f6-4d85-a211-1ba1b712491e",
   "metadata": {},
   "source": [
    "### Sort by query family, etc to make sure even physical ordering is lexicographical"
   ]
  },
  {
   "cell_type": "code",
   "execution_count": 78,
   "id": "70ac2f2d-53ea-433b-92ef-84593b2d6ccf",
   "metadata": {},
   "outputs": [
    {
     "data": {
      "text/html": [
       "<div>\n",
       "<style scoped>\n",
       "    .dataframe tbody tr th:only-of-type {\n",
       "        vertical-align: middle;\n",
       "    }\n",
       "\n",
       "    .dataframe tbody tr th {\n",
       "        vertical-align: top;\n",
       "    }\n",
       "\n",
       "    .dataframe thead th {\n",
       "        text-align: right;\n",
       "    }\n",
       "</style>\n",
       "<table border=\"1\" class=\"dataframe\">\n",
       "  <thead>\n",
       "    <tr style=\"text-align: right;\">\n",
       "      <th></th>\n",
       "      <th>query_name</th>\n",
       "      <th>query_family</th>\n",
       "      <th>query_superfamily</th>\n",
       "      <th>query_fold</th>\n",
       "      <th>query_class</th>\n",
       "      <th>n_family</th>\n",
       "      <th>n_superfamily</th>\n",
       "      <th>n_fold</th>\n",
       "      <th>n_class</th>\n",
       "    </tr>\n",
       "    <tr>\n",
       "      <th>query_scop_id</th>\n",
       "      <th></th>\n",
       "      <th></th>\n",
       "      <th></th>\n",
       "      <th></th>\n",
       "      <th></th>\n",
       "      <th></th>\n",
       "      <th></th>\n",
       "      <th></th>\n",
       "      <th></th>\n",
       "    </tr>\n",
       "  </thead>\n",
       "  <tbody>\n",
       "    <tr>\n",
       "      <th>d1x3ka_</th>\n",
       "      <td>d1x3ka_ a.1.1.0 (A:) automated matches {Tokuna...</td>\n",
       "      <td>a.1.1.0</td>\n",
       "      <td>a.1.1</td>\n",
       "      <td>a.1</td>\n",
       "      <td>a</td>\n",
       "      <td>22</td>\n",
       "      <td>57</td>\n",
       "      <td>62</td>\n",
       "      <td>2644</td>\n",
       "    </tr>\n",
       "    <tr>\n",
       "      <th>d1x46a_</th>\n",
       "      <td>d1x46a_ a.1.1.0 (A:) automated matches {Tokuna...</td>\n",
       "      <td>a.1.1.0</td>\n",
       "      <td>a.1.1</td>\n",
       "      <td>a.1</td>\n",
       "      <td>a</td>\n",
       "      <td>22</td>\n",
       "      <td>57</td>\n",
       "      <td>62</td>\n",
       "      <td>2644</td>\n",
       "    </tr>\n",
       "    <tr>\n",
       "      <th>d2bk9a_</th>\n",
       "      <td>d2bk9a_ a.1.1.0 (A:) automated matches {Fruit ...</td>\n",
       "      <td>a.1.1.0</td>\n",
       "      <td>a.1.1</td>\n",
       "      <td>a.1</td>\n",
       "      <td>a</td>\n",
       "      <td>22</td>\n",
       "      <td>57</td>\n",
       "      <td>62</td>\n",
       "      <td>2644</td>\n",
       "    </tr>\n",
       "    <tr>\n",
       "      <th>d2c0ka_</th>\n",
       "      <td>d2c0ka_ a.1.1.0 (A:) automated matches {Gaster...</td>\n",
       "      <td>a.1.1.0</td>\n",
       "      <td>a.1.1</td>\n",
       "      <td>a.1</td>\n",
       "      <td>a</td>\n",
       "      <td>22</td>\n",
       "      <td>57</td>\n",
       "      <td>62</td>\n",
       "      <td>2644</td>\n",
       "    </tr>\n",
       "    <tr>\n",
       "      <th>d2ig3a_</th>\n",
       "      <td>d2ig3a_ a.1.1.0 (A:) automated matches {Campyl...</td>\n",
       "      <td>a.1.1.0</td>\n",
       "      <td>a.1.1</td>\n",
       "      <td>a.1</td>\n",
       "      <td>a</td>\n",
       "      <td>22</td>\n",
       "      <td>57</td>\n",
       "      <td>62</td>\n",
       "      <td>2644</td>\n",
       "    </tr>\n",
       "    <tr>\n",
       "      <th>...</th>\n",
       "      <td>...</td>\n",
       "      <td>...</td>\n",
       "      <td>...</td>\n",
       "      <td>...</td>\n",
       "      <td>...</td>\n",
       "      <td>...</td>\n",
       "      <td>...</td>\n",
       "      <td>...</td>\n",
       "      <td>...</td>\n",
       "    </tr>\n",
       "    <tr>\n",
       "      <th>d6y3ba_</th>\n",
       "      <td>d6y3ba_ g.96.1.0 (A:) automated matches {Zika ...</td>\n",
       "      <td>g.96.1.0</td>\n",
       "      <td>g.96.1</td>\n",
       "      <td>g.96</td>\n",
       "      <td>g</td>\n",
       "      <td>1</td>\n",
       "      <td>2</td>\n",
       "      <td>2</td>\n",
       "      <td>722</td>\n",
       "    </tr>\n",
       "    <tr>\n",
       "      <th>d2foma1</th>\n",
       "      <td>d2foma1 g.96.1.1 (A:49-95) Flavivirus non-stru...</td>\n",
       "      <td>g.96.1.1</td>\n",
       "      <td>g.96.1</td>\n",
       "      <td>g.96</td>\n",
       "      <td>g</td>\n",
       "      <td>1</td>\n",
       "      <td>2</td>\n",
       "      <td>2</td>\n",
       "      <td>722</td>\n",
       "    </tr>\n",
       "    <tr>\n",
       "      <th>d3s2ra_</th>\n",
       "      <td>d3s2ra_ g.97.1.0 (A:) automated matches {Thale...</td>\n",
       "      <td>g.97.1.0</td>\n",
       "      <td>g.97.1</td>\n",
       "      <td>g.97</td>\n",
       "      <td>g</td>\n",
       "      <td>1</td>\n",
       "      <td>1</td>\n",
       "      <td>1</td>\n",
       "      <td>722</td>\n",
       "    </tr>\n",
       "    <tr>\n",
       "      <th>d4c3hd_</th>\n",
       "      <td>d4c3hd_ g.98.1.1 (D:) RNA polymerase I subunit...</td>\n",
       "      <td>g.98.1.1</td>\n",
       "      <td>g.98.1</td>\n",
       "      <td>g.98</td>\n",
       "      <td>g</td>\n",
       "      <td>1</td>\n",
       "      <td>1</td>\n",
       "      <td>1</td>\n",
       "      <td>722</td>\n",
       "    </tr>\n",
       "    <tr>\n",
       "      <th>d6id0n_</th>\n",
       "      <td>d6id0n_ g.99.1.1 (N:) automated matches {Human...</td>\n",
       "      <td>g.99.1.1</td>\n",
       "      <td>g.99.1</td>\n",
       "      <td>g.99</td>\n",
       "      <td>g</td>\n",
       "      <td>1</td>\n",
       "      <td>1</td>\n",
       "      <td>1</td>\n",
       "      <td>722</td>\n",
       "    </tr>\n",
       "  </tbody>\n",
       "</table>\n",
       "<p>15177 rows × 9 columns</p>\n",
       "</div>"
      ],
      "text/plain": [
       "                                                      query_name query_family  \\\n",
       "query_scop_id                                                                   \n",
       "d1x3ka_        d1x3ka_ a.1.1.0 (A:) automated matches {Tokuna...      a.1.1.0   \n",
       "d1x46a_        d1x46a_ a.1.1.0 (A:) automated matches {Tokuna...      a.1.1.0   \n",
       "d2bk9a_        d2bk9a_ a.1.1.0 (A:) automated matches {Fruit ...      a.1.1.0   \n",
       "d2c0ka_        d2c0ka_ a.1.1.0 (A:) automated matches {Gaster...      a.1.1.0   \n",
       "d2ig3a_        d2ig3a_ a.1.1.0 (A:) automated matches {Campyl...      a.1.1.0   \n",
       "...                                                          ...          ...   \n",
       "d6y3ba_        d6y3ba_ g.96.1.0 (A:) automated matches {Zika ...     g.96.1.0   \n",
       "d2foma1        d2foma1 g.96.1.1 (A:49-95) Flavivirus non-stru...     g.96.1.1   \n",
       "d3s2ra_        d3s2ra_ g.97.1.0 (A:) automated matches {Thale...     g.97.1.0   \n",
       "d4c3hd_        d4c3hd_ g.98.1.1 (D:) RNA polymerase I subunit...     g.98.1.1   \n",
       "d6id0n_        d6id0n_ g.99.1.1 (N:) automated matches {Human...     g.99.1.1   \n",
       "\n",
       "              query_superfamily query_fold query_class  n_family  \\\n",
       "query_scop_id                                                      \n",
       "d1x3ka_                   a.1.1        a.1           a        22   \n",
       "d1x46a_                   a.1.1        a.1           a        22   \n",
       "d2bk9a_                   a.1.1        a.1           a        22   \n",
       "d2c0ka_                   a.1.1        a.1           a        22   \n",
       "d2ig3a_                   a.1.1        a.1           a        22   \n",
       "...                         ...        ...         ...       ...   \n",
       "d6y3ba_                  g.96.1       g.96           g         1   \n",
       "d2foma1                  g.96.1       g.96           g         1   \n",
       "d3s2ra_                  g.97.1       g.97           g         1   \n",
       "d4c3hd_                  g.98.1       g.98           g         1   \n",
       "d6id0n_                  g.99.1       g.99           g         1   \n",
       "\n",
       "               n_superfamily  n_fold  n_class  \n",
       "query_scop_id                                  \n",
       "d1x3ka_                   57      62     2644  \n",
       "d1x46a_                   57      62     2644  \n",
       "d2bk9a_                   57      62     2644  \n",
       "d2c0ka_                   57      62     2644  \n",
       "d2ig3a_                   57      62     2644  \n",
       "...                      ...     ...      ...  \n",
       "d6y3ba_                    2       2      722  \n",
       "d2foma1                    2       2      722  \n",
       "d3s2ra_                    1       1      722  \n",
       "d4c3hd_                    1       1      722  \n",
       "d6id0n_                    1       1      722  \n",
       "\n",
       "[15177 rows x 9 columns]"
      ]
     },
     "execution_count": 78,
     "metadata": {},
     "output_type": "execute_result"
    }
   ],
   "source": [
    "query_metadata_with_n_groups = query_metadata_with_n_groups.sort_values(\n",
    "    query_scop_cols_minus_name\n",
    ")\n",
    "query_metadata_with_n_groups"
   ]
  },
  {
   "cell_type": "code",
   "execution_count": 79,
   "id": "2beea51d-765e-44be-97b5-29aad9a61b15",
   "metadata": {},
   "outputs": [],
   "source": [
    "query_metadata_with_n_groups.to_parquet(\n",
    "    \"s3://seanome-kmerseek/scope-benchmark/reference_files/scop.e.2.08.query_metadata.pq\"\n",
    ")"
   ]
  },
  {
   "cell_type": "markdown",
   "id": "35b45fb8-eced-492a-a009-f41b3762dba0",
   "metadata": {},
   "source": [
    "### Read with polars to set the categorical ordering as lexical"
   ]
  },
  {
   "cell_type": "code",
   "execution_count": 80,
   "id": "99aa6c43-e35f-4831-a50f-7985f7c422b6",
   "metadata": {},
   "outputs": [
    {
     "data": {
      "text/plain": [
       "Schema([('query_name', String),\n",
       "        ('query_family', Categorical(ordering='physical')),\n",
       "        ('query_superfamily', Categorical(ordering='physical')),\n",
       "        ('query_fold', Categorical(ordering='physical')),\n",
       "        ('query_class', Categorical(ordering='physical')),\n",
       "        ('n_family', Int64),\n",
       "        ('n_superfamily', Int64),\n",
       "        ('n_fold', Int64),\n",
       "        ('n_class', Int64),\n",
       "        ('query_scop_id', String)])"
      ]
     },
     "execution_count": 80,
     "metadata": {},
     "output_type": "execute_result"
    }
   ],
   "source": [
    "query_metadata_pl = pl.read_parquet(\n",
    "    \"s3://seanome-kmerseek/scope-benchmark/reference_files/scop.e.2.08.query_metadata.pq\"\n",
    ")\n",
    "query_metadata_pl.schema"
   ]
  },
  {
   "cell_type": "code",
   "execution_count": 81,
   "id": "0990fbbc-89c8-45d5-a836-8d25ea54f77f",
   "metadata": {},
   "outputs": [
    {
     "data": {
      "text/plain": [
       "Schema([('query_name', String),\n",
       "        ('query_family', Categorical(ordering='lexical')),\n",
       "        ('query_superfamily', Categorical(ordering='lexical')),\n",
       "        ('query_fold', Categorical(ordering='lexical')),\n",
       "        ('query_class', Categorical(ordering='lexical')),\n",
       "        ('n_family', Int64),\n",
       "        ('n_superfamily', Int64),\n",
       "        ('n_fold', Int64),\n",
       "        ('n_class', Int64),\n",
       "        ('query_scop_id', String)])"
      ]
     },
     "execution_count": 81,
     "metadata": {},
     "output_type": "execute_result"
    }
   ],
   "source": [
    "query_metadata_pl = query_metadata_pl.with_columns(\n",
    "    pl.col(col).cast(pl.Categorical(\"lexical\")).alias(col)\n",
    "    for col in query_scop_cols_minus_name\n",
    ")\n",
    "query_metadata_pl.schema"
   ]
  },
  {
   "cell_type": "code",
   "execution_count": 102,
   "id": "ee931e8e-8e89-4785-8cdc-3df47c008439",
   "metadata": {},
   "outputs": [
    {
     "name": "stdout",
     "output_type": "stream",
     "text": [
      "Overwriting polars_utils.py\n"
     ]
    }
   ],
   "source": [
    "%%file polars_utils.py\n",
    "\n",
    "import polars as pl\n",
    "import s3fs\n",
    "\n",
    "\n",
    "def _to_s3(writer, filename):\n",
    "    fs = s3fs.S3FileSystem()\n",
    "    with fs.open(filename, mode=\"wb\") as f:\n",
    "        writer(f)\n",
    "\n",
    "\n",
    "def _to_filename(writer, filename):\n",
    "    if filename.startswith(\"s3://\"):\n",
    "        # Writing Parquet files with arrow can be troublesome, need to use s3fs explicitly\n",
    "        _to_s3(writer, pq)\n",
    "    else:\n",
    "        writer(pq)\n",
    "\n",
    "\n",
    "def write_parquet(df: pl.DataFrame, pq: str, verbose=False):\n",
    "    if verbose:\n",
    "        print(f\"\\nWriting {df.height} rows and {df.width} columns to {pq} ...\")\n",
    "    _to_filename(df.write_parquet, pq)\n",
    "    if verbose:\n",
    "        print(\"\\tDone.\")\n",
    "\n",
    "\n",
    "def sink_parquet(df: pl.LazyFrame, pq: str, verbose=False):\n",
    "    if verbose:\n",
    "        print(\n",
    "            f\"\\nWriting {df.select(pl.len()).collect().item()} rows and {len(df.columns)} columns to {pq} ...\"\n",
    "        )\n",
    "    _to_filename(df.sink_parquet, pq)\n",
    "    print(\"\\tDone.\")"
   ]
  },
  {
   "cell_type": "code",
   "execution_count": 103,
   "id": "cecf8977-552b-4f7a-a869-75df058567df",
   "metadata": {},
   "outputs": [],
   "source": [
    "# query_metadata_pl.write_parquet?"
   ]
  },
  {
   "cell_type": "code",
   "execution_count": 104,
   "id": "13d3248f-c184-466c-b0ef-45ebcd36655b",
   "metadata": {},
   "outputs": [],
   "source": [
    "from polars_utils import write_parquet"
   ]
  },
  {
   "cell_type": "code",
   "execution_count": 105,
   "id": "a07f95bd-70b9-489c-8129-d66928e443ab",
   "metadata": {},
   "outputs": [],
   "source": [
    "write_parquet(\n",
    "    query_metadata_pl,\n",
    "    \"s3://seanome-kmerseek/scope-benchmark/reference_files/scop.e.2.08.query_metadata.pq\",\n",
    ")"
   ]
  },
  {
   "cell_type": "markdown",
   "id": "c59c623f-8116-4938-af01-28558ed1554a",
   "metadata": {},
   "source": [
    "#### -> This didn't work ... still 'physical' ordering"
   ]
  },
  {
   "cell_type": "code",
   "execution_count": 87,
   "id": "86fe5556-2441-43dd-8f34-92b9b9fd65e3",
   "metadata": {},
   "outputs": [
    {
     "data": {
      "text/plain": [
       "Schema([('query_name', String),\n",
       "        ('query_family', Categorical(ordering='physical')),\n",
       "        ('query_superfamily', Categorical(ordering='physical')),\n",
       "        ('query_fold', Categorical(ordering='physical')),\n",
       "        ('query_class', Categorical(ordering='physical')),\n",
       "        ('n_family', Int64),\n",
       "        ('n_superfamily', Int64),\n",
       "        ('n_fold', Int64),\n",
       "        ('n_class', Int64),\n",
       "        ('query_scop_id', String)])"
      ]
     },
     "execution_count": 87,
     "metadata": {},
     "output_type": "execute_result"
    }
   ],
   "source": [
    "query_metadata_pl2 = pl.read_parquet(\n",
    "    \"s3://seanome-kmerseek/scope-benchmark/reference_files/scop.e.2.08.query_metadata.pq\"\n",
    ")\n",
    "query_metadata_pl2.schema"
   ]
  },
  {
   "cell_type": "markdown",
   "id": "b3840131-89c5-487d-b970-1d6a92e10c87",
   "metadata": {},
   "source": [
    "## Make match metadata, which doesn't have `n_{family,superfamily,fold,class}`"
   ]
  },
  {
   "cell_type": "code",
   "execution_count": 88,
   "id": "4ae7b905-4454-4211-ab95-c0e2cce7c700",
   "metadata": {
    "scrolled": true
   },
   "outputs": [
    {
     "data": {
      "text/html": [
       "<div>\n",
       "<style scoped>\n",
       "    .dataframe tbody tr th:only-of-type {\n",
       "        vertical-align: middle;\n",
       "    }\n",
       "\n",
       "    .dataframe tbody tr th {\n",
       "        vertical-align: top;\n",
       "    }\n",
       "\n",
       "    .dataframe thead th {\n",
       "        text-align: right;\n",
       "    }\n",
       "</style>\n",
       "<table border=\"1\" class=\"dataframe\">\n",
       "  <thead>\n",
       "    <tr style=\"text-align: right;\">\n",
       "      <th></th>\n",
       "      <th>match_name</th>\n",
       "      <th>match_family</th>\n",
       "      <th>match_superfamily</th>\n",
       "      <th>match_fold</th>\n",
       "      <th>match_class</th>\n",
       "      <th>match_scop_id</th>\n",
       "    </tr>\n",
       "  </thead>\n",
       "  <tbody>\n",
       "    <tr>\n",
       "      <th>0</th>\n",
       "      <td>d1x3ka_ a.1.1.0 (A:) automated matches {Tokuna...</td>\n",
       "      <td>a.1.1.0</td>\n",
       "      <td>a.1.1</td>\n",
       "      <td>a.1</td>\n",
       "      <td>a</td>\n",
       "      <td>d1x3ka_</td>\n",
       "    </tr>\n",
       "    <tr>\n",
       "      <th>1</th>\n",
       "      <td>d1x46a_ a.1.1.0 (A:) automated matches {Tokuna...</td>\n",
       "      <td>a.1.1.0</td>\n",
       "      <td>a.1.1</td>\n",
       "      <td>a.1</td>\n",
       "      <td>a</td>\n",
       "      <td>d1x46a_</td>\n",
       "    </tr>\n",
       "    <tr>\n",
       "      <th>2</th>\n",
       "      <td>d2bk9a_ a.1.1.0 (A:) automated matches {Fruit ...</td>\n",
       "      <td>a.1.1.0</td>\n",
       "      <td>a.1.1</td>\n",
       "      <td>a.1</td>\n",
       "      <td>a</td>\n",
       "      <td>d2bk9a_</td>\n",
       "    </tr>\n",
       "    <tr>\n",
       "      <th>3</th>\n",
       "      <td>d2c0ka_ a.1.1.0 (A:) automated matches {Gaster...</td>\n",
       "      <td>a.1.1.0</td>\n",
       "      <td>a.1.1</td>\n",
       "      <td>a.1</td>\n",
       "      <td>a</td>\n",
       "      <td>d2c0ka_</td>\n",
       "    </tr>\n",
       "    <tr>\n",
       "      <th>4</th>\n",
       "      <td>d2ig3a_ a.1.1.0 (A:) automated matches {Campyl...</td>\n",
       "      <td>a.1.1.0</td>\n",
       "      <td>a.1.1</td>\n",
       "      <td>a.1</td>\n",
       "      <td>a</td>\n",
       "      <td>d2ig3a_</td>\n",
       "    </tr>\n",
       "  </tbody>\n",
       "</table>\n",
       "</div>"
      ],
      "text/plain": [
       "                                          match_name match_family  \\\n",
       "0  d1x3ka_ a.1.1.0 (A:) automated matches {Tokuna...      a.1.1.0   \n",
       "1  d1x46a_ a.1.1.0 (A:) automated matches {Tokuna...      a.1.1.0   \n",
       "2  d2bk9a_ a.1.1.0 (A:) automated matches {Fruit ...      a.1.1.0   \n",
       "3  d2c0ka_ a.1.1.0 (A:) automated matches {Gaster...      a.1.1.0   \n",
       "4  d2ig3a_ a.1.1.0 (A:) automated matches {Campyl...      a.1.1.0   \n",
       "\n",
       "  match_superfamily match_fold match_class match_scop_id  \n",
       "0             a.1.1        a.1           a       d1x3ka_  \n",
       "1             a.1.1        a.1           a       d1x46a_  \n",
       "2             a.1.1        a.1           a       d2bk9a_  \n",
       "3             a.1.1        a.1           a       d2c0ka_  \n",
       "4             a.1.1        a.1           a       d2ig3a_  "
      ]
     },
     "execution_count": 88,
     "metadata": {},
     "output_type": "execute_result"
    }
   ],
   "source": [
    "match_metadata = query_metadata_with_n_groups.copy().reset_index()\n",
    "match_metadata = match_metadata[query_scop_cols + [\"query_scop_id\"]]\n",
    "match_metadata.columns = [x.replace(\"query\", \"match\") for x in match_metadata.columns]\n",
    "match_metadata.head()"
   ]
  },
  {
   "cell_type": "code",
   "execution_count": 89,
   "id": "fb6e601e-e2d7-4cd6-b609-2f2b1e58d7e7",
   "metadata": {},
   "outputs": [],
   "source": [
    "match_metadata.to_parquet(\n",
    "    \"s3://seanome-kmerseek/scope-benchmark/reference_files/scop.e.2.08.match_metadata.pq\",\n",
    "    index=False,\n",
    ")"
   ]
  },
  {
   "cell_type": "code",
   "execution_count": 90,
   "id": "23a557c1-9205-4804-983d-b330b0191e5f",
   "metadata": {},
   "outputs": [],
   "source": [
    "match_metadata_pl = pl.read_parquet(\n",
    "    \"s3://seanome-kmerseek/scope-benchmark/reference_files/scop.e.2.08.match_metadata.pq\"\n",
    ")"
   ]
  },
  {
   "cell_type": "markdown",
   "id": "289fd515-6c36-425b-be7e-4304ee86bfba",
   "metadata": {},
   "source": [
    "## Make generic metadata, without `query_` prefix"
   ]
  },
  {
   "cell_type": "code",
   "execution_count": 91,
   "id": "4a9ca962-cffe-411f-b0ad-9c1e47ef1b91",
   "metadata": {},
   "outputs": [
    {
     "data": {
      "text/html": [
       "<div>\n",
       "<style scoped>\n",
       "    .dataframe tbody tr th:only-of-type {\n",
       "        vertical-align: middle;\n",
       "    }\n",
       "\n",
       "    .dataframe tbody tr th {\n",
       "        vertical-align: top;\n",
       "    }\n",
       "\n",
       "    .dataframe thead th {\n",
       "        text-align: right;\n",
       "    }\n",
       "</style>\n",
       "<table border=\"1\" class=\"dataframe\">\n",
       "  <thead>\n",
       "    <tr style=\"text-align: right;\">\n",
       "      <th></th>\n",
       "      <th>scop_id</th>\n",
       "      <th>name</th>\n",
       "      <th>family</th>\n",
       "      <th>superfamily</th>\n",
       "      <th>fold</th>\n",
       "      <th>class</th>\n",
       "      <th>n_family</th>\n",
       "      <th>n_superfamily</th>\n",
       "      <th>n_fold</th>\n",
       "      <th>n_class</th>\n",
       "    </tr>\n",
       "  </thead>\n",
       "  <tbody>\n",
       "    <tr>\n",
       "      <th>0</th>\n",
       "      <td>d1x3ka_</td>\n",
       "      <td>d1x3ka_ a.1.1.0 (A:) automated matches {Tokuna...</td>\n",
       "      <td>a.1.1.0</td>\n",
       "      <td>a.1.1</td>\n",
       "      <td>a.1</td>\n",
       "      <td>a</td>\n",
       "      <td>22</td>\n",
       "      <td>57</td>\n",
       "      <td>62</td>\n",
       "      <td>2644</td>\n",
       "    </tr>\n",
       "    <tr>\n",
       "      <th>1</th>\n",
       "      <td>d1x46a_</td>\n",
       "      <td>d1x46a_ a.1.1.0 (A:) automated matches {Tokuna...</td>\n",
       "      <td>a.1.1.0</td>\n",
       "      <td>a.1.1</td>\n",
       "      <td>a.1</td>\n",
       "      <td>a</td>\n",
       "      <td>22</td>\n",
       "      <td>57</td>\n",
       "      <td>62</td>\n",
       "      <td>2644</td>\n",
       "    </tr>\n",
       "    <tr>\n",
       "      <th>2</th>\n",
       "      <td>d2bk9a_</td>\n",
       "      <td>d2bk9a_ a.1.1.0 (A:) automated matches {Fruit ...</td>\n",
       "      <td>a.1.1.0</td>\n",
       "      <td>a.1.1</td>\n",
       "      <td>a.1</td>\n",
       "      <td>a</td>\n",
       "      <td>22</td>\n",
       "      <td>57</td>\n",
       "      <td>62</td>\n",
       "      <td>2644</td>\n",
       "    </tr>\n",
       "    <tr>\n",
       "      <th>3</th>\n",
       "      <td>d2c0ka_</td>\n",
       "      <td>d2c0ka_ a.1.1.0 (A:) automated matches {Gaster...</td>\n",
       "      <td>a.1.1.0</td>\n",
       "      <td>a.1.1</td>\n",
       "      <td>a.1</td>\n",
       "      <td>a</td>\n",
       "      <td>22</td>\n",
       "      <td>57</td>\n",
       "      <td>62</td>\n",
       "      <td>2644</td>\n",
       "    </tr>\n",
       "    <tr>\n",
       "      <th>4</th>\n",
       "      <td>d2ig3a_</td>\n",
       "      <td>d2ig3a_ a.1.1.0 (A:) automated matches {Campyl...</td>\n",
       "      <td>a.1.1.0</td>\n",
       "      <td>a.1.1</td>\n",
       "      <td>a.1</td>\n",
       "      <td>a</td>\n",
       "      <td>22</td>\n",
       "      <td>57</td>\n",
       "      <td>62</td>\n",
       "      <td>2644</td>\n",
       "    </tr>\n",
       "  </tbody>\n",
       "</table>\n",
       "</div>"
      ],
      "text/plain": [
       "   scop_id                                               name   family  \\\n",
       "0  d1x3ka_  d1x3ka_ a.1.1.0 (A:) automated matches {Tokuna...  a.1.1.0   \n",
       "1  d1x46a_  d1x46a_ a.1.1.0 (A:) automated matches {Tokuna...  a.1.1.0   \n",
       "2  d2bk9a_  d2bk9a_ a.1.1.0 (A:) automated matches {Fruit ...  a.1.1.0   \n",
       "3  d2c0ka_  d2c0ka_ a.1.1.0 (A:) automated matches {Gaster...  a.1.1.0   \n",
       "4  d2ig3a_  d2ig3a_ a.1.1.0 (A:) automated matches {Campyl...  a.1.1.0   \n",
       "\n",
       "  superfamily fold class  n_family  n_superfamily  n_fold  n_class  \n",
       "0       a.1.1  a.1     a        22             57      62     2644  \n",
       "1       a.1.1  a.1     a        22             57      62     2644  \n",
       "2       a.1.1  a.1     a        22             57      62     2644  \n",
       "3       a.1.1  a.1     a        22             57      62     2644  \n",
       "4       a.1.1  a.1     a        22             57      62     2644  "
      ]
     },
     "execution_count": 91,
     "metadata": {},
     "output_type": "execute_result"
    }
   ],
   "source": [
    "scop_metadata_with_n_groups = query_metadata_with_n_groups.copy().reset_index()\n",
    "scop_metadata_with_n_groups.columns = [\n",
    "    x.split(\"query_\")[-1] for x in scop_metadata_with_n_groups.columns\n",
    "]\n",
    "scop_metadata_with_n_groups.head()"
   ]
  },
  {
   "cell_type": "code",
   "execution_count": 92,
   "id": "f83d9d66-9623-464d-8406-d137fbb2457d",
   "metadata": {},
   "outputs": [
    {
     "data": {
      "text/plain": [
       "scop_id            object\n",
       "name               object\n",
       "family           category\n",
       "superfamily      category\n",
       "fold             category\n",
       "class            category\n",
       "n_family            int64\n",
       "n_superfamily       int64\n",
       "n_fold              int64\n",
       "n_class             int64\n",
       "dtype: object"
      ]
     },
     "execution_count": 92,
     "metadata": {},
     "output_type": "execute_result"
    }
   ],
   "source": [
    "scop_metadata_with_n_groups.dtypes"
   ]
  },
  {
   "cell_type": "code",
   "execution_count": 93,
   "id": "a95e690e-ae43-4137-b01f-c787dd7c39d0",
   "metadata": {},
   "outputs": [],
   "source": [
    "scop_metadata_with_n_groups.to_parquet(\n",
    "    \"s3://seanome-kmerseek/scope-benchmark/reference_files/scop.e.2.08.metadata.pq\",\n",
    "    index=False,\n",
    ")"
   ]
  },
  {
   "cell_type": "code",
   "execution_count": null,
   "id": "cfa15f2c-20ee-48ae-9fae-6fa6a81a37d4",
   "metadata": {},
   "outputs": [],
   "source": []
  },
  {
   "cell_type": "code",
   "execution_count": null,
   "id": "9f6debb5-2945-47cc-8fdd-f22507f744dd",
   "metadata": {},
   "outputs": [],
   "source": []
  }
 ],
 "metadata": {
  "kernelspec": {
   "display_name": "Python [conda env:2024-kmerseek-analysis-polars]",
   "language": "python",
   "name": "conda-env-2024-kmerseek-analysis-polars-py"
  },
  "language_info": {
   "codemirror_mode": {
    "name": "ipython",
    "version": 3
   },
   "file_extension": ".py",
   "mimetype": "text/x-python",
   "name": "python",
   "nbconvert_exporter": "python",
   "pygments_lexer": "ipython3",
   "version": "3.12.7"
  }
 },
 "nbformat": 4,
 "nbformat_minor": 5
}
