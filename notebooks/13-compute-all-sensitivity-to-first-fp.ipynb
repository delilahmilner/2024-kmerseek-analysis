{
 "cells": [
  {
   "cell_type": "markdown",
   "id": "c866294f-52e5-4491-845c-f1ed02f0223f",
   "metadata": {},
   "source": [
    "# Imports and setup"
   ]
  },
  {
   "cell_type": "markdown",
   "id": "b3c8a7a1-ef4d-41de-9219-25143882bb2e",
   "metadata": {},
   "source": [
    "### Auto-re-import python modules, useful for editing local files"
   ]
  },
  {
   "cell_type": "code",
   "execution_count": 8,
   "id": "359e82df-d6c5-4e51-ab68-97dd9a7746ca",
   "metadata": {
    "execution": {
     "iopub.execute_input": "2024-11-07T21:48:37.924905Z",
     "iopub.status.busy": "2024-11-07T21:48:37.924599Z",
     "iopub.status.idle": "2024-11-07T21:48:37.940803Z",
     "shell.execute_reply": "2024-11-07T21:48:37.940477Z",
     "shell.execute_reply.started": "2024-11-07T21:48:37.924892Z"
    }
   },
   "outputs": [
    {
     "name": "stdout",
     "output_type": "stream",
     "text": [
      "The autoreload extension is already loaded. To reload it, use:\n",
      "  %reload_ext autoreload\n"
     ]
    }
   ],
   "source": [
    "%load_ext autoreload\n",
    "%autoreload 2"
   ]
  },
  {
   "cell_type": "markdown",
   "id": "73f228f4-e18c-4adf-ad2e-1c8de0bd464c",
   "metadata": {},
   "source": [
    "## Imports"
   ]
  },
  {
   "cell_type": "code",
   "execution_count": 9,
   "id": "bd6d5ccc-4d7a-4ecb-968a-c51589a2ae75",
   "metadata": {
    "execution": {
     "iopub.execute_input": "2024-11-07T21:48:38.560608Z",
     "iopub.status.busy": "2024-11-07T21:48:38.560079Z",
     "iopub.status.idle": "2024-11-07T21:48:38.688169Z",
     "shell.execute_reply": "2024-11-07T21:48:38.687770Z",
     "shell.execute_reply.started": "2024-11-07T21:48:38.560594Z"
    }
   },
   "outputs": [],
   "source": [
    "import itertools\n",
    "import logging\n",
    "import os\n",
    "import warnings\n",
    "from collections import Counter\n",
    "\n",
    "import matplotlib as mpl\n",
    "import numpy as np\n",
    "import pandas as pd\n",
    "import polars as pl\n",
    "import seaborn as sns\n",
    "from tqdm import tqdm\n",
    "\n",
    "logging.basicConfig(level=logging.INFO)\n",
    "\n",
    "pl.Config.set_verbose()\n",
    "# mpl.rcParams[\"figure.max_open_warning\"] = 0\n",
    "\n",
    "from notifications import notify, notify_done\n",
    "from scop_constants import n_scop_cols, same_scop_cols\n",
    "from sourmash_constants import sourmash_score_cols"
   ]
  },
  {
   "cell_type": "markdown",
   "id": "bd733c28-ca05-4a2d-8e1b-b00316ae037c",
   "metadata": {},
   "source": [
    "# Read in data"
   ]
  },
  {
   "cell_type": "code",
   "execution_count": 10,
   "id": "0b9fbc04-b484-4f5d-a803-2559332d6585",
   "metadata": {
    "execution": {
     "iopub.execute_input": "2024-11-07T21:48:38.689025Z",
     "iopub.status.busy": "2024-11-07T21:48:38.688832Z",
     "iopub.status.idle": "2024-11-07T21:48:38.801912Z",
     "shell.execute_reply": "2024-11-07T21:48:38.801497Z",
     "shell.execute_reply.started": "2024-11-07T21:48:38.689013Z"
    }
   },
   "outputs": [],
   "source": [
    "pq = \"/home/ec2-user/data/seanome-kmerseek/scope-benchmark/analysis-outputs/hp/00_cleaned_multisearch_results/scope40.multisearch.hp.k19.filtered.pq\""
   ]
  },
  {
   "cell_type": "code",
   "execution_count": 11,
   "id": "1e4fc239-83f4-404f-8606-1f56b8444250",
   "metadata": {
    "execution": {
     "iopub.execute_input": "2024-11-07T21:48:38.802458Z",
     "iopub.status.busy": "2024-11-07T21:48:38.802345Z",
     "iopub.status.idle": "2024-11-07T21:48:39.620105Z",
     "shell.execute_reply": "2024-11-07T21:48:39.619744Z",
     "shell.execute_reply.started": "2024-11-07T21:48:38.802448Z"
    }
   },
   "outputs": [
    {
     "data": {
      "text/html": [
       "<div><style>\n",
       ".dataframe > thead > tr,\n",
       ".dataframe > tbody > tr {\n",
       "  text-align: right;\n",
       "  white-space: pre-wrap;\n",
       "}\n",
       "</style>\n",
       "<small>shape: (1_000, 38)</small><table border=\"1\" class=\"dataframe\"><thead><tr><th>query_name</th><th>query_md5</th><th>match_name</th><th>match_md5</th><th>containment</th><th>max_containment</th><th>jaccard</th><th>intersect_hashes</th><th>prob_overlap</th><th>prob_overlap_adjusted</th><th>containment_adjusted</th><th>containment_adjusted_log10</th><th>tf_idf_score</th><th>query_family</th><th>query_superfamily</th><th>query_fold</th><th>query_class</th><th>n_family</th><th>n_superfamily</th><th>n_fold</th><th>n_class</th><th>query_scop_id</th><th>match_family</th><th>match_superfamily</th><th>match_fold</th><th>match_class</th><th>match_scop_id</th><th>same_family</th><th>same_superfamily</th><th>same_fold</th><th>same_class</th><th>ksize</th><th>moltype</th><th>log10_prob_overlap_adjusted</th><th>log10_containment</th><th>log10_max_containment</th><th>log10_tf_idf_score</th><th>log10_jaccard</th></tr><tr><td>str</td><td>str</td><td>str</td><td>str</td><td>f64</td><td>f64</td><td>f64</td><td>f64</td><td>f64</td><td>f64</td><td>f64</td><td>f64</td><td>f64</td><td>cat</td><td>cat</td><td>cat</td><td>cat</td><td>i64</td><td>i64</td><td>i64</td><td>i64</td><td>str</td><td>cat</td><td>cat</td><td>cat</td><td>cat</td><td>str</td><td>bool</td><td>bool</td><td>bool</td><td>bool</td><td>i32</td><td>str</td><td>f64</td><td>f64</td><td>f64</td><td>f64</td><td>f64</td></tr></thead><tbody><tr><td>&quot;d5icea1 a.4.5.0 (A:3-104) auto…</td><td>&quot;421e96bce1ca11c5806b2d7bd54e56…</td><td>&quot;d1ji7a_ a.60.1.1 (A:) Etv6 tra…</td><td>&quot;883fd41e87af891d5c2d9b86c9322e…</td><td>0.035714</td><td>0.050847</td><td>0.021429</td><td>3.0</td><td>1.4040e-11</td><td>0.003234</td><td>11.043209</td><td>1.043095</td><td>0.314312</td><td>&quot;a.4.5.0&quot;</td><td>&quot;a.4.5&quot;</td><td>&quot;a.4&quot;</td><td>&quot;a&quot;</td><td>75</td><td>252</td><td>425</td><td>2644</td><td>&quot;d5icea1&quot;</td><td>&quot;a.60.1.1&quot;</td><td>&quot;a.60.1&quot;</td><td>&quot;a.60&quot;</td><td>&quot;a&quot;</td><td>&quot;d1ji7a_&quot;</td><td>false</td><td>false</td><td>false</td><td>true</td><td>19</td><td>&quot;hp&quot;</td><td>-2.490253</td><td>-1.447158</td><td>-1.293731</td><td>-0.50264</td><td>-1.669007</td></tr><tr><td>&quot;d2cgqa1 a.28.1.0 (A:1-73) auto…</td><td>&quot;3f70e3825f0095d77bb2dffff700eb…</td><td>&quot;d1ji7a_ a.60.1.1 (A:) Etv6 tra…</td><td>&quot;883fd41e87af891d5c2d9b86c9322e…</td><td>0.036364</td><td>0.036364</td><td>0.017857</td><td>2.0</td><td>4.5241e-11</td><td>0.010421</td><td>3.489516</td><td>0.542765</td><td>0.293295</td><td>&quot;a.28.1.0&quot;</td><td>&quot;a.28.1&quot;</td><td>&quot;a.28&quot;</td><td>&quot;a&quot;</td><td>10</td><td>16</td><td>24</td><td>2644</td><td>&quot;d2cgqa1&quot;</td><td>&quot;a.60.1.1&quot;</td><td>&quot;a.60.1&quot;</td><td>&quot;a.60&quot;</td><td>&quot;a&quot;</td><td>&quot;d1ji7a_&quot;</td><td>false</td><td>false</td><td>false</td><td>true</td><td>19</td><td>&quot;hp&quot;</td><td>-1.982098</td><td>-1.439333</td><td>-1.439333</td><td>-0.532695</td><td>-1.748188</td></tr><tr><td>&quot;d3cw2c2 a.60.14.1 (C:85-175) E…</td><td>&quot;4e396c3d2826c868d44b7a6d5edad5…</td><td>&quot;d1ji7a_ a.60.1.1 (A:) Etv6 tra…</td><td>&quot;883fd41e87af891d5c2d9b86c9322e…</td><td>0.054795</td><td>0.067797</td><td>0.03125</td><td>4.0</td><td>7.8781e-11</td><td>0.018147</td><td>3.019546</td><td>0.479942</td><td>0.449557</td><td>&quot;a.60.14.1&quot;</td><td>&quot;a.60.14&quot;</td><td>&quot;a.60&quot;</td><td>&quot;a&quot;</td><td>2</td><td>3</td><td>91</td><td>2644</td><td>&quot;d3cw2c2&quot;</td><td>&quot;a.60.1.1&quot;</td><td>&quot;a.60.1&quot;</td><td>&quot;a.60&quot;</td><td>&quot;a&quot;</td><td>&quot;d1ji7a_&quot;</td><td>false</td><td>false</td><td>true</td><td>true</td><td>19</td><td>&quot;hp&quot;</td><td>-1.741204</td><td>-1.261263</td><td>-1.168792</td><td>-0.347215</td><td>-1.50515</td></tr><tr><td>&quot;d1u7ka_ a.73.1.1 (A:) AKV caps…</td><td>&quot;f716da72651c514cfe72e7d0f39c2b…</td><td>&quot;d1ji7a_ a.60.1.1 (A:) Etv6 tra…</td><td>&quot;883fd41e87af891d5c2d9b86c9322e…</td><td>0.035398</td><td>0.067797</td><td>0.02381</td><td>4.0</td><td>1.4196e-11</td><td>0.00327</td><td>10.825202</td><td>1.034436</td><td>0.314387</td><td>&quot;a.73.1.1&quot;</td><td>&quot;a.73.1&quot;</td><td>&quot;a.73&quot;</td><td>&quot;a&quot;</td><td>5</td><td>8</td><td>8</td><td>2644</td><td>&quot;d1u7ka_&quot;</td><td>&quot;a.60.1.1&quot;</td><td>&quot;a.60.1&quot;</td><td>&quot;a.60&quot;</td><td>&quot;a&quot;</td><td>&quot;d1ji7a_&quot;</td><td>false</td><td>false</td><td>false</td><td>true</td><td>19</td><td>&quot;hp&quot;</td><td>-2.485454</td><td>-1.451018</td><td>-1.168792</td><td>-0.502536</td><td>-1.623249</td></tr><tr><td>&quot;d3bgea1 a.80.1.2 (A:251-434) U…</td><td>&quot;639dbe524cd1ba75742ff8fccc62d3…</td><td>&quot;d1ji7a_ a.60.1.1 (A:) Etv6 tra…</td><td>&quot;883fd41e87af891d5c2d9b86c9322e…</td><td>0.012048</td><td>0.033898</td><td>0.008969</td><td>2.0</td><td>8.1121e-12</td><td>0.001869</td><td>6.447842</td><td>0.809414</td><td>0.106626</td><td>&quot;a.80.1.2&quot;</td><td>&quot;a.80.1&quot;</td><td>&quot;a.80&quot;</td><td>&quot;a&quot;</td><td>3</td><td>13</td><td>13</td><td>2644</td><td>&quot;d3bgea1&quot;</td><td>&quot;a.60.1.1&quot;</td><td>&quot;a.60.1&quot;</td><td>&quot;a.60&quot;</td><td>&quot;a&quot;</td><td>&quot;d1ji7a_&quot;</td><td>false</td><td>false</td><td>false</td><td>true</td><td>19</td><td>&quot;hp&quot;</td><td>-2.728492</td><td>-1.919078</td><td>-1.469822</td><td>-0.972138</td><td>-2.047275</td></tr><tr><td>&hellip;</td><td>&hellip;</td><td>&hellip;</td><td>&hellip;</td><td>&hellip;</td><td>&hellip;</td><td>&hellip;</td><td>&hellip;</td><td>&hellip;</td><td>&hellip;</td><td>&hellip;</td><td>&hellip;</td><td>&hellip;</td><td>&hellip;</td><td>&hellip;</td><td>&hellip;</td><td>&hellip;</td><td>&hellip;</td><td>&hellip;</td><td>&hellip;</td><td>&hellip;</td><td>&hellip;</td><td>&hellip;</td><td>&hellip;</td><td>&hellip;</td><td>&hellip;</td><td>&hellip;</td><td>&hellip;</td><td>&hellip;</td><td>&hellip;</td><td>&hellip;</td><td>&hellip;</td><td>&hellip;</td><td>&hellip;</td><td>&hellip;</td><td>&hellip;</td><td>&hellip;</td><td>&hellip;</td></tr><tr><td>&quot;d4e6pa_ c.2.1.2 (A:) automated…</td><td>&quot;205a7c8dc115031f5e4103eba74fc5…</td><td>&quot;d3dqya_ b.33.1.0 (A:) automate…</td><td>&quot;b5cd595a3d65f01f347e0b0b384e8b…</td><td>0.008403</td><td>0.022727</td><td>0.006173</td><td>2.0</td><td>1.5600e-11</td><td>0.003593</td><td>2.338562</td><td>0.368949</td><td>0.071899</td><td>&quot;c.2.1.2&quot;</td><td>&quot;c.2.1&quot;</td><td>&quot;c.2&quot;</td><td>&quot;c&quot;</td><td>64</td><td>372</td><td>372</td><td>4463</td><td>&quot;d4e6pa_&quot;</td><td>&quot;b.33.1.0&quot;</td><td>&quot;b.33.1&quot;</td><td>&quot;b.33&quot;</td><td>&quot;b&quot;</td><td>&quot;d3dqya_&quot;</td><td>false</td><td>false</td><td>false</td><td>false</td><td>19</td><td>&quot;hp&quot;</td><td>-2.444496</td><td>-2.075547</td><td>-1.643453</td><td>-1.143274</td><td>-2.209515</td></tr><tr><td>&quot;d1y81a1 c.2.1.8 (A:6-121) Hypo…</td><td>&quot;688e649de5b1005d5d50d73eb95ecb…</td><td>&quot;d3dqya_ b.33.1.0 (A:) automate…</td><td>&quot;b5cd595a3d65f01f347e0b0b384e8b…</td><td>0.020408</td><td>0.022727</td><td>0.01087</td><td>2.0</td><td>2.5584e-11</td><td>0.005893</td><td>3.463027</td><td>0.539456</td><td>0.170001</td><td>&quot;c.2.1.8&quot;</td><td>&quot;c.2.1&quot;</td><td>&quot;c.2&quot;</td><td>&quot;c&quot;</td><td>5</td><td>372</td><td>372</td><td>4463</td><td>&quot;d1y81a1&quot;</td><td>&quot;b.33.1.0&quot;</td><td>&quot;b.33.1&quot;</td><td>&quot;b.33&quot;</td><td>&quot;b&quot;</td><td>&quot;d3dqya_&quot;</td><td>false</td><td>false</td><td>false</td><td>false</td><td>19</td><td>&quot;hp&quot;</td><td>-2.229652</td><td>-1.690196</td><td>-1.643453</td><td>-0.769549</td><td>-1.963788</td></tr><tr><td>&quot;d2aefa1 c.2.1.9 (A:116-244) Po…</td><td>&quot;507188243d769461ea2905877e3be7…</td><td>&quot;d3dqya_ b.33.1.0 (A:) automate…</td><td>&quot;b5cd595a3d65f01f347e0b0b384e8b…</td><td>0.018018</td><td>0.022727</td><td>0.010152</td><td>2.0</td><td>1.5288e-11</td><td>0.003522</td><td>5.116545</td><td>0.708977</td><td>0.154021</td><td>&quot;c.2.1.9&quot;</td><td>&quot;c.2.1&quot;</td><td>&quot;c.2&quot;</td><td>&quot;c&quot;</td><td>4</td><td>372</td><td>372</td><td>4463</td><td>&quot;d2aefa1&quot;</td><td>&quot;b.33.1.0&quot;</td><td>&quot;b.33.1&quot;</td><td>&quot;b.33&quot;</td><td>&quot;b&quot;</td><td>&quot;d3dqya_&quot;</td><td>false</td><td>false</td><td>false</td><td>false</td><td>19</td><td>&quot;hp&quot;</td><td>-2.45327</td><td>-1.744293</td><td>-1.643453</td><td>-0.81242</td><td>-1.993436</td></tr><tr><td>&quot;d2z1na_ c.2.1.0 (A:) automated…</td><td>&quot;6c898f22db65a18dc0454a119dd782…</td><td>&quot;d3dqya_ b.33.1.0 (A:) automate…</td><td>&quot;b5cd595a3d65f01f347e0b0b384e8b…</td><td>0.012397</td><td>0.034091</td><td>0.009174</td><td>3.0</td><td>3.0265e-11</td><td>0.006971</td><td>1.778279</td><td>0.25</td><td>0.10456</td><td>&quot;c.2.1.0&quot;</td><td>&quot;c.2.1&quot;</td><td>&quot;c.2&quot;</td><td>&quot;c&quot;</td><td>196</td><td>372</td><td>372</td><td>4463</td><td>&quot;d2z1na_&quot;</td><td>&quot;b.33.1.0&quot;</td><td>&quot;b.33.1&quot;</td><td>&quot;b.33&quot;</td><td>&quot;b&quot;</td><td>&quot;d3dqya_&quot;</td><td>false</td><td>false</td><td>false</td><td>false</td><td>19</td><td>&quot;hp&quot;</td><td>-2.156694</td><td>-1.906694</td><td>-1.467361</td><td>-0.980634</td><td>-2.037426</td></tr><tr><td>&quot;d2voua1 c.3.1.2 (A:2-163,A:292…</td><td>&quot;addebdef27cdc2305a9a31c6c843e6…</td><td>&quot;d3dqya_ b.33.1.0 (A:) automate…</td><td>&quot;b5cd595a3d65f01f347e0b0b384e8b…</td><td>0.016129</td><td>0.045455</td><td>0.012048</td><td>4.0</td><td>2.2776e-11</td><td>0.005246</td><td>3.074336</td><td>0.487751</td><td>0.14011</td><td>&quot;c.3.1.2&quot;</td><td>&quot;c.3.1&quot;</td><td>&quot;c.3&quot;</td><td>&quot;c&quot;</td><td>19</td><td>74</td><td>74</td><td>4463</td><td>&quot;d2voua1&quot;</td><td>&quot;b.33.1.0&quot;</td><td>&quot;b.33.1&quot;</td><td>&quot;b.33&quot;</td><td>&quot;b&quot;</td><td>&quot;d3dqya_&quot;</td><td>false</td><td>false</td><td>false</td><td>false</td><td>19</td><td>&quot;hp&quot;</td><td>-2.280143</td><td>-1.792392</td><td>-1.342423</td><td>-0.85353</td><td>-1.919078</td></tr></tbody></table></div>"
      ],
      "text/plain": [
       "shape: (1_000, 38)\n",
       "┌───────────┬───────────┬───────────┬───────────┬───┬───────────┬───────────┬───────────┬──────────┐\n",
       "│ query_nam ┆ query_md5 ┆ match_nam ┆ match_md5 ┆ … ┆ log10_con ┆ log10_max ┆ log10_tf_ ┆ log10_ja │\n",
       "│ e         ┆ ---       ┆ e         ┆ ---       ┆   ┆ tainment  ┆ _containm ┆ idf_score ┆ ccard    │\n",
       "│ ---       ┆ str       ┆ ---       ┆ str       ┆   ┆ ---       ┆ ent       ┆ ---       ┆ ---      │\n",
       "│ str       ┆           ┆ str       ┆           ┆   ┆ f64       ┆ ---       ┆ f64       ┆ f64      │\n",
       "│           ┆           ┆           ┆           ┆   ┆           ┆ f64       ┆           ┆          │\n",
       "╞═══════════╪═══════════╪═══════════╪═══════════╪═══╪═══════════╪═══════════╪═══════════╪══════════╡\n",
       "│ d5icea1   ┆ 421e96bce ┆ d1ji7a_   ┆ 883fd41e8 ┆ … ┆ -1.447158 ┆ -1.293731 ┆ -0.50264  ┆ -1.66900 │\n",
       "│ a.4.5.0   ┆ 1ca11c580 ┆ a.60.1.1  ┆ 7af891d5c ┆   ┆           ┆           ┆           ┆ 7        │\n",
       "│ (A:3-104) ┆ 6b2d7bd54 ┆ (A:) Etv6 ┆ 2d9b86c93 ┆   ┆           ┆           ┆           ┆          │\n",
       "│ auto…     ┆ e56…      ┆ tra…      ┆ 22e…      ┆   ┆           ┆           ┆           ┆          │\n",
       "│ d2cgqa1   ┆ 3f70e3825 ┆ d1ji7a_   ┆ 883fd41e8 ┆ … ┆ -1.439333 ┆ -1.439333 ┆ -0.532695 ┆ -1.74818 │\n",
       "│ a.28.1.0  ┆ f0095d77b ┆ a.60.1.1  ┆ 7af891d5c ┆   ┆           ┆           ┆           ┆ 8        │\n",
       "│ (A:1-73)  ┆ b2dffff70 ┆ (A:) Etv6 ┆ 2d9b86c93 ┆   ┆           ┆           ┆           ┆          │\n",
       "│ auto…     ┆ 0eb…      ┆ tra…      ┆ 22e…      ┆   ┆           ┆           ┆           ┆          │\n",
       "│ d3cw2c2   ┆ 4e396c3d2 ┆ d1ji7a_   ┆ 883fd41e8 ┆ … ┆ -1.261263 ┆ -1.168792 ┆ -0.347215 ┆ -1.50515 │\n",
       "│ a.60.14.1 ┆ 826c868d4 ┆ a.60.1.1  ┆ 7af891d5c ┆   ┆           ┆           ┆           ┆          │\n",
       "│ (C:85-175 ┆ 4b7a6d5ed ┆ (A:) Etv6 ┆ 2d9b86c93 ┆   ┆           ┆           ┆           ┆          │\n",
       "│ ) E…      ┆ ad5…      ┆ tra…      ┆ 22e…      ┆   ┆           ┆           ┆           ┆          │\n",
       "│ d1u7ka_   ┆ f716da726 ┆ d1ji7a_   ┆ 883fd41e8 ┆ … ┆ -1.451018 ┆ -1.168792 ┆ -0.502536 ┆ -1.62324 │\n",
       "│ a.73.1.1  ┆ 51c514cfe ┆ a.60.1.1  ┆ 7af891d5c ┆   ┆           ┆           ┆           ┆ 9        │\n",
       "│ (A:) AKV  ┆ 72e7d0f39 ┆ (A:) Etv6 ┆ 2d9b86c93 ┆   ┆           ┆           ┆           ┆          │\n",
       "│ caps…     ┆ c2b…      ┆ tra…      ┆ 22e…      ┆   ┆           ┆           ┆           ┆          │\n",
       "│ d3bgea1   ┆ 639dbe524 ┆ d1ji7a_   ┆ 883fd41e8 ┆ … ┆ -1.919078 ┆ -1.469822 ┆ -0.972138 ┆ -2.04727 │\n",
       "│ a.80.1.2  ┆ cd1ba7574 ┆ a.60.1.1  ┆ 7af891d5c ┆   ┆           ┆           ┆           ┆ 5        │\n",
       "│ (A:251-43 ┆ 2ff8fccc6 ┆ (A:) Etv6 ┆ 2d9b86c93 ┆   ┆           ┆           ┆           ┆          │\n",
       "│ 4) U…     ┆ 2d3…      ┆ tra…      ┆ 22e…      ┆   ┆           ┆           ┆           ┆          │\n",
       "│ …         ┆ …         ┆ …         ┆ …         ┆ … ┆ …         ┆ …         ┆ …         ┆ …        │\n",
       "│ d4e6pa_   ┆ 205a7c8dc ┆ d3dqya_   ┆ b5cd595a3 ┆ … ┆ -2.075547 ┆ -1.643453 ┆ -1.143274 ┆ -2.20951 │\n",
       "│ c.2.1.2   ┆ 115031f5e ┆ b.33.1.0  ┆ d65f01f34 ┆   ┆           ┆           ┆           ┆ 5        │\n",
       "│ (A:) auto ┆ 4103eba74 ┆ (A:)      ┆ 7e0b0b384 ┆   ┆           ┆           ┆           ┆          │\n",
       "│ mated…    ┆ fc5…      ┆ automate… ┆ e8b…      ┆   ┆           ┆           ┆           ┆          │\n",
       "│ d1y81a1   ┆ 688e649de ┆ d3dqya_   ┆ b5cd595a3 ┆ … ┆ -1.690196 ┆ -1.643453 ┆ -0.769549 ┆ -1.96378 │\n",
       "│ c.2.1.8   ┆ 5b1005d5d ┆ b.33.1.0  ┆ d65f01f34 ┆   ┆           ┆           ┆           ┆ 8        │\n",
       "│ (A:6-121) ┆ 50d73eb95 ┆ (A:)      ┆ 7e0b0b384 ┆   ┆           ┆           ┆           ┆          │\n",
       "│ Hypo…     ┆ ecb…      ┆ automate… ┆ e8b…      ┆   ┆           ┆           ┆           ┆          │\n",
       "│ d2aefa1   ┆ 507188243 ┆ d3dqya_   ┆ b5cd595a3 ┆ … ┆ -1.744293 ┆ -1.643453 ┆ -0.81242  ┆ -1.99343 │\n",
       "│ c.2.1.9   ┆ d769461ea ┆ b.33.1.0  ┆ d65f01f34 ┆   ┆           ┆           ┆           ┆ 6        │\n",
       "│ (A:116-24 ┆ 2905877e3 ┆ (A:)      ┆ 7e0b0b384 ┆   ┆           ┆           ┆           ┆          │\n",
       "│ 4) Po…    ┆ be7…      ┆ automate… ┆ e8b…      ┆   ┆           ┆           ┆           ┆          │\n",
       "│ d2z1na_   ┆ 6c898f22d ┆ d3dqya_   ┆ b5cd595a3 ┆ … ┆ -1.906694 ┆ -1.467361 ┆ -0.980634 ┆ -2.03742 │\n",
       "│ c.2.1.0   ┆ b65a18dc0 ┆ b.33.1.0  ┆ d65f01f34 ┆   ┆           ┆           ┆           ┆ 6        │\n",
       "│ (A:) auto ┆ 454a119dd ┆ (A:)      ┆ 7e0b0b384 ┆   ┆           ┆           ┆           ┆          │\n",
       "│ mated…    ┆ 782…      ┆ automate… ┆ e8b…      ┆   ┆           ┆           ┆           ┆          │\n",
       "│ d2voua1   ┆ addebdef2 ┆ d3dqya_   ┆ b5cd595a3 ┆ … ┆ -1.792392 ┆ -1.342423 ┆ -0.85353  ┆ -1.91907 │\n",
       "│ c.3.1.2   ┆ 7cdc2305a ┆ b.33.1.0  ┆ d65f01f34 ┆   ┆           ┆           ┆           ┆ 8        │\n",
       "│ (A:2-163, ┆ 9a31c6c84 ┆ (A:)      ┆ 7e0b0b384 ┆   ┆           ┆           ┆           ┆          │\n",
       "│ A:292…    ┆ 3e6…      ┆ automate… ┆ e8b…      ┆   ┆           ┆           ┆           ┆          │\n",
       "└───────────┴───────────┴───────────┴───────────┴───┴───────────┴───────────┴───────────┴──────────┘"
      ]
     },
     "execution_count": 11,
     "metadata": {},
     "output_type": "execute_result"
    }
   ],
   "source": [
    "multisearch_head = pl.read_parquet(pq, n_rows=1000)\n",
    "multisearch_head"
   ]
  },
  {
   "cell_type": "markdown",
   "id": "99ede8ba-4042-4485-ae5f-c54eff283700",
   "metadata": {},
   "source": [
    "### Read one of the files for schema"
   ]
  },
  {
   "cell_type": "code",
   "execution_count": 12,
   "id": "af45facc-f5db-4654-b3df-56f50007b689",
   "metadata": {
    "execution": {
     "iopub.execute_input": "2024-11-07T21:48:39.620909Z",
     "iopub.status.busy": "2024-11-07T21:48:39.620793Z",
     "iopub.status.idle": "2024-11-07T21:48:39.790515Z",
     "shell.execute_reply": "2024-11-07T21:48:39.790175Z",
     "shell.execute_reply.started": "2024-11-07T21:48:39.620899Z"
    }
   },
   "outputs": [
    {
     "data": {
      "text/plain": [
       "{'query_name': String,\n",
       " 'query_md5': String,\n",
       " 'match_name': String,\n",
       " 'match_md5': String,\n",
       " 'containment': Float64,\n",
       " 'max_containment': Float64,\n",
       " 'jaccard': Float64,\n",
       " 'intersect_hashes': Float64,\n",
       " 'prob_overlap': Float64,\n",
       " 'prob_overlap_adjusted': Float64,\n",
       " 'containment_adjusted': Float64,\n",
       " 'containment_adjusted_log10': Float64,\n",
       " 'tf_idf_score': Float64,\n",
       " 'query_family': Categorical(ordering='physical'),\n",
       " 'query_superfamily': Categorical(ordering='physical'),\n",
       " 'query_fold': Categorical(ordering='physical'),\n",
       " 'query_class': Categorical(ordering='physical'),\n",
       " 'n_family': Int64,\n",
       " 'n_superfamily': Int64,\n",
       " 'n_fold': Int64,\n",
       " 'n_class': Int64,\n",
       " 'query_scop_id': String,\n",
       " 'match_family': Categorical(ordering='physical'),\n",
       " 'match_superfamily': Categorical(ordering='physical'),\n",
       " 'match_fold': Categorical(ordering='physical'),\n",
       " 'match_class': Categorical(ordering='physical'),\n",
       " 'match_scop_id': String,\n",
       " 'same_family': Boolean,\n",
       " 'same_superfamily': Boolean,\n",
       " 'same_fold': Boolean,\n",
       " 'same_class': Boolean,\n",
       " 'ksize': Int32,\n",
       " 'moltype': String,\n",
       " 'log10_prob_overlap_adjusted': Float64,\n",
       " 'log10_containment': Float64,\n",
       " 'log10_max_containment': Float64,\n",
       " 'log10_tf_idf_score': Float64,\n",
       " 'log10_jaccard': Float64}"
      ]
     },
     "execution_count": 12,
     "metadata": {},
     "output_type": "execute_result"
    }
   ],
   "source": [
    "multisearch_schema = pl.read_parquet_schema(pq)\n",
    "multisearch_schema"
   ]
  },
  {
   "cell_type": "markdown",
   "id": "fab3307b-dd1c-4107-9be3-da5f35c3861e",
   "metadata": {},
   "source": [
    "## Test initial function"
   ]
  },
  {
   "cell_type": "code",
   "execution_count": 13,
   "id": "13e4969e-0053-4886-b873-fc01d7971f97",
   "metadata": {
    "execution": {
     "iopub.execute_input": "2024-11-07T21:48:39.791171Z",
     "iopub.status.busy": "2024-11-07T21:48:39.791051Z",
     "iopub.status.idle": "2024-11-07T21:48:39.925319Z",
     "shell.execute_reply": "2024-11-07T21:48:39.924923Z",
     "shell.execute_reply.started": "2024-11-07T21:48:39.791160Z"
    }
   },
   "outputs": [],
   "source": [
    "# dfs = []\n",
    "\n",
    "# for sourmash_col in sourmash_score_cols:\n",
    "#     df = (\n",
    "#         multisearch.sort(sourmash_col, descending=True)\n",
    "#         # .head(1000)\n",
    "#         .group_by(\"query_scop_id\").agg(\n",
    "#             sensitivity_until_first_false_positive(same_scop_cols, n_scop_cols)\n",
    "#         )\n",
    "#     ).fill_nan(0)\n",
    "#     tidy = tidify_sensitivity(df)\n",
    "#     tidy = tidy.with_columns(pl.lit(sourmash_col).alias(\"sourmash_score\"))\n",
    "\n",
    "#     dfs.append(tidy)\n",
    "\n",
    "# sensitivity = pl.concat(dfs)\n",
    "# sensitivity = sensitivity.with_columns(pl.lit(\"hp\").alias(\"moltype\"))\n",
    "# sensitivity = sensitivity.with_columns(pl.lit(19).alias(\"ksize\"))\n",
    "# sensitivity"
   ]
  },
  {
   "cell_type": "code",
   "execution_count": 14,
   "id": "774b7335-66b1-4ac0-a166-7bcc4b154e1d",
   "metadata": {
    "execution": {
     "iopub.execute_input": "2024-11-07T21:48:39.925838Z",
     "iopub.status.busy": "2024-11-07T21:48:39.925732Z",
     "iopub.status.idle": "2024-11-07T21:48:40.021338Z",
     "shell.execute_reply": "2024-11-07T21:48:40.020946Z",
     "shell.execute_reply.started": "2024-11-07T21:48:39.925828Z"
    }
   },
   "outputs": [],
   "source": [
    "# dict(\n",
    "#     [\n",
    "#         (\"query_scop_id\", str),\n",
    "#         (\"lineage\", str),\n",
    "#         (\"sensitivity\", float),\n",
    "#         (\"sensitivity_rank\", int),\n",
    "#     ]\n",
    "# )"
   ]
  },
  {
   "cell_type": "markdown",
   "id": "c00a0d69-e730-4c76-8f96-d6938813d0f3",
   "metadata": {},
   "source": [
    "### Function to compute sensitivity"
   ]
  },
  {
   "cell_type": "code",
   "execution_count": 15,
   "id": "d0a3db55-68ce-4d64-afdc-109c1fca74ae",
   "metadata": {
    "execution": {
     "iopub.execute_input": "2024-11-07T21:48:40.021891Z",
     "iopub.status.busy": "2024-11-07T21:48:40.021783Z",
     "iopub.status.idle": "2024-11-07T21:48:40.097606Z",
     "shell.execute_reply": "2024-11-07T21:48:40.097233Z",
     "shell.execute_reply.started": "2024-11-07T21:48:40.021880Z"
    }
   },
   "outputs": [],
   "source": [
    "# def compute_sensitivity(multisearch, sourmash_cols, moltype, ksize):\n",
    "#     dfs = []\n",
    "\n",
    "#     for sourmash_col in tqdm(sourmash_score_cols):\n",
    "#         df = (\n",
    "#             multisearch.sort(sourmash_col, descending=True)\n",
    "#             # .head(1000)\n",
    "#             .group_by(\"query_scop_id\").agg(\n",
    "#                 sensitivity_until_first_false_positive(same_scop_cols, n_scop_cols)\n",
    "#             )\n",
    "#         ).fill_nan(0)\n",
    "#         tidy = tidify_sensitivity(df)\n",
    "#         tidy = tidy.with_columns(pl.lit(sourmash_col).alias(\"sourmash_score\"))\n",
    "#         dfs.append(tidy)\n",
    "\n",
    "#     sensitivity = pl.concat(dfs)\n",
    "#     # print(\"sensitivity.shape:\", sensitivity.shape)\n",
    "#     sensitivity = sensitivity.with_columns(pl.lit(moltype).alias(\"moltype\"))\n",
    "#     sensitivity = sensitivity.with_columns(pl.lit(ksize).alias(\"ksize\"))\n",
    "#     return sensitivity"
   ]
  },
  {
   "cell_type": "markdown",
   "id": "e5d39005-6b22-4d8e-9cde-a3e8217c4103",
   "metadata": {},
   "source": [
    "## Iterate over all ksizes and moltypes"
   ]
  },
  {
   "cell_type": "code",
   "execution_count": 16,
   "id": "ad5d11e4-b23d-49cb-ad1f-dc378718c6c9",
   "metadata": {
    "execution": {
     "iopub.execute_input": "2024-11-07T21:48:40.177642Z",
     "iopub.status.busy": "2024-11-07T21:48:40.177372Z",
     "iopub.status.idle": "2024-11-07T21:48:40.666774Z",
     "shell.execute_reply": "2024-11-07T21:48:40.666390Z",
     "shell.execute_reply.started": "2024-11-07T21:48:40.177630Z"
    }
   },
   "outputs": [],
   "source": [
    "from sensitivity_until_first_false_positive import MultisearchSensitivityCalculator"
   ]
  },
  {
   "cell_type": "code",
   "execution_count": null,
   "id": "a09f0448-15f4-4d8b-afac-f210657836c8",
   "metadata": {
    "execution": {
     "iopub.execute_input": "2024-11-07T21:48:40.667574Z",
     "iopub.status.busy": "2024-11-07T21:48:40.667405Z"
    }
   },
   "outputs": [
    {
     "name": "stderr",
     "output_type": "stream",
     "text": [
      "INFO:notifications:--- moltype: hp, ksize: 15 --\n",
      "INFO:notifications:pq out: /home/ec2-user/data/seanome-kmerseek/scope-benchmark/analysis-outputs/hp/01_sensitivity_until_first_false_positive/scope40.multisearch.hp.15.sensitivity_to_first_fp.pq\n",
      "INFO:notifications:Reading /home/ec2-user/data/seanome-kmerseek/scope-benchmark/analysis-outputs/hp/00_cleaned_multisearch_results/scope40.multisearch.hp.k15.filtered.pq ...\n",
      "INFO:notifications:Done.\n",
      "  0%|                                                                                                                                 | 0/8 [00:00<?, ?it/s]INFO:notifications:Writing 'containment' sensitivity dataframe to /tmp/sensitivityaog6__mn.containment.parquet ...\n",
      "keys/aggregates are not partitionable: running default HASH AGGREGATION\n",
      "keys/aggregates are not partitionable: running default HASH AGGREGATION\n"
     ]
    }
   ],
   "source": [
    "# from sensitivity_outdir\n",
    "\n",
    "\n",
    "moltype_info = {\n",
    "    # \"protein\": dict(\n",
    "    #     ksizes=range(5, 21),\n",
    "    #     pipeline_outdir=\"s3://seanome-kmerseek/scope-benchmark/pipeline-outputs/2024-10-08__protein_k5-20\",\n",
    "    #     analysis_outdir=\"s3://seanome-kmerseek/scope-benchmark/analysis-outputs/protein\",\n",
    "    # ),\n",
    "    # \"dayhoff\": dict(\n",
    "    #     ksizes=range(5, 21),\n",
    "    #     pipeline_outdir=\"s3://seanome-kmerseek/scope-benchmark/pipeline-outputs/2024-10-09__dayhoff_k5-20\",\n",
    "    #     analysis_outdir=\"s3://seanome-kmerseek/scope-benchmark/analysis-outputs/dayhoff\",\n",
    "    # ),\n",
    "    \"hp\": dict(\n",
    "        ksizes=reversed(range(10, 16)),\n",
    "        # pipeline_outdir=\"s3://seanome-kmerseek/scope-benchmark/pipeline-outputs/2024-10-09__hp_k20-60\",\n",
    "        pipeline_outdir=\"/home/ec2-user/data/seanome-kmerseek/scope-benchmark/pipeline-outputs/2024-10-09__hp_k20-60\",\n",
    "        # analysis_outdir=\"s3://seanome-kmerseek/scope-benchmark/analysis-outputs/hp\",\n",
    "        analysis_outdir=\"/home/ec2-user/data/seanome-kmerseek/scope-benchmark/analysis-outputs/hp\",\n",
    "    ),\n",
    "}\n",
    "\n",
    "basename_template = r\"scope40.multisearch.{moltype}.k{ksize}.filtered.pq\"\n",
    "\n",
    "for moltype, info in moltype_info.items():\n",
    "    ksizes = info[\"ksizes\"]\n",
    "    cleaned_outdir = os.path.join(\n",
    "        info[\"analysis_outdir\"], \"00_cleaned_multisearch_results\"\n",
    "    )\n",
    "    sensitivity_outdir = os.path.join(\n",
    "        info[\"analysis_outdir\"], \"01_sensitivity_until_first_false_positive\"\n",
    "    )\n",
    "    if not os.path.exists(sensitivity_outdir):\n",
    "        ! mkdir $sensitivity_outdir\n",
    "    for ksize in ksizes:\n",
    "\n",
    "        msc = MultisearchSensitivityCalculator(moltype, ksize, cleaned_outdir, sensitivity_outdir)\n",
    "        msc.calculate_sensitivity()\n",
    "\n",
    "        # multisearch_sensitivity\n",
    "        # notify(f\"--- moltype: {moltype}, ksize: {ksize} --\")\n",
    "\n",
    "        # pq_out = os.path.join(\n",
    "        #     sensitivity_outdir, \n",
    "        #     f\"scope40.multisearch.{moltype}.{ksize}.sensitivity_to_first_fp.pq\"\n",
    "        # )\n",
    "        # notify(f'pq out: {pq_out}')\n",
    "        # if os.path.exists(pq_out):\n",
    "        #     continue\n",
    "        \n",
    "        # basename = basename_template.format(moltype=moltype, ksize=ksize)\n",
    "        # pq = os.path.join(cleaned_outdir, basename)\n",
    "        # notify(f\"Reading {pq} ...\")\n",
    "        # multisearch = pl.scan_parquet(pq, schema=multisearch_schema, parallel='row_groups')\n",
    "        # notify_done()\n",
    "        # sensitivity = compute_sensitivity(\n",
    "        #     multisearch, sourmash_score_cols, moltype, ksize\n",
    "        # )\n",
    "\n",
    "        # notify(f'Writing {pq_out} ... ')\n",
    "        # sensitivity.sink_parquet(pq_out, row_group_size=1000)\n",
    "        # # sensitivity.collect().write_parquet(pq_out)\n",
    "        # notify_done()"
   ]
  },
  {
   "cell_type": "code",
   "execution_count": null,
   "id": "5d28acda-5b57-4033-8928-54f849f2c8fa",
   "metadata": {},
   "outputs": [],
   "source": [
    "# sensitivity.show_graph()"
   ]
  },
  {
   "cell_type": "code",
   "execution_count": 14,
   "id": "bb9d7b5e-3b69-473a-8e22-072003c3cca4",
   "metadata": {
    "execution": {
     "iopub.execute_input": "2024-11-06T21:56:10.649274Z",
     "iopub.status.busy": "2024-11-06T21:56:10.649062Z",
     "iopub.status.idle": "2024-11-06T21:56:10.663474Z",
     "shell.execute_reply": "2024-11-06T21:56:10.663212Z",
     "shell.execute_reply.started": "2024-11-06T21:56:10.649261Z"
    }
   },
   "outputs": [],
   "source": [
    "# sensitivity.comm"
   ]
  },
  {
   "cell_type": "code",
   "execution_count": 15,
   "id": "e218eec4-34c6-4fe2-bf38-1ebc124c1f2a",
   "metadata": {
    "execution": {
     "iopub.execute_input": "2024-11-06T21:56:10.733857Z",
     "iopub.status.busy": "2024-11-06T21:56:10.733546Z",
     "iopub.status.idle": "2024-11-06T21:56:10.754356Z",
     "shell.execute_reply": "2024-11-06T21:56:10.754042Z",
     "shell.execute_reply.started": "2024-11-06T21:56:10.733844Z"
    }
   },
   "outputs": [
    {
     "ename": "NameError",
     "evalue": "name 'sensitivity' is not defined",
     "output_type": "error",
     "traceback": [
      "\u001b[0;31m---------------------------------------------------------------------------\u001b[0m",
      "\u001b[0;31mNameError\u001b[0m                                 Traceback (most recent call last)",
      "Cell \u001b[0;32mIn[15], line 1\u001b[0m\n\u001b[0;32m----> 1\u001b[0m \u001b[43msensitivity\u001b[49m\u001b[38;5;241m.\u001b[39mshape\n",
      "\u001b[0;31mNameError\u001b[0m: name 'sensitivity' is not defined"
     ]
    }
   ],
   "source": [
    "sensitivity.shape"
   ]
  },
  {
   "cell_type": "code",
   "execution_count": null,
   "id": "67b33ba3-1872-492a-8ece-3d630d0c63bd",
   "metadata": {},
   "outputs": [],
   "source": [
    "# g = sns.catplot(\n",
    "#     data=sensitivity,\n",
    "#     col=\"sourmash_score\",\n",
    "#     hue=\"ksize\",\n",
    "#     y=\"variable\",\n",
    "#     x=\"sensitivity\",\n",
    "#     col_wrap=4, height=3\n",
    "# )"
   ]
  },
  {
   "cell_type": "code",
   "execution_count": null,
   "id": "46ab4dfc-e48c-4659-9400-9cfb446825b1",
   "metadata": {},
   "outputs": [],
   "source": [
    "# %debug"
   ]
  },
  {
   "cell_type": "code",
   "execution_count": null,
   "id": "d34d52fd-e904-4fcf-af69-0b51b85aa8d8",
   "metadata": {},
   "outputs": [],
   "source": []
  },
  {
   "cell_type": "code",
   "execution_count": null,
   "id": "6d1ff1e3-c1f8-47df-8577-e72da3ae1984",
   "metadata": {},
   "outputs": [],
   "source": [
    "cv"
   ]
  }
 ],
 "metadata": {
  "kernelspec": {
   "display_name": "Python [conda env:2024-kmerseek-analysis-polars]",
   "language": "python",
   "name": "conda-env-2024-kmerseek-analysis-polars-py"
  },
  "language_info": {
   "codemirror_mode": {
    "name": "ipython",
    "version": 3
   },
   "file_extension": ".py",
   "mimetype": "text/x-python",
   "name": "python",
   "nbconvert_exporter": "python",
   "pygments_lexer": "ipython3",
   "version": "3.12.7"
  }
 },
 "nbformat": 4,
 "nbformat_minor": 5
}
