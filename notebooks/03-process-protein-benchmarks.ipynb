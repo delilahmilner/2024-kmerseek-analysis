{
 "cells": [
  {
   "cell_type": "markdown",
   "id": "c7b68939-9b88-442b-872e-69fb175ce903",
   "metadata": {},
   "source": [
    "# Imports and setup"
   ]
  },
  {
   "cell_type": "markdown",
   "id": "9f82e23d-66f0-440a-8163-dfffae025202",
   "metadata": {},
   "source": [
    "### Auto-re-import python modules, useful for editing local fils"
   ]
  },
  {
   "cell_type": "code",
   "execution_count": 1,
   "id": "1616f0c6-9104-4889-9fde-4c85479fb245",
   "metadata": {},
   "outputs": [],
   "source": [
    "%load_ext autoreload\n",
    "%autoreload 2"
   ]
  },
  {
   "cell_type": "markdown",
   "id": "1f8ce8fc-4e4f-4d34-8ea5-07af0dd1de7e",
   "metadata": {},
   "source": [
    "## Imports"
   ]
  },
  {
   "cell_type": "code",
   "execution_count": 2,
   "id": "a905ccc7-8a61-40cd-b56a-36c5935ef523",
   "metadata": {},
   "outputs": [],
   "source": [
    "import itertools\n",
    "\n",
    "import matplotlib as mpl\n",
    "import pandas as pd\n",
    "import seaborn as sns\n",
    "\n",
    "mpl.rcParams[\"figure.max_open_warning\"] = 0\n",
    "\n",
    "# Handwritten local modules\n",
    "import process_scop_sourmash_multisearch"
   ]
  },
  {
   "cell_type": "markdown",
   "id": "4c099fc7-f907-4583-99be-c94ab7d8671f",
   "metadata": {},
   "source": [
    "# Read in data"
   ]
  },
  {
   "cell_type": "code",
   "execution_count": 3,
   "id": "195f1815-6420-4a0d-aa49-7b84f6d2ce79",
   "metadata": {},
   "outputs": [],
   "source": [
    "analysis_outdir = (\n",
    "    \"s3://seanome-kmerseek/scope-benchmark/analysis-outputs/2024-10-09__protein_k5-20\"\n",
    ")"
   ]
  },
  {
   "cell_type": "code",
   "execution_count": 4,
   "id": "56fa62a8-b603-4fa8-a11e-aa699a26045f",
   "metadata": {},
   "outputs": [
    {
     "name": "stdout",
     "output_type": "stream",
     "text": [
      "                           PRE multiqc/\n",
      "                           PRE pipeline_info/\n",
      "                           PRE seqkit/\n",
      "                           PRE sourmash/\n"
     ]
    }
   ],
   "source": [
    "pipeline_outdir = (\n",
    "    \"s3://seanome-kmerseek/scope-benchmark/pipeline-outputs/2024-10-08__protein_k5-20\"\n",
    ")\n",
    "! aws s3 ls $pipeline_outdir/"
   ]
  },
  {
   "cell_type": "code",
   "execution_count": 5,
   "id": "fb0ea835-39cc-4846-af2b-eb5c63f888d8",
   "metadata": {},
   "outputs": [
    {
     "name": "stdout",
     "output_type": "stream",
     "text": [
      "                           PRE multisearch/\n",
      "                           PRE sigs/\n"
     ]
    }
   ],
   "source": [
    "! aws s3 ls $pipeline_outdir/sourmash/"
   ]
  },
  {
   "cell_type": "code",
   "execution_count": 6,
   "id": "defc7224-89ad-4235-b18d-2d5ddf7b1321",
   "metadata": {},
   "outputs": [
    {
     "name": "stdout",
     "output_type": "stream",
     "text": [
      "2024-10-09 13:29:03    0 Bytes \n",
      "2024-10-09 03:28:12    6.0 MiB astral-scopedom-seqres-gd-sel-gs-bib-40-2.08.part_001.fa--in--astral-scopedom-seqres-gd-sel-gs-bib-40-2.08.part_001.fa.protein.10.multisearch.csv\n",
      "2024-10-09 06:17:15    5.7 MiB astral-scopedom-seqres-gd-sel-gs-bib-40-2.08.part_001.fa--in--astral-scopedom-seqres-gd-sel-gs-bib-40-2.08.part_001.fa.protein.11.multisearch.csv\n",
      "2024-10-09 04:22:24    5.5 MiB astral-scopedom-seqres-gd-sel-gs-bib-40-2.08.part_001.fa--in--astral-scopedom-seqres-gd-sel-gs-bib-40-2.08.part_001.fa.protein.12.multisearch.csv\n",
      "2024-10-09 08:07:15    5.5 MiB astral-scopedom-seqres-gd-sel-gs-bib-40-2.08.part_001.fa--in--astral-scopedom-seqres-gd-sel-gs-bib-40-2.08.part_001.fa.protein.13.multisearch.csv\n",
      "2024-10-09 07:10:35    5.4 MiB astral-scopedom-seqres-gd-sel-gs-bib-40-2.08.part_001.fa--in--astral-scopedom-seqres-gd-sel-gs-bib-40-2.08.part_001.fa.protein.14.multisearch.csv\n",
      "2024-10-09 12:35:34    5.4 MiB astral-scopedom-seqres-gd-sel-gs-bib-40-2.08.part_001.fa--in--astral-scopedom-seqres-gd-sel-gs-bib-40-2.08.part_001.fa.protein.15.multisearch.csv\n",
      "2024-10-09 09:54:25    5.4 MiB astral-scopedom-seqres-gd-sel-gs-bib-40-2.08.part_001.fa--in--astral-scopedom-seqres-gd-sel-gs-bib-40-2.08.part_001.fa.protein.16.multisearch.csv\n",
      "2024-10-09 08:57:55    5.4 MiB astral-scopedom-seqres-gd-sel-gs-bib-40-2.08.part_001.fa--in--astral-scopedom-seqres-gd-sel-gs-bib-40-2.08.part_001.fa.protein.17.multisearch.csv\n",
      "2024-10-09 11:36:24    5.4 MiB astral-scopedom-seqres-gd-sel-gs-bib-40-2.08.part_001.fa--in--astral-scopedom-seqres-gd-sel-gs-bib-40-2.08.part_001.fa.protein.18.multisearch.csv\n",
      "2024-10-09 13:29:03    5.4 MiB astral-scopedom-seqres-gd-sel-gs-bib-40-2.08.part_001.fa--in--astral-scopedom-seqres-gd-sel-gs-bib-40-2.08.part_001.fa.protein.19.multisearch.csv\n",
      "2024-10-09 10:43:33    5.4 MiB astral-scopedom-seqres-gd-sel-gs-bib-40-2.08.part_001.fa--in--astral-scopedom-seqres-gd-sel-gs-bib-40-2.08.part_001.fa.protein.20.multisearch.csv\n",
      "2024-10-09 00:40:23    2.3 GiB astral-scopedom-seqres-gd-sel-gs-bib-40-2.08.part_001.fa--in--astral-scopedom-seqres-gd-sel-gs-bib-40-2.08.part_001.fa.protein.5.multisearch.csv\n",
      "2024-10-09 02:30:23  175.0 MiB astral-scopedom-seqres-gd-sel-gs-bib-40-2.08.part_001.fa--in--astral-scopedom-seqres-gd-sel-gs-bib-40-2.08.part_001.fa.protein.6.multisearch.csv\n",
      "2024-10-09 00:24:32   20.7 MiB astral-scopedom-seqres-gd-sel-gs-bib-40-2.08.part_001.fa--in--astral-scopedom-seqres-gd-sel-gs-bib-40-2.08.part_001.fa.protein.7.multisearch.csv\n",
      "2024-10-09 05:21:54    8.4 MiB astral-scopedom-seqres-gd-sel-gs-bib-40-2.08.part_001.fa--in--astral-scopedom-seqres-gd-sel-gs-bib-40-2.08.part_001.fa.protein.8.multisearch.csv\n",
      "2024-10-09 01:40:13    6.6 MiB astral-scopedom-seqres-gd-sel-gs-bib-40-2.08.part_001.fa--in--astral-scopedom-seqres-gd-sel-gs-bib-40-2.08.part_001.fa.protein.9.multisearch.csv\n"
     ]
    }
   ],
   "source": [
    "! aws s3 ls --human-readable $pipeline_outdir/sourmash/multisearch/"
   ]
  },
  {
   "cell_type": "code",
   "execution_count": 7,
   "id": "8c0a9b36-ea05-4278-9511-4f45c59734c8",
   "metadata": {},
   "outputs": [],
   "source": [
    "# def make_multisearch_csv(\n",
    "#     ksize,\n",
    "#     outdir,\n",
    "#     moltype,\n",
    "#     query=\"astral-scopedom-seqres-gd-sel-gs-bib-40-2.08.part_001.fa\",\n",
    "#     against=\"astral-scopedom-seqres-gd-sel-gs-bib-40-2.08.part_001.fa\",\n",
    "# ):\n",
    "#     basename = f\"{query}--in--{against}.{moltype}.{ksize}.multisearch.csv\"\n",
    "#     csv = f\"{outdir}/sourmash/multisearch/{basename}\"\n",
    "#     return csv\n",
    "\n",
    "\n",
    "# scop_fixed = pd.read_csv(\n",
    "#     \"https://raw.githubusercontent.com/steineggerlab/foldseek-analysis/refs/heads/main/scopbenchmark/data/scop_lookup.fix.tsv\",\n",
    "#     sep=\"\\t\",\n",
    "#     header=None,\n",
    "#     names=[\"scop_id\", \"scop_class\"],\n",
    "#     index_col=0,\n",
    "# ).squeeze()\n",
    "# print(scop_fixed.shape)\n",
    "# scop_fixed.head()\n",
    "\n",
    "# scop_fixed.to_csv(\n",
    "#     \"s3://seanome-kmerseek/scope-benchmark/steineggerlab_foldseek-analysis_scop_fixed.csv\"\n",
    "# )"
   ]
  },
  {
   "cell_type": "code",
   "execution_count": 8,
   "id": "613101d4-113c-48be-bb4d-a959f6569587",
   "metadata": {},
   "outputs": [],
   "source": [
    "# # Skip ksizes 5 and 6 for now because those files are enormous, 2.3 GiB for k=5 and 175 MiB for k=6\n",
    "# # -> Figure out how to use polars later\n",
    "# ksizes = range(7, 21)\n",
    "\n",
    "# for ksize in ksizes:\n",
    "#     print(f\"\\n\\n--- ksize: {ksize} --\")\n",
    "#     csv = make_multisearch_csv(ksize, pipeline_outdir, \"protein\")\n",
    "#     print(f\"\\nReading {csv} ...\")\n",
    "#     %time multisearch = pd.read_csv(csv)\n",
    "#     print(\"\\tDone\")\n",
    "\n",
    "#     query_metadata = scop_utils.extract_scop_info_from_name(\n",
    "#         multisearch.query_name, scop_fixed, \"query\", verbose=False\n",
    "#     )\n",
    "\n",
    "#     match_metadata = scop_utils.extract_scop_info_from_name(\n",
    "#         multisearch.match_name, scop_fixed, \"match\", verbose=False\n",
    "#     )\n",
    "\n",
    "#     multisearch_metadata = multisearch.join(query_metadata, on=\"query_name\").join(\n",
    "#         match_metadata, on=\"match_name\"\n",
    "#     )\n",
    "\n",
    "#     pq = f\"{analysis_outdir}/00_cleaned_multisearch_results/scope40.multisearch.protein.k{ksize}.pq\"\n",
    "#     print(f\"\\nWriting {pq} ...\")\n",
    "#     %time multisearch_metadata.to_parquet(pq)\n",
    "#     print(f\"\\tDone.\")"
   ]
  },
  {
   "cell_type": "code",
   "execution_count": 9,
   "id": "a066e937-8dc5-4297-b9df-697e43a61ced",
   "metadata": {},
   "outputs": [
    {
     "data": {
      "text/plain": [
       "'s3://seanome-kmerseek/scope-benchmark/analysis-outputs/2024-10-09__protein_k5-20'"
      ]
     },
     "execution_count": 9,
     "metadata": {},
     "output_type": "execute_result"
    }
   ],
   "source": [
    "analysis_outdir"
   ]
  },
  {
   "cell_type": "code",
   "execution_count": null,
   "id": "ea29dac9-aa78-412c-9bfc-44e48ae08ddd",
   "metadata": {},
   "outputs": [
    {
     "name": "stdout",
     "output_type": "stream",
     "text": [
      "\n",
      "\n",
      "--- ksize: 10 --\n",
      "\n",
      "Reading s3://seanome-kmerseek/scope-benchmark/pipeline-outputs/2024-10-09__hp_k20-60/sourmash/multisearch/astral-scopedom-seqres-gd-sel-gs-bib-40-2.08.part_001.fa--in--astral-scopedom-seqres-gd-sel-gs-bib-40-2.08.part_001.fa.hp.10.multisearch.csv ...\n"
     ]
    }
   ],
   "source": [
    "# Skip ksizes 5 and 6 for now because those files are enormous, 2.3 GiB for k=5 and 175 MiB for k=6\n",
    "# # -> Figure out how to use polars later\n",
    "# ksizes = range(7, 21)\n",
    "# moltype = \"protein\"\n",
    "\n",
    "moltype_info = {\n",
    "    # \"protein\": dict(\n",
    "    #     ksizes=range(5, 21),\n",
    "    #     pipeline_outdir=\"s3://seanome-kmerseek/scope-benchmark/pipeline-outputs/2024-10-08__protein_k5-20\",\n",
    "    #     analysis_outdir=\"s3://seanome-kmerseek/scope-benchmark/analysis-outputs/2024-10-09__protein_k5-20\",\n",
    "    # ),\n",
    "    # \"dayhoff\": dict(\n",
    "    #     ksizes=range(5, 21),\n",
    "    #     pipeline_outdir=\"s3://seanome-kmerseek/scope-benchmark/pipeline-outputs/2024-10-09__dayhoff_k5-20\",\n",
    "    #     analysis_outdir=\"s3://seanome-kmerseek/scope-benchmark/analysis-outputs/2024-10-09__dayhoff_k5-20\",\n",
    "    # ),\n",
    "    \"hp\": dict(\n",
    "        ksizes=range(10, 20),\n",
    "        pipeline_outdir=\"s3://seanome-kmerseek/scope-benchmark/pipeline-outputs/2024-10-09__hp_k20-60\",\n",
    "        analysis_outdir=\"s3://seanome-kmerseek/scope-benchmark/analysis-outputs/2024-10-09__hp_k20-60\",\n",
    "    ),\n",
    "}\n",
    "\n",
    "for moltype, info in moltype_info.items():\n",
    "    ksizes = info[\"ksizes\"]\n",
    "    analysis_outdir = info[\"analysis_outdir\"]\n",
    "    pipeline_outdir = info[\"pipeline_outdir\"]\n",
    "    for ksize in ksizes:\n",
    "        try:\n",
    "            multisearch_metadata_filtered = (\n",
    "                process_scop_sourmash_multisearch.process_multisearch_scop_results(\n",
    "                    pipeline_outdir, moltype, ksize, analysis_outdir, verbose=True\n",
    "                )\n",
    "            )\n",
    "        except FileNotFoundError:\n",
    "            pass\n",
    "    # break\n",
    "multisearch_metadata_filtered.head()"
   ]
  },
  {
   "cell_type": "code",
   "execution_count": null,
   "id": "47b1cb02-cb58-4f5d-a8d9-5046853e9079",
   "metadata": {},
   "outputs": [],
   "source": [
    "multisearch_metadata_filtered.dtypes"
   ]
  },
  {
   "cell_type": "code",
   "execution_count": null,
   "id": "93f8408d-7495-4924-9da0-72f0ee2a87f5",
   "metadata": {},
   "outputs": [],
   "source": []
  },
  {
   "cell_type": "code",
   "execution_count": null,
   "id": "9a065d4c-6283-44fa-b795-26b72b5080d7",
   "metadata": {},
   "outputs": [],
   "source": []
  },
  {
   "cell_type": "code",
   "execution_count": null,
   "id": "7faac186-42ff-4ff8-9d4b-269d01e2dec5",
   "metadata": {},
   "outputs": [],
   "source": []
  },
  {
   "cell_type": "code",
   "execution_count": null,
   "id": "af0435ce-ff4d-4c2d-8d65-4e39443d4fd5",
   "metadata": {},
   "outputs": [],
   "source": []
  }
 ],
 "metadata": {
  "kernelspec": {
   "display_name": "Python [conda env:2024-kmerseek-analysis-polars]",
   "language": "python",
   "name": "conda-env-2024-kmerseek-analysis-polars-py"
  },
  "language_info": {
   "codemirror_mode": {
    "name": "ipython",
    "version": 3
   },
   "file_extension": ".py",
   "mimetype": "text/x-python",
   "name": "python",
   "nbconvert_exporter": "python",
   "pygments_lexer": "ipython3",
   "version": "3.12.7"
  }
 },
 "nbformat": 4,
 "nbformat_minor": 5
}
