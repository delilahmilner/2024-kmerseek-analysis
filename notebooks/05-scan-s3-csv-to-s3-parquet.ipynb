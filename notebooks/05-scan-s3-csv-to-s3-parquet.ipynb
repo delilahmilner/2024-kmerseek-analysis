{
 "cells": [
  {
   "cell_type": "code",
   "execution_count": 1,
   "id": "74768072-fc94-4e7f-82a7-5cfb6ce55bba",
   "metadata": {
    "execution": {
     "iopub.execute_input": "2024-10-31T16:39:14.410387Z",
     "iopub.status.busy": "2024-10-31T16:39:14.410074Z",
     "iopub.status.idle": "2024-10-31T16:39:15.223212Z",
     "shell.execute_reply": "2024-10-31T16:39:15.222877Z",
     "shell.execute_reply.started": "2024-10-31T16:39:14.410372Z"
    }
   },
   "outputs": [],
   "source": [
    "import boto3\n",
    "import polars as pl\n",
    "\n",
    "pl.Config.set_verbose(True)\n",
    "\n",
    "import process_scop_sourmash_multisearch_polars\n",
    "\n",
    "# Handwritten local modules\n",
    "from polars_utils import scan_csv_sink_parquet, sink_parquet"
   ]
  },
  {
   "cell_type": "code",
   "execution_count": 2,
   "id": "76c826c2-1902-45b8-bad3-566e3ce8385d",
   "metadata": {
    "execution": {
     "iopub.execute_input": "2024-10-31T16:39:15.223845Z",
     "iopub.status.busy": "2024-10-31T16:39:15.223729Z",
     "iopub.status.idle": "2024-10-31T16:39:15.360680Z",
     "shell.execute_reply": "2024-10-31T16:39:15.360374Z",
     "shell.execute_reply.started": "2024-10-31T16:39:15.223833Z"
    }
   },
   "outputs": [],
   "source": [
    "s3 = boto3.resource(\"s3\")"
   ]
  },
  {
   "cell_type": "code",
   "execution_count": 3,
   "id": "7d934996-2e36-4bb3-9bc4-be6068f09a6d",
   "metadata": {
    "execution": {
     "iopub.execute_input": "2024-10-31T16:39:16.083670Z",
     "iopub.status.busy": "2024-10-31T16:39:16.083397Z",
     "iopub.status.idle": "2024-10-31T16:39:16.085593Z",
     "shell.execute_reply": "2024-10-31T16:39:16.085336Z",
     "shell.execute_reply.started": "2024-10-31T16:39:16.083657Z"
    }
   },
   "outputs": [],
   "source": [
    "# !pip install boto3"
   ]
  },
  {
   "cell_type": "code",
   "execution_count": 4,
   "id": "2ed3dc68-0eb5-4504-9097-1c38f72090cd",
   "metadata": {
    "execution": {
     "iopub.execute_input": "2024-10-31T16:39:16.452928Z",
     "iopub.status.busy": "2024-10-31T16:39:16.452614Z",
     "iopub.status.idle": "2024-10-31T16:39:16.454888Z",
     "shell.execute_reply": "2024-10-31T16:39:16.454624Z",
     "shell.execute_reply.started": "2024-10-31T16:39:16.452915Z"
    }
   },
   "outputs": [],
   "source": [
    "csv = \"s3://seanome-kmerseek/scope-benchmark/pipeline-outputs/2024-10-09__hp_k20-60/sourmash/multisearch/astral-scopedom-seqres-gd-sel-gs-bib-40-2.08.part_001.fa--in--astral-scopedom-seqres-gd-sel-gs-bib-40-2.08.part_001.fa.hp.10.multisearch.csv\""
   ]
  },
  {
   "cell_type": "code",
   "execution_count": 5,
   "id": "80ddae7b-8598-45ec-99e7-98332ecc26b5",
   "metadata": {
    "execution": {
     "iopub.execute_input": "2024-10-31T16:39:19.151248Z",
     "iopub.status.busy": "2024-10-31T16:39:19.150921Z",
     "iopub.status.idle": "2024-10-31T16:39:19.153084Z",
     "shell.execute_reply": "2024-10-31T16:39:19.152825Z",
     "shell.execute_reply.started": "2024-10-31T16:39:19.151233Z"
    }
   },
   "outputs": [],
   "source": [
    "# apq = scan_csv_sink_parquet(csv, verbose=True)\n",
    "# pq"
   ]
  },
  {
   "cell_type": "markdown",
   "id": "b5871a79-9cc2-4158-8ede-5bd5b18563bc",
   "metadata": {},
   "source": [
    "### Look at the difference in file sizes between the CSV and parquet files"
   ]
  },
  {
   "cell_type": "code",
   "execution_count": 6,
   "id": "c92cacc5-4397-4070-80eb-b49da969cde9",
   "metadata": {
    "execution": {
     "iopub.execute_input": "2024-10-31T16:39:19.868261Z",
     "iopub.status.busy": "2024-10-31T16:39:19.867882Z",
     "iopub.status.idle": "2024-10-31T16:39:20.509199Z",
     "shell.execute_reply": "2024-10-31T16:39:20.508774Z",
     "shell.execute_reply.started": "2024-10-31T16:39:19.868248Z"
    }
   },
   "outputs": [
    {
     "name": "stdout",
     "output_type": "stream",
     "text": [
      "2024-10-11 23:54:22   87.9 GiB astral-scopedom-seqres-gd-sel-gs-bib-40-2.08.part_001.fa--in--astral-scopedom-seqres-gd-sel-gs-bib-40-2.08.part_001.fa.hp.10.multisearch.csv\n"
     ]
    }
   ],
   "source": [
    "! aws s3 ls --human-readable $csv"
   ]
  },
  {
   "cell_type": "code",
   "execution_count": 7,
   "id": "963651a6-eaa6-467a-a843-fa183c2bcf1b",
   "metadata": {
    "execution": {
     "iopub.execute_input": "2024-10-31T16:39:21.119473Z",
     "iopub.status.busy": "2024-10-31T16:39:21.119198Z",
     "iopub.status.idle": "2024-10-31T16:39:22.505407Z",
     "shell.execute_reply": "2024-10-31T16:39:22.504976Z",
     "shell.execute_reply.started": "2024-10-31T16:39:21.119457Z"
    }
   },
   "outputs": [
    {
     "name": "stdout",
     "output_type": "stream",
     "text": [
      "query_name,query_md5,match_name,match_md5,containment,max_containment,jaccard,intersect_hashes,prob_overlap,prob_overlap_adjusted,containment_adjusted,containment_adjusted_log10,tf_idf_score\n",
      "d1dlwa_ a.1.1.1 (A:) Protozoan/bacterial hemoglobin {Ciliate (Paramecium caudatum) [TaxId: 5885]},26fce7d25101257fca79d052ec7a19c5,d3gcea_ b.33.1.0 (A:) automated matches {Nocardioides aromaticivorans [TaxId: 200618]},400e6c363be8bb5a88c54928073b54c6,0.13333333333333333,0.175,0.08187134502923976,14.0,0.00002055079627314157,4733.697725563677,0.000028166845680341016,-4.5502617856136185,0.3422001829979208\n",
      "\"d2gkma_ a.1.1.1 (A:) Protozoan/bacterial hemoglobin {Mycobacterium tuberculosis, HbN [TaxId: 1773]}\",8e68936d4b4c7df11076541fdc12818d,d3gcea_ b.33.1.0 (A:) automated matches {Nocardioides aromaticivorans [TaxId: 200618]},400e6c363be8bb5a88c54928073b54c6,0.18018018018018017,0.25,0.11695906432748537,20.0,0.000026938530809718366,6205.056988017975,0.000029037635033507323,-4.537038757590477,0.47784874417789136\n",
      "\"d1ngka_ a.1.1.1 (A:) Protozoan/bacterial hemoglobin {Mycobacterium tuberculosis, HbO [TaxId: 1773]}\",ee99ff865a181da365fd2b7e380d1ef4,d3gcea_ b.33.1.0 (A:) automated matches {Nocardioides aromaticivorans [TaxId: 200618]},400e6c363be8bb5a88c54928073b54c6,0.07142857142857142,0.1,0.043478260869565216,8.0,0.000011271451767976541,2596.281179995116,0.0000275118781351355,-4.560479760904981,0.17213909439405517\n",
      "d2bkma_ a.1.1.1 (A:) automated matches {Geobacillus stearothermophilus [TaxId: 1422]},971fec7764919240ea56550590c7c09b,d3gcea_ b.33.1.0 (A:) automated matches {Nocardioides aromaticivorans [TaxId: 200618]},400e6c363be8bb5a88c54928073b54c6,0.15178571428571427,0.2125,0.09714285714285714,17.0,0.000021502632536317173,4952.944955413938,0.00003064554838627899,-4.513632602766626,0.39439446722281774\n",
      "d4i0va_ a.1.1.1 (A:) automated matches {Synechococcus sp. [TaxId: 32049]},3365a28682703d9c7f67c734f1bb7479,d3gcea_ b.33.1.0 (A:) automated matches {Nocardioides aromaticivorans [TaxId: 200618]},400e6c363be8bb5a88c54928073b54c6,0.06422018348623854,0.0875,0.038461538461538464,7.0,8.8397814688197e-6,2036.1670115975016,0.0000315397426244784,-4.501141854990149,0.15627294056101132\n",
      "\"d1asha_ a.1.1.2 (A:) Ascaris hemoglobin, domain 1 {Pig roundworm (Ascaris suum) [TaxId: 6253]}\",26da02c0e70056ef07230b49a6f0d26a,d3gcea_ b.33.1.0 (A:) automated matches {Nocardioides aromaticivorans [TaxId: 200618]},400e6c363be8bb5a88c54928073b54c6,0.11666666666666667,0.175,0.07526881720430108,14.0,0.000016476975176647633,3795.328360089026,0.000030739544934639085,-4.512302566043756,0.2384115522230015\n",
      "d2dc3a_ a.1.1.2 (A:) Cytoglobin {Human (Homo sapiens) [TaxId: 9606]},2191fc99da1820f26c5406df5bcdb63b,d3gcea_ b.33.1.0 (A:) automated matches {Nocardioides aromaticivorans [TaxId: 200618]},400e6c363be8bb5a88c54928073b54c6,0.09523809523809523,0.175,0.06572769953051644,14.0,0.000023014618989600136,5301.217924493132,0.000017965323552926996,-4.745564956806928,0.2032214802329215\n",
      "d4hswa_ a.1.1.2 (A:) Dehaloperoxidase {Amphitrite ornata [TaxId: 129555]},0fec36f953b94fde3ee58d82f89ef3b5,d3gcea_ b.33.1.0 (A:) automated matches {Nocardioides aromaticivorans [TaxId: 200618]},400e6c363be8bb5a88c54928073b54c6,0.11382113821138211,0.175,0.07407407407407407,14.0,0.000018564433442604427,4276.156271301549,0.00002661762830682003,-4.5748306437955195,0.2788725157353147\n",
      "\"d1ecaa_ a.1.1.2 (A:) Erythrocruorin {Midge (Chironomus thummi thummi), fraction III [TaxId: 7154]}\",fa54f6bd9a5ce6715ecf3f217f488ffe,d3gcea_ b.33.1.0 (A:) automated matches {Nocardioides aromaticivorans [TaxId: 200618]},400e6c363be8bb5a88c54928073b54c6,0.14049586776859505,0.2125,0.09239130434782608,17.0,0.000023956239480141222,5518.112039697998,0.000025460858126447952,-4.594126963082179,0.351130003598395\n",
      "download failed: s3://seanome-kmerseek/scope-benchmark/pipeline-outputs/2024-10-09__hp_k20-60/sourmash/multisearch/astral-scopedom-seqres-gd-sel-gs-bib-40-2.08.part_001.fa--in--astral-scopedom-seqres-gd-sel-gs-bib-40-2.08.part_001.fa.hp.10.multisearch.csv to - [Errno 32] Broken pipe\n"
     ]
    }
   ],
   "source": [
    "! aws s3 cp $csv - | head"
   ]
  },
  {
   "cell_type": "code",
   "execution_count": 15,
   "id": "8890c289-d244-44e0-9d26-5f31cadde6c9",
   "metadata": {},
   "outputs": [
    {
     "name": "stdout",
     "output_type": "stream",
     "text": [
      "2024-10-29 21:16:54   11.1 GiB astral-scopedom-seqres-gd-sel-gs-bib-40-2.08.part_001.fa--in--astral-scopedom-seqres-gd-sel-gs-bib-40-2.08.part_001.fa.hp.10.multisearch.pq\n"
     ]
    }
   ],
   "source": [
    "! aws s3 ls --human-readable $pq"
   ]
  },
  {
   "cell_type": "markdown",
   "id": "510a989f-ac1c-4a19-90ca-552629dd2f2c",
   "metadata": {},
   "source": [
    "# Apply to all hp files"
   ]
  },
  {
   "cell_type": "markdown",
   "id": "d9a35971-0e7e-4152-aba0-07b65cc2439e",
   "metadata": {},
   "source": [
    "## Read metadata"
   ]
  },
  {
   "cell_type": "markdown",
   "id": "e0a1a123-01de-4902-b4f0-bfe37711d65b",
   "metadata": {},
   "source": [
    "### Read Query Metadata"
   ]
  },
  {
   "cell_type": "code",
   "execution_count": 21,
   "id": "86ca4902-d6d4-4a67-b403-5af756090b08",
   "metadata": {},
   "outputs": [
    {
     "name": "stderr",
     "output_type": "stream",
     "text": [
      "Async thread count: 4\n",
      "/home/ec2-user/miniconda3/envs/2024-kmerseek-analysis-polars/lib/python3.12/site-packages/IPython/core/formatters.py:347: UserWarning: '(default_)region' not set; polars will try to get it from bucket\n",
      "\n",
      "Set the region manually to silence this warning.\n",
      "  return method()\n"
     ]
    },
    {
     "data": {
      "text/html": [
       "<h4>NAIVE QUERY PLAN</h4><p>run <b>LazyFrame.show_graph()</b> to see the optimized version</p><?xml version=\"1.0\" encoding=\"UTF-8\" standalone=\"no\"?>\n",
       "<!DOCTYPE svg PUBLIC \"-//W3C//DTD SVG 1.1//EN\"\n",
       " \"http://www.w3.org/Graphics/SVG/1.1/DTD/svg11.dtd\">\n",
       "<!-- Generated by graphviz version 2.44.0 (0)\n",
       " -->\n",
       "<!-- Title: polars_query Pages: 1 -->\n",
       "<svg width=\"672pt\" height=\"46pt\"\n",
       " viewBox=\"0.00 0.00 672.00 46.00\" xmlns=\"http://www.w3.org/2000/svg\" xmlns:xlink=\"http://www.w3.org/1999/xlink\">\n",
       "<g id=\"graph0\" class=\"graph\" transform=\"scale(1 1) rotate(0) translate(4 42)\">\n",
       "<title>polars_query</title>\n",
       "<polygon fill=\"white\" stroke=\"transparent\" points=\"-4,4 -4,-42 668,-42 668,4 -4,4\"/>\n",
       "<!-- p1 -->\n",
       "<g id=\"node1\" class=\"node\">\n",
       "<title>p1</title>\n",
       "<polygon fill=\"none\" stroke=\"black\" points=\"664,-38 0,-38 0,0 664,0 664,-38\"/>\n",
       "<text text-anchor=\"middle\" x=\"332\" y=\"-22.8\" font-family=\"Times-Roman\" font-size=\"14.00\">Parquet SCAN [s3://seanome&#45;kmerseek/scope&#45;benchmark/reference_files/scop.e.2.08.query_metadata.pq]</text>\n",
       "<text text-anchor=\"middle\" x=\"332\" y=\"-7.8\" font-family=\"Times-Roman\" font-size=\"14.00\">π */10;</text>\n",
       "</g>\n",
       "</g>\n",
       "</svg>\n"
      ],
      "text/plain": [
       "<LazyFrame at 0x7F89C019F3E0>"
      ]
     },
     "execution_count": 21,
     "metadata": {},
     "output_type": "execute_result"
    }
   ],
   "source": [
    "query_metadata = pl.scan_parquet(\n",
    "    \"s3://seanome-kmerseek/scope-benchmark/reference_files/scop.e.2.08.query_metadata.pq\"\n",
    ")\n",
    "query_metadata"
   ]
  },
  {
   "cell_type": "markdown",
   "id": "b5344e99-2746-4dcc-9e75-b1ac5880b060",
   "metadata": {},
   "source": [
    "### Read match metadata"
   ]
  },
  {
   "cell_type": "code",
   "execution_count": 22,
   "id": "f0991ef9-51b2-4346-9472-79ab08625f38",
   "metadata": {},
   "outputs": [
    {
     "data": {
      "text/html": [
       "<h4>NAIVE QUERY PLAN</h4><p>run <b>LazyFrame.show_graph()</b> to see the optimized version</p><?xml version=\"1.0\" encoding=\"UTF-8\" standalone=\"no\"?>\n",
       "<!DOCTYPE svg PUBLIC \"-//W3C//DTD SVG 1.1//EN\"\n",
       " \"http://www.w3.org/Graphics/SVG/1.1/DTD/svg11.dtd\">\n",
       "<!-- Generated by graphviz version 2.44.0 (0)\n",
       " -->\n",
       "<!-- Title: polars_query Pages: 1 -->\n",
       "<svg width=\"675pt\" height=\"46pt\"\n",
       " viewBox=\"0.00 0.00 675.00 46.00\" xmlns=\"http://www.w3.org/2000/svg\" xmlns:xlink=\"http://www.w3.org/1999/xlink\">\n",
       "<g id=\"graph0\" class=\"graph\" transform=\"scale(1 1) rotate(0) translate(4 42)\">\n",
       "<title>polars_query</title>\n",
       "<polygon fill=\"white\" stroke=\"transparent\" points=\"-4,4 -4,-42 671,-42 671,4 -4,4\"/>\n",
       "<!-- p1 -->\n",
       "<g id=\"node1\" class=\"node\">\n",
       "<title>p1</title>\n",
       "<polygon fill=\"none\" stroke=\"black\" points=\"667,-38 0,-38 0,0 667,0 667,-38\"/>\n",
       "<text text-anchor=\"middle\" x=\"333.5\" y=\"-22.8\" font-family=\"Times-Roman\" font-size=\"14.00\">Parquet SCAN [s3://seanome&#45;kmerseek/scope&#45;benchmark/reference_files/scop.e.2.08.match_metadata.pq]</text>\n",
       "<text text-anchor=\"middle\" x=\"333.5\" y=\"-7.8\" font-family=\"Times-Roman\" font-size=\"14.00\">π */6;</text>\n",
       "</g>\n",
       "</g>\n",
       "</svg>\n"
      ],
      "text/plain": [
       "<LazyFrame at 0x7F89BE5DC8C0>"
      ]
     },
     "execution_count": 22,
     "metadata": {},
     "output_type": "execute_result"
    }
   ],
   "source": [
    "match_metadata = pl.scan_parquet(\n",
    "    \"s3://seanome-kmerseek/scope-benchmark/reference_files/scop.e.2.08.match_metadata.pq\"\n",
    ")\n",
    "match_metadata"
   ]
  },
  {
   "cell_type": "markdown",
   "id": "0773f579-fdc8-4a5f-83c5-09ba90025697",
   "metadata": {},
   "source": [
    "## Iterate over all files"
   ]
  },
  {
   "cell_type": "code",
   "execution_count": null,
   "id": "af0105a8-96c8-41b8-90fa-196e733b9830",
   "metadata": {},
   "outputs": [
    {
     "name": "stderr",
     "output_type": "stream",
     "text": [
      "/home/ec2-user/tmp/i8i06qp3: 100%|██████████████████████████████████████████████████████████████████████████████████████| 89.7G/89.7G [10:34<00:00, 142MB/s]\n",
      "/home/ec2-user/2024-kmerseek-analysis/notebooks/polars_utils.py:40: PerformanceWarning: Determining the column names of a LazyFrame requires resolving its schema, which is a potentially expensive operation. Use `LazyFrame.collect_schema().names()` to get the column names without this warning.\n",
      "  f\"\\nWriting {df.select(pl.len()).collect().item()} rows and {len(df.columns)} columns to {pq} ...\"\n",
      "RUN STREAMING PIPELINE\n",
      "[csv -> parquet_sink]\n",
      "STREAMING CHUNK SIZE: 3846 rows\n"
     ]
    },
    {
     "name": "stdout",
     "output_type": "stream",
     "text": [
      "\n",
      "Writing 214441887 rows and 13 columns to s3://seanome-kmerseek/scope-benchmark/pipeline-outputs/2024-10-09__hp_k20-60/sourmash/multisearch/astral-scopedom-seqres-gd-sel-gs-bib-40-2.08.part_001.fa--in--astral-scopedom-seqres-gd-sel-gs-bib-40-2.08.part_001.fa.hp.11.multisearch.pq ...\n"
     ]
    },
    {
     "name": "stderr",
     "output_type": "stream",
     "text": [
      "/tmp/tmpwbe7r2yl: 100%|███████████████████████████████████████████████████████████████████████████████████████████████████████████████████████| 11.1G/11.1G [00:37<00:00, 298MB/s]\n"
     ]
    },
    {
     "name": "stdout",
     "output_type": "stream",
     "text": [
      "\tDone.\n"
     ]
    },
    {
     "name": "stderr",
     "output_type": "stream",
     "text": [
      "/home/ec2-user/tmp/5q0woao9: 100%|████████████████████████████████████████████████████████████████████████████████████████████████████████████| 80.3G/80.3G [09:04<00:00, 147MB/s]\n"
     ]
    },
    {
     "name": "stdout",
     "output_type": "stream",
     "text": [
      "\n",
      "Writing 191843183 rows and 13 columns to s3://seanome-kmerseek/scope-benchmark/pipeline-outputs/2024-10-09__hp_k20-60/sourmash/multisearch/astral-scopedom-seqres-gd-sel-gs-bib-40-2.08.part_001.fa--in--astral-scopedom-seqres-gd-sel-gs-bib-40-2.08.part_001.fa.hp.12.multisearch.pq ...\n"
     ]
    },
    {
     "name": "stderr",
     "output_type": "stream",
     "text": [
      "RUN STREAMING PIPELINE\n",
      "[csv -> parquet_sink]\n",
      "STREAMING CHUNK SIZE: 3846 rows\n",
      "/tmp/tmpqajbcrc0: 100%|███████████████████████████████████████████████████████████████████████████████████████████████████████████████████████| 9.65G/9.65G [00:35<00:00, 268MB/s]\n"
     ]
    },
    {
     "name": "stdout",
     "output_type": "stream",
     "text": [
      "\tDone.\n"
     ]
    },
    {
     "name": "stderr",
     "output_type": "stream",
     "text": [
      "/home/ec2-user/tmp/4q9kd29g: 100%|███████████████████████████████████████████████████████████████████████████████████████████████████████████| 65.5G/65.5G [11:30<00:00, 94.8MB/s]\n"
     ]
    }
   ],
   "source": [
    "# Skip ksizes 5 and 6 for now because those files are enormous, 2.3 GiB for k=5 and 175 MiB for k=6\n",
    "# # -> Figure out how to use polars later\n",
    "# ksizes = range(7, 21)\n",
    "# moltype = \"protein\"\n",
    "\n",
    "\n",
    "moltype_info = {\n",
    "    # \"protein\": dict(\n",
    "    #     ksizes=range(5, 21),\n",
    "    #     pipeline_outdir=\"s3://seanome-kmerseek/scope-benchmark/pipeline-outputs/2024-10-08__protein_k5-20\",\n",
    "    #     analysis_outdir=\"s3://seanome-kmerseek/scope-benchmark/analysis-outputs/protein\",\n",
    "    # ),\n",
    "    # \"dayhoff\": dict(\n",
    "    #     ksizes=range(5, 21),\n",
    "    #     pipeline_outdir=\"s3://seanome-kmerseek/scope-benchmark/pipeline-outputs/2024-10-09__dayhoff_k5-20\",\n",
    "    #     analysis_outdir=\"s3://seanome-kmerseek/scope-benchmark/analysis-outputs/dayhoff\",\n",
    "    # ),\n",
    "    \"hp\": dict(\n",
    "        ksizes=range(11, 20),\n",
    "        pipeline_outdir=\"s3://seanome-kmerseek/scope-benchmark/pipeline-outputs/2024-10-09__hp_k20-60\",\n",
    "        analysis_outdir=\"s3://seanome-kmerseek/scope-benchmark/analysis-outputs/hp/\",\n",
    "    ),\n",
    "}\n",
    "\n",
    "for moltype, info in moltype_info.items():\n",
    "    print(f\"-- {moltype} --\")\n",
    "    ksizes = info[\"ksizes\"]\n",
    "    analysis_outdir = info[\"analysis_outdir\"]\n",
    "    pipeline_outdir = info[\"pipeline_outdir\"]\n",
    "    for ksize in ksizes:\n",
    "        print(f\"\\t-- {ksize} --\")\n",
    "        try:\n",
    "            parser = process_scop_sourmash_multisearch_polars.MultisearchParser(\n",
    "                query_metadata=query_metadata,\n",
    "                match_metadata=match_metadata,\n",
    "                pipeline_outdir=pipeline_outdir,\n",
    "                moltype=moltype,\n",
    "                ksize=ksize,\n",
    "                analysis_outdir=analysis_outdir,\n",
    "                verbose=True,\n",
    "            )\n",
    "            csv = parser._make_multisearch_csv()\n",
    "            scan_csv_sink_parquet(csv, verbose=True)\n",
    "            # pq = csv.replace('.csv', '.pq')\n",
    "            # if not\n",
    "            # lf = parser.process_multisearch_scop_results()\n",
    "            # lf.head().collect()\n",
    "        except FileNotFoundError:\n",
    "            pass\n",
    "    # break\n",
    "multisearch_metadata_filtered.head()"
   ]
  },
  {
   "cell_type": "code",
   "execution_count": null,
   "id": "9fd5c66b-9ce1-4529-8780-d5a54c151cf2",
   "metadata": {},
   "outputs": [],
   "source": [
    "1 + 1"
   ]
  },
  {
   "cell_type": "code",
   "execution_count": null,
   "id": "52fb3d2b-df62-46ab-8ad2-79951a7be87d",
   "metadata": {},
   "outputs": [],
   "source": []
  }
 ],
 "metadata": {
  "kernelspec": {
   "display_name": "Python [conda env:2024-kmerseek-analysis-polars]",
   "language": "python",
   "name": "conda-env-2024-kmerseek-analysis-polars-py"
  },
  "language_info": {
   "codemirror_mode": {
    "name": "ipython",
    "version": 3
   },
   "file_extension": ".py",
   "mimetype": "text/x-python",
   "name": "python",
   "nbconvert_exporter": "python",
   "pygments_lexer": "ipython3",
   "version": "3.12.7"
  }
 },
 "nbformat": 4,
 "nbformat_minor": 5
}
