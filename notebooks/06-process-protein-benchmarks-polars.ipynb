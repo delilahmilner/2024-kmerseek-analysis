{
 "cells": [
  {
   "cell_type": "markdown",
   "id": "c7b68939-9b88-442b-872e-69fb175ce903",
   "metadata": {},
   "source": [
    "# Imports and setup"
   ]
  },
  {
   "cell_type": "markdown",
   "id": "9f82e23d-66f0-440a-8163-dfffae025202",
   "metadata": {},
   "source": [
    "### Auto-re-import python modules, useful for editing local fils"
   ]
  },
  {
   "cell_type": "code",
   "execution_count": 2,
   "id": "1616f0c6-9104-4889-9fde-4c85479fb245",
   "metadata": {
    "execution": {
     "iopub.execute_input": "2024-10-31T23:13:54.513085Z",
     "iopub.status.busy": "2024-10-31T23:13:54.512955Z",
     "iopub.status.idle": "2024-10-31T23:13:54.532640Z",
     "shell.execute_reply": "2024-10-31T23:13:54.532312Z",
     "shell.execute_reply.started": "2024-10-31T23:13:54.513073Z"
    }
   },
   "outputs": [],
   "source": [
    "%load_ext autoreload\n",
    "%autoreload 2"
   ]
  },
  {
   "cell_type": "markdown",
   "id": "1f8ce8fc-4e4f-4d34-8ea5-07af0dd1de7e",
   "metadata": {},
   "source": [
    "## Imports"
   ]
  },
  {
   "cell_type": "code",
   "execution_count": 3,
   "id": "a905ccc7-8a61-40cd-b56a-36c5935ef523",
   "metadata": {
    "execution": {
     "iopub.execute_input": "2024-10-31T23:13:54.533147Z",
     "iopub.status.busy": "2024-10-31T23:13:54.533035Z",
     "iopub.status.idle": "2024-10-31T23:13:54.546798Z",
     "shell.execute_reply": "2024-10-31T23:13:54.546482Z",
     "shell.execute_reply.started": "2024-10-31T23:13:54.533137Z"
    }
   },
   "outputs": [],
   "source": [
    "import itertools\n",
    "\n",
    "import matplotlib as mpl\n",
    "import polars as pl\n",
    "import seaborn as sns\n",
    "\n",
    "# pl.Config.set_verbose(True)\n",
    "# pl.Config.()\n",
    "pl.Config.set_streaming_chunk_size(1000)\n",
    "mpl.rcParams[\"figure.max_open_warning\"] = 0\n",
    "\n",
    "# Handwritten local modules\n",
    "# import process_scop_sourmash_multisearch_polars\n",
    "# from process_scop_sourmash_multisearch_polars_mem_optimized import MultisearchParser\n",
    "from process_scop_sourmash_multisearch_polars import MultisearchParser"
   ]
  },
  {
   "cell_type": "code",
   "execution_count": 4,
   "id": "a681a95c-53f4-443c-a680-a0f09fcc2b09",
   "metadata": {
    "execution": {
     "iopub.execute_input": "2024-10-31T23:13:54.547577Z",
     "iopub.status.busy": "2024-10-31T23:13:54.547465Z",
     "iopub.status.idle": "2024-10-31T23:13:54.562603Z",
     "shell.execute_reply": "2024-10-31T23:13:54.562293Z",
     "shell.execute_reply.started": "2024-10-31T23:13:54.547567Z"
    }
   },
   "outputs": [
    {
     "data": {
      "text/plain": [
       "'1.12.0'"
      ]
     },
     "execution_count": 4,
     "metadata": {},
     "output_type": "execute_result"
    }
   ],
   "source": [
    "pl.__version__"
   ]
  },
  {
   "cell_type": "markdown",
   "id": "4c099fc7-f907-4583-99be-c94ab7d8671f",
   "metadata": {},
   "source": [
    "# Read in data"
   ]
  },
  {
   "cell_type": "code",
   "execution_count": 5,
   "id": "81146fc9-1d06-4934-8aa9-fead03e4f1cb",
   "metadata": {
    "execution": {
     "iopub.execute_input": "2024-10-31T23:13:54.563069Z",
     "iopub.status.busy": "2024-10-31T23:13:54.562961Z",
     "iopub.status.idle": "2024-10-31T23:13:54.576765Z",
     "shell.execute_reply": "2024-10-31T23:13:54.576473Z",
     "shell.execute_reply.started": "2024-10-31T23:13:54.563059Z"
    }
   },
   "outputs": [
    {
     "data": {
      "text/plain": [
       "'s3://seanome-kmerseek/scope-benchmark/analysis-outputs/2024-10-09__protein_k5-20'"
      ]
     },
     "execution_count": 5,
     "metadata": {},
     "output_type": "execute_result"
    }
   ],
   "source": [
    "analysis_outdir = (\n",
    "    \"s3://seanome-kmerseek/scope-benchmark/analysis-outputs/2024-10-09__protein_k5-20\"\n",
    ")\n",
    "\n",
    "pipeline_outdir = (\n",
    "    \"s3://seanome-kmerseek/scope-benchmark/pipeline-outputs/2024-10-08__protein_k5-20\"\n",
    ")\n",
    "analysis_outdir"
   ]
  },
  {
   "cell_type": "markdown",
   "id": "c4db935d-1821-416e-b0d2-c735fb3a5d2c",
   "metadata": {},
   "source": [
    "## Read metadata"
   ]
  },
  {
   "cell_type": "markdown",
   "id": "815929d9-8030-4ef2-9c55-aebd060c0342",
   "metadata": {},
   "source": [
    "### Read Query Metadata"
   ]
  },
  {
   "cell_type": "code",
   "execution_count": 6,
   "id": "797fa5ec-d026-4f65-80ab-445081847a1b",
   "metadata": {
    "execution": {
     "iopub.execute_input": "2024-10-31T23:13:54.577222Z",
     "iopub.status.busy": "2024-10-31T23:13:54.577115Z",
     "iopub.status.idle": "2024-10-31T23:13:55.031715Z",
     "shell.execute_reply": "2024-10-31T23:13:55.031431Z",
     "shell.execute_reply.started": "2024-10-31T23:13:54.577212Z"
    }
   },
   "outputs": [
    {
     "name": "stderr",
     "output_type": "stream",
     "text": [
      "/home/ec2-user/miniconda3/envs/2024-kmerseek-analysis-polars/lib/python3.12/site-packages/IPython/core/formatters.py:347: UserWarning: '(default_)region' not set; polars will try to get it from bucket\n",
      "\n",
      "Set the region manually to silence this warning.\n",
      "  return method()\n"
     ]
    },
    {
     "data": {
      "text/html": [
       "<h4>NAIVE QUERY PLAN</h4><p>run <b>LazyFrame.show_graph()</b> to see the optimized version</p><?xml version=\"1.0\" encoding=\"UTF-8\" standalone=\"no\"?>\n",
       "<!DOCTYPE svg PUBLIC \"-//W3C//DTD SVG 1.1//EN\"\n",
       " \"http://www.w3.org/Graphics/SVG/1.1/DTD/svg11.dtd\">\n",
       "<!-- Generated by graphviz version 2.44.0 (0)\n",
       " -->\n",
       "<!-- Title: polars_query Pages: 1 -->\n",
       "<svg width=\"672pt\" height=\"46pt\"\n",
       " viewBox=\"0.00 0.00 672.00 46.00\" xmlns=\"http://www.w3.org/2000/svg\" xmlns:xlink=\"http://www.w3.org/1999/xlink\">\n",
       "<g id=\"graph0\" class=\"graph\" transform=\"scale(1 1) rotate(0) translate(4 42)\">\n",
       "<title>polars_query</title>\n",
       "<polygon fill=\"white\" stroke=\"transparent\" points=\"-4,4 -4,-42 668,-42 668,4 -4,4\"/>\n",
       "<!-- p1 -->\n",
       "<g id=\"node1\" class=\"node\">\n",
       "<title>p1</title>\n",
       "<polygon fill=\"none\" stroke=\"black\" points=\"664,-38 0,-38 0,0 664,0 664,-38\"/>\n",
       "<text text-anchor=\"middle\" x=\"332\" y=\"-22.8\" font-family=\"Times-Roman\" font-size=\"14.00\">Parquet SCAN [s3://seanome&#45;kmerseek/scope&#45;benchmark/reference_files/scop.e.2.08.query_metadata.pq]</text>\n",
       "<text text-anchor=\"middle\" x=\"332\" y=\"-7.8\" font-family=\"Times-Roman\" font-size=\"14.00\">π */10;</text>\n",
       "</g>\n",
       "</g>\n",
       "</svg>\n"
      ],
      "text/plain": [
       "<LazyFrame at 0x7FBB87414350>"
      ]
     },
     "execution_count": 6,
     "metadata": {},
     "output_type": "execute_result"
    }
   ],
   "source": [
    "query_metadata = pl.scan_parquet(\n",
    "    \"s3://seanome-kmerseek/scope-benchmark/reference_files/scop.e.2.08.query_metadata.pq\",\n",
    "    low_memory=True,\n",
    ")\n",
    "query_metadata"
   ]
  },
  {
   "cell_type": "markdown",
   "id": "794e82ea-b8ff-496d-a81b-d3fad3886c33",
   "metadata": {},
   "source": [
    "### Read match metadata"
   ]
  },
  {
   "cell_type": "code",
   "execution_count": 7,
   "id": "490c5fc3-ce41-4456-bf91-e8974550494e",
   "metadata": {
    "execution": {
     "iopub.execute_input": "2024-10-31T23:13:55.032253Z",
     "iopub.status.busy": "2024-10-31T23:13:55.032097Z",
     "iopub.status.idle": "2024-10-31T23:13:55.146915Z",
     "shell.execute_reply": "2024-10-31T23:13:55.146550Z",
     "shell.execute_reply.started": "2024-10-31T23:13:55.032242Z"
    }
   },
   "outputs": [
    {
     "data": {
      "text/html": [
       "<h4>NAIVE QUERY PLAN</h4><p>run <b>LazyFrame.show_graph()</b> to see the optimized version</p><?xml version=\"1.0\" encoding=\"UTF-8\" standalone=\"no\"?>\n",
       "<!DOCTYPE svg PUBLIC \"-//W3C//DTD SVG 1.1//EN\"\n",
       " \"http://www.w3.org/Graphics/SVG/1.1/DTD/svg11.dtd\">\n",
       "<!-- Generated by graphviz version 2.44.0 (0)\n",
       " -->\n",
       "<!-- Title: polars_query Pages: 1 -->\n",
       "<svg width=\"675pt\" height=\"46pt\"\n",
       " viewBox=\"0.00 0.00 675.00 46.00\" xmlns=\"http://www.w3.org/2000/svg\" xmlns:xlink=\"http://www.w3.org/1999/xlink\">\n",
       "<g id=\"graph0\" class=\"graph\" transform=\"scale(1 1) rotate(0) translate(4 42)\">\n",
       "<title>polars_query</title>\n",
       "<polygon fill=\"white\" stroke=\"transparent\" points=\"-4,4 -4,-42 671,-42 671,4 -4,4\"/>\n",
       "<!-- p1 -->\n",
       "<g id=\"node1\" class=\"node\">\n",
       "<title>p1</title>\n",
       "<polygon fill=\"none\" stroke=\"black\" points=\"667,-38 0,-38 0,0 667,0 667,-38\"/>\n",
       "<text text-anchor=\"middle\" x=\"333.5\" y=\"-22.8\" font-family=\"Times-Roman\" font-size=\"14.00\">Parquet SCAN [s3://seanome&#45;kmerseek/scope&#45;benchmark/reference_files/scop.e.2.08.match_metadata.pq]</text>\n",
       "<text text-anchor=\"middle\" x=\"333.5\" y=\"-7.8\" font-family=\"Times-Roman\" font-size=\"14.00\">π */6;</text>\n",
       "</g>\n",
       "</g>\n",
       "</svg>\n"
      ],
      "text/plain": [
       "<LazyFrame at 0x7FBAB39222D0>"
      ]
     },
     "execution_count": 7,
     "metadata": {},
     "output_type": "execute_result"
    }
   ],
   "source": [
    "match_metadata = pl.scan_parquet(\n",
    "    \"s3://seanome-kmerseek/scope-benchmark/reference_files/scop.e.2.08.match_metadata.pq\",\n",
    "    low_memory=True,\n",
    ")\n",
    "match_metadata"
   ]
  },
  {
   "cell_type": "code",
   "execution_count": null,
   "id": "ea29dac9-aa78-412c-9bfc-44e48ae08ddd",
   "metadata": {
    "execution": {
     "execution_failed": "2024-10-31T23:14:27.812Z",
     "iopub.execute_input": "2024-10-31T23:13:55.147810Z",
     "iopub.status.busy": "2024-10-31T23:13:55.147685Z"
    }
   },
   "outputs": [
    {
     "name": "stderr",
     "output_type": "stream",
     "text": [
      "2024-10-31 23:13 - DEBUG - \n",
      "--- moltype: hp, ksize: 10 --\n",
      "\n",
      "--- moltype: hp, ksize: 10 --\n",
      "2024-10-31 23:13 - DEBUG - Reading /home/ec2-user/data/seanome-kmerseek/scope-benchmark/pipeline-outputs/2024-10-09__hp_k20-60/sourmash/multisearch/astral-scopedom-seqres-gd-sel-gs-bib-40-2.08.part_001.fa--in--astral-scopedom-seqres-gd-sel-gs-bib-40-2.08.part_001.fa.hp.10.multisearch.pq ...\n",
      "Reading /home/ec2-user/data/seanome-kmerseek/scope-benchmark/pipeline-outputs/2024-10-09__hp_k20-60/sourmash/multisearch/astral-scopedom-seqres-gd-sel-gs-bib-40-2.08.part_001.fa--in--astral-scopedom-seqres-gd-sel-gs-bib-40-2.08.part_001.fa.hp.10.multisearch.pq ...\n",
      "2024-10-31 23:13 - DEBUG - Done.\n",
      "Done.\n",
      "2024-10-31 23:13 - DEBUG - Removing self-matches and matches with only one hash\n",
      "Removing self-matches and matches with only one hash\n",
      "2024-10-31 23:13 - DEBUG - Done.\n",
      "Done.\n",
      "2024-10-31 23:13 - DEBUG - \n",
      "Joining multisearch with query and match metadata ...\n",
      "\n",
      "Joining multisearch with query and match metadata ...\n",
      "2024-10-31 23:13 - DEBUG - Done.\n",
      "Done.\n",
      "2024-10-31 23:13 - DEBUG - \n",
      "Adding same_family column ...\n",
      "\n",
      "Adding same_family column ...\n",
      "2024-10-31 23:13 - DEBUG - Done.\n",
      "Done.\n",
      "2024-10-31 23:13 - DEBUG - \n",
      "Adding same_superfamily column ...\n",
      "\n",
      "Adding same_superfamily column ...\n",
      "2024-10-31 23:13 - DEBUG - Done.\n",
      "Done.\n",
      "2024-10-31 23:13 - DEBUG - \n",
      "Adding same_fold column ...\n",
      "\n",
      "Adding same_fold column ...\n",
      "2024-10-31 23:13 - DEBUG - Done.\n",
      "Done.\n",
      "2024-10-31 23:13 - DEBUG - \n",
      "Adding same_class column ...\n",
      "\n",
      "Adding same_class column ...\n",
      "2024-10-31 23:13 - DEBUG - Done.\n",
      "Done.\n",
      "2024-10-31 23:13 - DEBUG - Creating log10 version of prob_overlap_adjusted\n",
      "Creating log10 version of prob_overlap_adjusted\n",
      "2024-10-31 23:13 - DEBUG - Done.\n",
      "Done.\n",
      "2024-10-31 23:13 - DEBUG - Creating log10 version of containment\n",
      "Creating log10 version of containment\n",
      "2024-10-31 23:13 - DEBUG - Done.\n",
      "Done.\n",
      "2024-10-31 23:13 - DEBUG - Creating log10 version of max_containment\n",
      "Creating log10 version of max_containment\n",
      "2024-10-31 23:13 - DEBUG - Done.\n",
      "Done.\n",
      "2024-10-31 23:13 - DEBUG - Creating log10 version of tf_idf_score\n",
      "Creating log10 version of tf_idf_score\n",
      "2024-10-31 23:13 - DEBUG - Done.\n",
      "Done.\n",
      "2024-10-31 23:13 - DEBUG - Creating log10 version of jaccard\n",
      "Creating log10 version of jaccard\n",
      "2024-10-31 23:13 - DEBUG - Done.\n",
      "Done.\n",
      "2024-10-31 23:13 - DEBUG - Saving multisearch file, filtered: True\n",
      "Saving multisearch file, filtered: True\n"
     ]
    }
   ],
   "source": [
    "# Skip ksizes 5 and 6 for now because those files are enormous, 2.3 GiB for k=5 and 175 MiB for k=6\n",
    "# # -> Figure out how to use polars later\n",
    "# ksizes = range(7, 21)\n",
    "# moltype = \"protein\"\n",
    "\n",
    "moltype_info = {\n",
    "    # \"protein\": dict(\n",
    "    #     ksizes=range(5, 21),\n",
    "    #     pipeline_outdir=\"s3://seanome-kmerseek/scope-benchmark/pipeline-outputs/2024-10-08__protein_k5-20\",\n",
    "    #     analysis_outdir=\"s3://seanome-kmerseek/scope-benchmark/analysis-outputs/protein\",\n",
    "    # ),\n",
    "    # \"dayhoff\": dict(\n",
    "    #     ksizes=range(5, 21),\n",
    "    #     pipeline_outdir=\"s3://seanome-kmerseek/scope-benchmark/pipeline-outputs/2024-10-09__dayhoff_k5-20\",\n",
    "    #     analysis_outdir=\"s3://seanome-kmerseek/scope-benchmark/analysis-outputs/dayhoff\",\n",
    "    # ),\n",
    "    \"hp\": dict(\n",
    "        ksizes=range(10, 20),\n",
    "        # pipeline_outdir=\"s3://seanome-kmerseek/scope-benchmark/pipeline-outputs/2024-10-09__hp_k20-60\",\n",
    "        pipeline_outdir=\"/home/ec2-user/data/seanome-kmerseek/scope-benchmark/pipeline-outputs/2024-10-09__hp_k20-60\",\n",
    "        # analysis_outdir=\"s3://seanome-kmerseek/scope-benchmark/analysis-outputs/hp\",\n",
    "        analysis_outdir=\"/home/ec2-user/data/seanome-kmerseek/scope-benchmark/analysis-outputs/hp\",\n",
    "    ),\n",
    "}\n",
    "\n",
    "for moltype, info in moltype_info.items():\n",
    "    ksizes = info[\"ksizes\"]\n",
    "    analysis_outdir = info[\"analysis_outdir\"]\n",
    "    pipeline_outdir = info[\"pipeline_outdir\"]\n",
    "    for ksize in ksizes:\n",
    "        # try:\n",
    "        parser = MultisearchParser(\n",
    "            query_metadata=query_metadata,\n",
    "            match_metadata=match_metadata,\n",
    "            pipeline_outdir=pipeline_outdir,\n",
    "            moltype=moltype,\n",
    "            ksize=ksize,\n",
    "            analysis_outdir=analysis_outdir,\n",
    "            verbose=True,\n",
    "            input_filetype=\"pq\",\n",
    "            lazy=True,\n",
    "        )\n",
    "        lf = parser.process_multisearch_scop_results()\n",
    "    #     break\n",
    "    # break\n",
    "    # lf.head().collect()\n",
    "    # except FileNotFoundError:\n",
    "    #     pass\n",
    "\n",
    "    # break\n",
    "lf"
   ]
  },
  {
   "cell_type": "code",
   "execution_count": null,
   "id": "c55ce5c9-6f81-4fd1-8195-1c10a72dc829",
   "metadata": {
    "execution": {
     "execution_failed": "2024-10-31T23:14:27.814Z"
    }
   },
   "outputs": [],
   "source": [
    "%debug"
   ]
  },
  {
   "cell_type": "code",
   "execution_count": null,
   "id": "c7991c82-0312-4201-91bc-0f7005e5c6c9",
   "metadata": {},
   "outputs": [],
   "source": []
  },
  {
   "cell_type": "code",
   "execution_count": null,
   "id": "55ff7a7d-936e-4822-b2a2-14d309658f7a",
   "metadata": {},
   "outputs": [],
   "source": []
  },
  {
   "cell_type": "code",
   "execution_count": null,
   "id": "31cf590c-2bcc-456e-9c4b-f129d64bc63a",
   "metadata": {},
   "outputs": [],
   "source": []
  }
 ],
 "metadata": {
  "kernelspec": {
   "display_name": "Python [conda env:2024-kmerseek-analysis-polars]",
   "language": "python",
   "name": "conda-env-2024-kmerseek-analysis-polars-py"
  },
  "language_info": {
   "codemirror_mode": {
    "name": "ipython",
    "version": 3
   },
   "file_extension": ".py",
   "mimetype": "text/x-python",
   "name": "python",
   "nbconvert_exporter": "python",
   "pygments_lexer": "ipython3",
   "version": "3.12.7"
  }
 },
 "nbformat": 4,
 "nbformat_minor": 5
}
