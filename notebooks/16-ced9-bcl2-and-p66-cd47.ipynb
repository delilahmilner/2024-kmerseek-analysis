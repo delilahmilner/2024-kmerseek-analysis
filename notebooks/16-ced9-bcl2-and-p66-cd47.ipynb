{
 "cells": [
  {
   "cell_type": "markdown",
   "id": "ec46447c-5e3e-4d2c-9e28-5d1f7860deaf",
   "metadata": {},
   "source": [
    "# Imports"
   ]
  },
  {
   "cell_type": "code",
   "execution_count": 2,
   "id": "02d8e1bf-6ca0-40a0-9ef3-af317592cc82",
   "metadata": {
    "execution": {
     "iopub.execute_input": "2024-11-12T21:31:31.268053Z",
     "iopub.status.busy": "2024-11-12T21:31:31.267726Z",
     "iopub.status.idle": "2024-11-12T21:31:32.639537Z",
     "shell.execute_reply": "2024-11-12T21:31:32.639214Z",
     "shell.execute_reply.started": "2024-11-12T21:31:31.268039Z"
    }
   },
   "outputs": [],
   "source": [
    "import pandas as pd\n",
    "import seaborn as sns\n",
    "\n",
    "# Handwritten local modules\n",
    "from sig2kmer import degenerate_protein_chatgpt\n",
    "\n",
    "import sourmash"
   ]
  },
  {
   "cell_type": "markdown",
   "id": "fc6e9b32-0acd-4727-9ba3-261edafe783e",
   "metadata": {},
   "source": [
    "## Try aligning hp versions of CED9 and BCL2"
   ]
  },
  {
   "cell_type": "code",
   "execution_count": 3,
   "id": "e63be64c-3bd8-4bea-bf3c-2284addf8046",
   "metadata": {
    "execution": {
     "iopub.execute_input": "2024-11-12T21:31:32.640388Z",
     "iopub.status.busy": "2024-11-12T21:31:32.640079Z",
     "iopub.status.idle": "2024-11-12T21:31:32.642225Z",
     "shell.execute_reply": "2024-11-12T21:31:32.641997Z",
     "shell.execute_reply.started": "2024-11-12T21:31:32.640376Z"
    }
   },
   "outputs": [],
   "source": [
    "ced9_seq = \"MTRCTADNSLTNPAYRRRTMATGEMKEFLGIKGTEPTDFGINSDAQDLPSPSRQASTRRMSIGESIDGKINDWEEPRLDIEGFVVDYFTHRIRQNGMEWFGAPGLPCGVQPEHEMMRVMGTIFEKKHAENFETFCEQLLAVPRISFSLYQDVVRTVGNAQTDQCPMSYGRLIGLISFGGFVAAKMMESVELQGQVRNLFVYTSLFIKTRIRNNWKEHNRSWDDFMTLGKQMKEDYERAEAEKVGRRKQNRRWSMIGAGVTAGAIGIVGVVVCGRMMFSLK\"\n",
    "bcl2_seq = \"MAHAGRTGYDNREIVMKYIHYKLSQRGYEWDAGDVGAAPPGAAPAPGIFSSQPGHTPHPAASRDPVARTSPLQTPAAPGAAAGPALSPVPPVVHLTLRQAGDDFSRRYRRDFAEMSSQLHLTPFTARGRFATVVEELFRDGVNWGRIVAFFEFGGVMCVESVNREMSPLVDNIALWMTEYLNRHLHTWIQDNGGWDAFVELYGPSMRPLFDFSWLSLKTLLSLALVGACITLGAYLGHK\""
   ]
  },
  {
   "cell_type": "code",
   "execution_count": 4,
   "id": "1408cb59-5dfb-4d13-843e-8b1deda6e0a0",
   "metadata": {
    "execution": {
     "iopub.execute_input": "2024-11-12T21:31:32.642586Z",
     "iopub.status.busy": "2024-11-12T21:31:32.642487Z",
     "iopub.status.idle": "2024-11-12T21:31:32.649951Z",
     "shell.execute_reply": "2024-11-12T21:31:32.649731Z",
     "shell.execute_reply.started": "2024-11-12T21:31:32.642578Z"
    }
   },
   "outputs": [
    {
     "data": {
      "text/plain": [
       "'hpppphppphpphhhpppphhphphpphhhhphpphpphhhppphpphhphppphpppphphhpphphphpphpphphphphhhhphhppphppphhphhhhhhhhphhphppphhphhhphhpppphpphpphppphhhhhphphphhpphhpphhphppppphhphhphhhhhphhhhhhhphhpphphphphpphhhhpphhhppphppphpppppphpphhphhpphppphpphphpphhppppppphphhhhhhphhhhhhhhhhhphphhhphp'"
      ]
     },
     "execution_count": 4,
     "metadata": {},
     "output_type": "execute_result"
    }
   ],
   "source": [
    "ced9_seq_hp = degenerate_protein_chatgpt(ced9_seq, \"hp\")\n",
    "ced9_seq_hp"
   ]
  },
  {
   "cell_type": "code",
   "execution_count": 5,
   "id": "a6bc3196-4903-4b1f-9c75-aa543227691f",
   "metadata": {
    "execution": {
     "iopub.execute_input": "2024-11-12T21:31:32.650626Z",
     "iopub.status.busy": "2024-11-12T21:31:32.650521Z",
     "iopub.status.idle": "2024-11-12T21:31:32.654521Z",
     "shell.execute_reply": "2024-11-12T21:31:32.654306Z",
     "shell.execute_reply.started": "2024-11-12T21:31:32.650617Z"
    }
   },
   "outputs": [
    {
     "data": {
      "text/plain": [
       "'hhphhpphhpppphhhphhphphppphhphphhphhhhhhhhhhhhhhhppphhpphphhhppphhhppphhpphhhhhhhhhhhhphhhhhhphphpphhpphppphppphhphppphphphhphphphhphhpphhpphhphhphhhhhphhhhhphpphppphphhhpphhhhhpphhppphpphhppphhhphhhphhhhphphhhphphhphpphhphhhhhhphphhhhhhpp'"
      ]
     },
     "execution_count": 5,
     "metadata": {},
     "output_type": "execute_result"
    }
   ],
   "source": [
    "bcl2_seq_hp = degenerate_protein_chatgpt(bcl2_seq, \"hp\")\n",
    "bcl2_seq_hp"
   ]
  },
  {
   "cell_type": "code",
   "execution_count": 6,
   "id": "7be79de6-4856-4cdd-99c5-2e6b1902fd51",
   "metadata": {
    "execution": {
     "iopub.execute_input": "2024-11-12T21:31:32.654897Z",
     "iopub.status.busy": "2024-11-12T21:31:32.654799Z",
     "iopub.status.idle": "2024-11-12T21:31:32.658857Z",
     "shell.execute_reply": "2024-11-12T21:31:32.658627Z",
     "shell.execute_reply.started": "2024-11-12T21:31:32.654888Z"
    }
   },
   "outputs": [],
   "source": [
    "def kmerize(sequence, ksize):\n",
    "    kmers = [sequence[i : (i + ksize)] for i in range(len(sequence) - ksize + 1)]\n",
    "    return kmers\n",
    "\n",
    "\n",
    "def calculate_jaccard(set1, set2):\n",
    "    union = set1.union(set2)\n",
    "    intersection = set1.intersection(set2)\n",
    "    return len(intersection) / len(union)"
   ]
  },
  {
   "cell_type": "code",
   "execution_count": 7,
   "id": "df3a181f-6ec3-429e-86a2-d2f7f490852a",
   "metadata": {
    "execution": {
     "iopub.execute_input": "2024-11-12T21:31:32.659221Z",
     "iopub.status.busy": "2024-11-12T21:31:32.659126Z",
     "iopub.status.idle": "2024-11-12T21:31:32.675748Z",
     "shell.execute_reply": "2024-11-12T21:31:32.675523Z",
     "shell.execute_reply.started": "2024-11-12T21:31:32.659212Z"
    }
   },
   "outputs": [
    {
     "data": {
      "text/html": [
       "<div>\n",
       "<style scoped>\n",
       "    .dataframe tbody tr th:only-of-type {\n",
       "        vertical-align: middle;\n",
       "    }\n",
       "\n",
       "    .dataframe tbody tr th {\n",
       "        vertical-align: top;\n",
       "    }\n",
       "\n",
       "    .dataframe thead th {\n",
       "        text-align: right;\n",
       "    }\n",
       "</style>\n",
       "<table border=\"1\" class=\"dataframe\">\n",
       "  <thead>\n",
       "    <tr style=\"text-align: right;\">\n",
       "      <th></th>\n",
       "      <th>query</th>\n",
       "      <th>match</th>\n",
       "      <th>moltype</th>\n",
       "      <th>ksize</th>\n",
       "      <th>jaccard</th>\n",
       "      <th>query_n_kmers</th>\n",
       "      <th>query_n_unique_kmers</th>\n",
       "      <th>match_n_kmers</th>\n",
       "      <th>match_n_unique_kmers</th>\n",
       "    </tr>\n",
       "  </thead>\n",
       "  <tbody>\n",
       "    <tr>\n",
       "      <th>0</th>\n",
       "      <td>BCL2</td>\n",
       "      <td>ced9</td>\n",
       "      <td>hp</td>\n",
       "      <td>5</td>\n",
       "      <td>0.968750</td>\n",
       "      <td>235</td>\n",
       "      <td>31</td>\n",
       "      <td>276</td>\n",
       "      <td>32</td>\n",
       "    </tr>\n",
       "    <tr>\n",
       "      <th>1</th>\n",
       "      <td>BCL2</td>\n",
       "      <td>ced9</td>\n",
       "      <td>hp</td>\n",
       "      <td>6</td>\n",
       "      <td>0.921875</td>\n",
       "      <td>234</td>\n",
       "      <td>59</td>\n",
       "      <td>275</td>\n",
       "      <td>64</td>\n",
       "    </tr>\n",
       "    <tr>\n",
       "      <th>2</th>\n",
       "      <td>BCL2</td>\n",
       "      <td>ced9</td>\n",
       "      <td>hp</td>\n",
       "      <td>7</td>\n",
       "      <td>0.653543</td>\n",
       "      <td>233</td>\n",
       "      <td>97</td>\n",
       "      <td>274</td>\n",
       "      <td>113</td>\n",
       "    </tr>\n",
       "    <tr>\n",
       "      <th>3</th>\n",
       "      <td>BCL2</td>\n",
       "      <td>ced9</td>\n",
       "      <td>hp</td>\n",
       "      <td>8</td>\n",
       "      <td>0.424658</td>\n",
       "      <td>232</td>\n",
       "      <td>144</td>\n",
       "      <td>273</td>\n",
       "      <td>168</td>\n",
       "    </tr>\n",
       "    <tr>\n",
       "      <th>4</th>\n",
       "      <td>BCL2</td>\n",
       "      <td>ced9</td>\n",
       "      <td>hp</td>\n",
       "      <td>9</td>\n",
       "      <td>0.231250</td>\n",
       "      <td>231</td>\n",
       "      <td>181</td>\n",
       "      <td>272</td>\n",
       "      <td>213</td>\n",
       "    </tr>\n",
       "    <tr>\n",
       "      <th>5</th>\n",
       "      <td>BCL2</td>\n",
       "      <td>ced9</td>\n",
       "      <td>hp</td>\n",
       "      <td>10</td>\n",
       "      <td>0.131980</td>\n",
       "      <td>230</td>\n",
       "      <td>205</td>\n",
       "      <td>271</td>\n",
       "      <td>241</td>\n",
       "    </tr>\n",
       "    <tr>\n",
       "      <th>6</th>\n",
       "      <td>BCL2</td>\n",
       "      <td>ced9</td>\n",
       "      <td>hp</td>\n",
       "      <td>11</td>\n",
       "      <td>0.082569</td>\n",
       "      <td>229</td>\n",
       "      <td>215</td>\n",
       "      <td>270</td>\n",
       "      <td>257</td>\n",
       "    </tr>\n",
       "    <tr>\n",
       "      <th>7</th>\n",
       "      <td>BCL2</td>\n",
       "      <td>ced9</td>\n",
       "      <td>hp</td>\n",
       "      <td>12</td>\n",
       "      <td>0.052174</td>\n",
       "      <td>228</td>\n",
       "      <td>220</td>\n",
       "      <td>269</td>\n",
       "      <td>264</td>\n",
       "    </tr>\n",
       "    <tr>\n",
       "      <th>8</th>\n",
       "      <td>BCL2</td>\n",
       "      <td>ced9</td>\n",
       "      <td>hp</td>\n",
       "      <td>13</td>\n",
       "      <td>0.029474</td>\n",
       "      <td>227</td>\n",
       "      <td>222</td>\n",
       "      <td>268</td>\n",
       "      <td>267</td>\n",
       "    </tr>\n",
       "    <tr>\n",
       "      <th>9</th>\n",
       "      <td>BCL2</td>\n",
       "      <td>ced9</td>\n",
       "      <td>hp</td>\n",
       "      <td>14</td>\n",
       "      <td>0.016529</td>\n",
       "      <td>226</td>\n",
       "      <td>225</td>\n",
       "      <td>267</td>\n",
       "      <td>267</td>\n",
       "    </tr>\n",
       "    <tr>\n",
       "      <th>10</th>\n",
       "      <td>BCL2</td>\n",
       "      <td>ced9</td>\n",
       "      <td>hp</td>\n",
       "      <td>15</td>\n",
       "      <td>0.010288</td>\n",
       "      <td>225</td>\n",
       "      <td>225</td>\n",
       "      <td>266</td>\n",
       "      <td>266</td>\n",
       "    </tr>\n",
       "    <tr>\n",
       "      <th>11</th>\n",
       "      <td>BCL2</td>\n",
       "      <td>ced9</td>\n",
       "      <td>hp</td>\n",
       "      <td>16</td>\n",
       "      <td>0.008247</td>\n",
       "      <td>224</td>\n",
       "      <td>224</td>\n",
       "      <td>265</td>\n",
       "      <td>265</td>\n",
       "    </tr>\n",
       "    <tr>\n",
       "      <th>12</th>\n",
       "      <td>BCL2</td>\n",
       "      <td>ced9</td>\n",
       "      <td>hp</td>\n",
       "      <td>17</td>\n",
       "      <td>0.006198</td>\n",
       "      <td>223</td>\n",
       "      <td>223</td>\n",
       "      <td>264</td>\n",
       "      <td>264</td>\n",
       "    </tr>\n",
       "    <tr>\n",
       "      <th>13</th>\n",
       "      <td>BCL2</td>\n",
       "      <td>ced9</td>\n",
       "      <td>hp</td>\n",
       "      <td>18</td>\n",
       "      <td>0.004141</td>\n",
       "      <td>222</td>\n",
       "      <td>222</td>\n",
       "      <td>263</td>\n",
       "      <td>263</td>\n",
       "    </tr>\n",
       "    <tr>\n",
       "      <th>14</th>\n",
       "      <td>BCL2</td>\n",
       "      <td>ced9</td>\n",
       "      <td>hp</td>\n",
       "      <td>19</td>\n",
       "      <td>0.002075</td>\n",
       "      <td>221</td>\n",
       "      <td>221</td>\n",
       "      <td>262</td>\n",
       "      <td>262</td>\n",
       "    </tr>\n",
       "    <tr>\n",
       "      <th>15</th>\n",
       "      <td>BCL2</td>\n",
       "      <td>ced9</td>\n",
       "      <td>hp</td>\n",
       "      <td>20</td>\n",
       "      <td>0.000000</td>\n",
       "      <td>220</td>\n",
       "      <td>220</td>\n",
       "      <td>261</td>\n",
       "      <td>261</td>\n",
       "    </tr>\n",
       "    <tr>\n",
       "      <th>16</th>\n",
       "      <td>BCL2</td>\n",
       "      <td>ced9</td>\n",
       "      <td>hp</td>\n",
       "      <td>21</td>\n",
       "      <td>0.000000</td>\n",
       "      <td>219</td>\n",
       "      <td>219</td>\n",
       "      <td>260</td>\n",
       "      <td>260</td>\n",
       "    </tr>\n",
       "    <tr>\n",
       "      <th>17</th>\n",
       "      <td>BCL2</td>\n",
       "      <td>ced9</td>\n",
       "      <td>hp</td>\n",
       "      <td>22</td>\n",
       "      <td>0.000000</td>\n",
       "      <td>218</td>\n",
       "      <td>218</td>\n",
       "      <td>259</td>\n",
       "      <td>259</td>\n",
       "    </tr>\n",
       "    <tr>\n",
       "      <th>18</th>\n",
       "      <td>BCL2</td>\n",
       "      <td>ced9</td>\n",
       "      <td>hp</td>\n",
       "      <td>23</td>\n",
       "      <td>0.000000</td>\n",
       "      <td>217</td>\n",
       "      <td>217</td>\n",
       "      <td>258</td>\n",
       "      <td>258</td>\n",
       "    </tr>\n",
       "    <tr>\n",
       "      <th>19</th>\n",
       "      <td>BCL2</td>\n",
       "      <td>ced9</td>\n",
       "      <td>hp</td>\n",
       "      <td>24</td>\n",
       "      <td>0.000000</td>\n",
       "      <td>216</td>\n",
       "      <td>216</td>\n",
       "      <td>257</td>\n",
       "      <td>257</td>\n",
       "    </tr>\n",
       "    <tr>\n",
       "      <th>20</th>\n",
       "      <td>BCL2</td>\n",
       "      <td>ced9</td>\n",
       "      <td>hp</td>\n",
       "      <td>25</td>\n",
       "      <td>0.000000</td>\n",
       "      <td>215</td>\n",
       "      <td>215</td>\n",
       "      <td>256</td>\n",
       "      <td>256</td>\n",
       "    </tr>\n",
       "    <tr>\n",
       "      <th>21</th>\n",
       "      <td>BCL2</td>\n",
       "      <td>ced9</td>\n",
       "      <td>hp</td>\n",
       "      <td>26</td>\n",
       "      <td>0.000000</td>\n",
       "      <td>214</td>\n",
       "      <td>214</td>\n",
       "      <td>255</td>\n",
       "      <td>255</td>\n",
       "    </tr>\n",
       "    <tr>\n",
       "      <th>22</th>\n",
       "      <td>BCL2</td>\n",
       "      <td>ced9</td>\n",
       "      <td>hp</td>\n",
       "      <td>27</td>\n",
       "      <td>0.000000</td>\n",
       "      <td>213</td>\n",
       "      <td>213</td>\n",
       "      <td>254</td>\n",
       "      <td>254</td>\n",
       "    </tr>\n",
       "    <tr>\n",
       "      <th>23</th>\n",
       "      <td>BCL2</td>\n",
       "      <td>ced9</td>\n",
       "      <td>hp</td>\n",
       "      <td>28</td>\n",
       "      <td>0.000000</td>\n",
       "      <td>212</td>\n",
       "      <td>212</td>\n",
       "      <td>253</td>\n",
       "      <td>253</td>\n",
       "    </tr>\n",
       "    <tr>\n",
       "      <th>24</th>\n",
       "      <td>BCL2</td>\n",
       "      <td>ced9</td>\n",
       "      <td>hp</td>\n",
       "      <td>29</td>\n",
       "      <td>0.000000</td>\n",
       "      <td>211</td>\n",
       "      <td>211</td>\n",
       "      <td>252</td>\n",
       "      <td>252</td>\n",
       "    </tr>\n",
       "    <tr>\n",
       "      <th>25</th>\n",
       "      <td>BCL2</td>\n",
       "      <td>ced9</td>\n",
       "      <td>hp</td>\n",
       "      <td>30</td>\n",
       "      <td>0.000000</td>\n",
       "      <td>210</td>\n",
       "      <td>210</td>\n",
       "      <td>251</td>\n",
       "      <td>251</td>\n",
       "    </tr>\n",
       "  </tbody>\n",
       "</table>\n",
       "</div>"
      ],
      "text/plain": [
       "   query match moltype  ksize   jaccard  query_n_kmers  query_n_unique_kmers  \\\n",
       "0   BCL2  ced9      hp      5  0.968750            235                    31   \n",
       "1   BCL2  ced9      hp      6  0.921875            234                    59   \n",
       "2   BCL2  ced9      hp      7  0.653543            233                    97   \n",
       "3   BCL2  ced9      hp      8  0.424658            232                   144   \n",
       "4   BCL2  ced9      hp      9  0.231250            231                   181   \n",
       "5   BCL2  ced9      hp     10  0.131980            230                   205   \n",
       "6   BCL2  ced9      hp     11  0.082569            229                   215   \n",
       "7   BCL2  ced9      hp     12  0.052174            228                   220   \n",
       "8   BCL2  ced9      hp     13  0.029474            227                   222   \n",
       "9   BCL2  ced9      hp     14  0.016529            226                   225   \n",
       "10  BCL2  ced9      hp     15  0.010288            225                   225   \n",
       "11  BCL2  ced9      hp     16  0.008247            224                   224   \n",
       "12  BCL2  ced9      hp     17  0.006198            223                   223   \n",
       "13  BCL2  ced9      hp     18  0.004141            222                   222   \n",
       "14  BCL2  ced9      hp     19  0.002075            221                   221   \n",
       "15  BCL2  ced9      hp     20  0.000000            220                   220   \n",
       "16  BCL2  ced9      hp     21  0.000000            219                   219   \n",
       "17  BCL2  ced9      hp     22  0.000000            218                   218   \n",
       "18  BCL2  ced9      hp     23  0.000000            217                   217   \n",
       "19  BCL2  ced9      hp     24  0.000000            216                   216   \n",
       "20  BCL2  ced9      hp     25  0.000000            215                   215   \n",
       "21  BCL2  ced9      hp     26  0.000000            214                   214   \n",
       "22  BCL2  ced9      hp     27  0.000000            213                   213   \n",
       "23  BCL2  ced9      hp     28  0.000000            212                   212   \n",
       "24  BCL2  ced9      hp     29  0.000000            211                   211   \n",
       "25  BCL2  ced9      hp     30  0.000000            210                   210   \n",
       "\n",
       "    match_n_kmers  match_n_unique_kmers  \n",
       "0             276                    32  \n",
       "1             275                    64  \n",
       "2             274                   113  \n",
       "3             273                   168  \n",
       "4             272                   213  \n",
       "5             271                   241  \n",
       "6             270                   257  \n",
       "7             269                   264  \n",
       "8             268                   267  \n",
       "9             267                   267  \n",
       "10            266                   266  \n",
       "11            265                   265  \n",
       "12            264                   264  \n",
       "13            263                   263  \n",
       "14            262                   262  \n",
       "15            261                   261  \n",
       "16            260                   260  \n",
       "17            259                   259  \n",
       "18            258                   258  \n",
       "19            257                   257  \n",
       "20            256                   256  \n",
       "21            255                   255  \n",
       "22            254                   254  \n",
       "23            253                   253  \n",
       "24            252                   252  \n",
       "25            251                   251  "
      ]
     },
     "execution_count": 7,
     "metadata": {},
     "output_type": "execute_result"
    }
   ],
   "source": [
    "ksizes = range(5, 31)\n",
    "\n",
    "lines = []\n",
    "\n",
    "for ksize in ksizes:\n",
    "    bcl2_hp_kmers = kmerize(bcl2_seq_hp, ksize)\n",
    "    ced9_hp_kmers = kmerize(ced9_seq_hp, ksize)\n",
    "\n",
    "    bcl2_hp_kmers_set = set(bcl2_hp_kmers)\n",
    "    ced9_hp_kmers_set = set(ced9_hp_kmers)\n",
    "\n",
    "    jaccard = calculate_jaccard(bcl2_hp_kmers_set, ced9_hp_kmers_set)\n",
    "    lines.append(\n",
    "        [\n",
    "            \"BCL2\",\n",
    "            \"ced9\",\n",
    "            \"hp\",\n",
    "            ksize,\n",
    "            jaccard,\n",
    "            len(bcl2_hp_kmers),\n",
    "            len(bcl2_hp_kmers_set),\n",
    "            len(ced9_hp_kmers),\n",
    "            len(ced9_hp_kmers_set),\n",
    "        ]\n",
    "    )\n",
    "jaccard_df = pd.DataFrame(\n",
    "    lines,\n",
    "    columns=[\n",
    "        \"query\",\n",
    "        \"match\",\n",
    "        \"moltype\",\n",
    "        \"ksize\",\n",
    "        \"jaccard\",\n",
    "        \"query_n_kmers\",\n",
    "        \"query_n_unique_kmers\",\n",
    "        \"match_n_kmers\",\n",
    "        \"match_n_unique_kmers\",\n",
    "    ],\n",
    ")\n",
    "jaccard_df"
   ]
  },
  {
   "cell_type": "code",
   "execution_count": 8,
   "id": "2fe0e852-a6e8-4b77-abf2-4081fc9ca998",
   "metadata": {
    "execution": {
     "iopub.execute_input": "2024-11-12T21:31:32.676166Z",
     "iopub.status.busy": "2024-11-12T21:31:32.676066Z",
     "iopub.status.idle": "2024-11-12T21:31:32.809486Z",
     "shell.execute_reply": "2024-11-12T21:31:32.809211Z",
     "shell.execute_reply.started": "2024-11-12T21:31:32.676157Z"
    }
   },
   "outputs": [
    {
     "data": {
      "text/plain": [
       "<seaborn.axisgrid.FacetGrid at 0x7faa131a9640>"
      ]
     },
     "execution_count": 8,
     "metadata": {},
     "output_type": "execute_result"
    },
    {
     "data": {
      "image/png": "[encoded data removed]",
      "text/plain": [
       "<Figure size 300x300 with 1 Axes>"
      ]
     },
     "metadata": {},
     "output_type": "display_data"
    }
   ],
   "source": [
    "sns.relplot(data=jaccard_df, x=\"ksize\", y=\"jaccard\", height=3)"
   ]
  },
  {
   "cell_type": "code",
   "execution_count": 9,
   "id": "e3d860cc-45c8-4b94-9d00-fc15f874276b",
   "metadata": {
    "execution": {
     "iopub.execute_input": "2024-11-12T21:31:32.809965Z",
     "iopub.status.busy": "2024-11-12T21:31:32.809855Z",
     "iopub.status.idle": "2024-11-12T21:31:32.888595Z",
     "shell.execute_reply": "2024-11-12T21:31:32.888321Z",
     "shell.execute_reply.started": "2024-11-12T21:31:32.809955Z"
    }
   },
   "outputs": [
    {
     "data": {
      "text/plain": [
       "<seaborn.axisgrid.FacetGrid at 0x7faa131aa1b0>"
      ]
     },
     "execution_count": 9,
     "metadata": {},
     "output_type": "execute_result"
    },
    {
     "data": {
      "image/png": "[encoded data removed]",
      "text/plain": [
       "<Figure size 300x300 with 1 Axes>"
      ]
     },
     "metadata": {},
     "output_type": "display_data"
    }
   ],
   "source": [
    "sns.relplot(data=jaccard_df, x=\"query_n_kmers\", y=\"query_n_unique_kmers\", height=3)"
   ]
  },
  {
   "cell_type": "code",
   "execution_count": 10,
   "id": "8a341b04-2470-443f-8758-9df1783e79cf",
   "metadata": {
    "execution": {
     "iopub.execute_input": "2024-11-12T21:31:32.889054Z",
     "iopub.status.busy": "2024-11-12T21:31:32.888946Z",
     "iopub.status.idle": "2024-11-12T21:31:32.965630Z",
     "shell.execute_reply": "2024-11-12T21:31:32.965373Z",
     "shell.execute_reply.started": "2024-11-12T21:31:32.889044Z"
    }
   },
   "outputs": [
    {
     "data": {
      "text/plain": [
       "<seaborn.axisgrid.FacetGrid at 0x7faaa66f6690>"
      ]
     },
     "execution_count": 10,
     "metadata": {},
     "output_type": "execute_result"
    },
    {
     "data": {
      "image/png": "[encoded data removed]",
      "text/plain": [
       "<Figure size 300x300 with 1 Axes>"
      ]
     },
     "metadata": {},
     "output_type": "display_data"
    }
   ],
   "source": [
    "sns.relplot(data=jaccard_df, x=\"ksize\", y=\"query_n_unique_kmers\", height=3)"
   ]
  },
  {
   "cell_type": "code",
   "execution_count": 11,
   "id": "5e8a9002-2073-41f7-a7d2-a4ca316a01ce",
   "metadata": {
    "execution": {
     "iopub.execute_input": "2024-11-12T21:31:32.966566Z",
     "iopub.status.busy": "2024-11-12T21:31:32.966453Z",
     "iopub.status.idle": "2024-11-12T21:31:33.108691Z",
     "shell.execute_reply": "2024-11-12T21:31:33.108401Z",
     "shell.execute_reply.started": "2024-11-12T21:31:32.966556Z"
    }
   },
   "outputs": [
    {
     "data": {
      "text/plain": [
       "<seaborn.axisgrid.FacetGrid at 0x7faa10b63f80>"
      ]
     },
     "execution_count": 11,
     "metadata": {},
     "output_type": "execute_result"
    },
    {
     "data": {
      "image/png": "[encoded data removed]",
      "text/plain": [
       "<Figure size 367.75x300 with 1 Axes>"
      ]
     },
     "metadata": {},
     "output_type": "display_data"
    }
   ],
   "source": [
    "sns.relplot(\n",
    "    data=jaccard_df,\n",
    "    x=\"query_n_unique_kmers\",\n",
    "    y=\"jaccard\",\n",
    "    height=3,\n",
    "    hue=\"ksize\",\n",
    "    palette=\"crest\",\n",
    ")"
   ]
  },
  {
   "cell_type": "code",
   "execution_count": 12,
   "id": "19421cc7-be9f-45fc-b848-f29aa449a11e",
   "metadata": {
    "execution": {
     "iopub.execute_input": "2024-11-12T21:31:33.109164Z",
     "iopub.status.busy": "2024-11-12T21:31:33.109056Z",
     "iopub.status.idle": "2024-11-12T21:31:33.115226Z",
     "shell.execute_reply": "2024-11-12T21:31:33.115001Z",
     "shell.execute_reply.started": "2024-11-12T21:31:33.109153Z"
    }
   },
   "outputs": [
    {
     "data": {
      "text/html": [
       "<div>\n",
       "<style scoped>\n",
       "    .dataframe tbody tr th:only-of-type {\n",
       "        vertical-align: middle;\n",
       "    }\n",
       "\n",
       "    .dataframe tbody tr th {\n",
       "        vertical-align: top;\n",
       "    }\n",
       "\n",
       "    .dataframe thead th {\n",
       "        text-align: right;\n",
       "    }\n",
       "</style>\n",
       "<table border=\"1\" class=\"dataframe\">\n",
       "  <thead>\n",
       "    <tr style=\"text-align: right;\">\n",
       "      <th></th>\n",
       "      <th>query</th>\n",
       "      <th>match</th>\n",
       "      <th>moltype</th>\n",
       "      <th>ksize</th>\n",
       "      <th>jaccard</th>\n",
       "      <th>query_n_kmers</th>\n",
       "      <th>query_n_unique_kmers</th>\n",
       "      <th>match_n_kmers</th>\n",
       "      <th>match_n_unique_kmers</th>\n",
       "    </tr>\n",
       "  </thead>\n",
       "  <tbody>\n",
       "    <tr>\n",
       "      <th>0</th>\n",
       "      <td>BCL2</td>\n",
       "      <td>ced9</td>\n",
       "      <td>hp</td>\n",
       "      <td>5</td>\n",
       "      <td>0.968750</td>\n",
       "      <td>235</td>\n",
       "      <td>31</td>\n",
       "      <td>276</td>\n",
       "      <td>32</td>\n",
       "    </tr>\n",
       "    <tr>\n",
       "      <th>1</th>\n",
       "      <td>BCL2</td>\n",
       "      <td>ced9</td>\n",
       "      <td>hp</td>\n",
       "      <td>6</td>\n",
       "      <td>0.921875</td>\n",
       "      <td>234</td>\n",
       "      <td>59</td>\n",
       "      <td>275</td>\n",
       "      <td>64</td>\n",
       "    </tr>\n",
       "    <tr>\n",
       "      <th>2</th>\n",
       "      <td>BCL2</td>\n",
       "      <td>ced9</td>\n",
       "      <td>hp</td>\n",
       "      <td>7</td>\n",
       "      <td>0.653543</td>\n",
       "      <td>233</td>\n",
       "      <td>97</td>\n",
       "      <td>274</td>\n",
       "      <td>113</td>\n",
       "    </tr>\n",
       "  </tbody>\n",
       "</table>\n",
       "</div>"
      ],
      "text/plain": [
       "  query match moltype  ksize   jaccard  query_n_kmers  query_n_unique_kmers  \\\n",
       "0  BCL2  ced9      hp      5  0.968750            235                    31   \n",
       "1  BCL2  ced9      hp      6  0.921875            234                    59   \n",
       "2  BCL2  ced9      hp      7  0.653543            233                    97   \n",
       "\n",
       "   match_n_kmers  match_n_unique_kmers  \n",
       "0            276                    32  \n",
       "1            275                    64  \n",
       "2            274                   113  "
      ]
     },
     "execution_count": 12,
     "metadata": {},
     "output_type": "execute_result"
    }
   ],
   "source": [
    "jaccard_df.query(\"jaccard > 0.5\")"
   ]
  },
  {
   "cell_type": "markdown",
   "id": "02f77666-adb5-4aa2-b660-3807ca0848bb",
   "metadata": {},
   "source": [
    "# Functionalize the analysis for any two sequences\n",
    "\n",
    "Thanks Claude"
   ]
  },
  {
   "cell_type": "code",
   "execution_count": 13,
   "id": "cb300f9d-acbf-4663-91df-3689d270e907",
   "metadata": {
    "execution": {
     "iopub.execute_input": "2024-11-12T21:31:33.115667Z",
     "iopub.status.busy": "2024-11-12T21:31:33.115570Z",
     "iopub.status.idle": "2024-11-12T21:31:33.206289Z",
     "shell.execute_reply": "2024-11-12T21:31:33.206015Z",
     "shell.execute_reply.started": "2024-11-12T21:31:33.115658Z"
    }
   },
   "outputs": [
    {
     "data": {
      "text/html": [
       "<div>\n",
       "<style scoped>\n",
       "    .dataframe tbody tr th:only-of-type {\n",
       "        vertical-align: middle;\n",
       "    }\n",
       "\n",
       "    .dataframe tbody tr th {\n",
       "        vertical-align: top;\n",
       "    }\n",
       "\n",
       "    .dataframe thead th {\n",
       "        text-align: right;\n",
       "    }\n",
       "</style>\n",
       "<table border=\"1\" class=\"dataframe\">\n",
       "  <thead>\n",
       "    <tr style=\"text-align: right;\">\n",
       "      <th></th>\n",
       "      <th>query</th>\n",
       "      <th>match</th>\n",
       "      <th>moltype</th>\n",
       "      <th>ksize</th>\n",
       "      <th>jaccard</th>\n",
       "      <th>query_n_kmers</th>\n",
       "      <th>query_n_unique_kmers</th>\n",
       "      <th>query_intersection_positions</th>\n",
       "      <th>match_n_kmers</th>\n",
       "      <th>match_n_unique_kmers</th>\n",
       "      <th>match_intersection_positions</th>\n",
       "    </tr>\n",
       "  </thead>\n",
       "  <tbody>\n",
       "    <tr>\n",
       "      <th>0</th>\n",
       "      <td>CED9</td>\n",
       "      <td>BCL2</td>\n",
       "      <td>hp</td>\n",
       "      <td>5</td>\n",
       "      <td>0.968750</td>\n",
       "      <td>276</td>\n",
       "      <td>32</td>\n",
       "      <td>[[0, hpppp], [1, pppph], [2, ppphp], [3, pphpp...</td>\n",
       "      <td>235</td>\n",
       "      <td>31</td>\n",
       "      <td>[[0, hhphh], [1, hphhp], [2, phhpp], [3, hhpph...</td>\n",
       "    </tr>\n",
       "    <tr>\n",
       "      <th>1</th>\n",
       "      <td>CED9</td>\n",
       "      <td>BCL2</td>\n",
       "      <td>hp</td>\n",
       "      <td>6</td>\n",
       "      <td>0.921875</td>\n",
       "      <td>275</td>\n",
       "      <td>64</td>\n",
       "      <td>[[0, hpppph], [2, ppphpp], [3, pphppp], [4, ph...</td>\n",
       "      <td>234</td>\n",
       "      <td>59</td>\n",
       "      <td>[[0, hhphhp], [1, hphhpp], [2, phhpph], [3, hh...</td>\n",
       "    </tr>\n",
       "    <tr>\n",
       "      <th>2</th>\n",
       "      <td>CED9</td>\n",
       "      <td>BCL2</td>\n",
       "      <td>hp</td>\n",
       "      <td>7</td>\n",
       "      <td>0.653543</td>\n",
       "      <td>274</td>\n",
       "      <td>113</td>\n",
       "      <td>[[2, ppphppp], [3, pphppph], [4, phppphp], [5,...</td>\n",
       "      <td>233</td>\n",
       "      <td>97</td>\n",
       "      <td>[[0, hhphhpp], [1, hphhpph], [2, phhpphh], [3,...</td>\n",
       "    </tr>\n",
       "    <tr>\n",
       "      <th>3</th>\n",
       "      <td>CED9</td>\n",
       "      <td>BCL2</td>\n",
       "      <td>hp</td>\n",
       "      <td>8</td>\n",
       "      <td>0.424658</td>\n",
       "      <td>273</td>\n",
       "      <td>168</td>\n",
       "      <td>[[2, ppphppph], [3, pphppphp], [4, phppphpp], ...</td>\n",
       "      <td>232</td>\n",
       "      <td>144</td>\n",
       "      <td>[[0, hhphhpph], [1, hphhpphh], [2, phhpphhp], ...</td>\n",
       "    </tr>\n",
       "    <tr>\n",
       "      <th>4</th>\n",
       "      <td>CED9</td>\n",
       "      <td>BCL2</td>\n",
       "      <td>hp</td>\n",
       "      <td>9</td>\n",
       "      <td>0.231250</td>\n",
       "      <td>272</td>\n",
       "      <td>213</td>\n",
       "      <td>[[3, pphppphpp], [5, hppphpphh], [16, ppphhphp...</td>\n",
       "      <td>231</td>\n",
       "      <td>181</td>\n",
       "      <td>[[1, hphhpphhp], [2, phhpphhpp], [4, hpphhpppp...</td>\n",
       "    </tr>\n",
       "    <tr>\n",
       "      <th>5</th>\n",
       "      <td>CED9</td>\n",
       "      <td>BCL2</td>\n",
       "      <td>hp</td>\n",
       "      <td>10</td>\n",
       "      <td>0.131980</td>\n",
       "      <td>271</td>\n",
       "      <td>241</td>\n",
       "      <td>[[19, hhphphpphh], [27, hhhhphpphp], [28, hhhp...</td>\n",
       "      <td>230</td>\n",
       "      <td>205</td>\n",
       "      <td>[[1, hphhpphhpp], [20, hphppphhph], [29, hphhp...</td>\n",
       "    </tr>\n",
       "    <tr>\n",
       "      <th>6</th>\n",
       "      <td>CED9</td>\n",
       "      <td>BCL2</td>\n",
       "      <td>hp</td>\n",
       "      <td>11</td>\n",
       "      <td>0.082569</td>\n",
       "      <td>270</td>\n",
       "      <td>257</td>\n",
       "      <td>[[27, hhhhphpphpp], [39, hhppphpphhp], [45, pp...</td>\n",
       "      <td>229</td>\n",
       "      <td>215</td>\n",
       "      <td>[[30, phhphhhhhhh], [31, hhphhhhhhhh], [32, hp...</td>\n",
       "    </tr>\n",
       "    <tr>\n",
       "      <th>7</th>\n",
       "      <td>CED9</td>\n",
       "      <td>BCL2</td>\n",
       "      <td>hp</td>\n",
       "      <td>12</td>\n",
       "      <td>0.052174</td>\n",
       "      <td>269</td>\n",
       "      <td>264</td>\n",
       "      <td>[[87, hppphppphhph], [94, phhphhhhhhhh], [145,...</td>\n",
       "      <td>228</td>\n",
       "      <td>220</td>\n",
       "      <td>[[30, phhphhhhhhhh], [31, hhphhhhhhhhh], [32, ...</td>\n",
       "    </tr>\n",
       "    <tr>\n",
       "      <th>8</th>\n",
       "      <td>CED9</td>\n",
       "      <td>BCL2</td>\n",
       "      <td>hp</td>\n",
       "      <td>13</td>\n",
       "      <td>0.029474</td>\n",
       "      <td>268</td>\n",
       "      <td>267</td>\n",
       "      <td>[[145, hphhpphhpphhp], [146, phhpphhpphhph], [...</td>\n",
       "      <td>227</td>\n",
       "      <td>222</td>\n",
       "      <td>[[31, hhphhhhhhhhhh], [32, hphhhhhhhhhhh], [75...</td>\n",
       "    </tr>\n",
       "    <tr>\n",
       "      <th>9</th>\n",
       "      <td>CED9</td>\n",
       "      <td>BCL2</td>\n",
       "      <td>hp</td>\n",
       "      <td>14</td>\n",
       "      <td>0.016529</td>\n",
       "      <td>267</td>\n",
       "      <td>267</td>\n",
       "      <td>[[145, hphhpphhpphhph], [162, pphhphhphhhhhp],...</td>\n",
       "      <td>226</td>\n",
       "      <td>225</td>\n",
       "      <td>[[31, hhphhhhhhhhhhh], [130, hphhpphhpphhph], ...</td>\n",
       "    </tr>\n",
       "    <tr>\n",
       "      <th>10</th>\n",
       "      <td>CED9</td>\n",
       "      <td>BCL2</td>\n",
       "      <td>hp</td>\n",
       "      <td>15</td>\n",
       "      <td>0.010288</td>\n",
       "      <td>266</td>\n",
       "      <td>266</td>\n",
       "      <td>[[162, pphhphhphhhhhph], [163, phhphhphhhhhphh...</td>\n",
       "      <td>225</td>\n",
       "      <td>225</td>\n",
       "      <td>[[138, pphhphhphhhhhph], [139, phhphhphhhhhphh...</td>\n",
       "    </tr>\n",
       "    <tr>\n",
       "      <th>11</th>\n",
       "      <td>CED9</td>\n",
       "      <td>BCL2</td>\n",
       "      <td>hp</td>\n",
       "      <td>16</td>\n",
       "      <td>0.008247</td>\n",
       "      <td>265</td>\n",
       "      <td>265</td>\n",
       "      <td>[[162, pphhphhphhhhhphh], [163, phhphhphhhhhph...</td>\n",
       "      <td>224</td>\n",
       "      <td>224</td>\n",
       "      <td>[[138, pphhphhphhhhhphh], [139, phhphhphhhhhph...</td>\n",
       "    </tr>\n",
       "    <tr>\n",
       "      <th>12</th>\n",
       "      <td>CED9</td>\n",
       "      <td>BCL2</td>\n",
       "      <td>hp</td>\n",
       "      <td>17</td>\n",
       "      <td>0.006198</td>\n",
       "      <td>264</td>\n",
       "      <td>264</td>\n",
       "      <td>[[162, pphhphhphhhhhphhh], [163, phhphhphhhhhp...</td>\n",
       "      <td>223</td>\n",
       "      <td>223</td>\n",
       "      <td>[[138, pphhphhphhhhhphhh], [139, phhphhphhhhhp...</td>\n",
       "    </tr>\n",
       "    <tr>\n",
       "      <th>13</th>\n",
       "      <td>CED9</td>\n",
       "      <td>BCL2</td>\n",
       "      <td>hp</td>\n",
       "      <td>18</td>\n",
       "      <td>0.004141</td>\n",
       "      <td>263</td>\n",
       "      <td>263</td>\n",
       "      <td>[[162, pphhphhphhhhhphhhh], [163, phhphhphhhhh...</td>\n",
       "      <td>222</td>\n",
       "      <td>222</td>\n",
       "      <td>[[138, pphhphhphhhhhphhhh], [139, phhphhphhhhh...</td>\n",
       "    </tr>\n",
       "    <tr>\n",
       "      <th>14</th>\n",
       "      <td>CED9</td>\n",
       "      <td>BCL2</td>\n",
       "      <td>hp</td>\n",
       "      <td>19</td>\n",
       "      <td>0.002075</td>\n",
       "      <td>262</td>\n",
       "      <td>262</td>\n",
       "      <td>[[162, pphhphhphhhhhphhhhh]]</td>\n",
       "      <td>221</td>\n",
       "      <td>221</td>\n",
       "      <td>[[138, pphhphhphhhhhphhhhh]]</td>\n",
       "    </tr>\n",
       "    <tr>\n",
       "      <th>15</th>\n",
       "      <td>CED9</td>\n",
       "      <td>BCL2</td>\n",
       "      <td>hp</td>\n",
       "      <td>20</td>\n",
       "      <td>0.000000</td>\n",
       "      <td>261</td>\n",
       "      <td>261</td>\n",
       "      <td>[]</td>\n",
       "      <td>220</td>\n",
       "      <td>220</td>\n",
       "      <td>[]</td>\n",
       "    </tr>\n",
       "    <tr>\n",
       "      <th>16</th>\n",
       "      <td>CED9</td>\n",
       "      <td>BCL2</td>\n",
       "      <td>hp</td>\n",
       "      <td>21</td>\n",
       "      <td>0.000000</td>\n",
       "      <td>260</td>\n",
       "      <td>260</td>\n",
       "      <td>[]</td>\n",
       "      <td>219</td>\n",
       "      <td>219</td>\n",
       "      <td>[]</td>\n",
       "    </tr>\n",
       "    <tr>\n",
       "      <th>17</th>\n",
       "      <td>CED9</td>\n",
       "      <td>BCL2</td>\n",
       "      <td>hp</td>\n",
       "      <td>22</td>\n",
       "      <td>0.000000</td>\n",
       "      <td>259</td>\n",
       "      <td>259</td>\n",
       "      <td>[]</td>\n",
       "      <td>218</td>\n",
       "      <td>218</td>\n",
       "      <td>[]</td>\n",
       "    </tr>\n",
       "    <tr>\n",
       "      <th>18</th>\n",
       "      <td>CED9</td>\n",
       "      <td>BCL2</td>\n",
       "      <td>hp</td>\n",
       "      <td>23</td>\n",
       "      <td>0.000000</td>\n",
       "      <td>258</td>\n",
       "      <td>258</td>\n",
       "      <td>[]</td>\n",
       "      <td>217</td>\n",
       "      <td>217</td>\n",
       "      <td>[]</td>\n",
       "    </tr>\n",
       "    <tr>\n",
       "      <th>19</th>\n",
       "      <td>CED9</td>\n",
       "      <td>BCL2</td>\n",
       "      <td>hp</td>\n",
       "      <td>24</td>\n",
       "      <td>0.000000</td>\n",
       "      <td>257</td>\n",
       "      <td>257</td>\n",
       "      <td>[]</td>\n",
       "      <td>216</td>\n",
       "      <td>216</td>\n",
       "      <td>[]</td>\n",
       "    </tr>\n",
       "    <tr>\n",
       "      <th>20</th>\n",
       "      <td>CED9</td>\n",
       "      <td>BCL2</td>\n",
       "      <td>hp</td>\n",
       "      <td>25</td>\n",
       "      <td>0.000000</td>\n",
       "      <td>256</td>\n",
       "      <td>256</td>\n",
       "      <td>[]</td>\n",
       "      <td>215</td>\n",
       "      <td>215</td>\n",
       "      <td>[]</td>\n",
       "    </tr>\n",
       "    <tr>\n",
       "      <th>21</th>\n",
       "      <td>CED9</td>\n",
       "      <td>BCL2</td>\n",
       "      <td>hp</td>\n",
       "      <td>26</td>\n",
       "      <td>0.000000</td>\n",
       "      <td>255</td>\n",
       "      <td>255</td>\n",
       "      <td>[]</td>\n",
       "      <td>214</td>\n",
       "      <td>214</td>\n",
       "      <td>[]</td>\n",
       "    </tr>\n",
       "    <tr>\n",
       "      <th>22</th>\n",
       "      <td>CED9</td>\n",
       "      <td>BCL2</td>\n",
       "      <td>hp</td>\n",
       "      <td>27</td>\n",
       "      <td>0.000000</td>\n",
       "      <td>254</td>\n",
       "      <td>254</td>\n",
       "      <td>[]</td>\n",
       "      <td>213</td>\n",
       "      <td>213</td>\n",
       "      <td>[]</td>\n",
       "    </tr>\n",
       "    <tr>\n",
       "      <th>23</th>\n",
       "      <td>CED9</td>\n",
       "      <td>BCL2</td>\n",
       "      <td>hp</td>\n",
       "      <td>28</td>\n",
       "      <td>0.000000</td>\n",
       "      <td>253</td>\n",
       "      <td>253</td>\n",
       "      <td>[]</td>\n",
       "      <td>212</td>\n",
       "      <td>212</td>\n",
       "      <td>[]</td>\n",
       "    </tr>\n",
       "    <tr>\n",
       "      <th>24</th>\n",
       "      <td>CED9</td>\n",
       "      <td>BCL2</td>\n",
       "      <td>hp</td>\n",
       "      <td>29</td>\n",
       "      <td>0.000000</td>\n",
       "      <td>252</td>\n",
       "      <td>252</td>\n",
       "      <td>[]</td>\n",
       "      <td>211</td>\n",
       "      <td>211</td>\n",
       "      <td>[]</td>\n",
       "    </tr>\n",
       "    <tr>\n",
       "      <th>25</th>\n",
       "      <td>CED9</td>\n",
       "      <td>BCL2</td>\n",
       "      <td>hp</td>\n",
       "      <td>30</td>\n",
       "      <td>0.000000</td>\n",
       "      <td>251</td>\n",
       "      <td>251</td>\n",
       "      <td>[]</td>\n",
       "      <td>210</td>\n",
       "      <td>210</td>\n",
       "      <td>[]</td>\n",
       "    </tr>\n",
       "  </tbody>\n",
       "</table>\n",
       "</div>"
      ],
      "text/plain": [
       "   query match moltype  ksize   jaccard  query_n_kmers  query_n_unique_kmers  \\\n",
       "0   CED9  BCL2      hp      5  0.968750            276                    32   \n",
       "1   CED9  BCL2      hp      6  0.921875            275                    64   \n",
       "2   CED9  BCL2      hp      7  0.653543            274                   113   \n",
       "3   CED9  BCL2      hp      8  0.424658            273                   168   \n",
       "4   CED9  BCL2      hp      9  0.231250            272                   213   \n",
       "5   CED9  BCL2      hp     10  0.131980            271                   241   \n",
       "6   CED9  BCL2      hp     11  0.082569            270                   257   \n",
       "7   CED9  BCL2      hp     12  0.052174            269                   264   \n",
       "8   CED9  BCL2      hp     13  0.029474            268                   267   \n",
       "9   CED9  BCL2      hp     14  0.016529            267                   267   \n",
       "10  CED9  BCL2      hp     15  0.010288            266                   266   \n",
       "11  CED9  BCL2      hp     16  0.008247            265                   265   \n",
       "12  CED9  BCL2      hp     17  0.006198            264                   264   \n",
       "13  CED9  BCL2      hp     18  0.004141            263                   263   \n",
       "14  CED9  BCL2      hp     19  0.002075            262                   262   \n",
       "15  CED9  BCL2      hp     20  0.000000            261                   261   \n",
       "16  CED9  BCL2      hp     21  0.000000            260                   260   \n",
       "17  CED9  BCL2      hp     22  0.000000            259                   259   \n",
       "18  CED9  BCL2      hp     23  0.000000            258                   258   \n",
       "19  CED9  BCL2      hp     24  0.000000            257                   257   \n",
       "20  CED9  BCL2      hp     25  0.000000            256                   256   \n",
       "21  CED9  BCL2      hp     26  0.000000            255                   255   \n",
       "22  CED9  BCL2      hp     27  0.000000            254                   254   \n",
       "23  CED9  BCL2      hp     28  0.000000            253                   253   \n",
       "24  CED9  BCL2      hp     29  0.000000            252                   252   \n",
       "25  CED9  BCL2      hp     30  0.000000            251                   251   \n",
       "\n",
       "                         query_intersection_positions  match_n_kmers  \\\n",
       "0   [[0, hpppp], [1, pppph], [2, ppphp], [3, pphpp...            235   \n",
       "1   [[0, hpppph], [2, ppphpp], [3, pphppp], [4, ph...            234   \n",
       "2   [[2, ppphppp], [3, pphppph], [4, phppphp], [5,...            233   \n",
       "3   [[2, ppphppph], [3, pphppphp], [4, phppphpp], ...            232   \n",
       "4   [[3, pphppphpp], [5, hppphpphh], [16, ppphhphp...            231   \n",
       "5   [[19, hhphphpphh], [27, hhhhphpphp], [28, hhhp...            230   \n",
       "6   [[27, hhhhphpphpp], [39, hhppphpphhp], [45, pp...            229   \n",
       "7   [[87, hppphppphhph], [94, phhphhhhhhhh], [145,...            228   \n",
       "8   [[145, hphhpphhpphhp], [146, phhpphhpphhph], [...            227   \n",
       "9   [[145, hphhpphhpphhph], [162, pphhphhphhhhhp],...            226   \n",
       "10  [[162, pphhphhphhhhhph], [163, phhphhphhhhhphh...            225   \n",
       "11  [[162, pphhphhphhhhhphh], [163, phhphhphhhhhph...            224   \n",
       "12  [[162, pphhphhphhhhhphhh], [163, phhphhphhhhhp...            223   \n",
       "13  [[162, pphhphhphhhhhphhhh], [163, phhphhphhhhh...            222   \n",
       "14                       [[162, pphhphhphhhhhphhhhh]]            221   \n",
       "15                                                 []            220   \n",
       "16                                                 []            219   \n",
       "17                                                 []            218   \n",
       "18                                                 []            217   \n",
       "19                                                 []            216   \n",
       "20                                                 []            215   \n",
       "21                                                 []            214   \n",
       "22                                                 []            213   \n",
       "23                                                 []            212   \n",
       "24                                                 []            211   \n",
       "25                                                 []            210   \n",
       "\n",
       "    match_n_unique_kmers                       match_intersection_positions  \n",
       "0                     31  [[0, hhphh], [1, hphhp], [2, phhpp], [3, hhpph...  \n",
       "1                     59  [[0, hhphhp], [1, hphhpp], [2, phhpph], [3, hh...  \n",
       "2                     97  [[0, hhphhpp], [1, hphhpph], [2, phhpphh], [3,...  \n",
       "3                    144  [[0, hhphhpph], [1, hphhpphh], [2, phhpphhp], ...  \n",
       "4                    181  [[1, hphhpphhp], [2, phhpphhpp], [4, hpphhpppp...  \n",
       "5                    205  [[1, hphhpphhpp], [20, hphppphhph], [29, hphhp...  \n",
       "6                    215  [[30, phhphhhhhhh], [31, hhphhhhhhhh], [32, hp...  \n",
       "7                    220  [[30, phhphhhhhhhh], [31, hhphhhhhhhhh], [32, ...  \n",
       "8                    222  [[31, hhphhhhhhhhhh], [32, hphhhhhhhhhhh], [75...  \n",
       "9                    225  [[31, hhphhhhhhhhhhh], [130, hphhpphhpphhph], ...  \n",
       "10                   225  [[138, pphhphhphhhhhph], [139, phhphhphhhhhphh...  \n",
       "11                   224  [[138, pphhphhphhhhhphh], [139, phhphhphhhhhph...  \n",
       "12                   223  [[138, pphhphhphhhhhphhh], [139, phhphhphhhhhp...  \n",
       "13                   222  [[138, pphhphhphhhhhphhhh], [139, phhphhphhhhh...  \n",
       "14                   221                       [[138, pphhphhphhhhhphhhhh]]  \n",
       "15                   220                                                 []  \n",
       "16                   219                                                 []  \n",
       "17                   218                                                 []  \n",
       "18                   217                                                 []  \n",
       "19                   216                                                 []  \n",
       "20                   215                                                 []  \n",
       "21                   214                                                 []  \n",
       "22                   213                                                 []  \n",
       "23                   212                                                 []  \n",
       "24                   211                                                 []  \n",
       "25                   210                                                 []  "
      ]
     },
     "execution_count": 13,
     "metadata": {},
     "output_type": "execute_result"
    }
   ],
   "source": [
    "from typing import Dict, List, Set\n",
    "\n",
    "import pandas as pd\n",
    "\n",
    "\n",
    "class Sequence:\n",
    "    def __init__(self, sequence: str, name: str, moltype: str = \"hp\"):\n",
    "        self.sequence = sequence\n",
    "        self.name = name\n",
    "        self.moltype = moltype\n",
    "        self.processed_seq = self._process_sequence()\n",
    "\n",
    "    def _process_sequence(self) -> str:\n",
    "        return degenerate_protein_chatgpt(self.sequence, self.moltype)\n",
    "\n",
    "    def get_kmers(self, k: int) -> List[str]:\n",
    "        return [\n",
    "            self.processed_seq[i : i + k]\n",
    "            for i in range(len(self.processed_seq) - k + 1)\n",
    "        ]\n",
    "\n",
    "\n",
    "class KmerAnalyzer:\n",
    "    def __init__(self, seq1: Sequence, seq2: Sequence):\n",
    "        self.seq1 = seq1\n",
    "        self.seq2 = seq2\n",
    "\n",
    "    def calculate_jaccard(self, kmer_set1: Set[str], kmer_set2: Set[str]) -> float:\n",
    "        intersection = len(kmer_set1.intersection(kmer_set2))\n",
    "        union = len(kmer_set1.union(kmer_set2))\n",
    "        return intersection / union if union > 0 else 0.0\n",
    "\n",
    "    def analyze_kmer_range(self, start_k: int, end_k: int) -> pd.DataFrame:\n",
    "        results = []\n",
    "        for k in range(start_k, end_k + 1):\n",
    "            results.append(self._analyze_single_k(k))\n",
    "        return pd.DataFrame(results, columns=self._get_column_names())\n",
    "\n",
    "    def get_intersecting_kmer_positions(self, kmers1, kmers2, kmer_set1, kmer_set2):\n",
    "        intersection = kmer_set1.intersection(kmer_set2)\n",
    "\n",
    "        positions1 = []\n",
    "        positions2 = []\n",
    "        for kmer in intersection:\n",
    "            positions1.append([kmers1.index(kmer), kmer])\n",
    "            positions2.append([kmers2.index(kmer), kmer])\n",
    "\n",
    "        positions1 = sorted(positions1, key=lambda x: x[0])\n",
    "        positions2 = sorted(positions2, key=lambda x: x[0])\n",
    "        return positions1, positions2\n",
    "\n",
    "    def _analyze_single_k(self, k: int) -> List:\n",
    "        kmers1 = self.seq1.get_kmers(k)\n",
    "        kmers2 = self.seq2.get_kmers(k)\n",
    "        set1 = set(kmers1)\n",
    "        set2 = set(kmers2)\n",
    "\n",
    "        pos1, pos2 = self.get_intersecting_kmer_positions(kmers1, kmers2, set1, set2)\n",
    "\n",
    "        return [\n",
    "            self.seq1.name,\n",
    "            self.seq2.name,\n",
    "            self.seq1.moltype,\n",
    "            k,\n",
    "            self.calculate_jaccard(set1, set2),\n",
    "            len(kmers1),\n",
    "            len(set1),\n",
    "            pos1,\n",
    "            len(kmers2),\n",
    "            len(set2),\n",
    "            pos2,\n",
    "        ]\n",
    "\n",
    "    def _get_column_names(self) -> List[str]:\n",
    "        return [\n",
    "            \"query\",\n",
    "            \"match\",\n",
    "            \"moltype\",\n",
    "            \"ksize\",\n",
    "            \"jaccard\",\n",
    "            \"query_n_kmers\",\n",
    "            \"query_n_unique_kmers\",\n",
    "            \"query_intersection_positions\",\n",
    "            \"match_n_kmers\",\n",
    "            \"match_n_unique_kmers\",\n",
    "            \"match_intersection_positions\",\n",
    "        ]\n",
    "\n",
    "\n",
    "# Example usage\n",
    "def compare_sequences(\n",
    "    seq1_str: str,\n",
    "    seq2_str: str,\n",
    "    seq1_name: str,\n",
    "    seq2_name: str,\n",
    "    start_k: int = 5,\n",
    "    end_k: int = 30,\n",
    ") -> pd.DataFrame:\n",
    "    seq1 = Sequence(seq1_str, seq1_name)\n",
    "    seq2 = Sequence(seq2_str, seq2_name)\n",
    "    analyzer = KmerAnalyzer(seq1, seq2)\n",
    "    return analyzer.analyze_kmer_range(start_k, end_k)\n",
    "\n",
    "\n",
    "# Usage example:\n",
    "df = compare_sequences(ced9_seq, bcl2_seq, \"CED9\", \"BCL2\")\n",
    "df"
   ]
  },
  {
   "cell_type": "code",
   "execution_count": 14,
   "id": "29e43f64-b3f0-4bdd-9286-004d0749ffe9",
   "metadata": {
    "execution": {
     "iopub.execute_input": "2024-11-12T21:31:33.206756Z",
     "iopub.status.busy": "2024-11-12T21:31:33.206652Z",
     "iopub.status.idle": "2024-11-12T21:31:33.237938Z",
     "shell.execute_reply": "2024-11-12T21:31:33.237703Z",
     "shell.execute_reply.started": "2024-11-12T21:31:33.206746Z"
    }
   },
   "outputs": [
    {
     "data": {
      "text/html": [
       "<div>\n",
       "<style scoped>\n",
       "    .dataframe tbody tr th:only-of-type {\n",
       "        vertical-align: middle;\n",
       "    }\n",
       "\n",
       "    .dataframe tbody tr th {\n",
       "        vertical-align: top;\n",
       "    }\n",
       "\n",
       "    .dataframe thead th {\n",
       "        text-align: right;\n",
       "    }\n",
       "</style>\n",
       "<table border=\"1\" class=\"dataframe\">\n",
       "  <thead>\n",
       "    <tr style=\"text-align: right;\">\n",
       "      <th></th>\n",
       "      <th>query</th>\n",
       "      <th>match</th>\n",
       "      <th>moltype</th>\n",
       "      <th>ksize</th>\n",
       "      <th>jaccard</th>\n",
       "      <th>query_n_kmers</th>\n",
       "      <th>query_n_unique_kmers</th>\n",
       "      <th>query_intersection_positions</th>\n",
       "      <th>match_n_kmers</th>\n",
       "      <th>match_n_unique_kmers</th>\n",
       "      <th>match_intersection_positions</th>\n",
       "    </tr>\n",
       "  </thead>\n",
       "  <tbody>\n",
       "    <tr>\n",
       "      <th>3</th>\n",
       "      <td>CED9</td>\n",
       "      <td>BCL2</td>\n",
       "      <td>hp</td>\n",
       "      <td>8</td>\n",
       "      <td>0.424658</td>\n",
       "      <td>273</td>\n",
       "      <td>168</td>\n",
       "      <td>[[2, ppphppph], [3, pphppphp], [4, phppphpp], ...</td>\n",
       "      <td>232</td>\n",
       "      <td>144</td>\n",
       "      <td>[[0, hhphhpph], [1, hphhpphh], [2, phhpphhp], ...</td>\n",
       "    </tr>\n",
       "    <tr>\n",
       "      <th>4</th>\n",
       "      <td>CED9</td>\n",
       "      <td>BCL2</td>\n",
       "      <td>hp</td>\n",
       "      <td>9</td>\n",
       "      <td>0.231250</td>\n",
       "      <td>272</td>\n",
       "      <td>213</td>\n",
       "      <td>[[3, pphppphpp], [5, hppphpphh], [16, ppphhphp...</td>\n",
       "      <td>231</td>\n",
       "      <td>181</td>\n",
       "      <td>[[1, hphhpphhp], [2, phhpphhpp], [4, hpphhpppp...</td>\n",
       "    </tr>\n",
       "  </tbody>\n",
       "</table>\n",
       "</div>"
      ],
      "text/plain": [
       "  query match moltype  ksize   jaccard  query_n_kmers  query_n_unique_kmers  \\\n",
       "3  CED9  BCL2      hp      8  0.424658            273                   168   \n",
       "4  CED9  BCL2      hp      9  0.231250            272                   213   \n",
       "\n",
       "                        query_intersection_positions  match_n_kmers  \\\n",
       "3  [[2, ppphppph], [3, pphppphp], [4, phppphpp], ...            232   \n",
       "4  [[3, pphppphpp], [5, hppphpphh], [16, ppphhphp...            231   \n",
       "\n",
       "   match_n_unique_kmers                       match_intersection_positions  \n",
       "3                   144  [[0, hhphhpph], [1, hphhpphh], [2, phhpphhp], ...  \n",
       "4                   181  [[1, hphhpphhp], [2, phhpphhpp], [4, hpphhpppp...  "
      ]
     },
     "execution_count": 14,
     "metadata": {},
     "output_type": "execute_result"
    }
   ],
   "source": [
    "df.query(\"ksize >= 8 and ksize <= 9\")"
   ]
  },
  {
   "cell_type": "markdown",
   "id": "bba34ea5-8164-42b3-ba03-054e225b2963",
   "metadata": {},
   "source": [
    "### Make Sourmash signatures for CED9, BCL2"
   ]
  },
  {
   "cell_type": "markdown",
   "id": "f91b6c5b-254d-4a33-9afe-e1d442a13f65",
   "metadata": {},
   "source": [
    "#### CED9"
   ]
  },
  {
   "cell_type": "code",
   "execution_count": 71,
   "id": "cdacb2ab-faa7-45f4-b43b-6e43ff61375f",
   "metadata": {
    "execution": {
     "iopub.execute_input": "2024-11-12T21:54:04.752153Z",
     "iopub.status.busy": "2024-11-12T21:54:04.751809Z",
     "iopub.status.idle": "2024-11-12T21:54:04.754887Z",
     "shell.execute_reply": "2024-11-12T21:54:04.754601Z",
     "shell.execute_reply.started": "2024-11-12T21:54:04.752139Z"
    }
   },
   "outputs": [
    {
     "data": {
      "text/plain": [
       "'MTRCTADNSLTNPAYRRRTMATGEMKEFLGIKGTEPTDFGINSDAQDLPSPSRQASTRRMSIGESIDGKINDWEEPRLDIEGFVVDYFTHRIRQNGMEWFGAPGLPCGVQPEHEMMRVMGTIFEKKHAENFETFCEQLLAVPRISFSLYQDVVRTVGNAQTDQCPMSYGRLIGLISFGGFVAAKMMESVELQGQVRNLFVYTSLFIKTRIRNNWKEHNRSWDDFMTLGKQMKEDYERAEAEKVGRRKQNRRWSMIGAGVTAGAIGIVGVVVCGRMMFSLK'"
      ]
     },
     "execution_count": 71,
     "metadata": {},
     "output_type": "execute_result"
    }
   ],
   "source": [
    "ced9_seq"
   ]
  },
  {
   "cell_type": "code",
   "execution_count": 75,
   "id": "6f770cb4-4c3a-4968-b3ae-27ccede71ecb",
   "metadata": {
    "execution": {
     "iopub.execute_input": "2024-11-12T21:54:53.753581Z",
     "iopub.status.busy": "2024-11-12T21:54:53.753250Z",
     "iopub.status.idle": "2024-11-12T21:54:53.756533Z",
     "shell.execute_reply": "2024-11-12T21:54:53.756224Z",
     "shell.execute_reply.started": "2024-11-12T21:54:53.753567Z"
    }
   },
   "outputs": [
    {
     "name": "stdout",
     "output_type": "stream",
     "text": [
      "Writing test-data/ced9.fasta\n"
     ]
    }
   ],
   "source": [
    "%%file test-data/ced9.fasta\n",
    ">ced9\n",
    "MTRCTADNSLTNPAYRRRTMATGEMKEFLGIKGTEPTDFGINSDAQDLPSPSRQASTRRMSIGESIDGKINDWEEPRLDIEGFVVDYFTHRIRQNGMEWFGAPGLPCGVQPEHEMMRVMGTIFEKKHAENFETFCEQLLAVPRISFSLYQDVVRTVGNAQTDQCPMSYGRLIGLISFGGFVAAKMMESVELQGQVRNLFVYTSLFIKTRIRNNWKEHNRSWDDFMTLGKQMKEDYERAEAEKVGRRKQNRRWSMIGAGVTAGAIGIVGVVVCGRMMFSLK"
   ]
  },
  {
   "cell_type": "markdown",
   "id": "b3a9e2d8-84e2-44a0-a9ec-2f15a41d9340",
   "metadata": {},
   "source": [
    "#### P66"
   ]
  },
  {
   "cell_type": "code",
   "execution_count": 76,
   "id": "0b2b11c3-549c-4b50-86cf-46b68830f52e",
   "metadata": {
    "execution": {
     "iopub.execute_input": "2024-11-12T21:54:56.856675Z",
     "iopub.status.busy": "2024-11-12T21:54:56.856350Z",
     "iopub.status.idle": "2024-11-12T21:54:56.859329Z",
     "shell.execute_reply": "2024-11-12T21:54:56.859070Z",
     "shell.execute_reply.started": "2024-11-12T21:54:56.856662Z"
    }
   },
   "outputs": [
    {
     "data": {
      "text/plain": [
       "'MAHAGRTGYDNREIVMKYIHYKLSQRGYEWDAGDVGAAPPGAAPAPGIFSSQPGHTPHPAASRDPVARTSPLQTPAAPGAAAGPALSPVPPVVHLTLRQAGDDFSRRYRRDFAEMSSQLHLTPFTARGRFATVVEELFRDGVNWGRIVAFFEFGGVMCVESVNREMSPLVDNIALWMTEYLNRHLHTWIQDNGGWDAFVELYGPSMRPLFDFSWLSLKTLLSLALVGACITLGAYLGHK'"
      ]
     },
     "execution_count": 76,
     "metadata": {},
     "output_type": "execute_result"
    }
   ],
   "source": [
    "bcl2_seq"
   ]
  },
  {
   "cell_type": "code",
   "execution_count": 78,
   "id": "0a0eb7e6-7cf0-473c-a3b9-651bdfa074eb",
   "metadata": {
    "execution": {
     "iopub.execute_input": "2024-11-12T21:55:06.101451Z",
     "iopub.status.busy": "2024-11-12T21:55:06.101120Z",
     "iopub.status.idle": "2024-11-12T21:55:06.104798Z",
     "shell.execute_reply": "2024-11-12T21:55:06.104500Z",
     "shell.execute_reply.started": "2024-11-12T21:55:06.101437Z"
    }
   },
   "outputs": [
    {
     "name": "stdout",
     "output_type": "stream",
     "text": [
      "Overwriting test-data/bcl2.fasta\n"
     ]
    }
   ],
   "source": [
    "%%file test-data/bcl2.fasta\n",
    ">bcl2\n",
    "MAHAGRTGYDNREIVMKYIHYKLSQRGYEWDAGDVGAAPPGAAPAPGIFSSQPGHTPHPAASRDPVARTSPLQTPAAPGAAAGPALSPVPPVVHLTLRQAGDDFSRRYRRDFAEMSSQLHLTPFTARGRFATVVEELFRDGVNWGRIVAFFEFGGVMCVESVNREMSPLVDNIALWMTEYLNRHLHTWIQDNGGWDAFVELYGPSMRPLFDFSWLSLKTLLSLALVGACITLGAYLGHK"
   ]
  },
  {
   "cell_type": "markdown",
   "id": "b43fab68-3588-492d-9e7b-f8fab806725a",
   "metadata": {},
   "source": [
    "### Compute signatures"
   ]
  },
  {
   "cell_type": "code",
   "execution_count": 79,
   "id": "52d8bf59-8e38-4578-825d-82e780b6a513",
   "metadata": {
    "execution": {
     "iopub.execute_input": "2024-11-12T21:55:37.747266Z",
     "iopub.status.busy": "2024-11-12T21:55:37.746938Z",
     "iopub.status.idle": "2024-11-12T21:55:39.944359Z",
     "shell.execute_reply": "2024-11-12T21:55:39.943940Z",
     "shell.execute_reply.started": "2024-11-12T21:55:37.747252Z"
    }
   },
   "outputs": [
    {
     "name": "stdout",
     "output_type": "stream",
     "text": [
      "\u001b[K\n",
      "== This is sourmash version 4.8.11. ==\n",
      "\u001b[K== Please cite Irber et. al (2024), doi:10.21105/joss.06830. ==\n",
      "\n",
      "\u001b[KWARNING: scaled value should be >= 100. Continuing anyway.\n",
      "\u001b[Kcomputing signatures for files: test-data/ced9.fasta\n",
      "\u001b[KComputing a total of 1 signature(s) for each input.\n",
      "\u001b[K... reading sequences from test-data/ced9.fasta\n",
      "\u001b[K... test-data/ced9.fasta 1 sequences\n",
      "\u001b[Kcalculated 1 signature for 1 sequences taken from 1 files\n",
      "\u001b[Ksaved 1 signature(s) to 'test-data/ced9.hp.k8.sig'\n",
      "\u001b[K\n",
      "== This is sourmash version 4.8.11. ==\n",
      "\u001b[K== Please cite Irber et. al (2024), doi:10.21105/joss.06830. ==\n",
      "\n",
      "\u001b[KWARNING: scaled value should be >= 100. Continuing anyway.\n",
      "\u001b[Kcomputing signatures for files: test-data/bcl2.fasta\n",
      "\u001b[KComputing a total of 1 signature(s) for each input.\n",
      "\u001b[K... reading sequences from test-data/bcl2.fasta\n",
      "\u001b[K... test-data/bcl2.fasta 1 sequences\n",
      "\u001b[Kcalculated 1 signature for 1 sequences taken from 1 files\n",
      "\u001b[Ksaved 1 signature(s) to 'test-data/bcl2.hp.k8.sig'\n",
      "\u001b[K\n",
      "== This is sourmash version 4.8.11. ==\n",
      "\u001b[K== Please cite Irber et. al (2024), doi:10.21105/joss.06830. ==\n",
      "\n",
      "\u001b[KWARNING: scaled value should be >= 100. Continuing anyway.\n",
      "\u001b[Kcomputing signatures for files: test-data/ced9.fasta\n",
      "\u001b[KComputing a total of 1 signature(s) for each input.\n",
      "\u001b[K... reading sequences from test-data/ced9.fasta\n",
      "\u001b[K... test-data/ced9.fasta 1 sequences\n",
      "\u001b[Kcalculated 1 signature for 1 sequences taken from 1 files\n",
      "\u001b[Ksaved 1 signature(s) to 'test-data/ced9.hp.k9.sig'\n",
      "\u001b[K\n",
      "== This is sourmash version 4.8.11. ==\n",
      "\u001b[K== Please cite Irber et. al (2024), doi:10.21105/joss.06830. ==\n",
      "\n",
      "\u001b[KWARNING: scaled value should be >= 100. Continuing anyway.\n",
      "\u001b[Kcomputing signatures for files: test-data/bcl2.fasta\n",
      "\u001b[KComputing a total of 1 signature(s) for each input.\n",
      "\u001b[K... reading sequences from test-data/bcl2.fasta\n",
      "\u001b[K... test-data/bcl2.fasta 1 sequences\n",
      "\u001b[Kcalculated 1 signature for 1 sequences taken from 1 files\n",
      "\u001b[Ksaved 1 signature(s) to 'test-data/bcl2.hp.k9.sig'\n"
     ]
    }
   ],
   "source": [
    "ksizes = 8, 9\n",
    "ced9_bcl2_fastas = {\"ced9\": \"test-data/ced9.fasta\", \"bcl2\": \"test-data/bcl2.fasta\"}\n",
    "ced9_bcl2_sigfiles = {}\n",
    "\n",
    "\n",
    "for ksize in ksizes:\n",
    "    for name, fasta in ced9_bcl2_fastas.items():\n",
    "        param_string = f\"hp,scaled=1,k={ksize}\"\n",
    "        sig = f\"test-data/{name}.hp.k{ksize}.sig\"\n",
    "        ! sourmash sketch protein -p $param_string --name $name $fasta -o $sig\n",
    "        ced9_bcl2_sigfiles[(name, ksize)] = sig"
   ]
  },
  {
   "cell_type": "markdown",
   "id": "39fa469c-4799-4c64-b683-816ae26948ca",
   "metadata": {},
   "source": [
    "### Load Signatures"
   ]
  },
  {
   "cell_type": "code",
   "execution_count": 80,
   "id": "953365a4-f46e-45ae-9fb9-944c1af5e43b",
   "metadata": {
    "execution": {
     "iopub.execute_input": "2024-11-12T21:55:57.556563Z",
     "iopub.status.busy": "2024-11-12T21:55:57.556065Z",
     "iopub.status.idle": "2024-11-12T21:55:57.563257Z",
     "shell.execute_reply": "2024-11-12T21:55:57.563020Z",
     "shell.execute_reply.started": "2024-11-12T21:55:57.556546Z"
    }
   },
   "outputs": [
    {
     "data": {
      "text/plain": [
       "{8: {'ced9': SourmashSignature('ced9', 4fef497e),\n",
       "  'bcl2': SourmashSignature('bcl2', 70e40517)},\n",
       " 9: {'ced9': SourmashSignature('ced9', 4fef497e),\n",
       "  'bcl2': SourmashSignature('bcl2', 70e40517)}}"
      ]
     },
     "execution_count": 80,
     "metadata": {},
     "output_type": "execute_result"
    }
   ],
   "source": [
    "ksizes = 8, 9\n",
    "ced9_bcl2_sigs = dict.fromkeys(ksizes, {})\n",
    "\n",
    "for (name, ksize), sigfile in ced9_bcl2_sigfiles.items():\n",
    "    ced9_bcl2_sigs[ksize][name] = list(sourmash.load_file_as_signatures(sigfile))[0]\n",
    "ced9_bcl2_sigs"
   ]
  },
  {
   "cell_type": "markdown",
   "id": "2795adfb-6bbd-47ef-8bd4-a22a22129813",
   "metadata": {},
   "source": [
    "### SHow SigSeq Alignment"
   ]
  },
  {
   "cell_type": "code",
   "execution_count": 82,
   "id": "12131870-92f9-42cd-9b76-842dd2b429aa",
   "metadata": {
    "execution": {
     "iopub.execute_input": "2024-11-12T21:56:30.609180Z",
     "iopub.status.busy": "2024-11-12T21:56:30.608857Z",
     "iopub.status.idle": "2024-11-12T21:56:30.618914Z",
     "shell.execute_reply": "2024-11-12T21:56:30.618645Z",
     "shell.execute_reply.started": "2024-11-12T21:56:30.609167Z"
    }
   },
   "outputs": [
    {
     "name": "stdout",
     "output_type": "stream",
     "text": [
      "ksize: 8\n",
      "Non-sequential indices -- Previous: 2, current: 4\n",
      "ksize: 9\n",
      "Non-sequential indices -- Previous: 2, current: 4\n"
     ]
    }
   ],
   "source": [
    "from sigseq import SigSeq\n",
    "\n",
    "for ksize, sigs in ced9_bcl2_sigs.items():\n",
    "    print(f\"ksize: {ksize}\")\n",
    "\n",
    "    ced9_sigseq = SigSeq(sigs[\"ced9\"], ced9_seq)\n",
    "    bcl2_sigseq = SigSeq(sigs[\"bcl2\"], bcl2_seq)\n",
    "\n",
    "    try:\n",
    "        ced9_sigseq.display_alignment(bcl2_sigseq)\n",
    "    except ValueError as e:\n",
    "        print(e)\n",
    "        continue"
   ]
  },
  {
   "cell_type": "markdown",
   "id": "66214b65-33c1-4594-836d-0df045a8eb04",
   "metadata": {},
   "source": [
    "### "
   ]
  },
  {
   "cell_type": "markdown",
   "id": "e4cef2f1-dd57-491b-993c-24b85415af46",
   "metadata": {},
   "source": [
    "\n",
    "## P66 and CD47\n",
    "\n",
    "From [P66 is a bacterial mimic of CD47 that binds the anti-phagocytic receptor SIRPα and facilitates macrophage evasion by Borrelia burgdorferi](https://www.biorxiv.org/content/10.1101/2024.04.29.591704v1.full)\n",
    "\n",
    "> Protein alignments were performed through Uniprot (www.uniprot.org) using the Clustal Omega Program23,24. The following proteins were used for analysis: CD47_HUMAN (Q08722), and H7C7N8(P66)_BORBU (H7C7N8).\n",
    "\n"
   ]
  },
  {
   "cell_type": "code",
   "execution_count": 15,
   "id": "bdb27e70-40c1-4aa8-981d-3aa234a5496b",
   "metadata": {
    "execution": {
     "iopub.execute_input": "2024-11-12T21:31:34.148120Z",
     "iopub.status.busy": "2024-11-12T21:31:34.147864Z",
     "iopub.status.idle": "2024-11-12T21:31:34.150240Z",
     "shell.execute_reply": "2024-11-12T21:31:34.149995Z",
     "shell.execute_reply.started": "2024-11-12T21:31:34.148107Z"
    }
   },
   "outputs": [],
   "source": [
    "CD47_HUMAN = \"MWPLVAALLLGSACCGSAQLLFNKTKSVEFTFCNDTVVIPCFVTNMEAQNTTEVYVKWKFKGRDIYTFDGALNKSTVPTDFSSAKIEVSQLLKGDASLKMDKSDAVSHTGNYTCEVTELTREGETIIELKYRVVSWFSPNENILIVIFPIFAILLFWGQFGIKTLKYRSGGMDEKTIALLVAGLVITVIVIVGAILFVPGEYSLKNATGLGLIVTSTGILILLHYYVFSTAIGLTSFVIAILVIQVIAYILAVVGLSLCIAACIPMHGPLLISGLSILALAQLLGLVYMKFVASNQKTIQPPRKAVEEPLNAFKESKGMMNDE\""
   ]
  },
  {
   "cell_type": "code",
   "execution_count": 16,
   "id": "fe826dbe-334f-4038-8ef1-9682455e28f7",
   "metadata": {
    "execution": {
     "iopub.execute_input": "2024-11-12T21:31:34.345613Z",
     "iopub.status.busy": "2024-11-12T21:31:34.345364Z",
     "iopub.status.idle": "2024-11-12T21:31:34.347806Z",
     "shell.execute_reply": "2024-11-12T21:31:34.347546Z",
     "shell.execute_reply.started": "2024-11-12T21:31:34.345600Z"
    }
   },
   "outputs": [],
   "source": [
    "H7C7N8_BORBU = \"MKSHILYKLIIFLTTSAAIFAADALKEKDIFKINPWMPTFGFENTSEFRLDMDELVPGFENKSKITIKLKPFEANPELGKDDPFSAYIKVEDLALKAEGKKGDQFKIDVGDITAQINMYDFFIKISTMTDFDFNKESLFSFAPMTGFKSTYYGFPSNDRAVRGTILARGTSKNIGTIQLGYKLPKLDLTFAIGGTGTGNRNQENDKDTPYNKTYQGILYGIQATWKPIKNLLDQNEDTKSVIAETPFELNFGLSGAYGNETFNNSSITYSLKDKSVVGNDLLSPTLSNSAILASFGAKYKLGLTKINDKNTYLILQMGTDFGIDPFASDFSIFGHISKAANFKKETPSDPNKKAEIFDPNGNALNFSKNTELGIAFSTGASIGFAWNKDTGEKESWAIKGSDSYSTRLFGEQDKKSGVALGISYGQNLYRSKDTEKRLKTISENAFQSLNVEISSYEDNKKGIINGLGWITSIGLYDILRQKSVENYPTTISSTTENNQTEQSSTSTKTTTPNLTFEDAMKLGLALYLDYAIPIASISTEAYVVPYIGAYILGPSNKLSSDATKIYLKTGLSLEKLIRFTTISLGWDSNNIIELANKNTNNAAIGSAFLQFKIAYSGS\""
   ]
  },
  {
   "cell_type": "code",
   "execution_count": 17,
   "id": "ad498f99-a8c2-403f-b827-c6065c02725a",
   "metadata": {
    "execution": {
     "iopub.execute_input": "2024-11-12T21:31:34.529424Z",
     "iopub.status.busy": "2024-11-12T21:31:34.529059Z",
     "iopub.status.idle": "2024-11-12T21:31:34.653853Z",
     "shell.execute_reply": "2024-11-12T21:31:34.653567Z",
     "shell.execute_reply.started": "2024-11-12T21:31:34.529412Z"
    }
   },
   "outputs": [
    {
     "data": {
      "text/html": [
       "<div>\n",
       "<style scoped>\n",
       "    .dataframe tbody tr th:only-of-type {\n",
       "        vertical-align: middle;\n",
       "    }\n",
       "\n",
       "    .dataframe tbody tr th {\n",
       "        vertical-align: top;\n",
       "    }\n",
       "\n",
       "    .dataframe thead th {\n",
       "        text-align: right;\n",
       "    }\n",
       "</style>\n",
       "<table border=\"1\" class=\"dataframe\">\n",
       "  <thead>\n",
       "    <tr style=\"text-align: right;\">\n",
       "      <th></th>\n",
       "      <th>query</th>\n",
       "      <th>match</th>\n",
       "      <th>moltype</th>\n",
       "      <th>ksize</th>\n",
       "      <th>jaccard</th>\n",
       "      <th>query_n_kmers</th>\n",
       "      <th>query_n_unique_kmers</th>\n",
       "      <th>query_intersection_positions</th>\n",
       "      <th>match_n_kmers</th>\n",
       "      <th>match_n_unique_kmers</th>\n",
       "      <th>match_intersection_positions</th>\n",
       "    </tr>\n",
       "  </thead>\n",
       "  <tbody>\n",
       "    <tr>\n",
       "      <th>0</th>\n",
       "      <td>CD47</td>\n",
       "      <td>p66</td>\n",
       "      <td>hp</td>\n",
       "      <td>5</td>\n",
       "      <td>1.000000</td>\n",
       "      <td>319</td>\n",
       "      <td>32</td>\n",
       "      <td>[[0, hhhhh], [7, hhhhp], [8, hhhph], [9, hhphp...</td>\n",
       "      <td>614</td>\n",
       "      <td>32</td>\n",
       "      <td>[[0, hppph], [1, ppphh], [2, pphhh], [3, phhhp...</td>\n",
       "    </tr>\n",
       "    <tr>\n",
       "      <th>1</th>\n",
       "      <td>CD47</td>\n",
       "      <td>p66</td>\n",
       "      <td>hp</td>\n",
       "      <td>6</td>\n",
       "      <td>0.984375</td>\n",
       "      <td>318</td>\n",
       "      <td>63</td>\n",
       "      <td>[[0, hhhhhh], [6, hhhhhp], [7, hhhhph], [8, hh...</td>\n",
       "      <td>613</td>\n",
       "      <td>64</td>\n",
       "      <td>[[0, hppphh], [1, ppphhh], [2, pphhhp], [3, ph...</td>\n",
       "    </tr>\n",
       "    <tr>\n",
       "      <th>2</th>\n",
       "      <td>CD47</td>\n",
       "      <td>p66</td>\n",
       "      <td>hp</td>\n",
       "      <td>7</td>\n",
       "      <td>0.929688</td>\n",
       "      <td>317</td>\n",
       "      <td>119</td>\n",
       "      <td>[[0, hhhhhhh], [5, hhhhhhp], [6, hhhhhph], [7,...</td>\n",
       "      <td>612</td>\n",
       "      <td>128</td>\n",
       "      <td>[[0, hppphhh], [1, ppphhhp], [2, pphhhph], [3,...</td>\n",
       "    </tr>\n",
       "    <tr>\n",
       "      <th>3</th>\n",
       "      <td>CD47</td>\n",
       "      <td>p66</td>\n",
       "      <td>hp</td>\n",
       "      <td>8</td>\n",
       "      <td>0.628000</td>\n",
       "      <td>316</td>\n",
       "      <td>170</td>\n",
       "      <td>[[0, hhhhhhhh], [4, hhhhhhhp], [5, hhhhhhph], ...</td>\n",
       "      <td>611</td>\n",
       "      <td>237</td>\n",
       "      <td>[[1, ppphhhph], [3, phhhphhh], [4, hhhphhhh], ...</td>\n",
       "    </tr>\n",
       "    <tr>\n",
       "      <th>4</th>\n",
       "      <td>CD47</td>\n",
       "      <td>p66</td>\n",
       "      <td>hp</td>\n",
       "      <td>9</td>\n",
       "      <td>0.379310</td>\n",
       "      <td>315</td>\n",
       "      <td>210</td>\n",
       "      <td>[[0, hhhhhhhhh], [3, hhhhhhhhp], [4, hhhhhhhph...</td>\n",
       "      <td>610</td>\n",
       "      <td>350</td>\n",
       "      <td>[[3, phhhphhhh], [4, hhhphhhhh], [5, hhphhhhhp...</td>\n",
       "    </tr>\n",
       "    <tr>\n",
       "      <th>5</th>\n",
       "      <td>CD47</td>\n",
       "      <td>p66</td>\n",
       "      <td>hp</td>\n",
       "      <td>10</td>\n",
       "      <td>0.207447</td>\n",
       "      <td>314</td>\n",
       "      <td>239</td>\n",
       "      <td>[[0, hhhhhhhhhh], [2, hhhhhhhhhp], [5, hhhhhhp...</td>\n",
       "      <td>609</td>\n",
       "      <td>442</td>\n",
       "      <td>[[3, phhhphhhhh], [4, hhhphhhhhp], [8, hhhhhpp...</td>\n",
       "    </tr>\n",
       "    <tr>\n",
       "      <th>6</th>\n",
       "      <td>CD47</td>\n",
       "      <td>p66</td>\n",
       "      <td>hp</td>\n",
       "      <td>11</td>\n",
       "      <td>0.116348</td>\n",
       "      <td>313</td>\n",
       "      <td>256</td>\n",
       "      <td>[[0, hhhhhhhhhhh], [1, hhhhhhhhhhp], [17, hphh...</td>\n",
       "      <td>608</td>\n",
       "      <td>502</td>\n",
       "      <td>[[3, phhhphhhhhp], [8, hhhhhppphhh], [9, hhhhp...</td>\n",
       "    </tr>\n",
       "    <tr>\n",
       "      <th>7</th>\n",
       "      <td>CD47</td>\n",
       "      <td>p66</td>\n",
       "      <td>hp</td>\n",
       "      <td>12</td>\n",
       "      <td>0.063885</td>\n",
       "      <td>312</td>\n",
       "      <td>271</td>\n",
       "      <td>[[0, hhhhhhhhhhhp], [17, hphhhppppphp], [18, p...</td>\n",
       "      <td>607</td>\n",
       "      <td>545</td>\n",
       "      <td>[[8, hhhhhppphhhh], [9, hhhhppphhhhh], [10, hh...</td>\n",
       "    </tr>\n",
       "    <tr>\n",
       "      <th>8</th>\n",
       "      <td>CD47</td>\n",
       "      <td>p66</td>\n",
       "      <td>hp</td>\n",
       "      <td>13</td>\n",
       "      <td>0.041616</td>\n",
       "      <td>311</td>\n",
       "      <td>283</td>\n",
       "      <td>[[17, hphhhppppphph], [18, phhhppppphphp], [19...</td>\n",
       "      <td>606</td>\n",
       "      <td>568</td>\n",
       "      <td>[[8, hhhhhppphhhhh], [9, hhhhppphhhhhh], [10, ...</td>\n",
       "    </tr>\n",
       "    <tr>\n",
       "      <th>9</th>\n",
       "      <td>CD47</td>\n",
       "      <td>p66</td>\n",
       "      <td>hp</td>\n",
       "      <td>14</td>\n",
       "      <td>0.030660</td>\n",
       "      <td>310</td>\n",
       "      <td>293</td>\n",
       "      <td>[[17, hphhhppppphphp], [18, phhhppppphphph], [...</td>\n",
       "      <td>605</td>\n",
       "      <td>581</td>\n",
       "      <td>[[8, hhhhhppphhhhhh], [9, hhhhppphhhhhhp], [10...</td>\n",
       "    </tr>\n",
       "    <tr>\n",
       "      <th>10</th>\n",
       "      <td>CD47</td>\n",
       "      <td>p66</td>\n",
       "      <td>hp</td>\n",
       "      <td>15</td>\n",
       "      <td>0.020642</td>\n",
       "      <td>309</td>\n",
       "      <td>300</td>\n",
       "      <td>[[17, hphhhppppphphph], [18, phhhppppphphphp],...</td>\n",
       "      <td>604</td>\n",
       "      <td>590</td>\n",
       "      <td>[[8, hhhhhppphhhhhhp], [9, hhhhppphhhhhhph], [...</td>\n",
       "    </tr>\n",
       "    <tr>\n",
       "      <th>11</th>\n",
       "      <td>CD47</td>\n",
       "      <td>p66</td>\n",
       "      <td>hp</td>\n",
       "      <td>16</td>\n",
       "      <td>0.013559</td>\n",
       "      <td>308</td>\n",
       "      <td>303</td>\n",
       "      <td>[[17, hphhhppppphphphp], [18, phhhppppphphphpp...</td>\n",
       "      <td>603</td>\n",
       "      <td>594</td>\n",
       "      <td>[[8, hhhhhppphhhhhhph], [9, hhhhppphhhhhhphh],...</td>\n",
       "    </tr>\n",
       "    <tr>\n",
       "      <th>12</th>\n",
       "      <td>CD47</td>\n",
       "      <td>p66</td>\n",
       "      <td>hp</td>\n",
       "      <td>17</td>\n",
       "      <td>0.007848</td>\n",
       "      <td>307</td>\n",
       "      <td>303</td>\n",
       "      <td>[[17, hphhhppppphphphpp], [135, hhphppphhhhhhh...</td>\n",
       "      <td>602</td>\n",
       "      <td>596</td>\n",
       "      <td>[[8, hhhhhppphhhhhhphh], [37, hphhhppppphphphp...</td>\n",
       "    </tr>\n",
       "    <tr>\n",
       "      <th>13</th>\n",
       "      <td>CD47</td>\n",
       "      <td>p66</td>\n",
       "      <td>hp</td>\n",
       "      <td>18</td>\n",
       "      <td>0.004459</td>\n",
       "      <td>306</td>\n",
       "      <td>303</td>\n",
       "      <td>[[135, hhphppphhhhhhhhhhh], [136, hphppphhhhhh...</td>\n",
       "      <td>601</td>\n",
       "      <td>598</td>\n",
       "      <td>[[533, hhphppphhhhhhhhhhh], [534, hphppphhhhhh...</td>\n",
       "    </tr>\n",
       "    <tr>\n",
       "      <th>14</th>\n",
       "      <td>CD47</td>\n",
       "      <td>p66</td>\n",
       "      <td>hp</td>\n",
       "      <td>19</td>\n",
       "      <td>0.003337</td>\n",
       "      <td>305</td>\n",
       "      <td>303</td>\n",
       "      <td>[[135, hhphppphhhhhhhhhhhh], [136, hphppphhhhh...</td>\n",
       "      <td>600</td>\n",
       "      <td>599</td>\n",
       "      <td>[[533, hhphppphhhhhhhhhhhh], [534, hphppphhhhh...</td>\n",
       "    </tr>\n",
       "    <tr>\n",
       "      <th>15</th>\n",
       "      <td>CD47</td>\n",
       "      <td>p66</td>\n",
       "      <td>hp</td>\n",
       "      <td>20</td>\n",
       "      <td>0.002222</td>\n",
       "      <td>304</td>\n",
       "      <td>303</td>\n",
       "      <td>[[135, hhphppphhhhhhhhhhhhh], [136, hphppphhhh...</td>\n",
       "      <td>599</td>\n",
       "      <td>599</td>\n",
       "      <td>[[533, hhphppphhhhhhhhhhhhh], [534, hphppphhhh...</td>\n",
       "    </tr>\n",
       "    <tr>\n",
       "      <th>16</th>\n",
       "      <td>CD47</td>\n",
       "      <td>p66</td>\n",
       "      <td>hp</td>\n",
       "      <td>21</td>\n",
       "      <td>0.001111</td>\n",
       "      <td>303</td>\n",
       "      <td>303</td>\n",
       "      <td>[[135, hhphppphhhhhhhhhhhhhh]]</td>\n",
       "      <td>598</td>\n",
       "      <td>598</td>\n",
       "      <td>[[533, hhphppphhhhhhhhhhhhhh]]</td>\n",
       "    </tr>\n",
       "    <tr>\n",
       "      <th>17</th>\n",
       "      <td>CD47</td>\n",
       "      <td>p66</td>\n",
       "      <td>hp</td>\n",
       "      <td>22</td>\n",
       "      <td>0.000000</td>\n",
       "      <td>302</td>\n",
       "      <td>302</td>\n",
       "      <td>[]</td>\n",
       "      <td>597</td>\n",
       "      <td>597</td>\n",
       "      <td>[]</td>\n",
       "    </tr>\n",
       "    <tr>\n",
       "      <th>18</th>\n",
       "      <td>CD47</td>\n",
       "      <td>p66</td>\n",
       "      <td>hp</td>\n",
       "      <td>23</td>\n",
       "      <td>0.000000</td>\n",
       "      <td>301</td>\n",
       "      <td>301</td>\n",
       "      <td>[]</td>\n",
       "      <td>596</td>\n",
       "      <td>596</td>\n",
       "      <td>[]</td>\n",
       "    </tr>\n",
       "    <tr>\n",
       "      <th>19</th>\n",
       "      <td>CD47</td>\n",
       "      <td>p66</td>\n",
       "      <td>hp</td>\n",
       "      <td>24</td>\n",
       "      <td>0.000000</td>\n",
       "      <td>300</td>\n",
       "      <td>300</td>\n",
       "      <td>[]</td>\n",
       "      <td>595</td>\n",
       "      <td>595</td>\n",
       "      <td>[]</td>\n",
       "    </tr>\n",
       "    <tr>\n",
       "      <th>20</th>\n",
       "      <td>CD47</td>\n",
       "      <td>p66</td>\n",
       "      <td>hp</td>\n",
       "      <td>25</td>\n",
       "      <td>0.000000</td>\n",
       "      <td>299</td>\n",
       "      <td>299</td>\n",
       "      <td>[]</td>\n",
       "      <td>594</td>\n",
       "      <td>594</td>\n",
       "      <td>[]</td>\n",
       "    </tr>\n",
       "    <tr>\n",
       "      <th>21</th>\n",
       "      <td>CD47</td>\n",
       "      <td>p66</td>\n",
       "      <td>hp</td>\n",
       "      <td>26</td>\n",
       "      <td>0.000000</td>\n",
       "      <td>298</td>\n",
       "      <td>298</td>\n",
       "      <td>[]</td>\n",
       "      <td>593</td>\n",
       "      <td>593</td>\n",
       "      <td>[]</td>\n",
       "    </tr>\n",
       "    <tr>\n",
       "      <th>22</th>\n",
       "      <td>CD47</td>\n",
       "      <td>p66</td>\n",
       "      <td>hp</td>\n",
       "      <td>27</td>\n",
       "      <td>0.000000</td>\n",
       "      <td>297</td>\n",
       "      <td>297</td>\n",
       "      <td>[]</td>\n",
       "      <td>592</td>\n",
       "      <td>592</td>\n",
       "      <td>[]</td>\n",
       "    </tr>\n",
       "    <tr>\n",
       "      <th>23</th>\n",
       "      <td>CD47</td>\n",
       "      <td>p66</td>\n",
       "      <td>hp</td>\n",
       "      <td>28</td>\n",
       "      <td>0.000000</td>\n",
       "      <td>296</td>\n",
       "      <td>296</td>\n",
       "      <td>[]</td>\n",
       "      <td>591</td>\n",
       "      <td>591</td>\n",
       "      <td>[]</td>\n",
       "    </tr>\n",
       "    <tr>\n",
       "      <th>24</th>\n",
       "      <td>CD47</td>\n",
       "      <td>p66</td>\n",
       "      <td>hp</td>\n",
       "      <td>29</td>\n",
       "      <td>0.000000</td>\n",
       "      <td>295</td>\n",
       "      <td>295</td>\n",
       "      <td>[]</td>\n",
       "      <td>590</td>\n",
       "      <td>590</td>\n",
       "      <td>[]</td>\n",
       "    </tr>\n",
       "    <tr>\n",
       "      <th>25</th>\n",
       "      <td>CD47</td>\n",
       "      <td>p66</td>\n",
       "      <td>hp</td>\n",
       "      <td>30</td>\n",
       "      <td>0.000000</td>\n",
       "      <td>294</td>\n",
       "      <td>294</td>\n",
       "      <td>[]</td>\n",
       "      <td>589</td>\n",
       "      <td>589</td>\n",
       "      <td>[]</td>\n",
       "    </tr>\n",
       "  </tbody>\n",
       "</table>\n",
       "</div>"
      ],
      "text/plain": [
       "   query match moltype  ksize   jaccard  query_n_kmers  query_n_unique_kmers  \\\n",
       "0   CD47   p66      hp      5  1.000000            319                    32   \n",
       "1   CD47   p66      hp      6  0.984375            318                    63   \n",
       "2   CD47   p66      hp      7  0.929688            317                   119   \n",
       "3   CD47   p66      hp      8  0.628000            316                   170   \n",
       "4   CD47   p66      hp      9  0.379310            315                   210   \n",
       "5   CD47   p66      hp     10  0.207447            314                   239   \n",
       "6   CD47   p66      hp     11  0.116348            313                   256   \n",
       "7   CD47   p66      hp     12  0.063885            312                   271   \n",
       "8   CD47   p66      hp     13  0.041616            311                   283   \n",
       "9   CD47   p66      hp     14  0.030660            310                   293   \n",
       "10  CD47   p66      hp     15  0.020642            309                   300   \n",
       "11  CD47   p66      hp     16  0.013559            308                   303   \n",
       "12  CD47   p66      hp     17  0.007848            307                   303   \n",
       "13  CD47   p66      hp     18  0.004459            306                   303   \n",
       "14  CD47   p66      hp     19  0.003337            305                   303   \n",
       "15  CD47   p66      hp     20  0.002222            304                   303   \n",
       "16  CD47   p66      hp     21  0.001111            303                   303   \n",
       "17  CD47   p66      hp     22  0.000000            302                   302   \n",
       "18  CD47   p66      hp     23  0.000000            301                   301   \n",
       "19  CD47   p66      hp     24  0.000000            300                   300   \n",
       "20  CD47   p66      hp     25  0.000000            299                   299   \n",
       "21  CD47   p66      hp     26  0.000000            298                   298   \n",
       "22  CD47   p66      hp     27  0.000000            297                   297   \n",
       "23  CD47   p66      hp     28  0.000000            296                   296   \n",
       "24  CD47   p66      hp     29  0.000000            295                   295   \n",
       "25  CD47   p66      hp     30  0.000000            294                   294   \n",
       "\n",
       "                         query_intersection_positions  match_n_kmers  \\\n",
       "0   [[0, hhhhh], [7, hhhhp], [8, hhhph], [9, hhphp...            614   \n",
       "1   [[0, hhhhhh], [6, hhhhhp], [7, hhhhph], [8, hh...            613   \n",
       "2   [[0, hhhhhhh], [5, hhhhhhp], [6, hhhhhph], [7,...            612   \n",
       "3   [[0, hhhhhhhh], [4, hhhhhhhp], [5, hhhhhhph], ...            611   \n",
       "4   [[0, hhhhhhhhh], [3, hhhhhhhhp], [4, hhhhhhhph...            610   \n",
       "5   [[0, hhhhhhhhhh], [2, hhhhhhhhhp], [5, hhhhhhp...            609   \n",
       "6   [[0, hhhhhhhhhhh], [1, hhhhhhhhhhp], [17, hphh...            608   \n",
       "7   [[0, hhhhhhhhhhhp], [17, hphhhppppphp], [18, p...            607   \n",
       "8   [[17, hphhhppppphph], [18, phhhppppphphp], [19...            606   \n",
       "9   [[17, hphhhppppphphp], [18, phhhppppphphph], [...            605   \n",
       "10  [[17, hphhhppppphphph], [18, phhhppppphphphp],...            604   \n",
       "11  [[17, hphhhppppphphphp], [18, phhhppppphphphpp...            603   \n",
       "12  [[17, hphhhppppphphphpp], [135, hhphppphhhhhhh...            602   \n",
       "13  [[135, hhphppphhhhhhhhhhh], [136, hphppphhhhhh...            601   \n",
       "14  [[135, hhphppphhhhhhhhhhhh], [136, hphppphhhhh...            600   \n",
       "15  [[135, hhphppphhhhhhhhhhhhh], [136, hphppphhhh...            599   \n",
       "16                     [[135, hhphppphhhhhhhhhhhhhh]]            598   \n",
       "17                                                 []            597   \n",
       "18                                                 []            596   \n",
       "19                                                 []            595   \n",
       "20                                                 []            594   \n",
       "21                                                 []            593   \n",
       "22                                                 []            592   \n",
       "23                                                 []            591   \n",
       "24                                                 []            590   \n",
       "25                                                 []            589   \n",
       "\n",
       "    match_n_unique_kmers                       match_intersection_positions  \n",
       "0                     32  [[0, hppph], [1, ppphh], [2, pphhh], [3, phhhp...  \n",
       "1                     64  [[0, hppphh], [1, ppphhh], [2, pphhhp], [3, ph...  \n",
       "2                    128  [[0, hppphhh], [1, ppphhhp], [2, pphhhph], [3,...  \n",
       "3                    237  [[1, ppphhhph], [3, phhhphhh], [4, hhhphhhh], ...  \n",
       "4                    350  [[3, phhhphhhh], [4, hhhphhhhh], [5, hhphhhhhp...  \n",
       "5                    442  [[3, phhhphhhhh], [4, hhhphhhhhp], [8, hhhhhpp...  \n",
       "6                    502  [[3, phhhphhhhhp], [8, hhhhhppphhh], [9, hhhhp...  \n",
       "7                    545  [[8, hhhhhppphhhh], [9, hhhhppphhhhh], [10, hh...  \n",
       "8                    568  [[8, hhhhhppphhhhh], [9, hhhhppphhhhhh], [10, ...  \n",
       "9                    581  [[8, hhhhhppphhhhhh], [9, hhhhppphhhhhhp], [10...  \n",
       "10                   590  [[8, hhhhhppphhhhhhp], [9, hhhhppphhhhhhph], [...  \n",
       "11                   594  [[8, hhhhhppphhhhhhph], [9, hhhhppphhhhhhphh],...  \n",
       "12                   596  [[8, hhhhhppphhhhhhphh], [37, hphhhppppphphphp...  \n",
       "13                   598  [[533, hhphppphhhhhhhhhhh], [534, hphppphhhhhh...  \n",
       "14                   599  [[533, hhphppphhhhhhhhhhhh], [534, hphppphhhhh...  \n",
       "15                   599  [[533, hhphppphhhhhhhhhhhhh], [534, hphppphhhh...  \n",
       "16                   598                     [[533, hhphppphhhhhhhhhhhhhh]]  \n",
       "17                   597                                                 []  \n",
       "18                   596                                                 []  \n",
       "19                   595                                                 []  \n",
       "20                   594                                                 []  \n",
       "21                   593                                                 []  \n",
       "22                   592                                                 []  \n",
       "23                   591                                                 []  \n",
       "24                   590                                                 []  \n",
       "25                   589                                                 []  "
      ]
     },
     "execution_count": 17,
     "metadata": {},
     "output_type": "execute_result"
    }
   ],
   "source": [
    "p66_cd47_df = compare_sequences(CD47_HUMAN, H7C7N8_BORBU, \"CD47\", \"p66\")\n",
    "p66_cd47_df"
   ]
  },
  {
   "cell_type": "markdown",
   "id": "4f26d57c-29bc-4c04-8dd8-48fab6bf5fb3",
   "metadata": {
    "execution": {
     "iopub.execute_input": "2024-11-11T18:37:59.846385Z",
     "iopub.status.busy": "2024-11-11T18:37:59.846101Z",
     "iopub.status.idle": "2024-11-11T18:37:59.849548Z",
     "shell.execute_reply": "2024-11-11T18:37:59.849227Z",
     "shell.execute_reply.started": "2024-11-11T18:37:59.846369Z"
    }
   },
   "source": [
    "\n",
    "### Q: Where does P66 bind CD47? A: 181-187aa\n",
    "\n",
    "> Utilizing a p66-deficient B. burgdorferi strain of B31-A3 (Δp66) we determined that P66 is required for CV1-G4 surface binding (Figure 2A). We next sought to determine residues on P66 critical for SIRPɑ interaction. We have previously demonstrated that two aspartic acid residues, D184 and D186, on a predicted extracellular loop of P66 (181–187) are required for integrin binding19. B. burgdorferi expressing the mutant D184A and D186A, p66D184A,D186A, or loss of the loop, p66Δ181−187, demonstrated loss of CV1-G4 binding (Figure 2A). Consistent to previous structure predictions, these sites map to an unstructured extracellular loop on a structure of P66 generated by Alphafold2 (Figure 2B and Extended Data 2A). We postulate this region is also required for SIRPɑ binding. Importantly, while these residues are critical for binding integrins and P66, loss of this loop or mutation of the two aspartic acid residues does not affect P66 cell surface localization19.\n"
   ]
  },
  {
   "cell_type": "code",
   "execution_count": 18,
   "id": "b4a2745a-b8e5-4d42-9df3-261775255ad6",
   "metadata": {
    "execution": {
     "iopub.execute_input": "2024-11-12T21:31:34.921046Z",
     "iopub.status.busy": "2024-11-12T21:31:34.920724Z",
     "iopub.status.idle": "2024-11-12T21:31:34.924464Z",
     "shell.execute_reply": "2024-11-12T21:31:34.924221Z",
     "shell.execute_reply.started": "2024-11-12T21:31:34.921033Z"
    }
   },
   "outputs": [
    {
     "data": {
      "text/plain": [
       "[False,\n",
       " False,\n",
       " False,\n",
       " True,\n",
       " True,\n",
       " False,\n",
       " False,\n",
       " False,\n",
       " False,\n",
       " False,\n",
       " False,\n",
       " False,\n",
       " False,\n",
       " False,\n",
       " False,\n",
       " False,\n",
       " False,\n",
       " False,\n",
       " False,\n",
       " False,\n",
       " False,\n",
       " False,\n",
       " False,\n",
       " False,\n",
       " False,\n",
       " False]"
      ]
     },
     "execution_count": 18,
     "metadata": {},
     "output_type": "execute_result"
    }
   ],
   "source": [
    "p66_binding_positions = set(range(181, 188))\n",
    "\n",
    "overlapping_p66_cd47_mimickry = [\n",
    "    True if any(i in p66_binding_positions for i, kmer in positions) else False\n",
    "    for positions in p66_cd47_df.match_intersection_positions\n",
    "]\n",
    "overlapping_p66_cd47_mimickry"
   ]
  },
  {
   "cell_type": "code",
   "execution_count": 19,
   "id": "8aa13116-0402-4764-803e-76119148babc",
   "metadata": {
    "execution": {
     "iopub.execute_input": "2024-11-12T21:31:35.503641Z",
     "iopub.status.busy": "2024-11-12T21:31:35.503391Z",
     "iopub.status.idle": "2024-11-12T21:31:35.539428Z",
     "shell.execute_reply": "2024-11-12T21:31:35.539170Z",
     "shell.execute_reply.started": "2024-11-12T21:31:35.503628Z"
    }
   },
   "outputs": [
    {
     "data": {
      "text/html": [
       "<div>\n",
       "<style scoped>\n",
       "    .dataframe tbody tr th:only-of-type {\n",
       "        vertical-align: middle;\n",
       "    }\n",
       "\n",
       "    .dataframe tbody tr th {\n",
       "        vertical-align: top;\n",
       "    }\n",
       "\n",
       "    .dataframe thead th {\n",
       "        text-align: right;\n",
       "    }\n",
       "</style>\n",
       "<table border=\"1\" class=\"dataframe\">\n",
       "  <thead>\n",
       "    <tr style=\"text-align: right;\">\n",
       "      <th></th>\n",
       "      <th>query</th>\n",
       "      <th>match</th>\n",
       "      <th>moltype</th>\n",
       "      <th>ksize</th>\n",
       "      <th>jaccard</th>\n",
       "      <th>query_n_kmers</th>\n",
       "      <th>query_n_unique_kmers</th>\n",
       "      <th>query_intersection_positions</th>\n",
       "      <th>match_n_kmers</th>\n",
       "      <th>match_n_unique_kmers</th>\n",
       "      <th>match_intersection_positions</th>\n",
       "    </tr>\n",
       "  </thead>\n",
       "  <tbody>\n",
       "    <tr>\n",
       "      <th>3</th>\n",
       "      <td>CD47</td>\n",
       "      <td>p66</td>\n",
       "      <td>hp</td>\n",
       "      <td>8</td>\n",
       "      <td>0.62800</td>\n",
       "      <td>316</td>\n",
       "      <td>170</td>\n",
       "      <td>[[0, hhhhhhhh], [4, hhhhhhhp], [5, hhhhhhph], ...</td>\n",
       "      <td>611</td>\n",
       "      <td>237</td>\n",
       "      <td>[[1, ppphhhph], [3, phhhphhh], [4, hhhphhhh], ...</td>\n",
       "    </tr>\n",
       "    <tr>\n",
       "      <th>4</th>\n",
       "      <td>CD47</td>\n",
       "      <td>p66</td>\n",
       "      <td>hp</td>\n",
       "      <td>9</td>\n",
       "      <td>0.37931</td>\n",
       "      <td>315</td>\n",
       "      <td>210</td>\n",
       "      <td>[[0, hhhhhhhhh], [3, hhhhhhhhp], [4, hhhhhhhph...</td>\n",
       "      <td>610</td>\n",
       "      <td>350</td>\n",
       "      <td>[[3, phhhphhhh], [4, hhhphhhhh], [5, hhphhhhhp...</td>\n",
       "    </tr>\n",
       "  </tbody>\n",
       "</table>\n",
       "</div>"
      ],
      "text/plain": [
       "  query match moltype  ksize  jaccard  query_n_kmers  query_n_unique_kmers  \\\n",
       "3  CD47   p66      hp      8  0.62800            316                   170   \n",
       "4  CD47   p66      hp      9  0.37931            315                   210   \n",
       "\n",
       "                        query_intersection_positions  match_n_kmers  \\\n",
       "3  [[0, hhhhhhhh], [4, hhhhhhhp], [5, hhhhhhph], ...            611   \n",
       "4  [[0, hhhhhhhhh], [3, hhhhhhhhp], [4, hhhhhhhph...            610   \n",
       "\n",
       "   match_n_unique_kmers                       match_intersection_positions  \n",
       "3                   237  [[1, ppphhhph], [3, phhhphhh], [4, hhhphhhh], ...  \n",
       "4                   350  [[3, phhhphhhh], [4, hhhphhhhh], [5, hhphhhhhp...  "
      ]
     },
     "execution_count": 19,
     "metadata": {},
     "output_type": "execute_result"
    }
   ],
   "source": [
    "p66_cd47_df.loc[overlapping_p66_cd47_mimickry]"
   ]
  },
  {
   "cell_type": "markdown",
   "id": "63e5771c-e1f5-452a-8417-1ba9cc8164d6",
   "metadata": {},
   "source": [
    "### Make Sourmash signatures for P66, CD47"
   ]
  },
  {
   "cell_type": "markdown",
   "id": "762ae606-f888-4a85-97a6-0b45e61634e1",
   "metadata": {},
   "source": [
    "#### CD47"
   ]
  },
  {
   "cell_type": "code",
   "execution_count": 20,
   "id": "dd8f56ea-bf46-42b5-a4ce-58916b1212f3",
   "metadata": {
    "execution": {
     "iopub.execute_input": "2024-11-12T21:31:36.388801Z",
     "iopub.status.busy": "2024-11-12T21:31:36.388484Z",
     "iopub.status.idle": "2024-11-12T21:31:36.391508Z",
     "shell.execute_reply": "2024-11-12T21:31:36.391259Z",
     "shell.execute_reply.started": "2024-11-12T21:31:36.388788Z"
    }
   },
   "outputs": [
    {
     "name": "stdout",
     "output_type": "stream",
     "text": [
      "Overwriting test-data/cd47.fasta\n"
     ]
    }
   ],
   "source": [
    "%%file test-data/cd47.fasta\n",
    ">CD47_HUMAN\n",
    "MWPLVAALLLGSACCGSAQLLFNKTKSVEFTFCNDTVVIPCFVTNMEAQNTTEVYVKWKFKGRDIYTFDGALNKSTVPTDFSSAKIEVSQLLKGDASLKMDKSDAVSHTGNYTCEVTELTREGETIIELKYRVVSWFSPNENILIVIFPIFAILLFWGQFGIKTLKYRSGGMDEKTIALLVAGLVITVIVIVGAILFVPGEYSLKNATGLGLIVTSTGILILLHYYVFSTAIGLTSFVIAILVIQVIAYILAVVGLSLCIAACIPMHGPLLISGLSILALAQLLGLVYMKFVASNQKTIQPPRKAVEEPLNAFKESKGMMNDE"
   ]
  },
  {
   "cell_type": "markdown",
   "id": "655714be-f3f0-40ac-8641-96eae10c6e2e",
   "metadata": {},
   "source": [
    "#### P66"
   ]
  },
  {
   "cell_type": "code",
   "execution_count": 21,
   "id": "1aaff219-c98e-4c5d-b057-534703f64485",
   "metadata": {
    "execution": {
     "iopub.execute_input": "2024-11-12T21:31:37.163245Z",
     "iopub.status.busy": "2024-11-12T21:31:37.162832Z",
     "iopub.status.idle": "2024-11-12T21:31:37.165660Z",
     "shell.execute_reply": "2024-11-12T21:31:37.165403Z",
     "shell.execute_reply.started": "2024-11-12T21:31:37.163232Z"
    }
   },
   "outputs": [
    {
     "name": "stdout",
     "output_type": "stream",
     "text": [
      "Overwriting test-data/p66.fasta\n"
     ]
    }
   ],
   "source": [
    "%%file test-data/p66.fasta\n",
    ">P66_H7C7N8_BORBU\n",
    "MKSHILYKLIIFLTTSAAIFAADALKEKDIFKINPWMPTFGFENTSEFRLDMDELVPGFENKSKITIKLKPFEANPELGKDDPFSAYIKVEDLALKAEGKKGDQFKIDVGDITAQINMYDFFIKISTMTDFDFNKESLFSFAPMTGFKSTYYGFPSNDRAVRGTILARGTSKNIGTIQLGYKLPKLDLTFAIGGTGTGNRNQENDKDTPYNKTYQGILYGIQATWKPIKNLLDQNEDTKSVIAETPFELNFGLSGAYGNETFNNSSITYSLKDKSVVGNDLLSPTLSNSAILASFGAKYKLGLTKINDKNTYLILQMGTDFGIDPFASDFSIFGHISKAANFKKETPSDPNKKAEIFDPNGNALNFSKNTELGIAFSTGASIGFAWNKDTGEKESWAIKGSDSYSTRLFGEQDKKSGVALGISYGQNLYRSKDTEKRLKTISENAFQSLNVEISSYEDNKKGIINGLGWITSIGLYDILRQKSVENYPTTISSTTENNQTEQSSTSTKTTTPNLTFEDAMKLGLALYLDYAIPIASISTEAYVVPYIGAYILGPSNKLSSDATKIYLKTGLSLEKLIRFTTISLGWDSNNIIELANKNTNNAAIGSAFLQFKIAYSGS"
   ]
  },
  {
   "cell_type": "markdown",
   "id": "c2986b10-c40f-407d-ba7e-c221db770da2",
   "metadata": {},
   "source": [
    "### Compute signatures"
   ]
  },
  {
   "cell_type": "code",
   "execution_count": 27,
   "id": "ca31427f-04bd-4304-b3a4-b9f28e976760",
   "metadata": {
    "execution": {
     "iopub.execute_input": "2024-11-12T21:35:43.660315Z",
     "iopub.status.busy": "2024-11-12T21:35:43.659921Z",
     "iopub.status.idle": "2024-11-12T21:35:45.842797Z",
     "shell.execute_reply": "2024-11-12T21:35:45.842366Z",
     "shell.execute_reply.started": "2024-11-12T21:35:43.660302Z"
    }
   },
   "outputs": [
    {
     "name": "stdout",
     "output_type": "stream",
     "text": [
      "\u001b[K\n",
      "== This is sourmash version 4.8.11. ==\n",
      "\u001b[K== Please cite Irber et. al (2024), doi:10.21105/joss.06830. ==\n",
      "\n",
      "\u001b[KWARNING: scaled value should be >= 100. Continuing anyway.\n",
      "\u001b[Kcomputing signatures for files: test-data/p66.fasta\n",
      "\u001b[KComputing a total of 1 signature(s) for each input.\n",
      "\u001b[K... reading sequences from test-data/p66.fasta\n",
      "\u001b[K... test-data/p66.fasta 1 sequences\n",
      "\u001b[Kcalculated 1 signature for 1 sequences taken from 1 files\n",
      "\u001b[Ksaved 1 signature(s) to 'test-data/p66.hp.k8.sig'\n",
      "\u001b[K\n",
      "== This is sourmash version 4.8.11. ==\n",
      "\u001b[K== Please cite Irber et. al (2024), doi:10.21105/joss.06830. ==\n",
      "\n",
      "\u001b[KWARNING: scaled value should be >= 100. Continuing anyway.\n",
      "\u001b[Kcomputing signatures for files: test-data/cd47.fasta\n",
      "\u001b[KComputing a total of 1 signature(s) for each input.\n",
      "\u001b[K... reading sequences from test-data/cd47.fasta\n",
      "\u001b[K... test-data/cd47.fasta 1 sequences\n",
      "\u001b[Kcalculated 1 signature for 1 sequences taken from 1 files\n",
      "\u001b[Ksaved 1 signature(s) to 'test-data/cd47.hp.k8.sig'\n",
      "\u001b[K\n",
      "== This is sourmash version 4.8.11. ==\n",
      "\u001b[K== Please cite Irber et. al (2024), doi:10.21105/joss.06830. ==\n",
      "\n",
      "\u001b[KWARNING: scaled value should be >= 100. Continuing anyway.\n",
      "\u001b[Kcomputing signatures for files: test-data/p66.fasta\n",
      "\u001b[KComputing a total of 1 signature(s) for each input.\n",
      "\u001b[K... reading sequences from test-data/p66.fasta\n",
      "\u001b[K... test-data/p66.fasta 1 sequences\n",
      "\u001b[Kcalculated 1 signature for 1 sequences taken from 1 files\n",
      "\u001b[Ksaved 1 signature(s) to 'test-data/p66.hp.k9.sig'\n",
      "\u001b[K\n",
      "== This is sourmash version 4.8.11. ==\n",
      "\u001b[K== Please cite Irber et. al (2024), doi:10.21105/joss.06830. ==\n",
      "\n",
      "\u001b[KWARNING: scaled value should be >= 100. Continuing anyway.\n",
      "\u001b[Kcomputing signatures for files: test-data/cd47.fasta\n",
      "\u001b[KComputing a total of 1 signature(s) for each input.\n",
      "\u001b[K... reading sequences from test-data/cd47.fasta\n",
      "\u001b[K... test-data/cd47.fasta 1 sequences\n",
      "\u001b[Kcalculated 1 signature for 1 sequences taken from 1 files\n",
      "\u001b[Ksaved 1 signature(s) to 'test-data/cd47.hp.k9.sig'\n"
     ]
    }
   ],
   "source": [
    "ksizes = 8, 9\n",
    "p66_cd47_fastas = {\"p66\": \"test-data/p66.fasta\", \"cd47\": \"test-data/cd47.fasta\"}\n",
    "p66_cd47_sigfiles = {}\n",
    "\n",
    "\n",
    "for ksize in ksizes:\n",
    "    for name, fasta in p66_cd47_fastas.items():\n",
    "        param_string = f\"hp,scaled=1,k={ksize}\"\n",
    "        sig = f\"test-data/{name}.hp.k{ksize}.sig\"\n",
    "        ! sourmash sketch protein -p $param_string --name $name $fasta -o $sig\n",
    "        p66_cd47_sigfiles[(name, ksize)] = sig"
   ]
  },
  {
   "cell_type": "markdown",
   "id": "6274314c-56e2-4041-86ea-8d252f50e35e",
   "metadata": {},
   "source": [
    "### Load Signatures"
   ]
  },
  {
   "cell_type": "code",
   "execution_count": 28,
   "id": "90f21140-c447-4880-8aa8-7ef2cbc8f917",
   "metadata": {
    "execution": {
     "iopub.execute_input": "2024-11-12T21:35:47.715555Z",
     "iopub.status.busy": "2024-11-12T21:35:47.715175Z",
     "iopub.status.idle": "2024-11-12T21:35:47.721686Z",
     "shell.execute_reply": "2024-11-12T21:35:47.721466Z",
     "shell.execute_reply.started": "2024-11-12T21:35:47.715538Z"
    }
   },
   "outputs": [
    {
     "data": {
      "text/plain": [
       "{8: {'p66': SourmashSignature('p66', 0fcbf5e2),\n",
       "  'cd47': SourmashSignature('cd47', 9972d9b9)},\n",
       " 9: {'p66': SourmashSignature('p66', 0fcbf5e2),\n",
       "  'cd47': SourmashSignature('cd47', 9972d9b9)}}"
      ]
     },
     "execution_count": 28,
     "metadata": {},
     "output_type": "execute_result"
    }
   ],
   "source": [
    "ksizes = 8, 9\n",
    "p66_cd47_sigs = dict.fromkeys(ksizes, {})\n",
    "\n",
    "for (name, ksize), sigfile in p66_cd47_sigfiles.items():\n",
    "    p66_cd47_sigs[ksize][name] = list(sourmash.load_file_as_signatures(sigfile))[0]\n",
    "p66_cd47_sigs"
   ]
  },
  {
   "cell_type": "markdown",
   "id": "a46a7223-9c07-4d04-96cd-946e263c2cfb",
   "metadata": {},
   "source": [
    "### SHow SigSeq Alignment"
   ]
  },
  {
   "cell_type": "code",
   "execution_count": 83,
   "id": "15a5a246-9fe3-4db8-afd1-1bd140c62918",
   "metadata": {
    "execution": {
     "iopub.execute_input": "2024-11-12T21:56:40.338811Z",
     "iopub.status.busy": "2024-11-12T21:56:40.338426Z",
     "iopub.status.idle": "2024-11-12T21:56:40.355520Z",
     "shell.execute_reply": "2024-11-12T21:56:40.355182Z",
     "shell.execute_reply.started": "2024-11-12T21:56:40.338798Z"
    }
   },
   "outputs": [
    {
     "name": "stdout",
     "output_type": "stream",
     "text": [
      "ksize: 8\n",
      "Non-sequential indices -- Previous: 6, current: 8\n",
      "ksize: 9\n",
      "Non-sequential indices -- Previous: 6, current: 8\n"
     ]
    }
   ],
   "source": [
    "from sigseq import SigSeq\n",
    "\n",
    "for ksize, sigs in p66_cd47_sigs.items():\n",
    "    print(f\"ksize: {ksize}\")\n",
    "\n",
    "    p66_sigseq = SigSeq(sigs[\"p66\"], H7C7N8_BORBU)\n",
    "    cd47_sigseq = SigSeq(sigs[\"cd47\"], CD47_HUMAN)\n",
    "\n",
    "    try:\n",
    "        p66_sigseq.display_alignment(cd47_sigseq)\n",
    "    except ValueError as e:\n",
    "        print(e)\n",
    "        continue"
   ]
  },
  {
   "cell_type": "code",
   "execution_count": 45,
   "id": "32b99e31-5344-4529-acb6-8d8f1392db95",
   "metadata": {
    "execution": {
     "iopub.execute_input": "2024-11-12T21:44:13.803198Z",
     "iopub.status.busy": "2024-11-12T21:44:13.802750Z",
     "iopub.status.idle": "2024-11-12T21:44:13.805865Z",
     "shell.execute_reply": "2024-11-12T21:44:13.805585Z",
     "shell.execute_reply.started": "2024-11-12T21:44:13.803185Z"
    }
   },
   "outputs": [
    {
     "data": {
      "text/plain": [
       "'hppphhhphhhhhppphhhhhhphhpppphhphphhhhphhhppppphphphpphhhhhppppphphphphhphphphhppphhphhhphpphhhphphpphpphphphhphphphphhphhhphpphpphphpppphhphhhhphhppphhhhhpppphhphphhhphpppphhphphhhphhphphphhhhhphphpppppppppphhppphphhhhhhphphphhpphhpppppppphhhpphhphphhhphhhhppphpppphphphpppphhhpphhphphppphhhhphhhphphhhpphppppphhhhphhpphhhphhhpphphhhphpphhphpppphpphppphphhphphphhphppppphhhhhpphhphhhhhpppphpppphhhphppphppphhhpppppphhhhhhphhpphhpppppppphpphppphhpphphphpphppppphhhphhhhhpphhhhphhpppphpphhpphpppppppppppppppppppphphphpphhphhhhhhhphhhhhhphppphhhhhhhhhhhhhhppphppphpphhhpphhphpphhphpphphhhpppphhphhpppppphhhhphhhphphhhphp'"
      ]
     },
     "execution_count": 45,
     "metadata": {},
     "output_type": "execute_result"
    }
   ],
   "source": [
    "p66_sigseq.seq_encoded"
   ]
  },
  {
   "cell_type": "code",
   "execution_count": 66,
   "id": "69305af8-39ea-49b1-a307-b49e8d8d31a7",
   "metadata": {
    "execution": {
     "iopub.execute_input": "2024-11-12T21:49:30.134639Z",
     "iopub.status.busy": "2024-11-12T21:49:30.134314Z",
     "iopub.status.idle": "2024-11-12T21:49:30.137414Z",
     "shell.execute_reply": "2024-11-12T21:49:30.137124Z",
     "shell.execute_reply.started": "2024-11-12T21:49:30.134625Z"
    }
   },
   "outputs": [
    {
     "data": {
      "text/plain": [
       "'MKSHILYKLIIFLTTSAAIFAADALKEKDIFKINPWMPTFGFENTSEFRLDMDELVPGFENKSKITIKLKPFEANPELGKDDPFSAYIKVEDLALKAEGKKGDQFKIDVGDITAQINMYDFFIKISTMTDFDFNKESLFSFAPMTGFKSTYYGFPSNDRAVRGTILARGTSKNIGTIQLGYKLPKLDLTFAIGGTGTGNRNQENDKDTPYNKTYQGILYGIQATWKPIKNLLDQNEDTKSVIAETPFELNFGLSGAYGNETFNNSSITYSLKDKSVVGNDLLSPTLSNSAILASFGAKYKLGLTKINDKNTYLILQMGTDFGIDPFASDFSIFGHISKAANFKKETPSDPNKKAEIFDPNGNALNFSKNTELGIAFSTGASIGFAWNKDTGEKESWAIKGSDSYSTRLFGEQDKKSGVALGISYGQNLYRSKDTEKRLKTISENAFQSLNVEISSYEDNKKGIINGLGWITSIGLYDILRQKSVENYPTTISSTTENNQTEQSSTSTKTTTPNLTFEDAMKLGLALYLDYAIPIASISTEAYVVPYIGAYILGPSNKLSSDATKIYLKTGLSLEKLIRFTTISLGWDSNNIIELANKNTNNAAIGSAFLQFKIAYSGS'"
      ]
     },
     "execution_count": 66,
     "metadata": {},
     "output_type": "execute_result"
    }
   ],
   "source": [
    "p66_sigseq.seq"
   ]
  },
  {
   "cell_type": "code",
   "execution_count": 53,
   "id": "645c4216-7ee5-4962-b06c-b37766854596",
   "metadata": {
    "execution": {
     "iopub.execute_input": "2024-11-12T21:47:28.023690Z",
     "iopub.status.busy": "2024-11-12T21:47:28.023361Z",
     "iopub.status.idle": "2024-11-12T21:47:28.026602Z",
     "shell.execute_reply": "2024-11-12T21:47:28.026319Z",
     "shell.execute_reply.started": "2024-11-12T21:47:28.023677Z"
    }
   },
   "outputs": [
    {
     "data": {
      "text/plain": [
       "9"
      ]
     },
     "execution_count": 53,
     "metadata": {},
     "output_type": "execute_result"
    }
   ],
   "source": [
    "p66_sigseq.sig.minhash.ksize"
   ]
  },
  {
   "cell_type": "code",
   "execution_count": 54,
   "id": "63267a8a-09c4-4678-8e62-ab32e8e73d54",
   "metadata": {
    "execution": {
     "iopub.execute_input": "2024-11-12T21:47:29.130940Z",
     "iopub.status.busy": "2024-11-12T21:47:29.130609Z",
     "iopub.status.idle": "2024-11-12T21:47:29.133676Z",
     "shell.execute_reply": "2024-11-12T21:47:29.133391Z",
     "shell.execute_reply.started": "2024-11-12T21:47:29.130926Z"
    }
   },
   "outputs": [
    {
     "data": {
      "text/plain": [
       "'hhhhhhhhhhhphpphphphhhppppphphphpppphhhhphhpphphppppphhhphphphpphhphphhhpppphhpphpphphphpphhphphphphpppphhppphphppphpphppphpphhphphphhphhphppphhhhhhhhhhhhhhhhphhhpphphpphhhpppphhhhhhhhhhphhhhhhhhhhhhhphphpphphhhhhhppphhhhhhphhhhpphhhhpphhhhhhhhphhhhhhhhhhhphphhhphhhphhhhhphhphhhhhphhhhhhhphhhppppphphhpphhpphhphhpppphhhppp'"
      ]
     },
     "execution_count": 54,
     "metadata": {},
     "output_type": "execute_result"
    }
   ],
   "source": [
    "cd47_sigseq.seq_encoded"
   ]
  },
  {
   "cell_type": "code",
   "execution_count": 67,
   "id": "6231db67-2862-45b2-b4eb-a29dbb6ad13e",
   "metadata": {
    "execution": {
     "iopub.execute_input": "2024-11-12T21:49:34.422710Z",
     "iopub.status.busy": "2024-11-12T21:49:34.422392Z",
     "iopub.status.idle": "2024-11-12T21:49:34.425372Z",
     "shell.execute_reply": "2024-11-12T21:49:34.425098Z",
     "shell.execute_reply.started": "2024-11-12T21:49:34.422696Z"
    }
   },
   "outputs": [
    {
     "data": {
      "text/plain": [
       "'MWPLVAALLLGSACCGSAQLLFNKTKSVEFTFCNDTVVIPCFVTNMEAQNTTEVYVKWKFKGRDIYTFDGALNKSTVPTDFSSAKIEVSQLLKGDASLKMDKSDAVSHTGNYTCEVTELTREGETIIELKYRVVSWFSPNENILIVIFPIFAILLFWGQFGIKTLKYRSGGMDEKTIALLVAGLVITVIVIVGAILFVPGEYSLKNATGLGLIVTSTGILILLHYYVFSTAIGLTSFVIAILVIQVIAYILAVVGLSLCIAACIPMHGPLLISGLSILALAQLLGLVYMKFVASNQKTIQPPRKAVEEPLNAFKESKGMMNDE'"
      ]
     },
     "execution_count": 67,
     "metadata": {},
     "output_type": "execute_result"
    }
   ],
   "source": [
    "cd47_sigseq.seq"
   ]
  },
  {
   "cell_type": "code",
   "execution_count": 61,
   "id": "9cc02e40-6770-4a2c-9305-1a5553982b03",
   "metadata": {
    "execution": {
     "iopub.execute_input": "2024-11-12T21:48:18.872968Z",
     "iopub.status.busy": "2024-11-12T21:48:18.872639Z",
     "iopub.status.idle": "2024-11-12T21:48:18.875221Z",
     "shell.execute_reply": "2024-11-12T21:48:18.874842Z",
     "shell.execute_reply.started": "2024-11-12T21:48:18.872954Z"
    }
   },
   "outputs": [],
   "source": [
    "columns = [\"i\", \"hp\", \"protein\", \"hashval\"]"
   ]
  },
  {
   "cell_type": "code",
   "execution_count": 62,
   "id": "a59d434e-77b3-47c6-ab2a-0224dd0fbfb6",
   "metadata": {
    "execution": {
     "iopub.execute_input": "2024-11-12T21:48:19.021119Z",
     "iopub.status.busy": "2024-11-12T21:48:19.020791Z",
     "iopub.status.idle": "2024-11-12T21:48:19.042976Z",
     "shell.execute_reply": "2024-11-12T21:48:19.042669Z",
     "shell.execute_reply.started": "2024-11-12T21:48:19.021105Z"
    }
   },
   "outputs": [
    {
     "name": "stdout",
     "output_type": "stream",
     "text": [
      "(285, 4)\n"
     ]
    },
    {
     "data": {
      "text/html": [
       "<div>\n",
       "<style scoped>\n",
       "    .dataframe tbody tr th:only-of-type {\n",
       "        vertical-align: middle;\n",
       "    }\n",
       "\n",
       "    .dataframe tbody tr th {\n",
       "        vertical-align: top;\n",
       "    }\n",
       "\n",
       "    .dataframe thead th {\n",
       "        text-align: right;\n",
       "    }\n",
       "</style>\n",
       "<table border=\"1\" class=\"dataframe\">\n",
       "  <thead>\n",
       "    <tr style=\"text-align: right;\">\n",
       "      <th></th>\n",
       "      <th>i</th>\n",
       "      <th>hp</th>\n",
       "      <th>protein</th>\n",
       "      <th>hashval</th>\n",
       "    </tr>\n",
       "  </thead>\n",
       "  <tbody>\n",
       "    <tr>\n",
       "      <th>0</th>\n",
       "      <td>3</td>\n",
       "      <td>phhhphhhh</td>\n",
       "      <td>HILYKLIIF</td>\n",
       "      <td>16032566161490422583</td>\n",
       "    </tr>\n",
       "    <tr>\n",
       "      <th>1</th>\n",
       "      <td>4</td>\n",
       "      <td>hhhphhhhh</td>\n",
       "      <td>ILYKLIIFL</td>\n",
       "      <td>1860912521737865184</td>\n",
       "    </tr>\n",
       "    <tr>\n",
       "      <th>2</th>\n",
       "      <td>5</td>\n",
       "      <td>hhphhhhhp</td>\n",
       "      <td>LYKLIIFLT</td>\n",
       "      <td>9495248843336527582</td>\n",
       "    </tr>\n",
       "    <tr>\n",
       "      <th>3</th>\n",
       "      <td>8</td>\n",
       "      <td>hhhhhppph</td>\n",
       "      <td>LIIFLTTSA</td>\n",
       "      <td>12959622473939808123</td>\n",
       "    </tr>\n",
       "    <tr>\n",
       "      <th>4</th>\n",
       "      <td>9</td>\n",
       "      <td>hhhhppphh</td>\n",
       "      <td>IIFLTTSAA</td>\n",
       "      <td>7192558355900907412</td>\n",
       "    </tr>\n",
       "  </tbody>\n",
       "</table>\n",
       "</div>"
      ],
      "text/plain": [
       "   i         hp    protein               hashval\n",
       "0  3  phhhphhhh  HILYKLIIF  16032566161490422583\n",
       "1  4  hhhphhhhh  ILYKLIIFL   1860912521737865184\n",
       "2  5  hhphhhhhp  LYKLIIFLT   9495248843336527582\n",
       "3  8  hhhhhppph  LIIFLTTSA  12959622473939808123\n",
       "4  9  hhhhppphh  IIFLTTSAA   7192558355900907412"
      ]
     },
     "execution_count": 62,
     "metadata": {},
     "output_type": "execute_result"
    }
   ],
   "source": [
    "p66_in_cd47_overlap = pd.DataFrame(\n",
    "    cd47_sigseq.get_overlapping_kmers(p66_sigseq), columns=columns\n",
    ")\n",
    "print(p66_in_cd47_overlap.shape)\n",
    "p66_in_cd47_overlap.head()"
   ]
  },
  {
   "cell_type": "code",
   "execution_count": 65,
   "id": "491e094e-ddfa-40ea-bc95-8400bf59c122",
   "metadata": {
    "execution": {
     "iopub.execute_input": "2024-11-12T21:48:39.916599Z",
     "iopub.status.busy": "2024-11-12T21:48:39.916278Z",
     "iopub.status.idle": "2024-11-12T21:48:39.920665Z",
     "shell.execute_reply": "2024-11-12T21:48:39.920373Z",
     "shell.execute_reply.started": "2024-11-12T21:48:39.916585Z"
    }
   },
   "outputs": [
    {
     "data": {
      "text/plain": [
       "hp\n",
       "hhhhhhhhh    6\n",
       "hhphphhhp    5\n",
       "hhhhphhpp    5\n",
       "hphphphhp    5\n",
       "ppphphphp    4\n",
       "            ..\n",
       "hphpphphh    1\n",
       "phpphphhh    1\n",
       "phphhhppp    1\n",
       "phhhpppph    1\n",
       "hphhhphhh    1\n",
       "Name: count, Length: 154, dtype: int64"
      ]
     },
     "execution_count": 65,
     "metadata": {},
     "output_type": "execute_result"
    }
   ],
   "source": [
    "p66_in_cd47_overlap.hp.value_counts()"
   ]
  },
  {
   "cell_type": "code",
   "execution_count": 63,
   "id": "4fe2d889-119c-48ca-bd00-542f9138c833",
   "metadata": {
    "execution": {
     "iopub.execute_input": "2024-11-12T21:48:19.197833Z",
     "iopub.status.busy": "2024-11-12T21:48:19.197509Z",
     "iopub.status.idle": "2024-11-12T21:48:19.209901Z",
     "shell.execute_reply": "2024-11-12T21:48:19.209603Z",
     "shell.execute_reply.started": "2024-11-12T21:48:19.197819Z"
    }
   },
   "outputs": [
    {
     "name": "stdout",
     "output_type": "stream",
     "text": [
      "(252, 4)\n"
     ]
    },
    {
     "data": {
      "text/html": [
       "<div>\n",
       "<style scoped>\n",
       "    .dataframe tbody tr th:only-of-type {\n",
       "        vertical-align: middle;\n",
       "    }\n",
       "\n",
       "    .dataframe tbody tr th {\n",
       "        vertical-align: top;\n",
       "    }\n",
       "\n",
       "    .dataframe thead th {\n",
       "        text-align: right;\n",
       "    }\n",
       "</style>\n",
       "<table border=\"1\" class=\"dataframe\">\n",
       "  <thead>\n",
       "    <tr style=\"text-align: right;\">\n",
       "      <th></th>\n",
       "      <th>i</th>\n",
       "      <th>hp</th>\n",
       "      <th>protein</th>\n",
       "      <th>hashval</th>\n",
       "    </tr>\n",
       "  </thead>\n",
       "  <tbody>\n",
       "    <tr>\n",
       "      <th>0</th>\n",
       "      <td>0</td>\n",
       "      <td>hhhhhhhhh</td>\n",
       "      <td>MWPLVAALL</td>\n",
       "      <td>3584333262405853612</td>\n",
       "    </tr>\n",
       "    <tr>\n",
       "      <th>1</th>\n",
       "      <td>1</td>\n",
       "      <td>hhhhhhhhh</td>\n",
       "      <td>WPLVAALLL</td>\n",
       "      <td>3584333262405853612</td>\n",
       "    </tr>\n",
       "    <tr>\n",
       "      <th>2</th>\n",
       "      <td>2</td>\n",
       "      <td>hhhhhhhhh</td>\n",
       "      <td>PLVAALLLG</td>\n",
       "      <td>3584333262405853612</td>\n",
       "    </tr>\n",
       "    <tr>\n",
       "      <th>3</th>\n",
       "      <td>3</td>\n",
       "      <td>hhhhhhhhp</td>\n",
       "      <td>LVAALLLGS</td>\n",
       "      <td>12893649082338216901</td>\n",
       "    </tr>\n",
       "    <tr>\n",
       "      <th>4</th>\n",
       "      <td>4</td>\n",
       "      <td>hhhhhhhph</td>\n",
       "      <td>VAALLLGSA</td>\n",
       "      <td>10313017553300636944</td>\n",
       "    </tr>\n",
       "  </tbody>\n",
       "</table>\n",
       "</div>"
      ],
      "text/plain": [
       "   i         hp    protein               hashval\n",
       "0  0  hhhhhhhhh  MWPLVAALL   3584333262405853612\n",
       "1  1  hhhhhhhhh  WPLVAALLL   3584333262405853612\n",
       "2  2  hhhhhhhhh  PLVAALLLG   3584333262405853612\n",
       "3  3  hhhhhhhhp  LVAALLLGS  12893649082338216901\n",
       "4  4  hhhhhhhph  VAALLLGSA  10313017553300636944"
      ]
     },
     "execution_count": 63,
     "metadata": {},
     "output_type": "execute_result"
    }
   ],
   "source": [
    "cd47_in_p66_overlap = pd.DataFrame(\n",
    "    p66_sigseq.get_overlapping_kmers(cd47_sigseq), columns=columns\n",
    ")\n",
    "print(cd47_in_p66_overlap.shape)\n",
    "cd47_in_p66_overlap.head()"
   ]
  },
  {
   "cell_type": "code",
   "execution_count": 64,
   "id": "0b40f3d1-28b7-436f-882d-66d8312ac6d8",
   "metadata": {
    "execution": {
     "iopub.execute_input": "2024-11-12T21:48:33.116250Z",
     "iopub.status.busy": "2024-11-12T21:48:33.115922Z",
     "iopub.status.idle": "2024-11-12T21:48:33.120505Z",
     "shell.execute_reply": "2024-11-12T21:48:33.120208Z",
     "shell.execute_reply.started": "2024-11-12T21:48:33.116237Z"
    }
   },
   "outputs": [
    {
     "data": {
      "text/plain": [
       "hp\n",
       "hhhhhhhhh    21\n",
       "hhhhhhhph     7\n",
       "hhhhhhhhp     6\n",
       "hhhhhphhh     6\n",
       "phhhhhhhh     5\n",
       "             ..\n",
       "hhpppphhp     1\n",
       "phhphphhh     1\n",
       "pphhphphh     1\n",
       "hhhphphph     1\n",
       "hphppphpp     1\n",
       "Name: count, Length: 154, dtype: int64"
      ]
     },
     "execution_count": 64,
     "metadata": {},
     "output_type": "execute_result"
    }
   ],
   "source": [
    "cd47_in_p66_overlap.hp.value_counts()"
   ]
  },
  {
   "cell_type": "code",
   "execution_count": 70,
   "id": "9d888649-eb01-452d-ba52-825a119cdc3b",
   "metadata": {
    "execution": {
     "iopub.execute_input": "2024-11-12T21:52:02.519716Z",
     "iopub.status.busy": "2024-11-12T21:52:02.519502Z",
     "iopub.status.idle": "2024-11-12T21:52:02.526996Z",
     "shell.execute_reply": "2024-11-12T21:52:02.526710Z",
     "shell.execute_reply.started": "2024-11-12T21:52:02.519703Z"
    }
   },
   "outputs": [
    {
     "data": {
      "text/html": [
       "<div>\n",
       "<style scoped>\n",
       "    .dataframe tbody tr th:only-of-type {\n",
       "        vertical-align: middle;\n",
       "    }\n",
       "\n",
       "    .dataframe tbody tr th {\n",
       "        vertical-align: top;\n",
       "    }\n",
       "\n",
       "    .dataframe thead th {\n",
       "        text-align: right;\n",
       "    }\n",
       "</style>\n",
       "<table border=\"1\" class=\"dataframe\">\n",
       "  <thead>\n",
       "    <tr style=\"text-align: right;\">\n",
       "      <th></th>\n",
       "      <th>i_x</th>\n",
       "      <th>hp</th>\n",
       "      <th>protein_x</th>\n",
       "      <th>hashval</th>\n",
       "      <th>i_y</th>\n",
       "      <th>protein_y</th>\n",
       "    </tr>\n",
       "  </thead>\n",
       "  <tbody>\n",
       "    <tr>\n",
       "      <th>0</th>\n",
       "      <td>3</td>\n",
       "      <td>phhhphhhh</td>\n",
       "      <td>HILYKLIIF</td>\n",
       "      <td>16032566161490422583</td>\n",
       "      <td>262</td>\n",
       "      <td>CIPMHGPLL</td>\n",
       "    </tr>\n",
       "    <tr>\n",
       "      <th>1</th>\n",
       "      <td>4</td>\n",
       "      <td>hhhphhhhh</td>\n",
       "      <td>ILYKLIIFL</td>\n",
       "      <td>1860912521737865184</td>\n",
       "      <td>183</td>\n",
       "      <td>LVITVIVIV</td>\n",
       "    </tr>\n",
       "    <tr>\n",
       "      <th>2</th>\n",
       "      <td>4</td>\n",
       "      <td>hhhphhhhh</td>\n",
       "      <td>ILYKLIIFL</td>\n",
       "      <td>1860912521737865184</td>\n",
       "      <td>241</td>\n",
       "      <td>LVIQVIAYI</td>\n",
       "    </tr>\n",
       "    <tr>\n",
       "      <th>3</th>\n",
       "      <td>4</td>\n",
       "      <td>hhhphhhhh</td>\n",
       "      <td>ILYKLIIFL</td>\n",
       "      <td>1860912521737865184</td>\n",
       "      <td>263</td>\n",
       "      <td>IPMHGPLLI</td>\n",
       "    </tr>\n",
       "    <tr>\n",
       "      <th>4</th>\n",
       "      <td>4</td>\n",
       "      <td>hhhphhhhh</td>\n",
       "      <td>ILYKLIIFL</td>\n",
       "      <td>1860912521737865184</td>\n",
       "      <td>278</td>\n",
       "      <td>ALAQLLGLV</td>\n",
       "    </tr>\n",
       "    <tr>\n",
       "      <th>...</th>\n",
       "      <td>...</td>\n",
       "      <td>...</td>\n",
       "      <td>...</td>\n",
       "      <td>...</td>\n",
       "      <td>...</td>\n",
       "      <td>...</td>\n",
       "    </tr>\n",
       "    <tr>\n",
       "      <th>538</th>\n",
       "      <td>602</td>\n",
       "      <td>hhhphhhph</td>\n",
       "      <td>AIGSAFLQF</td>\n",
       "      <td>787106931674286049</td>\n",
       "      <td>259</td>\n",
       "      <td>IAACIPMHG</td>\n",
       "    </tr>\n",
       "    <tr>\n",
       "      <th>539</th>\n",
       "      <td>606</td>\n",
       "      <td>hhhphphhh</td>\n",
       "      <td>AFLQFKIAY</td>\n",
       "      <td>4001506576213870073</td>\n",
       "      <td>253</td>\n",
       "      <td>VGLSLCIAA</td>\n",
       "    </tr>\n",
       "    <tr>\n",
       "      <th>540</th>\n",
       "      <td>607</td>\n",
       "      <td>hhphphhhp</td>\n",
       "      <td>FLQFKIAYS</td>\n",
       "      <td>15377296964943044673</td>\n",
       "      <td>64</td>\n",
       "      <td>IYTFDGALN</td>\n",
       "    </tr>\n",
       "    <tr>\n",
       "      <th>541</th>\n",
       "      <td>607</td>\n",
       "      <td>hhphphhhp</td>\n",
       "      <td>FLQFKIAYS</td>\n",
       "      <td>15377296964943044673</td>\n",
       "      <td>254</td>\n",
       "      <td>GLSLCIAAC</td>\n",
       "    </tr>\n",
       "    <tr>\n",
       "      <th>542</th>\n",
       "      <td>608</td>\n",
       "      <td>hphphhhph</td>\n",
       "      <td>LQFKIAYSG</td>\n",
       "      <td>17816214696002945885</td>\n",
       "      <td>255</td>\n",
       "      <td>LSLCIAACI</td>\n",
       "    </tr>\n",
       "  </tbody>\n",
       "</table>\n",
       "<p>543 rows × 6 columns</p>\n",
       "</div>"
      ],
      "text/plain": [
       "     i_x         hp  protein_x               hashval  i_y  protein_y\n",
       "0      3  phhhphhhh  HILYKLIIF  16032566161490422583  262  CIPMHGPLL\n",
       "1      4  hhhphhhhh  ILYKLIIFL   1860912521737865184  183  LVITVIVIV\n",
       "2      4  hhhphhhhh  ILYKLIIFL   1860912521737865184  241  LVIQVIAYI\n",
       "3      4  hhhphhhhh  ILYKLIIFL   1860912521737865184  263  IPMHGPLLI\n",
       "4      4  hhhphhhhh  ILYKLIIFL   1860912521737865184  278  ALAQLLGLV\n",
       "..   ...        ...        ...                   ...  ...        ...\n",
       "538  602  hhhphhhph  AIGSAFLQF    787106931674286049  259  IAACIPMHG\n",
       "539  606  hhhphphhh  AFLQFKIAY   4001506576213870073  253  VGLSLCIAA\n",
       "540  607  hhphphhhp  FLQFKIAYS  15377296964943044673   64  IYTFDGALN\n",
       "541  607  hhphphhhp  FLQFKIAYS  15377296964943044673  254  GLSLCIAAC\n",
       "542  608  hphphhhph  LQFKIAYSG  17816214696002945885  255  LSLCIAACI\n",
       "\n",
       "[543 rows x 6 columns]"
      ]
     },
     "execution_count": 70,
     "metadata": {},
     "output_type": "execute_result"
    }
   ],
   "source": [
    "p66_in_cd47_overlap.merge(cd47_in_p66_overlap, on=[\"hp\", \"hashval\"])"
   ]
  },
  {
   "cell_type": "markdown",
   "id": "c6f2af40-562a-4bf6-98b1-b1c8f9e83105",
   "metadata": {},
   "source": [
    "### Where is jaccard > 0.5?"
   ]
  },
  {
   "cell_type": "code",
   "execution_count": 19,
   "id": "2af67f6f-51f5-4ed1-97ac-b0bf4f03a76d",
   "metadata": {
    "execution": {
     "iopub.execute_input": "2024-11-12T19:00:34.689250Z",
     "iopub.status.busy": "2024-11-12T19:00:34.689105Z",
     "iopub.status.idle": "2024-11-12T19:00:34.754032Z",
     "shell.execute_reply": "2024-11-12T19:00:34.753551Z",
     "shell.execute_reply.started": "2024-11-12T19:00:34.689238Z"
    }
   },
   "outputs": [
    {
     "data": {
      "text/html": [
       "<div>\n",
       "<style scoped>\n",
       "    .dataframe tbody tr th:only-of-type {\n",
       "        vertical-align: middle;\n",
       "    }\n",
       "\n",
       "    .dataframe tbody tr th {\n",
       "        vertical-align: top;\n",
       "    }\n",
       "\n",
       "    .dataframe thead th {\n",
       "        text-align: right;\n",
       "    }\n",
       "</style>\n",
       "<table border=\"1\" class=\"dataframe\">\n",
       "  <thead>\n",
       "    <tr style=\"text-align: right;\">\n",
       "      <th></th>\n",
       "      <th>query</th>\n",
       "      <th>match</th>\n",
       "      <th>moltype</th>\n",
       "      <th>ksize</th>\n",
       "      <th>jaccard</th>\n",
       "      <th>query_n_kmers</th>\n",
       "      <th>query_n_unique_kmers</th>\n",
       "      <th>query_intersection_positions</th>\n",
       "      <th>match_n_kmers</th>\n",
       "      <th>match_n_unique_kmers</th>\n",
       "      <th>match_intersection_positions</th>\n",
       "    </tr>\n",
       "  </thead>\n",
       "  <tbody>\n",
       "    <tr>\n",
       "      <th>0</th>\n",
       "      <td>CD47</td>\n",
       "      <td>p66</td>\n",
       "      <td>hp</td>\n",
       "      <td>5</td>\n",
       "      <td>1.000000</td>\n",
       "      <td>319</td>\n",
       "      <td>32</td>\n",
       "      <td>[[0, hhhhh], [7, hhhhp], [8, hhhph], [9, hhphp...</td>\n",
       "      <td>614</td>\n",
       "      <td>32</td>\n",
       "      <td>[[0, hppph], [1, ppphh], [2, pphhh], [3, phhhp...</td>\n",
       "    </tr>\n",
       "    <tr>\n",
       "      <th>1</th>\n",
       "      <td>CD47</td>\n",
       "      <td>p66</td>\n",
       "      <td>hp</td>\n",
       "      <td>6</td>\n",
       "      <td>0.984375</td>\n",
       "      <td>318</td>\n",
       "      <td>63</td>\n",
       "      <td>[[0, hhhhhh], [6, hhhhhp], [7, hhhhph], [8, hh...</td>\n",
       "      <td>613</td>\n",
       "      <td>64</td>\n",
       "      <td>[[0, hppphh], [1, ppphhh], [2, pphhhp], [3, ph...</td>\n",
       "    </tr>\n",
       "    <tr>\n",
       "      <th>2</th>\n",
       "      <td>CD47</td>\n",
       "      <td>p66</td>\n",
       "      <td>hp</td>\n",
       "      <td>7</td>\n",
       "      <td>0.929688</td>\n",
       "      <td>317</td>\n",
       "      <td>119</td>\n",
       "      <td>[[0, hhhhhhh], [5, hhhhhhp], [6, hhhhhph], [7,...</td>\n",
       "      <td>612</td>\n",
       "      <td>128</td>\n",
       "      <td>[[0, hppphhh], [1, ppphhhp], [2, pphhhph], [3,...</td>\n",
       "    </tr>\n",
       "    <tr>\n",
       "      <th>3</th>\n",
       "      <td>CD47</td>\n",
       "      <td>p66</td>\n",
       "      <td>hp</td>\n",
       "      <td>8</td>\n",
       "      <td>0.628000</td>\n",
       "      <td>316</td>\n",
       "      <td>170</td>\n",
       "      <td>[[0, hhhhhhhh], [4, hhhhhhhp], [5, hhhhhhph], ...</td>\n",
       "      <td>611</td>\n",
       "      <td>237</td>\n",
       "      <td>[[1, ppphhhph], [3, phhhphhh], [4, hhhphhhh], ...</td>\n",
       "    </tr>\n",
       "  </tbody>\n",
       "</table>\n",
       "</div>"
      ],
      "text/plain": [
       "  query match moltype  ksize   jaccard  query_n_kmers  query_n_unique_kmers  \\\n",
       "0  CD47   p66      hp      5  1.000000            319                    32   \n",
       "1  CD47   p66      hp      6  0.984375            318                    63   \n",
       "2  CD47   p66      hp      7  0.929688            317                   119   \n",
       "3  CD47   p66      hp      8  0.628000            316                   170   \n",
       "\n",
       "                        query_intersection_positions  match_n_kmers  \\\n",
       "0  [[0, hhhhh], [7, hhhhp], [8, hhhph], [9, hhphp...            614   \n",
       "1  [[0, hhhhhh], [6, hhhhhp], [7, hhhhph], [8, hh...            613   \n",
       "2  [[0, hhhhhhh], [5, hhhhhhp], [6, hhhhhph], [7,...            612   \n",
       "3  [[0, hhhhhhhh], [4, hhhhhhhp], [5, hhhhhhph], ...            611   \n",
       "\n",
       "   match_n_unique_kmers                       match_intersection_positions  \n",
       "0                    32  [[0, hppph], [1, ppphh], [2, pphhh], [3, phhhp...  \n",
       "1                    64  [[0, hppphh], [1, ppphhh], [2, pphhhp], [3, ph...  \n",
       "2                   128  [[0, hppphhh], [1, ppphhhp], [2, pphhhph], [3,...  \n",
       "3                   237  [[1, ppphhhph], [3, phhhphhh], [4, hhhphhhh], ...  "
      ]
     },
     "execution_count": 19,
     "metadata": {},
     "output_type": "execute_result"
    }
   ],
   "source": [
    "p66_cd47_df.query(\"jaccard > 0.5\")"
   ]
  },
  {
   "cell_type": "code",
   "execution_count": 20,
   "id": "894951f6-8e71-4f7d-8ac6-6e75b3472427",
   "metadata": {
    "execution": {
     "iopub.execute_input": "2024-11-12T19:00:34.754744Z",
     "iopub.status.busy": "2024-11-12T19:00:34.754593Z",
     "iopub.status.idle": "2024-11-12T19:00:34.862007Z",
     "shell.execute_reply": "2024-11-12T19:00:34.861660Z",
     "shell.execute_reply.started": "2024-11-12T19:00:34.754732Z"
    }
   },
   "outputs": [
    {
     "data": {
      "text/plain": [
       "<seaborn.axisgrid.FacetGrid at 0x7f857598da60>"
      ]
     },
     "execution_count": 20,
     "metadata": {},
     "output_type": "execute_result"
    },
    {
     "data": {
      "image/png": "[encoded data removed]",
      "text/plain": [
       "<Figure size 300x300 with 1 Axes>"
      ]
     },
     "metadata": {},
     "output_type": "display_data"
    }
   ],
   "source": [
    "sns.relplot(data=p66_cd47_df, x=\"ksize\", y=\"jaccard\", height=3)"
   ]
  },
  {
   "cell_type": "code",
   "execution_count": 21,
   "id": "5afd7f1c-d1e1-40c0-97b8-396fcd0d7c52",
   "metadata": {
    "execution": {
     "iopub.execute_input": "2024-11-12T19:00:34.862568Z",
     "iopub.status.busy": "2024-11-12T19:00:34.862436Z",
     "iopub.status.idle": "2024-11-12T19:00:34.950627Z",
     "shell.execute_reply": "2024-11-12T19:00:34.950263Z",
     "shell.execute_reply.started": "2024-11-12T19:00:34.862557Z"
    }
   },
   "outputs": [
    {
     "data": {
      "text/plain": [
       "<seaborn.axisgrid.FacetGrid at 0x7f857598d610>"
      ]
     },
     "execution_count": 21,
     "metadata": {},
     "output_type": "execute_result"
    },
    {
     "data": {
      "image/png": "[encoded data removed]",
      "text/plain": [
       "<Figure size 300x300 with 1 Axes>"
      ]
     },
     "metadata": {},
     "output_type": "display_data"
    }
   ],
   "source": [
    "sns.relplot(data=p66_cd47_df, x=\"query_n_kmers\", y=\"query_n_unique_kmers\", height=3)"
   ]
  },
  {
   "cell_type": "code",
   "execution_count": 22,
   "id": "fabf3a25-b8e1-4a83-9618-edfddf8939f6",
   "metadata": {
    "execution": {
     "iopub.execute_input": "2024-11-12T19:00:34.951942Z",
     "iopub.status.busy": "2024-11-12T19:00:34.951149Z",
     "iopub.status.idle": "2024-11-12T19:00:35.041065Z",
     "shell.execute_reply": "2024-11-12T19:00:35.040683Z",
     "shell.execute_reply.started": "2024-11-12T19:00:34.951924Z"
    }
   },
   "outputs": [
    {
     "data": {
      "text/plain": [
       "<seaborn.axisgrid.FacetGrid at 0x7f84e00e8620>"
      ]
     },
     "execution_count": 22,
     "metadata": {},
     "output_type": "execute_result"
    },
    {
     "data": {
      "image/png": "[encoded data removed]",
      "text/plain": [
       "<Figure size 300x300 with 1 Axes>"
      ]
     },
     "metadata": {},
     "output_type": "display_data"
    }
   ],
   "source": [
    "sns.relplot(data=p66_cd47_df, x=\"ksize\", y=\"query_n_unique_kmers\", height=3)"
   ]
  },
  {
   "cell_type": "code",
   "execution_count": 23,
   "id": "f3906de8-ce4d-4a62-9359-49fa6670318e",
   "metadata": {
    "execution": {
     "iopub.execute_input": "2024-11-12T19:00:35.042994Z",
     "iopub.status.busy": "2024-11-12T19:00:35.042312Z",
     "iopub.status.idle": "2024-11-12T19:00:35.195319Z",
     "shell.execute_reply": "2024-11-12T19:00:35.194994Z",
     "shell.execute_reply.started": "2024-11-12T19:00:35.042977Z"
    }
   },
   "outputs": [
    {
     "data": {
      "text/plain": [
       "<seaborn.axisgrid.FacetGrid at 0x7f84e0150bf0>"
      ]
     },
     "execution_count": 23,
     "metadata": {},
     "output_type": "execute_result"
    },
    {
     "data": {
      "image/png": "[encoded data removed]",
      "text/plain": [
       "<Figure size 367.75x300 with 1 Axes>"
      ]
     },
     "metadata": {},
     "output_type": "display_data"
    }
   ],
   "source": [
    "sns.relplot(\n",
    "    data=p66_cd47_df,\n",
    "    x=\"query_n_unique_kmers\",\n",
    "    y=\"jaccard\",\n",
    "    height=3,\n",
    "    hue=\"ksize\",\n",
    "    palette=\"crest\",\n",
    ")"
   ]
  },
  {
   "cell_type": "code",
   "execution_count": null,
   "id": "e94664e6-fe0c-45ec-9fd5-9b3cac851fa9",
   "metadata": {},
   "outputs": [],
   "source": []
  },
  {
   "cell_type": "code",
   "execution_count": null,
   "id": "c1498b57-8a4f-4d45-81be-61ed007cdb53",
   "metadata": {},
   "outputs": [],
   "source": []
  }
 ],
 "metadata": {
  "kernelspec": {
   "display_name": "Python [conda env:2024-kmerseek-analysis-polars]",
   "language": "python",
   "name": "conda-env-2024-kmerseek-analysis-polars-py"
  },
  "language_info": {
   "codemirror_mode": {
    "name": "ipython",
    "version": 3
   },
   "file_extension": ".py",
   "mimetype": "text/x-python",
   "name": "python",
   "nbconvert_exporter": "python",
   "pygments_lexer": "ipython3",
   "version": "3.12.7"
  }
 },
 "nbformat": 4,
 "nbformat_minor": 5
}
