{
 "cells": [
  {
   "cell_type": "markdown",
   "id": "39bb3170-0830-4bd7-8542-1c5c2c0547eb",
   "metadata": {},
   "source": [
    "# Imports and setup"
   ]
  },
  {
   "cell_type": "markdown",
   "id": "66abb421-ad47-4716-95cc-24ce6c6ef7bb",
   "metadata": {},
   "source": [
    "### Auto-re-import python modules, useful for editing local files"
   ]
  },
  {
   "cell_type": "code",
   "execution_count": 1,
   "id": "43e40af8-9ee7-4f6c-b994-8ff8d97b693e",
   "metadata": {},
   "outputs": [],
   "source": [
    "%load_ext autoreload\n",
    "%autoreload 2"
   ]
  },
  {
   "cell_type": "markdown",
   "id": "1fd448ce-8df3-422f-8e43-35091b89d24b",
   "metadata": {},
   "source": [
    "## Imports"
   ]
  },
  {
   "cell_type": "code",
   "execution_count": 2,
   "id": "61e24d97-ca51-437c-afb8-787205bf44e7",
   "metadata": {},
   "outputs": [],
   "source": [
    "import itertools\n",
    "import warnings\n",
    "from collections import Counter\n",
    "\n",
    "import matplotlib as mpl\n",
    "import numpy as np\n",
    "import pandas as pd\n",
    "import polars as pl\n",
    "import seaborn as sns\n",
    "from tqdm import tqdm\n",
    "\n",
    "pd.options.display.max_columns = 100\n",
    "\n",
    "mpl.rcParams[\"figure.max_open_warning\"] = 0"
   ]
  },
  {
   "cell_type": "code",
   "execution_count": 3,
   "id": "4cefbac2-c814-4f11-8579-10ed3b5fdd6d",
   "metadata": {},
   "outputs": [],
   "source": [
    "assert pl.__version__ == \"1.9.0\""
   ]
  },
  {
   "cell_type": "markdown",
   "id": "8bbc13ed-b2b1-4cdc-9344-cf7fa30b3be9",
   "metadata": {},
   "source": [
    "# Read in data"
   ]
  },
  {
   "cell_type": "markdown",
   "id": "53a3be8f-935d-446d-a4c8-1498f2a01064",
   "metadata": {},
   "source": [
    "## read in unfiltered data"
   ]
  },
  {
   "cell_type": "code",
   "execution_count": 4,
   "id": "2a5010dc-74d7-4e7d-9a36-e551ae3ea24a",
   "metadata": {},
   "outputs": [
    {
     "name": "stderr",
     "output_type": "stream",
     "text": [
      "/tmp/ipykernel_66951/3991067264.py:2: UserWarning: '(default_)region' not set; polars will try to get it from bucket\n",
      "\n",
      "Set the region manually to silence this warning.\n",
      "  multisearch = pl.read_parquet(pq)\n"
     ]
    }
   ],
   "source": [
    "pq = \"s3://seanome-kmerseek/scope-benchmark/analysis-outputs/2024-10-09__hp_k20-60/00_cleaned_multisearch_results/scope40.multisearch.hp.k20.filtered.pq\"\n",
    "multisearch = pl.read_parquet(pq)"
   ]
  },
  {
   "cell_type": "markdown",
   "id": "25249496-a7a2-4a85-b2c1-46574ca30cfa",
   "metadata": {},
   "source": [
    "### Set SCOP lineage column names"
   ]
  },
  {
   "cell_type": "code",
   "execution_count": 5,
   "id": "c81034e7-dcf3-4e61-a341-37a522b66202",
   "metadata": {},
   "outputs": [],
   "source": [
    "lineage_cols = [\"family\", \"superfamily\", \"fold\", \"class\"]\n",
    "query_scop_cols = [f\"query_{x}\" for x in lineage_cols]\n",
    "match_scop_cols = [f\"match_{x}\" for x in lineage_cols]\n",
    "\n",
    "same_scop_cols = [f\"same_{x}\" for x in lineage_cols]"
   ]
  },
  {
   "cell_type": "markdown",
   "id": "540c2111-9e86-426a-9609-68b9dce8deab",
   "metadata": {},
   "source": [
    "### read query metadata"
   ]
  },
  {
   "cell_type": "code",
   "execution_count": 21,
   "id": "4c4cccda-5f14-420a-8028-7fc691033bbc",
   "metadata": {},
   "outputs": [
    {
     "data": {
      "text/html": [
       "<div><style>\n",
       ".dataframe > thead > tr,\n",
       ".dataframe > tbody > tr {\n",
       "  text-align: right;\n",
       "  white-space: pre-wrap;\n",
       "}\n",
       "</style>\n",
       "<small>shape: (5, 9)</small><table border=\"1\" class=\"dataframe\"><thead><tr><th>query_family</th><th>query_superfamily</th><th>query_fold</th><th>query_class</th><th>n_family</th><th>n_superfamily</th><th>n_fold</th><th>n_class</th><th>query_scop_id</th></tr><tr><td>cat</td><td>cat</td><td>cat</td><td>cat</td><td>i64</td><td>i64</td><td>i64</td><td>i64</td><td>str</td></tr></thead><tbody><tr><td>&quot;d.104.1.1&quot;</td><td>&quot;d.104.1&quot;</td><td>&quot;d.104&quot;</td><td>&quot;d&quot;</td><td>15</td><td>29</td><td>29</td><td>3653</td><td>&quot;d12asa_&quot;</td></tr><tr><td>&quot;d.180.1.1&quot;</td><td>&quot;d.180.1&quot;</td><td>&quot;d.180&quot;</td><td>&quot;d&quot;</td><td>1</td><td>1</td><td>1</td><td>3653</td><td>&quot;d16vpa_&quot;</td></tr><tr><td>&quot;d.49.1.1&quot;</td><td>&quot;d.49.1&quot;</td><td>&quot;d.49&quot;</td><td>&quot;d&quot;</td><td>2</td><td>3</td><td>3</td><td>3653</td><td>&quot;d1914a1&quot;</td></tr><tr><td>&quot;d.49.1.1&quot;</td><td>&quot;d.49.1&quot;</td><td>&quot;d.49&quot;</td><td>&quot;d&quot;</td><td>2</td><td>3</td><td>3</td><td>3653</td><td>&quot;d1914a2&quot;</td></tr><tr><td>&quot;a.4.6.2&quot;</td><td>&quot;a.4.6&quot;</td><td>&quot;a.4&quot;</td><td>&quot;a&quot;</td><td>5</td><td>30</td><td>425</td><td>2644</td><td>&quot;d1a04a1&quot;</td></tr></tbody></table></div>"
      ],
      "text/plain": [
       "shape: (5, 9)\n",
       "┌────────────┬────────────┬────────────┬────────────┬───┬───────────┬────────┬─────────┬───────────┐\n",
       "│ query_fami ┆ query_supe ┆ query_fold ┆ query_clas ┆ … ┆ n_superfa ┆ n_fold ┆ n_class ┆ query_sco │\n",
       "│ ly         ┆ rfamily    ┆ ---        ┆ s          ┆   ┆ mily      ┆ ---    ┆ ---     ┆ p_id      │\n",
       "│ ---        ┆ ---        ┆ cat        ┆ ---        ┆   ┆ ---       ┆ i64    ┆ i64     ┆ ---       │\n",
       "│ cat        ┆ cat        ┆            ┆ cat        ┆   ┆ i64       ┆        ┆         ┆ str       │\n",
       "╞════════════╪════════════╪════════════╪════════════╪═══╪═══════════╪════════╪═════════╪═══════════╡\n",
       "│ d.104.1.1  ┆ d.104.1    ┆ d.104      ┆ d          ┆ … ┆ 29        ┆ 29     ┆ 3653    ┆ d12asa_   │\n",
       "│ d.180.1.1  ┆ d.180.1    ┆ d.180      ┆ d          ┆ … ┆ 1         ┆ 1      ┆ 3653    ┆ d16vpa_   │\n",
       "│ d.49.1.1   ┆ d.49.1     ┆ d.49       ┆ d          ┆ … ┆ 3         ┆ 3      ┆ 3653    ┆ d1914a1   │\n",
       "│ d.49.1.1   ┆ d.49.1     ┆ d.49       ┆ d          ┆ … ┆ 3         ┆ 3      ┆ 3653    ┆ d1914a2   │\n",
       "│ a.4.6.2    ┆ a.4.6      ┆ a.4        ┆ a          ┆ … ┆ 30        ┆ 425    ┆ 2644    ┆ d1a04a1   │\n",
       "└────────────┴────────────┴────────────┴────────────┴───┴───────────┴────────┴─────────┴───────────┘"
      ]
     },
     "execution_count": 21,
     "metadata": {},
     "output_type": "execute_result"
    }
   ],
   "source": [
    "query_metadata = pl.read_parquet(\n",
    "    \"s3://seanome-kmerseek/scope-benchmark/reference_files/scop.e.2.08.query_metadata.pq\",\n",
    "    # index_col=0,\n",
    ")\n",
    "query_metadata.head()"
   ]
  },
  {
   "cell_type": "code",
   "execution_count": 23,
   "id": "fc60bd09-ea98-4726-98c2-572a6e90f49a",
   "metadata": {},
   "outputs": [
    {
     "data": {
      "text/html": [
       "<div><style>\n",
       ".dataframe > thead > tr,\n",
       ".dataframe > tbody > tr {\n",
       "  text-align: right;\n",
       "  white-space: pre-wrap;\n",
       "}\n",
       "</style>\n",
       "<small>shape: (1_761_706, 36)</small><table border=\"1\" class=\"dataframe\"><thead><tr><th>query_name</th><th>query_md5</th><th>match_name</th><th>match_md5</th><th>containment</th><th>max_containment</th><th>jaccard</th><th>intersect_hashes</th><th>prob_overlap</th><th>prob_overlap_adjusted</th><th>containment_adjusted</th><th>containment_adjusted_log10</th><th>tf_idf_score</th><th>query_scop_id</th><th>query_scop_lineage</th><th>query_scop_lineage_fixed</th><th>query_family</th><th>query_superfamily</th><th>query_fold</th><th>query_class</th><th>match_scop_id</th><th>match_scop_lineage</th><th>match_scop_lineage_fixed</th><th>match_family</th><th>match_superfamily</th><th>match_fold</th><th>match_class</th><th>same_family</th><th>same_superfamily</th><th>same_fold</th><th>same_class</th><th>__index_level_0__</th><th>n_family</th><th>n_superfamily</th><th>n_fold</th><th>n_class</th></tr><tr><td>str</td><td>str</td><td>str</td><td>str</td><td>f64</td><td>f64</td><td>f64</td><td>f64</td><td>f64</td><td>f64</td><td>f64</td><td>f64</td><td>f64</td><td>str</td><td>str</td><td>str</td><td>cat</td><td>cat</td><td>cat</td><td>cat</td><td>str</td><td>str</td><td>str</td><td>cat</td><td>cat</td><td>cat</td><td>cat</td><td>bool</td><td>bool</td><td>bool</td><td>bool</td><td>i64</td><td>i64</td><td>i64</td><td>i64</td><td>i64</td></tr></thead><tbody><tr><td>&quot;d2fcwa1 a.13.1.1 (A:216-320) a…</td><td>&quot;e6ac707cdd74e7c0bdffe2ec104b1c…</td><td>&quot;d4j42a_ a.25.3.0 (A:) automate…</td><td>&quot;429b50d612d737b387bab434a8ff53…</td><td>0.034884</td><td>0.04918</td><td>0.020833</td><td>3.0</td><td>1.7368e-11</td><td>0.004001</td><td>8.71974</td><td>0.940504</td><td>0.303089</td><td>&quot;d2fcwa1&quot;</td><td>&quot;a.13.1.1&quot;</td><td>&quot;a.13.1.1&quot;</td><td>&quot;a.13.1.1&quot;</td><td>&quot;a.13.1&quot;</td><td>&quot;a.13&quot;</td><td>&quot;a&quot;</td><td>&quot;d4j42a_&quot;</td><td>&quot;a.25.3.0&quot;</td><td>&quot;a.25.3.0&quot;</td><td>&quot;a.25.3.0&quot;</td><td>&quot;a.25.3&quot;</td><td>&quot;a.25&quot;</td><td>&quot;a&quot;</td><td>false</td><td>false</td><td>false</td><td>true</td><td>2</td><td>2</td><td>2</td><td>2</td><td>2644</td></tr><tr><td>&quot;d6d5xa_ a.25.2.0 (A:) automate…</td><td>&quot;ad230364a72799163d9e8eb34d3f41…</td><td>&quot;d4j42a_ a.25.3.0 (A:) automate…</td><td>&quot;429b50d612d737b387bab434a8ff53…</td><td>0.028169</td><td>0.065574</td><td>0.020101</td><td>4.0</td><td>1.9894e-11</td><td>0.004582</td><td>6.14716</td><td>0.788675</td><td>0.247069</td><td>&quot;d6d5xa_&quot;</td><td>&quot;a.25.2.0&quot;</td><td>&quot;a.25.2.0&quot;</td><td>&quot;a.25.2.0&quot;</td><td>&quot;a.25.2&quot;</td><td>&quot;a.25&quot;</td><td>&quot;a&quot;</td><td>&quot;d4j42a_&quot;</td><td>&quot;a.25.3.0&quot;</td><td>&quot;a.25.3.0&quot;</td><td>&quot;a.25.3.0&quot;</td><td>&quot;a.25.3&quot;</td><td>&quot;a.25&quot;</td><td>&quot;a&quot;</td><td>false</td><td>false</td><td>true</td><td>true</td><td>3</td><td>4</td><td>6</td><td>69</td><td>2644</td></tr><tr><td>&quot;d4dlla2 a.100.1.0 (A:191-316) …</td><td>&quot;892f25011eb07e4a98cf99b6a5785b…</td><td>&quot;d4j42a_ a.25.3.0 (A:) automate…</td><td>&quot;429b50d612d737b387bab434a8ff53…</td><td>0.018692</td><td>0.032787</td><td>0.012048</td><td>2.0</td><td>7.1051e-12</td><td>0.001637</td><td>11.421079</td><td>1.057707</td><td>0.167505</td><td>&quot;d4dlla2&quot;</td><td>&quot;a.100.1.0&quot;</td><td>&quot;a.100.1.0&quot;</td><td>&quot;a.100.1.0&quot;</td><td>&quot;a.100.1&quot;</td><td>&quot;a.100&quot;</td><td>&quot;a&quot;</td><td>&quot;d4j42a_&quot;</td><td>&quot;a.25.3.0&quot;</td><td>&quot;a.25.3.0&quot;</td><td>&quot;a.25.3.0&quot;</td><td>&quot;a.25.3&quot;</td><td>&quot;a.25&quot;</td><td>&quot;a&quot;</td><td>false</td><td>false</td><td>false</td><td>true</td><td>8</td><td>18</td><td>40</td><td>40</td><td>2644</td></tr><tr><td>&quot;d1n4ka1 a.118.22.1 (A:436-602)…</td><td>&quot;5a73d8ef1d497161dda842a31cb621…</td><td>&quot;d4j42a_ a.25.3.0 (A:) automate…</td><td>&quot;429b50d612d737b387bab434a8ff53…</td><td>0.027027</td><td>0.065574</td><td>0.019512</td><td>4.0</td><td>2.1315e-11</td><td>0.00491</td><td>5.504754</td><td>0.740738</td><td>0.235821</td><td>&quot;d1n4ka1&quot;</td><td>&quot;a.118.22.1&quot;</td><td>&quot;a.118.22.1&quot;</td><td>&quot;a.118.22.1&quot;</td><td>&quot;a.118.22&quot;</td><td>&quot;a.118&quot;</td><td>&quot;a&quot;</td><td>&quot;d4j42a_&quot;</td><td>&quot;a.25.3.0&quot;</td><td>&quot;a.25.3.0&quot;</td><td>&quot;a.25.3.0&quot;</td><td>&quot;a.25.3&quot;</td><td>&quot;a.25&quot;</td><td>&quot;a&quot;</td><td>false</td><td>false</td><td>false</td><td>true</td><td>12</td><td>1</td><td>1</td><td>179</td><td>2644</td></tr><tr><td>&quot;d6s7ja_ a.127.1.0 (A:) automat…</td><td>&quot;63a7a4cd3cb81a25bf7cd92c5674fc…</td><td>&quot;d4j42a_ a.25.3.0 (A:) automate…</td><td>&quot;429b50d612d737b387bab434a8ff53…</td><td>0.004184</td><td>0.032787</td><td>0.003724</td><td>2.0</td><td>8.2103e-12</td><td>0.001891</td><td>2.212443</td><td>0.344872</td><td>0.037029</td><td>&quot;d6s7ja_&quot;</td><td>&quot;a.127.1.0&quot;</td><td>&quot;a.127.1.0&quot;</td><td>&quot;a.127.1.0&quot;</td><td>&quot;a.127.1&quot;</td><td>&quot;a.127&quot;</td><td>&quot;a&quot;</td><td>&quot;d4j42a_&quot;</td><td>&quot;a.25.3.0&quot;</td><td>&quot;a.25.3.0&quot;</td><td>&quot;a.25.3.0&quot;</td><td>&quot;a.25.3&quot;</td><td>&quot;a.25&quot;</td><td>&quot;a&quot;</td><td>false</td><td>false</td><td>false</td><td>true</td><td>15</td><td>5</td><td>13</td><td>13</td><td>2644</td></tr><tr><td>&hellip;</td><td>&hellip;</td><td>&hellip;</td><td>&hellip;</td><td>&hellip;</td><td>&hellip;</td><td>&hellip;</td><td>&hellip;</td><td>&hellip;</td><td>&hellip;</td><td>&hellip;</td><td>&hellip;</td><td>&hellip;</td><td>&hellip;</td><td>&hellip;</td><td>&hellip;</td><td>&hellip;</td><td>&hellip;</td><td>&hellip;</td><td>&hellip;</td><td>&hellip;</td><td>&hellip;</td><td>&hellip;</td><td>&hellip;</td><td>&hellip;</td><td>&hellip;</td><td>&hellip;</td><td>&hellip;</td><td>&hellip;</td><td>&hellip;</td><td>&hellip;</td><td>&hellip;</td><td>&hellip;</td><td>&hellip;</td><td>&hellip;</td><td>&hellip;</td></tr><tr><td>&quot;d3idaa2 b.18.1.0 (A:352-574) a…</td><td>&quot;9674e7d8c01c18bf970a5ae3b70cd3…</td><td>&quot;d3ryca1 c.32.1.1 (A:1-245) aut…</td><td>&quot;e070d6043f22b2f99edae145e20eab…</td><td>0.009804</td><td>0.009804</td><td>0.004673</td><td>2.0</td><td>2.0526e-12</td><td>0.000473</td><td>20.736235</td><td>1.31673</td><td>0.092011</td><td>&quot;d3idaa2&quot;</td><td>&quot;b.18.1.0&quot;</td><td>&quot;b.18.1.0&quot;</td><td>&quot;b.18.1.0&quot;</td><td>&quot;b.18.1&quot;</td><td>&quot;b.18&quot;</td><td>&quot;b&quot;</td><td>&quot;d3ryca1&quot;</td><td>&quot;c.32.1.1&quot;</td><td>&quot;c.32.1.1&quot;</td><td>&quot;c.32.1.1&quot;</td><td>&quot;c.32.1&quot;</td><td>&quot;c.32&quot;</td><td>&quot;c&quot;</td><td>false</td><td>false</td><td>false</td><td>false</td><td>3471660</td><td>23</td><td>77</td><td>77</td><td>3059</td></tr><tr><td>&quot;d1z45a1 b.30.5.4 (A:358-699) G…</td><td>&quot;a5ae62efa8a9c39af7629615f7c865…</td><td>&quot;d3ryca1 c.32.1.1 (A:1-245) aut…</td><td>&quot;e070d6043f22b2f99edae145e20eab…</td><td>0.006192</td><td>0.00885</td><td>0.003656</td><td>2.0</td><td>1.1368e-11</td><td>0.002619</td><td>2.364658</td><td>0.373768</td><td>0.053757</td><td>&quot;d1z45a1&quot;</td><td>&quot;b.30.5.4&quot;</td><td>&quot;b.30.5.4&quot;</td><td>&quot;b.30.5.4&quot;</td><td>&quot;b.30.5&quot;</td><td>&quot;b.30&quot;</td><td>&quot;b&quot;</td><td>&quot;d3ryca1&quot;</td><td>&quot;c.32.1.1&quot;</td><td>&quot;c.32.1.1&quot;</td><td>&quot;c.32.1.1&quot;</td><td>&quot;c.32.1&quot;</td><td>&quot;c.32&quot;</td><td>&quot;c&quot;</td><td>false</td><td>false</td><td>false</td><td>false</td><td>3471664</td><td>3</td><td>27</td><td>33</td><td>3059</td></tr><tr><td>&quot;d2h2ba1 b.36.1.1 (A:18-110) au…</td><td>&quot;b1307accde1388146147d61e29c440…</td><td>&quot;d3ryca1 c.32.1.1 (A:1-245) aut…</td><td>&quot;e070d6043f22b2f99edae145e20eab…</td><td>0.027027</td><td>0.027027</td><td>0.006711</td><td>2.0</td><td>7.8945e-12</td><td>0.001818</td><td>14.862836</td><td>1.172102</td><td>0.238807</td><td>&quot;d2h2ba1&quot;</td><td>&quot;b.36.1.1&quot;</td><td>&quot;b.36.1.1&quot;</td><td>&quot;b.36.1.1&quot;</td><td>&quot;b.36.1&quot;</td><td>&quot;b.36&quot;</td><td>&quot;b&quot;</td><td>&quot;d3ryca1&quot;</td><td>&quot;c.32.1.1&quot;</td><td>&quot;c.32.1.1&quot;</td><td>&quot;c.32.1.1&quot;</td><td>&quot;c.32.1&quot;</td><td>&quot;c.32&quot;</td><td>&quot;c&quot;</td><td>false</td><td>false</td><td>false</td><td>false</td><td>3471665</td><td>40</td><td>88</td><td>88</td><td>3059</td></tr><tr><td>&quot;d3ja861 b.40.4.11 (6:103-463) …</td><td>&quot;54aab68f2860c895f7e933898b9d6b…</td><td>&quot;d3ryca1 c.32.1.1 (A:1-245) aut…</td><td>&quot;e070d6043f22b2f99edae145e20eab…</td><td>0.011696</td><td>0.017699</td><td>0.007092</td><td>4.0</td><td>2.4315e-11</td><td>0.005601</td><td>2.08827</td><td>0.319787</td><td>0.10185</td><td>&quot;d3ja861&quot;</td><td>&quot;b.40.4.11&quot;</td><td>&quot;b.40.4.11&quot;</td><td>&quot;b.40.4.11&quot;</td><td>&quot;b.40.4&quot;</td><td>&quot;b.40&quot;</td><td>&quot;b&quot;</td><td>&quot;d3ryca1&quot;</td><td>&quot;c.32.1.1&quot;</td><td>&quot;c.32.1.1&quot;</td><td>&quot;c.32.1.1&quot;</td><td>&quot;c.32.1&quot;</td><td>&quot;c.32&quot;</td><td>&quot;c&quot;</td><td>false</td><td>false</td><td>false</td><td>false</td><td>3471667</td><td>7</td><td>130</td><td>197</td><td>3059</td></tr><tr><td>&quot;d3qfta1 b.43.4.1 (A:246-521) a…</td><td>&quot;61af8be268ffa5fe0698ee6fce7b88…</td><td>&quot;d3ryca1 c.32.1.1 (A:1-245) aut…</td><td>&quot;e070d6043f22b2f99edae145e20eab…</td><td>0.007782</td><td>0.00885</td><td>0.004158</td><td>2.0</td><td>7.8945e-12</td><td>0.001818</td><td>4.279572</td><td>0.6314</td><td>0.068761</td><td>&quot;d3qfta1&quot;</td><td>&quot;b.43.4.1&quot;</td><td>&quot;b.43.4.1&quot;</td><td>&quot;b.43.4.1&quot;</td><td>&quot;b.43.4&quot;</td><td>&quot;b.43&quot;</td><td>&quot;b&quot;</td><td>&quot;d3ryca1&quot;</td><td>&quot;c.32.1.1&quot;</td><td>&quot;c.32.1.1&quot;</td><td>&quot;c.32.1.1&quot;</td><td>&quot;c.32.1&quot;</td><td>&quot;c.32&quot;</td><td>&quot;c&quot;</td><td>false</td><td>false</td><td>false</td><td>false</td><td>3471671</td><td>3</td><td>23</td><td>55</td><td>3059</td></tr></tbody></table></div>"
      ],
      "text/plain": [
       "shape: (1_761_706, 36)\n",
       "┌────────────┬────────────┬────────────┬────────────┬───┬──────────┬────────────┬────────┬─────────┐\n",
       "│ query_name ┆ query_md5  ┆ match_name ┆ match_md5  ┆ … ┆ n_family ┆ n_superfam ┆ n_fold ┆ n_class │\n",
       "│ ---        ┆ ---        ┆ ---        ┆ ---        ┆   ┆ ---      ┆ ily        ┆ ---    ┆ ---     │\n",
       "│ str        ┆ str        ┆ str        ┆ str        ┆   ┆ i64      ┆ ---        ┆ i64    ┆ i64     │\n",
       "│            ┆            ┆            ┆            ┆   ┆          ┆ i64        ┆        ┆         │\n",
       "╞════════════╪════════════╪════════════╪════════════╪═══╪══════════╪════════════╪════════╪═════════╡\n",
       "│ d2fcwa1    ┆ e6ac707cdd ┆ d4j42a_    ┆ 429b50d612 ┆ … ┆ 2        ┆ 2          ┆ 2      ┆ 2644    │\n",
       "│ a.13.1.1   ┆ 74e7c0bdff ┆ a.25.3.0   ┆ d737b387ba ┆   ┆          ┆            ┆        ┆         │\n",
       "│ (A:216-320 ┆ e2ec104b1c ┆ (A:)       ┆ b434a8ff53 ┆   ┆          ┆            ┆        ┆         │\n",
       "│ ) a…       ┆ …          ┆ automate…  ┆ …          ┆   ┆          ┆            ┆        ┆         │\n",
       "│ d6d5xa_    ┆ ad230364a7 ┆ d4j42a_    ┆ 429b50d612 ┆ … ┆ 4        ┆ 6          ┆ 69     ┆ 2644    │\n",
       "│ a.25.2.0   ┆ 2799163d9e ┆ a.25.3.0   ┆ d737b387ba ┆   ┆          ┆            ┆        ┆         │\n",
       "│ (A:)       ┆ 8eb34d3f41 ┆ (A:)       ┆ b434a8ff53 ┆   ┆          ┆            ┆        ┆         │\n",
       "│ automate…  ┆ …          ┆ automate…  ┆ …          ┆   ┆          ┆            ┆        ┆         │\n",
       "│ d4dlla2    ┆ 892f25011e ┆ d4j42a_    ┆ 429b50d612 ┆ … ┆ 18       ┆ 40         ┆ 40     ┆ 2644    │\n",
       "│ a.100.1.0  ┆ b07e4a98cf ┆ a.25.3.0   ┆ d737b387ba ┆   ┆          ┆            ┆        ┆         │\n",
       "│ (A:191-316 ┆ 99b6a5785b ┆ (A:)       ┆ b434a8ff53 ┆   ┆          ┆            ┆        ┆         │\n",
       "│ ) …        ┆ …          ┆ automate…  ┆ …          ┆   ┆          ┆            ┆        ┆         │\n",
       "│ d1n4ka1    ┆ 5a73d8ef1d ┆ d4j42a_    ┆ 429b50d612 ┆ … ┆ 1        ┆ 1          ┆ 179    ┆ 2644    │\n",
       "│ a.118.22.1 ┆ 497161dda8 ┆ a.25.3.0   ┆ d737b387ba ┆   ┆          ┆            ┆        ┆         │\n",
       "│ (A:436-602 ┆ 42a31cb621 ┆ (A:)       ┆ b434a8ff53 ┆   ┆          ┆            ┆        ┆         │\n",
       "│ )…         ┆ …          ┆ automate…  ┆ …          ┆   ┆          ┆            ┆        ┆         │\n",
       "│ d6s7ja_    ┆ 63a7a4cd3c ┆ d4j42a_    ┆ 429b50d612 ┆ … ┆ 5        ┆ 13         ┆ 13     ┆ 2644    │\n",
       "│ a.127.1.0  ┆ b81a25bf7c ┆ a.25.3.0   ┆ d737b387ba ┆   ┆          ┆            ┆        ┆         │\n",
       "│ (A:)       ┆ d92c5674fc ┆ (A:)       ┆ b434a8ff53 ┆   ┆          ┆            ┆        ┆         │\n",
       "│ automat…   ┆ …          ┆ automate…  ┆ …          ┆   ┆          ┆            ┆        ┆         │\n",
       "│ …          ┆ …          ┆ …          ┆ …          ┆ … ┆ …        ┆ …          ┆ …      ┆ …       │\n",
       "│ d3idaa2    ┆ 9674e7d8c0 ┆ d3ryca1    ┆ e070d6043f ┆ … ┆ 23       ┆ 77         ┆ 77     ┆ 3059    │\n",
       "│ b.18.1.0   ┆ 1c18bf970a ┆ c.32.1.1   ┆ 22b2f99eda ┆   ┆          ┆            ┆        ┆         │\n",
       "│ (A:352-574 ┆ 5ae3b70cd3 ┆ (A:1-245)  ┆ e145e20eab ┆   ┆          ┆            ┆        ┆         │\n",
       "│ ) a…       ┆ …          ┆ aut…       ┆ …          ┆   ┆          ┆            ┆        ┆         │\n",
       "│ d1z45a1    ┆ a5ae62efa8 ┆ d3ryca1    ┆ e070d6043f ┆ … ┆ 3        ┆ 27         ┆ 33     ┆ 3059    │\n",
       "│ b.30.5.4   ┆ a9c39af762 ┆ c.32.1.1   ┆ 22b2f99eda ┆   ┆          ┆            ┆        ┆         │\n",
       "│ (A:358-699 ┆ 9615f7c865 ┆ (A:1-245)  ┆ e145e20eab ┆   ┆          ┆            ┆        ┆         │\n",
       "│ ) G…       ┆ …          ┆ aut…       ┆ …          ┆   ┆          ┆            ┆        ┆         │\n",
       "│ d2h2ba1    ┆ b1307accde ┆ d3ryca1    ┆ e070d6043f ┆ … ┆ 40       ┆ 88         ┆ 88     ┆ 3059    │\n",
       "│ b.36.1.1   ┆ 1388146147 ┆ c.32.1.1   ┆ 22b2f99eda ┆   ┆          ┆            ┆        ┆         │\n",
       "│ (A:18-110) ┆ d61e29c440 ┆ (A:1-245)  ┆ e145e20eab ┆   ┆          ┆            ┆        ┆         │\n",
       "│ au…        ┆ …          ┆ aut…       ┆ …          ┆   ┆          ┆            ┆        ┆         │\n",
       "│ d3ja861    ┆ 54aab68f28 ┆ d3ryca1    ┆ e070d6043f ┆ … ┆ 7        ┆ 130        ┆ 197    ┆ 3059    │\n",
       "│ b.40.4.11  ┆ 60c895f7e9 ┆ c.32.1.1   ┆ 22b2f99eda ┆   ┆          ┆            ┆        ┆         │\n",
       "│ (6:103-463 ┆ 33898b9d6b ┆ (A:1-245)  ┆ e145e20eab ┆   ┆          ┆            ┆        ┆         │\n",
       "│ ) …        ┆ …          ┆ aut…       ┆ …          ┆   ┆          ┆            ┆        ┆         │\n",
       "│ d3qfta1    ┆ 61af8be268 ┆ d3ryca1    ┆ e070d6043f ┆ … ┆ 3        ┆ 23         ┆ 55     ┆ 3059    │\n",
       "│ b.43.4.1   ┆ ffa5fe0698 ┆ c.32.1.1   ┆ 22b2f99eda ┆   ┆          ┆            ┆        ┆         │\n",
       "│ (A:246-521 ┆ ee6fce7b88 ┆ (A:1-245)  ┆ e145e20eab ┆   ┆          ┆            ┆        ┆         │\n",
       "│ ) a…       ┆ …          ┆ aut…       ┆ …          ┆   ┆          ┆            ┆        ┆         │\n",
       "└────────────┴────────────┴────────────┴────────────┴───┴──────────┴────────────┴────────┴─────────┘"
      ]
     },
     "execution_count": 23,
     "metadata": {},
     "output_type": "execute_result"
    }
   ],
   "source": [
    "multisearch_with_n_groups = multisearch.join(\n",
    "    query_metadata, on=[\"query_scop_id\"] + query_scop_cols\n",
    ")\n",
    "multisearch_with_n_groups"
   ]
  },
  {
   "cell_type": "markdown",
   "id": "f9ae9531-d3b8-4901-bc96-b18503f811bd",
   "metadata": {},
   "source": [
    "\n",
    "## Count sensitivity to first false positive"
   ]
  },
  {
   "cell_type": "code",
   "execution_count": 24,
   "id": "14717b9c-e8cf-4a0d-a2a0-60a7bac07670",
   "metadata": {},
   "outputs": [
    {
     "data": {
      "text/plain": [
       "['containment', 'same_class', 'same_fold', 'same_superfamily', 'same_family']"
      ]
     },
     "execution_count": 24,
     "metadata": {},
     "output_type": "execute_result"
    }
   ],
   "source": [
    "sourmash_col = \"containment\"\n",
    "\n",
    "cols = [sourmash_col] + list(reversed(same_scop_cols))\n",
    "cols"
   ]
  },
  {
   "cell_type": "code",
   "execution_count": 25,
   "id": "e5ccd789-a940-4da7-a627-701b55da8f1f",
   "metadata": {},
   "outputs": [],
   "source": [
    "multisearch_with_n_groups = multisearch_with_n_groups.sort(by=cols, descending=True)"
   ]
  },
  {
   "cell_type": "code",
   "execution_count": 26,
   "id": "95765f40-78ae-42c1-a55d-f091f9597be2",
   "metadata": {},
   "outputs": [],
   "source": [
    "# groupby = [\"query_scop_id\"] + query_scop_cols\n",
    "\n",
    "# for query, df in multisearch.group_by(groupby):\n",
    "#     print(\"query:\", query, df.shape)\n",
    "#     # display(df.head())\n",
    "\n",
    "#     # Sort the values so the biggest one is first\n",
    "#     # df = df.sort_values(sourmash_col, ascending=False)\n",
    "\n",
    "#     # display(df)\n",
    "#     break"
   ]
  },
  {
   "cell_type": "code",
   "execution_count": 27,
   "id": "fadedb81-4d91-4a0b-9259-81722812e287",
   "metadata": {},
   "outputs": [
    {
     "data": {
      "text/html": [
       "<div><style>\n",
       ".dataframe > thead > tr,\n",
       ".dataframe > tbody > tr {\n",
       "  text-align: right;\n",
       "  white-space: pre-wrap;\n",
       "}\n",
       "</style>\n",
       "<small>shape: (13, 36)</small><table border=\"1\" class=\"dataframe\"><thead><tr><th>query_name</th><th>query_md5</th><th>match_name</th><th>match_md5</th><th>containment</th><th>max_containment</th><th>jaccard</th><th>intersect_hashes</th><th>prob_overlap</th><th>prob_overlap_adjusted</th><th>containment_adjusted</th><th>containment_adjusted_log10</th><th>tf_idf_score</th><th>query_scop_id</th><th>query_scop_lineage</th><th>query_scop_lineage_fixed</th><th>query_family</th><th>query_superfamily</th><th>query_fold</th><th>query_class</th><th>match_scop_id</th><th>match_scop_lineage</th><th>match_scop_lineage_fixed</th><th>match_family</th><th>match_superfamily</th><th>match_fold</th><th>match_class</th><th>same_family</th><th>same_superfamily</th><th>same_fold</th><th>same_class</th><th>__index_level_0__</th><th>n_family</th><th>n_superfamily</th><th>n_fold</th><th>n_class</th></tr><tr><td>str</td><td>str</td><td>str</td><td>str</td><td>f64</td><td>f64</td><td>f64</td><td>f64</td><td>f64</td><td>f64</td><td>f64</td><td>f64</td><td>f64</td><td>str</td><td>str</td><td>str</td><td>cat</td><td>cat</td><td>cat</td><td>cat</td><td>str</td><td>str</td><td>str</td><td>cat</td><td>cat</td><td>cat</td><td>cat</td><td>bool</td><td>bool</td><td>bool</td><td>bool</td><td>i64</td><td>i64</td><td>i64</td><td>i64</td><td>i64</td></tr></thead><tbody><tr><td>&quot;d1k91a1 b.104.1.1 (A:221-256) …</td><td>&quot;b285a9116d3e80bdf28d50c1026309…</td><td>&quot;d1jhna3 b.104.1.1 (A:270-411) …</td><td>&quot;a7fa935828069ca043b43ee240f20b…</td><td>0.235294</td><td>0.235294</td><td>0.029412</td><td>4.0</td><td>1.7842e-11</td><td>0.00411</td><td>57.254029</td><td>1.757806</td><td>2.071611</td><td>&quot;d1k91a1&quot;</td><td>&quot;b.104.1.1&quot;</td><td>&quot;b.104.1.1&quot;</td><td>&quot;b.104.1.1&quot;</td><td>&quot;b.104.1&quot;</td><td>&quot;b.104&quot;</td><td>&quot;b&quot;</td><td>&quot;d1jhna3&quot;</td><td>&quot;b.104.1.1&quot;</td><td>&quot;b.104.1.1&quot;</td><td>&quot;b.104.1.1&quot;</td><td>&quot;b.104.1&quot;</td><td>&quot;b.104&quot;</td><td>&quot;b&quot;</td><td>true</td><td>true</td><td>true</td><td>true</td><td>1922048</td><td>2</td><td>2</td><td>2</td><td>3059</td></tr><tr><td>&quot;d1k91a1 b.104.1.1 (A:221-256) …</td><td>&quot;b285a9116d3e80bdf28d50c1026309…</td><td>&quot;d1roca1 b.1.22.1 (A:2-154) Ant…</td><td>&quot;e68cc86e6f9293b8042b6b2b2a6695…</td><td>0.235294</td><td>0.235294</td><td>0.027211</td><td>4.0</td><td>2.0999e-11</td><td>0.004837</td><td>48.644401</td><td>1.687033</td><td>2.051819</td><td>&quot;d1k91a1&quot;</td><td>&quot;b.104.1.1&quot;</td><td>&quot;b.104.1.1&quot;</td><td>&quot;b.104.1.1&quot;</td><td>&quot;b.104.1&quot;</td><td>&quot;b.104&quot;</td><td>&quot;b&quot;</td><td>&quot;d1roca1&quot;</td><td>&quot;b.1.22.1&quot;</td><td>&quot;b.1.22.1&quot;</td><td>&quot;b.1.22.1&quot;</td><td>&quot;b.1.22&quot;</td><td>&quot;b.1&quot;</td><td>&quot;b&quot;</td><td>false</td><td>false</td><td>false</td><td>true</td><td>1143499</td><td>2</td><td>2</td><td>2</td><td>3059</td></tr><tr><td>&quot;d1k91a1 b.104.1.1 (A:221-256) …</td><td>&quot;b285a9116d3e80bdf28d50c1026309…</td><td>&quot;d6tt2a_ b.55.1.1 (A:) Bruton&#x27;s…</td><td>&quot;221d6dfe734100c788a9fe3e2df19b…</td><td>0.176471</td><td>0.176471</td><td>0.018405</td><td>3.0</td><td>8.9997e-12</td><td>0.002073</td><td>85.127701</td><td>1.930071</td><td>1.580716</td><td>&quot;d1k91a1&quot;</td><td>&quot;b.104.1.1&quot;</td><td>&quot;b.104.1.1&quot;</td><td>&quot;b.104.1.1&quot;</td><td>&quot;b.104.1&quot;</td><td>&quot;b.104&quot;</td><td>&quot;b&quot;</td><td>&quot;d6tt2a_&quot;</td><td>&quot;b.55.1.1&quot;</td><td>&quot;b.55.1.1&quot;</td><td>&quot;b.55.1.1&quot;</td><td>&quot;b.55.1&quot;</td><td>&quot;b.55&quot;</td><td>&quot;b&quot;</td><td>false</td><td>false</td><td>false</td><td>true</td><td>824939</td><td>2</td><td>2</td><td>2</td><td>3059</td></tr><tr><td>&quot;d1k91a1 b.104.1.1 (A:221-256) …</td><td>&quot;b285a9116d3e80bdf28d50c1026309…</td><td>&quot;d5dgja1 b.47.1.4 (A:1-173) aut…</td><td>&quot;630090fb88f1876c8e82988a519a23…</td><td>0.176471</td><td>0.176471</td><td>0.017857</td><td>3.0</td><td>5.9998e-12</td><td>0.001382</td><td>127.691552</td><td>2.106162</td><td>1.623891</td><td>&quot;d1k91a1&quot;</td><td>&quot;b.104.1.1&quot;</td><td>&quot;b.104.1.1&quot;</td><td>&quot;b.104.1.1&quot;</td><td>&quot;b.104.1&quot;</td><td>&quot;b.104&quot;</td><td>&quot;b&quot;</td><td>&quot;d5dgja1&quot;</td><td>&quot;b.47.1.4&quot;</td><td>&quot;b.47.1.4&quot;</td><td>&quot;b.47.1.4&quot;</td><td>&quot;b.47.1&quot;</td><td>&quot;b.47&quot;</td><td>&quot;b&quot;</td><td>false</td><td>false</td><td>false</td><td>true</td><td>696669</td><td>2</td><td>2</td><td>2</td><td>3059</td></tr><tr><td>&quot;d1k91a1 b.104.1.1 (A:221-256) …</td><td>&quot;b285a9116d3e80bdf28d50c1026309…</td><td>&quot;d2y24a1 b.71.1.2 (A:31-43,A:32…</td><td>&quot;7e9378a1133aaff014e4aca4a3815e…</td><td>0.176471</td><td>0.176471</td><td>0.029412</td><td>3.0</td><td>1.7052e-11</td><td>0.003928</td><td>44.928509</td><td>1.652522</td><td>1.532063</td><td>&quot;d1k91a1&quot;</td><td>&quot;b.104.1.1&quot;</td><td>&quot;b.104.1.1&quot;</td><td>&quot;b.104.1.1&quot;</td><td>&quot;b.104.1&quot;</td><td>&quot;b.104&quot;</td><td>&quot;b&quot;</td><td>&quot;d2y24a1&quot;</td><td>&quot;b.71.1.2&quot;</td><td>&quot;b.71.1.2&quot;</td><td>&quot;b.71.1.2&quot;</td><td>&quot;b.71.1&quot;</td><td>&quot;b.71&quot;</td><td>&quot;b&quot;</td><td>false</td><td>false</td><td>false</td><td>true</td><td>1310429</td><td>2</td><td>2</td><td>2</td><td>3059</td></tr><tr><td>&hellip;</td><td>&hellip;</td><td>&hellip;</td><td>&hellip;</td><td>&hellip;</td><td>&hellip;</td><td>&hellip;</td><td>&hellip;</td><td>&hellip;</td><td>&hellip;</td><td>&hellip;</td><td>&hellip;</td><td>&hellip;</td><td>&hellip;</td><td>&hellip;</td><td>&hellip;</td><td>&hellip;</td><td>&hellip;</td><td>&hellip;</td><td>&hellip;</td><td>&hellip;</td><td>&hellip;</td><td>&hellip;</td><td>&hellip;</td><td>&hellip;</td><td>&hellip;</td><td>&hellip;</td><td>&hellip;</td><td>&hellip;</td><td>&hellip;</td><td>&hellip;</td><td>&hellip;</td><td>&hellip;</td><td>&hellip;</td><td>&hellip;</td><td>&hellip;</td></tr><tr><td>&quot;d1k91a1 b.104.1.1 (A:221-256) …</td><td>&quot;b285a9116d3e80bdf28d50c1026309…</td><td>&quot;d6df4a_ a.29.2.0 (A:) automate…</td><td>&quot;288d2db345dd1fef6e6db2f0d20c30…</td><td>0.117647</td><td>0.117647</td><td>0.015385</td><td>2.0</td><td>9.6313e-12</td><td>0.002218</td><td>53.030371</td><td>1.724525</td><td>1.030443</td><td>&quot;d1k91a1&quot;</td><td>&quot;b.104.1.1&quot;</td><td>&quot;b.104.1.1&quot;</td><td>&quot;b.104.1.1&quot;</td><td>&quot;b.104.1&quot;</td><td>&quot;b.104&quot;</td><td>&quot;b&quot;</td><td>&quot;d6df4a_&quot;</td><td>&quot;a.29.2.0&quot;</td><td>&quot;a.29.2.0&quot;</td><td>&quot;a.29.2.0&quot;</td><td>&quot;a.29.2&quot;</td><td>&quot;a.29&quot;</td><td>&quot;a&quot;</td><td>false</td><td>false</td><td>false</td><td>false</td><td>100906</td><td>2</td><td>2</td><td>2</td><td>3059</td></tr><tr><td>&quot;d1k91a1 b.104.1.1 (A:221-256) …</td><td>&quot;b285a9116d3e80bdf28d50c1026309…</td><td>&quot;d5d9ab_ e.8.1.9 (B:) Polymeras…</td><td>&quot;549c1a9e28a56345597eb7593f8dde…</td><td>0.117647</td><td>0.117647</td><td>0.00267</td><td>2.0</td><td>3.1578e-12</td><td>0.000727</td><td>161.742632</td><td>2.208825</td><td>1.091009</td><td>&quot;d1k91a1&quot;</td><td>&quot;b.104.1.1&quot;</td><td>&quot;b.104.1.1&quot;</td><td>&quot;b.104.1.1&quot;</td><td>&quot;b.104.1&quot;</td><td>&quot;b.104&quot;</td><td>&quot;b&quot;</td><td>&quot;d5d9ab_&quot;</td><td>&quot;e.8.1.9&quot;</td><td>&quot;e.8.1.9&quot;</td><td>&quot;e.8.1.9&quot;</td><td>&quot;e.8.1&quot;</td><td>&quot;e.8&quot;</td><td>&quot;e&quot;</td><td>false</td><td>false</td><td>false</td><td>false</td><td>2029618</td><td>2</td><td>2</td><td>2</td><td>3059</td></tr><tr><td>&quot;d1k91a1 b.104.1.1 (A:221-256) …</td><td>&quot;b285a9116d3e80bdf28d50c1026309…</td><td>&quot;d6pwsa_ d.169.1.1 (A:) automat…</td><td>&quot;77a10b0970756a06af0f62d94a9932…</td><td>0.117647</td><td>0.117647</td><td>0.016</td><td>2.0</td><td>5.3683e-12</td><td>0.001237</td><td>95.142725</td><td>1.978376</td><td>1.063362</td><td>&quot;d1k91a1&quot;</td><td>&quot;b.104.1.1&quot;</td><td>&quot;b.104.1.1&quot;</td><td>&quot;b.104.1.1&quot;</td><td>&quot;b.104.1&quot;</td><td>&quot;b.104&quot;</td><td>&quot;b&quot;</td><td>&quot;d6pwsa_&quot;</td><td>&quot;d.169.1.1&quot;</td><td>&quot;d.169.1.1&quot;</td><td>&quot;d.169.1.1&quot;</td><td>&quot;d.169.1&quot;</td><td>&quot;d.169&quot;</td><td>&quot;d&quot;</td><td>false</td><td>false</td><td>false</td><td>false</td><td>2207150</td><td>2</td><td>2</td><td>2</td><td>3059</td></tr><tr><td>&quot;d1k91a1 b.104.1.1 (A:221-256) …</td><td>&quot;b285a9116d3e80bdf28d50c1026309…</td><td>&quot;d2b0ta_ c.77.1.2 (A:) automate…</td><td>&quot;7bd3c8a6815d5b63dc8dbe11a102af…</td><td>0.117647</td><td>0.117647</td><td>0.002736</td><td>2.0</td><td>1.1368e-11</td><td>0.002619</td><td>44.928509</td><td>1.652522</td><td>1.021376</td><td>&quot;d1k91a1&quot;</td><td>&quot;b.104.1.1&quot;</td><td>&quot;b.104.1.1&quot;</td><td>&quot;b.104.1.1&quot;</td><td>&quot;b.104.1&quot;</td><td>&quot;b.104&quot;</td><td>&quot;b&quot;</td><td>&quot;d2b0ta_&quot;</td><td>&quot;c.77.1.2&quot;</td><td>&quot;c.77.1.2&quot;</td><td>&quot;c.77.1.2&quot;</td><td>&quot;c.77.1&quot;</td><td>&quot;c.77&quot;</td><td>&quot;c&quot;</td><td>false</td><td>false</td><td>false</td><td>false</td><td>2623792</td><td>2</td><td>2</td><td>2</td><td>3059</td></tr><tr><td>&quot;d1k91a1 b.104.1.1 (A:221-256) …</td><td>&quot;b285a9116d3e80bdf28d50c1026309…</td><td>&quot;d4jwxa_ c.94.1.0 (A:) automate…</td><td>&quot;92685b6c9eb09bda20ebc1fc2e7e9e…</td><td>0.117647</td><td>0.117647</td><td>0.007246</td><td>2.0</td><td>2.8420e-12</td><td>0.000655</td><td>179.714036</td><td>2.254582</td><td>1.087213</td><td>&quot;d1k91a1&quot;</td><td>&quot;b.104.1.1&quot;</td><td>&quot;b.104.1.1&quot;</td><td>&quot;b.104.1.1&quot;</td><td>&quot;b.104.1&quot;</td><td>&quot;b.104&quot;</td><td>&quot;b&quot;</td><td>&quot;d4jwxa_&quot;</td><td>&quot;c.94.1.0&quot;</td><td>&quot;c.94.1.0&quot;</td><td>&quot;c.94.1.0&quot;</td><td>&quot;c.94.1&quot;</td><td>&quot;c.94&quot;</td><td>&quot;c&quot;</td><td>false</td><td>false</td><td>false</td><td>false</td><td>1527590</td><td>2</td><td>2</td><td>2</td><td>3059</td></tr></tbody></table></div>"
      ],
      "text/plain": [
       "shape: (13, 36)\n",
       "┌────────────┬────────────┬────────────┬────────────┬───┬──────────┬────────────┬────────┬─────────┐\n",
       "│ query_name ┆ query_md5  ┆ match_name ┆ match_md5  ┆ … ┆ n_family ┆ n_superfam ┆ n_fold ┆ n_class │\n",
       "│ ---        ┆ ---        ┆ ---        ┆ ---        ┆   ┆ ---      ┆ ily        ┆ ---    ┆ ---     │\n",
       "│ str        ┆ str        ┆ str        ┆ str        ┆   ┆ i64      ┆ ---        ┆ i64    ┆ i64     │\n",
       "│            ┆            ┆            ┆            ┆   ┆          ┆ i64        ┆        ┆         │\n",
       "╞════════════╪════════════╪════════════╪════════════╪═══╪══════════╪════════════╪════════╪═════════╡\n",
       "│ d1k91a1    ┆ b285a9116d ┆ d1jhna3    ┆ a7fa935828 ┆ … ┆ 2        ┆ 2          ┆ 2      ┆ 3059    │\n",
       "│ b.104.1.1  ┆ 3e80bdf28d ┆ b.104.1.1  ┆ 069ca043b4 ┆   ┆          ┆            ┆        ┆         │\n",
       "│ (A:221-256 ┆ 50c1026309 ┆ (A:270-411 ┆ 3ee240f20b ┆   ┆          ┆            ┆        ┆         │\n",
       "│ ) …        ┆ …          ┆ ) …        ┆ …          ┆   ┆          ┆            ┆        ┆         │\n",
       "│ d1k91a1    ┆ b285a9116d ┆ d1roca1    ┆ e68cc86e6f ┆ … ┆ 2        ┆ 2          ┆ 2      ┆ 3059    │\n",
       "│ b.104.1.1  ┆ 3e80bdf28d ┆ b.1.22.1   ┆ 9293b8042b ┆   ┆          ┆            ┆        ┆         │\n",
       "│ (A:221-256 ┆ 50c1026309 ┆ (A:2-154)  ┆ 6b2b2a6695 ┆   ┆          ┆            ┆        ┆         │\n",
       "│ ) …        ┆ …          ┆ Ant…       ┆ …          ┆   ┆          ┆            ┆        ┆         │\n",
       "│ d1k91a1    ┆ b285a9116d ┆ d6tt2a_    ┆ 221d6dfe73 ┆ … ┆ 2        ┆ 2          ┆ 2      ┆ 3059    │\n",
       "│ b.104.1.1  ┆ 3e80bdf28d ┆ b.55.1.1   ┆ 4100c788a9 ┆   ┆          ┆            ┆        ┆         │\n",
       "│ (A:221-256 ┆ 50c1026309 ┆ (A:)       ┆ fe3e2df19b ┆   ┆          ┆            ┆        ┆         │\n",
       "│ ) …        ┆ …          ┆ Bruton's…  ┆ …          ┆   ┆          ┆            ┆        ┆         │\n",
       "│ d1k91a1    ┆ b285a9116d ┆ d5dgja1    ┆ 630090fb88 ┆ … ┆ 2        ┆ 2          ┆ 2      ┆ 3059    │\n",
       "│ b.104.1.1  ┆ 3e80bdf28d ┆ b.47.1.4   ┆ f1876c8e82 ┆   ┆          ┆            ┆        ┆         │\n",
       "│ (A:221-256 ┆ 50c1026309 ┆ (A:1-173)  ┆ 988a519a23 ┆   ┆          ┆            ┆        ┆         │\n",
       "│ ) …        ┆ …          ┆ aut…       ┆ …          ┆   ┆          ┆            ┆        ┆         │\n",
       "│ d1k91a1    ┆ b285a9116d ┆ d2y24a1    ┆ 7e9378a113 ┆ … ┆ 2        ┆ 2          ┆ 2      ┆ 3059    │\n",
       "│ b.104.1.1  ┆ 3e80bdf28d ┆ b.71.1.2   ┆ 3aaff014e4 ┆   ┆          ┆            ┆        ┆         │\n",
       "│ (A:221-256 ┆ 50c1026309 ┆ (A:31-43,A ┆ aca4a3815e ┆   ┆          ┆            ┆        ┆         │\n",
       "│ ) …        ┆ …          ┆ :32…       ┆ …          ┆   ┆          ┆            ┆        ┆         │\n",
       "│ …          ┆ …          ┆ …          ┆ …          ┆ … ┆ …        ┆ …          ┆ …      ┆ …       │\n",
       "│ d1k91a1    ┆ b285a9116d ┆ d6df4a_    ┆ 288d2db345 ┆ … ┆ 2        ┆ 2          ┆ 2      ┆ 3059    │\n",
       "│ b.104.1.1  ┆ 3e80bdf28d ┆ a.29.2.0   ┆ dd1fef6e6d ┆   ┆          ┆            ┆        ┆         │\n",
       "│ (A:221-256 ┆ 50c1026309 ┆ (A:)       ┆ b2f0d20c30 ┆   ┆          ┆            ┆        ┆         │\n",
       "│ ) …        ┆ …          ┆ automate…  ┆ …          ┆   ┆          ┆            ┆        ┆         │\n",
       "│ d1k91a1    ┆ b285a9116d ┆ d5d9ab_    ┆ 549c1a9e28 ┆ … ┆ 2        ┆ 2          ┆ 2      ┆ 3059    │\n",
       "│ b.104.1.1  ┆ 3e80bdf28d ┆ e.8.1.9    ┆ a56345597e ┆   ┆          ┆            ┆        ┆         │\n",
       "│ (A:221-256 ┆ 50c1026309 ┆ (B:)       ┆ b7593f8dde ┆   ┆          ┆            ┆        ┆         │\n",
       "│ ) …        ┆ …          ┆ Polymeras… ┆ …          ┆   ┆          ┆            ┆        ┆         │\n",
       "│ d1k91a1    ┆ b285a9116d ┆ d6pwsa_    ┆ 77a10b0970 ┆ … ┆ 2        ┆ 2          ┆ 2      ┆ 3059    │\n",
       "│ b.104.1.1  ┆ 3e80bdf28d ┆ d.169.1.1  ┆ 756a06af0f ┆   ┆          ┆            ┆        ┆         │\n",
       "│ (A:221-256 ┆ 50c1026309 ┆ (A:)       ┆ 62d94a9932 ┆   ┆          ┆            ┆        ┆         │\n",
       "│ ) …        ┆ …          ┆ automat…   ┆ …          ┆   ┆          ┆            ┆        ┆         │\n",
       "│ d1k91a1    ┆ b285a9116d ┆ d2b0ta_    ┆ 7bd3c8a681 ┆ … ┆ 2        ┆ 2          ┆ 2      ┆ 3059    │\n",
       "│ b.104.1.1  ┆ 3e80bdf28d ┆ c.77.1.2   ┆ 5d5b63dc8d ┆   ┆          ┆            ┆        ┆         │\n",
       "│ (A:221-256 ┆ 50c1026309 ┆ (A:)       ┆ be11a102af ┆   ┆          ┆            ┆        ┆         │\n",
       "│ ) …        ┆ …          ┆ automate…  ┆ …          ┆   ┆          ┆            ┆        ┆         │\n",
       "│ d1k91a1    ┆ b285a9116d ┆ d4jwxa_    ┆ 92685b6c9e ┆ … ┆ 2        ┆ 2          ┆ 2      ┆ 3059    │\n",
       "│ b.104.1.1  ┆ 3e80bdf28d ┆ c.94.1.0   ┆ b09bda20eb ┆   ┆          ┆            ┆        ┆         │\n",
       "│ (A:221-256 ┆ 50c1026309 ┆ (A:)       ┆ c1fc2e7e9e ┆   ┆          ┆            ┆        ┆         │\n",
       "│ ) …        ┆ …          ┆ automate…  ┆ …          ┆   ┆          ┆            ┆        ┆         │\n",
       "└────────────┴────────────┴────────────┴────────────┴───┴──────────┴────────────┴────────┴─────────┘"
      ]
     },
     "execution_count": 27,
     "metadata": {},
     "output_type": "execute_result"
    }
   ],
   "source": [
    "df = multisearch_with_n_groups.filter(pl.col(\"query_scop_id\") == \"d1k91a1\")\n",
    "df"
   ]
  },
  {
   "cell_type": "code",
   "execution_count": 28,
   "id": "93a17084-0613-4c65-981f-3591dd4e9f58",
   "metadata": {},
   "outputs": [
    {
     "data": {
      "text/html": [
       "<div><style>\n",
       ".dataframe > thead > tr,\n",
       ".dataframe > tbody > tr {\n",
       "  text-align: right;\n",
       "  white-space: pre-wrap;\n",
       "}\n",
       "</style>\n",
       "<small>shape: (10, 4)</small><table border=\"1\" class=\"dataframe\"><thead><tr><th>same_family</th><th>same_superfamily</th><th>same_fold</th><th>same_class</th></tr><tr><td>bool</td><td>bool</td><td>bool</td><td>bool</td></tr></thead><tbody><tr><td>true</td><td>true</td><td>true</td><td>true</td></tr><tr><td>false</td><td>false</td><td>false</td><td>true</td></tr><tr><td>false</td><td>false</td><td>false</td><td>true</td></tr><tr><td>false</td><td>false</td><td>false</td><td>true</td></tr><tr><td>false</td><td>false</td><td>false</td><td>true</td></tr><tr><td>false</td><td>false</td><td>false</td><td>false</td></tr><tr><td>false</td><td>false</td><td>false</td><td>false</td></tr><tr><td>false</td><td>false</td><td>false</td><td>false</td></tr><tr><td>false</td><td>false</td><td>false</td><td>false</td></tr><tr><td>false</td><td>false</td><td>false</td><td>false</td></tr></tbody></table></div>"
      ],
      "text/plain": [
       "shape: (10, 4)\n",
       "┌─────────────┬──────────────────┬───────────┬────────────┐\n",
       "│ same_family ┆ same_superfamily ┆ same_fold ┆ same_class │\n",
       "│ ---         ┆ ---              ┆ ---       ┆ ---        │\n",
       "│ bool        ┆ bool             ┆ bool      ┆ bool       │\n",
       "╞═════════════╪══════════════════╪═══════════╪════════════╡\n",
       "│ true        ┆ true             ┆ true      ┆ true       │\n",
       "│ false       ┆ false            ┆ false     ┆ true       │\n",
       "│ false       ┆ false            ┆ false     ┆ true       │\n",
       "│ false       ┆ false            ┆ false     ┆ true       │\n",
       "│ false       ┆ false            ┆ false     ┆ true       │\n",
       "│ false       ┆ false            ┆ false     ┆ false      │\n",
       "│ false       ┆ false            ┆ false     ┆ false      │\n",
       "│ false       ┆ false            ┆ false     ┆ false      │\n",
       "│ false       ┆ false            ┆ false     ┆ false      │\n",
       "│ false       ┆ false            ┆ false     ┆ false      │\n",
       "└─────────────┴──────────────────┴───────────┴────────────┘"
      ]
     },
     "execution_count": 28,
     "metadata": {},
     "output_type": "execute_result"
    }
   ],
   "source": [
    "df.select(pl.col(same_scop_cols)).head(10)"
   ]
  },
  {
   "cell_type": "code",
   "execution_count": 29,
   "id": "4874aa5b-fc87-4b73-8b88-7b3eadcaacff",
   "metadata": {},
   "outputs": [
    {
     "name": "stdout",
     "output_type": "stream",
     "text": [
      "same_family\tsame_superfamily\tsame_fold\tsame_class\n",
      "true\ttrue\ttrue\ttrue\n",
      "false\tfalse\tfalse\ttrue\n",
      "false\tfalse\tfalse\ttrue\n",
      "false\tfalse\tfalse\ttrue\n",
      "false\tfalse\tfalse\ttrue\n",
      "false\tfalse\tfalse\tfalse\n",
      "false\tfalse\tfalse\tfalse\n",
      "false\tfalse\tfalse\tfalse\n",
      "false\tfalse\tfalse\tfalse\n",
      "false\tfalse\tfalse\tfalse\n",
      "\n"
     ]
    }
   ],
   "source": [
    "print(df.select(pl.col(same_scop_cols)).head(10).write_csv(separator=\"\\t\"))"
   ]
  },
  {
   "cell_type": "code",
   "execution_count": 166,
   "id": "0729f72a-adb0-4fe7-a205-32a5fe848faa",
   "metadata": {},
   "outputs": [
    {
     "data": {
      "text/html": [
       "<div><style>\n",
       ".dataframe > thead > tr,\n",
       ".dataframe > tbody > tr {\n",
       "  text-align: right;\n",
       "  white-space: pre-wrap;\n",
       "}\n",
       "</style>\n",
       "<small>shape: (1, 4)</small><table border=\"1\" class=\"dataframe\"><thead><tr><th>same_family</th><th>same_superfamily</th><th>same_fold</th><th>same_class</th></tr><tr><td>u32</td><td>u32</td><td>u32</td><td>u32</td></tr></thead><tbody><tr><td>1</td><td>1</td><td>1</td><td>5</td></tr></tbody></table></div>"
      ],
      "text/plain": [
       "shape: (1, 4)\n",
       "┌─────────────┬──────────────────┬───────────┬────────────┐\n",
       "│ same_family ┆ same_superfamily ┆ same_fold ┆ same_class │\n",
       "│ ---         ┆ ---              ┆ ---       ┆ ---        │\n",
       "│ u32         ┆ u32              ┆ u32       ┆ u32        │\n",
       "╞═════════════╪══════════════════╪═══════════╪════════════╡\n",
       "│ 1           ┆ 1                ┆ 1         ┆ 5          │\n",
       "└─────────────┴──────────────────┴───────────┴────────────┘"
      ]
     },
     "execution_count": 166,
     "metadata": {},
     "output_type": "execute_result"
    }
   ],
   "source": [
    "import polars as pl\n",
    "\n",
    "\n",
    "def sum_until_first_false(df):\n",
    "    return df.select(\n",
    "        [\n",
    "            pl.col(col)\n",
    "            .cast(pl.UInt32)\n",
    "            .cum_sum()\n",
    "            .sub(pl.col(col).cast(pl.UInt32).cum_min().cast(pl.UInt32))\n",
    "            .eq(pl.col(col).cast(pl.UInt32).cum_sum())\n",
    "            .eq(False)\n",
    "            .cast(pl.UInt32)\n",
    "            .cum_sum()\n",
    "            .max()\n",
    "            .alias(col)\n",
    "            for col in df.columns\n",
    "        ]\n",
    "    )\n",
    "\n",
    "\n",
    "# Assuming your dataframe is called 'df'\n",
    "result = sum_until_first_false(df.select(same_scop_cols))\n",
    "result"
   ]
  },
  {
   "cell_type": "code",
   "execution_count": 31,
   "id": "0af0fcc0-042f-405e-9fa7-1165f29e21a8",
   "metadata": {},
   "outputs": [
    {
     "data": {
      "text/html": [
       "<div><style>\n",
       ".dataframe > thead > tr,\n",
       ".dataframe > tbody > tr {\n",
       "  text-align: right;\n",
       "  white-space: pre-wrap;\n",
       "}\n",
       "</style>\n",
       "<small>shape: (1, 4)</small><table border=\"1\" class=\"dataframe\"><thead><tr><th>same_family</th><th>same_superfamily</th><th>same_fold</th><th>same_class</th></tr><tr><td>u32</td><td>u32</td><td>u32</td><td>u32</td></tr></thead><tbody><tr><td>1</td><td>1</td><td>1</td><td>5</td></tr></tbody></table></div>"
      ],
      "text/plain": [
       "shape: (1, 4)\n",
       "┌─────────────┬──────────────────┬───────────┬────────────┐\n",
       "│ same_family ┆ same_superfamily ┆ same_fold ┆ same_class │\n",
       "│ ---         ┆ ---              ┆ ---       ┆ ---        │\n",
       "│ u32         ┆ u32              ┆ u32       ┆ u32        │\n",
       "╞═════════════╪══════════════════╪═══════════╪════════════╡\n",
       "│ 1           ┆ 1                ┆ 1         ┆ 5          │\n",
       "└─────────────┴──────────────────┴───────────┴────────────┘"
      ]
     },
     "execution_count": 31,
     "metadata": {},
     "output_type": "execute_result"
    }
   ],
   "source": [
    "first_zeros = df.select(pl.col(same_scop_cols).arg_min())\n",
    "first_zeros"
   ]
  },
  {
   "cell_type": "code",
   "execution_count": 32,
   "id": "2f54a5c1-9e7e-4dc8-ab4f-bb92ecf15a35",
   "metadata": {},
   "outputs": [
    {
     "data": {
      "text/html": [
       "<div><style>\n",
       ".dataframe > thead > tr,\n",
       ".dataframe > tbody > tr {\n",
       "  text-align: right;\n",
       "  white-space: pre-wrap;\n",
       "}\n",
       "</style>\n",
       "<small>shape: (10, 5)</small><table border=\"1\" class=\"dataframe\"><thead><tr><th>containment</th><th>same_family</th><th>same_superfamily</th><th>same_fold</th><th>same_class</th></tr><tr><td>f64</td><td>bool</td><td>bool</td><td>bool</td><td>bool</td></tr></thead><tbody><tr><td>0.235294</td><td>true</td><td>true</td><td>true</td><td>true</td></tr><tr><td>0.235294</td><td>false</td><td>false</td><td>false</td><td>true</td></tr><tr><td>0.176471</td><td>false</td><td>false</td><td>false</td><td>true</td></tr><tr><td>0.176471</td><td>false</td><td>false</td><td>false</td><td>true</td></tr><tr><td>0.176471</td><td>false</td><td>false</td><td>false</td><td>true</td></tr><tr><td>0.176471</td><td>false</td><td>false</td><td>false</td><td>false</td></tr><tr><td>0.117647</td><td>false</td><td>false</td><td>false</td><td>false</td></tr><tr><td>0.117647</td><td>false</td><td>false</td><td>false</td><td>false</td></tr><tr><td>0.117647</td><td>false</td><td>false</td><td>false</td><td>false</td></tr><tr><td>0.117647</td><td>false</td><td>false</td><td>false</td><td>false</td></tr></tbody></table></div>"
      ],
      "text/plain": [
       "shape: (10, 5)\n",
       "┌─────────────┬─────────────┬──────────────────┬───────────┬────────────┐\n",
       "│ containment ┆ same_family ┆ same_superfamily ┆ same_fold ┆ same_class │\n",
       "│ ---         ┆ ---         ┆ ---              ┆ ---       ┆ ---        │\n",
       "│ f64         ┆ bool        ┆ bool             ┆ bool      ┆ bool       │\n",
       "╞═════════════╪═════════════╪══════════════════╪═══════════╪════════════╡\n",
       "│ 0.235294    ┆ true        ┆ true             ┆ true      ┆ true       │\n",
       "│ 0.235294    ┆ false       ┆ false            ┆ false     ┆ true       │\n",
       "│ 0.176471    ┆ false       ┆ false            ┆ false     ┆ true       │\n",
       "│ 0.176471    ┆ false       ┆ false            ┆ false     ┆ true       │\n",
       "│ 0.176471    ┆ false       ┆ false            ┆ false     ┆ true       │\n",
       "│ 0.176471    ┆ false       ┆ false            ┆ false     ┆ false      │\n",
       "│ 0.117647    ┆ false       ┆ false            ┆ false     ┆ false      │\n",
       "│ 0.117647    ┆ false       ┆ false            ┆ false     ┆ false      │\n",
       "│ 0.117647    ┆ false       ┆ false            ┆ false     ┆ false      │\n",
       "│ 0.117647    ┆ false       ┆ false            ┆ false     ┆ false      │\n",
       "└─────────────┴─────────────┴──────────────────┴───────────┴────────────┘"
      ]
     },
     "execution_count": 32,
     "metadata": {},
     "output_type": "execute_result"
    }
   ],
   "source": [
    "df[[sourmash_col] + same_scop_cols].head(10)"
   ]
  },
  {
   "cell_type": "markdown",
   "id": "57022822-0b00-4470-bd09-ef8a0813d20f",
   "metadata": {},
   "source": [
    "### Write function for sensitive to first FP"
   ]
  },
  {
   "cell_type": "code",
   "execution_count": 33,
   "id": "ba055ecb-f7e0-4db5-9515-89a564caed6a",
   "metadata": {},
   "outputs": [
    {
     "data": {
      "text/plain": [
       "['n_family', 'n_superfamily', 'n_fold', 'n_class']"
      ]
     },
     "execution_count": 33,
     "metadata": {},
     "output_type": "execute_result"
    }
   ],
   "source": [
    "n_scop_cols = \"n_family\tn_superfamily\tn_fold\tn_class\".split()\n",
    "n_scop_cols"
   ]
  },
  {
   "cell_type": "code",
   "execution_count": 66,
   "id": "97bc6420-3555-4f74-94c3-b293cd45f0e0",
   "metadata": {},
   "outputs": [
    {
     "data": {
      "text/html": [
       "<div><style>\n",
       ".dataframe > thead > tr,\n",
       ".dataframe > tbody > tr {\n",
       "  text-align: right;\n",
       "  white-space: pre-wrap;\n",
       "}\n",
       "</style>\n",
       "<small>shape: (15_163, 5)</small><table border=\"1\" class=\"dataframe\"><thead><tr><th>query_scop_id</th><th>sensitivity_family</th><th>sensitivity_superfamily</th><th>sensitivity_fold</th><th>sensitivity_class</th></tr><tr><td>str</td><td>f64</td><td>f64</td><td>f64</td><td>f64</td></tr></thead><tbody><tr><td>&quot;d1yb1a_&quot;</td><td>0.0</td><td>0.0</td><td>0.0</td><td>0.000672</td></tr><tr><td>&quot;d2qzsa_&quot;</td><td>0.0</td><td>0.0</td><td>0.0</td><td>0.0</td></tr><tr><td>&quot;d3mjja1&quot;</td><td>0.0</td><td>0.0</td><td>0.0</td><td>0.0</td></tr><tr><td>&quot;d2ihya1&quot;</td><td>0.0</td><td>0.0</td><td>0.0</td><td>0.001121</td></tr><tr><td>&quot;d1k8ma1&quot;</td><td>0.0</td><td>0.0</td><td>0.0</td><td>0.0</td></tr><tr><td>&hellip;</td><td>&hellip;</td><td>&hellip;</td><td>&hellip;</td><td>&hellip;</td></tr><tr><td>&quot;d6xp1a2&quot;</td><td>0.0</td><td>0.0</td><td>0.0</td><td>0.0</td></tr><tr><td>&quot;d1jz8a5&quot;</td><td>0.0</td><td>0.0</td><td>0.00188</td><td>0.000224</td></tr><tr><td>&quot;d1th7a1&quot;</td><td>0.0</td><td>0.0</td><td>0.0</td><td>0.0</td></tr><tr><td>&quot;d1k66a1&quot;</td><td>0.0</td><td>0.0</td><td>0.0</td><td>0.000224</td></tr><tr><td>&quot;d1t35a_&quot;</td><td>0.333333</td><td>0.1</td><td>0.1</td><td>0.000224</td></tr></tbody></table></div>"
      ],
      "text/plain": [
       "shape: (15_163, 5)\n",
       "┌───────────────┬────────────────────┬──────────────────────┬──────────────────┬───────────────────┐\n",
       "│ query_scop_id ┆ sensitivity_family ┆ sensitivity_superfam ┆ sensitivity_fold ┆ sensitivity_class │\n",
       "│ ---           ┆ ---                ┆ ily                  ┆ ---              ┆ ---               │\n",
       "│ str           ┆ f64                ┆ ---                  ┆ f64              ┆ f64               │\n",
       "│               ┆                    ┆ f64                  ┆                  ┆                   │\n",
       "╞═══════════════╪════════════════════╪══════════════════════╪══════════════════╪═══════════════════╡\n",
       "│ d1yb1a_       ┆ 0.0                ┆ 0.0                  ┆ 0.0              ┆ 0.000672          │\n",
       "│ d2qzsa_       ┆ 0.0                ┆ 0.0                  ┆ 0.0              ┆ 0.0               │\n",
       "│ d3mjja1       ┆ 0.0                ┆ 0.0                  ┆ 0.0              ┆ 0.0               │\n",
       "│ d2ihya1       ┆ 0.0                ┆ 0.0                  ┆ 0.0              ┆ 0.001121          │\n",
       "│ d1k8ma1       ┆ 0.0                ┆ 0.0                  ┆ 0.0              ┆ 0.0               │\n",
       "│ …             ┆ …                  ┆ …                    ┆ …                ┆ …                 │\n",
       "│ d6xp1a2       ┆ 0.0                ┆ 0.0                  ┆ 0.0              ┆ 0.0               │\n",
       "│ d1jz8a5       ┆ 0.0                ┆ 0.0                  ┆ 0.00188          ┆ 0.000224          │\n",
       "│ d1th7a1       ┆ 0.0                ┆ 0.0                  ┆ 0.0              ┆ 0.0               │\n",
       "│ d1k66a1       ┆ 0.0                ┆ 0.0                  ┆ 0.0              ┆ 0.000224          │\n",
       "│ d1t35a_       ┆ 0.333333           ┆ 0.1                  ┆ 0.1              ┆ 0.000224          │\n",
       "└───────────────┴────────────────────┴──────────────────────┴──────────────────┴───────────────────┘"
      ]
     },
     "execution_count": 66,
     "metadata": {},
     "output_type": "execute_result"
    }
   ],
   "source": [
    "def sensitivity_until_first_false_positive(same_scop_cols, n_scop_cols):\n",
    "    return [\n",
    "        (pl.col(same_col).cast(pl.Float64).arg_min() / (pl.col(n_col) - 1))\n",
    "        .first()\n",
    "        .fill_null(0)\n",
    "        .alias(same_col.replace(\"same\", \"sensitivity\"))\n",
    "        for same_col, n_col in zip(same_scop_cols, n_scop_cols)\n",
    "    ]\n",
    "\n",
    "\n",
    "sensitivity = (\n",
    "    multisearch_with_n_groups.sort(sourmash_col, descending=True)\n",
    "    # .head(1000)\n",
    "    .group_by(\"query_scop_id\").agg(\n",
    "        sensitivity_until_first_false_positive(same_scop_cols, n_scop_cols)\n",
    "    )\n",
    ").fill_nan(0)\n",
    "sensitivity"
   ]
  },
  {
   "cell_type": "code",
   "execution_count": 68,
   "id": "52a591ba-0afd-4c9a-91e4-60d6e517ee8c",
   "metadata": {},
   "outputs": [
    {
     "data": {
      "text/html": [
       "<div><style>\n",
       ".dataframe > thead > tr,\n",
       ".dataframe > tbody > tr {\n",
       "  text-align: right;\n",
       "  white-space: pre-wrap;\n",
       "}\n",
       "</style>\n",
       "<small>shape: (8, 5)</small><table border=\"1\" class=\"dataframe\"><thead><tr><th>query_scop_id</th><th>sensitivity_family</th><th>sensitivity_superfamily</th><th>sensitivity_fold</th><th>sensitivity_class</th></tr><tr><td>str</td><td>f64</td><td>f64</td><td>f64</td><td>f64</td></tr></thead><tbody><tr><td>&quot;d1k91a1&quot;</td><td>1.0</td><td>1.0</td><td>1.0</td><td>0.001635</td></tr><tr><td>&quot;d1klxa_&quot;</td><td>1.0</td><td>1.0</td><td>0.005618</td><td>0.000378</td></tr><tr><td>&quot;d1ouva1&quot;</td><td>1.0</td><td>1.0</td><td>0.005618</td><td>0.000378</td></tr><tr><td>&quot;d2ekna_&quot;</td><td>1.0</td><td>1.0</td><td>0.002132</td><td>0.000548</td></tr><tr><td>&quot;d2i8da1&quot;</td><td>1.0</td><td>1.0</td><td>0.05</td><td>0.000274</td></tr><tr><td>&quot;d3jqka_&quot;</td><td>1.0</td><td>1.0</td><td>0.002132</td><td>0.000274</td></tr><tr><td>&quot;d7dkzl_&quot;</td><td>1.0</td><td>1.0</td><td>1.0</td><td>0.012085</td></tr><tr><td>&quot;d7lx0l_&quot;</td><td>1.0</td><td>1.0</td><td>1.0</td><td>0.003021</td></tr></tbody></table></div>"
      ],
      "text/plain": [
       "shape: (8, 5)\n",
       "┌───────────────┬────────────────────┬──────────────────────┬──────────────────┬───────────────────┐\n",
       "│ query_scop_id ┆ sensitivity_family ┆ sensitivity_superfam ┆ sensitivity_fold ┆ sensitivity_class │\n",
       "│ ---           ┆ ---                ┆ ily                  ┆ ---              ┆ ---               │\n",
       "│ str           ┆ f64                ┆ ---                  ┆ f64              ┆ f64               │\n",
       "│               ┆                    ┆ f64                  ┆                  ┆                   │\n",
       "╞═══════════════╪════════════════════╪══════════════════════╪══════════════════╪═══════════════════╡\n",
       "│ d1k91a1       ┆ 1.0                ┆ 1.0                  ┆ 1.0              ┆ 0.001635          │\n",
       "│ d1klxa_       ┆ 1.0                ┆ 1.0                  ┆ 0.005618         ┆ 0.000378          │\n",
       "│ d1ouva1       ┆ 1.0                ┆ 1.0                  ┆ 0.005618         ┆ 0.000378          │\n",
       "│ d2ekna_       ┆ 1.0                ┆ 1.0                  ┆ 0.002132         ┆ 0.000548          │\n",
       "│ d2i8da1       ┆ 1.0                ┆ 1.0                  ┆ 0.05             ┆ 0.000274          │\n",
       "│ d3jqka_       ┆ 1.0                ┆ 1.0                  ┆ 0.002132         ┆ 0.000274          │\n",
       "│ d7dkzl_       ┆ 1.0                ┆ 1.0                  ┆ 1.0              ┆ 0.012085          │\n",
       "│ d7lx0l_       ┆ 1.0                ┆ 1.0                  ┆ 1.0              ┆ 0.003021          │\n",
       "└───────────────┴────────────────────┴──────────────────────┴──────────────────┴───────────────────┘"
      ]
     },
     "execution_count": 68,
     "metadata": {},
     "output_type": "execute_result"
    }
   ],
   "source": [
    "sensitivity.filter(\n",
    "    (pl.col(\"sensitivity_family\") > 0.9) & (pl.col(\"sensitivity_superfamily\") > 0.5)\n",
    ").sort('query_scop_id')"
   ]
  },
  {
   "cell_type": "markdown",
   "id": "c8b4b1ff-b4a4-4d76-93d8-ee077a95c8ca",
   "metadata": {},
   "source": [
    "## Count number of same scop per column"
   ]
  },
  {
   "cell_type": "code",
   "execution_count": 15,
   "id": "ce7ee597-518f-4a3d-9f45-8876ac8f1391",
   "metadata": {},
   "outputs": [
    {
     "data": {
      "text/html": [
       "<div><style>\n",
       ".dataframe > thead > tr,\n",
       ".dataframe > tbody > tr {\n",
       "  text-align: right;\n",
       "  white-space: pre-wrap;\n",
       "}\n",
       "</style>\n",
       "<small>shape: (5, 9)</small><table border=\"1\" class=\"dataframe\"><thead><tr><th>query_scop_id</th><th>query_family</th><th>query_superfamily</th><th>query_fold</th><th>query_class</th><th>same_family</th><th>same_superfamily</th><th>same_fold</th><th>same_class</th></tr><tr><td>str</td><td>cat</td><td>cat</td><td>cat</td><td>cat</td><td>u64</td><td>u64</td><td>u64</td><td>u64</td></tr></thead><tbody><tr><td>&quot;d2e9ja1&quot;</td><td>&quot;b.1.18.10&quot;</td><td>&quot;b.1.18&quot;</td><td>&quot;b.1&quot;</td><td>&quot;b&quot;</td><td>0</td><td>0</td><td>2</td><td>7</td></tr><tr><td>&quot;d2qxza_&quot;</td><td>&quot;b.80.1.0&quot;</td><td>&quot;b.80.1&quot;</td><td>&quot;b.80&quot;</td><td>&quot;b&quot;</td><td>0</td><td>2</td><td>2</td><td>33</td></tr><tr><td>&quot;d6pzda1&quot;</td><td>&quot;b.68.1.1&quot;</td><td>&quot;b.68.1&quot;</td><td>&quot;b.68&quot;</td><td>&quot;b&quot;</td><td>0</td><td>0</td><td>0</td><td>29</td></tr><tr><td>&quot;d2cw9a1&quot;</td><td>&quot;d.17.4.13&quot;</td><td>&quot;d.17.4&quot;</td><td>&quot;d.17&quot;</td><td>&quot;d&quot;</td><td>0</td><td>0</td><td>0</td><td>30</td></tr><tr><td>&quot;d1vj7a1&quot;</td><td>&quot;a.211.1.1&quot;</td><td>&quot;a.211.1&quot;</td><td>&quot;a.211&quot;</td><td>&quot;a&quot;</td><td>0</td><td>0</td><td>0</td><td>10</td></tr></tbody></table></div>"
      ],
      "text/plain": [
       "shape: (5, 9)\n",
       "┌───────────┬───────────┬───────────┬───────────┬───┬───────────┬───────────┬───────────┬──────────┐\n",
       "│ query_sco ┆ query_fam ┆ query_sup ┆ query_fol ┆ … ┆ same_fami ┆ same_supe ┆ same_fold ┆ same_cla │\n",
       "│ p_id      ┆ ily       ┆ erfamily  ┆ d         ┆   ┆ ly        ┆ rfamily   ┆ ---       ┆ ss       │\n",
       "│ ---       ┆ ---       ┆ ---       ┆ ---       ┆   ┆ ---       ┆ ---       ┆ u64       ┆ ---      │\n",
       "│ str       ┆ cat       ┆ cat       ┆ cat       ┆   ┆ u64       ┆ u64       ┆           ┆ u64      │\n",
       "╞═══════════╪═══════════╪═══════════╪═══════════╪═══╪═══════════╪═══════════╪═══════════╪══════════╡\n",
       "│ d2e9ja1   ┆ b.1.18.10 ┆ b.1.18    ┆ b.1       ┆ … ┆ 0         ┆ 0         ┆ 2         ┆ 7        │\n",
       "│ d2qxza_   ┆ b.80.1.0  ┆ b.80.1    ┆ b.80      ┆ … ┆ 0         ┆ 2         ┆ 2         ┆ 33       │\n",
       "│ d6pzda1   ┆ b.68.1.1  ┆ b.68.1    ┆ b.68      ┆ … ┆ 0         ┆ 0         ┆ 0         ┆ 29       │\n",
       "│ d2cw9a1   ┆ d.17.4.13 ┆ d.17.4    ┆ d.17      ┆ … ┆ 0         ┆ 0         ┆ 0         ┆ 30       │\n",
       "│ d1vj7a1   ┆ a.211.1.1 ┆ a.211.1   ┆ a.211     ┆ … ┆ 0         ┆ 0         ┆ 0         ┆ 10       │\n",
       "└───────────┴───────────┴───────────┴───────────┴───┴───────────┴───────────┴───────────┴──────────┘"
      ]
     },
     "execution_count": 15,
     "metadata": {},
     "output_type": "execute_result"
    }
   ],
   "source": [
    "same_scop_counts = multisearch.group_by([\"query_scop_id\"] + query_scop_cols).agg(\n",
    "    pl.col(same_scop_cols).sum()\n",
    ")\n",
    "\n",
    "# Subtract 1 for self-matches\n",
    "# Doing this after the fact makes sure that we have ALL 15,177 samples for\n",
    "# each analyses, otherwise they'd be unobserved\n",
    "# same_scop_counts -= 1\n",
    "\n",
    "# same_scop_bool = same_scop_counts > 0\n",
    "# same_scop_bool.columns = same_scop_bool.columns + \"_bool\"\n",
    "# same_scop_counts = pd.concat([same_scop_counts, same_scop_bool], axis=1)\n",
    "same_scop_counts.head()"
   ]
  },
  {
   "cell_type": "code",
   "execution_count": null,
   "id": "d33f9ce5-c775-4553-940a-cb5d43d5a76a",
   "metadata": {},
   "outputs": [],
   "source": []
  }
 ],
 "metadata": {
  "kernelspec": {
   "display_name": "Python [conda env:2024-kmerseek-analysis-polars]",
   "language": "python",
   "name": "conda-env-2024-kmerseek-analysis-polars-py"
  },
  "language_info": {
   "codemirror_mode": {
    "name": "ipython",
    "version": 3
   },
   "file_extension": ".py",
   "mimetype": "text/x-python",
   "name": "python",
   "nbconvert_exporter": "python",
   "pygments_lexer": "ipython3",
   "version": "3.12.7"
  }
 },
 "nbformat": 4,
 "nbformat_minor": 5
}
