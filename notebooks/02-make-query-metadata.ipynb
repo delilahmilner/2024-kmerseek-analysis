{
 "cells": [
  {
   "cell_type": "code",
   "execution_count": 2,
   "id": "f0f4db6c-e14d-4778-a4f4-05f9b28b45e4",
   "metadata": {},
   "outputs": [],
   "source": [
    "%load_ext autoreload\n",
    "%autoreload 2"
   ]
  },
  {
   "cell_type": "markdown",
   "id": "2678d5fc-682d-48b9-9cff-33f8308c63c9",
   "metadata": {},
   "source": [
    "## Imports"
   ]
  },
  {
   "cell_type": "code",
   "execution_count": 3,
   "id": "4f5b48d8-bac0-4c16-8049-33bb46b8a0e9",
   "metadata": {},
   "outputs": [],
   "source": [
    "import itertools\n",
    "import warnings\n",
    "from collections import Counter\n",
    "\n",
    "import matplotlib as mpl\n",
    "import numpy as np\n",
    "import pandas as pd\n",
    "import polars as pl\n",
    "import seaborn as sns\n",
    "from tqdm import tqdm\n",
    "\n",
    "pd.options.display.max_columns = 100\n",
    "\n",
    "mpl.rcParams[\"figure.max_open_warning\"] = 0"
   ]
  },
  {
   "cell_type": "code",
   "execution_count": 4,
   "id": "57ac6c21-422d-457a-a72e-35c5f3ef8c67",
   "metadata": {},
   "outputs": [],
   "source": [
    "assert pl.__version__ == \"1.9.0\""
   ]
  },
  {
   "cell_type": "markdown",
   "id": "9db64104-49eb-4721-b261-4a80f454b564",
   "metadata": {},
   "source": [
    "# Read in data"
   ]
  },
  {
   "cell_type": "markdown",
   "id": "eabf84d5-5e97-4557-a319-320e419f8cd8",
   "metadata": {},
   "source": [
    "## read in unfiltered data\n",
    "\n",
    "The unfiltered data uses the fixed SCOP lookups provided by FoldSeek authors"
   ]
  },
  {
   "cell_type": "code",
   "execution_count": 5,
   "id": "b674ef08-6296-4e5c-9bad-b20d07a39c75",
   "metadata": {},
   "outputs": [],
   "source": [
    "pq = \"s3://seanome-kmerseek/scope-benchmark/analysis-outputs/2024-10-09__hp_k20-60/00_cleaned_multisearch_results/scope40.multisearch.hp.k20.pq\"\n",
    "multisearch_unfiltered = pd.read_parquet(pq)"
   ]
  },
  {
   "cell_type": "markdown",
   "id": "f03c5450-46f3-427e-9201-c9e9f36d588a",
   "metadata": {},
   "source": [
    "### Set SCOP lineage column names"
   ]
  },
  {
   "cell_type": "code",
   "execution_count": 6,
   "id": "b0dff231-4308-452b-8e4e-b01ae8d879ca",
   "metadata": {},
   "outputs": [],
   "source": [
    "lineage_cols = [\"family\", \"superfamily\", \"fold\", \"class\"]\n",
    "query_scop_cols = [f\"query_{x}\" for x in lineage_cols]\n",
    "match_scop_cols = [f\"match_{x}\" for x in lineage_cols]\n",
    "\n",
    "same_scop_cols = [f\"same_{x}\" for x in lineage_cols]"
   ]
  },
  {
   "cell_type": "markdown",
   "id": "f3e2f6fe-6cff-42df-a917-3f42151eb5d5",
   "metadata": {},
   "source": [
    "### Make query metadata"
   ]
  },
  {
   "cell_type": "code",
   "execution_count": 7,
   "id": "d60d2fa5-b938-42f6-914a-45131fc33d11",
   "metadata": {
    "scrolled": true
   },
   "outputs": [
    {
     "name": "stdout",
     "output_type": "stream",
     "text": [
      "(3471675, 4)\n",
      "(15177, 4)\n"
     ]
    },
    {
     "data": {
      "text/html": [
       "<div>\n",
       "<style scoped>\n",
       "    .dataframe tbody tr th:only-of-type {\n",
       "        vertical-align: middle;\n",
       "    }\n",
       "\n",
       "    .dataframe tbody tr th {\n",
       "        vertical-align: top;\n",
       "    }\n",
       "\n",
       "    .dataframe thead th {\n",
       "        text-align: right;\n",
       "    }\n",
       "</style>\n",
       "<table border=\"1\" class=\"dataframe\">\n",
       "  <thead>\n",
       "    <tr style=\"text-align: right;\">\n",
       "      <th></th>\n",
       "      <th>query_family</th>\n",
       "      <th>query_superfamily</th>\n",
       "      <th>query_fold</th>\n",
       "      <th>query_class</th>\n",
       "    </tr>\n",
       "  </thead>\n",
       "  <tbody>\n",
       "    <tr>\n",
       "      <th>d12asa_</th>\n",
       "      <td>d.104.1.1</td>\n",
       "      <td>d.104.1</td>\n",
       "      <td>d.104</td>\n",
       "      <td>d</td>\n",
       "    </tr>\n",
       "    <tr>\n",
       "      <th>d16vpa_</th>\n",
       "      <td>d.180.1.1</td>\n",
       "      <td>d.180.1</td>\n",
       "      <td>d.180</td>\n",
       "      <td>d</td>\n",
       "    </tr>\n",
       "    <tr>\n",
       "      <th>d1914a1</th>\n",
       "      <td>d.49.1.1</td>\n",
       "      <td>d.49.1</td>\n",
       "      <td>d.49</td>\n",
       "      <td>d</td>\n",
       "    </tr>\n",
       "    <tr>\n",
       "      <th>d1914a2</th>\n",
       "      <td>d.49.1.1</td>\n",
       "      <td>d.49.1</td>\n",
       "      <td>d.49</td>\n",
       "      <td>d</td>\n",
       "    </tr>\n",
       "    <tr>\n",
       "      <th>d1a04a1</th>\n",
       "      <td>a.4.6.2</td>\n",
       "      <td>a.4.6</td>\n",
       "      <td>a.4</td>\n",
       "      <td>a</td>\n",
       "    </tr>\n",
       "  </tbody>\n",
       "</table>\n",
       "</div>"
      ],
      "text/plain": [
       "        query_family query_superfamily query_fold query_class\n",
       "d12asa_    d.104.1.1           d.104.1      d.104           d\n",
       "d16vpa_    d.180.1.1           d.180.1      d.180           d\n",
       "d1914a1     d.49.1.1            d.49.1       d.49           d\n",
       "d1914a2     d.49.1.1            d.49.1       d.49           d\n",
       "d1a04a1      a.4.6.2             a.4.6        a.4           a"
      ]
     },
     "execution_count": 7,
     "metadata": {},
     "output_type": "execute_result"
    }
   ],
   "source": [
    "query_metadata = pd.DataFrame(\n",
    "    multisearch_unfiltered[query_scop_cols].values,\n",
    "    index=multisearch_unfiltered[\"query_scop_id\"].values,\n",
    "    columns=query_scop_cols,\n",
    ")\n",
    "query_metadata = query_metadata.sort_index()\n",
    "print(query_metadata.shape)\n",
    "query_metadata = query_metadata.loc[~query_metadata.index.duplicated()]\n",
    "print(query_metadata.shape)\n",
    "query_metadata.head()"
   ]
  },
  {
   "cell_type": "markdown",
   "id": "3ad1150b-37f9-4d79-9f98-b1fc51eeec08",
   "metadata": {},
   "source": [
    "### Count number of groups per sample"
   ]
  },
  {
   "cell_type": "code",
   "execution_count": 8,
   "id": "fcc1a89b-40c7-477d-8176-cb3dea5061ab",
   "metadata": {},
   "outputs": [
    {
     "data": {
      "text/plain": [
       "dict_keys(['family', 'superfamily', 'fold', 'class'])"
      ]
     },
     "execution_count": 8,
     "metadata": {},
     "output_type": "execute_result"
    }
   ],
   "source": [
    "def count_scop_lineage(df, col):\n",
    "    return Counter(df[col])\n",
    "\n",
    "\n",
    "n_groups_per_scop_lineage = {\n",
    "    lineage: pd.Series(\n",
    "        count_scop_lineage(query_metadata, f\"query_{lineage}\"), name=f\"n_{lineage}\"\n",
    "    )\n",
    "    for lineage in lineage_cols\n",
    "}\n",
    "n_groups_per_scop_lineage.keys()\n",
    "# n_groups_per_scop_lineage"
   ]
  },
  {
   "cell_type": "code",
   "execution_count": 9,
   "id": "8ad47f1c-e93a-4be2-afae-aa9ca9edcb92",
   "metadata": {
    "scrolled": true
   },
   "outputs": [
    {
     "data": {
      "text/plain": [
       "d    3653\n",
       "a    2644\n",
       "c    4463\n",
       "b    3059\n",
       "f     332\n",
       "g     722\n",
       "e     304\n",
       "Name: n_class, dtype: int64"
      ]
     },
     "execution_count": 9,
     "metadata": {},
     "output_type": "execute_result"
    }
   ],
   "source": [
    "n_groups_per_scop_lineage[\"class\"]"
   ]
  },
  {
   "cell_type": "code",
   "execution_count": 11,
   "id": "30c91ccc-42e1-433a-a5de-0d7502f14f13",
   "metadata": {},
   "outputs": [
    {
     "data": {
      "text/html": [
       "<div>\n",
       "<style scoped>\n",
       "    .dataframe tbody tr th:only-of-type {\n",
       "        vertical-align: middle;\n",
       "    }\n",
       "\n",
       "    .dataframe tbody tr th {\n",
       "        vertical-align: top;\n",
       "    }\n",
       "\n",
       "    .dataframe thead th {\n",
       "        text-align: right;\n",
       "    }\n",
       "</style>\n",
       "<table border=\"1\" class=\"dataframe\">\n",
       "  <thead>\n",
       "    <tr style=\"text-align: right;\">\n",
       "      <th></th>\n",
       "      <th>query_family</th>\n",
       "      <th>query_superfamily</th>\n",
       "      <th>query_fold</th>\n",
       "      <th>query_class</th>\n",
       "      <th>n_family</th>\n",
       "      <th>n_superfamily</th>\n",
       "      <th>n_fold</th>\n",
       "      <th>n_class</th>\n",
       "    </tr>\n",
       "    <tr>\n",
       "      <th>query_scop_id</th>\n",
       "      <th></th>\n",
       "      <th></th>\n",
       "      <th></th>\n",
       "      <th></th>\n",
       "      <th></th>\n",
       "      <th></th>\n",
       "      <th></th>\n",
       "      <th></th>\n",
       "    </tr>\n",
       "  </thead>\n",
       "  <tbody>\n",
       "    <tr>\n",
       "      <th>d12asa_</th>\n",
       "      <td>d.104.1.1</td>\n",
       "      <td>d.104.1</td>\n",
       "      <td>d.104</td>\n",
       "      <td>d</td>\n",
       "      <td>15</td>\n",
       "      <td>29</td>\n",
       "      <td>29</td>\n",
       "      <td>3653</td>\n",
       "    </tr>\n",
       "    <tr>\n",
       "      <th>d16vpa_</th>\n",
       "      <td>d.180.1.1</td>\n",
       "      <td>d.180.1</td>\n",
       "      <td>d.180</td>\n",
       "      <td>d</td>\n",
       "      <td>1</td>\n",
       "      <td>1</td>\n",
       "      <td>1</td>\n",
       "      <td>3653</td>\n",
       "    </tr>\n",
       "    <tr>\n",
       "      <th>d1914a1</th>\n",
       "      <td>d.49.1.1</td>\n",
       "      <td>d.49.1</td>\n",
       "      <td>d.49</td>\n",
       "      <td>d</td>\n",
       "      <td>2</td>\n",
       "      <td>3</td>\n",
       "      <td>3</td>\n",
       "      <td>3653</td>\n",
       "    </tr>\n",
       "    <tr>\n",
       "      <th>d1914a2</th>\n",
       "      <td>d.49.1.1</td>\n",
       "      <td>d.49.1</td>\n",
       "      <td>d.49</td>\n",
       "      <td>d</td>\n",
       "      <td>2</td>\n",
       "      <td>3</td>\n",
       "      <td>3</td>\n",
       "      <td>3653</td>\n",
       "    </tr>\n",
       "    <tr>\n",
       "      <th>d1a04a1</th>\n",
       "      <td>a.4.6.2</td>\n",
       "      <td>a.4.6</td>\n",
       "      <td>a.4</td>\n",
       "      <td>a</td>\n",
       "      <td>5</td>\n",
       "      <td>30</td>\n",
       "      <td>425</td>\n",
       "      <td>2644</td>\n",
       "    </tr>\n",
       "  </tbody>\n",
       "</table>\n",
       "</div>"
      ],
      "text/plain": [
       "              query_family query_superfamily query_fold query_class  n_family  \\\n",
       "query_scop_id                                                                   \n",
       "d12asa_          d.104.1.1           d.104.1      d.104           d        15   \n",
       "d16vpa_          d.180.1.1           d.180.1      d.180           d         1   \n",
       "d1914a1           d.49.1.1            d.49.1       d.49           d         2   \n",
       "d1914a2           d.49.1.1            d.49.1       d.49           d         2   \n",
       "d1a04a1            a.4.6.2             a.4.6        a.4           a         5   \n",
       "\n",
       "               n_superfamily  n_fold  n_class  \n",
       "query_scop_id                                  \n",
       "d12asa_                   29      29     3653  \n",
       "d16vpa_                    1       1     3653  \n",
       "d1914a1                    3       3     3653  \n",
       "d1914a2                    3       3     3653  \n",
       "d1a04a1                   30     425     2644  "
      ]
     },
     "execution_count": 11,
     "metadata": {},
     "output_type": "execute_result"
    }
   ],
   "source": [
    "query_metadata_with_n_groups = query_metadata.copy()\n",
    "\n",
    "for lineage, series in n_groups_per_scop_lineage.items():\n",
    "    # display(series)\n",
    "    on = f\"query_{lineage}\"\n",
    "    # pd_df = pl_df.to_pandas()\n",
    "    # series = pd.Series(\n",
    "    #     index=pd_df[pd_df.columns[0]],\n",
    "    #     data=pd_df[pd_df.columns[1]].values,\n",
    "    #     name=pd_df.columns[1],\n",
    "    # )\n",
    "    query_metadata_with_n_groups = query_metadata_with_n_groups.join(series, on=on)\n",
    "query_metadata_with_n_groups.index.name = \"query_scop_id\"\n",
    "query_metadata_with_n_groups.head()"
   ]
  },
  {
   "cell_type": "code",
   "execution_count": null,
   "id": "01d24ccc-ad62-40d4-a311-ec890f60d736",
   "metadata": {},
   "outputs": [],
   "source": []
  },
  {
   "cell_type": "code",
   "execution_count": 12,
   "id": "4780eb5f-7f75-4874-843a-bc869f3a72e0",
   "metadata": {},
   "outputs": [],
   "source": [
    "query_metadata_with_n_groups.to_csv(\n",
    "    \"s3://seanome-kmerseek/scope-benchmark/reference_files/scop.e.2.08.query_metadata.csv\"\n",
    ")"
   ]
  },
  {
   "cell_type": "markdown",
   "id": "0ba6060b-2000-4275-8e89-0b4f7e5aecc6",
   "metadata": {},
   "source": [
    "### Add categories to make polars happy"
   ]
  },
  {
   "cell_type": "code",
   "execution_count": 14,
   "id": "f7ff89a6-6ca9-4fe3-8f1e-73f10f5a601e",
   "metadata": {},
   "outputs": [
    {
     "data": {
      "text/plain": [
       "query_family         category\n",
       "query_superfamily    category\n",
       "query_fold           category\n",
       "query_class          category\n",
       "n_family                int64\n",
       "n_superfamily           int64\n",
       "n_fold                  int64\n",
       "n_class                 int64\n",
       "dtype: object"
      ]
     },
     "execution_count": 14,
     "metadata": {},
     "output_type": "execute_result"
    }
   ],
   "source": [
    "for col in query_scop_cols:\n",
    "    categories = sorted(list(set(query_metadata_with_n_groups[col])))\n",
    "    query_metadata_with_n_groups[col] = pd.Categorical(query_metadata_with_n_groups[col], ordered=True, categories=categories)\n",
    "query_metadata_with_n_groups.dtypes"
   ]
  },
  {
   "cell_type": "code",
   "execution_count": 16,
   "id": "2beea51d-765e-44be-97b5-29aad9a61b15",
   "metadata": {},
   "outputs": [],
   "source": [
    "query_metadata_with_n_groups.to_parquet(\n",
    "    \"s3://seanome-kmerseek/scope-benchmark/reference_files/scop.e.2.08.query_metadata.pq\"\n",
    ")"
   ]
  },
  {
   "cell_type": "code",
   "execution_count": null,
   "id": "7a969e1e-2459-4174-86df-a64e11397a10",
   "metadata": {},
   "outputs": [],
   "source": []
  },
  {
   "cell_type": "code",
   "execution_count": null,
   "id": "4a9ca962-cffe-411f-b0ad-9c1e47ef1b91",
   "metadata": {},
   "outputs": [],
   "source": []
  },
  {
   "cell_type": "code",
   "execution_count": null,
   "id": "f83d9d66-9623-464d-8406-d137fbb2457d",
   "metadata": {},
   "outputs": [],
   "source": []
  },
  {
   "cell_type": "code",
   "execution_count": null,
   "id": "a95e690e-ae43-4137-b01f-c787dd7c39d0",
   "metadata": {},
   "outputs": [],
   "source": []
  },
  {
   "cell_type": "code",
   "execution_count": null,
   "id": "cfa15f2c-20ee-48ae-9fae-6fa6a81a37d4",
   "metadata": {},
   "outputs": [],
   "source": []
  }
 ],
 "metadata": {
  "kernelspec": {
   "display_name": "Python [conda env:2024-kmerseek-analysis-polars]",
   "language": "python",
   "name": "conda-env-2024-kmerseek-analysis-polars-py"
  },
  "language_info": {
   "codemirror_mode": {
    "name": "ipython",
    "version": 3
   },
   "file_extension": ".py",
   "mimetype": "text/x-python",
   "name": "python",
   "nbconvert_exporter": "python",
   "pygments_lexer": "ipython3",
   "version": "3.12.7"
  }
 },
 "nbformat": 4,
 "nbformat_minor": 5
}
