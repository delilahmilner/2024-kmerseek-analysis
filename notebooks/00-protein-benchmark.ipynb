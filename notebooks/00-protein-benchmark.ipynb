{
 "cells": [
  {
   "cell_type": "code",
   "execution_count": 4,
   "id": "773a46ea-cc76-490c-b1d2-5f15908256a2",
   "metadata": {},
   "outputs": [],
   "source": [
    "import pandas as pd"
   ]
  },
  {
   "cell_type": "code",
   "execution_count": 7,
   "id": "19ee6fda-5ec1-4227-bd63-f6fce8506e38",
   "metadata": {},
   "outputs": [
    {
     "name": "stdout",
     "output_type": "stream",
     "text": [
      "                           PRE multiqc/\n",
      "                           PRE pipeline_info/\n",
      "                           PRE seqkit/\n",
      "                           PRE sourmash/\n"
     ]
    }
   ],
   "source": [
    "outdir = 's3://seanome-kmerseek/scope-benchmark/pipeline-outputs/2024-10-08__protein_k5-20'\n",
    "! aws s3 ls $outdir/"
   ]
  },
  {
   "cell_type": "code",
   "execution_count": 9,
   "id": "b3a00126-775d-460d-88bd-73e27e3f9327",
   "metadata": {},
   "outputs": [
    {
     "name": "stdout",
     "output_type": "stream",
     "text": [
      "                           PRE multisearch/\n",
      "                           PRE sigs/\n"
     ]
    }
   ],
   "source": [
    "! aws s3 ls $outdir/sourmash/"
   ]
  },
  {
   "cell_type": "code",
   "execution_count": 11,
   "id": "39115efb-df01-4951-90b8-6da7dea82281",
   "metadata": {},
   "outputs": [
    {
     "name": "stdout",
     "output_type": "stream",
     "text": [
      "2024-10-09 13:29:03    0 Bytes \n",
      "2024-10-09 03:28:12    6.0 MiB astral-scopedom-seqres-gd-sel-gs-bib-40-2.08.part_001.fa--in--astral-scopedom-seqres-gd-sel-gs-bib-40-2.08.part_001.fa.protein.10.multisearch.csv\n",
      "2024-10-09 06:17:15    5.7 MiB astral-scopedom-seqres-gd-sel-gs-bib-40-2.08.part_001.fa--in--astral-scopedom-seqres-gd-sel-gs-bib-40-2.08.part_001.fa.protein.11.multisearch.csv\n",
      "2024-10-09 04:22:24    5.5 MiB astral-scopedom-seqres-gd-sel-gs-bib-40-2.08.part_001.fa--in--astral-scopedom-seqres-gd-sel-gs-bib-40-2.08.part_001.fa.protein.12.multisearch.csv\n",
      "2024-10-09 08:07:15    5.5 MiB astral-scopedom-seqres-gd-sel-gs-bib-40-2.08.part_001.fa--in--astral-scopedom-seqres-gd-sel-gs-bib-40-2.08.part_001.fa.protein.13.multisearch.csv\n",
      "2024-10-09 07:10:35    5.4 MiB astral-scopedom-seqres-gd-sel-gs-bib-40-2.08.part_001.fa--in--astral-scopedom-seqres-gd-sel-gs-bib-40-2.08.part_001.fa.protein.14.multisearch.csv\n",
      "2024-10-09 12:35:34    5.4 MiB astral-scopedom-seqres-gd-sel-gs-bib-40-2.08.part_001.fa--in--astral-scopedom-seqres-gd-sel-gs-bib-40-2.08.part_001.fa.protein.15.multisearch.csv\n",
      "2024-10-09 09:54:25    5.4 MiB astral-scopedom-seqres-gd-sel-gs-bib-40-2.08.part_001.fa--in--astral-scopedom-seqres-gd-sel-gs-bib-40-2.08.part_001.fa.protein.16.multisearch.csv\n",
      "2024-10-09 08:57:55    5.4 MiB astral-scopedom-seqres-gd-sel-gs-bib-40-2.08.part_001.fa--in--astral-scopedom-seqres-gd-sel-gs-bib-40-2.08.part_001.fa.protein.17.multisearch.csv\n",
      "2024-10-09 11:36:24    5.4 MiB astral-scopedom-seqres-gd-sel-gs-bib-40-2.08.part_001.fa--in--astral-scopedom-seqres-gd-sel-gs-bib-40-2.08.part_001.fa.protein.18.multisearch.csv\n",
      "2024-10-09 13:29:03    5.4 MiB astral-scopedom-seqres-gd-sel-gs-bib-40-2.08.part_001.fa--in--astral-scopedom-seqres-gd-sel-gs-bib-40-2.08.part_001.fa.protein.19.multisearch.csv\n",
      "2024-10-09 10:43:33    5.4 MiB astral-scopedom-seqres-gd-sel-gs-bib-40-2.08.part_001.fa--in--astral-scopedom-seqres-gd-sel-gs-bib-40-2.08.part_001.fa.protein.20.multisearch.csv\n",
      "2024-10-09 00:40:23    2.3 GiB astral-scopedom-seqres-gd-sel-gs-bib-40-2.08.part_001.fa--in--astral-scopedom-seqres-gd-sel-gs-bib-40-2.08.part_001.fa.protein.5.multisearch.csv\n",
      "2024-10-09 02:30:23  175.0 MiB astral-scopedom-seqres-gd-sel-gs-bib-40-2.08.part_001.fa--in--astral-scopedom-seqres-gd-sel-gs-bib-40-2.08.part_001.fa.protein.6.multisearch.csv\n",
      "2024-10-09 00:24:32   20.7 MiB astral-scopedom-seqres-gd-sel-gs-bib-40-2.08.part_001.fa--in--astral-scopedom-seqres-gd-sel-gs-bib-40-2.08.part_001.fa.protein.7.multisearch.csv\n",
      "2024-10-09 05:21:54    8.4 MiB astral-scopedom-seqres-gd-sel-gs-bib-40-2.08.part_001.fa--in--astral-scopedom-seqres-gd-sel-gs-bib-40-2.08.part_001.fa.protein.8.multisearch.csv\n",
      "2024-10-09 01:40:13    6.6 MiB astral-scopedom-seqres-gd-sel-gs-bib-40-2.08.part_001.fa--in--astral-scopedom-seqres-gd-sel-gs-bib-40-2.08.part_001.fa.protein.9.multisearch.csv\n"
     ]
    }
   ],
   "source": [
    "! aws s3 ls --human-readable $outdir/sourmash/multisearch/"
   ]
  },
  {
   "cell_type": "code",
   "execution_count": 12,
   "id": "a4c93a41-ad12-4e65-b8ab-064a82280df7",
   "metadata": {},
   "outputs": [
    {
     "name": "stdout",
     "output_type": "stream",
     "text": [
      "(16725, 13)\n"
     ]
    },
    {
     "data": {
      "text/html": [
       "<div>\n",
       "<style scoped>\n",
       "    .dataframe tbody tr th:only-of-type {\n",
       "        vertical-align: middle;\n",
       "    }\n",
       "\n",
       "    .dataframe tbody tr th {\n",
       "        vertical-align: top;\n",
       "    }\n",
       "\n",
       "    .dataframe thead th {\n",
       "        text-align: right;\n",
       "    }\n",
       "</style>\n",
       "<table border=\"1\" class=\"dataframe\">\n",
       "  <thead>\n",
       "    <tr style=\"text-align: right;\">\n",
       "      <th></th>\n",
       "      <th>query_name</th>\n",
       "      <th>query_md5</th>\n",
       "      <th>match_name</th>\n",
       "      <th>match_md5</th>\n",
       "      <th>containment</th>\n",
       "      <th>max_containment</th>\n",
       "      <th>jaccard</th>\n",
       "      <th>intersect_hashes</th>\n",
       "      <th>prob_overlap</th>\n",
       "      <th>prob_overlap_adjusted</th>\n",
       "      <th>containment_adjusted</th>\n",
       "      <th>containment_adjusted_log10</th>\n",
       "      <th>tf_idf_score</th>\n",
       "    </tr>\n",
       "  </thead>\n",
       "  <tbody>\n",
       "    <tr>\n",
       "      <th>0</th>\n",
       "      <td>d4j42a_ a.25.3.0 (A:) automated matches {Bacil...</td>\n",
       "      <td>7b293810423d129c1c6e932adbacc00d</td>\n",
       "      <td>d4j42a_ a.25.3.0 (A:) automated matches {Bacil...</td>\n",
       "      <td>7b293810423d129c1c6e932adbacc00d</td>\n",
       "      <td>1.0</td>\n",
       "      <td>1.0</td>\n",
       "      <td>1.000000</td>\n",
       "      <td>71.0</td>\n",
       "      <td>9.971266e-12</td>\n",
       "      <td>0.002297</td>\n",
       "      <td>435.389380</td>\n",
       "      <td>2.638878</td>\n",
       "      <td>9.934455</td>\n",
       "    </tr>\n",
       "    <tr>\n",
       "      <th>1</th>\n",
       "      <td>d3gcea_ b.33.1.0 (A:) automated matches {Nocar...</td>\n",
       "      <td>0be9ab661c03aab8b73841b2727198c4</td>\n",
       "      <td>d3gcea_ b.33.1.0 (A:) automated matches {Nocar...</td>\n",
       "      <td>0be9ab661c03aab8b73841b2727198c4</td>\n",
       "      <td>1.0</td>\n",
       "      <td>1.0</td>\n",
       "      <td>1.000000</td>\n",
       "      <td>95.0</td>\n",
       "      <td>1.334183e-11</td>\n",
       "      <td>0.003073</td>\n",
       "      <td>325.396274</td>\n",
       "      <td>2.512413</td>\n",
       "      <td>9.934455</td>\n",
       "    </tr>\n",
       "    <tr>\n",
       "      <th>2</th>\n",
       "      <td>d1dlwa_ a.1.1.1 (A:) Protozoan/bacterial hemog...</td>\n",
       "      <td>d7880d90a67ec70b21f3f15b43a8051d</td>\n",
       "      <td>d1dlwa_ a.1.1.1 (A:) Protozoan/bacterial hemog...</td>\n",
       "      <td>d7880d90a67ec70b21f3f15b43a8051d</td>\n",
       "      <td>1.0</td>\n",
       "      <td>1.0</td>\n",
       "      <td>1.000000</td>\n",
       "      <td>107.0</td>\n",
       "      <td>1.502712e-11</td>\n",
       "      <td>0.003461</td>\n",
       "      <td>288.903234</td>\n",
       "      <td>2.460752</td>\n",
       "      <td>9.934455</td>\n",
       "    </tr>\n",
       "    <tr>\n",
       "      <th>3</th>\n",
       "      <td>d3tewa2 b.179.1.1 (A:15-225) PA14 {Bacillus an...</td>\n",
       "      <td>1b36b1ba7e30ace7d13c10010c4314b8</td>\n",
       "      <td>d3tewa2 b.179.1.1 (A:15-225) PA14 {Bacillus an...</td>\n",
       "      <td>1b36b1ba7e30ace7d13c10010c4314b8</td>\n",
       "      <td>1.0</td>\n",
       "      <td>1.0</td>\n",
       "      <td>1.000000</td>\n",
       "      <td>202.0</td>\n",
       "      <td>4.648576e-11</td>\n",
       "      <td>0.010708</td>\n",
       "      <td>93.391680</td>\n",
       "      <td>1.970308</td>\n",
       "      <td>9.848143</td>\n",
       "    </tr>\n",
       "    <tr>\n",
       "      <th>4</th>\n",
       "      <td>d3j9ca1 b.179.1.1 (A:174-225) PA14 {Bacillus a...</td>\n",
       "      <td>95b4a9065fa94dbfba9f10f72beb90df</td>\n",
       "      <td>d3tewa2 b.179.1.1 (A:15-225) PA14 {Bacillus an...</td>\n",
       "      <td>1b36b1ba7e30ace7d13c10010c4314b8</td>\n",
       "      <td>1.0</td>\n",
       "      <td>1.0</td>\n",
       "      <td>0.212871</td>\n",
       "      <td>43.0</td>\n",
       "      <td>2.415574e-11</td>\n",
       "      <td>0.005564</td>\n",
       "      <td>179.724686</td>\n",
       "      <td>2.254608</td>\n",
       "      <td>9.528990</td>\n",
       "    </tr>\n",
       "  </tbody>\n",
       "</table>\n",
       "</div>"
      ],
      "text/plain": [
       "                                          query_name  \\\n",
       "0  d4j42a_ a.25.3.0 (A:) automated matches {Bacil...   \n",
       "1  d3gcea_ b.33.1.0 (A:) automated matches {Nocar...   \n",
       "2  d1dlwa_ a.1.1.1 (A:) Protozoan/bacterial hemog...   \n",
       "3  d3tewa2 b.179.1.1 (A:15-225) PA14 {Bacillus an...   \n",
       "4  d3j9ca1 b.179.1.1 (A:174-225) PA14 {Bacillus a...   \n",
       "\n",
       "                          query_md5  \\\n",
       "0  7b293810423d129c1c6e932adbacc00d   \n",
       "1  0be9ab661c03aab8b73841b2727198c4   \n",
       "2  d7880d90a67ec70b21f3f15b43a8051d   \n",
       "3  1b36b1ba7e30ace7d13c10010c4314b8   \n",
       "4  95b4a9065fa94dbfba9f10f72beb90df   \n",
       "\n",
       "                                          match_name  \\\n",
       "0  d4j42a_ a.25.3.0 (A:) automated matches {Bacil...   \n",
       "1  d3gcea_ b.33.1.0 (A:) automated matches {Nocar...   \n",
       "2  d1dlwa_ a.1.1.1 (A:) Protozoan/bacterial hemog...   \n",
       "3  d3tewa2 b.179.1.1 (A:15-225) PA14 {Bacillus an...   \n",
       "4  d3tewa2 b.179.1.1 (A:15-225) PA14 {Bacillus an...   \n",
       "\n",
       "                          match_md5  containment  max_containment   jaccard  \\\n",
       "0  7b293810423d129c1c6e932adbacc00d          1.0              1.0  1.000000   \n",
       "1  0be9ab661c03aab8b73841b2727198c4          1.0              1.0  1.000000   \n",
       "2  d7880d90a67ec70b21f3f15b43a8051d          1.0              1.0  1.000000   \n",
       "3  1b36b1ba7e30ace7d13c10010c4314b8          1.0              1.0  1.000000   \n",
       "4  1b36b1ba7e30ace7d13c10010c4314b8          1.0              1.0  0.212871   \n",
       "\n",
       "   intersect_hashes  prob_overlap  prob_overlap_adjusted  \\\n",
       "0              71.0  9.971266e-12               0.002297   \n",
       "1              95.0  1.334183e-11               0.003073   \n",
       "2             107.0  1.502712e-11               0.003461   \n",
       "3             202.0  4.648576e-11               0.010708   \n",
       "4              43.0  2.415574e-11               0.005564   \n",
       "\n",
       "   containment_adjusted  containment_adjusted_log10  tf_idf_score  \n",
       "0            435.389380                    2.638878      9.934455  \n",
       "1            325.396274                    2.512413      9.934455  \n",
       "2            288.903234                    2.460752      9.934455  \n",
       "3             93.391680                    1.970308      9.848143  \n",
       "4            179.724686                    2.254608      9.528990  "
      ]
     },
     "execution_count": 12,
     "metadata": {},
     "output_type": "execute_result"
    }
   ],
   "source": [
    "multisearch = pd.read_csv(f'{outdir}/sourmash/multisearch/astral-scopedom-seqres-gd-sel-gs-bib-40-2.08.part_001.fa--in--astral-scopedom-seqres-gd-sel-gs-bib-40-2.08.part_001.fa.protein.10.multisearch.csv')\n",
    "print(multisearch.shape)\n",
    "multisearch.head()"
   ]
  },
  {
   "cell_type": "markdown",
   "id": "eef94a46-8ed5-41ad-bde7-16d99c2981bf",
   "metadata": {},
   "source": [
    "## Use fixed SCOP lookup file from Foldseek paper"
   ]
  },
  {
   "cell_type": "code",
   "execution_count": 16,
   "id": "bb76c369-87b7-45ee-a3c6-19365b1b8fb2",
   "metadata": {},
   "outputs": [
    {
     "name": "stdout",
     "output_type": "stream",
     "text": [
      "(11211, 2)\n"
     ]
    },
    {
     "data": {
      "text/html": [
       "<div>\n",
       "<style scoped>\n",
       "    .dataframe tbody tr th:only-of-type {\n",
       "        vertical-align: middle;\n",
       "    }\n",
       "\n",
       "    .dataframe tbody tr th {\n",
       "        vertical-align: top;\n",
       "    }\n",
       "\n",
       "    .dataframe thead th {\n",
       "        text-align: right;\n",
       "    }\n",
       "</style>\n",
       "<table border=\"1\" class=\"dataframe\">\n",
       "  <thead>\n",
       "    <tr style=\"text-align: right;\">\n",
       "      <th></th>\n",
       "      <th>scop_id</th>\n",
       "      <th>scop_class</th>\n",
       "    </tr>\n",
       "  </thead>\n",
       "  <tbody>\n",
       "    <tr>\n",
       "      <th>0</th>\n",
       "      <td>d1dlwa_</td>\n",
       "      <td>a.1.1.1</td>\n",
       "    </tr>\n",
       "    <tr>\n",
       "      <th>1</th>\n",
       "      <td>d2gkma_</td>\n",
       "      <td>a.1.1.1</td>\n",
       "    </tr>\n",
       "    <tr>\n",
       "      <th>2</th>\n",
       "      <td>d2qrwa_</td>\n",
       "      <td>a.1.1.1</td>\n",
       "    </tr>\n",
       "    <tr>\n",
       "      <th>3</th>\n",
       "      <td>d1s69a_</td>\n",
       "      <td>a.1.1.1</td>\n",
       "    </tr>\n",
       "    <tr>\n",
       "      <th>4</th>\n",
       "      <td>d2bkma_</td>\n",
       "      <td>a.1.1.1</td>\n",
       "    </tr>\n",
       "  </tbody>\n",
       "</table>\n",
       "</div>"
      ],
      "text/plain": [
       "   scop_id scop_class\n",
       "0  d1dlwa_    a.1.1.1\n",
       "1  d2gkma_    a.1.1.1\n",
       "2  d2qrwa_    a.1.1.1\n",
       "3  d1s69a_    a.1.1.1\n",
       "4  d2bkma_    a.1.1.1"
      ]
     },
     "execution_count": 16,
     "metadata": {},
     "output_type": "execute_result"
    }
   ],
   "source": [
    "scop_fixed = pd.read_csv('https://raw.githubusercontent.com/steineggerlab/foldseek-analysis/refs/heads/main/scopbenchmark/data/scop_lookup.fix.tsv', sep='\\t', header=None, names=['scop_id', 'scop_class'])\n",
    "print(scop_fixed.shape)\n",
    "scop_fixed.head()"
   ]
  },
  {
   "cell_type": "code",
   "execution_count": null,
   "id": "f529540f-4c51-487a-93d6-6f241f4371cf",
   "metadata": {},
   "outputs": [],
   "source": []
  }
 ],
 "metadata": {
  "kernelspec": {
   "display_name": "Python [conda env:2024-kmerseek-analysis]",
   "language": "python",
   "name": "conda-env-2024-kmerseek-analysis-py"
  },
  "language_info": {
   "codemirror_mode": {
    "name": "ipython",
    "version": 3
   },
   "file_extension": ".py",
   "mimetype": "text/x-python",
   "name": "python",
   "nbconvert_exporter": "python",
   "pygments_lexer": "ipython3",
   "version": "3.13.0"
  }
 },
 "nbformat": 4,
 "nbformat_minor": 5
}
