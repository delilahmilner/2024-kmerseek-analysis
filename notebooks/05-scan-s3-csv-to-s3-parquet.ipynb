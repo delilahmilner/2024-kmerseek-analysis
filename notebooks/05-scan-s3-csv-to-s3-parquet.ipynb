{
 "cells": [
  {
   "cell_type": "code",
   "execution_count": 2,
   "id": "74768072-fc94-4e7f-82a7-5cfb6ce55bba",
   "metadata": {
    "execution": {
     "iopub.execute_input": "2024-11-07T22:22:59.800212Z",
     "iopub.status.busy": "2024-11-07T22:22:59.799827Z",
     "iopub.status.idle": "2024-11-07T22:23:02.158295Z",
     "shell.execute_reply": "2024-11-07T22:23:02.157956Z",
     "shell.execute_reply.started": "2024-11-07T22:22:59.800198Z"
    }
   },
   "outputs": [],
   "source": [
    "import boto3\n",
    "import polars as pl\n",
    "\n",
    "pl.Config.set_verbose(True)\n",
    "\n",
    "import process_scop_sourmash_multisearch_polars\n",
    "\n",
    "# Handwritten local modules\n",
    "from polars_utils import scan_csv_sink_parquet, sink_parquet"
   ]
  },
  {
   "cell_type": "code",
   "execution_count": 3,
   "id": "76c826c2-1902-45b8-bad3-566e3ce8385d",
   "metadata": {
    "execution": {
     "iopub.execute_input": "2024-11-07T22:23:02.159199Z",
     "iopub.status.busy": "2024-11-07T22:23:02.158853Z",
     "iopub.status.idle": "2024-11-07T22:23:02.246500Z",
     "shell.execute_reply": "2024-11-07T22:23:02.246194Z",
     "shell.execute_reply.started": "2024-11-07T22:23:02.159187Z"
    }
   },
   "outputs": [],
   "source": [
    "s3 = boto3.resource(\"s3\")"
   ]
  },
  {
   "cell_type": "code",
   "execution_count": 4,
   "id": "7d934996-2e36-4bb3-9bc4-be6068f09a6d",
   "metadata": {
    "execution": {
     "iopub.execute_input": "2024-11-07T22:23:02.246967Z",
     "iopub.status.busy": "2024-11-07T22:23:02.246860Z",
     "iopub.status.idle": "2024-11-07T22:23:02.248651Z",
     "shell.execute_reply": "2024-11-07T22:23:02.248426Z",
     "shell.execute_reply.started": "2024-11-07T22:23:02.246957Z"
    }
   },
   "outputs": [],
   "source": [
    "# !pip install boto3"
   ]
  },
  {
   "cell_type": "code",
   "execution_count": 5,
   "id": "2ed3dc68-0eb5-4504-9097-1c38f72090cd",
   "metadata": {
    "execution": {
     "iopub.execute_input": "2024-11-07T22:23:02.249357Z",
     "iopub.status.busy": "2024-11-07T22:23:02.249196Z",
     "iopub.status.idle": "2024-11-07T22:23:02.252352Z",
     "shell.execute_reply": "2024-11-07T22:23:02.252140Z",
     "shell.execute_reply.started": "2024-11-07T22:23:02.249348Z"
    }
   },
   "outputs": [],
   "source": [
    "csv = \"s3://seanome-kmerseek/scope-benchmark/pipeline-outputs/2024-10-09__hp_k20-60/sourmash/multisearch/astral-scopedom-seqres-gd-sel-gs-bib-40-2.08.part_001.fa--in--astral-scopedom-seqres-gd-sel-gs-bib-40-2.08.part_001.fa.hp.10.multisearch.csv\""
   ]
  },
  {
   "cell_type": "code",
   "execution_count": 6,
   "id": "80ddae7b-8598-45ec-99e7-98332ecc26b5",
   "metadata": {
    "execution": {
     "iopub.execute_input": "2024-11-07T22:23:02.252718Z",
     "iopub.status.busy": "2024-11-07T22:23:02.252623Z",
     "iopub.status.idle": "2024-11-07T22:23:02.255851Z",
     "shell.execute_reply": "2024-11-07T22:23:02.255641Z",
     "shell.execute_reply.started": "2024-11-07T22:23:02.252710Z"
    }
   },
   "outputs": [],
   "source": [
    "# apq = scan_csv_sink_parquet(csv, verbose=True)\n",
    "# pq"
   ]
  },
  {
   "cell_type": "markdown",
   "id": "b5871a79-9cc2-4158-8ede-5bd5b18563bc",
   "metadata": {},
   "source": [
    "### Look at the difference in file sizes between the CSV and parquet files"
   ]
  },
  {
   "cell_type": "code",
   "execution_count": 7,
   "id": "c92cacc5-4397-4070-80eb-b49da969cde9",
   "metadata": {
    "execution": {
     "iopub.execute_input": "2024-11-07T22:23:02.256189Z",
     "iopub.status.busy": "2024-11-07T22:23:02.256101Z",
     "iopub.status.idle": "2024-11-07T22:23:03.364684Z",
     "shell.execute_reply": "2024-11-07T22:23:03.364280Z",
     "shell.execute_reply.started": "2024-11-07T22:23:02.256181Z"
    }
   },
   "outputs": [
    {
     "name": "stdout",
     "output_type": "stream",
     "text": [
      "2024-10-11 23:54:22   87.9 GiB astral-scopedom-seqres-gd-sel-gs-bib-40-2.08.part_001.fa--in--astral-scopedom-seqres-gd-sel-gs-bib-40-2.08.part_001.fa.hp.10.multisearch.csv\n"
     ]
    }
   ],
   "source": [
    "! aws s3 ls --human-readable $csv"
   ]
  },
  {
   "cell_type": "code",
   "execution_count": 8,
   "id": "963651a6-eaa6-467a-a843-fa183c2bcf1b",
   "metadata": {
    "execution": {
     "iopub.execute_input": "2024-11-07T22:23:03.365336Z",
     "iopub.status.busy": "2024-11-07T22:23:03.365172Z",
     "iopub.status.idle": "2024-11-07T22:23:04.801928Z",
     "shell.execute_reply": "2024-11-07T22:23:04.801506Z",
     "shell.execute_reply.started": "2024-11-07T22:23:03.365323Z"
    }
   },
   "outputs": [
    {
     "name": "stdout",
     "output_type": "stream",
     "text": [
      "query_name,query_md5,match_name,match_md5,containment,max_containment,jaccard,intersect_hashes,prob_overlap,prob_overlap_adjusted,containment_adjusted,containment_adjusted_log10,tf_idf_score\n",
      "d1dlwa_ a.1.1.1 (A:) Protozoan/bacterial hemoglobin {Ciliate (Paramecium caudatum) [TaxId: 5885]},26fce7d25101257fca79d052ec7a19c5,d3gcea_ b.33.1.0 (A:) automated matches {Nocardioides aromaticivorans [TaxId: 200618]},400e6c363be8bb5a88c54928073b54c6,0.13333333333333333,0.175,0.08187134502923976,14.0,0.00002055079627314157,4733.697725563677,0.000028166845680341016,-4.5502617856136185,0.3422001829979208\n",
      "\"d2gkma_ a.1.1.1 (A:) Protozoan/bacterial hemoglobin {Mycobacterium tuberculosis, HbN [TaxId: 1773]}\",8e68936d4b4c7df11076541fdc12818d,d3gcea_ b.33.1.0 (A:) automated matches {Nocardioides aromaticivorans [TaxId: 200618]},400e6c363be8bb5a88c54928073b54c6,0.18018018018018017,0.25,0.11695906432748537,20.0,0.000026938530809718366,6205.056988017975,0.000029037635033507323,-4.537038757590477,0.47784874417789136\n",
      "\"d1ngka_ a.1.1.1 (A:) Protozoan/bacterial hemoglobin {Mycobacterium tuberculosis, HbO [TaxId: 1773]}\",ee99ff865a181da365fd2b7e380d1ef4,d3gcea_ b.33.1.0 (A:) automated matches {Nocardioides aromaticivorans [TaxId: 200618]},400e6c363be8bb5a88c54928073b54c6,0.07142857142857142,0.1,0.043478260869565216,8.0,0.000011271451767976541,2596.281179995116,0.0000275118781351355,-4.560479760904981,0.17213909439405517\n",
      "d2bkma_ a.1.1.1 (A:) automated matches {Geobacillus stearothermophilus [TaxId: 1422]},971fec7764919240ea56550590c7c09b,d3gcea_ b.33.1.0 (A:) automated matches {Nocardioides aromaticivorans [TaxId: 200618]},400e6c363be8bb5a88c54928073b54c6,0.15178571428571427,0.2125,0.09714285714285714,17.0,0.000021502632536317173,4952.944955413938,0.00003064554838627899,-4.513632602766626,0.39439446722281774\n",
      "d4i0va_ a.1.1.1 (A:) automated matches {Synechococcus sp. [TaxId: 32049]},3365a28682703d9c7f67c734f1bb7479,d3gcea_ b.33.1.0 (A:) automated matches {Nocardioides aromaticivorans [TaxId: 200618]},400e6c363be8bb5a88c54928073b54c6,0.06422018348623854,0.0875,0.038461538461538464,7.0,8.8397814688197e-6,2036.1670115975016,0.0000315397426244784,-4.501141854990149,0.15627294056101132\n",
      "\"d1asha_ a.1.1.2 (A:) Ascaris hemoglobin, domain 1 {Pig roundworm (Ascaris suum) [TaxId: 6253]}\",26da02c0e70056ef07230b49a6f0d26a,d3gcea_ b.33.1.0 (A:) automated matches {Nocardioides aromaticivorans [TaxId: 200618]},400e6c363be8bb5a88c54928073b54c6,0.11666666666666667,0.175,0.07526881720430108,14.0,0.000016476975176647633,3795.328360089026,0.000030739544934639085,-4.512302566043756,0.2384115522230015\n",
      "d2dc3a_ a.1.1.2 (A:) Cytoglobin {Human (Homo sapiens) [TaxId: 9606]},2191fc99da1820f26c5406df5bcdb63b,d3gcea_ b.33.1.0 (A:) automated matches {Nocardioides aromaticivorans [TaxId: 200618]},400e6c363be8bb5a88c54928073b54c6,0.09523809523809523,0.175,0.06572769953051644,14.0,0.000023014618989600136,5301.217924493132,0.000017965323552926996,-4.745564956806928,0.2032214802329215\n",
      "d4hswa_ a.1.1.2 (A:) Dehaloperoxidase {Amphitrite ornata [TaxId: 129555]},0fec36f953b94fde3ee58d82f89ef3b5,d3gcea_ b.33.1.0 (A:) automated matches {Nocardioides aromaticivorans [TaxId: 200618]},400e6c363be8bb5a88c54928073b54c6,0.11382113821138211,0.175,0.07407407407407407,14.0,0.000018564433442604427,4276.156271301549,0.00002661762830682003,-4.5748306437955195,0.2788725157353147\n",
      "\"d1ecaa_ a.1.1.2 (A:) Erythrocruorin {Midge (Chironomus thummi thummi), fraction III [TaxId: 7154]}\",fa54f6bd9a5ce6715ecf3f217f488ffe,d3gcea_ b.33.1.0 (A:) automated matches {Nocardioides aromaticivorans [TaxId: 200618]},400e6c363be8bb5a88c54928073b54c6,0.14049586776859505,0.2125,0.09239130434782608,17.0,0.000023956239480141222,5518.112039697998,0.000025460858126447952,-4.594126963082179,0.351130003598395\n",
      "download failed: s3://seanome-kmerseek/scope-benchmark/pipeline-outputs/2024-10-09__hp_k20-60/sourmash/multisearch/astral-scopedom-seqres-gd-sel-gs-bib-40-2.08.part_001.fa--in--astral-scopedom-seqres-gd-sel-gs-bib-40-2.08.part_001.fa.hp.10.multisearch.csv to - [Errno 32] Broken pipe\n"
     ]
    }
   ],
   "source": [
    "! aws s3 cp $csv - | head"
   ]
  },
  {
   "cell_type": "code",
   "execution_count": 9,
   "id": "8890c289-d244-44e0-9d26-5f31cadde6c9",
   "metadata": {
    "execution": {
     "iopub.execute_input": "2024-11-07T22:23:04.802556Z",
     "iopub.status.busy": "2024-11-07T22:23:04.802420Z",
     "iopub.status.idle": "2024-11-07T22:23:05.428670Z",
     "shell.execute_reply": "2024-11-07T22:23:05.428282Z",
     "shell.execute_reply.started": "2024-11-07T22:23:04.802541Z"
    }
   },
   "outputs": [
    {
     "name": "stdout",
     "output_type": "stream",
     "text": [
      "2024-10-08 22:27:48 seanome-kmerseek\n",
      "2024-10-08 22:25:14 seanome-seqera-nextflow-work\n"
     ]
    }
   ],
   "source": [
    "! aws s3 ls --human-readable $pq"
   ]
  },
  {
   "cell_type": "markdown",
   "id": "510a989f-ac1c-4a19-90ca-552629dd2f2c",
   "metadata": {},
   "source": [
    "# Apply to all hp files"
   ]
  },
  {
   "cell_type": "markdown",
   "id": "d9a35971-0e7e-4152-aba0-07b65cc2439e",
   "metadata": {},
   "source": [
    "## Read metadata"
   ]
  },
  {
   "cell_type": "markdown",
   "id": "e0a1a123-01de-4902-b4f0-bfe37711d65b",
   "metadata": {},
   "source": [
    "### Read Query Metadata"
   ]
  },
  {
   "cell_type": "code",
   "execution_count": 10,
   "id": "86ca4902-d6d4-4a67-b403-5af756090b08",
   "metadata": {
    "execution": {
     "iopub.execute_input": "2024-11-07T22:23:05.429308Z",
     "iopub.status.busy": "2024-11-07T22:23:05.429186Z",
     "iopub.status.idle": "2024-11-07T22:23:05.830200Z",
     "shell.execute_reply": "2024-11-07T22:23:05.829920Z",
     "shell.execute_reply.started": "2024-11-07T22:23:05.429294Z"
    }
   },
   "outputs": [
    {
     "name": "stderr",
     "output_type": "stream",
     "text": [
      "Async thread count: 4\n",
      "/home/ec2-user/miniconda3/envs/2024-kmerseek-analysis-polars/lib/python3.12/site-packages/IPython/core/formatters.py:347: UserWarning: '(default_)region' not set; polars will try to get it from bucket\n",
      "\n",
      "Set the region manually to silence this warning.\n",
      "  return method()\n"
     ]
    },
    {
     "data": {
      "text/html": [
       "<h4>NAIVE QUERY PLAN</h4><p>run <b>LazyFrame.show_graph()</b> to see the optimized version</p><?xml version=\"1.0\" encoding=\"UTF-8\" standalone=\"no\"?>\n",
       "<!DOCTYPE svg PUBLIC \"-//W3C//DTD SVG 1.1//EN\"\n",
       " \"http://www.w3.org/Graphics/SVG/1.1/DTD/svg11.dtd\">\n",
       "<!-- Generated by graphviz version 2.44.0 (0)\n",
       " -->\n",
       "<!-- Title: polars_query Pages: 1 -->\n",
       "<svg width=\"672pt\" height=\"46pt\"\n",
       " viewBox=\"0.00 0.00 672.00 46.00\" xmlns=\"http://www.w3.org/2000/svg\" xmlns:xlink=\"http://www.w3.org/1999/xlink\">\n",
       "<g id=\"graph0\" class=\"graph\" transform=\"scale(1 1) rotate(0) translate(4 42)\">\n",
       "<title>polars_query</title>\n",
       "<polygon fill=\"white\" stroke=\"transparent\" points=\"-4,4 -4,-42 668,-42 668,4 -4,4\"/>\n",
       "<!-- p1 -->\n",
       "<g id=\"node1\" class=\"node\">\n",
       "<title>p1</title>\n",
       "<polygon fill=\"none\" stroke=\"black\" points=\"664,-38 0,-38 0,0 664,0 664,-38\"/>\n",
       "<text text-anchor=\"middle\" x=\"332\" y=\"-22.8\" font-family=\"Times-Roman\" font-size=\"14.00\">Parquet SCAN [s3://seanome&#45;kmerseek/scope&#45;benchmark/reference_files/scop.e.2.08.query_metadata.pq]</text>\n",
       "<text text-anchor=\"middle\" x=\"332\" y=\"-7.8\" font-family=\"Times-Roman\" font-size=\"14.00\">π */10;</text>\n",
       "</g>\n",
       "</g>\n",
       "</svg>\n"
      ],
      "text/plain": [
       "<LazyFrame at 0x7F17441273B0>"
      ]
     },
     "execution_count": 10,
     "metadata": {},
     "output_type": "execute_result"
    }
   ],
   "source": [
    "query_metadata = pl.scan_parquet(\n",
    "    \"s3://seanome-kmerseek/scope-benchmark/reference_files/scop.e.2.08.query_metadata.pq\"\n",
    ")\n",
    "query_metadata"
   ]
  },
  {
   "cell_type": "markdown",
   "id": "b5344e99-2746-4dcc-9e75-b1ac5880b060",
   "metadata": {},
   "source": [
    "### Read match metadata"
   ]
  },
  {
   "cell_type": "code",
   "execution_count": 11,
   "id": "f0991ef9-51b2-4346-9472-79ab08625f38",
   "metadata": {
    "execution": {
     "iopub.execute_input": "2024-11-07T22:23:05.831265Z",
     "iopub.status.busy": "2024-11-07T22:23:05.831152Z",
     "iopub.status.idle": "2024-11-07T22:23:05.940132Z",
     "shell.execute_reply": "2024-11-07T22:23:05.939868Z",
     "shell.execute_reply.started": "2024-11-07T22:23:05.831255Z"
    }
   },
   "outputs": [
    {
     "data": {
      "text/html": [
       "<h4>NAIVE QUERY PLAN</h4><p>run <b>LazyFrame.show_graph()</b> to see the optimized version</p><?xml version=\"1.0\" encoding=\"UTF-8\" standalone=\"no\"?>\n",
       "<!DOCTYPE svg PUBLIC \"-//W3C//DTD SVG 1.1//EN\"\n",
       " \"http://www.w3.org/Graphics/SVG/1.1/DTD/svg11.dtd\">\n",
       "<!-- Generated by graphviz version 2.44.0 (0)\n",
       " -->\n",
       "<!-- Title: polars_query Pages: 1 -->\n",
       "<svg width=\"675pt\" height=\"46pt\"\n",
       " viewBox=\"0.00 0.00 675.00 46.00\" xmlns=\"http://www.w3.org/2000/svg\" xmlns:xlink=\"http://www.w3.org/1999/xlink\">\n",
       "<g id=\"graph0\" class=\"graph\" transform=\"scale(1 1) rotate(0) translate(4 42)\">\n",
       "<title>polars_query</title>\n",
       "<polygon fill=\"white\" stroke=\"transparent\" points=\"-4,4 -4,-42 671,-42 671,4 -4,4\"/>\n",
       "<!-- p1 -->\n",
       "<g id=\"node1\" class=\"node\">\n",
       "<title>p1</title>\n",
       "<polygon fill=\"none\" stroke=\"black\" points=\"667,-38 0,-38 0,0 667,0 667,-38\"/>\n",
       "<text text-anchor=\"middle\" x=\"333.5\" y=\"-22.8\" font-family=\"Times-Roman\" font-size=\"14.00\">Parquet SCAN [s3://seanome&#45;kmerseek/scope&#45;benchmark/reference_files/scop.e.2.08.match_metadata.pq]</text>\n",
       "<text text-anchor=\"middle\" x=\"333.5\" y=\"-7.8\" font-family=\"Times-Roman\" font-size=\"14.00\">π */6;</text>\n",
       "</g>\n",
       "</g>\n",
       "</svg>\n"
      ],
      "text/plain": [
       "<LazyFrame at 0x7F17378DE090>"
      ]
     },
     "execution_count": 11,
     "metadata": {},
     "output_type": "execute_result"
    }
   ],
   "source": [
    "match_metadata = pl.scan_parquet(\n",
    "    \"s3://seanome-kmerseek/scope-benchmark/reference_files/scop.e.2.08.match_metadata.pq\"\n",
    ")\n",
    "match_metadata"
   ]
  },
  {
   "cell_type": "markdown",
   "id": "0773f579-fdc8-4a5f-83c5-09ba90025697",
   "metadata": {},
   "source": [
    "## Iterate over all files"
   ]
  },
  {
   "cell_type": "code",
   "execution_count": 12,
   "id": "af0105a8-96c8-41b8-90fa-196e733b9830",
   "metadata": {
    "execution": {
     "iopub.execute_input": "2024-11-07T22:23:05.940583Z",
     "iopub.status.busy": "2024-11-07T22:23:05.940469Z",
     "iopub.status.idle": "2024-11-07T22:32:27.930361Z",
     "shell.execute_reply": "2024-11-07T22:32:27.929861Z",
     "shell.execute_reply.started": "2024-11-07T22:23:05.940573Z"
    }
   },
   "outputs": [
    {
     "name": "stdout",
     "output_type": "stream",
     "text": [
      "-- hp --\n",
      "\t-- 5 --\n",
      "s3://seanome-kmerseek/scope-benchmark/pipeline-outputs/hp/sourmash/multisearch/astral-scopedom-seqres-gd-sel-gs-bib-40-2.08.part_001.fa--in--astral-scopedom-seqres-gd-sel-gs-bib-40-2.08.part_001.fa.hp.5.multisearch.csv\n"
     ]
    },
    {
     "name": "stderr",
     "output_type": "stream",
     "text": [
      "/home/ec2-user/tmp/lkar7q3b:  23%|███████████████████▌                                                                 | 20.2G/87.8G [09:21<31:17, 36.0MB/s]\n"
     ]
    },
    {
     "ename": "OSError",
     "evalue": "[Errno 28] No space left on device",
     "output_type": "error",
     "traceback": [
      "\u001b[0;31m---------------------------------------------------------------------------\u001b[0m",
      "\u001b[0;31mOSError\u001b[0m                                   Traceback (most recent call last)",
      "Cell \u001b[0;32mIn[12], line 45\u001b[0m\n\u001b[1;32m     43\u001b[0m     csv \u001b[38;5;241m=\u001b[39m parser\u001b[38;5;241m.\u001b[39m_make_multisearch_input_file()\n\u001b[1;32m     44\u001b[0m     \u001b[38;5;28mprint\u001b[39m(csv)\n\u001b[0;32m---> 45\u001b[0m     \u001b[43mscan_csv_sink_parquet\u001b[49m\u001b[43m(\u001b[49m\u001b[43mcsv\u001b[49m\u001b[43m,\u001b[49m\u001b[43m \u001b[49m\u001b[43mverbose\u001b[49m\u001b[38;5;241;43m=\u001b[39;49m\u001b[38;5;28;43;01mTrue\u001b[39;49;00m\u001b[43m)\u001b[49m\n\u001b[1;32m     46\u001b[0m \u001b[38;5;28;01mexcept\u001b[39;00m \u001b[38;5;167;01mFileNotFoundError\u001b[39;00m:\n\u001b[1;32m     47\u001b[0m     \u001b[38;5;28;01mpass\u001b[39;00m\n",
      "File \u001b[0;32m~/2024-kmerseek-analysis/notebooks/polars_utils.py:142\u001b[0m, in \u001b[0;36mscan_csv_sink_parquet\u001b[0;34m(csv, parquet, verbose)\u001b[0m\n\u001b[1;32m    139\u001b[0m \u001b[38;5;28;01mif\u001b[39;00m parquet \u001b[38;5;241m==\u001b[39m \u001b[38;5;28;01mNone\u001b[39;00m:\n\u001b[1;32m    140\u001b[0m     parquet \u001b[38;5;241m=\u001b[39m csv\u001b[38;5;241m.\u001b[39mreplace(\u001b[38;5;124m\"\u001b[39m\u001b[38;5;124m.csv\u001b[39m\u001b[38;5;124m\"\u001b[39m, \u001b[38;5;124m\"\u001b[39m\u001b[38;5;124m.pq\u001b[39m\u001b[38;5;124m\"\u001b[39m)\n\u001b[0;32m--> 142\u001b[0m temp_fp \u001b[38;5;241m=\u001b[39m \u001b[43mtemp_download_s3_path\u001b[49m\u001b[43m(\u001b[49m\u001b[43mcsv\u001b[49m\u001b[43m)\u001b[49m\n\u001b[1;32m    143\u001b[0m df \u001b[38;5;241m=\u001b[39m pl\u001b[38;5;241m.\u001b[39mscan_csv(temp_fp\u001b[38;5;241m.\u001b[39mname)\n\u001b[1;32m    144\u001b[0m sink_parquet(df, parquet, verbose\u001b[38;5;241m=\u001b[39mverbose)\n",
      "File \u001b[0;32m~/2024-kmerseek-analysis/notebooks/s3_io.py:126\u001b[0m, in \u001b[0;36mtemp_download_s3_path\u001b[0;34m(s3_path)\u001b[0m\n\u001b[1;32m    124\u001b[0m session \u001b[38;5;241m=\u001b[39m boto3\u001b[38;5;241m.\u001b[39mSession()\n\u001b[1;32m    125\u001b[0m bucket, key \u001b[38;5;241m=\u001b[39m get_bucket_key(s3_path)\n\u001b[0;32m--> 126\u001b[0m \u001b[43mdownload_object_from_s3\u001b[49m\u001b[43m(\u001b[49m\u001b[43msession\u001b[49m\u001b[43m,\u001b[49m\u001b[43m \u001b[49m\u001b[43mbucket\u001b[49m\u001b[38;5;241;43m=\u001b[39;49m\u001b[43mbucket\u001b[49m\u001b[43m,\u001b[49m\u001b[43m \u001b[49m\u001b[43mkey\u001b[49m\u001b[38;5;241;43m=\u001b[39;49m\u001b[43mkey\u001b[49m\u001b[43m,\u001b[49m\u001b[43m \u001b[49m\u001b[43mfilename\u001b[49m\u001b[38;5;241;43m=\u001b[39;49m\u001b[43mfp\u001b[49m\u001b[38;5;241;43m.\u001b[39;49m\u001b[43mname\u001b[49m\u001b[43m)\u001b[49m\n\u001b[1;32m    127\u001b[0m \u001b[38;5;28;01mreturn\u001b[39;00m fp\n",
      "File \u001b[0;32m~/2024-kmerseek-analysis/notebooks/s3_io.py:52\u001b[0m, in \u001b[0;36mdownload_object_from_s3\u001b[0;34m(session, bucket, key, version_id, filename)\u001b[0m\n\u001b[1;32m     49\u001b[0m     ExtraArgs \u001b[38;5;241m=\u001b[39m \u001b[38;5;28;01mNone\u001b[39;00m\n\u001b[1;32m     51\u001b[0m \u001b[38;5;28;01mwith\u001b[39;00m tqdm\u001b[38;5;241m.\u001b[39mtqdm(total\u001b[38;5;241m=\u001b[39mobject_size, unit\u001b[38;5;241m=\u001b[39m\u001b[38;5;124m\"\u001b[39m\u001b[38;5;124mB\u001b[39m\u001b[38;5;124m\"\u001b[39m, unit_scale\u001b[38;5;241m=\u001b[39m\u001b[38;5;28;01mTrue\u001b[39;00m, desc\u001b[38;5;241m=\u001b[39mfilename) \u001b[38;5;28;01mas\u001b[39;00m pbar:\n\u001b[0;32m---> 52\u001b[0m     \u001b[43ms3\u001b[49m\u001b[38;5;241;43m.\u001b[39;49m\u001b[43mdownload_file\u001b[49m\u001b[43m(\u001b[49m\n\u001b[1;32m     53\u001b[0m \u001b[43m        \u001b[49m\u001b[43mBucket\u001b[49m\u001b[38;5;241;43m=\u001b[39;49m\u001b[43mbucket\u001b[49m\u001b[43m,\u001b[49m\n\u001b[1;32m     54\u001b[0m \u001b[43m        \u001b[49m\u001b[43mKey\u001b[49m\u001b[38;5;241;43m=\u001b[39;49m\u001b[43mkey\u001b[49m\u001b[43m,\u001b[49m\n\u001b[1;32m     55\u001b[0m \u001b[43m        \u001b[49m\u001b[43mExtraArgs\u001b[49m\u001b[38;5;241;43m=\u001b[39;49m\u001b[43mExtraArgs\u001b[49m\u001b[43m,\u001b[49m\n\u001b[1;32m     56\u001b[0m \u001b[43m        \u001b[49m\u001b[43mFilename\u001b[49m\u001b[38;5;241;43m=\u001b[39;49m\u001b[43mfilename\u001b[49m\u001b[43m,\u001b[49m\n\u001b[1;32m     57\u001b[0m \u001b[43m        \u001b[49m\u001b[43mCallback\u001b[49m\u001b[38;5;241;43m=\u001b[39;49m\u001b[38;5;28;43;01mlambda\u001b[39;49;00m\u001b[43m \u001b[49m\u001b[43mbytes_transferred\u001b[49m\u001b[43m:\u001b[49m\u001b[43m \u001b[49m\u001b[43mpbar\u001b[49m\u001b[38;5;241;43m.\u001b[39;49m\u001b[43mupdate\u001b[49m\u001b[43m(\u001b[49m\u001b[43mbytes_transferred\u001b[49m\u001b[43m)\u001b[49m\u001b[43m,\u001b[49m\n\u001b[1;32m     58\u001b[0m \u001b[43m    \u001b[49m\u001b[43m)\u001b[49m\n",
      "File \u001b[0;32m~/miniconda3/envs/2024-kmerseek-analysis-polars/lib/python3.12/site-packages/boto3/s3/inject.py:192\u001b[0m, in \u001b[0;36mdownload_file\u001b[0;34m(self, Bucket, Key, Filename, ExtraArgs, Callback, Config)\u001b[0m\n\u001b[1;32m    157\u001b[0m \u001b[38;5;250m\u001b[39m\u001b[38;5;124;03m\"\"\"Download an S3 object to a file.\u001b[39;00m\n\u001b[1;32m    158\u001b[0m \n\u001b[1;32m    159\u001b[0m \u001b[38;5;124;03mUsage::\u001b[39;00m\n\u001b[0;32m   (...)\u001b[0m\n\u001b[1;32m    189\u001b[0m \u001b[38;5;124;03m    transfer.\u001b[39;00m\n\u001b[1;32m    190\u001b[0m \u001b[38;5;124;03m\"\"\"\u001b[39;00m\n\u001b[1;32m    191\u001b[0m \u001b[38;5;28;01mwith\u001b[39;00m S3Transfer(\u001b[38;5;28mself\u001b[39m, Config) \u001b[38;5;28;01mas\u001b[39;00m transfer:\n\u001b[0;32m--> 192\u001b[0m     \u001b[38;5;28;01mreturn\u001b[39;00m \u001b[43mtransfer\u001b[49m\u001b[38;5;241;43m.\u001b[39;49m\u001b[43mdownload_file\u001b[49m\u001b[43m(\u001b[49m\n\u001b[1;32m    193\u001b[0m \u001b[43m        \u001b[49m\u001b[43mbucket\u001b[49m\u001b[38;5;241;43m=\u001b[39;49m\u001b[43mBucket\u001b[49m\u001b[43m,\u001b[49m\n\u001b[1;32m    194\u001b[0m \u001b[43m        \u001b[49m\u001b[43mkey\u001b[49m\u001b[38;5;241;43m=\u001b[39;49m\u001b[43mKey\u001b[49m\u001b[43m,\u001b[49m\n\u001b[1;32m    195\u001b[0m \u001b[43m        \u001b[49m\u001b[43mfilename\u001b[49m\u001b[38;5;241;43m=\u001b[39;49m\u001b[43mFilename\u001b[49m\u001b[43m,\u001b[49m\n\u001b[1;32m    196\u001b[0m \u001b[43m        \u001b[49m\u001b[43mextra_args\u001b[49m\u001b[38;5;241;43m=\u001b[39;49m\u001b[43mExtraArgs\u001b[49m\u001b[43m,\u001b[49m\n\u001b[1;32m    197\u001b[0m \u001b[43m        \u001b[49m\u001b[43mcallback\u001b[49m\u001b[38;5;241;43m=\u001b[39;49m\u001b[43mCallback\u001b[49m\u001b[43m,\u001b[49m\n\u001b[1;32m    198\u001b[0m \u001b[43m    \u001b[49m\u001b[43m)\u001b[49m\n",
      "File \u001b[0;32m~/miniconda3/envs/2024-kmerseek-analysis-polars/lib/python3.12/site-packages/boto3/s3/transfer.py:406\u001b[0m, in \u001b[0;36mS3Transfer.download_file\u001b[0;34m(self, bucket, key, filename, extra_args, callback)\u001b[0m\n\u001b[1;32m    402\u001b[0m future \u001b[38;5;241m=\u001b[39m \u001b[38;5;28mself\u001b[39m\u001b[38;5;241m.\u001b[39m_manager\u001b[38;5;241m.\u001b[39mdownload(\n\u001b[1;32m    403\u001b[0m     bucket, key, filename, extra_args, subscribers\n\u001b[1;32m    404\u001b[0m )\n\u001b[1;32m    405\u001b[0m \u001b[38;5;28;01mtry\u001b[39;00m:\n\u001b[0;32m--> 406\u001b[0m     \u001b[43mfuture\u001b[49m\u001b[38;5;241;43m.\u001b[39;49m\u001b[43mresult\u001b[49m\u001b[43m(\u001b[49m\u001b[43m)\u001b[49m\n\u001b[1;32m    407\u001b[0m \u001b[38;5;66;03m# This is for backwards compatibility where when retries are\u001b[39;00m\n\u001b[1;32m    408\u001b[0m \u001b[38;5;66;03m# exceeded we need to throw the same error from boto3 instead of\u001b[39;00m\n\u001b[1;32m    409\u001b[0m \u001b[38;5;66;03m# s3transfer's built in RetriesExceededError as current users are\u001b[39;00m\n\u001b[1;32m    410\u001b[0m \u001b[38;5;66;03m# catching the boto3 one instead of the s3transfer exception to do\u001b[39;00m\n\u001b[1;32m    411\u001b[0m \u001b[38;5;66;03m# their own retries.\u001b[39;00m\n\u001b[1;32m    412\u001b[0m \u001b[38;5;28;01mexcept\u001b[39;00m S3TransferRetriesExceededError \u001b[38;5;28;01mas\u001b[39;00m e:\n",
      "File \u001b[0;32m~/miniconda3/envs/2024-kmerseek-analysis-polars/lib/python3.12/site-packages/s3transfer/futures.py:103\u001b[0m, in \u001b[0;36mTransferFuture.result\u001b[0;34m(self)\u001b[0m\n\u001b[1;32m     98\u001b[0m \u001b[38;5;28;01mdef\u001b[39;00m \u001b[38;5;21mresult\u001b[39m(\u001b[38;5;28mself\u001b[39m):\n\u001b[1;32m     99\u001b[0m     \u001b[38;5;28;01mtry\u001b[39;00m:\n\u001b[1;32m    100\u001b[0m         \u001b[38;5;66;03m# Usually the result() method blocks until the transfer is done,\u001b[39;00m\n\u001b[1;32m    101\u001b[0m         \u001b[38;5;66;03m# however if a KeyboardInterrupt is raised we want want to exit\u001b[39;00m\n\u001b[1;32m    102\u001b[0m         \u001b[38;5;66;03m# out of this and propagate the exception.\u001b[39;00m\n\u001b[0;32m--> 103\u001b[0m         \u001b[38;5;28;01mreturn\u001b[39;00m \u001b[38;5;28;43mself\u001b[39;49m\u001b[38;5;241;43m.\u001b[39;49m\u001b[43m_coordinator\u001b[49m\u001b[38;5;241;43m.\u001b[39;49m\u001b[43mresult\u001b[49m\u001b[43m(\u001b[49m\u001b[43m)\u001b[49m\n\u001b[1;32m    104\u001b[0m     \u001b[38;5;28;01mexcept\u001b[39;00m \u001b[38;5;167;01mKeyboardInterrupt\u001b[39;00m \u001b[38;5;28;01mas\u001b[39;00m e:\n\u001b[1;32m    105\u001b[0m         \u001b[38;5;28mself\u001b[39m\u001b[38;5;241m.\u001b[39mcancel()\n",
      "File \u001b[0;32m~/miniconda3/envs/2024-kmerseek-analysis-polars/lib/python3.12/site-packages/s3transfer/futures.py:264\u001b[0m, in \u001b[0;36mTransferCoordinator.result\u001b[0;34m(self)\u001b[0m\n\u001b[1;32m    261\u001b[0m \u001b[38;5;66;03m# Once done waiting, raise an exception if present or return the\u001b[39;00m\n\u001b[1;32m    262\u001b[0m \u001b[38;5;66;03m# final result.\u001b[39;00m\n\u001b[1;32m    263\u001b[0m \u001b[38;5;28;01mif\u001b[39;00m \u001b[38;5;28mself\u001b[39m\u001b[38;5;241m.\u001b[39m_exception:\n\u001b[0;32m--> 264\u001b[0m     \u001b[38;5;28;01mraise\u001b[39;00m \u001b[38;5;28mself\u001b[39m\u001b[38;5;241m.\u001b[39m_exception\n\u001b[1;32m    265\u001b[0m \u001b[38;5;28;01mreturn\u001b[39;00m \u001b[38;5;28mself\u001b[39m\u001b[38;5;241m.\u001b[39m_result\n",
      "File \u001b[0;32m~/miniconda3/envs/2024-kmerseek-analysis-polars/lib/python3.12/site-packages/s3transfer/tasks.py:135\u001b[0m, in \u001b[0;36mTask.__call__\u001b[0;34m(self)\u001b[0m\n\u001b[1;32m    131\u001b[0m     \u001b[38;5;66;03m# If the task is not done (really only if some other related\u001b[39;00m\n\u001b[1;32m    132\u001b[0m     \u001b[38;5;66;03m# task to the TransferFuture had failed) then execute the task's\u001b[39;00m\n\u001b[1;32m    133\u001b[0m     \u001b[38;5;66;03m# main() method.\u001b[39;00m\n\u001b[1;32m    134\u001b[0m     \u001b[38;5;28;01mif\u001b[39;00m \u001b[38;5;129;01mnot\u001b[39;00m \u001b[38;5;28mself\u001b[39m\u001b[38;5;241m.\u001b[39m_transfer_coordinator\u001b[38;5;241m.\u001b[39mdone():\n\u001b[0;32m--> 135\u001b[0m         \u001b[38;5;28;01mreturn\u001b[39;00m \u001b[38;5;28;43mself\u001b[39;49m\u001b[38;5;241;43m.\u001b[39;49m\u001b[43m_execute_main\u001b[49m\u001b[43m(\u001b[49m\u001b[43mkwargs\u001b[49m\u001b[43m)\u001b[49m\n\u001b[1;32m    136\u001b[0m \u001b[38;5;28;01mexcept\u001b[39;00m \u001b[38;5;167;01mException\u001b[39;00m \u001b[38;5;28;01mas\u001b[39;00m e:\n\u001b[1;32m    137\u001b[0m     \u001b[38;5;28mself\u001b[39m\u001b[38;5;241m.\u001b[39m_log_and_set_exception(e)\n",
      "File \u001b[0;32m~/miniconda3/envs/2024-kmerseek-analysis-polars/lib/python3.12/site-packages/s3transfer/tasks.py:158\u001b[0m, in \u001b[0;36mTask._execute_main\u001b[0;34m(self, kwargs)\u001b[0m\n\u001b[1;32m    155\u001b[0m \u001b[38;5;66;03m# Log what is about to be executed.\u001b[39;00m\n\u001b[1;32m    156\u001b[0m logger\u001b[38;5;241m.\u001b[39mdebug(\u001b[38;5;124mf\u001b[39m\u001b[38;5;124m\"\u001b[39m\u001b[38;5;124mExecuting task \u001b[39m\u001b[38;5;132;01m{\u001b[39;00m\u001b[38;5;28mself\u001b[39m\u001b[38;5;132;01m}\u001b[39;00m\u001b[38;5;124m with kwargs \u001b[39m\u001b[38;5;132;01m{\u001b[39;00mkwargs_to_display\u001b[38;5;132;01m}\u001b[39;00m\u001b[38;5;124m\"\u001b[39m)\n\u001b[0;32m--> 158\u001b[0m return_value \u001b[38;5;241m=\u001b[39m \u001b[38;5;28;43mself\u001b[39;49m\u001b[38;5;241;43m.\u001b[39;49m\u001b[43m_main\u001b[49m\u001b[43m(\u001b[49m\u001b[38;5;241;43m*\u001b[39;49m\u001b[38;5;241;43m*\u001b[39;49m\u001b[43mkwargs\u001b[49m\u001b[43m)\u001b[49m\n\u001b[1;32m    159\u001b[0m \u001b[38;5;66;03m# If the task is the final task, then set the TransferFuture's\u001b[39;00m\n\u001b[1;32m    160\u001b[0m \u001b[38;5;66;03m# value to the return value from main().\u001b[39;00m\n\u001b[1;32m    161\u001b[0m \u001b[38;5;28;01mif\u001b[39;00m \u001b[38;5;28mself\u001b[39m\u001b[38;5;241m.\u001b[39m_is_final:\n",
      "File \u001b[0;32m~/miniconda3/envs/2024-kmerseek-analysis-polars/lib/python3.12/site-packages/s3transfer/download.py:641\u001b[0m, in \u001b[0;36mIOWriteTask._main\u001b[0;34m(self, fileobj, data, offset)\u001b[0m\n\u001b[1;32m    634\u001b[0m \u001b[38;5;250m\u001b[39m\u001b[38;5;124;03m\"\"\"Pulls off an io queue to write contents to a file\u001b[39;00m\n\u001b[1;32m    635\u001b[0m \n\u001b[1;32m    636\u001b[0m \u001b[38;5;124;03m:param fileobj: The file handle to write content to\u001b[39;00m\n\u001b[1;32m    637\u001b[0m \u001b[38;5;124;03m:param data: The data to write\u001b[39;00m\n\u001b[1;32m    638\u001b[0m \u001b[38;5;124;03m:param offset: The offset to write the data to.\u001b[39;00m\n\u001b[1;32m    639\u001b[0m \u001b[38;5;124;03m\"\"\"\u001b[39;00m\n\u001b[1;32m    640\u001b[0m fileobj\u001b[38;5;241m.\u001b[39mseek(offset)\n\u001b[0;32m--> 641\u001b[0m \u001b[43mfileobj\u001b[49m\u001b[38;5;241;43m.\u001b[39;49m\u001b[43mwrite\u001b[49m\u001b[43m(\u001b[49m\u001b[43mdata\u001b[49m\u001b[43m)\u001b[49m\n",
      "File \u001b[0;32m~/miniconda3/envs/2024-kmerseek-analysis-polars/lib/python3.12/site-packages/s3transfer/utils.py:382\u001b[0m, in \u001b[0;36mDeferredOpenFile.write\u001b[0;34m(self, data)\u001b[0m\n\u001b[1;32m    380\u001b[0m \u001b[38;5;28;01mdef\u001b[39;00m \u001b[38;5;21mwrite\u001b[39m(\u001b[38;5;28mself\u001b[39m, data):\n\u001b[1;32m    381\u001b[0m     \u001b[38;5;28mself\u001b[39m\u001b[38;5;241m.\u001b[39m_open_if_needed()\n\u001b[0;32m--> 382\u001b[0m     \u001b[38;5;28;43mself\u001b[39;49m\u001b[38;5;241;43m.\u001b[39;49m\u001b[43m_fileobj\u001b[49m\u001b[38;5;241;43m.\u001b[39;49m\u001b[43mwrite\u001b[49m\u001b[43m(\u001b[49m\u001b[43mdata\u001b[49m\u001b[43m)\u001b[49m\n",
      "\u001b[0;31mOSError\u001b[0m: [Errno 28] No space left on device"
     ]
    }
   ],
   "source": [
    "# Skip ksizes 5 and 6 for now because those files are enormous, 2.3 GiB for k=5 and 175 MiB for k=6\n",
    "# # -> Figure out how to use polars later\n",
    "# ksizes = range(7, 21)\n",
    "# moltype = \"protein\"\n",
    "\n",
    "\n",
    "moltype_info = {\n",
    "    # \"protein\": dict(\n",
    "    #     ksizes=range(5, 21),\n",
    "    #     pipeline_outdir=\"s3://seanome-kmerseek/scope-benchmark/pipeline-outputs/2024-10-08__protein_k5-20\",\n",
    "    #     analysis_outdir=\"s3://seanome-kmerseek/scope-benchmark/analysis-outputs/protein\",\n",
    "    # ),\n",
    "    # \"dayhoff\": dict(\n",
    "    #     ksizes=range(5, 21),\n",
    "    #     pipeline_outdir=\"s3://seanome-kmerseek/scope-benchmark/pipeline-outputs/2024-10-09__dayhoff_k5-20\",\n",
    "    #     analysis_outdir=\"s3://seanome-kmerseek/scope-benchmark/analysis-outputs/dayhoff\",\n",
    "    # ),\n",
    "    \"hp\": dict(\n",
    "        ksizes=range(5, 31),\n",
    "        pipeline_outdir=\"s3://seanome-kmerseek/scope-benchmark/pipeline-outputs/hp\",\n",
    "        analysis_outdir=\"s3://seanome-kmerseek/scope-benchmark/analysis-outputs/hp\",\n",
    "    ),\n",
    "}\n",
    "\n",
    "for moltype, info in moltype_info.items():\n",
    "    print(f\"-- {moltype} --\")\n",
    "    ksizes = info[\"ksizes\"]\n",
    "    analysis_outdir = info[\"analysis_outdir\"]\n",
    "    pipeline_outdir = info[\"pipeline_outdir\"]\n",
    "    for ksize in ksizes:\n",
    "        print(f\"\\t-- {ksize} --\")\n",
    "        try:\n",
    "            parser = process_scop_sourmash_multisearch_polars.MultisearchParser(\n",
    "                query_metadata=query_metadata,\n",
    "                match_metadata=match_metadata,\n",
    "                pipeline_outdir=pipeline_outdir,\n",
    "                moltype=moltype,\n",
    "                ksize=ksize,\n",
    "                analysis_outdir=analysis_outdir,\n",
    "                verbose=True,\n",
    "                input_filetype=\"csv\",\n",
    "            )\n",
    "            csv = parser._make_multisearch_input_file()\n",
    "            print(csv)\n",
    "            scan_csv_sink_parquet(csv, verbose=True)\n",
    "        except FileNotFoundError:\n",
    "            pass\n",
    "    # break\n",
    "# multisearch_metadata_filtered.head()"
   ]
  },
  {
   "cell_type": "code",
   "execution_count": null,
   "id": "9fd5c66b-9ce1-4529-8780-d5a54c151cf2",
   "metadata": {
    "execution": {
     "iopub.status.busy": "2024-11-07T22:32:27.930629Z",
     "iopub.status.idle": "2024-11-07T22:32:27.930752Z",
     "shell.execute_reply": "2024-11-07T22:32:27.930696Z",
     "shell.execute_reply.started": "2024-11-07T22:32:27.930690Z"
    }
   },
   "outputs": [],
   "source": [
    "1 + 1"
   ]
  },
  {
   "cell_type": "code",
   "execution_count": null,
   "id": "52fb3d2b-df62-46ab-8ad2-79951a7be87d",
   "metadata": {},
   "outputs": [],
   "source": []
  },
  {
   "cell_type": "code",
   "execution_count": null,
   "id": "03a39200-dbe9-4abe-82d8-4430fb52c796",
   "metadata": {},
   "outputs": [],
   "source": []
  },
  {
   "cell_type": "code",
   "execution_count": null,
   "id": "cff5c924-e58c-4d60-afb9-1ad853686d9f",
   "metadata": {},
   "outputs": [],
   "source": []
  }
 ],
 "metadata": {
  "kernelspec": {
   "display_name": "Python [conda env:2024-kmerseek-analysis-polars]",
   "language": "python",
   "name": "conda-env-2024-kmerseek-analysis-polars-py"
  },
  "language_info": {
   "codemirror_mode": {
    "name": "ipython",
    "version": 3
   },
   "file_extension": ".py",
   "mimetype": "text/x-python",
   "name": "python",
   "nbconvert_exporter": "python",
   "pygments_lexer": "ipython3",
   "version": "3.12.7"
  }
 },
 "nbformat": 4,
 "nbformat_minor": 5
}
