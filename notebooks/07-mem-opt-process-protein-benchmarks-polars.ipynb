{
 "cells": [
  {
   "cell_type": "markdown",
   "id": "c7b68939-9b88-442b-872e-69fb175ce903",
   "metadata": {},
   "source": [
    "# Imports and setup"
   ]
  },
  {
   "cell_type": "markdown",
   "id": "9f82e23d-66f0-440a-8163-dfffae025202",
   "metadata": {},
   "source": [
    "### Auto-re-import python modules, useful for editing local fils"
   ]
  },
  {
   "cell_type": "code",
   "execution_count": 1,
   "id": "1616f0c6-9104-4889-9fde-4c85479fb245",
   "metadata": {
    "execution": {
     "iopub.execute_input": "2024-11-04T23:32:37.096777Z",
     "iopub.status.busy": "2024-11-04T23:32:37.096662Z",
     "iopub.status.idle": "2024-11-04T23:32:37.107627Z",
     "shell.execute_reply": "2024-11-04T23:32:37.107258Z",
     "shell.execute_reply.started": "2024-11-04T23:32:37.096763Z"
    }
   },
   "outputs": [],
   "source": [
    "%load_ext autoreload\n",
    "%autoreload 2"
   ]
  },
  {
   "cell_type": "markdown",
   "id": "1f8ce8fc-4e4f-4d34-8ea5-07af0dd1de7e",
   "metadata": {},
   "source": [
    "## Imports"
   ]
  },
  {
   "cell_type": "code",
   "execution_count": 2,
   "id": "a905ccc7-8a61-40cd-b56a-36c5935ef523",
   "metadata": {
    "execution": {
     "iopub.execute_input": "2024-11-04T23:32:37.108256Z",
     "iopub.status.busy": "2024-11-04T23:32:37.108134Z",
     "iopub.status.idle": "2024-11-04T23:32:38.579543Z",
     "shell.execute_reply": "2024-11-04T23:32:38.579160Z",
     "shell.execute_reply.started": "2024-11-04T23:32:37.108243Z"
    }
   },
   "outputs": [],
   "source": [
    "import itertools\n",
    "\n",
    "import matplotlib as mpl\n",
    "import polars as pl\n",
    "import seaborn as sns\n",
    "\n",
    "# pl.Config.set_verbose(True)\n",
    "# pl.Config.()\n",
    "mpl.rcParams[\"figure.max_open_warning\"] = 0\n",
    "\n",
    "# Handwritten local modules\n",
    "# import process_scop_sourmash_multisearch_polars\n",
    "from process_scop_sourmash_multisearch_polars_mem_optimized import MultisearchParser"
   ]
  },
  {
   "cell_type": "code",
   "execution_count": 3,
   "id": "62313239-ddac-4309-b2bf-b57dec292398",
   "metadata": {
    "execution": {
     "iopub.execute_input": "2024-11-04T23:32:38.580678Z",
     "iopub.status.busy": "2024-11-04T23:32:38.580420Z",
     "iopub.status.idle": "2024-11-04T23:32:38.599871Z",
     "shell.execute_reply": "2024-11-04T23:32:38.599583Z",
     "shell.execute_reply.started": "2024-11-04T23:32:38.580664Z"
    }
   },
   "outputs": [
    {
     "data": {
      "text/plain": [
       "'1.12.0'"
      ]
     },
     "execution_count": 3,
     "metadata": {},
     "output_type": "execute_result"
    }
   ],
   "source": [
    "pl.__version__"
   ]
  },
  {
   "cell_type": "markdown",
   "id": "4c099fc7-f907-4583-99be-c94ab7d8671f",
   "metadata": {},
   "source": [
    "# Read in data"
   ]
  },
  {
   "cell_type": "code",
   "execution_count": 4,
   "id": "81146fc9-1d06-4934-8aa9-fead03e4f1cb",
   "metadata": {
    "execution": {
     "iopub.execute_input": "2024-11-04T23:32:38.600374Z",
     "iopub.status.busy": "2024-11-04T23:32:38.600255Z",
     "iopub.status.idle": "2024-11-04T23:32:38.618342Z",
     "shell.execute_reply": "2024-11-04T23:32:38.618066Z",
     "shell.execute_reply.started": "2024-11-04T23:32:38.600362Z"
    }
   },
   "outputs": [
    {
     "data": {
      "text/plain": [
       "'s3://seanome-kmerseek/scope-benchmark/analysis-outputs/2024-10-09__protein_k5-20'"
      ]
     },
     "execution_count": 4,
     "metadata": {},
     "output_type": "execute_result"
    }
   ],
   "source": [
    "analysis_outdir = (\n",
    "    \"s3://seanome-kmerseek/scope-benchmark/analysis-outputs/2024-10-09__protein_k5-20\"\n",
    ")\n",
    "\n",
    "pipeline_outdir = (\n",
    "    \"s3://seanome-kmerseek/scope-benchmark/pipeline-outputs/2024-10-08__protein_k5-20\"\n",
    ")\n",
    "analysis_outdir"
   ]
  },
  {
   "cell_type": "markdown",
   "id": "5aea4a4d-d6cd-401d-b5c7-ef845ece03ca",
   "metadata": {},
   "source": [
    "## Read in one example file for schema"
   ]
  },
  {
   "cell_type": "code",
   "execution_count": 5,
   "id": "c2118736-a2ca-4006-b574-268b41a84525",
   "metadata": {
    "execution": {
     "iopub.execute_input": "2024-11-04T23:32:38.618855Z",
     "iopub.status.busy": "2024-11-04T23:32:38.618740Z",
     "iopub.status.idle": "2024-11-04T23:32:38.659594Z",
     "shell.execute_reply": "2024-11-04T23:32:38.659300Z",
     "shell.execute_reply.started": "2024-11-04T23:32:38.618843Z"
    }
   },
   "outputs": [
    {
     "name": "stderr",
     "output_type": "stream",
     "text": [
      "/tmp/ipykernel_16733/2035228567.py:4: PerformanceWarning: Resolving the schema of a LazyFrame is a potentially expensive operation. Use `LazyFrame.collect_schema()` to get the schema without this warning.\n",
      "  df.schema\n"
     ]
    },
    {
     "data": {
      "text/plain": [
       "Schema([('query_name', String),\n",
       "        ('query_md5', String),\n",
       "        ('match_name', String),\n",
       "        ('match_md5', String),\n",
       "        ('containment', Float64),\n",
       "        ('max_containment', Float64),\n",
       "        ('jaccard', Float64),\n",
       "        ('intersect_hashes', Float64),\n",
       "        ('prob_overlap', Float64),\n",
       "        ('prob_overlap_adjusted', Float64),\n",
       "        ('containment_adjusted', Float64),\n",
       "        ('containment_adjusted_log10', Float64),\n",
       "        ('tf_idf_score', Float64)])"
      ]
     },
     "execution_count": 5,
     "metadata": {},
     "output_type": "execute_result"
    }
   ],
   "source": [
    "pq = \"/home/ec2-user/data/seanome-kmerseek/scope-benchmark/pipeline-outputs/2024-10-09__hp_k20-60/sourmash/multisearch/astral-scopedom-seqres-gd-sel-gs-bib-40-2.08.part_001.fa--in--astral-scopedom-seqres-gd-sel-gs-bib-40-2.08.part_001.fa.hp.10.multisearch.pq\"\n",
    "\n",
    "df = pl.scan_parquet(pq, n_rows=10)\n",
    "df.schema"
   ]
  },
  {
   "cell_type": "code",
   "execution_count": 6,
   "id": "9ca18152-93d3-43ae-833d-cb49eaa1c9cd",
   "metadata": {
    "execution": {
     "iopub.execute_input": "2024-11-04T23:32:38.660152Z",
     "iopub.status.busy": "2024-11-04T23:32:38.660019Z",
     "iopub.status.idle": "2024-11-04T23:32:38.679218Z",
     "shell.execute_reply": "2024-11-04T23:32:38.678931Z",
     "shell.execute_reply.started": "2024-11-04T23:32:38.660141Z"
    }
   },
   "outputs": [
    {
     "name": "stderr",
     "output_type": "stream",
     "text": [
      "/tmp/ipykernel_16733/3304229972.py:1: PerformanceWarning: Resolving the schema of a LazyFrame is a potentially expensive operation. Use `LazyFrame.collect_schema()` to get the schema without this warning.\n",
      "  schema = df.schema.copy()\n"
     ]
    },
    {
     "data": {
      "text/plain": [
       "Schema([('query_name', String),\n",
       "        ('query_md5', String),\n",
       "        ('match_name', String),\n",
       "        ('match_md5', String),\n",
       "        ('containment', Float64),\n",
       "        ('max_containment', Float64),\n",
       "        ('jaccard', Float64),\n",
       "        ('intersect_hashes', Float64),\n",
       "        ('prob_overlap', Float64),\n",
       "        ('prob_overlap_adjusted', Float64),\n",
       "        ('containment_adjusted', Float64),\n",
       "        ('containment_adjusted_log10', Float64),\n",
       "        ('tf_idf_score', Float64)])"
      ]
     },
     "execution_count": 6,
     "metadata": {},
     "output_type": "execute_result"
    }
   ],
   "source": [
    "schema = df.schema.copy()\n",
    "# schema[\"intersect_hashes\"] = int\n",
    "schema"
   ]
  },
  {
   "cell_type": "markdown",
   "id": "c4db935d-1821-416e-b0d2-c735fb3a5d2c",
   "metadata": {},
   "source": [
    "## Read metadata"
   ]
  },
  {
   "cell_type": "markdown",
   "id": "815929d9-8030-4ef2-9c55-aebd060c0342",
   "metadata": {},
   "source": [
    "### Read Query Metadata"
   ]
  },
  {
   "cell_type": "code",
   "execution_count": 7,
   "id": "797fa5ec-d026-4f65-80ab-445081847a1b",
   "metadata": {
    "execution": {
     "iopub.execute_input": "2024-11-04T23:32:38.679722Z",
     "iopub.status.busy": "2024-11-04T23:32:38.679601Z",
     "iopub.status.idle": "2024-11-04T23:32:38.926311Z",
     "shell.execute_reply": "2024-11-04T23:32:38.925982Z",
     "shell.execute_reply.started": "2024-11-04T23:32:38.679711Z"
    }
   },
   "outputs": [
    {
     "name": "stderr",
     "output_type": "stream",
     "text": [
      "/home/ec2-user/miniconda3/envs/2024-kmerseek-analysis-polars/lib/python3.12/site-packages/IPython/core/formatters.py:347: UserWarning: '(default_)region' not set; polars will try to get it from bucket\n",
      "\n",
      "Set the region manually to silence this warning.\n",
      "  return method()\n"
     ]
    },
    {
     "data": {
      "text/html": [
       "<h4>NAIVE QUERY PLAN</h4><p>run <b>LazyFrame.show_graph()</b> to see the optimized version</p><?xml version=\"1.0\" encoding=\"UTF-8\" standalone=\"no\"?>\n",
       "<!DOCTYPE svg PUBLIC \"-//W3C//DTD SVG 1.1//EN\"\n",
       " \"http://www.w3.org/Graphics/SVG/1.1/DTD/svg11.dtd\">\n",
       "<!-- Generated by graphviz version 2.44.0 (0)\n",
       " -->\n",
       "<!-- Title: polars_query Pages: 1 -->\n",
       "<svg width=\"672pt\" height=\"46pt\"\n",
       " viewBox=\"0.00 0.00 672.00 46.00\" xmlns=\"http://www.w3.org/2000/svg\" xmlns:xlink=\"http://www.w3.org/1999/xlink\">\n",
       "<g id=\"graph0\" class=\"graph\" transform=\"scale(1 1) rotate(0) translate(4 42)\">\n",
       "<title>polars_query</title>\n",
       "<polygon fill=\"white\" stroke=\"transparent\" points=\"-4,4 -4,-42 668,-42 668,4 -4,4\"/>\n",
       "<!-- p1 -->\n",
       "<g id=\"node1\" class=\"node\">\n",
       "<title>p1</title>\n",
       "<polygon fill=\"none\" stroke=\"black\" points=\"664,-38 0,-38 0,0 664,0 664,-38\"/>\n",
       "<text text-anchor=\"middle\" x=\"332\" y=\"-22.8\" font-family=\"Times-Roman\" font-size=\"14.00\">Parquet SCAN [s3://seanome&#45;kmerseek/scope&#45;benchmark/reference_files/scop.e.2.08.query_metadata.pq]</text>\n",
       "<text text-anchor=\"middle\" x=\"332\" y=\"-7.8\" font-family=\"Times-Roman\" font-size=\"14.00\">π */10;</text>\n",
       "</g>\n",
       "</g>\n",
       "</svg>\n"
      ],
      "text/plain": [
       "<LazyFrame at 0x7F3283186AE0>"
      ]
     },
     "execution_count": 7,
     "metadata": {},
     "output_type": "execute_result"
    }
   ],
   "source": [
    "query_metadata = pl.scan_parquet(\n",
    "    \"s3://seanome-kmerseek/scope-benchmark/reference_files/scop.e.2.08.query_metadata.pq\",\n",
    "    low_memory=True,\n",
    ")\n",
    "query_metadata"
   ]
  },
  {
   "cell_type": "code",
   "execution_count": 8,
   "id": "5d8e4523-3b97-4858-8d93-7fa199302b0c",
   "metadata": {
    "execution": {
     "iopub.execute_input": "2024-11-04T23:32:38.926859Z",
     "iopub.status.busy": "2024-11-04T23:32:38.926739Z",
     "iopub.status.idle": "2024-11-04T23:32:38.944496Z",
     "shell.execute_reply": "2024-11-04T23:32:38.944178Z",
     "shell.execute_reply.started": "2024-11-04T23:32:38.926848Z"
    }
   },
   "outputs": [],
   "source": [
    "# print(query_metadata.head().collect().write_csv())"
   ]
  },
  {
   "cell_type": "markdown",
   "id": "794e82ea-b8ff-496d-a81b-d3fad3886c33",
   "metadata": {},
   "source": [
    "### Read match metadata"
   ]
  },
  {
   "cell_type": "code",
   "execution_count": 9,
   "id": "490c5fc3-ce41-4456-bf91-e8974550494e",
   "metadata": {
    "execution": {
     "iopub.execute_input": "2024-11-04T23:32:38.944999Z",
     "iopub.status.busy": "2024-11-04T23:32:38.944887Z",
     "iopub.status.idle": "2024-11-04T23:32:39.041901Z",
     "shell.execute_reply": "2024-11-04T23:32:39.041581Z",
     "shell.execute_reply.started": "2024-11-04T23:32:38.944988Z"
    }
   },
   "outputs": [
    {
     "data": {
      "text/html": [
       "<h4>NAIVE QUERY PLAN</h4><p>run <b>LazyFrame.show_graph()</b> to see the optimized version</p><?xml version=\"1.0\" encoding=\"UTF-8\" standalone=\"no\"?>\n",
       "<!DOCTYPE svg PUBLIC \"-//W3C//DTD SVG 1.1//EN\"\n",
       " \"http://www.w3.org/Graphics/SVG/1.1/DTD/svg11.dtd\">\n",
       "<!-- Generated by graphviz version 2.44.0 (0)\n",
       " -->\n",
       "<!-- Title: polars_query Pages: 1 -->\n",
       "<svg width=\"675pt\" height=\"46pt\"\n",
       " viewBox=\"0.00 0.00 675.00 46.00\" xmlns=\"http://www.w3.org/2000/svg\" xmlns:xlink=\"http://www.w3.org/1999/xlink\">\n",
       "<g id=\"graph0\" class=\"graph\" transform=\"scale(1 1) rotate(0) translate(4 42)\">\n",
       "<title>polars_query</title>\n",
       "<polygon fill=\"white\" stroke=\"transparent\" points=\"-4,4 -4,-42 671,-42 671,4 -4,4\"/>\n",
       "<!-- p1 -->\n",
       "<g id=\"node1\" class=\"node\">\n",
       "<title>p1</title>\n",
       "<polygon fill=\"none\" stroke=\"black\" points=\"667,-38 0,-38 0,0 667,0 667,-38\"/>\n",
       "<text text-anchor=\"middle\" x=\"333.5\" y=\"-22.8\" font-family=\"Times-Roman\" font-size=\"14.00\">Parquet SCAN [s3://seanome&#45;kmerseek/scope&#45;benchmark/reference_files/scop.e.2.08.match_metadata.pq]</text>\n",
       "<text text-anchor=\"middle\" x=\"333.5\" y=\"-7.8\" font-family=\"Times-Roman\" font-size=\"14.00\">π */6;</text>\n",
       "</g>\n",
       "</g>\n",
       "</svg>\n"
      ],
      "text/plain": [
       "<LazyFrame at 0x7F3283185B80>"
      ]
     },
     "execution_count": 9,
     "metadata": {},
     "output_type": "execute_result"
    }
   ],
   "source": [
    "match_metadata = pl.scan_parquet(\n",
    "    \"s3://seanome-kmerseek/scope-benchmark/reference_files/scop.e.2.08.match_metadata.pq\",\n",
    "    low_memory=True,\n",
    ")\n",
    "match_metadata"
   ]
  },
  {
   "cell_type": "code",
   "execution_count": 15,
   "id": "278ed278-93be-4364-86ca-9ffcf6ec53fe",
   "metadata": {
    "execution": {
     "iopub.execute_input": "2024-11-01T22:43:23.018811Z",
     "iopub.status.busy": "2024-11-01T22:43:23.018651Z",
     "iopub.status.idle": "2024-11-01T22:43:23.230484Z",
     "shell.execute_reply": "2024-11-01T22:43:23.230042Z",
     "shell.execute_reply.started": "2024-11-01T22:43:23.018800Z"
    }
   },
   "outputs": [
    {
     "name": "stdout",
     "output_type": "stream",
     "text": [
      "match_name,match_family,match_superfamily,match_fold,match_class,match_scop_id\n",
      "d1x3ka_ a.1.1.0 (A:) automated matches {Tokunagayusurika akamusi [TaxId: 28383]},a.1.1.0,a.1.1,a.1,a,d1x3ka_\n",
      "d1x46a_ a.1.1.0 (A:) automated matches {Tokunagayusurika akamusi [TaxId: 28383]},a.1.1.0,a.1.1,a.1,a,d1x46a_\n",
      "d2bk9a_ a.1.1.0 (A:) automated matches {Fruit fly (Drosophila melanogaster) [TaxId: 7227]},a.1.1.0,a.1.1,a.1,a,d2bk9a_\n",
      "d2c0ka_ a.1.1.0 (A:) automated matches {Gasterophilus intestinalis [TaxId: 84525]},a.1.1.0,a.1.1,a.1,a,d2c0ka_\n",
      "d2ig3a_ a.1.1.0 (A:) automated matches {Campylobacter jejuni [TaxId: 197]},a.1.1.0,a.1.1,a.1,a,d2ig3a_\n",
      "\n"
     ]
    }
   ],
   "source": [
    "print(match_metadata.head().collect().write_csv())"
   ]
  },
  {
   "cell_type": "markdown",
   "id": "03f2cbac-f296-4f1b-8e31-61266edfdbe7",
   "metadata": {},
   "source": [
    "## Do HP"
   ]
  },
  {
   "cell_type": "code",
   "execution_count": 16,
   "id": "ea29dac9-aa78-412c-9bfc-44e48ae08ddd",
   "metadata": {
    "execution": {
     "iopub.execute_input": "2024-11-01T22:43:23.231440Z",
     "iopub.status.busy": "2024-11-01T22:43:23.231206Z",
     "iopub.status.idle": "2024-11-01T22:43:23.529488Z",
     "shell.execute_reply": "2024-11-01T22:43:23.528989Z",
     "shell.execute_reply.started": "2024-11-01T22:43:23.231428Z"
    }
   },
   "outputs": [
    {
     "name": "stdout",
     "output_type": "stream",
     "text": [
      "--- moltype: dayhoff, ksize: 5 --\n"
     ]
    },
    {
     "ename": "ClientError",
     "evalue": "An error occurred (404) when calling the HeadObject operation: Not Found",
     "output_type": "error",
     "traceback": [
      "\u001b[0;31m---------------------------------------------------------------------------\u001b[0m",
      "\u001b[0;31mClientError\u001b[0m                               Traceback (most recent call last)",
      "Cell \u001b[0;32mIn[16], line 47\u001b[0m\n\u001b[1;32m     33\u001b[0m         \u001b[38;5;66;03m# try:\u001b[39;00m\n\u001b[1;32m     34\u001b[0m         parser \u001b[38;5;241m=\u001b[39m MultisearchParser(\n\u001b[1;32m     35\u001b[0m             query_metadata\u001b[38;5;241m=\u001b[39mquery_metadata,\n\u001b[1;32m     36\u001b[0m             match_metadata\u001b[38;5;241m=\u001b[39mmatch_metadata,\n\u001b[0;32m   (...)\u001b[0m\n\u001b[1;32m     45\u001b[0m             \u001b[38;5;66;03m# chunk_size=100000, # Default\u001b[39;00m\n\u001b[1;32m     46\u001b[0m         )\n\u001b[0;32m---> 47\u001b[0m         lf \u001b[38;5;241m=\u001b[39m \u001b[43mparser\u001b[49m\u001b[38;5;241;43m.\u001b[39;49m\u001b[43mprocess_multisearch_scop_results\u001b[49m\u001b[43m(\u001b[49m\u001b[43m)\u001b[49m\n\u001b[1;32m     48\u001b[0m     \u001b[38;5;66;03m#     break\u001b[39;00m\n\u001b[1;32m     49\u001b[0m     \u001b[38;5;66;03m# break\u001b[39;00m\n\u001b[1;32m     50\u001b[0m     \u001b[38;5;66;03m# lf.head().collect()\u001b[39;00m\n\u001b[0;32m   (...)\u001b[0m\n\u001b[1;32m     53\u001b[0m \n\u001b[1;32m     54\u001b[0m     \u001b[38;5;66;03m# break\u001b[39;00m\n\u001b[1;32m     55\u001b[0m lf\n",
      "File \u001b[0;32m~/2024-kmerseek-analysis/notebooks/process_scop_sourmash_multisearch_polars_mem_optimized.py:161\u001b[0m, in \u001b[0;36mMultisearchParser.process_multisearch_scop_results\u001b[0;34m(self)\u001b[0m\n\u001b[1;32m    158\u001b[0m logger\u001b[38;5;241m.\u001b[39mdebug(\u001b[38;5;124mf\u001b[39m\u001b[38;5;124m\"\u001b[39m\u001b[38;5;124mProcessing \u001b[39m\u001b[38;5;132;01m{\u001b[39;00minput_file\u001b[38;5;132;01m}\u001b[39;00m\u001b[38;5;124m ...\u001b[39m\u001b[38;5;124m\"\u001b[39m)\n\u001b[1;32m    160\u001b[0m \u001b[38;5;66;03m# Process file in streaming fashion\u001b[39;00m\n\u001b[0;32m--> 161\u001b[0m result \u001b[38;5;241m=\u001b[39m \u001b[38;5;28;43mself\u001b[39;49m\u001b[38;5;241;43m.\u001b[39;49m\u001b[43m_stream_process_file\u001b[49m\u001b[43m(\u001b[49m\u001b[43minput_file\u001b[49m\u001b[43m)\u001b[49m\n\u001b[1;32m    162\u001b[0m \u001b[38;5;28mself\u001b[39m\u001b[38;5;241m.\u001b[39m_save_parquet(\n\u001b[1;32m    163\u001b[0m     result,\n\u001b[1;32m    164\u001b[0m     filtered\u001b[38;5;241m=\u001b[39m\u001b[38;5;28;01mTrue\u001b[39;00m,\n\u001b[1;32m    165\u001b[0m )\n\u001b[1;32m    166\u001b[0m \u001b[38;5;28mself\u001b[39m\u001b[38;5;241m.\u001b[39m_clean_up_temp_files()\n",
      "File \u001b[0;32m~/2024-kmerseek-analysis/notebooks/process_scop_sourmash_multisearch_polars_mem_optimized.py:104\u001b[0m, in \u001b[0;36mMultisearchParser._stream_process_file\u001b[0;34m(self, filename)\u001b[0m\n\u001b[1;32m    102\u001b[0m     logger\u001b[38;5;241m.\u001b[39minfo(\u001b[38;5;124mf\u001b[39m\u001b[38;5;124m\"\u001b[39m\u001b[38;5;124mDownloading \u001b[39m\u001b[38;5;132;01m{\u001b[39;00mos\u001b[38;5;241m.\u001b[39mpath\u001b[38;5;241m.\u001b[39mbasename(filename)\u001b[38;5;132;01m}\u001b[39;00m\u001b[38;5;124m locally ...\u001b[39m\u001b[38;5;124m\"\u001b[39m)\n\u001b[1;32m    103\u001b[0m     \u001b[38;5;28mself\u001b[39m\u001b[38;5;241m.\u001b[39mtempfile \u001b[38;5;241m=\u001b[39m \u001b[38;5;28;01mTrue\u001b[39;00m\n\u001b[0;32m--> 104\u001b[0m     temp_fp \u001b[38;5;241m=\u001b[39m \u001b[38;5;28;43mself\u001b[39;49m\u001b[38;5;241;43m.\u001b[39;49m\u001b[43m_download_from_s3\u001b[49m\u001b[43m(\u001b[49m\u001b[43mfilename\u001b[49m\u001b[43m)\u001b[49m\n\u001b[1;32m    105\u001b[0m     filename \u001b[38;5;241m=\u001b[39m temp_fp\u001b[38;5;241m.\u001b[39mname\n\u001b[1;32m    107\u001b[0m \u001b[38;5;66;03m# Create a LazyFrame for streaming\u001b[39;00m\n",
      "File \u001b[0;32m~/2024-kmerseek-analysis/notebooks/process_scop_sourmash_multisearch_polars_mem_optimized.py:177\u001b[0m, in \u001b[0;36mMultisearchParser._download_from_s3\u001b[0;34m(self, s3_path)\u001b[0m\n\u001b[1;32m    175\u001b[0m bucket_key \u001b[38;5;241m=\u001b[39m s3_path\u001b[38;5;241m.\u001b[39msplit(\u001b[38;5;124m\"\u001b[39m\u001b[38;5;124ms3://\u001b[39m\u001b[38;5;124m\"\u001b[39m)[\u001b[38;5;241m-\u001b[39m\u001b[38;5;241m1\u001b[39m]\n\u001b[1;32m    176\u001b[0m bucket, key \u001b[38;5;241m=\u001b[39m bucket_key\u001b[38;5;241m.\u001b[39msplit(\u001b[38;5;124m\"\u001b[39m\u001b[38;5;124m/\u001b[39m\u001b[38;5;124m\"\u001b[39m, \u001b[38;5;241m1\u001b[39m)\n\u001b[0;32m--> 177\u001b[0m \u001b[43mdownload_object_from_s3\u001b[49m\u001b[43m(\u001b[49m\u001b[43msession\u001b[49m\u001b[43m,\u001b[49m\u001b[43m \u001b[49m\u001b[43mbucket\u001b[49m\u001b[38;5;241;43m=\u001b[39;49m\u001b[43mbucket\u001b[49m\u001b[43m,\u001b[49m\u001b[43m \u001b[49m\u001b[43mkey\u001b[49m\u001b[38;5;241;43m=\u001b[39;49m\u001b[43mkey\u001b[49m\u001b[43m,\u001b[49m\u001b[43m \u001b[49m\u001b[43mfilename\u001b[49m\u001b[38;5;241;43m=\u001b[39;49m\u001b[43mfp\u001b[49m\u001b[38;5;241;43m.\u001b[39;49m\u001b[43mname\u001b[49m\u001b[43m)\u001b[49m\n\u001b[1;32m    178\u001b[0m \u001b[38;5;28;01mreturn\u001b[39;00m fp\n",
      "File \u001b[0;32m~/2024-kmerseek-analysis/notebooks/s3_io.py:27\u001b[0m, in \u001b[0;36mdownload_object_from_s3\u001b[0;34m(session, bucket, key, version_id, filename)\u001b[0m\n\u001b[1;32m     24\u001b[0m \u001b[38;5;28;01mif\u001b[39;00m version_id \u001b[38;5;129;01mis\u001b[39;00m \u001b[38;5;129;01mnot\u001b[39;00m \u001b[38;5;28;01mNone\u001b[39;00m:\n\u001b[1;32m     25\u001b[0m     kwargs[\u001b[38;5;124m\"\u001b[39m\u001b[38;5;124mVersionId\u001b[39m\u001b[38;5;124m\"\u001b[39m] \u001b[38;5;241m=\u001b[39m version_id\n\u001b[0;32m---> 27\u001b[0m object_size \u001b[38;5;241m=\u001b[39m \u001b[43ms3\u001b[49m\u001b[38;5;241;43m.\u001b[39;49m\u001b[43mhead_object\u001b[49m\u001b[43m(\u001b[49m\u001b[38;5;241;43m*\u001b[39;49m\u001b[38;5;241;43m*\u001b[39;49m\u001b[43mkwargs\u001b[49m\u001b[43m)\u001b[49m[\u001b[38;5;124m\"\u001b[39m\u001b[38;5;124mContentLength\u001b[39m\u001b[38;5;124m\"\u001b[39m]\n\u001b[1;32m     29\u001b[0m \u001b[38;5;66;03m# Now actually download the object, with a progress bar to match.\u001b[39;00m\n\u001b[1;32m     30\u001b[0m \u001b[38;5;66;03m# How this works:\u001b[39;00m\n\u001b[1;32m     31\u001b[0m \u001b[38;5;66;03m#\u001b[39;00m\n\u001b[0;32m   (...)\u001b[0m\n\u001b[1;32m     44\u001b[0m \u001b[38;5;66;03m#       transferred.  We can use it to update the progress bar.\u001b[39;00m\n\u001b[1;32m     45\u001b[0m \u001b[38;5;66;03m#\u001b[39;00m\n\u001b[1;32m     46\u001b[0m \u001b[38;5;28;01mif\u001b[39;00m version_id \u001b[38;5;129;01mis\u001b[39;00m \u001b[38;5;129;01mnot\u001b[39;00m \u001b[38;5;28;01mNone\u001b[39;00m:\n",
      "File \u001b[0;32m~/miniconda3/envs/2024-kmerseek-analysis-polars/lib/python3.12/site-packages/botocore/client.py:569\u001b[0m, in \u001b[0;36mClientCreator._create_api_method.<locals>._api_call\u001b[0;34m(self, *args, **kwargs)\u001b[0m\n\u001b[1;32m    565\u001b[0m     \u001b[38;5;28;01mraise\u001b[39;00m \u001b[38;5;167;01mTypeError\u001b[39;00m(\n\u001b[1;32m    566\u001b[0m         \u001b[38;5;124mf\u001b[39m\u001b[38;5;124m\"\u001b[39m\u001b[38;5;132;01m{\u001b[39;00mpy_operation_name\u001b[38;5;132;01m}\u001b[39;00m\u001b[38;5;124m() only accepts keyword arguments.\u001b[39m\u001b[38;5;124m\"\u001b[39m\n\u001b[1;32m    567\u001b[0m     )\n\u001b[1;32m    568\u001b[0m \u001b[38;5;66;03m# The \"self\" in this scope is referring to the BaseClient.\u001b[39;00m\n\u001b[0;32m--> 569\u001b[0m \u001b[38;5;28;01mreturn\u001b[39;00m \u001b[38;5;28;43mself\u001b[39;49m\u001b[38;5;241;43m.\u001b[39;49m\u001b[43m_make_api_call\u001b[49m\u001b[43m(\u001b[49m\u001b[43moperation_name\u001b[49m\u001b[43m,\u001b[49m\u001b[43m \u001b[49m\u001b[43mkwargs\u001b[49m\u001b[43m)\u001b[49m\n",
      "File \u001b[0;32m~/miniconda3/envs/2024-kmerseek-analysis-polars/lib/python3.12/site-packages/botocore/client.py:1023\u001b[0m, in \u001b[0;36mBaseClient._make_api_call\u001b[0;34m(self, operation_name, api_params)\u001b[0m\n\u001b[1;32m   1019\u001b[0m     error_code \u001b[38;5;241m=\u001b[39m error_info\u001b[38;5;241m.\u001b[39mget(\u001b[38;5;124m\"\u001b[39m\u001b[38;5;124mQueryErrorCode\u001b[39m\u001b[38;5;124m\"\u001b[39m) \u001b[38;5;129;01mor\u001b[39;00m error_info\u001b[38;5;241m.\u001b[39mget(\n\u001b[1;32m   1020\u001b[0m         \u001b[38;5;124m\"\u001b[39m\u001b[38;5;124mCode\u001b[39m\u001b[38;5;124m\"\u001b[39m\n\u001b[1;32m   1021\u001b[0m     )\n\u001b[1;32m   1022\u001b[0m     error_class \u001b[38;5;241m=\u001b[39m \u001b[38;5;28mself\u001b[39m\u001b[38;5;241m.\u001b[39mexceptions\u001b[38;5;241m.\u001b[39mfrom_code(error_code)\n\u001b[0;32m-> 1023\u001b[0m     \u001b[38;5;28;01mraise\u001b[39;00m error_class(parsed_response, operation_name)\n\u001b[1;32m   1024\u001b[0m \u001b[38;5;28;01melse\u001b[39;00m:\n\u001b[1;32m   1025\u001b[0m     \u001b[38;5;28;01mreturn\u001b[39;00m parsed_response\n",
      "\u001b[0;31mClientError\u001b[0m: An error occurred (404) when calling the HeadObject operation: Not Found"
     ]
    }
   ],
   "source": [
    "# Skip ksizes 5 and 6 for now because those files are enormous, 2.3 GiB for k=5 and 175 MiB for k=6\n",
    "# # -> Figure out how to use polars later\n",
    "# ksizes = range(7, 21)\n",
    "# moltype = \"protein\"\n",
    "\n",
    "moltype_info = {\n",
    "    # \"protein\": dict(\n",
    "    #     ksizes=range(5, 21),\n",
    "    #     pipeline_outdir=\"s3://seanome-kmerseek/scope-benchmark/pipeline-outputs/2024-10-08__protein_k5-20\",\n",
    "    #     analysis_outdir=\"s3://seanome-kmerseek/scope-benchmark/analysis-outputs/protein\",\n",
    "    # ),\n",
    "    # \"dayhoff\": dict(\n",
    "    #     ksizes=range(5, 21),\n",
    "    #     pipeline_outdir=\"s3://seanome-kmerseek/scope-benchmark/pipeline-outputs/2024-10-09__dayhoff_k5-20\",\n",
    "    #     analysis_outdir=\"s3://seanome-kmerseek/scope-benchmark/analysis-outputs/dayhoff\",\n",
    "    # ),\n",
    "    \"hp\": dict(\n",
    "        ksizes=range(10, 20),\n",
    "        # pipeline_outdir=\"s3://seanome-kmerseek/scope-benchmark/pipeline-outputs/2024-10-09__hp_k20-60\",\n",
    "        pipeline_outdir=\"/home/ec2-user/data/seanome-kmerseek/scope-benchmark/pipeline-outputs/2024-10-09__hp_k20-60\",\n",
    "        # analysis_outdir=\"s3://seanome-kmerseek/scope-benchmark/analysis-outputs/hp\",\n",
    "        analysis_outdir=\"/home/ec2-user/data/seanome-kmerseek/scope-benchmark/analysis-outputs/hp\",\n",
    "    ),\n",
    "}\n",
    "\n",
    "for moltype, info in moltype_info.items():\n",
    "    ksizes = info[\"ksizes\"]\n",
    "    analysis_outdir = info[\"analysis_outdir\"]\n",
    "    pipeline_outdir = info[\"pipeline_outdir\"]\n",
    "    for ksize in ksizes:\n",
    "        print(f\"--- moltype: {moltype}, ksize: {ksize} --\")\n",
    "\n",
    "        # try:\n",
    "        parser = MultisearchParser(\n",
    "            query_metadata=query_metadata,\n",
    "            match_metadata=match_metadata,\n",
    "            pipeline_outdir=pipeline_outdir,\n",
    "            moltype=moltype,\n",
    "            ksize=ksize,\n",
    "            analysis_outdir=analysis_outdir,\n",
    "            verbose=False,\n",
    "            input_filetype=\"pq\",\n",
    "            chunk_size=1000000,\n",
    "            # schema=schema,\n",
    "            # chunk_size=100000, # Default\n",
    "        )\n",
    "        lf = parser.process_multisearch_scop_results()\n",
    "    #     break\n",
    "    # break\n",
    "    # lf.head().collect()\n",
    "    # except FileNotFoundError:\n",
    "    #     pass\n",
    "\n",
    "    # break\n",
    "lf"
   ]
  },
  {
   "cell_type": "code",
   "execution_count": 17,
   "id": "3c553290-56f9-4851-9df0-9d7480cc3321",
   "metadata": {
    "execution": {
     "iopub.execute_input": "2024-11-01T22:43:35.359534Z",
     "iopub.status.busy": "2024-11-01T22:43:35.359094Z",
     "iopub.status.idle": "2024-11-01T22:44:10.497193Z",
     "shell.execute_reply": "2024-11-01T22:44:10.496767Z",
     "shell.execute_reply.started": "2024-11-01T22:43:35.359520Z"
    }
   },
   "outputs": [
    {
     "name": "stdout",
     "output_type": "stream",
     "text": [
      "> \u001b[0;32m/home/ec2-user/miniconda3/envs/2024-kmerseek-analysis-polars/lib/python3.12/site-packages/botocore/client.py\u001b[0m(1023)\u001b[0;36m_make_api_call\u001b[0;34m()\u001b[0m\n",
      "\u001b[0;32m   1021 \u001b[0;31m            \u001b[0;34m)\u001b[0m\u001b[0;34m\u001b[0m\u001b[0;34m\u001b[0m\u001b[0m\n",
      "\u001b[0m\u001b[0;32m   1022 \u001b[0;31m            \u001b[0merror_class\u001b[0m \u001b[0;34m=\u001b[0m \u001b[0mself\u001b[0m\u001b[0;34m.\u001b[0m\u001b[0mexceptions\u001b[0m\u001b[0;34m.\u001b[0m\u001b[0mfrom_code\u001b[0m\u001b[0;34m(\u001b[0m\u001b[0merror_code\u001b[0m\u001b[0;34m)\u001b[0m\u001b[0;34m\u001b[0m\u001b[0;34m\u001b[0m\u001b[0m\n",
      "\u001b[0m\u001b[0;32m-> 1023 \u001b[0;31m            \u001b[0;32mraise\u001b[0m \u001b[0merror_class\u001b[0m\u001b[0;34m(\u001b[0m\u001b[0mparsed_response\u001b[0m\u001b[0;34m,\u001b[0m \u001b[0moperation_name\u001b[0m\u001b[0;34m)\u001b[0m\u001b[0;34m\u001b[0m\u001b[0;34m\u001b[0m\u001b[0m\n",
      "\u001b[0m\u001b[0;32m   1024 \u001b[0;31m        \u001b[0;32melse\u001b[0m\u001b[0;34m:\u001b[0m\u001b[0;34m\u001b[0m\u001b[0;34m\u001b[0m\u001b[0m\n",
      "\u001b[0m\u001b[0;32m   1025 \u001b[0;31m            \u001b[0;32mreturn\u001b[0m \u001b[0mparsed_response\u001b[0m\u001b[0;34m\u001b[0m\u001b[0;34m\u001b[0m\u001b[0m\n",
      "\u001b[0m\n"
     ]
    },
    {
     "name": "stdin",
     "output_type": "stream",
     "text": [
      "ipdb>  a\n"
     ]
    },
    {
     "name": "stdout",
     "output_type": "stream",
     "text": [
      "self = <botocore.client.S3 object at 0x7f85c00edfa0>\n",
      "operation_name = 'HeadObject'\n",
      "api_params = {'Bucket': 'seanome-kmerseek', 'Key': 'scope-benchmark/pipeline-outputs/2024-10-09__dayhoff_k5-20/sourmash/multisearch/astral-scopedom-seqres-gd-sel-gs-bib-40-2.08.part_001.fa--in--astral-scopedom-seqres-gd-sel-gs-bib-40-2.08.part_001.fa.dayhoff.5.multisearch.pq'}\n"
     ]
    },
    {
     "name": "stdin",
     "output_type": "stream",
     "text": [
      "ipdb>  q\n"
     ]
    }
   ],
   "source": [
    "%debug"
   ]
  },
  {
   "cell_type": "code",
   "execution_count": 2,
   "id": "c7991c82-0312-4201-91bc-0f7005e5c6c9",
   "metadata": {
    "execution": {
     "iopub.execute_input": "2024-11-01T22:13:51.126228Z",
     "iopub.status.busy": "2024-11-01T22:13:51.125833Z",
     "iopub.status.idle": "2024-11-01T22:13:51.255446Z",
     "shell.execute_reply": "2024-11-01T22:13:51.255026Z",
     "shell.execute_reply.started": "2024-11-01T22:13:51.126211Z"
    }
   },
   "outputs": [
    {
     "name": "stdout",
     "output_type": "stream",
     "text": [
      "scope40.multisearch.hp.k10.filtered.pq\tscope40.multisearch.hp.k15.filtered.pq\n",
      "scope40.multisearch.hp.k11.filtered.pq\tscope40.multisearch.hp.k16.filtered.pq\n",
      "scope40.multisearch.hp.k12.filtered.pq\tscope40.multisearch.hp.k17.filtered.pq\n",
      "scope40.multisearch.hp.k13.filtered.pq\tscope40.multisearch.hp.k18.filtered.pq\n",
      "scope40.multisearch.hp.k14.filtered.pq\tscope40.multisearch.hp.k19.filtered.pq\n"
     ]
    }
   ],
   "source": [
    "! ls /home/ec2-user/data/seanome-kmerseek/scope-benchmark/analysis-outputs/hp/00_cleaned_multisearch_results"
   ]
  },
  {
   "cell_type": "code",
   "execution_count": 3,
   "id": "79bbd08b-4e82-4e04-8eaa-ed31da709f23",
   "metadata": {
    "execution": {
     "iopub.execute_input": "2024-11-01T22:14:48.803659Z",
     "iopub.status.busy": "2024-11-01T22:14:48.803339Z",
     "iopub.status.idle": "2024-11-01T22:14:49.941414Z",
     "shell.execute_reply": "2024-11-01T22:14:49.940993Z",
     "shell.execute_reply.started": "2024-11-01T22:14:48.803642Z"
    }
   },
   "outputs": [
    {
     "name": "stdout",
     "output_type": "stream",
     "text": [
      "(dryrun) upload: ../../data/seanome-kmerseek/scope-benchmark/analysis-outputs/hp/00_cleaned_multisearch_results/scope40.multisearch.hp.k10.filtered.pq to s3://seanome-kmerseek/scope-benchmark/analysis-outputs/hp/00_cleaned_multisearch_results/scope40.multisearch.hp.k10.filtered.pq\n",
      "(dryrun) upload: ../../data/seanome-kmerseek/scope-benchmark/analysis-outputs/hp/00_cleaned_multisearch_results/scope40.multisearch.hp.k11.filtered.pq to s3://seanome-kmerseek/scope-benchmark/analysis-outputs/hp/00_cleaned_multisearch_results/scope40.multisearch.hp.k11.filtered.pq\n",
      "(dryrun) upload: ../../data/seanome-kmerseek/scope-benchmark/analysis-outputs/hp/00_cleaned_multisearch_results/scope40.multisearch.hp.k12.filtered.pq to s3://seanome-kmerseek/scope-benchmark/analysis-outputs/hp/00_cleaned_multisearch_results/scope40.multisearch.hp.k12.filtered.pq\n",
      "(dryrun) upload: ../../data/seanome-kmerseek/scope-benchmark/analysis-outputs/hp/00_cleaned_multisearch_results/scope40.multisearch.hp.k13.filtered.pq to s3://seanome-kmerseek/scope-benchmark/analysis-outputs/hp/00_cleaned_multisearch_results/scope40.multisearch.hp.k13.filtered.pq\n",
      "(dryrun) upload: ../../data/seanome-kmerseek/scope-benchmark/analysis-outputs/hp/00_cleaned_multisearch_results/scope40.multisearch.hp.k14.filtered.pq to s3://seanome-kmerseek/scope-benchmark/analysis-outputs/hp/00_cleaned_multisearch_results/scope40.multisearch.hp.k14.filtered.pq\n",
      "(dryrun) upload: ../../data/seanome-kmerseek/scope-benchmark/analysis-outputs/hp/00_cleaned_multisearch_results/scope40.multisearch.hp.k15.filtered.pq to s3://seanome-kmerseek/scope-benchmark/analysis-outputs/hp/00_cleaned_multisearch_results/scope40.multisearch.hp.k15.filtered.pq\n",
      "(dryrun) upload: ../../data/seanome-kmerseek/scope-benchmark/analysis-outputs/hp/00_cleaned_multisearch_results/scope40.multisearch.hp.k16.filtered.pq to s3://seanome-kmerseek/scope-benchmark/analysis-outputs/hp/00_cleaned_multisearch_results/scope40.multisearch.hp.k16.filtered.pq\n",
      "(dryrun) upload: ../../data/seanome-kmerseek/scope-benchmark/analysis-outputs/hp/00_cleaned_multisearch_results/scope40.multisearch.hp.k17.filtered.pq to s3://seanome-kmerseek/scope-benchmark/analysis-outputs/hp/00_cleaned_multisearch_results/scope40.multisearch.hp.k17.filtered.pq\n",
      "(dryrun) upload: ../../data/seanome-kmerseek/scope-benchmark/analysis-outputs/hp/00_cleaned_multisearch_results/scope40.multisearch.hp.k18.filtered.pq to s3://seanome-kmerseek/scope-benchmark/analysis-outputs/hp/00_cleaned_multisearch_results/scope40.multisearch.hp.k18.filtered.pq\n",
      "(dryrun) upload: ../../data/seanome-kmerseek/scope-benchmark/analysis-outputs/hp/00_cleaned_multisearch_results/scope40.multisearch.hp.k19.filtered.pq to s3://seanome-kmerseek/scope-benchmark/analysis-outputs/hp/00_cleaned_multisearch_results/scope40.multisearch.hp.k19.filtered.pq\n"
     ]
    }
   ],
   "source": [
    "! aws s3 sync --dryrun /home/ec2-user/data/seanome-kmerseek/scope-benchmark/analysis-outputs/hp s3://seanome-kmerseek/scope-benchmark/analysis-outputs/hp"
   ]
  },
  {
   "cell_type": "markdown",
   "id": "d188f05f-2e4f-4fab-8be4-b09b813598ef",
   "metadata": {},
   "source": [
    "## Copy outputs to S3 for safekeeping"
   ]
  },
  {
   "cell_type": "code",
   "execution_count": 4,
   "id": "5ec2240f-836e-4f52-8d3a-3182b31ea16d",
   "metadata": {
    "execution": {
     "iopub.execute_input": "2024-11-01T22:15:02.045838Z",
     "iopub.status.busy": "2024-11-01T22:15:02.045576Z",
     "iopub.status.idle": "2024-11-01T22:34:58.617823Z",
     "shell.execute_reply": "2024-11-01T22:34:58.617431Z",
     "shell.execute_reply.started": "2024-11-01T22:15:02.045821Z"
    }
   },
   "outputs": [
    {
     "name": "stdout",
     "output_type": "stream",
     "text": [
      "upload: ../../data/seanome-kmerseek/scope-benchmark/analysis-outputs/hp/00_cleaned_multisearch_results/scope40.multisearch.hp.k14.filtered.pq to s3://seanome-kmerseek/scope-benchmark/analysis-outputs/hp/00_cleaned_multisearch_results/scope40.multisearch.hp.k14.filtered.pq\n",
      "upload: ../../data/seanome-kmerseek/scope-benchmark/analysis-outputs/hp/00_cleaned_multisearch_results/scope40.multisearch.hp.k13.filtered.pq to s3://seanome-kmerseek/scope-benchmark/analysis-outputs/hp/00_cleaned_multisearch_results/scope40.multisearch.hp.k13.filtered.pq\n",
      "upload: ../../data/seanome-kmerseek/scope-benchmark/analysis-outputs/hp/00_cleaned_multisearch_results/scope40.multisearch.hp.k15.filtered.pq to s3://seanome-kmerseek/scope-benchmark/analysis-outputs/hp/00_cleaned_multisearch_results/scope40.multisearch.hp.k15.filtered.pq\n",
      "upload: ../../data/seanome-kmerseek/scope-benchmark/analysis-outputs/hp/00_cleaned_multisearch_results/scope40.multisearch.hp.k17.filtered.pq to s3://seanome-kmerseek/scope-benchmark/analysis-outputs/hp/00_cleaned_multisearch_results/scope40.multisearch.hp.k17.filtered.pq\n",
      "upload: ../../data/seanome-kmerseek/scope-benchmark/analysis-outputs/hp/00_cleaned_multisearch_results/scope40.multisearch.hp.k18.filtered.pq to s3://seanome-kmerseek/scope-benchmark/analysis-outputs/hp/00_cleaned_multisearch_results/scope40.multisearch.hp.k18.filtered.pq\n",
      "upload: ../../data/seanome-kmerseek/scope-benchmark/analysis-outputs/hp/00_cleaned_multisearch_results/scope40.multisearch.hp.k16.filtered.pq to s3://seanome-kmerseek/scope-benchmark/analysis-outputs/hp/00_cleaned_multisearch_results/scope40.multisearch.hp.k16.filtered.pq\n",
      "upload: ../../data/seanome-kmerseek/scope-benchmark/analysis-outputs/hp/00_cleaned_multisearch_results/scope40.multisearch.hp.k19.filtered.pq to s3://seanome-kmerseek/scope-benchmark/analysis-outputs/hp/00_cleaned_multisearch_results/scope40.multisearch.hp.k19.filtered.pq\n",
      "upload: ../../data/seanome-kmerseek/scope-benchmark/analysis-outputs/hp/00_cleaned_multisearch_results/scope40.multisearch.hp.k12.filtered.pq to s3://seanome-kmerseek/scope-benchmark/analysis-outputs/hp/00_cleaned_multisearch_results/scope40.multisearch.hp.k12.filtered.pq\n",
      "upload: ../../data/seanome-kmerseek/scope-benchmark/analysis-outputs/hp/00_cleaned_multisearch_results/scope40.multisearch.hp.k11.filtered.pq to s3://seanome-kmerseek/scope-benchmark/analysis-outputs/hp/00_cleaned_multisearch_results/scope40.multisearch.hp.k11.filtered.pq\n",
      "upload: ../../data/seanome-kmerseek/scope-benchmark/analysis-outputs/hp/00_cleaned_multisearch_results/scope40.multisearch.hp.k10.filtered.pq to s3://seanome-kmerseek/scope-benchmark/analysis-outputs/hp/00_cleaned_multisearch_results/scope40.multisearch.hp.k10.filtered.pq\n"
     ]
    }
   ],
   "source": [
    "! aws s3 sync /home/ec2-user/data/seanome-kmerseek/scope-benchmark/analysis-outputs/hp s3://seanome-kmerseek/scope-benchmark/analysis-outputs/hp"
   ]
  },
  {
   "cell_type": "markdown",
   "id": "b92b8bf5-7e34-4ef5-885f-5fc529c9ad90",
   "metadata": {},
   "source": [
    "## Do Protein, dayhoff, so everything is in the same format\n",
    "\n",
    "Dayhoff never finished because the k=5 was SO HUGE and could never be processed"
   ]
  },
  {
   "cell_type": "code",
   "execution_count": null,
   "id": "55ff7a7d-936e-4822-b2a2-14d309658f7a",
   "metadata": {
    "execution": {
     "iopub.execute_input": "2024-11-04T23:32:40.222394Z",
     "iopub.status.busy": "2024-11-04T23:32:40.222038Z"
    }
   },
   "outputs": [
    {
     "name": "stdout",
     "output_type": "stream",
     "text": [
      "--- moltype: protein, ksize: 5 --\n"
     ]
    },
    {
     "name": "stderr",
     "output_type": "stream",
     "text": [
      "/home/ec2-user/tmp/fmokozol: 100%|██████████████████████████████████████████████████████████████████████████████████████| 2.52G/2.52G [00:09<00:00, 272MB/s]\n",
      "6it [00:06,  1.03s/it]\n",
      "/tmp/tmp8bqvv18d: 100%|████████████████████████████████████████████████████████████████████████████████████████████████| 86.2M/86.2M [00:00<00:00, 93.9MB/s]\n"
     ]
    },
    {
     "name": "stdout",
     "output_type": "stream",
     "text": [
      "\tDone.\n",
      "--- moltype: protein, ksize: 6 --\n"
     ]
    },
    {
     "name": "stderr",
     "output_type": "stream",
     "text": [
      "/home/ec2-user/tmp/79sci593: 100%|████████████████████████████████████████████████████████████████████████████████████████| 183M/183M [00:00<00:00, 223MB/s]\n",
      "1it [00:00,  1.92it/s]\n",
      "/tmp/tmpyk8128ts: 100%|████████████████████████████████████████████████████████████████████████████████████████████████| 6.19M/6.19M [00:00<00:00, 53.3MB/s]\n"
     ]
    },
    {
     "name": "stdout",
     "output_type": "stream",
     "text": [
      "\tDone.\n",
      "--- moltype: protein, ksize: 7 --\n"
     ]
    },
    {
     "name": "stderr",
     "output_type": "stream",
     "text": [
      "/home/ec2-user/tmp/ervtygnz: 100%|█████████████████████████████████████████████████████████████████████████████████████| 21.7M/21.7M [00:00<00:00, 23.6MB/s]\n",
      "1it [00:00,  8.48it/s]\n",
      "/tmp/tmpe5lctqdz: 100%|████████████████████████████████████████████████████████████████████████████████████████████████| 1.20M/1.20M [00:00<00:00, 5.46MB/s]\n"
     ]
    },
    {
     "name": "stdout",
     "output_type": "stream",
     "text": [
      "\tDone.\n",
      "--- moltype: protein, ksize: 8 --\n"
     ]
    },
    {
     "name": "stderr",
     "output_type": "stream",
     "text": [
      "/home/ec2-user/tmp/3tev8zs0: 100%|█████████████████████████████████████████████████████████████████████████████████████| 8.79M/8.79M [00:00<00:00, 37.9MB/s]\n",
      "1it [00:00, 13.61it/s]\n",
      "/tmp/tmp3m71pc1p: 100%|██████████████████████████████████████████████████████████████████████████████████████████████████| 470k/470k [00:00<00:00, 5.70MB/s]\n"
     ]
    },
    {
     "name": "stdout",
     "output_type": "stream",
     "text": [
      "\tDone.\n",
      "--- moltype: protein, ksize: 9 --\n"
     ]
    },
    {
     "name": "stderr",
     "output_type": "stream",
     "text": [
      "/home/ec2-user/tmp/mqn4d1zx: 100%|█████████████████████████████████████████████████████████████████████████████████████| 6.90M/6.90M [00:00<00:00, 11.7MB/s]\n",
      "1it [00:00,  9.36it/s]\n",
      "/tmp/tmpfo_ylyso: 100%|██████████████████████████████████████████████████████████████████████████████████████████████████| 249k/249k [00:00<00:00, 1.70MB/s]\n"
     ]
    },
    {
     "name": "stdout",
     "output_type": "stream",
     "text": [
      "\tDone.\n",
      "--- moltype: protein, ksize: 10 --\n"
     ]
    },
    {
     "name": "stderr",
     "output_type": "stream",
     "text": [
      "/home/ec2-user/tmp/1d1vvqzh: 100%|█████████████████████████████████████████████████████████████████████████████████████| 6.26M/6.26M [00:00<00:00, 19.0MB/s]\n",
      "1it [00:00, 12.57it/s]\n",
      "/tmp/tmprw20j89f: 100%|██████████████████████████████████████████████████████████████████████████████████████████████████| 164k/164k [00:00<00:00, 1.05MB/s]\n"
     ]
    },
    {
     "name": "stdout",
     "output_type": "stream",
     "text": [
      "\tDone.\n",
      "--- moltype: protein, ksize: 11 --\n"
     ]
    },
    {
     "name": "stderr",
     "output_type": "stream",
     "text": [
      "/home/ec2-user/tmp/eprq4dm9: 100%|█████████████████████████████████████████████████████████████████████████████████████| 5.97M/5.97M [00:00<00:00, 21.1MB/s]\n",
      "1it [00:00, 13.89it/s]\n",
      "/tmp/tmpqet597y6: 100%|███████████████████████████████████████████████████████████████████████████████████████████████████| 116k/116k [00:00<00:00, 850kB/s]\n"
     ]
    },
    {
     "name": "stdout",
     "output_type": "stream",
     "text": [
      "\tDone.\n",
      "--- moltype: protein, ksize: 12 --\n"
     ]
    },
    {
     "name": "stderr",
     "output_type": "stream",
     "text": [
      "/home/ec2-user/tmp/ar_d4tf1: 100%|█████████████████████████████████████████████████████████████████████████████████████| 5.81M/5.81M [00:00<00:00, 12.1MB/s]\n",
      "1it [00:00,  9.93it/s]\n",
      "/tmp/tmpl6a288t0: 100%|█████████████████████████████████████████████████████████████████████████████████████████████████| 92.7k/92.7k [00:00<00:00, 953kB/s]\n"
     ]
    },
    {
     "name": "stdout",
     "output_type": "stream",
     "text": [
      "\tDone.\n",
      "--- moltype: protein, ksize: 13 --\n"
     ]
    },
    {
     "name": "stderr",
     "output_type": "stream",
     "text": [
      "/home/ec2-user/tmp/u6yzxgnx: 100%|█████████████████████████████████████████████████████████████████████████████████████| 5.73M/5.73M [00:00<00:00, 22.6MB/s]\n",
      "1it [00:00,  7.95it/s]\n",
      "/tmp/tmp1011dhjj: 100%|█████████████████████████████████████████████████████████████████████████████████████████████████| 77.9k/77.9k [00:00<00:00, 871kB/s]\n"
     ]
    },
    {
     "name": "stdout",
     "output_type": "stream",
     "text": [
      "\tDone.\n",
      "--- moltype: protein, ksize: 14 --\n"
     ]
    },
    {
     "name": "stderr",
     "output_type": "stream",
     "text": [
      "/home/ec2-user/tmp/awblsl6y: 100%|█████████████████████████████████████████████████████████████████████████████████████| 5.70M/5.70M [00:00<00:00, 16.8MB/s]\n",
      "1it [00:00, 15.30it/s]\n",
      "/tmp/tmp2lcxybhe: 100%|█████████████████████████████████████████████████████████████████████████████████████████████████| 67.3k/67.3k [00:00<00:00, 557kB/s]\n"
     ]
    },
    {
     "name": "stdout",
     "output_type": "stream",
     "text": [
      "\tDone.\n",
      "--- moltype: protein, ksize: 15 --\n"
     ]
    },
    {
     "name": "stderr",
     "output_type": "stream",
     "text": [
      "/home/ec2-user/tmp/fybed5f2: 100%|█████████████████████████████████████████████████████████████████████████████████████| 5.67M/5.67M [00:00<00:00, 11.1MB/s]\n",
      "1it [00:00, 14.80it/s]\n",
      "/tmp/tmpdaoba41d: 100%|█████████████████████████████████████████████████████████████████████████████████████████████████| 61.0k/61.0k [00:00<00:00, 454kB/s]\n"
     ]
    },
    {
     "name": "stdout",
     "output_type": "stream",
     "text": [
      "\tDone.\n",
      "--- moltype: protein, ksize: 16 --\n"
     ]
    },
    {
     "name": "stderr",
     "output_type": "stream",
     "text": [
      "/home/ec2-user/tmp/71ymv0cc: 100%|█████████████████████████████████████████████████████████████████████████████████████| 5.65M/5.65M [00:00<00:00, 18.7MB/s]\n",
      "1it [00:00,  8.14it/s]\n",
      "/tmp/tmpnvxd3op7: 100%|█████████████████████████████████████████████████████████████████████████████████████████████████| 59.0k/59.0k [00:00<00:00, 681kB/s]\n"
     ]
    },
    {
     "name": "stdout",
     "output_type": "stream",
     "text": [
      "\tDone.\n",
      "--- moltype: protein, ksize: 17 --\n"
     ]
    },
    {
     "name": "stderr",
     "output_type": "stream",
     "text": [
      "/home/ec2-user/tmp/lwpbkaj5: 100%|█████████████████████████████████████████████████████████████████████████████████████| 5.65M/5.65M [00:00<00:00, 18.4MB/s]\n",
      "1it [00:00, 17.12it/s]\n",
      "/tmp/tmpo3a_zs3e: 100%|█████████████████████████████████████████████████████████████████████████████████████████████████| 56.5k/56.5k [00:00<00:00, 484kB/s]\n"
     ]
    },
    {
     "name": "stdout",
     "output_type": "stream",
     "text": [
      "\tDone.\n",
      "--- moltype: protein, ksize: 18 --\n"
     ]
    },
    {
     "name": "stderr",
     "output_type": "stream",
     "text": [
      "/home/ec2-user/tmp/lay3xyds: 100%|█████████████████████████████████████████████████████████████████████████████████████| 5.64M/5.64M [00:00<00:00, 17.1MB/s]\n",
      "1it [00:00, 16.20it/s]\n",
      "/tmp/tmpw7mz8aa1: 100%|█████████████████████████████████████████████████████████████████████████████████████████████████| 54.4k/54.4k [00:00<00:00, 770kB/s]\n"
     ]
    },
    {
     "name": "stdout",
     "output_type": "stream",
     "text": [
      "\tDone.\n",
      "--- moltype: protein, ksize: 19 --\n"
     ]
    },
    {
     "name": "stderr",
     "output_type": "stream",
     "text": [
      "/home/ec2-user/tmp/gzflw26p: 100%|█████████████████████████████████████████████████████████████████████████████████████| 5.64M/5.64M [00:00<00:00, 9.26MB/s]\n",
      "1it [00:00, 21.23it/s]\n",
      "/tmp/tmpzh8j2dj8: 100%|█████████████████████████████████████████████████████████████████████████████████████████████████| 53.5k/53.5k [00:00<00:00, 681kB/s]\n"
     ]
    },
    {
     "name": "stdout",
     "output_type": "stream",
     "text": [
      "\tDone.\n",
      "--- moltype: protein, ksize: 20 --\n"
     ]
    },
    {
     "name": "stderr",
     "output_type": "stream",
     "text": [
      "/home/ec2-user/tmp/zlu3heq2: 100%|█████████████████████████████████████████████████████████████████████████████████████| 5.64M/5.64M [00:00<00:00, 43.8MB/s]\n",
      "1it [00:00, 15.76it/s]\n",
      "/tmp/tmpvoohm9u4: 100%|█████████████████████████████████████████████████████████████████████████████████████████████████| 51.7k/51.7k [00:00<00:00, 462kB/s]\n"
     ]
    },
    {
     "name": "stdout",
     "output_type": "stream",
     "text": [
      "\tDone.\n",
      "--- moltype: dayhoff, ksize: 5 --\n"
     ]
    },
    {
     "name": "stderr",
     "output_type": "stream",
     "text": [
      "/home/ec2-user/tmp/80wh67qc:  10%|████████▏                                                                          | 9.12G/93.0G [04:50<6:43:47, 3.46MB/s]"
     ]
    }
   ],
   "source": [
    "# Skip ksizes 5 and 6 for now because those files are enormous, 2.3 GiB for k=5 and 175 MiB for k=6\n",
    "# # -> Figure out how to use polars later\n",
    "# ksizes = range(7, 21)\n",
    "# moltype = \"protein\"\n",
    "\n",
    "moltype_info = {\n",
    "    \"protein\": dict(\n",
    "        ksizes=range(5, 21),\n",
    "        pipeline_outdir=\"s3://seanome-kmerseek/scope-benchmark/pipeline-outputs/2024-10-08__protein_k5-20\",\n",
    "        analysis_outdir=\"s3://seanome-kmerseek/scope-benchmark/analysis-outputs/protein\",\n",
    "    ),\n",
    "    \"dayhoff\": dict(\n",
    "        ksizes=range(5, 21),\n",
    "        pipeline_outdir=\"s3://seanome-kmerseek/scope-benchmark/pipeline-outputs/2024-10-09__dayhoff_k5-20\",\n",
    "        analysis_outdir=\"s3://seanome-kmerseek/scope-benchmark/analysis-outputs/dayhoff\",\n",
    "    ),\n",
    "    # \"hp\": dict(\n",
    "    #     ksizes=range(10, 20),\n",
    "    #     # pipeline_outdir=\"s3://seanome-kmerseek/scope-benchmark/pipeline-outputs/2024-10-09__hp_k20-60\",\n",
    "    #     pipeline_outdir=\"/home/ec2-user/data/seanome-kmerseek/scope-benchmark/pipeline-outputs/2024-10-09__hp_k20-60\",\n",
    "    #     # analysis_outdir=\"s3://seanome-kmerseek/scope-benchmark/analysis-outputs/hp\",\n",
    "    #     analysis_outdir=\"/home/ec2-user/data/seanome-kmerseek/scope-benchmark/analysis-outputs/hp\",\n",
    "    # ),\n",
    "}\n",
    "\n",
    "for moltype, info in moltype_info.items():\n",
    "    ksizes = info[\"ksizes\"]\n",
    "    pipeline_outdir = info[\"pipeline_outdir\"]\n",
    "    analysis_outdir = info[\"analysis_outdir\"]\n",
    "    ! mkdir -p $analysis_outdir/00_cleaned_multisearch_results\n",
    "    for ksize in ksizes:\n",
    "        print(f\"--- moltype: {moltype}, ksize: {ksize} --\")\n",
    "\n",
    "        # try:\n",
    "        parser = MultisearchParser(\n",
    "            query_metadata=query_metadata,\n",
    "            match_metadata=match_metadata,\n",
    "            pipeline_outdir=pipeline_outdir,\n",
    "            moltype=moltype,\n",
    "            ksize=ksize,\n",
    "            analysis_outdir=analysis_outdir,\n",
    "            verbose=False,\n",
    "            input_filetype=\"csv\",\n",
    "            chunk_size=1000000,\n",
    "            # schema=schema,\n",
    "            # chunk_size=100000, # Default\n",
    "        )\n",
    "        lf = parser.process_multisearch_scop_results()\n",
    "    #     break\n",
    "    # break\n",
    "    # lf.head().collect()\n",
    "    # except FileNotFoundError:\n",
    "    #     pass\n",
    "\n",
    "    # break\n",
    "lf"
   ]
  },
  {
   "cell_type": "code",
   "execution_count": null,
   "id": "31cf590c-2bcc-456e-9c4b-f129d64bc63a",
   "metadata": {},
   "outputs": [],
   "source": []
  },
  {
   "cell_type": "code",
   "execution_count": null,
   "id": "f38f8a86-2ff2-45df-b44b-15f1bc18fbc3",
   "metadata": {},
   "outputs": [],
   "source": []
  },
  {
   "cell_type": "code",
   "execution_count": null,
   "id": "afbdce5d-0943-45a8-a95f-ee78a97bf79a",
   "metadata": {},
   "outputs": [],
   "source": []
  }
 ],
 "metadata": {
  "kernelspec": {
   "display_name": "Python [conda env:2024-kmerseek-analysis-polars]",
   "language": "python",
   "name": "conda-env-2024-kmerseek-analysis-polars-py"
  },
  "language_info": {
   "codemirror_mode": {
    "name": "ipython",
    "version": 3
   },
   "file_extension": ".py",
   "mimetype": "text/x-python",
   "name": "python",
   "nbconvert_exporter": "python",
   "pygments_lexer": "ipython3",
   "version": "3.12.7"
  }
 },
 "nbformat": 4,
 "nbformat_minor": 5
}
