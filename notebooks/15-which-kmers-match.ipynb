{
 "cells": [
  {
   "cell_type": "markdown",
   "id": "a2ae8b5a-ed5f-47b2-be03-c4dae705f91d",
   "metadata": {},
   "source": [
    "Which k-mers are contributing to the matches? Realistically, I want to be able to show this for every protein match"
   ]
  },
  {
   "cell_type": "markdown",
   "id": "9a1aa1da-5aaf-444e-adff-fcea2c76a28d",
   "metadata": {},
   "source": [
    "# Imports and setup"
   ]
  },
  {
   "cell_type": "markdown",
   "id": "9a2ab7ad-fd54-4455-a172-af64a03fcaf2",
   "metadata": {},
   "source": [
    "### Auto-re-import python modules, useful for editing local files"
   ]
  },
  {
   "cell_type": "code",
   "execution_count": 2,
   "id": "569ebeab-b5fc-404d-8669-25b4361f08ac",
   "metadata": {
    "execution": {
     "iopub.execute_input": "2024-11-06T00:12:05.318500Z",
     "iopub.status.busy": "2024-11-06T00:12:05.318167Z",
     "iopub.status.idle": "2024-11-06T00:12:05.327440Z",
     "shell.execute_reply": "2024-11-06T00:12:05.327204Z",
     "shell.execute_reply.started": "2024-11-06T00:12:05.318486Z"
    }
   },
   "outputs": [],
   "source": [
    "%load_ext autoreload\n",
    "%autoreload 2"
   ]
  },
  {
   "cell_type": "markdown",
   "id": "d997a12b-f502-404c-b312-241bffb8b265",
   "metadata": {},
   "source": [
    "## Imports"
   ]
  },
  {
   "cell_type": "code",
   "execution_count": 79,
   "id": "87108819-028a-488d-9bff-1518616101fc",
   "metadata": {
    "execution": {
     "iopub.execute_input": "2024-11-06T00:56:10.483741Z",
     "iopub.status.busy": "2024-11-06T00:56:10.483456Z",
     "iopub.status.idle": "2024-11-06T00:56:10.495932Z",
     "shell.execute_reply": "2024-11-06T00:56:10.495611Z",
     "shell.execute_reply.started": "2024-11-06T00:56:10.483728Z"
    }
   },
   "outputs": [],
   "source": [
    "import os\n",
    "\n",
    "import polars as pl\n",
    "import rich\n",
    "import screed\n",
    "\n",
    "import sourmash"
   ]
  },
  {
   "cell_type": "markdown",
   "id": "937136ba-4fdd-4fcd-91e1-50e0df20c804",
   "metadata": {},
   "source": [
    "# Read in data"
   ]
  },
  {
   "cell_type": "code",
   "execution_count": 4,
   "id": "f814888e-0260-447b-89c3-c3324ea6c1a6",
   "metadata": {
    "execution": {
     "iopub.execute_input": "2024-11-06T00:12:06.974317Z",
     "iopub.status.busy": "2024-11-06T00:12:06.974091Z",
     "iopub.status.idle": "2024-11-06T00:12:06.984041Z",
     "shell.execute_reply": "2024-11-06T00:12:06.983787Z",
     "shell.execute_reply.started": "2024-11-06T00:12:06.974306Z"
    }
   },
   "outputs": [],
   "source": [
    "ksize = 27\n",
    "moltype = \"hp\""
   ]
  },
  {
   "cell_type": "code",
   "execution_count": null,
   "id": "8dc62017-cadb-4469-8e8c-bdfa07093715",
   "metadata": {},
   "outputs": [],
   "source": []
  },
  {
   "cell_type": "code",
   "execution_count": null,
   "id": "1047dc06-e619-4a43-8714-4f245d7fe425",
   "metadata": {},
   "outputs": [],
   "source": []
  },
  {
   "cell_type": "code",
   "execution_count": 5,
   "id": "7679273f-5230-40f7-baa0-d8882302bd3a",
   "metadata": {
    "execution": {
     "iopub.execute_input": "2024-11-06T00:12:06.984428Z",
     "iopub.status.busy": "2024-11-06T00:12:06.984333Z",
     "iopub.status.idle": "2024-11-06T00:12:07.118957Z",
     "shell.execute_reply": "2024-11-06T00:12:07.118688Z",
     "shell.execute_reply.started": "2024-11-06T00:12:06.984419Z"
    }
   },
   "outputs": [
    {
     "data": {
      "text/html": [
       "<div><style>\n",
       ".dataframe > thead > tr,\n",
       ".dataframe > tbody > tr {\n",
       "  text-align: right;\n",
       "  white-space: pre-wrap;\n",
       "}\n",
       "</style>\n",
       "<small>shape: (14_724, 32)</small><table border=\"1\" class=\"dataframe\"><thead><tr><th>query_name</th><th>query_md5</th><th>match_name</th><th>match_md5</th><th>containment</th><th>max_containment</th><th>jaccard</th><th>intersect_hashes</th><th>prob_overlap</th><th>prob_overlap_adjusted</th><th>containment_adjusted</th><th>containment_adjusted_log10</th><th>tf_idf_score</th><th>query_scop_id</th><th>query_scop_lineage</th><th>query_scop_lineage_fixed</th><th>query_family</th><th>query_superfamily</th><th>query_fold</th><th>query_class</th><th>match_scop_id</th><th>match_scop_lineage</th><th>match_scop_lineage_fixed</th><th>match_family</th><th>match_superfamily</th><th>match_fold</th><th>match_class</th><th>same_family</th><th>same_superfamily</th><th>same_fold</th><th>same_class</th><th>__index_level_0__</th></tr><tr><td>str</td><td>str</td><td>str</td><td>str</td><td>f64</td><td>f64</td><td>f64</td><td>f64</td><td>f64</td><td>f64</td><td>f64</td><td>f64</td><td>f64</td><td>str</td><td>str</td><td>str</td><td>cat</td><td>cat</td><td>cat</td><td>cat</td><td>str</td><td>str</td><td>str</td><td>cat</td><td>cat</td><td>cat</td><td>cat</td><td>bool</td><td>bool</td><td>bool</td><td>bool</td><td>i64</td></tr></thead><tbody><tr><td>&quot;d1g0da3 b.1.5.1 (A:584-684) Tr…</td><td>&quot;5f9e6eb4503a7471cfc700032d52e9…</td><td>&quot;d3gcea_ b.33.1.0 (A:) automate…</td><td>&quot;e0f4b134db68bb57a20d17b9ac232e…</td><td>0.04</td><td>0.04</td><td>0.02</td><td>3.0</td><td>2.0653e-12</td><td>0.000476</td><td>84.083414</td><td>1.92471</td><td>0.38116</td><td>&quot;d1g0da3&quot;</td><td>&quot;b.1.5.1&quot;</td><td>&quot;b.1.5.1&quot;</td><td>&quot;b.1.5.1&quot;</td><td>&quot;b.1.5&quot;</td><td>&quot;b.1&quot;</td><td>&quot;b&quot;</td><td>&quot;d3gcea_&quot;</td><td>&quot;b.33.1.0&quot;</td><td>&quot;b.33.1.0&quot;</td><td>&quot;b.33.1.0&quot;</td><td>&quot;b.33.1&quot;</td><td>&quot;b.33&quot;</td><td>&quot;b&quot;</td><td>false</td><td>false</td><td>false</td><td>true</td><td>2</td></tr><tr><td>&quot;d5mdmc_ e.76.1.0 (C:) automate…</td><td>&quot;e5ee23ea824b28a30b086d141d3b1f…</td><td>&quot;d1gd8a_ d.188.1.1 (A:) Prokary…</td><td>&quot;fc8ac3e7f13b9f98a58e035e210d24…</td><td>0.007916</td><td>0.037975</td><td>0.006593</td><td>3.0</td><td>2.0653e-12</td><td>0.000476</td><td>16.639198</td><td>1.221132</td><td>0.075427</td><td>&quot;d5mdmc_&quot;</td><td>&quot;e.76.1.0&quot;</td><td>&quot;e.76.1.0&quot;</td><td>&quot;e.76.1.0&quot;</td><td>&quot;e.76.1&quot;</td><td>&quot;e.76&quot;</td><td>&quot;e&quot;</td><td>&quot;d1gd8a_&quot;</td><td>&quot;d.188.1.1&quot;</td><td>&quot;d.188.1.1&quot;</td><td>&quot;d.188.1.1&quot;</td><td>&quot;d.188.1&quot;</td><td>&quot;d.188&quot;</td><td>&quot;d&quot;</td><td>false</td><td>false</td><td>false</td><td>false</td><td>5</td></tr><tr><td>&quot;d4f3mb_ d.58.53.2 (B:) CRISPR-…</td><td>&quot;09df7885164ac177215e7b233602b1…</td><td>&quot;d1dlwa_ a.1.1.1 (A:) Protozoan…</td><td>&quot;1f16d4c0915a423839520e55696031…</td><td>0.019231</td><td>0.044444</td><td>0.013605</td><td>4.0</td><td>2.7537e-12</td><td>0.000634</td><td>30.318539</td><td>1.481708</td><td>0.18325</td><td>&quot;d4f3mb_&quot;</td><td>&quot;d.58.53.2&quot;</td><td>&quot;d.58.53.2&quot;</td><td>&quot;d.58.53.2&quot;</td><td>&quot;d.58.53&quot;</td><td>&quot;d.58&quot;</td><td>&quot;d&quot;</td><td>&quot;d1dlwa_&quot;</td><td>&quot;a.1.1.1&quot;</td><td>&quot;a.1.1.1&quot;</td><td>&quot;a.1.1.1&quot;</td><td>&quot;a.1.1&quot;</td><td>&quot;a.1&quot;</td><td>&quot;a&quot;</td><td>false</td><td>false</td><td>false</td><td>false</td><td>7</td></tr><tr><td>&quot;d3j9ca1 b.179.1.1 (A:174-225) …</td><td>&quot;f78b59c2f05c2ea1abde77ccf2e0ed…</td><td>&quot;d3tewa2 b.179.1.1 (A:15-225) P…</td><td>&quot;24efe83caff5ff87a2cfcf29349e23…</td><td>1.0</td><td>1.0</td><td>0.140541</td><td>26.0</td><td>1.7899e-11</td><td>0.004123</td><td>242.548311</td><td>2.384798</td><td>9.52899</td><td>&quot;d3j9ca1&quot;</td><td>&quot;b.179.1.1&quot;</td><td>&quot;b.179.1.1&quot;</td><td>&quot;b.179.1.1&quot;</td><td>&quot;b.179.1&quot;</td><td>&quot;b.179&quot;</td><td>&quot;b&quot;</td><td>&quot;d3tewa2&quot;</td><td>&quot;b.179.1.1&quot;</td><td>&quot;b.179.1.1&quot;</td><td>&quot;b.179.1.1&quot;</td><td>&quot;b.179.1&quot;</td><td>&quot;b.179&quot;</td><td>&quot;b&quot;</td><td>true</td><td>true</td><td>true</td><td>true</td><td>9</td></tr><tr><td>&quot;d3c3ka1 c.93.1.0 (A:7-277) aut…</td><td>&quot;6b8ab65427e44ceb9584ee9f5377c4…</td><td>&quot;d3tewa2 b.179.1.1 (A:15-225) P…</td><td>&quot;24efe83caff5ff87a2cfcf29349e23…</td><td>0.008163</td><td>0.010811</td><td>0.004673</td><td>2.0</td><td>1.3768e-12</td><td>0.000317</td><td>25.739821</td><td>1.410606</td><td>0.077788</td><td>&quot;d3c3ka1&quot;</td><td>&quot;c.93.1.0&quot;</td><td>&quot;c.93.1.0&quot;</td><td>&quot;c.93.1.0&quot;</td><td>&quot;c.93.1&quot;</td><td>&quot;c.93&quot;</td><td>&quot;c&quot;</td><td>&quot;d3tewa2&quot;</td><td>&quot;b.179.1.1&quot;</td><td>&quot;b.179.1.1&quot;</td><td>&quot;b.179.1.1&quot;</td><td>&quot;b.179.1&quot;</td><td>&quot;b.179&quot;</td><td>&quot;b&quot;</td><td>false</td><td>false</td><td>false</td><td>false</td><td>10</td></tr><tr><td>&hellip;</td><td>&hellip;</td><td>&hellip;</td><td>&hellip;</td><td>&hellip;</td><td>&hellip;</td><td>&hellip;</td><td>&hellip;</td><td>&hellip;</td><td>&hellip;</td><td>&hellip;</td><td>&hellip;</td><td>&hellip;</td><td>&hellip;</td><td>&hellip;</td><td>&hellip;</td><td>&hellip;</td><td>&hellip;</td><td>&hellip;</td><td>&hellip;</td><td>&hellip;</td><td>&hellip;</td><td>&hellip;</td><td>&hellip;</td><td>&hellip;</td><td>&hellip;</td><td>&hellip;</td><td>&hellip;</td><td>&hellip;</td><td>&hellip;</td><td>&hellip;</td><td>&hellip;</td></tr><tr><td>&quot;d1sqja1 b.69.13.1 (A:4-430) Ol…</td><td>&quot;07c9fb70f433c78f0342775b5a899a…</td><td>&quot;d2j9la1 d.37.1.1 (A:578-746) C…</td><td>&quot;8e424789ddb92cb84f023eb4f77b13…</td><td>0.007481</td><td>0.020979</td><td>0.005545</td><td>3.0</td><td>2.0653e-12</td><td>0.000476</td><td>15.726324</td><td>1.196627</td><td>0.071289</td><td>&quot;d1sqja1&quot;</td><td>&quot;b.69.13.1&quot;</td><td>&quot;b.69.13.1&quot;</td><td>&quot;b.69.13.1&quot;</td><td>&quot;b.69.13&quot;</td><td>&quot;b.69&quot;</td><td>&quot;b&quot;</td><td>&quot;d2j9la1&quot;</td><td>&quot;d.37.1.1&quot;</td><td>&quot;d.37.1.1&quot;</td><td>&quot;d.37.1.1&quot;</td><td>&quot;d.37.1&quot;</td><td>&quot;d.37&quot;</td><td>&quot;d&quot;</td><td>false</td><td>false</td><td>false</td><td>false</td><td>43818</td></tr><tr><td>&quot;d1dusa_ c.66.1.4 (A:) Hypothet…</td><td>&quot;c59d01b63986fe2e6ae3cc70e4310a…</td><td>&quot;d2j9la1 d.37.1.1 (A:578-746) C…</td><td>&quot;8e424789ddb92cb84f023eb4f77b13…</td><td>0.017857</td><td>0.020979</td><td>0.00974</td><td>3.0</td><td>2.0653e-12</td><td>0.000476</td><td>37.537239</td><td>1.574462</td><td>0.170161</td><td>&quot;d1dusa_&quot;</td><td>&quot;c.66.1.4&quot;</td><td>&quot;c.66.1.4&quot;</td><td>&quot;c.66.1.4&quot;</td><td>&quot;c.66.1&quot;</td><td>&quot;c.66&quot;</td><td>&quot;c&quot;</td><td>&quot;d2j9la1&quot;</td><td>&quot;d.37.1.1&quot;</td><td>&quot;d.37.1.1&quot;</td><td>&quot;d.37.1.1&quot;</td><td>&quot;d.37.1&quot;</td><td>&quot;d.37&quot;</td><td>&quot;d&quot;</td><td>false</td><td>false</td><td>false</td><td>false</td><td>43819</td></tr><tr><td>&quot;d1ynfa1 d.126.1.7 (A:2-441) Su…</td><td>&quot;62ace1b97b6d76d8eabadd41c586f5…</td><td>&quot;d2j9la1 d.37.1.1 (A:578-746) C…</td><td>&quot;8e424789ddb92cb84f023eb4f77b13…</td><td>0.004831</td><td>0.013986</td><td>0.003604</td><td>2.0</td><td>1.3768e-12</td><td>0.000317</td><td>15.232503</td><td>1.182771</td><td>0.046034</td><td>&quot;d1ynfa1&quot;</td><td>&quot;d.126.1.7&quot;</td><td>&quot;d.126.1.7&quot;</td><td>&quot;d.126.1.7&quot;</td><td>&quot;d.126.1&quot;</td><td>&quot;d.126&quot;</td><td>&quot;d&quot;</td><td>&quot;d2j9la1&quot;</td><td>&quot;d.37.1.1&quot;</td><td>&quot;d.37.1.1&quot;</td><td>&quot;d.37.1.1&quot;</td><td>&quot;d.37.1&quot;</td><td>&quot;d.37&quot;</td><td>&quot;d&quot;</td><td>false</td><td>false</td><td>false</td><td>true</td><td>43822</td></tr><tr><td>&quot;d2yzqa1 d.37.1.1 (A:123-278) U…</td><td>&quot;50b9836fe4775c476195f85ca650bf…</td><td>&quot;d3sl7a1 d.37.1.0 (A:76-232) au…</td><td>&quot;5ef3fef00e871b0d1e155bcedc8828…</td><td>0.015385</td><td>0.015385</td><td>0.007722</td><td>2.0</td><td>1.3768e-12</td><td>0.000317</td><td>48.509662</td><td>1.685828</td><td>0.1466</td><td>&quot;d2yzqa1&quot;</td><td>&quot;d.37.1.1&quot;</td><td>&quot;d.37.1.1&quot;</td><td>&quot;d.37.1.1&quot;</td><td>&quot;d.37.1&quot;</td><td>&quot;d.37&quot;</td><td>&quot;d&quot;</td><td>&quot;d3sl7a1&quot;</td><td>&quot;d.37.1.0&quot;</td><td>&quot;d.37.1.0&quot;</td><td>&quot;d.37.1.0&quot;</td><td>&quot;d.37.1&quot;</td><td>&quot;d.37&quot;</td><td>&quot;d&quot;</td><td>false</td><td>true</td><td>true</td><td>true</td><td>43823</td></tr><tr><td>&quot;d3sl7a1 d.37.1.0 (A:76-232) au…</td><td>&quot;5ef3fef00e871b0d1e155bcedc8828…</td><td>&quot;d2yzqa1 d.37.1.1 (A:123-278) U…</td><td>&quot;50b9836fe4775c476195f85ca650bf…</td><td>0.015267</td><td>0.015385</td><td>0.007722</td><td>2.0</td><td>1.3768e-12</td><td>0.000317</td><td>48.139359</td><td>1.6825</td><td>0.145481</td><td>&quot;d3sl7a1&quot;</td><td>&quot;d.37.1.0&quot;</td><td>&quot;d.37.1.0&quot;</td><td>&quot;d.37.1.0&quot;</td><td>&quot;d.37.1&quot;</td><td>&quot;d.37&quot;</td><td>&quot;d&quot;</td><td>&quot;d2yzqa1&quot;</td><td>&quot;d.37.1.1&quot;</td><td>&quot;d.37.1.1&quot;</td><td>&quot;d.37.1.1&quot;</td><td>&quot;d.37.1&quot;</td><td>&quot;d.37&quot;</td><td>&quot;d&quot;</td><td>false</td><td>true</td><td>true</td><td>true</td><td>43829</td></tr></tbody></table></div>"
      ],
      "text/plain": [
       "shape: (14_724, 32)\n",
       "┌───────────┬───────────┬───────────┬───────────┬───┬───────────┬───────────┬───────────┬──────────┐\n",
       "│ query_nam ┆ query_md5 ┆ match_nam ┆ match_md5 ┆ … ┆ same_supe ┆ same_fold ┆ same_clas ┆ __index_ │\n",
       "│ e         ┆ ---       ┆ e         ┆ ---       ┆   ┆ rfamily   ┆ ---       ┆ s         ┆ level_0_ │\n",
       "│ ---       ┆ str       ┆ ---       ┆ str       ┆   ┆ ---       ┆ bool      ┆ ---       ┆ _        │\n",
       "│ str       ┆           ┆ str       ┆           ┆   ┆ bool      ┆           ┆ bool      ┆ ---      │\n",
       "│           ┆           ┆           ┆           ┆   ┆           ┆           ┆           ┆ i64      │\n",
       "╞═══════════╪═══════════╪═══════════╪═══════════╪═══╪═══════════╪═══════════╪═══════════╪══════════╡\n",
       "│ d1g0da3   ┆ 5f9e6eb45 ┆ d3gcea_   ┆ e0f4b134d ┆ … ┆ false     ┆ false     ┆ true      ┆ 2        │\n",
       "│ b.1.5.1   ┆ 03a7471cf ┆ b.33.1.0  ┆ b68bb57a2 ┆   ┆           ┆           ┆           ┆          │\n",
       "│ (A:584-68 ┆ c700032d5 ┆ (A:)      ┆ 0d17b9ac2 ┆   ┆           ┆           ┆           ┆          │\n",
       "│ 4) Tr…    ┆ 2e9…      ┆ automate… ┆ 32e…      ┆   ┆           ┆           ┆           ┆          │\n",
       "│ d5mdmc_   ┆ e5ee23ea8 ┆ d1gd8a_   ┆ fc8ac3e7f ┆ … ┆ false     ┆ false     ┆ false     ┆ 5        │\n",
       "│ e.76.1.0  ┆ 24b28a30b ┆ d.188.1.1 ┆ 13b9f98a5 ┆   ┆           ┆           ┆           ┆          │\n",
       "│ (C:)      ┆ 086d141d3 ┆ (A:)      ┆ 8e035e210 ┆   ┆           ┆           ┆           ┆          │\n",
       "│ automate… ┆ b1f…      ┆ Prokary…  ┆ d24…      ┆   ┆           ┆           ┆           ┆          │\n",
       "│ d4f3mb_   ┆ 09df78851 ┆ d1dlwa_   ┆ 1f16d4c09 ┆ … ┆ false     ┆ false     ┆ false     ┆ 7        │\n",
       "│ d.58.53.2 ┆ 64ac17721 ┆ a.1.1.1   ┆ 15a423839 ┆   ┆           ┆           ┆           ┆          │\n",
       "│ (B:)      ┆ 5e7b23360 ┆ (A:) Prot ┆ 520e55696 ┆   ┆           ┆           ┆           ┆          │\n",
       "│ CRISPR-…  ┆ 2b1…      ┆ ozoan…    ┆ 031…      ┆   ┆           ┆           ┆           ┆          │\n",
       "│ d3j9ca1   ┆ f78b59c2f ┆ d3tewa2   ┆ 24efe83ca ┆ … ┆ true      ┆ true      ┆ true      ┆ 9        │\n",
       "│ b.179.1.1 ┆ 05c2ea1ab ┆ b.179.1.1 ┆ ff5ff87a2 ┆   ┆           ┆           ┆           ┆          │\n",
       "│ (A:174-22 ┆ de77ccf2e ┆ (A:15-225 ┆ cfcf29349 ┆   ┆           ┆           ┆           ┆          │\n",
       "│ 5) …      ┆ 0ed…      ┆ ) P…      ┆ e23…      ┆   ┆           ┆           ┆           ┆          │\n",
       "│ d3c3ka1   ┆ 6b8ab6542 ┆ d3tewa2   ┆ 24efe83ca ┆ … ┆ false     ┆ false     ┆ false     ┆ 10       │\n",
       "│ c.93.1.0  ┆ 7e44ceb95 ┆ b.179.1.1 ┆ ff5ff87a2 ┆   ┆           ┆           ┆           ┆          │\n",
       "│ (A:7-277) ┆ 84ee9f537 ┆ (A:15-225 ┆ cfcf29349 ┆   ┆           ┆           ┆           ┆          │\n",
       "│ aut…      ┆ 7c4…      ┆ ) P…      ┆ e23…      ┆   ┆           ┆           ┆           ┆          │\n",
       "│ …         ┆ …         ┆ …         ┆ …         ┆ … ┆ …         ┆ …         ┆ …         ┆ …        │\n",
       "│ d1sqja1   ┆ 07c9fb70f ┆ d2j9la1   ┆ 8e424789d ┆ … ┆ false     ┆ false     ┆ false     ┆ 43818    │\n",
       "│ b.69.13.1 ┆ 433c78f03 ┆ d.37.1.1  ┆ db92cb84f ┆   ┆           ┆           ┆           ┆          │\n",
       "│ (A:4-430) ┆ 42775b5a8 ┆ (A:578-74 ┆ 023eb4f77 ┆   ┆           ┆           ┆           ┆          │\n",
       "│ Ol…       ┆ 99a…      ┆ 6) C…     ┆ b13…      ┆   ┆           ┆           ┆           ┆          │\n",
       "│ d1dusa_   ┆ c59d01b63 ┆ d2j9la1   ┆ 8e424789d ┆ … ┆ false     ┆ false     ┆ false     ┆ 43819    │\n",
       "│ c.66.1.4  ┆ 986fe2e6a ┆ d.37.1.1  ┆ db92cb84f ┆   ┆           ┆           ┆           ┆          │\n",
       "│ (A:)      ┆ e3cc70e43 ┆ (A:578-74 ┆ 023eb4f77 ┆   ┆           ┆           ┆           ┆          │\n",
       "│ Hypothet… ┆ 10a…      ┆ 6) C…     ┆ b13…      ┆   ┆           ┆           ┆           ┆          │\n",
       "│ d1ynfa1   ┆ 62ace1b97 ┆ d2j9la1   ┆ 8e424789d ┆ … ┆ false     ┆ false     ┆ true      ┆ 43822    │\n",
       "│ d.126.1.7 ┆ b6d76d8ea ┆ d.37.1.1  ┆ db92cb84f ┆   ┆           ┆           ┆           ┆          │\n",
       "│ (A:2-441) ┆ badd41c58 ┆ (A:578-74 ┆ 023eb4f77 ┆   ┆           ┆           ┆           ┆          │\n",
       "│ Su…       ┆ 6f5…      ┆ 6) C…     ┆ b13…      ┆   ┆           ┆           ┆           ┆          │\n",
       "│ d2yzqa1   ┆ 50b9836fe ┆ d3sl7a1   ┆ 5ef3fef00 ┆ … ┆ true      ┆ true      ┆ true      ┆ 43823    │\n",
       "│ d.37.1.1  ┆ 4775c4761 ┆ d.37.1.0  ┆ e871b0d1e ┆   ┆           ┆           ┆           ┆          │\n",
       "│ (A:123-27 ┆ 95f85ca65 ┆ (A:76-232 ┆ 155bcedc8 ┆   ┆           ┆           ┆           ┆          │\n",
       "│ 8) U…     ┆ 0bf…      ┆ ) au…     ┆ 828…      ┆   ┆           ┆           ┆           ┆          │\n",
       "│ d3sl7a1   ┆ 5ef3fef00 ┆ d2yzqa1   ┆ 50b9836fe ┆ … ┆ true      ┆ true      ┆ true      ┆ 43829    │\n",
       "│ d.37.1.0  ┆ e871b0d1e ┆ d.37.1.1  ┆ 4775c4761 ┆   ┆           ┆           ┆           ┆          │\n",
       "│ (A:76-232 ┆ 155bcedc8 ┆ (A:123-27 ┆ 95f85ca65 ┆   ┆           ┆           ┆           ┆          │\n",
       "│ ) au…     ┆ 828…      ┆ 8) U…     ┆ 0bf…      ┆   ┆           ┆           ┆           ┆          │\n",
       "└───────────┴───────────┴───────────┴───────────┴───┴───────────┴───────────┴───────────┴──────────┘"
      ]
     },
     "execution_count": 5,
     "metadata": {},
     "output_type": "execute_result"
    }
   ],
   "source": [
    "cleaned_multisearch_folder = \"/home/ec2-user/data/seanome-kmerseek/scope-benchmark/analysis-outputs/hp/00_cleaned_multisearch_results\"\n",
    "\n",
    "pq = os.path.join(\n",
    "    cleaned_multisearch_folder, f\"scope40.multisearch.{moltype}.k{ksize}.filtered.pq\"\n",
    ")\n",
    "multisearch = pl.read_parquet(pq)\n",
    "multisearch"
   ]
  },
  {
   "cell_type": "code",
   "execution_count": 114,
   "id": "57c8832d-05fb-4869-bb34-3554af73e4a9",
   "metadata": {
    "execution": {
     "iopub.execute_input": "2024-11-06T01:16:08.074627Z",
     "iopub.status.busy": "2024-11-06T01:16:08.074336Z",
     "iopub.status.idle": "2024-11-06T01:16:10.893010Z",
     "shell.execute_reply": "2024-11-06T01:16:10.892746Z",
     "shell.execute_reply.started": "2024-11-06T01:16:08.074614Z"
    }
   },
   "outputs": [
    {
     "data": {
      "text/plain": [
       "15177"
      ]
     },
     "execution_count": 114,
     "metadata": {},
     "output_type": "execute_result"
    }
   ],
   "source": [
    "sig_folder = \"/home/ec2-user/data/seanome-kmerseek/scope-benchmark/pipeline-outputs/2024-10-09__hp_k20-60/sourmash/sigs\"\n",
    "\n",
    "sigfile = os.path.join(\n",
    "    sig_folder,\n",
    "    f\"query.astral-scopedom-seqres-gd-sel-gs-bib-40-2.08.part_001.fa.{moltype}.k{ksize}.sig.zip\",\n",
    ")\n",
    "\n",
    "sigs = {x.name.split()[0]: x for x in sourmash.load_file_as_signatures(sigfile)}\n",
    "len(sigs)"
   ]
  },
  {
   "cell_type": "code",
   "execution_count": 115,
   "id": "330f37f1-b003-445f-9efa-91014ebdf65c",
   "metadata": {
    "execution": {
     "iopub.execute_input": "2024-11-06T01:16:10.893607Z",
     "iopub.status.busy": "2024-11-06T01:16:10.893499Z",
     "iopub.status.idle": "2024-11-06T01:16:10.906245Z",
     "shell.execute_reply": "2024-11-06T01:16:10.905989Z",
     "shell.execute_reply.started": "2024-11-06T01:16:10.893597Z"
    }
   },
   "outputs": [],
   "source": [
    "query_scop_id_index = multisearch.columns.index(\"query_scop_id\")\n",
    "match_scop_id_index = multisearch.columns.index(\"match_scop_id\")\n",
    "\n",
    "for row in multisearch.iter_rows():\n",
    "    query_id = row[query_scop_id_index]\n",
    "    match_id = row[match_scop_id_index]\n",
    "    query_sig = sigs[query_id]\n",
    "    match_sig = sigs[match_id]\n",
    "    # overlap = query_sig.\n",
    "    break"
   ]
  },
  {
   "cell_type": "code",
   "execution_count": 116,
   "id": "f7abec9a-349b-4ba5-be1f-299bbdcf703b",
   "metadata": {
    "execution": {
     "iopub.execute_input": "2024-11-06T01:16:10.906615Z",
     "iopub.status.busy": "2024-11-06T01:16:10.906523Z",
     "iopub.status.idle": "2024-11-06T01:16:10.915585Z",
     "shell.execute_reply": "2024-11-06T01:16:10.915350Z",
     "shell.execute_reply.started": "2024-11-06T01:16:10.906606Z"
    }
   },
   "outputs": [],
   "source": [
    "# query_sig.minhash.intersection(match_sig.minhash)"
   ]
  },
  {
   "cell_type": "code",
   "execution_count": 117,
   "id": "f1868ce7-3c8b-4151-9c8d-09a2e7df13a9",
   "metadata": {
    "execution": {
     "iopub.execute_input": "2024-11-06T01:16:10.916244Z",
     "iopub.status.busy": "2024-11-06T01:16:10.916146Z",
     "iopub.status.idle": "2024-11-06T01:16:10.927213Z",
     "shell.execute_reply": "2024-11-06T01:16:10.926978Z",
     "shell.execute_reply.started": "2024-11-06T01:16:10.916235Z"
    }
   },
   "outputs": [
    {
     "name": "stdout",
     "output_type": "stream",
     "text": [
      "first signature:\n",
      "  signature: d1g0da3 b.1.5.1 (A:584-684) Transglutaminase, two C-terminal domains {Red sea bream (Chrysophrys major) [TaxId: 143350]}\n",
      "  md5: 5f9e6eb4503a7471cfc700032d52e90e\n",
      "  k=27 molecule=hp num=0 scaled=1\n",
      "\n",
      "second signature:\n",
      "  signature: d3gcea_ b.33.1.0 (A:) automated matches {Nocardioides aromaticivorans [TaxId: 200618]}\n",
      "  md5: e0f4b134db68bb57a20d17b9ac232e91\n",
      "  k=27 molecule=hp num=0 scaled=1\n",
      "\n",
      "similarity:                  0.02498\n",
      "first contained in second:   0.04000\n",
      "second contained in first:   0.03846\n",
      "\n",
      "number of hashes in first:   75\n",
      "number of hashes in second:  78\n",
      "\n",
      "number of hashes in common:  3\n",
      "only in first:               72\n",
      "only in second:              75\n",
      "total (union):               150\n",
      "\n"
     ]
    }
   ],
   "source": [
    "def overlap(sig1, sig2):\n",
    "    \"\"\"\n",
    "    provide detailed comparison of two signatures\n",
    "\n",
    "    Cribbed from: https://github.com/sourmash-bio/sourmash/blob/2cc44e026bc147a292a1dcac3ab2bcd046be09fa/src/sourmash/sig/__main__.py#L379C1-L457C1\n",
    "    \"\"\"\n",
    "\n",
    "    try:\n",
    "        similarity = sig1.similarity(sig2)\n",
    "    except ValueError:\n",
    "        raise\n",
    "\n",
    "    cont1 = sig1.contained_by(sig2)\n",
    "    cont2 = sig2.contained_by(sig1)\n",
    "\n",
    "    name1 = sig1.name\n",
    "    name2 = sig2.name\n",
    "\n",
    "    md5_1 = sig1.md5sum()\n",
    "    md5_2 = sig2.md5sum()\n",
    "\n",
    "    ksize = sig1.minhash.ksize\n",
    "    moltype = sig1.minhash.moltype\n",
    "\n",
    "    num = sig1.minhash.num\n",
    "    size1 = len(sig1.minhash)\n",
    "    size2 = len(sig2.minhash)\n",
    "\n",
    "    scaled = sig1.minhash.scaled\n",
    "\n",
    "    hashes_1 = set(sig1.minhash.hashes)\n",
    "    hashes_2 = set(sig2.minhash.hashes)\n",
    "\n",
    "    num_common = len(hashes_1 & hashes_2)\n",
    "    disjoint_1 = len(hashes_1 - hashes_2)\n",
    "    disjoint_2 = len(hashes_2 - hashes_1)\n",
    "    num_union = len(hashes_1.union(hashes_2))\n",
    "\n",
    "    print(\n",
    "        \"\"\"\\\n",
    "first signature:\n",
    "  signature: {name1}\n",
    "  md5: {md5_1}\n",
    "  k={ksize} molecule={moltype} num={num} scaled={scaled}\n",
    "\n",
    "second signature:\n",
    "  signature: {name2}\n",
    "  md5: {md5_2}\n",
    "  k={ksize} molecule={moltype} num={num} scaled={scaled}\n",
    "\n",
    "similarity:                  {similarity:.5f}\n",
    "first contained in second:   {cont1:.5f}\n",
    "second contained in first:   {cont2:.5f}\n",
    "\n",
    "number of hashes in first:   {size1}\n",
    "number of hashes in second:  {size2}\n",
    "\n",
    "number of hashes in common:  {num_common}\n",
    "only in first:               {disjoint_1}\n",
    "only in second:              {disjoint_2}\n",
    "total (union):               {num_union}\n",
    "\"\"\".format(\n",
    "            **locals()\n",
    "        )\n",
    "    )\n",
    "\n",
    "\n",
    "overlap(query_sig, match_sig)"
   ]
  },
  {
   "cell_type": "markdown",
   "id": "8aea4e98-28c4-4ff5-bc77-18a3ae4f5ce1",
   "metadata": {},
   "source": [
    "### Read fasta sequences"
   ]
  },
  {
   "cell_type": "code",
   "execution_count": 118,
   "id": "443c0875-43ce-46f2-8c11-b6cf08975fd3",
   "metadata": {
    "execution": {
     "iopub.execute_input": "2024-11-06T01:16:10.927564Z",
     "iopub.status.busy": "2024-11-06T01:16:10.927474Z",
     "iopub.status.idle": "2024-11-06T01:16:11.284488Z",
     "shell.execute_reply": "2024-11-06T01:16:11.284195Z",
     "shell.execute_reply.started": "2024-11-06T01:16:10.927555Z"
    }
   },
   "outputs": [
    {
     "data": {
      "text/plain": [
       "15177"
      ]
     },
     "execution_count": 118,
     "metadata": {},
     "output_type": "execute_result"
    }
   ],
   "source": [
    "fasta = \"/home/ec2-user/data/seanome-kmerseek/scope-benchmark/rawdata/astral-scopedom-seqres-gd-sel-gs-bib-40-2.08.fa\"\n",
    "\n",
    "sequences = {}\n",
    "\n",
    "with screed.open(fasta) as records:\n",
    "    for record in records:\n",
    "        name = record[\"name\"].split()[0]\n",
    "        sequences[name] = record[\"sequence\"].upper()\n",
    "len(sequences)"
   ]
  },
  {
   "cell_type": "code",
   "execution_count": 119,
   "id": "f2dfd8eb-0abd-4edb-978b-3618c58c449c",
   "metadata": {
    "execution": {
     "iopub.execute_input": "2024-11-06T01:16:11.284947Z",
     "iopub.status.busy": "2024-11-06T01:16:11.284842Z",
     "iopub.status.idle": "2024-11-06T01:16:11.295926Z",
     "shell.execute_reply": "2024-11-06T01:16:11.295605Z",
     "shell.execute_reply.started": "2024-11-06T01:16:11.284937Z"
    }
   },
   "outputs": [],
   "source": [
    "# ! head $fasta"
   ]
  },
  {
   "cell_type": "code",
   "execution_count": 120,
   "id": "5b290ec0-f5c2-487f-98cf-bf740d9a1ace",
   "metadata": {
    "execution": {
     "iopub.execute_input": "2024-11-06T01:16:11.296304Z",
     "iopub.status.busy": "2024-11-06T01:16:11.296210Z",
     "iopub.status.idle": "2024-11-06T01:16:11.305752Z",
     "shell.execute_reply": "2024-11-06T01:16:11.305528Z",
     "shell.execute_reply.started": "2024-11-06T01:16:11.296296Z"
    }
   },
   "outputs": [
    {
     "data": {
      "text/plain": [
       "'d3gcea_'"
      ]
     },
     "execution_count": 120,
     "metadata": {},
     "output_type": "execute_result"
    }
   ],
   "source": [
    "match_id"
   ]
  },
  {
   "cell_type": "code",
   "execution_count": 121,
   "id": "a5dadd3b-af28-4166-8d96-9e581d003c00",
   "metadata": {
    "execution": {
     "iopub.execute_input": "2024-11-06T01:16:11.306115Z",
     "iopub.status.busy": "2024-11-06T01:16:11.306023Z",
     "iopub.status.idle": "2024-11-06T01:16:11.315301Z",
     "shell.execute_reply": "2024-11-06T01:16:11.315085Z",
     "shell.execute_reply.started": "2024-11-06T01:16:11.306106Z"
    }
   },
   "outputs": [
    {
     "data": {
      "text/plain": [
       "'hp'"
      ]
     },
     "execution_count": 121,
     "metadata": {},
     "output_type": "execute_result"
    }
   ],
   "source": [
    "query_sig.minhash.moltype"
   ]
  },
  {
   "cell_type": "code",
   "execution_count": 122,
   "id": "5ad45cef-cceb-487c-b62e-8bf5ed68d025",
   "metadata": {
    "execution": {
     "iopub.execute_input": "2024-11-06T01:16:11.315634Z",
     "iopub.status.busy": "2024-11-06T01:16:11.315548Z",
     "iopub.status.idle": "2024-11-06T01:16:11.324417Z",
     "shell.execute_reply": "2024-11-06T01:16:11.324194Z",
     "shell.execute_reply.started": "2024-11-06T01:16:11.315626Z"
    }
   },
   "outputs": [],
   "source": [
    "query_seq = sequences[query_id]\n",
    "match_seq = sequences[match_id]\n",
    "# list(query_sig.minhash.kmers_and_hashes(match_seq, is_protein=True))"
   ]
  },
  {
   "cell_type": "code",
   "execution_count": 123,
   "id": "fefa364f-97f5-4a13-a67c-3cb8efcbc796",
   "metadata": {
    "execution": {
     "iopub.execute_input": "2024-11-06T01:16:11.325550Z",
     "iopub.status.busy": "2024-11-06T01:16:11.325316Z",
     "iopub.status.idle": "2024-11-06T01:16:11.334090Z",
     "shell.execute_reply": "2024-11-06T01:16:11.333865Z",
     "shell.execute_reply.started": "2024-11-06T01:16:11.325540Z"
    }
   },
   "outputs": [],
   "source": [
    "from sig2kmer import degenerate_protein_chatgpt"
   ]
  },
  {
   "cell_type": "code",
   "execution_count": 124,
   "id": "a0e235aa-603a-422a-877c-ababc401666a",
   "metadata": {
    "execution": {
     "iopub.execute_input": "2024-11-06T01:16:11.334562Z",
     "iopub.status.busy": "2024-11-06T01:16:11.334370Z",
     "iopub.status.idle": "2024-11-06T01:16:11.346374Z",
     "shell.execute_reply": "2024-11-06T01:16:11.346150Z",
     "shell.execute_reply.started": "2024-11-06T01:16:11.334554Z"
    }
   },
   "outputs": [
    {
     "data": {
      "text/plain": [
       "[(74,\n",
       "  'phhhphhhphhhhphhphhhphpphhh',\n",
       "  'TGAPTALPCVLPVRAYDVVVDGTEILV',\n",
       "  1377032650408549891),\n",
       " (75,\n",
       "  'hhhphhhphhhhphhphhhphpphhhh',\n",
       "  'GAPTALPCVLPVRAYDVVVDGTEILVA',\n",
       "  9687257153334895900),\n",
       " (76,\n",
       "  'hhphhhphhhhphhphhhphpphhhhh',\n",
       "  'APTALPCVLPVRAYDVVVDGTEILVAP',\n",
       "  4002281547216460058)]"
      ]
     },
     "execution_count": 124,
     "metadata": {},
     "output_type": "execute_result"
    }
   ],
   "source": [
    "def get_is_protein(sig):\n",
    "    is_protein = False\n",
    "    if sig.minhash.moltype != \"DNA\":\n",
    "        is_protein = True\n",
    "    return is_protein\n",
    "\n",
    "\n",
    "def add_sequence(minhash, sequence, is_protein):\n",
    "    if is_protein:\n",
    "        minhash.add_protein(sequence)\n",
    "    else:\n",
    "        minhash.add_sequence(sequence)\n",
    "\n",
    "\n",
    "def sequence_kmers_in_sig(sig, sequence):\n",
    "    \"\"\"Return k-mers from sequence present in signature k-mers\"\"\"\n",
    "    # Make a minhash just for looking through the sequence\n",
    "    query_mh = sig.minhash.flatten()\n",
    "    seq_mh = query_mh.copy_and_clear()\n",
    "\n",
    "    # figure out protein vs dna\n",
    "    is_protein = get_is_protein(sig)\n",
    "    add_sequence(seq_mh, sequence, is_protein)\n",
    "\n",
    "    intersecting = query_mh.intersection(seq_mh)\n",
    "    if intersecting:\n",
    "        # Found matching k-mers!\n",
    "\n",
    "        kmers_hashes = intersecting.kmers_and_hashes(\n",
    "            sequence, force=False, is_protein=is_protein\n",
    "        )\n",
    "        found_kmers_hashes = [\n",
    "            (i, degenerate_protein_chatgpt(kmer, sig.minhash.moltype), kmer, hashval)\n",
    "            for i, (kmer, hashval) in enumerate(kmers_hashes)\n",
    "            if hashval in intersecting.hashes\n",
    "        ]\n",
    "        return found_kmers_hashes\n",
    "\n",
    "    else:\n",
    "        return []\n",
    "\n",
    "\n",
    "sequence_kmers_in_sig(query_sig, match_seq)"
   ]
  },
  {
   "cell_type": "code",
   "execution_count": 125,
   "id": "94a33b96-853c-416b-9c9d-9bd598fdc7b4",
   "metadata": {
    "execution": {
     "iopub.execute_input": "2024-11-06T01:16:11.346806Z",
     "iopub.status.busy": "2024-11-06T01:16:11.346713Z",
     "iopub.status.idle": "2024-11-06T01:16:11.356806Z",
     "shell.execute_reply": "2024-11-06T01:16:11.356568Z",
     "shell.execute_reply.started": "2024-11-06T01:16:11.346797Z"
    }
   },
   "outputs": [
    {
     "data": {
      "text/plain": [
       "[(2,\n",
       "  'phhhphhhphhhhphhphhhphpphhh',\n",
       "  'ELLVQVPGKAVVWEPLTAYVSFTNPLP',\n",
       "  1377032650408549891),\n",
       " (3,\n",
       "  'hhhphhhphhhhphhphhhphpphhhh',\n",
       "  'LLVQVPGKAVVWEPLTAYVSFTNPLPV',\n",
       "  9687257153334895900),\n",
       " (4,\n",
       "  'hhphhhphhhhphhphhhphpphhhhh',\n",
       "  'LVQVPGKAVVWEPLTAYVSFTNPLPVP',\n",
       "  4002281547216460058)]"
      ]
     },
     "execution_count": 125,
     "metadata": {},
     "output_type": "execute_result"
    }
   ],
   "source": [
    "sequence_kmers_in_sig(match_sig, query_seq)"
   ]
  },
  {
   "cell_type": "code",
   "execution_count": 126,
   "id": "a33ba064-a914-44c3-a8a1-c3899f51dbe2",
   "metadata": {
    "execution": {
     "iopub.execute_input": "2024-11-06T01:16:11.357158Z",
     "iopub.status.busy": "2024-11-06T01:16:11.357067Z",
     "iopub.status.idle": "2024-11-06T01:16:11.366413Z",
     "shell.execute_reply": "2024-11-06T01:16:11.366203Z",
     "shell.execute_reply.started": "2024-11-06T01:16:11.357150Z"
    }
   },
   "outputs": [
    {
     "data": {
      "text/plain": [
       "'TPELLVQVPGKAVVWEPLTAYVSFTNPLPVPLKGGVFTLEGAGLLSATQIHVNGAVAPSGKVSVKLSFSPMRTGVRKLLVDFDSDRLKDVKGVTTVVVHKK'"
      ]
     },
     "execution_count": 126,
     "metadata": {},
     "output_type": "execute_result"
    }
   ],
   "source": [
    "query_seq"
   ]
  },
  {
   "cell_type": "code",
   "execution_count": 127,
   "id": "cb0b39c6-9006-46c1-b058-0f65d210cf87",
   "metadata": {
    "execution": {
     "iopub.execute_input": "2024-11-06T01:16:11.366766Z",
     "iopub.status.busy": "2024-11-06T01:16:11.366674Z",
     "iopub.status.idle": "2024-11-06T01:16:11.375677Z",
     "shell.execute_reply": "2024-11-06T01:16:11.375458Z",
     "shell.execute_reply.started": "2024-11-06T01:16:11.366758Z"
    }
   },
   "outputs": [
    {
     "data": {
      "text/plain": [
       "'phphhhphhhphhhhphhphhhphpphhhhhhphhhhphphhhhhphpphphphhhhhphphphphphphhpphhpphhhphpppphpphphhpphhhppp'"
      ]
     },
     "execution_count": 127,
     "metadata": {},
     "output_type": "execute_result"
    }
   ],
   "source": [
    "degenerate_protein_chatgpt(query_seq, \"hp\")"
   ]
  },
  {
   "cell_type": "code",
   "execution_count": 128,
   "id": "ebee5b77-5c61-43a3-8e09-e65360ad1ebe",
   "metadata": {
    "execution": {
     "iopub.execute_input": "2024-11-06T01:16:11.376031Z",
     "iopub.status.busy": "2024-11-06T01:16:11.375940Z",
     "iopub.status.idle": "2024-11-06T01:16:11.384985Z",
     "shell.execute_reply": "2024-11-06T01:16:11.384762Z",
     "shell.execute_reply.started": "2024-11-06T01:16:11.376022Z"
    }
   },
   "outputs": [
    {
     "data": {
      "text/plain": [
       "'STPVRVATLDQLKPGVPTAFDVDGDEVMVVRDGDSVYAISNLCSHAEAYLDMGVFHAESLEIECPLHVGRFDVRTGAPTALPCVLPVRAYDVVVDGTEILVAPK'"
      ]
     },
     "execution_count": 128,
     "metadata": {},
     "output_type": "execute_result"
    }
   ],
   "source": [
    "match_seq"
   ]
  },
  {
   "cell_type": "code",
   "execution_count": 129,
   "id": "8acf451c-3db5-4dd6-b6f3-c7a8e0eabccc",
   "metadata": {
    "execution": {
     "iopub.execute_input": "2024-11-06T01:16:11.385331Z",
     "iopub.status.busy": "2024-11-06T01:16:11.385243Z",
     "iopub.status.idle": "2024-11-06T01:16:11.394738Z",
     "shell.execute_reply": "2024-11-06T01:16:11.394532Z",
     "shell.execute_reply.started": "2024-11-06T01:16:11.385323Z"
    }
   },
   "outputs": [
    {
     "data": {
      "text/plain": [
       "'pphhphhphpphphhhhphhphphpphhhhpphpphhhhpphppphphhhphhhhphpphphpphhphhphphpphhhphhhphhhhphhphhhphpphhhhhp'"
      ]
     },
     "execution_count": 129,
     "metadata": {},
     "output_type": "execute_result"
    }
   ],
   "source": [
    "degenerate_protein_chatgpt(match_seq, \"hp\")"
   ]
  },
  {
   "cell_type": "code",
   "execution_count": 130,
   "id": "dac0ab0f-6ec3-4c1c-8c33-c2f9f6ba6340",
   "metadata": {
    "execution": {
     "iopub.execute_input": "2024-11-06T01:16:11.395118Z",
     "iopub.status.busy": "2024-11-06T01:16:11.395021Z",
     "iopub.status.idle": "2024-11-06T01:16:11.404136Z",
     "shell.execute_reply": "2024-11-06T01:16:11.403926Z",
     "shell.execute_reply.started": "2024-11-06T01:16:11.395110Z"
    }
   },
   "outputs": [
    {
     "data": {
      "text/plain": [
       "101"
      ]
     },
     "execution_count": 130,
     "metadata": {},
     "output_type": "execute_result"
    }
   ],
   "source": [
    "len(query_seq)"
   ]
  },
  {
   "cell_type": "code",
   "execution_count": 131,
   "id": "de5529c1-8309-4283-854b-3389d1d6fce7",
   "metadata": {
    "execution": {
     "iopub.execute_input": "2024-11-06T01:16:11.404475Z",
     "iopub.status.busy": "2024-11-06T01:16:11.404387Z",
     "iopub.status.idle": "2024-11-06T01:16:11.413833Z",
     "shell.execute_reply": "2024-11-06T01:16:11.413626Z",
     "shell.execute_reply.started": "2024-11-06T01:16:11.404467Z"
    }
   },
   "outputs": [
    {
     "data": {
      "text/plain": [
       "'d1g0da3 b.1.5.1 (A:584-684) Transglutaminase, two C-terminal domains {Red sea bream (Chrysophrys major) [TaxId: 143350]}'"
      ]
     },
     "execution_count": 131,
     "metadata": {},
     "output_type": "execute_result"
    }
   ],
   "source": [
    "query_sig.name"
   ]
  },
  {
   "cell_type": "code",
   "execution_count": 132,
   "id": "4da421f6-20a5-4f2c-b1b2-33301f633642",
   "metadata": {
    "execution": {
     "iopub.execute_input": "2024-11-06T01:16:11.414288Z",
     "iopub.status.busy": "2024-11-06T01:16:11.414102Z",
     "iopub.status.idle": "2024-11-06T01:16:11.423139Z",
     "shell.execute_reply": "2024-11-06T01:16:11.422928Z",
     "shell.execute_reply.started": "2024-11-06T01:16:11.414279Z"
    },
    "scrolled": true
   },
   "outputs": [
    {
     "data": {
      "text/plain": [
       "'d3gcea_ b.33.1.0 (A:) automated matches {Nocardioides aromaticivorans [TaxId: 200618]}'"
      ]
     },
     "execution_count": 132,
     "metadata": {},
     "output_type": "execute_result"
    }
   ],
   "source": [
    "match_sig.name"
   ]
  },
  {
   "cell_type": "markdown",
   "id": "62d669c5-be20-4a74-b4d3-73656d8c6785",
   "metadata": {},
   "source": [
    "## Write class and code to show overlap between two sequences"
   ]
  },
  {
   "cell_type": "code",
   "execution_count": 185,
   "id": "b0f333ee-0ba3-41c5-8f7e-75a95f9feff1",
   "metadata": {
    "execution": {
     "iopub.execute_input": "2024-11-06T18:26:07.906451Z",
     "iopub.status.busy": "2024-11-06T18:26:07.905954Z",
     "iopub.status.idle": "2024-11-06T18:26:07.920196Z",
     "shell.execute_reply": "2024-11-06T18:26:07.919947Z",
     "shell.execute_reply.started": "2024-11-06T18:26:07.906438Z"
    }
   },
   "outputs": [
    {
     "name": "stdout",
     "output_type": "stream",
     "text": [
      "Writing sigseq.py\n"
     ]
    }
   ],
   "source": [
    "from dataclasses import dataclass\n",
    "from typing import List, Optional, Tuple\n",
    "\n",
    "from rich.console import Console\n",
    "from rich.theme import Theme\n",
    "\n",
    "custom_theme = Theme({\"overlap\": \"bold white on blue\"})\n",
    "\n",
    "\n",
    "def get_to_add(encoded, protein, use_encoded):\n",
    "    if use_encoded:\n",
    "        to_add = encoded\n",
    "    else:\n",
    "        to_add = protein\n",
    "    return to_add\n",
    "\n",
    "\n",
    "def add_to_stitched(stitched, prev_i, to_add):\n",
    "    if prev_i == None:\n",
    "        stitched = to_add\n",
    "    else:\n",
    "        stitched += to_add[-1]\n",
    "    return stitched\n",
    "\n",
    "\n",
    "def stitch_kmers(overlap, use_encoded=False):\n",
    "    \"\"\"\n",
    "    use_encoded: whether or not to use the encoded protein sequences, e.g. the HP version and not the original protein\n",
    "    \"\"\"\n",
    "\n",
    "    prev_i = None\n",
    "\n",
    "    stitched = \"\"\n",
    "    for i, encoded, protein, hashval in overlap:\n",
    "        if prev_i == None or i == prev_i + 1:\n",
    "            # if first or sequential\n",
    "            to_add = get_to_add(encoded, protein, use_encoded)\n",
    "            stitched = add_to_stitched(stitched, prev_i, to_add)\n",
    "            prev_i = i\n",
    "        else:\n",
    "            raise ValueError(\n",
    "                f\"Non-sequential indices -- Previous index: {prev_i}, this index: {i}\"\n",
    "            )\n",
    "    return stitched\n",
    "\n",
    "\n",
    "class KmerStitcher:\n",
    "    @staticmethod\n",
    "    def get_to_add(encoded: str, protein: str, use_encoded: bool) -> str:\n",
    "        return encoded if use_encoded else protein\n",
    "\n",
    "    @staticmethod\n",
    "    def add_to_stitched(stitched: str, prev_i: Optional[int], to_add: str) -> str:\n",
    "        return to_add if prev_i is None else stitched + to_add[-1]\n",
    "\n",
    "    @classmethod\n",
    "    def stitch_kmers(cls, overlap: List[Tuple], use_encoded: bool = False) -> str:\n",
    "        \"\"\"Stitches kmers together based on overlap information\"\"\"\n",
    "        prev_i = None\n",
    "        stitched = \"\"\n",
    "\n",
    "        for i, encoded, protein, hashval in overlap:\n",
    "            if prev_i is None or i == prev_i + 1:\n",
    "                to_add = cls.get_to_add(encoded, protein, use_encoded)\n",
    "                stitched = cls.add_to_stitched(stitched, prev_i, to_add)\n",
    "                prev_i = i\n",
    "            else:\n",
    "                raise ValueError(\n",
    "                    f\"Non-sequential indices -- Previous: {prev_i}, current: {i}\"\n",
    "                )\n",
    "\n",
    "        return stitched\n",
    "\n",
    "\n",
    "@dataclass\n",
    "class OverlapInfo:\n",
    "    \"\"\"Stores information about sequence overlap\"\"\"\n",
    "\n",
    "    index: int\n",
    "    overlap_seq: str\n",
    "    overlap_encoded: str\n",
    "    overlap_length: int\n",
    "\n",
    "\n",
    "class SigSeq:\n",
    "    \"\"\"Sourmash Signature with Sequence\"\"\"\n",
    "\n",
    "    def __init__(self, sig: sourmash.SourmashSignature, seq: str):\n",
    "        self.sig = sig\n",
    "        self.seq = seq\n",
    "\n",
    "        # Returns None if no encoding\n",
    "        self.seq_encoded = degenerate_protein_chatgpt(seq, sig.minhash.moltype)\n",
    "\n",
    "    def get_overlapping_kmers(self, other: SigSeq) -> tuple:\n",
    "        return sequence_kmers_in_sig(self.sig, other.seq)\n",
    "\n",
    "    @staticmethod\n",
    "    def _get_display_padding(self_overlap, other_overlap):\n",
    "        if self_overlap[0][0] > other_overlap[0][0]:\n",
    "            self_left_pad = (self_overlap[0][0] - other_overlap[0][0]) * \" \"\n",
    "            other_left_pad = \"\"\n",
    "            add_to_match_string = \" \" * other_overlap[0][0]\n",
    "        else:\n",
    "            self_left_pad = \"\"\n",
    "            other_left_pad = (other_overlap[0][0] - self_overlap[0][0]) * \" \"\n",
    "            add_to_match_string = \" \" * self_overlap[0][0]\n",
    "        return self_left_pad, other_left_pad, add_to_match_string\n",
    "\n",
    "    @staticmethod\n",
    "    def make_rich_overlap_string(left_pad, seq, i_overlap, overlap_length):\n",
    "        seq_left = seq[:i_overlap]\n",
    "        overlap_seq = seq[\n",
    "            i_self_until_overlap : (i_self_until_overlap + overlap_length)\n",
    "        ]\n",
    "        seq_right = seq[(i_overlap + overlap_length) :]\n",
    "        return f\"{left_pad}{seq_left}[overlap]{overlap_seq}[/overlap]{seq_right}\"\n",
    "\n",
    "    def _verify_overlap(self) -> None:\n",
    "        \"\"\"Verifies that overlap sequences match within the main sequence\"\"\"\n",
    "        start = self.overlap_info.index\n",
    "        end = start + self.overlap_info.overlap_length\n",
    "        assert self.overlap_info.overlap_seq == self.seq[start:end]\n",
    "        assert self.overlap_info.overlap_encoded == self.seq_encoded[start:end]\n",
    "\n",
    "    def compute_overlap(self, other: SigSeq) -> None:\n",
    "        \"\"\"Computes overlap information between two sequences\"\"\"\n",
    "        overlap = self.get_overlapping_kmers(other)\n",
    "        overlap_seq = KmerStitcher.stitch_kmers(overlap, use_encoded=False)\n",
    "        overlap_encoded = KmerStitcher.stitch_kmers(overlap, use_encoded=True)\n",
    "\n",
    "        index = self.seq.index(overlap_seq)\n",
    "        overlap_length = overlap[-1][0] - overlap[0][0] + self.sig.minhash.ksize\n",
    "\n",
    "        self.overlap_info = OverlapInfo(\n",
    "            index, overlap_seq, overlap_encoded, overlap_length\n",
    "        )\n",
    "\n",
    "    @staticmethod\n",
    "    def calculate_padding(\n",
    "        self_overlap: OverlapInfo, other_overlap: OverlapInfo\n",
    "    ) -> Tuple[str, str, str]:\n",
    "        \"\"\"Calculates display padding for alignment visualization\"\"\"\n",
    "        if self_overlap.index > other_overlap.index:\n",
    "            self_pad = \" \" * (self_overlap.index - other_overlap.index)\n",
    "            other_pad = \"\"\n",
    "            match_pad = \" \" * other_overlap.index\n",
    "        else:\n",
    "            self_pad = \"\"\n",
    "            other_pad = \" \" * (other_overlap.index - self_overlap.index)\n",
    "            match_pad = \" \" * self_overlap.index\n",
    "\n",
    "        return self_pad, other_pad, match_pad\n",
    "\n",
    "    def display_alignment(self, other):\n",
    "        \"\"\"Displays the alignment between two sequences\"\"\"\n",
    "        # Compute overlaps\n",
    "        self.compute_overlap(other)\n",
    "        other.compute_overlap(self)\n",
    "\n",
    "        # Verify overlaps\n",
    "        self._verify_overlap()\n",
    "        other._verify_overlap()\n",
    "\n",
    "        # Calculate padding\n",
    "        self_pad, other_pad, match_pad = self.calculate_padding(\n",
    "            self.overlap_info, other.overlap_info\n",
    "        )\n",
    "        # self.overlap = self.get_overlapping_kmers(other)\n",
    "        # other.overlap = other.get_overlapping_kmers(self)\n",
    "\n",
    "        # # Use the \"self\" to find which kmers in the \"other\" overlap\n",
    "        # other.overlap_seq = stitch_kmers(self.overlap, use_encoded=False)\n",
    "        # other.overlap_encoded = stitch_kmers(self.overlap, use_encoded=True)\n",
    "\n",
    "        # # Use the \"other\" seq to find which kmers in the \"self\" overlap\n",
    "        # self.overlap_seq = stitch_kmers(other.overlap, use_encoded=False)\n",
    "        # self.overlap_encoded = stitch_kmers(other.overlap, use_encoded=True)\n",
    "\n",
    "        # other.i_overlap = other.seq.index(other_overlap_seq)\n",
    "        # self.i_overlap = self.seq.index(self_overlap_seq)\n",
    "\n",
    "        # overlap_length = (\n",
    "        #     self_overlap[-1][0] - self_overlap[0][0] + query.sig.minhash.ksize\n",
    "        # )\n",
    "        # self.overlap_length = overlap_length\n",
    "        # other.overlap_length = overlap_length\n",
    "        # print(\"\\n---\\noverlap_length\", overlap_length)\n",
    "\n",
    "        # self.check_all_overlap_seqs(self, other, overlap_length)\n",
    "\n",
    "        # self_left_pad, other_left_pad, add_to_match_string = self._get_display_padding(\n",
    "        #     self_overlap, other_overlap\n",
    "        # )\n",
    "\n",
    "        # Maybe something other than \"match\"? Seems overloaded of a word here\n",
    "        # match_string = (\n",
    "        #     self_left_pad + other_left_pad + add_to_match_string + \"|\" * overlap_length\n",
    "        # )\n",
    "        match_string = match_pad + \"|\" * self.overlap_info.overlap_length\n",
    "\n",
    "        console = Console(theme=custom_theme)\n",
    "        print(self.sig.name)\n",
    "        # print(f\"{self_left_pad}{self.seq}\")\n",
    "        # console.print(\n",
    "        #     f\"{self_left_pad}{self.seq[:i_self_until_overlap]}[overlap]{self_overlap_seq}[/overlap]{self.seq[(i_self_until_overlap + overlap_length):]}\",\n",
    "        #     end=\"\",\n",
    "        # )\n",
    "        console.print(self._get_display_sequence(self_pad))\n",
    "\n",
    "        console.print(f\"{self_left_pad}{self.seq_encoded}\")\n",
    "        print(match_string)\n",
    "        print(f\"{other_left_pad}{other.seq_encoded}\")\n",
    "        print(f\"{other_left_pad}{other.seq}\")\n",
    "        print(other.sig.name)"
   ]
  },
  {
   "cell_type": "code",
   "execution_count": 204,
   "id": "bcca1a0b-0f68-4cee-8471-3c008b45e3bf",
   "metadata": {
    "execution": {
     "iopub.execute_input": "2024-11-06T18:52:42.773998Z",
     "iopub.status.busy": "2024-11-06T18:52:42.773667Z",
     "iopub.status.idle": "2024-11-06T18:52:45.134433Z",
     "shell.execute_reply": "2024-11-06T18:52:45.134183Z",
     "shell.execute_reply.started": "2024-11-06T18:52:42.773985Z"
    }
   },
   "outputs": [
    {
     "data": {
      "text/html": [
       "<pre style=\"white-space:pre;overflow-x:auto;line-height:normal;font-family:Menlo,'DejaVu Sans Mono',consolas,'Courier New',monospace\"><span style=\"color: #800080; text-decoration-color: #800080; font-weight: bold\">d1g0da3</span> <span style=\"color: #c0c0c0; text-decoration-color: #c0c0c0\">b.1.5.1 (A:584-684) Transglutaminase, two C-terminal domains {Red sea bream (Chrysophrys major) [TaxId: </span>\n",
       "<span style=\"color: #c0c0c0; text-decoration-color: #c0c0c0\">143350]}</span>\n",
       "</pre>\n"
      ],
      "text/plain": [
       "\u001b[1;35md1g0da3\u001b[0m \u001b[37mb.1.5.1 (A:584-684) Transglutaminase, two C-terminal domains {Red sea bream (Chrysophrys major) [TaxId: \u001b[0m\n",
       "\u001b[37m143350]}\u001b[0m\n"
      ]
     },
     "metadata": {},
     "output_type": "display_data"
    },
    {
     "data": {
      "text/html": [
       "<pre style=\"white-space:pre;overflow-x:auto;line-height:normal;font-family:Menlo,'DejaVu Sans Mono',consolas,'Courier New',monospace\">                                                                        TP<span style=\"color: #c0c0c0; text-decoration-color: #c0c0c0; background-color: #000080; font-weight: bold\">ELLVQVPGKAVVWEPLTAYVSFTNPLPVP</span>LKGGVFTLEGAG\n",
       "LLSATQIHVNGAVAPSGKVSVKLSFSPMRTGVRKLLVDFDSDRLKDVKGVTTVVVHKK\n",
       "                                                                        ph<span style=\"color: #c0c0c0; text-decoration-color: #c0c0c0; background-color: #000080; font-weight: bold\">phhhphhhphhhhphhphhhphpphhhhh</span>hphhhhphphhh\n",
       "hhphpphphphhhhhphphphphphphhpphhpphhhphpppphpphphhpphhhppp\n",
       "</pre>\n"
      ],
      "text/plain": [
       "                                                                        TP\u001b[1;37;44mELLVQVPGKAVVWEPLTAYVSFTNPLPVP\u001b[0mLKGGVFTLEGAG\n",
       "LLSATQIHVNGAVAPSGKVSVKLSFSPMRTGVRKLLVDFDSDRLKDVKGVTTVVVHKK\n",
       "                                                                        ph\u001b[1;37;44mphhhphhhphhhhphhphhhphpphhhhh\u001b[0mhphhhhphphhh\n",
       "hhphpphphphhhhhphphphphphphhpphhpphhhphpppphpphphhpphhhppp\n"
      ]
     },
     "metadata": {},
     "output_type": "display_data"
    },
    {
     "data": {
      "text/html": [
       "<pre style=\"white-space:pre;overflow-x:auto;line-height:normal;font-family:Menlo,'DejaVu Sans Mono',consolas,'Courier New',monospace\">                                                                          |||||||||||||||||||||||||||||\n",
       "</pre>\n"
      ],
      "text/plain": [
       "                                                                          |||||||||||||||||||||||||||||\n"
      ]
     },
     "metadata": {},
     "output_type": "display_data"
    },
    {
     "data": {
      "text/html": [
       "<pre style=\"white-space:pre;overflow-x:auto;line-height:normal;font-family:Menlo,'DejaVu Sans Mono',consolas,'Courier New',monospace\">pphhphhphpphphhhhphhphphpphhhhpphpphhhhpphppphphhhphhhhphpphphpphhphhphphp<span style=\"color: #c0c0c0; text-decoration-color: #c0c0c0; background-color: #000080; font-weight: bold\">phhhphhhphhhhphhphhhphpphhhhh</span>p\n",
       "</pre>\n"
      ],
      "text/plain": [
       "pphhphhphpphphhhhphhphphpphhhhpphpphhhhpphppphphhhphhhhphpphphpphhphhphphp\u001b[1;37;44mphhhphhhphhhhphhphhhphpphhhhh\u001b[0mp\n"
      ]
     },
     "metadata": {},
     "output_type": "display_data"
    },
    {
     "data": {
      "text/html": [
       "<pre style=\"white-space:pre;overflow-x:auto;line-height:normal;font-family:Menlo,'DejaVu Sans Mono',consolas,'Courier New',monospace\">STPVRVATLDQLKPGVPTAFDVDGDEVMVVRDGDSVYAISNLCSHAEAYLDMGVFHAESLEIECPLHVGRFDVR<span style=\"color: #c0c0c0; text-decoration-color: #c0c0c0; background-color: #000080; font-weight: bold\">TGAPTALPCVLPVRAYDVVVDGTEILVAP</span>K\n",
       "</pre>\n"
      ],
      "text/plain": [
       "STPVRVATLDQLKPGVPTAFDVDGDEVMVVRDGDSVYAISNLCSHAEAYLDMGVFHAESLEIECPLHVGRFDVR\u001b[1;37;44mTGAPTALPCVLPVRAYDVVVDGTEILVAP\u001b[0mK\n"
      ]
     },
     "metadata": {},
     "output_type": "display_data"
    },
    {
     "data": {
      "text/html": [
       "<pre style=\"white-space:pre;overflow-x:auto;line-height:normal;font-family:Menlo,'DejaVu Sans Mono',consolas,'Courier New',monospace\"><span style=\"color: #800080; text-decoration-color: #800080; font-weight: bold\">d3gcea_</span> <span style=\"color: #c0c0c0; text-decoration-color: #c0c0c0\">b.33.1.0 (A:) automated matches {Nocardioides aromaticivorans [TaxId: 200618]}</span>\n",
       "</pre>\n"
      ],
      "text/plain": [
       "\u001b[1;35md3gcea_\u001b[0m \u001b[37mb.33.1.0 (A:) automated matches {Nocardioides aromaticivorans [TaxId: 200618]}\u001b[0m\n"
      ]
     },
     "metadata": {},
     "output_type": "display_data"
    }
   ],
   "source": [
    "from sigseq import SigSeq\n",
    "\n",
    "query = SigSeq(query_sig, query_seq)\n",
    "match = SigSeq(match_sig, match_seq)\n",
    "\n",
    "query.display_alignment(match)"
   ]
  },
  {
   "cell_type": "code",
   "execution_count": 184,
   "id": "46d18336-ce08-42f9-b87c-cdeb39c2f57d",
   "metadata": {
    "execution": {
     "iopub.execute_input": "2024-11-06T18:23:27.749881Z",
     "iopub.status.busy": "2024-11-06T18:23:27.749364Z",
     "iopub.status.idle": "2024-11-06T18:26:06.248952Z",
     "shell.execute_reply": "2024-11-06T18:26:06.248566Z",
     "shell.execute_reply.started": "2024-11-06T18:23:27.749867Z"
    }
   },
   "outputs": [
    {
     "name": "stdout",
     "output_type": "stream",
     "text": [
      "> \u001b[0;32m/tmp/ipykernel_6267/735794354.py\u001b[0m(132)\u001b[0;36mcompute_overlap\u001b[0;34m()\u001b[0m\n",
      "\u001b[0;32m    130 \u001b[0;31m        \u001b[0moverlap_encoded\u001b[0m \u001b[0;34m=\u001b[0m \u001b[0mKmerStitcher\u001b[0m\u001b[0;34m.\u001b[0m\u001b[0mstitch_kmers\u001b[0m\u001b[0;34m(\u001b[0m\u001b[0moverlap\u001b[0m\u001b[0;34m,\u001b[0m \u001b[0muse_encoded\u001b[0m\u001b[0;34m=\u001b[0m\u001b[0;32mTrue\u001b[0m\u001b[0;34m)\u001b[0m\u001b[0;34m\u001b[0m\u001b[0;34m\u001b[0m\u001b[0m\n",
      "\u001b[0m\u001b[0;32m    131 \u001b[0;31m\u001b[0;34m\u001b[0m\u001b[0m\n",
      "\u001b[0m\u001b[0;32m--> 132 \u001b[0;31m        \u001b[0mindex\u001b[0m \u001b[0;34m=\u001b[0m \u001b[0mself\u001b[0m\u001b[0;34m.\u001b[0m\u001b[0mseq\u001b[0m\u001b[0;34m.\u001b[0m\u001b[0mindex\u001b[0m\u001b[0;34m(\u001b[0m\u001b[0moverlap_seq\u001b[0m\u001b[0;34m)\u001b[0m\u001b[0;34m\u001b[0m\u001b[0;34m\u001b[0m\u001b[0m\n",
      "\u001b[0m\u001b[0;32m    133 \u001b[0;31m        \u001b[0moverlap_length\u001b[0m \u001b[0;34m=\u001b[0m \u001b[0moverlap\u001b[0m\u001b[0;34m[\u001b[0m\u001b[0;34m-\u001b[0m\u001b[0;36m1\u001b[0m\u001b[0;34m]\u001b[0m\u001b[0;34m[\u001b[0m\u001b[0;36m0\u001b[0m\u001b[0;34m]\u001b[0m \u001b[0;34m-\u001b[0m \u001b[0moverlap\u001b[0m\u001b[0;34m[\u001b[0m\u001b[0;36m0\u001b[0m\u001b[0;34m]\u001b[0m\u001b[0;34m[\u001b[0m\u001b[0;36m0\u001b[0m\u001b[0;34m]\u001b[0m \u001b[0;34m+\u001b[0m \u001b[0mself\u001b[0m\u001b[0;34m.\u001b[0m\u001b[0msig\u001b[0m\u001b[0;34m.\u001b[0m\u001b[0mminhash\u001b[0m\u001b[0;34m.\u001b[0m\u001b[0mksize\u001b[0m\u001b[0;34m\u001b[0m\u001b[0;34m\u001b[0m\u001b[0m\n",
      "\u001b[0m\u001b[0;32m    134 \u001b[0;31m\u001b[0;34m\u001b[0m\u001b[0m\n",
      "\u001b[0m\n"
     ]
    },
    {
     "name": "stdin",
     "output_type": "stream",
     "text": [
      "ipdb>  dir()\n"
     ]
    },
    {
     "name": "stdout",
     "output_type": "stream",
     "text": [
      "['other', 'overlap', 'overlap_encoded', 'overlap_seq', 'self']\n"
     ]
    },
    {
     "name": "stdin",
     "output_type": "stream",
     "text": [
      "ipdb>  overlap_seq\n"
     ]
    },
    {
     "name": "stdout",
     "output_type": "stream",
     "text": [
      "'TGAPTALPCVLPVRAYDVVVDGTEILVAP'\n"
     ]
    },
    {
     "name": "stdin",
     "output_type": "stream",
     "text": [
      "ipdb>  self.seq\n"
     ]
    },
    {
     "name": "stdout",
     "output_type": "stream",
     "text": [
      "'TPELLVQVPGKAVVWEPLTAYVSFTNPLPVPLKGGVFTLEGAGLLSATQIHVNGAVAPSGKVSVKLSFSPMRTGVRKLLVDFDSDRLKDVKGVTTVVVHKK'\n"
     ]
    },
    {
     "name": "stdin",
     "output_type": "stream",
     "text": [
      "ipdb>  q\n"
     ]
    }
   ],
   "source": [
    "%debug"
   ]
  },
  {
   "cell_type": "code",
   "execution_count": 156,
   "id": "6618603a-cab0-45ef-860f-219bd32429f5",
   "metadata": {
    "execution": {
     "iopub.execute_input": "2024-11-06T01:22:54.818288Z",
     "iopub.status.busy": "2024-11-06T01:22:54.817971Z",
     "iopub.status.idle": "2024-11-06T01:22:54.829619Z",
     "shell.execute_reply": "2024-11-06T01:22:54.829365Z",
     "shell.execute_reply.started": "2024-11-06T01:22:54.818275Z"
    }
   },
   "outputs": [],
   "source": [
    "console = Console()"
   ]
  },
  {
   "cell_type": "code",
   "execution_count": 158,
   "id": "882a7987-f23c-41d3-bd51-26e3cd365052",
   "metadata": {
    "execution": {
     "iopub.execute_input": "2024-11-06T01:23:01.825246Z",
     "iopub.status.busy": "2024-11-06T01:23:01.825012Z",
     "iopub.status.idle": "2024-11-06T01:23:01.839014Z",
     "shell.execute_reply": "2024-11-06T01:23:01.838725Z",
     "shell.execute_reply.started": "2024-11-06T01:23:01.825233Z"
    }
   },
   "outputs": [
    {
     "data": {
      "text/plain": [
       "\u001b[0;31mSignature:\u001b[0m\n",
       "\u001b[0mconsole\u001b[0m\u001b[0;34m.\u001b[0m\u001b[0mprint\u001b[0m\u001b[0;34m(\u001b[0m\u001b[0;34m\u001b[0m\n",
       "\u001b[0;34m\u001b[0m    \u001b[0;34m*\u001b[0m\u001b[0mobjects\u001b[0m\u001b[0;34m:\u001b[0m \u001b[0mAny\u001b[0m\u001b[0;34m,\u001b[0m\u001b[0;34m\u001b[0m\n",
       "\u001b[0;34m\u001b[0m    \u001b[0msep\u001b[0m\u001b[0;34m:\u001b[0m \u001b[0mstr\u001b[0m \u001b[0;34m=\u001b[0m \u001b[0;34m' '\u001b[0m\u001b[0;34m,\u001b[0m\u001b[0;34m\u001b[0m\n",
       "\u001b[0;34m\u001b[0m    \u001b[0mend\u001b[0m\u001b[0;34m:\u001b[0m \u001b[0mstr\u001b[0m \u001b[0;34m=\u001b[0m \u001b[0;34m'\\n'\u001b[0m\u001b[0;34m,\u001b[0m\u001b[0;34m\u001b[0m\n",
       "\u001b[0;34m\u001b[0m    \u001b[0mstyle\u001b[0m\u001b[0;34m:\u001b[0m \u001b[0mUnion\u001b[0m\u001b[0;34m[\u001b[0m\u001b[0mrich\u001b[0m\u001b[0;34m.\u001b[0m\u001b[0mstyle\u001b[0m\u001b[0;34m.\u001b[0m\u001b[0mStyle\u001b[0m\u001b[0;34m,\u001b[0m \u001b[0mstr\u001b[0m\u001b[0;34m,\u001b[0m \u001b[0mNoneType\u001b[0m\u001b[0;34m]\u001b[0m \u001b[0;34m=\u001b[0m \u001b[0;32mNone\u001b[0m\u001b[0;34m,\u001b[0m\u001b[0;34m\u001b[0m\n",
       "\u001b[0;34m\u001b[0m    \u001b[0mjustify\u001b[0m\u001b[0;34m:\u001b[0m \u001b[0mOptional\u001b[0m\u001b[0;34m[\u001b[0m\u001b[0mLiteral\u001b[0m\u001b[0;34m[\u001b[0m\u001b[0;34m'default'\u001b[0m\u001b[0;34m,\u001b[0m \u001b[0;34m'left'\u001b[0m\u001b[0;34m,\u001b[0m \u001b[0;34m'center'\u001b[0m\u001b[0;34m,\u001b[0m \u001b[0;34m'right'\u001b[0m\u001b[0;34m,\u001b[0m \u001b[0;34m'full'\u001b[0m\u001b[0;34m]\u001b[0m\u001b[0;34m]\u001b[0m \u001b[0;34m=\u001b[0m \u001b[0;32mNone\u001b[0m\u001b[0;34m,\u001b[0m\u001b[0;34m\u001b[0m\n",
       "\u001b[0;34m\u001b[0m    \u001b[0moverflow\u001b[0m\u001b[0;34m:\u001b[0m \u001b[0mOptional\u001b[0m\u001b[0;34m[\u001b[0m\u001b[0mLiteral\u001b[0m\u001b[0;34m[\u001b[0m\u001b[0;34m'fold'\u001b[0m\u001b[0;34m,\u001b[0m \u001b[0;34m'crop'\u001b[0m\u001b[0;34m,\u001b[0m \u001b[0;34m'ellipsis'\u001b[0m\u001b[0;34m,\u001b[0m \u001b[0;34m'ignore'\u001b[0m\u001b[0;34m]\u001b[0m\u001b[0;34m]\u001b[0m \u001b[0;34m=\u001b[0m \u001b[0;32mNone\u001b[0m\u001b[0;34m,\u001b[0m\u001b[0;34m\u001b[0m\n",
       "\u001b[0;34m\u001b[0m    \u001b[0mno_wrap\u001b[0m\u001b[0;34m:\u001b[0m \u001b[0mOptional\u001b[0m\u001b[0;34m[\u001b[0m\u001b[0mbool\u001b[0m\u001b[0;34m]\u001b[0m \u001b[0;34m=\u001b[0m \u001b[0;32mNone\u001b[0m\u001b[0;34m,\u001b[0m\u001b[0;34m\u001b[0m\n",
       "\u001b[0;34m\u001b[0m    \u001b[0memoji\u001b[0m\u001b[0;34m:\u001b[0m \u001b[0mOptional\u001b[0m\u001b[0;34m[\u001b[0m\u001b[0mbool\u001b[0m\u001b[0;34m]\u001b[0m \u001b[0;34m=\u001b[0m \u001b[0;32mNone\u001b[0m\u001b[0;34m,\u001b[0m\u001b[0;34m\u001b[0m\n",
       "\u001b[0;34m\u001b[0m    \u001b[0mmarkup\u001b[0m\u001b[0;34m:\u001b[0m \u001b[0mOptional\u001b[0m\u001b[0;34m[\u001b[0m\u001b[0mbool\u001b[0m\u001b[0;34m]\u001b[0m \u001b[0;34m=\u001b[0m \u001b[0;32mNone\u001b[0m\u001b[0;34m,\u001b[0m\u001b[0;34m\u001b[0m\n",
       "\u001b[0;34m\u001b[0m    \u001b[0mhighlight\u001b[0m\u001b[0;34m:\u001b[0m \u001b[0mOptional\u001b[0m\u001b[0;34m[\u001b[0m\u001b[0mbool\u001b[0m\u001b[0;34m]\u001b[0m \u001b[0;34m=\u001b[0m \u001b[0;32mNone\u001b[0m\u001b[0;34m,\u001b[0m\u001b[0;34m\u001b[0m\n",
       "\u001b[0;34m\u001b[0m    \u001b[0mwidth\u001b[0m\u001b[0;34m:\u001b[0m \u001b[0mOptional\u001b[0m\u001b[0;34m[\u001b[0m\u001b[0mint\u001b[0m\u001b[0;34m]\u001b[0m \u001b[0;34m=\u001b[0m \u001b[0;32mNone\u001b[0m\u001b[0;34m,\u001b[0m\u001b[0;34m\u001b[0m\n",
       "\u001b[0;34m\u001b[0m    \u001b[0mheight\u001b[0m\u001b[0;34m:\u001b[0m \u001b[0mOptional\u001b[0m\u001b[0;34m[\u001b[0m\u001b[0mint\u001b[0m\u001b[0;34m]\u001b[0m \u001b[0;34m=\u001b[0m \u001b[0;32mNone\u001b[0m\u001b[0;34m,\u001b[0m\u001b[0;34m\u001b[0m\n",
       "\u001b[0;34m\u001b[0m    \u001b[0mcrop\u001b[0m\u001b[0;34m:\u001b[0m \u001b[0mbool\u001b[0m \u001b[0;34m=\u001b[0m \u001b[0;32mTrue\u001b[0m\u001b[0;34m,\u001b[0m\u001b[0;34m\u001b[0m\n",
       "\u001b[0;34m\u001b[0m    \u001b[0msoft_wrap\u001b[0m\u001b[0;34m:\u001b[0m \u001b[0mOptional\u001b[0m\u001b[0;34m[\u001b[0m\u001b[0mbool\u001b[0m\u001b[0;34m]\u001b[0m \u001b[0;34m=\u001b[0m \u001b[0;32mNone\u001b[0m\u001b[0;34m,\u001b[0m\u001b[0;34m\u001b[0m\n",
       "\u001b[0;34m\u001b[0m    \u001b[0mnew_line_start\u001b[0m\u001b[0;34m:\u001b[0m \u001b[0mbool\u001b[0m \u001b[0;34m=\u001b[0m \u001b[0;32mFalse\u001b[0m\u001b[0;34m,\u001b[0m\u001b[0;34m\u001b[0m\n",
       "\u001b[0;34m\u001b[0m\u001b[0;34m)\u001b[0m \u001b[0;34m->\u001b[0m \u001b[0;32mNone\u001b[0m\u001b[0;34m\u001b[0m\u001b[0;34m\u001b[0m\u001b[0m\n",
       "\u001b[0;31mDocstring:\u001b[0m\n",
       "Print to the console.\n",
       "\n",
       "Args:\n",
       "    objects (positional args): Objects to log to the terminal.\n",
       "    sep (str, optional): String to write between print data. Defaults to \" \".\n",
       "    end (str, optional): String to write at end of print data. Defaults to \"\\\\n\".\n",
       "    style (Union[str, Style], optional): A style to apply to output. Defaults to None.\n",
       "    justify (str, optional): Justify method: \"default\", \"left\", \"right\", \"center\", or \"full\". Defaults to ``None``.\n",
       "    overflow (str, optional): Overflow method: \"ignore\", \"crop\", \"fold\", or \"ellipsis\". Defaults to None.\n",
       "    no_wrap (Optional[bool], optional): Disable word wrapping. Defaults to None.\n",
       "    emoji (Optional[bool], optional): Enable emoji code, or ``None`` to use console default. Defaults to ``None``.\n",
       "    markup (Optional[bool], optional): Enable markup, or ``None`` to use console default. Defaults to ``None``.\n",
       "    highlight (Optional[bool], optional): Enable automatic highlighting, or ``None`` to use console default. Defaults to ``None``.\n",
       "    width (Optional[int], optional): Width of output, or ``None`` to auto-detect. Defaults to ``None``.\n",
       "    crop (Optional[bool], optional): Crop output to width of terminal. Defaults to True.\n",
       "    soft_wrap (bool, optional): Enable soft wrap mode which disables word wrapping and cropping of text or ``None`` for\n",
       "        Console default. Defaults to ``None``.\n",
       "    new_line_start (bool, False): Insert a new line at the start if the output contains more than one line. Defaults to ``False``.\n",
       "\u001b[0;31mFile:\u001b[0m      ~/miniconda3/envs/2024-kmerseek-analysis-polars/lib/python3.12/site-packages/rich/console.py\n",
       "\u001b[0;31mType:\u001b[0m      method"
      ]
     },
     "metadata": {},
     "output_type": "display_data"
    }
   ],
   "source": [
    "console.print?"
   ]
  },
  {
   "cell_type": "code",
   "execution_count": 148,
   "id": "bf4349e7-8184-4ae6-a938-a7973cab4101",
   "metadata": {
    "execution": {
     "iopub.execute_input": "2024-11-06T01:20:52.145971Z",
     "iopub.status.busy": "2024-11-06T01:20:52.145732Z",
     "iopub.status.idle": "2024-11-06T01:21:10.737311Z",
     "shell.execute_reply": "2024-11-06T01:21:10.737002Z",
     "shell.execute_reply.started": "2024-11-06T01:20:52.145955Z"
    }
   },
   "outputs": [
    {
     "name": "stdout",
     "output_type": "stream",
     "text": [
      "> \u001b[0;32m/tmp/ipykernel_6267/1524215248.py\u001b[0m(82)\u001b[0;36mdisplay_alignment\u001b[0;34m()\u001b[0m\n",
      "\u001b[0;32m     80 \u001b[0;31m\u001b[0;34m\u001b[0m\u001b[0m\n",
      "\u001b[0m\u001b[0;32m     81 \u001b[0;31m        \u001b[0mother_until_overlap\u001b[0m \u001b[0;34m=\u001b[0m \u001b[0mother\u001b[0m\u001b[0;34m.\u001b[0m\u001b[0mseq\u001b[0m\u001b[0;34m.\u001b[0m\u001b[0mindex\u001b[0m\u001b[0;34m(\u001b[0m\u001b[0mother_overlap_seq\u001b[0m\u001b[0;34m)\u001b[0m\u001b[0;34m\u001b[0m\u001b[0;34m\u001b[0m\u001b[0m\n",
      "\u001b[0m\u001b[0;32m---> 82 \u001b[0;31m        \u001b[0mself_until_overlap\u001b[0m \u001b[0;34m=\u001b[0m \u001b[0mself\u001b[0m\u001b[0;34m.\u001b[0m\u001b[0mseq\u001b[0m\u001b[0;34m.\u001b[0m\u001b[0mindex\u001b[0m\u001b[0;34m(\u001b[0m\u001b[0mself_overlap_seq\u001b[0m\u001b[0;34m)\u001b[0m\u001b[0;34m\u001b[0m\u001b[0;34m\u001b[0m\u001b[0m\n",
      "\u001b[0m\u001b[0;32m     83 \u001b[0;31m\u001b[0;34m\u001b[0m\u001b[0m\n",
      "\u001b[0m\u001b[0;32m     84 \u001b[0;31m        overlap_length = (\n",
      "\u001b[0m\n"
     ]
    },
    {
     "name": "stdin",
     "output_type": "stream",
     "text": [
      "ipdb>  self_overlap_seq\n"
     ]
    },
    {
     "name": "stdout",
     "output_type": "stream",
     "text": [
      "'TGAPTALPCVLPVRAYDVVVDGTEILVAP'\n"
     ]
    },
    {
     "name": "stdin",
     "output_type": "stream",
     "text": [
      "ipdb>  other_overlap_seq\n"
     ]
    },
    {
     "name": "stdout",
     "output_type": "stream",
     "text": [
      "'TGAPTALPCVLPVRAYDVVVDGTEILVAP'\n"
     ]
    },
    {
     "name": "stdin",
     "output_type": "stream",
     "text": [
      "ipdb>  q\n"
     ]
    }
   ],
   "source": [
    "%debug"
   ]
  },
  {
   "cell_type": "code",
   "execution_count": null,
   "id": "1ac4a5e8-fdae-4166-82f5-c80deb3638da",
   "metadata": {},
   "outputs": [],
   "source": []
  },
  {
   "cell_type": "code",
   "execution_count": 134,
   "id": "02c45f23-0310-4bda-8f87-9da62639b29c",
   "metadata": {
    "execution": {
     "iopub.execute_input": "2024-11-06T01:16:11.438410Z",
     "iopub.status.busy": "2024-11-06T01:16:11.438315Z",
     "iopub.status.idle": "2024-11-06T01:16:11.447986Z",
     "shell.execute_reply": "2024-11-06T01:16:11.447771Z",
     "shell.execute_reply.started": "2024-11-06T01:16:11.438402Z"
    }
   },
   "outputs": [
    {
     "data": {
      "text/plain": [
       "27"
      ]
     },
     "execution_count": 134,
     "metadata": {},
     "output_type": "execute_result"
    }
   ],
   "source": [
    "query.sig.minhash.ksize"
   ]
  },
  {
   "cell_type": "code",
   "execution_count": 135,
   "id": "74354bd0-544a-49a5-9bec-e0732848e243",
   "metadata": {
    "execution": {
     "iopub.execute_input": "2024-11-06T01:16:11.448335Z",
     "iopub.status.busy": "2024-11-06T01:16:11.448247Z",
     "iopub.status.idle": "2024-11-06T01:16:11.458002Z",
     "shell.execute_reply": "2024-11-06T01:16:11.457788Z",
     "shell.execute_reply.started": "2024-11-06T01:16:11.448327Z"
    }
   },
   "outputs": [
    {
     "data": {
      "text/plain": [
       "[(74,\n",
       "  'phhhphhhphhhhphhphhhphpphhh',\n",
       "  'TGAPTALPCVLPVRAYDVVVDGTEILV',\n",
       "  1377032650408549891),\n",
       " (75,\n",
       "  'hhhphhhphhhhphhphhhphpphhhh',\n",
       "  'GAPTALPCVLPVRAYDVVVDGTEILVA',\n",
       "  9687257153334895900),\n",
       " (76,\n",
       "  'hhphhhphhhhphhphhhphpphhhhh',\n",
       "  'APTALPCVLPVRAYDVVVDGTEILVAP',\n",
       "  4002281547216460058)]"
      ]
     },
     "execution_count": 135,
     "metadata": {},
     "output_type": "execute_result"
    }
   ],
   "source": [
    "self_overlap = query.get_overlapping_kmers(match)\n",
    "self_overlap"
   ]
  },
  {
   "cell_type": "code",
   "execution_count": 136,
   "id": "a0f06fba-1de8-4f5a-a65a-02031db7b45c",
   "metadata": {
    "execution": {
     "iopub.execute_input": "2024-11-06T01:16:11.458367Z",
     "iopub.status.busy": "2024-11-06T01:16:11.458275Z",
     "iopub.status.idle": "2024-11-06T01:16:11.467719Z",
     "shell.execute_reply": "2024-11-06T01:16:11.467495Z",
     "shell.execute_reply.started": "2024-11-06T01:16:11.458359Z"
    }
   },
   "outputs": [
    {
     "data": {
      "text/plain": [
       "'TGAPTALPCVLPVRAYDVVVDGTEILVAP'"
      ]
     },
     "execution_count": 136,
     "metadata": {},
     "output_type": "execute_result"
    }
   ],
   "source": [
    "stitch_kmers(self_overlap)"
   ]
  },
  {
   "cell_type": "code",
   "execution_count": 137,
   "id": "4ce2bdd7-7945-4bfb-aec1-835dc8613a85",
   "metadata": {
    "execution": {
     "iopub.execute_input": "2024-11-06T01:16:11.468083Z",
     "iopub.status.busy": "2024-11-06T01:16:11.467992Z",
     "iopub.status.idle": "2024-11-06T01:16:11.477845Z",
     "shell.execute_reply": "2024-11-06T01:16:11.477632Z",
     "shell.execute_reply.started": "2024-11-06T01:16:11.468075Z"
    },
    "scrolled": true
   },
   "outputs": [
    {
     "data": {
      "text/plain": [
       "[(2,\n",
       "  'phhhphhhphhhhphhphhhphpphhh',\n",
       "  'ELLVQVPGKAVVWEPLTAYVSFTNPLP',\n",
       "  1377032650408549891),\n",
       " (3,\n",
       "  'hhhphhhphhhhphhphhhphpphhhh',\n",
       "  'LLVQVPGKAVVWEPLTAYVSFTNPLPV',\n",
       "  9687257153334895900),\n",
       " (4,\n",
       "  'hhphhhphhhhphhphhhphpphhhhh',\n",
       "  'LVQVPGKAVVWEPLTAYVSFTNPLPVP',\n",
       "  4002281547216460058)]"
      ]
     },
     "execution_count": 137,
     "metadata": {},
     "output_type": "execute_result"
    }
   ],
   "source": [
    "other_overlap = match.get_overlapping_kmers(query)\n",
    "other_overlap"
   ]
  },
  {
   "cell_type": "code",
   "execution_count": 138,
   "id": "33ca2275-f907-4454-a9f0-c5d20ab88a1b",
   "metadata": {
    "execution": {
     "iopub.execute_input": "2024-11-06T01:16:11.478214Z",
     "iopub.status.busy": "2024-11-06T01:16:11.478120Z",
     "iopub.status.idle": "2024-11-06T01:16:11.487086Z",
     "shell.execute_reply": "2024-11-06T01:16:11.486853Z",
     "shell.execute_reply.started": "2024-11-06T01:16:11.478206Z"
    }
   },
   "outputs": [],
   "source": [
    "self_overlap_seq = stitch_kmers(self_overlap, use_encoded=False)\n",
    "self_overlap_encoded = stitch_kmers(self_overlap, use_encoded=True)\n",
    "other_overlap_seq = stitch_kmers(self_overlap, use_encoded=False)\n",
    "other_overlap_encoded = stitch_kmers(other_overlap, use_encoded=True)\n",
    "\n",
    "match_until_overlap = match.seq.index(\"TGAPTALPCVLPVRAYDVVVDGTEILVAP\")"
   ]
  },
  {
   "cell_type": "code",
   "execution_count": 139,
   "id": "16faa7e6-0252-4f16-b7e9-631867937d1a",
   "metadata": {
    "execution": {
     "iopub.execute_input": "2024-11-06T01:16:11.488278Z",
     "iopub.status.busy": "2024-11-06T01:16:11.488175Z",
     "iopub.status.idle": "2024-11-06T01:16:11.497765Z",
     "shell.execute_reply": "2024-11-06T01:16:11.497553Z",
     "shell.execute_reply.started": "2024-11-06T01:16:11.488269Z"
    }
   },
   "outputs": [
    {
     "data": {
      "text/plain": [
       "'TGAPTALPCVLPVRAYDVVVDGTEILVAP'"
      ]
     },
     "execution_count": 139,
     "metadata": {},
     "output_type": "execute_result"
    }
   ],
   "source": [
    "self_overlap_seq"
   ]
  },
  {
   "cell_type": "code",
   "execution_count": 140,
   "id": "fb512421-bdaa-475f-ba6e-ce3735be366a",
   "metadata": {
    "execution": {
     "iopub.execute_input": "2024-11-06T01:16:11.541814Z",
     "iopub.status.busy": "2024-11-06T01:16:11.541532Z",
     "iopub.status.idle": "2024-11-06T01:16:11.552448Z",
     "shell.execute_reply": "2024-11-06T01:16:11.552221Z",
     "shell.execute_reply.started": "2024-11-06T01:16:11.541803Z"
    }
   },
   "outputs": [
    {
     "data": {
      "text/plain": [
       "'TPELLVQVPGKAVVWEPLTAYVSFTNPLPVPLKGGVFTLEGAGLLSATQIHVNGAVAPSGKVSVKLSFSPMRTGVRKLLVDFDSDRLKDVKGVTTVVVHKK'"
      ]
     },
     "execution_count": 140,
     "metadata": {},
     "output_type": "execute_result"
    }
   ],
   "source": [
    "query.seq"
   ]
  },
  {
   "cell_type": "code",
   "execution_count": 141,
   "id": "ace78989-d45e-4d70-a1ee-dfec59266951",
   "metadata": {
    "execution": {
     "iopub.execute_input": "2024-11-06T01:16:11.690033Z",
     "iopub.status.busy": "2024-11-06T01:16:11.689629Z",
     "iopub.status.idle": "2024-11-06T01:16:11.701725Z",
     "shell.execute_reply": "2024-11-06T01:16:11.701497Z",
     "shell.execute_reply.started": "2024-11-06T01:16:11.690021Z"
    }
   },
   "outputs": [
    {
     "data": {
      "text/plain": [
       "74"
      ]
     },
     "execution_count": 141,
     "metadata": {},
     "output_type": "execute_result"
    }
   ],
   "source": [
    "match.seq.index(\"TGAPTALPCVLPVRAYDVVVDGTEILVAP\")"
   ]
  },
  {
   "cell_type": "code",
   "execution_count": 142,
   "id": "14553633-6fb7-468c-8933-bf7168af6b63",
   "metadata": {
    "execution": {
     "iopub.execute_input": "2024-11-06T01:16:12.555790Z",
     "iopub.status.busy": "2024-11-06T01:16:12.555493Z",
     "iopub.status.idle": "2024-11-06T01:16:12.567480Z",
     "shell.execute_reply": "2024-11-06T01:16:12.567260Z",
     "shell.execute_reply.started": "2024-11-06T01:16:12.555778Z"
    }
   },
   "outputs": [
    {
     "data": {
      "text/plain": [
       "'STPVRVATLDQLKPGVPTAFDVDGDEVMVVRDGDSVYAISNLCSHAEAYLDMGVFHAESLEIECPLHVGRFDVRTGAPTALPCVLPVRAYDVVVDGTEILVAPK'"
      ]
     },
     "execution_count": 142,
     "metadata": {},
     "output_type": "execute_result"
    }
   ],
   "source": [
    "match.seq"
   ]
  },
  {
   "cell_type": "markdown",
   "id": "78465052-8211-4a9d-a7a3-814d9249d825",
   "metadata": {},
   "source": []
  },
  {
   "cell_type": "markdown",
   "id": "8d79a20f-af99-44c5-89b3-a36ffa10d5e4",
   "metadata": {},
   "source": [
    "## ITerate over some rows"
   ]
  },
  {
   "cell_type": "code",
   "execution_count": 105,
   "id": "315872ad",
   "metadata": {
    "execution": {
     "iopub.execute_input": "2024-11-06T01:12:47.816290Z",
     "iopub.status.busy": "2024-11-06T01:12:47.815763Z",
     "iopub.status.idle": "2024-11-06T01:12:47.901369Z",
     "shell.execute_reply": "2024-11-06T01:12:47.900977Z",
     "shell.execute_reply.started": "2024-11-06T01:12:47.816274Z"
    }
   },
   "outputs": [
    {
     "name": "stdout",
     "output_type": "stream",
     "text": [
      "\n",
      "---\n",
      "match_length 29\n",
      "d1g0da3 b.1.5.1 (A:584-684) Transglutaminase, two C-terminal domains {Red sea bream (Chrysophrys major) [TaxId: 143350]}\n",
      "                                                                        TPELLVQVPGKAVVWEPLTAYVSFTNPLPVPLKGGVFTLEGAGLLSATQIHVNGAVAPSGKVSVKLSFSPMRTGVRKLLVDFDSDRLKDVKGVTTVVVHKK\n",
      "                                                                        phphhhphhhphhhhphhphhhphpphhhhhhphhhhphphhhhhphpphphphhhhhphphphphphphhpphhpphhhphpppphpphphhpphhhppp\n",
      "                                                                          |||||||||||||||||||||||||||||\n",
      "pphhphhphpphphhhhphhphphpphhhhpphpphhhhpphppphphhhphhhhphpphphpphhphhphphpphhhphhhphhhhphhphhhphpphhhhhp\n",
      "STPVRVATLDQLKPGVPTAFDVDGDEVMVVRDGDSVYAISNLCSHAEAYLDMGVFHAESLEIECPLHVGRFDVRTGAPTALPCVLPVRAYDVVVDGTEILVAPK\n",
      "d3gcea_ b.33.1.0 (A:) automated matches {Nocardioides aromaticivorans [TaxId: 200618]}\n",
      "\n",
      "---\n",
      "match_length 29\n",
      "d5mdmc_ e.76.1.0 (C:) automated matches {Chandipura virus [TaxId: 11272]}\n",
      "                       YLSIAFPENTKLDWKPVTKNTRYCPMGGEWFLEPGLQEESFLSSTPIGATPSKSDGFLCHAAKWVTTCDFRWYGPKYITHSIHNIKPTRSDCDTALASYKSGTLVSLGFPPESCGYASVTDSEFLVIMITPHHVGVDDYRGHWVDPLFVGGECDQSYCDTIHNSSVWIPADQTKKNICGQSFTPLTVTVAYDKTKEIAAGGIVFKSKYHSHMEGARTCRLSYCGRNGIKFPNGEWVSLDVKTRIQEKHLLPLFKECPAGTEVRSTLQSDGAQVLTSEIQRILDYSLCQNTWDKVERKEPLSPLDLSYLASKSPGKGLAYTVINGTLSFAHTRYVRMWIDGPVLKEPKGKRESPSGISSDIWTQWFKYGDMEIGPNGLLKTAGGYKFPWHLIGMGIVDNELHELSE\n",
      "                       hhphhhhpppphphphhppppphphhhhphhhphhhpppphhppphhhhphpppphhhpphhphhpppphphhhhphhppphpphphppppppphhhphpphphhphhhhhppphhhphpppphhhhhhphpphhhpphphphhphhhhhhppppphppphpppphhhhhpppppphphpphphhphphhhppppphhhhhhhhppphppphphhpppphphphpphhphhphphhphphppphpppphhhhhppphhhpphppphppphhphhppphpphhphphpppphpphpppphhphhphphhhppphhphhhhphhphphphhppphhphhhphhhhpphphpppphphhppphhpphhphhphphhhphhhpphhhhphhhphhhhhhhppphpphpp\n",
      "                                                                     |||||||||||||||||||||||||||||\n",
      "pppphhhhppphpphhpphphppphhphpphphhhpphhphhpphphphpphhhpphpphphhpphhpphhhphpppphhhpphhphhpppphphhhhhhhphhp\n",
      "SSHRLALYRNQAKSLLTHGRITTTVPKAKELRGFVDHLIHLAKRGDLHARRLVLRDLQDVKLVRKLFDEIAPRYRDRQGGYTRVLKLAERRRGDGAPLALVELVE\n",
      "d1gd8a_ d.188.1.1 (A:) Prokaryotic ribosomal protein L17 {Thermus thermophilus [TaxId: 274]}\n",
      "\n",
      "---\n",
      "match_length 30\n",
      "d4f3mb_ d.58.53.2 (B:) CRISPR-associated protein Cas5d {Bacillus halodurans [TaxId: 272558]}\n",
      "MRNEVQFELFGDYALFTDPLTKIGGEKLSYSVPTYQALKGIAESIYWKPTIVFVIDELRVMKPIQMESKGVRPIEYGGGNTLAHYTYLKDVHYQVKAHFEFNLHRPDLAFDRNEGKHYSILQRSLKAGGRRDIFLGARECQGYVAPCEFGSGDGFYDGQGKYHLGTMVHGFNYPDETGQHQLDVRLWSAVMENGYIQFPRPEDCPIVRPVKEMEPKIFNPDNVQSAEQLLHDLG\n",
      "hppphphphhhphhhhpphhpphhhpphphphhphphhphhhpphhhphphhhhhpphphhphhphppphhphhphhhhpphhphphhpphphphphphphphpphphhhpppphpphphhppphphhhppphhhhhpppphhhhhpphhphphhhphphphphhphhphhphhppphppphphphhphhhpphhhphhphppphhhphhpphphphhphpphpphpphhpphh\n",
      "                                                                                                                                                   ||||||||||||||||||||||||||||||\n",
      "                                                                                                                                       phhpphhhphhhphhphphhhphphphphhphhphhphhpppppphhhhphhhhhhphhphpphpphphphhhpphphpphhhphpphhphhhhhhhhhppphhhhpphphphhph\n",
      "                                                                                                                                       SLFEQLGGQAAVQAVTAQFYANIQADATVATFFNGIDMPNQTNKTAAFLCAALGGPNAWTGRNLKEVHANMGVSNAQFTTVIGHLRSALTGAGVAAALVEQTVAVAETVRGDVVTV\n",
      "d1dlwa_ a.1.1.1 (A:) Protozoan/bacterial hemoglobin {Ciliate (Paramecium caudatum) [TaxId: 5885]}\n",
      "\n",
      "---\n",
      "match_length 52\n",
      "d3j9ca1 b.179.1.1 (A:174-225) PA14 {Bacillus anthracis}\n",
      "                                                                                                                                                               TVPDRDNDGIPDSLEVEGYTVDVKNKRTFLSPWISNIHEKKGLTKYKSSPEK\n",
      "                                                                                                                                                               phhppppphhhpphphphhphphppppphhphhhpphpppphhpphppphpp\n",
      "                                                                                                                                                               ||||||||||||||||||||||||||||||||||||||||||||||||||||\n",
      "ppphhhhhhhpphphphhhhhppppphphphhppphpphhpppphhpphhhphhhphppppphphhpphppphphhhpppphhpphppppphphpphphhphphphpppphppphhphphhhpppppppphhpppphphhphpppppppppppppphhhphhppppphhhpphphphhphphppppphhphhhpphpppphhpphppphpp\n",
      "SSQGLLGYYFSDLNFQAPMVVTSSTTGDLSIPSSELENIPSENQYFQSAIWSGFIKVKKSDEYTFATSADNHVTMWVDDQEVINKASNSNKIRLEKGRLYQIKIQYQRENPTEKGLDFKLYWTDSQNKKEVISSDNLQLPELKQKSSNSRKKRSTSAGPTVPDRDNDGIPDSLEVEGYTVDVKNKRTFLSPWISNIHEKKGLTKYKSSPEK\n",
      "d3tewa2 b.179.1.1 (A:15-225) PA14 {Bacillus anthracis}\n",
      "\n",
      "---\n",
      "match_length 28\n",
      "d3c3ka1 c.93.1.0 (A:7-277) automated matches {Actinobacillus succinogenes [TaxId: 339671]}\n",
      "                             KTGMLLVMVSNIANPFCAAVVKGIEKTAEKNGYRILLCNTESDLARSRSCLTLLSGKMVDGVITMDALSELPELQNIIGAFPWVQCAEYDPLSTVSSVSIDDVAASEYVVDQLVKSGKKRIALINHDLAYQYAQHRESGYLNRLKFHGLDYSRISYAENLDYMAGKLATFSLLKSAVKPDAIFAISDVLAAGAIQALTESGLSIPQDVAVVGFDGVDISQITVPALTTVQQPSEQIGMKAVSLLLEQIHSDVLAKTVHHLLPWKFVRRQSS\n",
      "                             pphhhhhhhpphhphhphhhhphhppphppphhphhhpppppphhppppphphhphphhphhhphphhpphhphpphhhhhhhhpphphphhpphpphphpphhhpphhhpphhpphppphhhhppphhhphhppppphhhpphphphhphpphphhpphphhhhphhphphhpphhphphhhhhpphhhhhhhphhppphhphhpphhhhhhphhphpphphhhhpphpphppphhhphhphhhpphppphhhpphpphhhhphhppppp\n",
      "                                                                                                                                                         ||||||||||||||||||||||||||||\n",
      "ppphhhhhhhpphphphhhhhppppphphphhppphpphhpppphhpphhhphhhphppppphphhpphppphphhhpppphhpphppppphphpphphhphphphpppphppphhphphhhpppppppphhpppphphhphpppppppppppppphhhphhppppphhhpphphphhphphppppphhphhhpphpppphhpphppphpp\n",
      "SSQGLLGYYFSDLNFQAPMVVTSSTTGDLSIPSSELENIPSENQYFQSAIWSGFIKVKKSDEYTFATSADNHVTMWVDDQEVINKASNSNKIRLEKGRLYQIKIQYQRENPTEKGLDFKLYWTDSQNKKEVISSDNLQLPELKQKSSNSRKKRSTSAGPTVPDRDNDGIPDSLEVEGYTVDVKNKRTFLSPWISNIHEKKGLTKYKSSPEK\n",
      "d3tewa2 b.179.1.1 (A:15-225) PA14 {Bacillus anthracis}\n",
      "\n",
      "---\n",
      "match_length 28\n",
      "d1opoa_ b.121.4.7 (A:) Carmovirus coat protein {CarMV (Carnation mottle virus) [TaxId: 11986]}\n",
      "SMTMSKTELLSTVKGTTGVIPSFEDWVVSPRNVAVFPQLSLLATNFNKYRITALTVKYSPACSFETNGRVALGFNDDASDTPPTTKVGFYDLGKHVETAAQTAKDLVIPVDGKTRFIRDSASDDAKLVDFGRIVLSTYGFDKADTVVGELFIQYTIVLSDPTKTAKISQASNDKVSDGPTYVVPSVNGNELQLRVVAAGKWCIIVRGTVEGGFTKPTLIGPGISGDVDYESARPIAVCELVTQMEGQILKITKTSAEQPLQWVVYRM\n",
      "phphpppphhpphphpphhhhphpphhhphpphhhhhphphhhpphpphphphhphphphhpphppphphhhhhppphppphhppphhhhphhpphpphhpphpphhhhhphppphhppphppphphhphhphhhpphhhpphpphhhphhhphphhhpphppphphpphpppphpphhphhhhphphpphphphhhhhphphhhphphphhhpphphhhhhhphphphpphphhhhpphhpphphphhphpppphpphhphhhhph\n",
      "                                                                            ||||||||||||||||||||||||||||\n",
      "                                                                            phppphhppphhhhphhpphpphhpphphpphhpphpphpphpphhhhhphphhphpphhhpphhppppphhhhphpphhhhppphphhppphphhpphhhhhppppphhphhphpphpphhhpphhpphhhpphpphhhhpphhpppphphhpphphpphhpppphphpphhppppphhphpphphppphphhphhhhhhhhhppppphhppphphpphphhphhhhhpppphpphpphhphppphppphhhhhpphphhphpphhhhhppphphh\n",
      "                                                                            QFSRQMLDRKLLLGNVPKQMTCYIREYHVDRVIKKLDEMCDLDSFFLFLHGRAGSGKSVIASQALSKSDQLIGINYDSIVWLKDSGTAPKSTFDLFTDILLMLKSEDDLLNFPSVEHVTSVVLKRMICNALIDRPNTLFVFDDVVQEETIRWAQELRLRCLVTTRDVEISNAASQTCEFIEVTSLEIDECYDFLEAYGMPMPVGEKEEDVLNKTIELSSGNPATLMMFFKSCEPKTFEKMAQLNNKLESRGLVGVECITPYSYKSLAMALQRCVEVL\n",
      "d2a5yb3 c.37.1.20 (B:109-385) CED-4, NB-ARC domain {Nematode (Caenorhabditis elegans) [TaxId: 6239]}\n",
      "\n",
      "---\n",
      "match_length 28\n",
      "d1twfb_ e.29.1.1 (B:) RBP2 {Baker's yeast (Saccharomyces cerevisiae) [TaxId: 4932]}\n",
      "FEDESAPITAEDSWAVISAFFREKGLVSQQLDSFNQFVDYTLQDIICEDSTLILEQLAQHTTESDNISRKYEISFGKIYVTKPMVNESDGVTHALYPQEARLRNLTYSSGLFVDVKKRTYEAIDVPGRELKYELIAEESEDDSESGKVFIGRLPIMLRSKNCYLSEATESDLYKLKECPFDMGGYFIINGSEKVLIAQERSAGNIVQVFKKAAPSPISHVAEIRSALEKGSRFISTLQVKLYGREGSSARTIKATLPYIKQDIPIVIIFRALGIIPDGEILEHICYDVNDWQMLEMLKPCVEDGFVIQDRETALDFIGRRGTALGIKKEKRIQYAKDILQKEFLPHITQLEGFESRKAFFLGYMINRLLLCALDRKDQDDRDHFGKKRLDLAGPLLAQLFKTLFKKLTKDIFRYMQRTVEEAHDFNMKLAINAKTITSGLKYALATGNWGEQKKAMSSRAGVSQVLNRYTYSSTLSHLRRTNTPIGRDGKLAKPRQLHNTHWGLVCPAETPEGQACGLVKNLSLMSCISVGTDPMPIITFLSEWGMEPLEDYVPHQSPDATRVFVNGVWHGVHRNPARLMETLRTLRRKGDINPEVSMIRDIREKELKIFTDAGRVYRPLFIVEDDESLGHKELKVRKGHIAKLMATEYQDIEGGFEDVEEYTWSSLLNEGLVEYIDAEEEESILIAMQPEDLEPAEANEENDLDVDPAKRIRVSHHATTFTHCEIHPSMILGVAASIIPFPDHNQSPRNTYQSAMGKQAMGVFLTNYNVRMDTMANILYYPQKPLGTTRAMEYLKFRELPAGQNAIVAIACYSGYNQEDSMIMNQSSIDRGLFRSLFFRSYMDQEKKYGMSITETFEKPQRTNTLRMKHGTYDKLDDDGLIAPGVRVSGEDVIIGKTTPISPDEEELGQRTAYHSKRDASTPLRSTENGIVDQVLVTTNQDGLKFVKVRVRTTKIPQIGDKFASRHGQKGTIGITYRREDMPFTAEGIVPDLIINPHAIPSRMTVAHLIECLLSKVAALSGNEGDASPFTDITVEGISKLLREHGYQSRGFEVMYNGHTGKKLMAQIFFGPTYYQRLRHMVDDKIHARARGPMQVLTRQPVEGRSRDGGLRFGEMERDCMIAHGAASFLKERLMEASDAFRVHICGICGLMTVIAKLNHNQFECKGCDNKIDIYQIHIPYAAKLLFQELMAMNITPRLYTDRSRDF\n",
      "hpppphhhphppphhhhphhhppphhhppphpphpphhphphpphhppppphhhpphhpppppppphppphphphhphhhpphhhpppphhpphhhhpphphpphphpphhhhphpppphphhphhhpphphphhhppppppppphphhhhphhhhhppppphhpphpppphhphppphhphhhhhhhphppphhhhpppphhphhphhpphhhphhpphhphpphhpphpphhpphphphhhpphpphpphphphhhhppphhhhhhhphhhhhhphphhpphphphpphphhphhphphpphhhhppppphhphhhpphphhhhppppphphhpphhppphhhphpphphhpppphhhhhhhhpphhhphhpppppppppphhppphphhhhhhhphhpphhpphppphhphhppphpphpphphphhhphpphpphhphhhhphphhpppphhppphhhpphhpphphppphpphppppphhhpphphhphpphpppphhhhphhpphphphphhhpphphhpphphhpphhhhhphhpphhhphhpphhhppphphpphhhphhhphhppphhphhpphpphppphphphphphhpphpppphphhpphhphhphhhhhppppphhppphphpphphhphhhpphpphphhhpphpphphpphhpphhhphhphppppphhhhhphpphphhphppppphphphhpphphppphpphpppphphphhhhhhhphhhhhppppphppphpphhhpphhhhhhpphphphpphhphhhhhpphhhppphhphhphpphhhhpphhhhhhphphhppppphhhpppphpphhhpphhhpphhppppphhhphppphpphppppphphpphphpphppphhhhhhhphphpphhhhppphhphpppphhppphhppppphpphhppppphhhpphhhppppphhphhphphpppphhphhpphhppphpphphhhphpppphhhphphhhhphhhphphhhpphphhphhpphhpphhhhphpphphphhpphphphhpphhppphhppphhphhhphpphpphhhphhhhhphhpphpphhppphphphphhhphhppphhphpppphhhphhphpppphhhphhhphhppphhphpphhphphphhphhhphhhphpppphppphpppphphhphphhhhhphhhpphhhhphphphhpppppph\n",
      "                                                                                                                                                                                                                                                                                                                                                                                                                                                                                                                                                                                                                                          ||||||||||||||||||||||||||||\n",
      "                                                                                                                                                                                                                                                                                                                                                                                                                                   phppphhppphhhhphhpphpphhpphphpphhpphpphpphpphhhhhphphhphpphhhpphhppppphhhhphpphhhhppphphhppphphhpphhhhhppppphhphhphpphpphhhpphhpphhhpphpphhhhpphhpppphphhpphphpphhpppphphpphhppppphhphpphphppphphhphhhhhhhhhppppphhppphphpphphhphhhhhpppphpphpphhphppphppphhhhhpphphhphpphhhhhppphphh\n",
      "                                                                                                                                                                                                                                                                                                                                                                                                                                   QFSRQMLDRKLLLGNVPKQMTCYIREYHVDRVIKKLDEMCDLDSFFLFLHGRAGSGKSVIASQALSKSDQLIGINYDSIVWLKDSGTAPKSTFDLFTDILLMLKSEDDLLNFPSVEHVTSVVLKRMICNALIDRPNTLFVFDDVVQEETIRWAQELRLRCLVTTRDVEISNAASQTCEFIEVTSLEIDECYDFLEAYGMPMPVGEKEEDVLNKTIELSSGNPATLMMFFKSCEPKTFEKMAQLNNKLESRGLVGVECITPYSYKSLAMALQRCVEVL\n",
      "d2a5yb3 c.37.1.20 (B:109-385) CED-4, NB-ARC domain {Nematode (Caenorhabditis elegans) [TaxId: 6239]}\n",
      "\n",
      "---\n",
      "match_length 28\n",
      "d3fefa2 d.162.1.2 (A:172-440) automated matches {Bacillus subtilis [TaxId: 1423]}\n",
      "CCHEVFGTQKLLAEMVTERLGIEVPRREDIRVNVLGINHFTWITKASYRHIDLLPIFREFSAHYGESGYELEGECWRDSVFCSAHRVAFDLFETYGAIPAAGDRHLAEFLPGPYLKQPEVWKFHLTPISFRKQDRAEKRQETERLIVQQRGVAEKASGEEGVNIIAALLGLGELVTNVNMPNQGQVLNLPIQAIVETNAFITRNRVQPILSGALPKGVEMLAARHISNQEAVADAGLTKDTGLAFQAFLNDPLVQIDRSDAEQLFNDML\n",
      "pppphhhppphhhphhppphhhphhpppphphphhhhpphphhpphphpphphhhhhpphphphhpphhphphpphppphhpphpphhhphhpphhhhhhhhppphhphhhhhhhpphphhphphphhphppppphpppppppphhhppphhhpphphpphhphhhhhhhhhphhpphphhpphphhphhhphhhppphhhpppphphhhphhhhphhphhhhpphpppphhhphhhpppphhhhphhhpphhhphpppphpphhpphh\n",
      "                                                                                                                 ||||||||||||||||||||||||||||\n",
      "                                                          phhhpphhhphphphhpphhppphphhphphphphphhpphphphphhphpphpphhpphphhphphphhphppppphppppphpphphhhppphhp\n",
      "                                                          EVIVKNLPASVNWQALKDIFKECGNVAHADVELDGDGVSTGSGTVSFYDIKDLHRAIEKYNGYSIEGNVLDVKSKESVHNHSDGDDVDIPMDDSPVN\n",
      "d2mzsa1 d.58.7.0 (A:262-358) automated matches {Baker's yeast (Saccharomyces cerevisiae) [TaxId: 559292]}\n",
      "\n",
      "---\n",
      "match_length 30\n",
      "d1okca_ f.42.1.1 (A:) ADP,ATP carrier protein {Cow (Bos taurus), heart isoform t1 [TaxId: 9913]}\n",
      "DQALSFLKDFLAGGVAAAISKTAVAPIERVKLLLQVQHASKQISAEKQYKGIIDCVVRIPKEQGFLSFWRGNLANVIRYFPTQALNFAFKDKYKQIFLGGVDRHKQFWRYFAGNLASGGAAGATSLCFVYPLDFARTRLAADVGKGAAQREFTGLGNCITKIFKSDGLRGLYQGFNVSVQGIIIYRAAYFGVYDTAKGMLPDPKNVHIIVSWMIAQTVTAVAGLVSYPFDTVRRRMMMQSGRKGADIMYTGTVDCWRKIAKDEGPKAFFKGAWSNVLRGMGGAFVLVLYDEI\n",
      "pphhphhpphhhhhhhhhhppphhhhhpphphhhphpphppphphppphphhhpphhphhppphhhphhphphhphhphhhpphhphhhppphpphhhhhhppppphhphhhhphhphhhhhhpphphhhhhphhppphhhphhphhhppphphhhpphpphhppphhphhhphhphphphhhhhphhhhhhhpphphhhhphpphphhhphhhhpphphhhhhhphhhpphppphhhpphpphhphhhphphpphpphhppphhphhhphhhpphhphhhhhhhhhhhpph\n",
      "                                                                                                                                                                                              ||||||||||||||||||||||||||||||\n",
      "                                                                                                                                                                                           phphhhpphphhhhphpphphhhphhhhpphphphhhhpppppphphhhpphhhphphhppphphhphphpphphphhhhpphhphhhhphphpphphphpphphp\n",
      "                                                                                                                                                                                           TWTYILRQGDLPPGEMQRYEGGPEPVMVCNVDGEFFAVQDTCTHGDWALSDGYLDGDIVECTLHFGKFCVRTGKVKALPACKPIKVFPIKVEGDEVHVDLDNGELK\n",
      "d3dqya_ b.33.1.0 (A:) automated matches {Pseudomonas putida [TaxId: 303]}\n",
      "\n",
      "---\n",
      "match_length 52\n",
      "d3tewa2 b.179.1.1 (A:15-225) PA14 {Bacillus anthracis}\n",
      "SSQGLLGYYFSDLNFQAPMVVTSSTTGDLSIPSSELENIPSENQYFQSAIWSGFIKVKKSDEYTFATSADNHVTMWVDDQEVINKASNSNKIRLEKGRLYQIKIQYQRENPTEKGLDFKLYWTDSQNKKEVISSDNLQLPELKQKSSNSRKKRSTSAGPTVPDRDNDGIPDSLEVEGYTVDVKNKRTFLSPWISNIHEKKGLTKYKSSPEK\n",
      "ppphhhhhhhpphphphhhhhppppphphphhppphpphhpppphhpphhhphhhphppppphphhpphppphphhhpppphhpphppppphphpphphhphphphpppphppphhphphhhpppppppphhpppphphhphpppppppppppppphhhphhppppphhhpphphphhphphppppphhphhhpphpppphhpphppphpp\n",
      "                                                                                                                                                               ||||||||||||||||||||||||||||||||||||||||||||||||||||\n",
      "                                                                                                                                                               phhppppphhhpphphphhphphppppphhphhhpphpppphhpphppphpp\n",
      "                                                                                                                                                               TVPDRDNDGIPDSLEVEGYTVDVKNKRTFLSPWISNIHEKKGLTKYKSSPEK\n",
      "d3j9ca1 b.179.1.1 (A:174-225) PA14 {Bacillus anthracis}\n"
     ]
    }
   ],
   "source": [
    "query_scop_id_index = multisearch.columns.index(\"query_scop_id\")\n",
    "match_scop_id_index = multisearch.columns.index(\"match_scop_id\")\n",
    "\n",
    "for row in multisearch.head(10).iter_rows():\n",
    "    query_id = row[query_scop_id_index]\n",
    "    match_id = row[match_scop_id_index]\n",
    "\n",
    "    query = SigSeq(sigs[query_id], sequences[query_id])\n",
    "    match = SigSeq(sigs[match_id], sequences[match_id])\n",
    "\n",
    "    query.display_alignment(match)"
   ]
  },
  {
   "cell_type": "code",
   "execution_count": null,
   "id": "250e32a5-a9b1-495a-9d78-d82fb933a8a8",
   "metadata": {},
   "outputs": [],
   "source": []
  },
  {
   "cell_type": "code",
   "execution_count": null,
   "id": "0af9c510-bf3c-4b45-a343-ad573b8e6713",
   "metadata": {},
   "outputs": [],
   "source": []
  }
 ],
 "metadata": {
  "kernelspec": {
   "display_name": "Python [conda env:2024-kmerseek-analysis-polars]",
   "language": "python",
   "name": "conda-env-2024-kmerseek-analysis-polars-py"
  },
  "language_info": {
   "codemirror_mode": {
    "name": "ipython",
    "version": 3
   },
   "file_extension": ".py",
   "mimetype": "text/x-python",
   "name": "python",
   "nbconvert_exporter": "python",
   "pygments_lexer": "ipython3",
   "version": "3.12.7"
  }
 },
 "nbformat": 4,
 "nbformat_minor": 5
}
