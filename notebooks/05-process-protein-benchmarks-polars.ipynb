{
 "cells": [
  {
   "cell_type": "markdown",
   "id": "c7b68939-9b88-442b-872e-69fb175ce903",
   "metadata": {},
   "source": [
    "# Imports and setup"
   ]
  },
  {
   "cell_type": "markdown",
   "id": "9f82e23d-66f0-440a-8163-dfffae025202",
   "metadata": {},
   "source": [
    "### Auto-re-import python modules, useful for editing local fils"
   ]
  },
  {
   "cell_type": "code",
   "execution_count": 1,
   "id": "1616f0c6-9104-4889-9fde-4c85479fb245",
   "metadata": {},
   "outputs": [],
   "source": [
    "%load_ext autoreload\n",
    "%autoreload 2"
   ]
  },
  {
   "cell_type": "markdown",
   "id": "1f8ce8fc-4e4f-4d34-8ea5-07af0dd1de7e",
   "metadata": {},
   "source": [
    "## Imports"
   ]
  },
  {
   "cell_type": "code",
   "execution_count": 15,
   "id": "a905ccc7-8a61-40cd-b56a-36c5935ef523",
   "metadata": {},
   "outputs": [],
   "source": [
    "import itertools\n",
    "\n",
    "import matplotlib as mpl\n",
    "import polars as pl\n",
    "import seaborn as sns\n",
    "\n",
    "mpl.rcParams[\"figure.max_open_warning\"] = 0\n",
    "\n",
    "# Handwritten local modules\n",
    "import process_scop_sourmash_multisearch_polars"
   ]
  },
  {
   "cell_type": "markdown",
   "id": "4c099fc7-f907-4583-99be-c94ab7d8671f",
   "metadata": {},
   "source": [
    "# Read in data"
   ]
  },
  {
   "cell_type": "code",
   "execution_count": 16,
   "id": "195f1815-6420-4a0d-aa49-7b84f6d2ce79",
   "metadata": {},
   "outputs": [],
   "source": [
    "analysis_outdir = (\n",
    "    \"s3://seanome-kmerseek/scope-benchmark/analysis-outputs/2024-10-09__protein_k5-20\"\n",
    ")"
   ]
  },
  {
   "cell_type": "code",
   "execution_count": 17,
   "id": "56fa62a8-b603-4fa8-a11e-aa699a26045f",
   "metadata": {},
   "outputs": [
    {
     "name": "stdout",
     "output_type": "stream",
     "text": [
      "                           PRE multiqc/\n",
      "                           PRE pipeline_info/\n",
      "                           PRE seqkit/\n",
      "                           PRE sourmash/\n"
     ]
    }
   ],
   "source": [
    "pipeline_outdir = (\n",
    "    \"s3://seanome-kmerseek/scope-benchmark/pipeline-outputs/2024-10-08__protein_k5-20\"\n",
    ")\n",
    "! aws s3 ls $pipeline_outdir/"
   ]
  },
  {
   "cell_type": "code",
   "execution_count": 18,
   "id": "fb0ea835-39cc-4846-af2b-eb5c63f888d8",
   "metadata": {},
   "outputs": [
    {
     "name": "stdout",
     "output_type": "stream",
     "text": [
      "                           PRE multisearch/\n",
      "                           PRE sigs/\n"
     ]
    }
   ],
   "source": [
    "! aws s3 ls $pipeline_outdir/sourmash/"
   ]
  },
  {
   "cell_type": "code",
   "execution_count": 19,
   "id": "defc7224-89ad-4235-b18d-2d5ddf7b1321",
   "metadata": {},
   "outputs": [
    {
     "name": "stdout",
     "output_type": "stream",
     "text": [
      "2024-10-09 13:29:03    0 Bytes \n",
      "2024-10-09 03:28:12    6.0 MiB astral-scopedom-seqres-gd-sel-gs-bib-40-2.08.part_001.fa--in--astral-scopedom-seqres-gd-sel-gs-bib-40-2.08.part_001.fa.protein.10.multisearch.csv\n",
      "2024-10-09 06:17:15    5.7 MiB astral-scopedom-seqres-gd-sel-gs-bib-40-2.08.part_001.fa--in--astral-scopedom-seqres-gd-sel-gs-bib-40-2.08.part_001.fa.protein.11.multisearch.csv\n",
      "2024-10-09 04:22:24    5.5 MiB astral-scopedom-seqres-gd-sel-gs-bib-40-2.08.part_001.fa--in--astral-scopedom-seqres-gd-sel-gs-bib-40-2.08.part_001.fa.protein.12.multisearch.csv\n",
      "2024-10-09 08:07:15    5.5 MiB astral-scopedom-seqres-gd-sel-gs-bib-40-2.08.part_001.fa--in--astral-scopedom-seqres-gd-sel-gs-bib-40-2.08.part_001.fa.protein.13.multisearch.csv\n",
      "2024-10-09 07:10:35    5.4 MiB astral-scopedom-seqres-gd-sel-gs-bib-40-2.08.part_001.fa--in--astral-scopedom-seqres-gd-sel-gs-bib-40-2.08.part_001.fa.protein.14.multisearch.csv\n",
      "2024-10-09 12:35:34    5.4 MiB astral-scopedom-seqres-gd-sel-gs-bib-40-2.08.part_001.fa--in--astral-scopedom-seqres-gd-sel-gs-bib-40-2.08.part_001.fa.protein.15.multisearch.csv\n",
      "2024-10-09 09:54:25    5.4 MiB astral-scopedom-seqres-gd-sel-gs-bib-40-2.08.part_001.fa--in--astral-scopedom-seqres-gd-sel-gs-bib-40-2.08.part_001.fa.protein.16.multisearch.csv\n",
      "2024-10-09 08:57:55    5.4 MiB astral-scopedom-seqres-gd-sel-gs-bib-40-2.08.part_001.fa--in--astral-scopedom-seqres-gd-sel-gs-bib-40-2.08.part_001.fa.protein.17.multisearch.csv\n",
      "2024-10-09 11:36:24    5.4 MiB astral-scopedom-seqres-gd-sel-gs-bib-40-2.08.part_001.fa--in--astral-scopedom-seqres-gd-sel-gs-bib-40-2.08.part_001.fa.protein.18.multisearch.csv\n",
      "2024-10-09 13:29:03    5.4 MiB astral-scopedom-seqres-gd-sel-gs-bib-40-2.08.part_001.fa--in--astral-scopedom-seqres-gd-sel-gs-bib-40-2.08.part_001.fa.protein.19.multisearch.csv\n",
      "2024-10-09 10:43:33    5.4 MiB astral-scopedom-seqres-gd-sel-gs-bib-40-2.08.part_001.fa--in--astral-scopedom-seqres-gd-sel-gs-bib-40-2.08.part_001.fa.protein.20.multisearch.csv\n",
      "2024-10-09 00:40:23    2.3 GiB astral-scopedom-seqres-gd-sel-gs-bib-40-2.08.part_001.fa--in--astral-scopedom-seqres-gd-sel-gs-bib-40-2.08.part_001.fa.protein.5.multisearch.csv\n",
      "2024-10-09 02:30:23  175.0 MiB astral-scopedom-seqres-gd-sel-gs-bib-40-2.08.part_001.fa--in--astral-scopedom-seqres-gd-sel-gs-bib-40-2.08.part_001.fa.protein.6.multisearch.csv\n",
      "2024-10-09 00:24:32   20.7 MiB astral-scopedom-seqres-gd-sel-gs-bib-40-2.08.part_001.fa--in--astral-scopedom-seqres-gd-sel-gs-bib-40-2.08.part_001.fa.protein.7.multisearch.csv\n",
      "2024-10-09 05:21:54    8.4 MiB astral-scopedom-seqres-gd-sel-gs-bib-40-2.08.part_001.fa--in--astral-scopedom-seqres-gd-sel-gs-bib-40-2.08.part_001.fa.protein.8.multisearch.csv\n",
      "2024-10-09 01:40:13    6.6 MiB astral-scopedom-seqres-gd-sel-gs-bib-40-2.08.part_001.fa--in--astral-scopedom-seqres-gd-sel-gs-bib-40-2.08.part_001.fa.protein.9.multisearch.csv\n"
     ]
    }
   ],
   "source": [
    "! aws s3 ls --human-readable $pipeline_outdir/sourmash/multisearch/"
   ]
  },
  {
   "cell_type": "code",
   "execution_count": 20,
   "id": "a066e937-8dc5-4297-b9df-697e43a61ced",
   "metadata": {},
   "outputs": [
    {
     "data": {
      "text/plain": [
       "'s3://seanome-kmerseek/scope-benchmark/analysis-outputs/2024-10-09__protein_k5-20'"
      ]
     },
     "execution_count": 20,
     "metadata": {},
     "output_type": "execute_result"
    }
   ],
   "source": [
    "analysis_outdir"
   ]
  },
  {
   "cell_type": "markdown",
   "id": "c4db935d-1821-416e-b0d2-c735fb3a5d2c",
   "metadata": {},
   "source": [
    "## Read metadata"
   ]
  },
  {
   "cell_type": "markdown",
   "id": "815929d9-8030-4ef2-9c55-aebd060c0342",
   "metadata": {},
   "source": [
    "### Read Query Metadata"
   ]
  },
  {
   "cell_type": "code",
   "execution_count": 21,
   "id": "797fa5ec-d026-4f65-80ab-445081847a1b",
   "metadata": {},
   "outputs": [
    {
     "name": "stderr",
     "output_type": "stream",
     "text": [
      "/home/ec2-user/miniconda3/envs/2024-kmerseek-analysis-polars/lib/python3.12/site-packages/IPython/core/formatters.py:347: UserWarning: '(default_)region' not set; polars will try to get it from bucket\n",
      "\n",
      "Set the region manually to silence this warning.\n",
      "  return method()\n"
     ]
    },
    {
     "data": {
      "text/html": [
       "<h4>NAIVE QUERY PLAN</h4><p>run <b>LazyFrame.show_graph()</b> to see the optimized version</p><?xml version=\"1.0\" encoding=\"UTF-8\" standalone=\"no\"?>\n",
       "<!DOCTYPE svg PUBLIC \"-//W3C//DTD SVG 1.1//EN\"\n",
       " \"http://www.w3.org/Graphics/SVG/1.1/DTD/svg11.dtd\">\n",
       "<!-- Generated by graphviz version 2.44.0 (0)\n",
       " -->\n",
       "<!-- Title: polars_query Pages: 1 -->\n",
       "<svg width=\"672pt\" height=\"46pt\"\n",
       " viewBox=\"0.00 0.00 672.00 46.00\" xmlns=\"http://www.w3.org/2000/svg\" xmlns:xlink=\"http://www.w3.org/1999/xlink\">\n",
       "<g id=\"graph0\" class=\"graph\" transform=\"scale(1 1) rotate(0) translate(4 42)\">\n",
       "<title>polars_query</title>\n",
       "<polygon fill=\"white\" stroke=\"transparent\" points=\"-4,4 -4,-42 668,-42 668,4 -4,4\"/>\n",
       "<!-- p1 -->\n",
       "<g id=\"node1\" class=\"node\">\n",
       "<title>p1</title>\n",
       "<polygon fill=\"none\" stroke=\"black\" points=\"664,-38 0,-38 0,0 664,0 664,-38\"/>\n",
       "<text text-anchor=\"middle\" x=\"332\" y=\"-22.8\" font-family=\"Times-Roman\" font-size=\"14.00\">Parquet SCAN [s3://seanome&#45;kmerseek/scope&#45;benchmark/reference_files/scop.e.2.08.query_metadata.pq]</text>\n",
       "<text text-anchor=\"middle\" x=\"332\" y=\"-7.8\" font-family=\"Times-Roman\" font-size=\"14.00\">π */10;</text>\n",
       "</g>\n",
       "</g>\n",
       "</svg>\n"
      ],
      "text/plain": [
       "<LazyFrame at 0x7F026C86A0C0>"
      ]
     },
     "execution_count": 21,
     "metadata": {},
     "output_type": "execute_result"
    }
   ],
   "source": [
    "query_metadata = pl.scan_parquet(\n",
    "    \"s3://seanome-kmerseek/scope-benchmark/reference_files/scop.e.2.08.query_metadata.pq\"\n",
    ")\n",
    "query_metadata"
   ]
  },
  {
   "cell_type": "markdown",
   "id": "794e82ea-b8ff-496d-a81b-d3fad3886c33",
   "metadata": {},
   "source": [
    "### Read match metadata"
   ]
  },
  {
   "cell_type": "code",
   "execution_count": 22,
   "id": "490c5fc3-ce41-4456-bf91-e8974550494e",
   "metadata": {},
   "outputs": [
    {
     "data": {
      "text/html": [
       "<h4>NAIVE QUERY PLAN</h4><p>run <b>LazyFrame.show_graph()</b> to see the optimized version</p><?xml version=\"1.0\" encoding=\"UTF-8\" standalone=\"no\"?>\n",
       "<!DOCTYPE svg PUBLIC \"-//W3C//DTD SVG 1.1//EN\"\n",
       " \"http://www.w3.org/Graphics/SVG/1.1/DTD/svg11.dtd\">\n",
       "<!-- Generated by graphviz version 2.44.0 (0)\n",
       " -->\n",
       "<!-- Title: polars_query Pages: 1 -->\n",
       "<svg width=\"675pt\" height=\"46pt\"\n",
       " viewBox=\"0.00 0.00 675.00 46.00\" xmlns=\"http://www.w3.org/2000/svg\" xmlns:xlink=\"http://www.w3.org/1999/xlink\">\n",
       "<g id=\"graph0\" class=\"graph\" transform=\"scale(1 1) rotate(0) translate(4 42)\">\n",
       "<title>polars_query</title>\n",
       "<polygon fill=\"white\" stroke=\"transparent\" points=\"-4,4 -4,-42 671,-42 671,4 -4,4\"/>\n",
       "<!-- p1 -->\n",
       "<g id=\"node1\" class=\"node\">\n",
       "<title>p1</title>\n",
       "<polygon fill=\"none\" stroke=\"black\" points=\"667,-38 0,-38 0,0 667,0 667,-38\"/>\n",
       "<text text-anchor=\"middle\" x=\"333.5\" y=\"-22.8\" font-family=\"Times-Roman\" font-size=\"14.00\">Parquet SCAN [s3://seanome&#45;kmerseek/scope&#45;benchmark/reference_files/scop.e.2.08.match_metadata.pq]</text>\n",
       "<text text-anchor=\"middle\" x=\"333.5\" y=\"-7.8\" font-family=\"Times-Roman\" font-size=\"14.00\">π */6;</text>\n",
       "</g>\n",
       "</g>\n",
       "</svg>\n"
      ],
      "text/plain": [
       "<LazyFrame at 0x7F026C869EE0>"
      ]
     },
     "execution_count": 22,
     "metadata": {},
     "output_type": "execute_result"
    }
   ],
   "source": [
    "match_metadata = pl.scan_parquet(\n",
    "    \"s3://seanome-kmerseek/scope-benchmark/reference_files/scop.e.2.08.match_metadata.pq\"\n",
    ")\n",
    "match_metadata"
   ]
  },
  {
   "cell_type": "code",
   "execution_count": 33,
   "id": "ea29dac9-aa78-412c-9bfc-44e48ae08ddd",
   "metadata": {},
   "outputs": [
    {
     "name": "stdout",
     "output_type": "stream",
     "text": [
      "\n",
      "\n",
      "--- moltype: hp, ksize: 10 --\n",
      "\n",
      "Reading s3://seanome-kmerseek/scope-benchmark/pipeline-outputs/2024-10-09__hp_k20-60/sourmash/multisearch/astral-scopedom-seqres-gd-sel-gs-bib-40-2.08.part_001.fa--in--astral-scopedom-seqres-gd-sel-gs-bib-40-2.08.part_001.fa.hp.10.multisearch.csv ...\n",
      "\tDone\n"
     ]
    },
    {
     "ename": "ComputeError",
     "evalue": "failed to allocate 94359260819 bytes to download uri = s3://seanome-kmerseek/scope-benchmark/pipeline-outputs/2024-10-09__hp_k20-60/sourmash/multisearch/astral-scopedom-seqres-gd-sel-gs-bib-40-2.08.part_001.fa--in--astral-scopedom-seqres-gd-sel-gs-bib-40-2.08.part_001.fa.hp.10.multisearch.csv\n\nThis error occurred with the following context stack:\n\t[1] 'csv scan'\n\t[2] 'join left'\n\t[3] 'join'\n\t[4] 'join left'\n\t[5] 'join'\n\t[6] 'with_columns'\n\t[7] 'with_columns'\n\t[8] 'with_columns'\n\t[9] 'with_columns'\n\t[10] 'with_columns'\n\t[11] 'with_columns'\n\t[12] 'with_columns'\n\t[13] 'with_columns'\n\t[14] 'with_columns'\n\t[15] 'with_columns'\n\t[16] 'with_columns'\n\t[17] 'sink'\n",
     "output_type": "error",
     "traceback": [
      "\u001b[0;31m---------------------------------------------------------------------------\u001b[0m",
      "\u001b[0;31mComputeError\u001b[0m                              Traceback (most recent call last)",
      "Cell \u001b[0;32mIn[33], line 39\u001b[0m\n\u001b[1;32m     29\u001b[0m \u001b[38;5;28;01mtry\u001b[39;00m:\n\u001b[1;32m     30\u001b[0m     parser \u001b[38;5;241m=\u001b[39m process_scop_sourmash_multisearch_polars\u001b[38;5;241m.\u001b[39mMultisearchParser(\n\u001b[1;32m     31\u001b[0m         query_metadata\u001b[38;5;241m=\u001b[39mquery_metadata,\n\u001b[1;32m     32\u001b[0m         match_metadata\u001b[38;5;241m=\u001b[39mmatch_metadata,\n\u001b[0;32m   (...)\u001b[0m\n\u001b[1;32m     37\u001b[0m         verbose\u001b[38;5;241m=\u001b[39m\u001b[38;5;28;01mTrue\u001b[39;00m,\n\u001b[1;32m     38\u001b[0m     )\n\u001b[0;32m---> 39\u001b[0m     lf \u001b[38;5;241m=\u001b[39m \u001b[43mparser\u001b[49m\u001b[38;5;241;43m.\u001b[39;49m\u001b[43mprocess_multisearch_scop_results\u001b[49m\u001b[43m(\u001b[49m\u001b[43m)\u001b[49m\n\u001b[1;32m     40\u001b[0m     \u001b[38;5;66;03m# lf.head().collect()\u001b[39;00m\n\u001b[1;32m     41\u001b[0m \u001b[38;5;28;01mexcept\u001b[39;00m \u001b[38;5;167;01mFileNotFoundError\u001b[39;00m:\n",
      "File \u001b[0;32m~/2024-kmerseek-analysis/notebooks/process_scop_sourmash_multisearch_polars.py:89\u001b[0m, in \u001b[0;36mMultisearchParser.process_multisearch_scop_results\u001b[0;34m(self)\u001b[0m\n\u001b[1;32m     84\u001b[0m multisearch_metadata \u001b[38;5;241m=\u001b[39m \u001b[38;5;28mself\u001b[39m\u001b[38;5;241m.\u001b[39m_add_if_query_match_cols_are_same(\n\u001b[1;32m     85\u001b[0m     multisearch_metadata\n\u001b[1;32m     86\u001b[0m )\n\u001b[1;32m     87\u001b[0m multisearch_metadata \u001b[38;5;241m=\u001b[39m \u001b[38;5;28mself\u001b[39m\u001b[38;5;241m.\u001b[39m_add_columns(multisearch_metadata)\n\u001b[0;32m---> 89\u001b[0m \u001b[38;5;28;43mself\u001b[39;49m\u001b[38;5;241;43m.\u001b[39;49m\u001b[43m_sink_parquet\u001b[49m\u001b[43m(\u001b[49m\n\u001b[1;32m     90\u001b[0m \u001b[43m    \u001b[49m\u001b[43mmultisearch_metadata\u001b[49m\u001b[43m,\u001b[49m\n\u001b[1;32m     91\u001b[0m \u001b[43m    \u001b[49m\u001b[43mfiltered\u001b[49m\u001b[38;5;241;43m=\u001b[39;49m\u001b[38;5;28;43;01mFalse\u001b[39;49;00m\u001b[43m,\u001b[49m\n\u001b[1;32m     92\u001b[0m \u001b[43m\u001b[49m\u001b[43m)\u001b[49m\n\u001b[1;32m     94\u001b[0m \u001b[38;5;66;03m# Remove self matches and likely spurious matches\u001b[39;00m\n\u001b[1;32m     95\u001b[0m multisearch_metadata_filtered \u001b[38;5;241m=\u001b[39m multisearch_metadata\u001b[38;5;241m.\u001b[39mfilter(\n\u001b[1;32m     96\u001b[0m     (pl\u001b[38;5;241m.\u001b[39mcol(\u001b[38;5;124m\"\u001b[39m\u001b[38;5;124mquery_md5\u001b[39m\u001b[38;5;124m\"\u001b[39m) \u001b[38;5;241m!=\u001b[39m pl\u001b[38;5;241m.\u001b[39mcol(\u001b[38;5;124m\"\u001b[39m\u001b[38;5;124mmatch_md5\u001b[39m\u001b[38;5;124m\"\u001b[39m))\n\u001b[1;32m     97\u001b[0m     \u001b[38;5;241m&\u001b[39m (pl\u001b[38;5;241m.\u001b[39mcol(\u001b[38;5;124m\"\u001b[39m\u001b[38;5;124mintersect_hashes\u001b[39m\u001b[38;5;124m\"\u001b[39m) \u001b[38;5;241m>\u001b[39m \u001b[38;5;241m1\u001b[39m)\n\u001b[1;32m     98\u001b[0m )\n",
      "File \u001b[0;32m~/2024-kmerseek-analysis/notebooks/process_scop_sourmash_multisearch_polars.py:136\u001b[0m, in \u001b[0;36mMultisearchParser._sink_parquet\u001b[0;34m(self, df, filtered)\u001b[0m\n\u001b[1;32m    129\u001b[0m \u001b[38;5;28;01mdef\u001b[39;00m \u001b[38;5;21m_sink_parquet\u001b[39m(\n\u001b[1;32m    130\u001b[0m     \u001b[38;5;28mself\u001b[39m,\n\u001b[1;32m    131\u001b[0m     df: pl\u001b[38;5;241m.\u001b[39mLazyFrame,\n\u001b[1;32m    132\u001b[0m     filtered: \u001b[38;5;28mbool\u001b[39m \u001b[38;5;241m=\u001b[39m \u001b[38;5;28;01mFalse\u001b[39;00m,\n\u001b[1;32m    133\u001b[0m ):\n\u001b[1;32m    134\u001b[0m     pq \u001b[38;5;241m=\u001b[39m \u001b[38;5;28mself\u001b[39m\u001b[38;5;241m.\u001b[39m_make_output_pq(filtered)\n\u001b[0;32m--> 136\u001b[0m     \u001b[43msink_parquet\u001b[49m\u001b[43m(\u001b[49m\u001b[43mdf\u001b[49m\u001b[43m,\u001b[49m\u001b[43m \u001b[49m\u001b[43mpq\u001b[49m\u001b[43m,\u001b[49m\u001b[43m \u001b[49m\u001b[43mverbose\u001b[49m\u001b[38;5;241;43m=\u001b[39;49m\u001b[38;5;28;43mself\u001b[39;49m\u001b[38;5;241;43m.\u001b[39;49m\u001b[43mverbose\u001b[49m\u001b[43m)\u001b[49m\n\u001b[1;32m    137\u001b[0m     \u001b[38;5;66;03m# df.sink_parquet(pq)\u001b[39;00m\n\u001b[1;32m    138\u001b[0m     \u001b[38;5;28;01mreturn\u001b[39;00m pq\n",
      "File \u001b[0;32m~/2024-kmerseek-analysis/notebooks/polars_utils.py:48\u001b[0m, in \u001b[0;36msink_parquet\u001b[0;34m(df, pq, verbose)\u001b[0m\n\u001b[1;32m     44\u001b[0m \u001b[38;5;28;01mif\u001b[39;00m pq\u001b[38;5;241m.\u001b[39mstartswith(\u001b[38;5;124m\"\u001b[39m\u001b[38;5;124ms3://\u001b[39m\u001b[38;5;124m\"\u001b[39m):\n\u001b[1;32m     45\u001b[0m     \u001b[38;5;66;03m# LazyFrame sink_parquet can't stream to cloud currently (polars version 1.9.0)\u001b[39;00m\n\u001b[1;32m     46\u001b[0m     \u001b[38;5;66;03m# Need to write to a local file and then push the file to S3 with s3fs\u001b[39;00m\n\u001b[1;32m     47\u001b[0m     \u001b[38;5;28;01mwith\u001b[39;00m tempfile\u001b[38;5;241m.\u001b[39mNamedTemporaryFile() \u001b[38;5;28;01mas\u001b[39;00m f:\n\u001b[0;32m---> 48\u001b[0m         \u001b[43mdf\u001b[49m\u001b[38;5;241;43m.\u001b[39;49m\u001b[43msink_parquet\u001b[49m\u001b[43m(\u001b[49m\u001b[43mf\u001b[49m\u001b[38;5;241;43m.\u001b[39;49m\u001b[43mname\u001b[49m\u001b[43m)\u001b[49m\n\u001b[1;32m     50\u001b[0m         fs \u001b[38;5;241m=\u001b[39m s3fs\u001b[38;5;241m.\u001b[39mS3FileSystem()\n\u001b[1;32m     51\u001b[0m         fs\u001b[38;5;241m.\u001b[39mput(f\u001b[38;5;241m.\u001b[39mname, pq)\n",
      "File \u001b[0;32m~/miniconda3/envs/2024-kmerseek-analysis-polars/lib/python3.12/site-packages/polars/_utils/unstable.py:58\u001b[0m, in \u001b[0;36munstable.<locals>.decorate.<locals>.wrapper\u001b[0;34m(*args, **kwargs)\u001b[0m\n\u001b[1;32m     55\u001b[0m \u001b[38;5;129m@wraps\u001b[39m(function)\n\u001b[1;32m     56\u001b[0m \u001b[38;5;28;01mdef\u001b[39;00m \u001b[38;5;21mwrapper\u001b[39m(\u001b[38;5;241m*\u001b[39margs: P\u001b[38;5;241m.\u001b[39margs, \u001b[38;5;241m*\u001b[39m\u001b[38;5;241m*\u001b[39mkwargs: P\u001b[38;5;241m.\u001b[39mkwargs) \u001b[38;5;241m-\u001b[39m\u001b[38;5;241m>\u001b[39m T:\n\u001b[1;32m     57\u001b[0m     issue_unstable_warning(\u001b[38;5;124mf\u001b[39m\u001b[38;5;124m\"\u001b[39m\u001b[38;5;124m`\u001b[39m\u001b[38;5;132;01m{\u001b[39;00mfunction\u001b[38;5;241m.\u001b[39m\u001b[38;5;18m__name__\u001b[39m\u001b[38;5;132;01m}\u001b[39;00m\u001b[38;5;124m` is considered unstable.\u001b[39m\u001b[38;5;124m\"\u001b[39m)\n\u001b[0;32m---> 58\u001b[0m     \u001b[38;5;28;01mreturn\u001b[39;00m \u001b[43mfunction\u001b[49m\u001b[43m(\u001b[49m\u001b[38;5;241;43m*\u001b[39;49m\u001b[43margs\u001b[49m\u001b[43m,\u001b[49m\u001b[43m \u001b[49m\u001b[38;5;241;43m*\u001b[39;49m\u001b[38;5;241;43m*\u001b[39;49m\u001b[43mkwargs\u001b[49m\u001b[43m)\u001b[49m\n",
      "File \u001b[0;32m~/miniconda3/envs/2024-kmerseek-analysis-polars/lib/python3.12/site-packages/polars/lazyframe/frame.py:2385\u001b[0m, in \u001b[0;36mLazyFrame.sink_parquet\u001b[0;34m(self, path, compression, compression_level, statistics, row_group_size, data_page_size, maintain_order, type_coercion, predicate_pushdown, projection_pushdown, simplify_expression, slice_pushdown, collapse_joins, no_optimization)\u001b[0m\n\u001b[1;32m   2377\u001b[0m \u001b[38;5;28;01melif\u001b[39;00m statistics \u001b[38;5;241m==\u001b[39m \u001b[38;5;124m\"\u001b[39m\u001b[38;5;124mfull\u001b[39m\u001b[38;5;124m\"\u001b[39m:\n\u001b[1;32m   2378\u001b[0m     statistics \u001b[38;5;241m=\u001b[39m {\n\u001b[1;32m   2379\u001b[0m         \u001b[38;5;124m\"\u001b[39m\u001b[38;5;124mmin\u001b[39m\u001b[38;5;124m\"\u001b[39m: \u001b[38;5;28;01mTrue\u001b[39;00m,\n\u001b[1;32m   2380\u001b[0m         \u001b[38;5;124m\"\u001b[39m\u001b[38;5;124mmax\u001b[39m\u001b[38;5;124m\"\u001b[39m: \u001b[38;5;28;01mTrue\u001b[39;00m,\n\u001b[1;32m   2381\u001b[0m         \u001b[38;5;124m\"\u001b[39m\u001b[38;5;124mdistinct_count\u001b[39m\u001b[38;5;124m\"\u001b[39m: \u001b[38;5;28;01mTrue\u001b[39;00m,\n\u001b[1;32m   2382\u001b[0m         \u001b[38;5;124m\"\u001b[39m\u001b[38;5;124mnull_count\u001b[39m\u001b[38;5;124m\"\u001b[39m: \u001b[38;5;28;01mTrue\u001b[39;00m,\n\u001b[1;32m   2383\u001b[0m     }\n\u001b[0;32m-> 2385\u001b[0m \u001b[38;5;28;01mreturn\u001b[39;00m \u001b[43mlf\u001b[49m\u001b[38;5;241;43m.\u001b[39;49m\u001b[43msink_parquet\u001b[49m\u001b[43m(\u001b[49m\n\u001b[1;32m   2386\u001b[0m \u001b[43m    \u001b[49m\u001b[43mpath\u001b[49m\u001b[38;5;241;43m=\u001b[39;49m\u001b[43mnormalize_filepath\u001b[49m\u001b[43m(\u001b[49m\u001b[43mpath\u001b[49m\u001b[43m)\u001b[49m\u001b[43m,\u001b[49m\n\u001b[1;32m   2387\u001b[0m \u001b[43m    \u001b[49m\u001b[43mcompression\u001b[49m\u001b[38;5;241;43m=\u001b[39;49m\u001b[43mcompression\u001b[49m\u001b[43m,\u001b[49m\n\u001b[1;32m   2388\u001b[0m \u001b[43m    \u001b[49m\u001b[43mcompression_level\u001b[49m\u001b[38;5;241;43m=\u001b[39;49m\u001b[43mcompression_level\u001b[49m\u001b[43m,\u001b[49m\n\u001b[1;32m   2389\u001b[0m \u001b[43m    \u001b[49m\u001b[43mstatistics\u001b[49m\u001b[38;5;241;43m=\u001b[39;49m\u001b[43mstatistics\u001b[49m\u001b[43m,\u001b[49m\n\u001b[1;32m   2390\u001b[0m \u001b[43m    \u001b[49m\u001b[43mrow_group_size\u001b[49m\u001b[38;5;241;43m=\u001b[39;49m\u001b[43mrow_group_size\u001b[49m\u001b[43m,\u001b[49m\n\u001b[1;32m   2391\u001b[0m \u001b[43m    \u001b[49m\u001b[43mdata_page_size\u001b[49m\u001b[38;5;241;43m=\u001b[39;49m\u001b[43mdata_page_size\u001b[49m\u001b[43m,\u001b[49m\n\u001b[1;32m   2392\u001b[0m \u001b[43m    \u001b[49m\u001b[43mmaintain_order\u001b[49m\u001b[38;5;241;43m=\u001b[39;49m\u001b[43mmaintain_order\u001b[49m\u001b[43m,\u001b[49m\n\u001b[1;32m   2393\u001b[0m \u001b[43m\u001b[49m\u001b[43m)\u001b[49m\n",
      "\u001b[0;31mComputeError\u001b[0m: failed to allocate 94359260819 bytes to download uri = s3://seanome-kmerseek/scope-benchmark/pipeline-outputs/2024-10-09__hp_k20-60/sourmash/multisearch/astral-scopedom-seqres-gd-sel-gs-bib-40-2.08.part_001.fa--in--astral-scopedom-seqres-gd-sel-gs-bib-40-2.08.part_001.fa.hp.10.multisearch.csv\n\nThis error occurred with the following context stack:\n\t[1] 'csv scan'\n\t[2] 'join left'\n\t[3] 'join'\n\t[4] 'join left'\n\t[5] 'join'\n\t[6] 'with_columns'\n\t[7] 'with_columns'\n\t[8] 'with_columns'\n\t[9] 'with_columns'\n\t[10] 'with_columns'\n\t[11] 'with_columns'\n\t[12] 'with_columns'\n\t[13] 'with_columns'\n\t[14] 'with_columns'\n\t[15] 'with_columns'\n\t[16] 'with_columns'\n\t[17] 'sink'\n"
     ]
    }
   ],
   "source": [
    "# Skip ksizes 5 and 6 for now because those files are enormous, 2.3 GiB for k=5 and 175 MiB for k=6\n",
    "# # -> Figure out how to use polars later\n",
    "# ksizes = range(7, 21)\n",
    "# moltype = \"protein\"\n",
    "\n",
    "moltype_info = {\n",
    "    # \"protein\": dict(\n",
    "    #     ksizes=range(5, 21),\n",
    "    #     pipeline_outdir=\"s3://seanome-kmerseek/scope-benchmark/pipeline-outputs/2024-10-08__protein_k5-20\",\n",
    "    #     analysis_outdir=\"s3://seanome-kmerseek/scope-benchmark/analysis-outputs/protein\",\n",
    "    # ),\n",
    "    # \"dayhoff\": dict(\n",
    "    #     ksizes=range(5, 21),\n",
    "    #     pipeline_outdir=\"s3://seanome-kmerseek/scope-benchmark/pipeline-outputs/2024-10-09__dayhoff_k5-20\",\n",
    "    #     analysis_outdir=\"s3://seanome-kmerseek/scope-benchmark/analysis-outputs/dayhoff\",\n",
    "    # ),\n",
    "    \"hp\": dict(\n",
    "        ksizes=range(10, 20),\n",
    "        pipeline_outdir=\"s3://seanome-kmerseek/scope-benchmark/pipeline-outputs/2024-10-09__hp_k20-60\",\n",
    "        analysis_outdir=\"s3://seanome-kmerseek/scope-benchmark/analysis-outputs/hp/\",\n",
    "    ),\n",
    "}\n",
    "\n",
    "for moltype, info in moltype_info.items():\n",
    "    ksizes = info[\"ksizes\"]\n",
    "    analysis_outdir = info[\"analysis_outdir\"]\n",
    "    pipeline_outdir = info[\"pipeline_outdir\"]\n",
    "    for ksize in ksizes:\n",
    "        try:\n",
    "            parser = process_scop_sourmash_multisearch_polars.MultisearchParser(\n",
    "                query_metadata=query_metadata,\n",
    "                match_metadata=match_metadata,\n",
    "                pipeline_outdir=pipeline_outdir,\n",
    "                moltype=moltype,\n",
    "                ksize=ksize,\n",
    "                analysis_outdir=analysis_outdir,\n",
    "                verbose=True,\n",
    "            )\n",
    "            lf = parser.process_multisearch_scop_results()\n",
    "            # lf.head().collect()\n",
    "        except FileNotFoundError:\n",
    "            pass\n",
    "    # break\n",
    "multisearch_metadata_filtered.head()"
   ]
  },
  {
   "cell_type": "code",
   "execution_count": 32,
   "id": "934b8064-44bc-4239-9942-76a2a2695536",
   "metadata": {},
   "outputs": [
    {
     "name": "stdout",
     "output_type": "stream",
     "text": [
      "2024-10-11 23:54:22   87.9 GiB astral-scopedom-seqres-gd-sel-gs-bib-40-2.08.part_001.fa--in--astral-scopedom-seqres-gd-sel-gs-bib-40-2.08.part_001.fa.hp.10.multisearch.csv\n"
     ]
    }
   ],
   "source": [
    "! aws s3 ls --human-readable \\\n",
    "    s3://seanome-kmerseek/scope-benchmark/pipeline-outputs/2024-10-09__hp_k20-60/sourmash/multisearch/astral-scopedom-seqres-gd-sel-gs-bib-40-2.08.part_001.fa--in--astral-scopedom-seqres-gd-sel-gs-bib-40-2.08.part_001.fa.hp.10.multisearch.csv"
   ]
  },
  {
   "cell_type": "code",
   "execution_count": 26,
   "id": "d8dfc013-aefa-44ce-b3d0-7e86ff0a5406",
   "metadata": {},
   "outputs": [
    {
     "name": "stdout",
     "output_type": "stream",
     "text": [
      "2024-10-12 00:55:22          0 \n",
      "2024-10-11 23:54:22 94359260819 astral-scopedom-seqres-gd-sel-gs-bib-40-2.08.part_001.fa--in--astral-scopedom-seqres-gd-sel-gs-bib-40-2.08.part_001.fa.hp.10.multisearch.csv\n",
      "2024-10-11 23:35:42 89741856710 astral-scopedom-seqres-gd-sel-gs-bib-40-2.08.part_001.fa--in--astral-scopedom-seqres-gd-sel-gs-bib-40-2.08.part_001.fa.hp.11.multisearch.csv\n",
      "2024-10-12 00:10:32 80305344491 astral-scopedom-seqres-gd-sel-gs-bib-40-2.08.part_001.fa--in--astral-scopedom-seqres-gd-sel-gs-bib-40-2.08.part_001.fa.hp.12.multisearch.csv\n",
      "2024-10-12 00:24:12 65519595388 astral-scopedom-seqres-gd-sel-gs-bib-40-2.08.part_001.fa--in--astral-scopedom-seqres-gd-sel-gs-bib-40-2.08.part_001.fa.hp.13.multisearch.csv\n",
      "2024-10-12 00:45:02 47899918437 astral-scopedom-seqres-gd-sel-gs-bib-40-2.08.part_001.fa--in--astral-scopedom-seqres-gd-sel-gs-bib-40-2.08.part_001.fa.hp.14.multisearch.csv\n",
      "2024-10-12 00:35:02 31404785257 astral-scopedom-seqres-gd-sel-gs-bib-40-2.08.part_001.fa--in--astral-scopedom-seqres-gd-sel-gs-bib-40-2.08.part_001.fa.hp.15.multisearch.csv\n",
      "2024-10-12 00:28:32 18757889432 astral-scopedom-seqres-gd-sel-gs-bib-40-2.08.part_001.fa--in--astral-scopedom-seqres-gd-sel-gs-bib-40-2.08.part_001.fa.hp.16.multisearch.csv\n",
      "2024-10-12 00:52:12 10441483897 astral-scopedom-seqres-gd-sel-gs-bib-40-2.08.part_001.fa--in--astral-scopedom-seqres-gd-sel-gs-bib-40-2.08.part_001.fa.hp.17.multisearch.csv\n",
      "2024-10-12 00:55:22 5541867508 astral-scopedom-seqres-gd-sel-gs-bib-40-2.08.part_001.fa--in--astral-scopedom-seqres-gd-sel-gs-bib-40-2.08.part_001.fa.hp.18.multisearch.csv\n",
      "2024-10-12 00:49:12 2860646018 astral-scopedom-seqres-gd-sel-gs-bib-40-2.08.part_001.fa--in--astral-scopedom-seqres-gd-sel-gs-bib-40-2.08.part_001.fa.hp.19.multisearch.csv\n",
      "2024-10-09 19:50:22 1455719080 astral-scopedom-seqres-gd-sel-gs-bib-40-2.08.part_001.fa--in--astral-scopedom-seqres-gd-sel-gs-bib-40-2.08.part_001.fa.hp.20.multisearch.csv\n",
      "2024-10-09 20:43:02  737693329 astral-scopedom-seqres-gd-sel-gs-bib-40-2.08.part_001.fa--in--astral-scopedom-seqres-gd-sel-gs-bib-40-2.08.part_001.fa.hp.21.multisearch.csv\n",
      "2024-10-09 19:41:52  374104682 astral-scopedom-seqres-gd-sel-gs-bib-40-2.08.part_001.fa--in--astral-scopedom-seqres-gd-sel-gs-bib-40-2.08.part_001.fa.hp.22.multisearch.csv\n",
      "2024-10-09 20:26:42  190405464 astral-scopedom-seqres-gd-sel-gs-bib-40-2.08.part_001.fa--in--astral-scopedom-seqres-gd-sel-gs-bib-40-2.08.part_001.fa.hp.23.multisearch.csv\n",
      "2024-10-10 10:50:53   98448536 astral-scopedom-seqres-gd-sel-gs-bib-40-2.08.part_001.fa--in--astral-scopedom-seqres-gd-sel-gs-bib-40-2.08.part_001.fa.hp.24.multisearch.csv\n",
      "2024-10-10 09:27:53   52228380 astral-scopedom-seqres-gd-sel-gs-bib-40-2.08.part_001.fa--in--astral-scopedom-seqres-gd-sel-gs-bib-40-2.08.part_001.fa.hp.25.multisearch.csv\n",
      "2024-10-10 06:07:23   29351871 astral-scopedom-seqres-gd-sel-gs-bib-40-2.08.part_001.fa--in--astral-scopedom-seqres-gd-sel-gs-bib-40-2.08.part_001.fa.hp.26.multisearch.csv\n",
      "2024-10-10 10:11:23   17649022 astral-scopedom-seqres-gd-sel-gs-bib-40-2.08.part_001.fa--in--astral-scopedom-seqres-gd-sel-gs-bib-40-2.08.part_001.fa.hp.27.multisearch.csv\n",
      "2024-10-10 11:36:53   11776666 astral-scopedom-seqres-gd-sel-gs-bib-40-2.08.part_001.fa--in--astral-scopedom-seqres-gd-sel-gs-bib-40-2.08.part_001.fa.hp.28.multisearch.csv\n",
      "2024-10-10 03:27:13    8767233 astral-scopedom-seqres-gd-sel-gs-bib-40-2.08.part_001.fa--in--astral-scopedom-seqres-gd-sel-gs-bib-40-2.08.part_001.fa.hp.29.multisearch.csv\n",
      "2024-10-10 02:39:43    7235812 astral-scopedom-seqres-gd-sel-gs-bib-40-2.08.part_001.fa--in--astral-scopedom-seqres-gd-sel-gs-bib-40-2.08.part_001.fa.hp.30.multisearch.csv\n",
      "2024-10-09 22:53:22    6470445 astral-scopedom-seqres-gd-sel-gs-bib-40-2.08.part_001.fa--in--astral-scopedom-seqres-gd-sel-gs-bib-40-2.08.part_001.fa.hp.31.multisearch.csv\n",
      "2024-10-10 01:12:32    6072932 astral-scopedom-seqres-gd-sel-gs-bib-40-2.08.part_001.fa--in--astral-scopedom-seqres-gd-sel-gs-bib-40-2.08.part_001.fa.hp.32.multisearch.csv\n",
      "2024-10-09 21:26:42    5862431 astral-scopedom-seqres-gd-sel-gs-bib-40-2.08.part_001.fa--in--astral-scopedom-seqres-gd-sel-gs-bib-40-2.08.part_001.fa.hp.33.multisearch.csv\n",
      "2024-10-09 22:10:52    5733354 astral-scopedom-seqres-gd-sel-gs-bib-40-2.08.part_001.fa--in--astral-scopedom-seqres-gd-sel-gs-bib-40-2.08.part_001.fa.hp.34.multisearch.csv\n",
      "2024-10-10 01:54:02    5669750 astral-scopedom-seqres-gd-sel-gs-bib-40-2.08.part_001.fa--in--astral-scopedom-seqres-gd-sel-gs-bib-40-2.08.part_001.fa.hp.35.multisearch.csv\n",
      "2024-10-10 07:54:23    5614556 astral-scopedom-seqres-gd-sel-gs-bib-40-2.08.part_001.fa--in--astral-scopedom-seqres-gd-sel-gs-bib-40-2.08.part_001.fa.hp.36.multisearch.csv\n",
      "2024-10-10 07:15:03    5580210 astral-scopedom-seqres-gd-sel-gs-bib-40-2.08.part_001.fa--in--astral-scopedom-seqres-gd-sel-gs-bib-40-2.08.part_001.fa.hp.37.multisearch.csv\n",
      "2024-10-10 12:14:53    5558581 astral-scopedom-seqres-gd-sel-gs-bib-40-2.08.part_001.fa--in--astral-scopedom-seqres-gd-sel-gs-bib-40-2.08.part_001.fa.hp.38.multisearch.csv\n",
      "2024-10-10 13:47:23    5543251 astral-scopedom-seqres-gd-sel-gs-bib-40-2.08.part_001.fa--in--astral-scopedom-seqres-gd-sel-gs-bib-40-2.08.part_001.fa.hp.39.multisearch.csv\n",
      "2024-10-10 17:43:43    5529400 astral-scopedom-seqres-gd-sel-gs-bib-40-2.08.part_001.fa--in--astral-scopedom-seqres-gd-sel-gs-bib-40-2.08.part_001.fa.hp.40.multisearch.csv\n",
      "2024-10-10 18:26:14    5518718 astral-scopedom-seqres-gd-sel-gs-bib-40-2.08.part_001.fa--in--astral-scopedom-seqres-gd-sel-gs-bib-40-2.08.part_001.fa.hp.41.multisearch.csv\n",
      "2024-10-10 21:46:44    5509901 astral-scopedom-seqres-gd-sel-gs-bib-40-2.08.part_001.fa--in--astral-scopedom-seqres-gd-sel-gs-bib-40-2.08.part_001.fa.hp.42.multisearch.csv\n",
      "2024-10-10 20:12:53    5496139 astral-scopedom-seqres-gd-sel-gs-bib-40-2.08.part_001.fa--in--astral-scopedom-seqres-gd-sel-gs-bib-40-2.08.part_001.fa.hp.43.multisearch.csv\n",
      "2024-10-11 00:19:04    5489092 astral-scopedom-seqres-gd-sel-gs-bib-40-2.08.part_001.fa--in--astral-scopedom-seqres-gd-sel-gs-bib-40-2.08.part_001.fa.hp.44.multisearch.csv\n",
      "2024-10-11 01:28:14    5478374 astral-scopedom-seqres-gd-sel-gs-bib-40-2.08.part_001.fa--in--astral-scopedom-seqres-gd-sel-gs-bib-40-2.08.part_001.fa.hp.45.multisearch.csv\n",
      "2024-10-11 02:56:34    5471453 astral-scopedom-seqres-gd-sel-gs-bib-40-2.08.part_001.fa--in--astral-scopedom-seqres-gd-sel-gs-bib-40-2.08.part_001.fa.hp.46.multisearch.csv\n",
      "2024-10-11 00:52:04    5462699 astral-scopedom-seqres-gd-sel-gs-bib-40-2.08.part_001.fa--in--astral-scopedom-seqres-gd-sel-gs-bib-40-2.08.part_001.fa.hp.47.multisearch.csv\n",
      "2024-10-11 03:31:14    5452429 astral-scopedom-seqres-gd-sel-gs-bib-40-2.08.part_001.fa--in--astral-scopedom-seqres-gd-sel-gs-bib-40-2.08.part_001.fa.hp.48.multisearch.csv\n",
      "2024-10-11 05:43:54    5445296 astral-scopedom-seqres-gd-sel-gs-bib-40-2.08.part_001.fa--in--astral-scopedom-seqres-gd-sel-gs-bib-40-2.08.part_001.fa.hp.49.multisearch.csv\n",
      "2024-10-11 04:05:14    5434466 astral-scopedom-seqres-gd-sel-gs-bib-40-2.08.part_001.fa--in--astral-scopedom-seqres-gd-sel-gs-bib-40-2.08.part_001.fa.hp.50.multisearch.csv\n",
      "2024-10-11 04:38:04    5423125 astral-scopedom-seqres-gd-sel-gs-bib-40-2.08.part_001.fa--in--astral-scopedom-seqres-gd-sel-gs-bib-40-2.08.part_001.fa.hp.51.multisearch.csv\n",
      "2024-10-11 05:10:54    5414834 astral-scopedom-seqres-gd-sel-gs-bib-40-2.08.part_001.fa--in--astral-scopedom-seqres-gd-sel-gs-bib-40-2.08.part_001.fa.hp.52.multisearch.csv\n",
      "2024-10-11 06:15:34    5401801 astral-scopedom-seqres-gd-sel-gs-bib-40-2.08.part_001.fa--in--astral-scopedom-seqres-gd-sel-gs-bib-40-2.08.part_001.fa.hp.53.multisearch.csv\n",
      "2024-10-11 06:46:14    5387660 astral-scopedom-seqres-gd-sel-gs-bib-40-2.08.part_001.fa--in--astral-scopedom-seqres-gd-sel-gs-bib-40-2.08.part_001.fa.hp.54.multisearch.csv\n",
      "2024-10-11 08:17:44    5383484 astral-scopedom-seqres-gd-sel-gs-bib-40-2.08.part_001.fa--in--astral-scopedom-seqres-gd-sel-gs-bib-40-2.08.part_001.fa.hp.55.multisearch.csv\n",
      "2024-10-11 07:16:34    5369942 astral-scopedom-seqres-gd-sel-gs-bib-40-2.08.part_001.fa--in--astral-scopedom-seqres-gd-sel-gs-bib-40-2.08.part_001.fa.hp.56.multisearch.csv\n",
      "2024-10-11 07:47:24    5353003 astral-scopedom-seqres-gd-sel-gs-bib-40-2.08.part_001.fa--in--astral-scopedom-seqres-gd-sel-gs-bib-40-2.08.part_001.fa.hp.57.multisearch.csv\n",
      "2024-10-11 08:47:24    5340794 astral-scopedom-seqres-gd-sel-gs-bib-40-2.08.part_001.fa--in--astral-scopedom-seqres-gd-sel-gs-bib-40-2.08.part_001.fa.hp.58.multisearch.csv\n",
      "2024-10-11 09:43:14    5327292 astral-scopedom-seqres-gd-sel-gs-bib-40-2.08.part_001.fa--in--astral-scopedom-seqres-gd-sel-gs-bib-40-2.08.part_001.fa.hp.59.multisearch.csv\n",
      "2024-10-11 09:15:04    5308074 astral-scopedom-seqres-gd-sel-gs-bib-40-2.08.part_001.fa--in--astral-scopedom-seqres-gd-sel-gs-bib-40-2.08.part_001.fa.hp.60.multisearch.csv\n"
     ]
    }
   ],
   "source": [
    "! aws s3 ls s3://seanome-kmerseek/scope-benchmark/pipeline-outputs/2024-10-09__hp_k20-60/sourmash/multisearch/"
   ]
  },
  {
   "cell_type": "code",
   "execution_count": null,
   "id": "47b1cb02-cb58-4f5d-a8d9-5046853e9079",
   "metadata": {},
   "outputs": [],
   "source": [
    "multisearch_metadata_filtered.dtypes"
   ]
  },
  {
   "cell_type": "code",
   "execution_count": null,
   "id": "93f8408d-7495-4924-9da0-72f0ee2a87f5",
   "metadata": {},
   "outputs": [],
   "source": []
  },
  {
   "cell_type": "code",
   "execution_count": null,
   "id": "9a065d4c-6283-44fa-b795-26b72b5080d7",
   "metadata": {},
   "outputs": [],
   "source": []
  },
  {
   "cell_type": "code",
   "execution_count": null,
   "id": "7faac186-42ff-4ff8-9d4b-269d01e2dec5",
   "metadata": {},
   "outputs": [],
   "source": []
  },
  {
   "cell_type": "code",
   "execution_count": null,
   "id": "af0435ce-ff4d-4c2d-8d65-4e39443d4fd5",
   "metadata": {},
   "outputs": [],
   "source": []
  }
 ],
 "metadata": {
  "kernelspec": {
   "display_name": "Python [conda env:2024-kmerseek-analysis-polars]",
   "language": "python",
   "name": "conda-env-2024-kmerseek-analysis-polars-py"
  },
  "language_info": {
   "codemirror_mode": {
    "name": "ipython",
    "version": 3
   },
   "file_extension": ".py",
   "mimetype": "text/x-python",
   "name": "python",
   "nbconvert_exporter": "python",
   "pygments_lexer": "ipython3",
   "version": "3.12.7"
  }
 },
 "nbformat": 4,
 "nbformat_minor": 5
}
