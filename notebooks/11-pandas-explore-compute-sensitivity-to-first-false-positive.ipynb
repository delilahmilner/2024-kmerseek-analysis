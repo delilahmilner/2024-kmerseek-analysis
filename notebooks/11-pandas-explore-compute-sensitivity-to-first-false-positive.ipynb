{
 "cells": [
  {
   "cell_type": "code",
   "execution_count": null,
   "id": "815e5be8-b4a5-4696-8272-90867e035430",
   "metadata": {},
   "outputs": [],
   "source": []
  },
  {
   "cell_type": "markdown",
   "id": "39bb3170-0830-4bd7-8542-1c5c2c0547eb",
   "metadata": {},
   "source": [
    "# Imports and setup"
   ]
  },
  {
   "cell_type": "markdown",
   "id": "66abb421-ad47-4716-95cc-24ce6c6ef7bb",
   "metadata": {},
   "source": [
    "### Auto-re-import python modules, useful for editing local files"
   ]
  },
  {
   "cell_type": "code",
   "execution_count": 1,
   "id": "43e40af8-9ee7-4f6c-b994-8ff8d97b693e",
   "metadata": {},
   "outputs": [],
   "source": [
    "%load_ext autoreload\n",
    "%autoreload 2"
   ]
  },
  {
   "cell_type": "markdown",
   "id": "1fd448ce-8df3-422f-8e43-35091b89d24b",
   "metadata": {},
   "source": [
    "## Imports"
   ]
  },
  {
   "cell_type": "code",
   "execution_count": 2,
   "id": "61e24d97-ca51-437c-afb8-787205bf44e7",
   "metadata": {},
   "outputs": [],
   "source": [
    "import itertools\n",
    "import warnings\n",
    "from collections import Counter\n",
    "\n",
    "import matplotlib as mpl\n",
    "import numpy as np\n",
    "import pandas as pd\n",
    "import polars as pl\n",
    "import seaborn as sns\n",
    "from tqdm import tqdm\n",
    "\n",
    "pd.options.display.max_columns = 100\n",
    "\n",
    "mpl.rcParams[\"figure.max_open_warning\"] = 0"
   ]
  },
  {
   "cell_type": "code",
   "execution_count": 3,
   "id": "4cefbac2-c814-4f11-8579-10ed3b5fdd6d",
   "metadata": {},
   "outputs": [],
   "source": [
    "assert pl.__version__ == \"1.9.0\""
   ]
  },
  {
   "cell_type": "markdown",
   "id": "8bbc13ed-b2b1-4cdc-9344-cf7fa30b3be9",
   "metadata": {},
   "source": [
    "# Read in data"
   ]
  },
  {
   "cell_type": "markdown",
   "id": "53a3be8f-935d-446d-a4c8-1498f2a01064",
   "metadata": {},
   "source": [
    "## read in unfiltered data"
   ]
  },
  {
   "cell_type": "code",
   "execution_count": 89,
   "id": "2a5010dc-74d7-4e7d-9a36-e551ae3ea24a",
   "metadata": {},
   "outputs": [],
   "source": [
    "pq = \"s3://seanome-kmerseek/scope-benchmark/analysis-outputs/2024-10-09__hp_k20-60/00_cleaned_multisearch_results/scope40.multisearch.hp.k20.pq\"\n",
    "multisearch_unfiltered = pd.read_parquet(pq)"
   ]
  },
  {
   "cell_type": "code",
   "execution_count": 90,
   "id": "3c4d04d5-a0fc-448b-ab4d-8659293d79b2",
   "metadata": {},
   "outputs": [
    {
     "data": {
      "text/plain": [
       "['family', 'superfamily', 'fold', 'class']"
      ]
     },
     "execution_count": 90,
     "metadata": {},
     "output_type": "execute_result"
    }
   ],
   "source": [
    "lineage_cols"
   ]
  },
  {
   "cell_type": "markdown",
   "id": "25249496-a7a2-4a85-b2c1-46574ca30cfa",
   "metadata": {},
   "source": [
    "### Set SCOP lineage column names"
   ]
  },
  {
   "cell_type": "code",
   "execution_count": 11,
   "id": "c81034e7-dcf3-4e61-a341-37a522b66202",
   "metadata": {},
   "outputs": [],
   "source": [
    "lineage_cols = [\"family\", \"superfamily\", \"fold\", \"class\"]\n",
    "query_scop_cols = [f\"query_{x}\" for x in lineage_cols]\n",
    "match_scop_cols = [f\"match_{x}\" for x in lineage_cols]\n",
    "\n",
    "same_scop_cols = [f\"same_{x}\" for x in lineage_cols]"
   ]
  },
  {
   "cell_type": "markdown",
   "id": "b87ef534-3ddf-40b3-9fd9-084783eb0615",
   "metadata": {},
   "source": [
    "### Make query metadata"
   ]
  },
  {
   "cell_type": "code",
   "execution_count": 92,
   "id": "730d1996-15b3-4031-a9db-89e9323f2947",
   "metadata": {},
   "outputs": [
    {
     "name": "stdout",
     "output_type": "stream",
     "text": [
      "(3471675, 4)\n",
      "(15177, 4)\n"
     ]
    },
    {
     "data": {
      "text/html": [
       "<div>\n",
       "<style scoped>\n",
       "    .dataframe tbody tr th:only-of-type {\n",
       "        vertical-align: middle;\n",
       "    }\n",
       "\n",
       "    .dataframe tbody tr th {\n",
       "        vertical-align: top;\n",
       "    }\n",
       "\n",
       "    .dataframe thead th {\n",
       "        text-align: right;\n",
       "    }\n",
       "</style>\n",
       "<table border=\"1\" class=\"dataframe\">\n",
       "  <thead>\n",
       "    <tr style=\"text-align: right;\">\n",
       "      <th></th>\n",
       "      <th>query_family</th>\n",
       "      <th>query_superfamily</th>\n",
       "      <th>query_fold</th>\n",
       "      <th>query_class</th>\n",
       "    </tr>\n",
       "  </thead>\n",
       "  <tbody>\n",
       "    <tr>\n",
       "      <th>d12asa_</th>\n",
       "      <td>d.104.1.1</td>\n",
       "      <td>d.104.1</td>\n",
       "      <td>d.104</td>\n",
       "      <td>d</td>\n",
       "    </tr>\n",
       "    <tr>\n",
       "      <th>d16vpa_</th>\n",
       "      <td>d.180.1.1</td>\n",
       "      <td>d.180.1</td>\n",
       "      <td>d.180</td>\n",
       "      <td>d</td>\n",
       "    </tr>\n",
       "    <tr>\n",
       "      <th>d1914a1</th>\n",
       "      <td>d.49.1.1</td>\n",
       "      <td>d.49.1</td>\n",
       "      <td>d.49</td>\n",
       "      <td>d</td>\n",
       "    </tr>\n",
       "    <tr>\n",
       "      <th>d1914a2</th>\n",
       "      <td>d.49.1.1</td>\n",
       "      <td>d.49.1</td>\n",
       "      <td>d.49</td>\n",
       "      <td>d</td>\n",
       "    </tr>\n",
       "    <tr>\n",
       "      <th>d1a04a1</th>\n",
       "      <td>a.4.6.2</td>\n",
       "      <td>a.4.6</td>\n",
       "      <td>a.4</td>\n",
       "      <td>a</td>\n",
       "    </tr>\n",
       "  </tbody>\n",
       "</table>\n",
       "</div>"
      ],
      "text/plain": [
       "        query_family query_superfamily query_fold query_class\n",
       "d12asa_    d.104.1.1           d.104.1      d.104           d\n",
       "d16vpa_    d.180.1.1           d.180.1      d.180           d\n",
       "d1914a1     d.49.1.1            d.49.1       d.49           d\n",
       "d1914a2     d.49.1.1            d.49.1       d.49           d\n",
       "d1a04a1      a.4.6.2             a.4.6        a.4           a"
      ]
     },
     "execution_count": 92,
     "metadata": {},
     "output_type": "execute_result"
    }
   ],
   "source": [
    "query_metadata = pd.DataFrame(\n",
    "    multisearch_unfiltered[query_scop_cols].values,\n",
    "    index=multisearch_unfiltered[\"query_scop_id\"].values,\n",
    "    columns=query_scop_cols,\n",
    ")\n",
    "query_metadata = query_metadata.sort_index()\n",
    "print(query_metadata.shape)\n",
    "query_metadata = query_metadata.loc[~query_metadata.index.duplicated()]\n",
    "print(query_metadata.shape)\n",
    "query_metadata.head()"
   ]
  },
  {
   "cell_type": "markdown",
   "id": "089040a4-ff52-4516-98fc-8579d5ed15c8",
   "metadata": {},
   "source": [
    "## Filter to remove self matches"
   ]
  },
  {
   "cell_type": "code",
   "execution_count": 93,
   "id": "d330795f-fc7d-4d98-b27d-02e097af4cbf",
   "metadata": {},
   "outputs": [],
   "source": [
    "multisearch = multisearch_unfiltered.query(\n",
    "    \"intersect_hashes > 1 and query_md5 != match_md5\"\n",
    ")"
   ]
  },
  {
   "cell_type": "markdown",
   "id": "a169f4e7-1285-43ce-83ad-2acd3156ead7",
   "metadata": {},
   "source": [
    "### remove unfiltered metadata"
   ]
  },
  {
   "cell_type": "code",
   "execution_count": 94,
   "id": "84994a6f-8181-41ca-8042-9360401b18e0",
   "metadata": {},
   "outputs": [],
   "source": [
    "del multisearch_unfiltered"
   ]
  },
  {
   "cell_type": "markdown",
   "id": "f9ae9531-d3b8-4901-bc96-b18503f811bd",
   "metadata": {},
   "source": [
    "\n",
    "## Count sensitivity to first false positive"
   ]
  },
  {
   "cell_type": "code",
   "execution_count": 95,
   "id": "d789f890-0652-4516-b252-d9f1fb147160",
   "metadata": {},
   "outputs": [
    {
     "data": {
      "text/plain": [
       "Index(['query_name', 'query_md5', 'match_name', 'match_md5', 'containment',\n",
       "       'max_containment', 'jaccard', 'intersect_hashes', 'prob_overlap',\n",
       "       'prob_overlap_adjusted', 'containment_adjusted',\n",
       "       'containment_adjusted_log10', 'tf_idf_score', 'query_scop_id',\n",
       "       'query_scop_lineage', 'query_scop_lineage_fixed', 'query_family',\n",
       "       'query_superfamily', 'query_fold', 'query_class', 'match_scop_id',\n",
       "       'match_scop_lineage', 'match_scop_lineage_fixed', 'match_family',\n",
       "       'match_superfamily', 'match_fold', 'match_class', 'same_family',\n",
       "       'same_superfamily', 'same_fold', 'same_class'],\n",
       "      dtype='object')"
      ]
     },
     "execution_count": 95,
     "metadata": {},
     "output_type": "execute_result"
    }
   ],
   "source": [
    "multisearch.columns"
   ]
  },
  {
   "cell_type": "code",
   "execution_count": 96,
   "id": "14717b9c-e8cf-4a0d-a2a0-60a7bac07670",
   "metadata": {},
   "outputs": [
    {
     "data": {
      "text/plain": [
       "['containment', 'same_class', 'same_fold', 'same_superfamily', 'same_family']"
      ]
     },
     "execution_count": 96,
     "metadata": {},
     "output_type": "execute_result"
    }
   ],
   "source": [
    "cols = [sourmash_col] + list(reversed(same_scop_cols))\n",
    "cols"
   ]
  },
  {
   "cell_type": "code",
   "execution_count": 97,
   "id": "e5ccd789-a940-4da7-a627-701b55da8f1f",
   "metadata": {},
   "outputs": [],
   "source": [
    "multisearch = multisearch.sort_values(by=cols, ascending=False)"
   ]
  },
  {
   "cell_type": "code",
   "execution_count": 98,
   "id": "95765f40-78ae-42c1-a55d-f091f9597be2",
   "metadata": {},
   "outputs": [
    {
     "name": "stderr",
     "output_type": "stream",
     "text": [
      "/tmp/ipykernel_16470/1106400041.py:5: FutureWarning: The default of observed=False is deprecated and will be changed to True in a future version of pandas. Pass observed=False to retain current behavior or observed=True to adopt the future default and silence this warning.\n",
      "  for query, df in multisearch.groupby(groupby):\n"
     ]
    },
    {
     "name": "stdout",
     "output_type": "stream",
     "text": [
      "query: ('d12asa_', 'd.104.1.1', 'd.104.1', 'd.104', 'd') (203, 31)\n"
     ]
    }
   ],
   "source": [
    "sourmash_col = \"containment\"\n",
    "\n",
    "groupby = [\"query_scop_id\"] + query_scop_cols\n",
    "\n",
    "for query, df in multisearch.groupby(groupby):\n",
    "    print(\"query:\", query, df.shape)\n",
    "    # display(df.head())\n",
    "\n",
    "    # Sort the values so the biggest one is first\n",
    "    df = df.sort_values(sourmash_col, ascending=False)\n",
    "\n",
    "    # display(df)\n",
    "    break"
   ]
  },
  {
   "cell_type": "code",
   "execution_count": null,
   "id": "f486c73c-d0ed-4ecd-b53c-d9975e364bb4",
   "metadata": {},
   "outputs": [],
   "source": []
  },
  {
   "cell_type": "code",
   "execution_count": 99,
   "id": "845ceb3e-704a-4fa3-8b43-bb20bdc8aec5",
   "metadata": {},
   "outputs": [
    {
     "data": {
      "text/plain": [
       "same_family         0\n",
       "same_superfamily    0\n",
       "same_fold           0\n",
       "same_class          1\n",
       "dtype: int64"
      ]
     },
     "execution_count": 99,
     "metadata": {},
     "output_type": "execute_result"
    }
   ],
   "source": [
    "def sum_until_first_zero(series):\n",
    "    found_false_positive = False\n",
    "\n",
    "    total = 0\n",
    "    while not found_false_positive:\n",
    "        for v in series:\n",
    "            if v:\n",
    "                print(f\"v: {v}\")\n",
    "                total += 1\n",
    "            else:\n",
    "                found_false_positive = True\n",
    "    return total\n",
    "\n",
    "\n",
    "# Index of minimum value, will return the first thing\n",
    "first_zeros = df[same_scop_cols].idxmin()\n",
    "count_until_first_fp = df[same_scop_cols].apply(\n",
    "    lambda x: x.loc[: first_zeros[x.name]].sum()\n",
    ")\n",
    "count_until_first_fp"
   ]
  },
  {
   "cell_type": "code",
   "execution_count": 100,
   "id": "2f54a5c1-9e7e-4dc8-ab4f-bb92ecf15a35",
   "metadata": {},
   "outputs": [
    {
     "data": {
      "text/html": [
       "<div>\n",
       "<style scoped>\n",
       "    .dataframe tbody tr th:only-of-type {\n",
       "        vertical-align: middle;\n",
       "    }\n",
       "\n",
       "    .dataframe tbody tr th {\n",
       "        vertical-align: top;\n",
       "    }\n",
       "\n",
       "    .dataframe thead th {\n",
       "        text-align: right;\n",
       "    }\n",
       "</style>\n",
       "<table border=\"1\" class=\"dataframe\">\n",
       "  <thead>\n",
       "    <tr style=\"text-align: right;\">\n",
       "      <th></th>\n",
       "      <th>containment</th>\n",
       "      <th>same_family</th>\n",
       "      <th>same_superfamily</th>\n",
       "      <th>same_fold</th>\n",
       "      <th>same_class</th>\n",
       "    </tr>\n",
       "  </thead>\n",
       "  <tbody>\n",
       "    <tr>\n",
       "      <th>893134</th>\n",
       "      <td>0.038961</td>\n",
       "      <td>False</td>\n",
       "      <td>False</td>\n",
       "      <td>False</td>\n",
       "      <td>True</td>\n",
       "    </tr>\n",
       "    <tr>\n",
       "      <th>1772250</th>\n",
       "      <td>0.025974</td>\n",
       "      <td>False</td>\n",
       "      <td>False</td>\n",
       "      <td>False</td>\n",
       "      <td>False</td>\n",
       "    </tr>\n",
       "    <tr>\n",
       "      <th>1459459</th>\n",
       "      <td>0.025974</td>\n",
       "      <td>False</td>\n",
       "      <td>False</td>\n",
       "      <td>False</td>\n",
       "      <td>True</td>\n",
       "    </tr>\n",
       "    <tr>\n",
       "      <th>2513908</th>\n",
       "      <td>0.022727</td>\n",
       "      <td>False</td>\n",
       "      <td>False</td>\n",
       "      <td>False</td>\n",
       "      <td>False</td>\n",
       "    </tr>\n",
       "    <tr>\n",
       "      <th>459483</th>\n",
       "      <td>0.019481</td>\n",
       "      <td>False</td>\n",
       "      <td>False</td>\n",
       "      <td>False</td>\n",
       "      <td>True</td>\n",
       "    </tr>\n",
       "  </tbody>\n",
       "</table>\n",
       "</div>"
      ],
      "text/plain": [
       "         containment  same_family  same_superfamily  same_fold  same_class\n",
       "893134      0.038961        False             False      False        True\n",
       "1772250     0.025974        False             False      False       False\n",
       "1459459     0.025974        False             False      False        True\n",
       "2513908     0.022727        False             False      False       False\n",
       "459483      0.019481        False             False      False        True"
      ]
     },
     "execution_count": 100,
     "metadata": {},
     "output_type": "execute_result"
    }
   ],
   "source": [
    "df[[sourmash_col] + same_scop_cols].head()"
   ]
  },
  {
   "cell_type": "markdown",
   "id": "112cbf4b-8279-47c2-adbf-70e76641f62c",
   "metadata": {},
   "source": [
    "### Count number of groups per sample"
   ]
  },
  {
   "cell_type": "code",
   "execution_count": 104,
   "id": "b1722b73-ba65-4969-b2d8-dd26b8c2cc7b",
   "metadata": {},
   "outputs": [
    {
     "data": {
      "text/plain": [
       "dict_keys(['family', 'superfamily', 'fold', 'class'])"
      ]
     },
     "execution_count": 104,
     "metadata": {},
     "output_type": "execute_result"
    }
   ],
   "source": [
    "def count_scop_lineage(df, col):\n",
    "    return Counter(df[col])\n",
    "\n",
    "\n",
    "n_groups_per_scop_lineage = {\n",
    "    lineage: pd.Series(\n",
    "        count_scop_lineage(query_metadata, f\"query_{lineage}\"), name=f\"n_{lineage}\"\n",
    "    )\n",
    "    for lineage in lineage_cols\n",
    "}\n",
    "n_groups_per_scop_lineage.keys()\n",
    "# n_groups_per_scop_lineage"
   ]
  },
  {
   "cell_type": "code",
   "execution_count": 105,
   "id": "04dca0bd-1d6c-4dd6-997f-431fb64f4eb0",
   "metadata": {},
   "outputs": [
    {
     "data": {
      "text/plain": [
       "d    3653\n",
       "a    2644\n",
       "c    4463\n",
       "b    3059\n",
       "f     332\n",
       "g     722\n",
       "e     304\n",
       "Name: n_class, dtype: int64"
      ]
     },
     "execution_count": 105,
     "metadata": {},
     "output_type": "execute_result"
    }
   ],
   "source": [
    "n_groups_per_scop_lineage[\"class\"]"
   ]
  },
  {
   "cell_type": "markdown",
   "id": "4086725d-99dd-4c0b-802b-136f123b6485",
   "metadata": {},
   "source": [
    "### Add number of groups per sample"
   ]
  },
  {
   "cell_type": "code",
   "execution_count": 106,
   "id": "b9f3dfbe-547f-4e29-9aae-cda2b8977c8b",
   "metadata": {},
   "outputs": [
    {
     "data": {
      "text/html": [
       "<div>\n",
       "<style scoped>\n",
       "    .dataframe tbody tr th:only-of-type {\n",
       "        vertical-align: middle;\n",
       "    }\n",
       "\n",
       "    .dataframe tbody tr th {\n",
       "        vertical-align: top;\n",
       "    }\n",
       "\n",
       "    .dataframe thead th {\n",
       "        text-align: right;\n",
       "    }\n",
       "</style>\n",
       "<table border=\"1\" class=\"dataframe\">\n",
       "  <thead>\n",
       "    <tr style=\"text-align: right;\">\n",
       "      <th></th>\n",
       "      <th>query_name</th>\n",
       "      <th>query_md5</th>\n",
       "      <th>match_name</th>\n",
       "      <th>match_md5</th>\n",
       "      <th>containment</th>\n",
       "      <th>max_containment</th>\n",
       "      <th>jaccard</th>\n",
       "      <th>intersect_hashes</th>\n",
       "      <th>prob_overlap</th>\n",
       "      <th>prob_overlap_adjusted</th>\n",
       "      <th>containment_adjusted</th>\n",
       "      <th>containment_adjusted_log10</th>\n",
       "      <th>tf_idf_score</th>\n",
       "      <th>query_scop_id</th>\n",
       "      <th>query_scop_lineage</th>\n",
       "      <th>query_scop_lineage_fixed</th>\n",
       "      <th>query_family</th>\n",
       "      <th>query_superfamily</th>\n",
       "      <th>query_fold</th>\n",
       "      <th>query_class</th>\n",
       "      <th>match_scop_id</th>\n",
       "      <th>match_scop_lineage</th>\n",
       "      <th>match_scop_lineage_fixed</th>\n",
       "      <th>match_family</th>\n",
       "      <th>match_superfamily</th>\n",
       "      <th>match_fold</th>\n",
       "      <th>match_class</th>\n",
       "      <th>same_family</th>\n",
       "      <th>same_superfamily</th>\n",
       "      <th>same_fold</th>\n",
       "      <th>same_class</th>\n",
       "      <th>n_family</th>\n",
       "      <th>n_superfamily</th>\n",
       "      <th>n_fold</th>\n",
       "      <th>n_class</th>\n",
       "    </tr>\n",
       "  </thead>\n",
       "  <tbody>\n",
       "    <tr>\n",
       "      <th>945139</th>\n",
       "      <td>d2kq5a_ a.298.1.1 (A:) PthA {Xanthomonas axono...</td>\n",
       "      <td>d435bfe0fd1203ad9dde6bf11e6b2bab</td>\n",
       "      <td>d3v6ta_ a.298.1.1 (A:) dHax3 {Xanthomonas [Tax...</td>\n",
       "      <td>4eb3271d07bf470d7edc17f3d2632960</td>\n",
       "      <td>1.0</td>\n",
       "      <td>1.0</td>\n",
       "      <td>0.182857</td>\n",
       "      <td>32.0</td>\n",
       "      <td>8.295542e-10</td>\n",
       "      <td>0.191081</td>\n",
       "      <td>5.233393</td>\n",
       "      <td>0.718783</td>\n",
       "      <td>8.769065</td>\n",
       "      <td>d2kq5a_</td>\n",
       "      <td>a.298.1.1</td>\n",
       "      <td>a.298.1.1</td>\n",
       "      <td>a.298.1.1</td>\n",
       "      <td>a.298.1</td>\n",
       "      <td>a.298</td>\n",
       "      <td>a</td>\n",
       "      <td>d3v6ta_</td>\n",
       "      <td>a.298.1.1</td>\n",
       "      <td>a.298.1.1</td>\n",
       "      <td>a.298.1.1</td>\n",
       "      <td>a.298.1</td>\n",
       "      <td>a.298</td>\n",
       "      <td>a</td>\n",
       "      <td>True</td>\n",
       "      <td>True</td>\n",
       "      <td>True</td>\n",
       "      <td>True</td>\n",
       "      <td>3</td>\n",
       "      <td>3</td>\n",
       "      <td>3</td>\n",
       "      <td>2644</td>\n",
       "    </tr>\n",
       "    <tr>\n",
       "      <th>2048779</th>\n",
       "      <td>d1y8xb1 c.111.1.2 (B:349-440) UBA3 {Human (Hom...</td>\n",
       "      <td>a885b33673a0ed0500344799540c4cdb</td>\n",
       "      <td>d1ngvb_ c.111.1.2 (B:) automated matches {Homo...</td>\n",
       "      <td>759286aed279d3e9c2db8f07ff4d31f8</td>\n",
       "      <td>1.0</td>\n",
       "      <td>1.0</td>\n",
       "      <td>0.177616</td>\n",
       "      <td>73.0</td>\n",
       "      <td>2.789917e-10</td>\n",
       "      <td>0.064263</td>\n",
       "      <td>15.560978</td>\n",
       "      <td>1.192037</td>\n",
       "      <td>8.926526</td>\n",
       "      <td>d1y8xb1</td>\n",
       "      <td>c.111.1.2</td>\n",
       "      <td>c.111.1.2</td>\n",
       "      <td>c.111.1.2</td>\n",
       "      <td>c.111.1</td>\n",
       "      <td>c.111</td>\n",
       "      <td>c</td>\n",
       "      <td>d1ngvb_</td>\n",
       "      <td>c.111.1.2</td>\n",
       "      <td>c.111.1.2</td>\n",
       "      <td>c.111.1.2</td>\n",
       "      <td>c.111.1</td>\n",
       "      <td>c.111</td>\n",
       "      <td>c</td>\n",
       "      <td>True</td>\n",
       "      <td>True</td>\n",
       "      <td>True</td>\n",
       "      <td>True</td>\n",
       "      <td>3</td>\n",
       "      <td>4</td>\n",
       "      <td>4</td>\n",
       "      <td>4463</td>\n",
       "    </tr>\n",
       "    <tr>\n",
       "      <th>2195396</th>\n",
       "      <td>d3j9ca1 b.179.1.1 (A:174-225) PA14 {Bacillus a...</td>\n",
       "      <td>d5e1cc5e0bae9ee26fd79b2cc0402ffe</td>\n",
       "      <td>d3tewa2 b.179.1.1 (A:15-225) PA14 {Bacillus an...</td>\n",
       "      <td>c09894ddcd3b37e7268e52140edcd93d</td>\n",
       "      <td>1.0</td>\n",
       "      <td>1.0</td>\n",
       "      <td>0.171875</td>\n",
       "      <td>33.0</td>\n",
       "      <td>1.274173e-10</td>\n",
       "      <td>0.029349</td>\n",
       "      <td>34.072178</td>\n",
       "      <td>1.532400</td>\n",
       "      <td>8.946405</td>\n",
       "      <td>d3j9ca1</td>\n",
       "      <td>b.179.1.1</td>\n",
       "      <td>b.179.1.1</td>\n",
       "      <td>b.179.1.1</td>\n",
       "      <td>b.179.1</td>\n",
       "      <td>b.179</td>\n",
       "      <td>b</td>\n",
       "      <td>d3tewa2</td>\n",
       "      <td>b.179.1.1</td>\n",
       "      <td>b.179.1.1</td>\n",
       "      <td>b.179.1.1</td>\n",
       "      <td>b.179.1</td>\n",
       "      <td>b.179</td>\n",
       "      <td>b</td>\n",
       "      <td>True</td>\n",
       "      <td>True</td>\n",
       "      <td>True</td>\n",
       "      <td>True</td>\n",
       "      <td>3</td>\n",
       "      <td>6</td>\n",
       "      <td>6</td>\n",
       "      <td>3059</td>\n",
       "    </tr>\n",
       "    <tr>\n",
       "      <th>2867133</th>\n",
       "      <td>d3h3ba2 g.3.9.0 (A:166-192) automated matches ...</td>\n",
       "      <td>b988c74c89b65c4fe06b1579d5306191</td>\n",
       "      <td>d5my6a2 g.3.9.0 (A:188-344) automated matches ...</td>\n",
       "      <td>9dcdbbd95a7ddb417a15e9e8aed167bf</td>\n",
       "      <td>1.0</td>\n",
       "      <td>1.0</td>\n",
       "      <td>0.057971</td>\n",
       "      <td>8.0</td>\n",
       "      <td>1.294698e-11</td>\n",
       "      <td>0.002982</td>\n",
       "      <td>335.320091</td>\n",
       "      <td>2.525460</td>\n",
       "      <td>9.278680</td>\n",
       "      <td>d3h3ba2</td>\n",
       "      <td>g.3.9.0</td>\n",
       "      <td>g.3.9.0</td>\n",
       "      <td>g.3.9.0</td>\n",
       "      <td>g.3.9</td>\n",
       "      <td>g.3</td>\n",
       "      <td>g</td>\n",
       "      <td>d5my6a2</td>\n",
       "      <td>g.3.9.0</td>\n",
       "      <td>g.3.9.0</td>\n",
       "      <td>g.3.9.0</td>\n",
       "      <td>g.3.9</td>\n",
       "      <td>g.3</td>\n",
       "      <td>g</td>\n",
       "      <td>True</td>\n",
       "      <td>True</td>\n",
       "      <td>True</td>\n",
       "      <td>True</td>\n",
       "      <td>3</td>\n",
       "      <td>7</td>\n",
       "      <td>139</td>\n",
       "      <td>722</td>\n",
       "    </tr>\n",
       "    <tr>\n",
       "      <th>3276864</th>\n",
       "      <td>d1t1ra3 c.2.1.3 (A:275-300) 1-deoxy-D-xylulose...</td>\n",
       "      <td>0ec5455412a302af86d27ae54b11af17</td>\n",
       "      <td>d2egha2 c.2.1.3 (A:1-125,A:275-300) 1-deoxy-D-...</td>\n",
       "      <td>5c42cf08e107247f0e5e46b921b15703</td>\n",
       "      <td>1.0</td>\n",
       "      <td>1.0</td>\n",
       "      <td>0.052632</td>\n",
       "      <td>7.0</td>\n",
       "      <td>4.815646e-11</td>\n",
       "      <td>0.011092</td>\n",
       "      <td>90.151631</td>\n",
       "      <td>1.954974</td>\n",
       "      <td>8.643600</td>\n",
       "      <td>d1t1ra3</td>\n",
       "      <td>c.2.1.3</td>\n",
       "      <td>c.2.1.3</td>\n",
       "      <td>c.2.1.3</td>\n",
       "      <td>c.2.1</td>\n",
       "      <td>c.2</td>\n",
       "      <td>c</td>\n",
       "      <td>d2egha2</td>\n",
       "      <td>c.2.1.3</td>\n",
       "      <td>c.2.1.3</td>\n",
       "      <td>c.2.1.3</td>\n",
       "      <td>c.2.1</td>\n",
       "      <td>c.2</td>\n",
       "      <td>c</td>\n",
       "      <td>True</td>\n",
       "      <td>True</td>\n",
       "      <td>True</td>\n",
       "      <td>True</td>\n",
       "      <td>30</td>\n",
       "      <td>372</td>\n",
       "      <td>372</td>\n",
       "      <td>4463</td>\n",
       "    </tr>\n",
       "  </tbody>\n",
       "</table>\n",
       "</div>"
      ],
      "text/plain": [
       "                                                query_name  \\\n",
       "945139   d2kq5a_ a.298.1.1 (A:) PthA {Xanthomonas axono...   \n",
       "2048779  d1y8xb1 c.111.1.2 (B:349-440) UBA3 {Human (Hom...   \n",
       "2195396  d3j9ca1 b.179.1.1 (A:174-225) PA14 {Bacillus a...   \n",
       "2867133  d3h3ba2 g.3.9.0 (A:166-192) automated matches ...   \n",
       "3276864  d1t1ra3 c.2.1.3 (A:275-300) 1-deoxy-D-xylulose...   \n",
       "\n",
       "                                query_md5  \\\n",
       "945139   d435bfe0fd1203ad9dde6bf11e6b2bab   \n",
       "2048779  a885b33673a0ed0500344799540c4cdb   \n",
       "2195396  d5e1cc5e0bae9ee26fd79b2cc0402ffe   \n",
       "2867133  b988c74c89b65c4fe06b1579d5306191   \n",
       "3276864  0ec5455412a302af86d27ae54b11af17   \n",
       "\n",
       "                                                match_name  \\\n",
       "945139   d3v6ta_ a.298.1.1 (A:) dHax3 {Xanthomonas [Tax...   \n",
       "2048779  d1ngvb_ c.111.1.2 (B:) automated matches {Homo...   \n",
       "2195396  d3tewa2 b.179.1.1 (A:15-225) PA14 {Bacillus an...   \n",
       "2867133  d5my6a2 g.3.9.0 (A:188-344) automated matches ...   \n",
       "3276864  d2egha2 c.2.1.3 (A:1-125,A:275-300) 1-deoxy-D-...   \n",
       "\n",
       "                                match_md5  containment  max_containment  \\\n",
       "945139   4eb3271d07bf470d7edc17f3d2632960          1.0              1.0   \n",
       "2048779  759286aed279d3e9c2db8f07ff4d31f8          1.0              1.0   \n",
       "2195396  c09894ddcd3b37e7268e52140edcd93d          1.0              1.0   \n",
       "2867133  9dcdbbd95a7ddb417a15e9e8aed167bf          1.0              1.0   \n",
       "3276864  5c42cf08e107247f0e5e46b921b15703          1.0              1.0   \n",
       "\n",
       "          jaccard  intersect_hashes  prob_overlap  prob_overlap_adjusted  \\\n",
       "945139   0.182857              32.0  8.295542e-10               0.191081   \n",
       "2048779  0.177616              73.0  2.789917e-10               0.064263   \n",
       "2195396  0.171875              33.0  1.274173e-10               0.029349   \n",
       "2867133  0.057971               8.0  1.294698e-11               0.002982   \n",
       "3276864  0.052632               7.0  4.815646e-11               0.011092   \n",
       "\n",
       "         containment_adjusted  containment_adjusted_log10  tf_idf_score  \\\n",
       "945139               5.233393                    0.718783      8.769065   \n",
       "2048779             15.560978                    1.192037      8.926526   \n",
       "2195396             34.072178                    1.532400      8.946405   \n",
       "2867133            335.320091                    2.525460      9.278680   \n",
       "3276864             90.151631                    1.954974      8.643600   \n",
       "\n",
       "        query_scop_id query_scop_lineage query_scop_lineage_fixed  \\\n",
       "945139        d2kq5a_          a.298.1.1                a.298.1.1   \n",
       "2048779       d1y8xb1          c.111.1.2                c.111.1.2   \n",
       "2195396       d3j9ca1          b.179.1.1                b.179.1.1   \n",
       "2867133       d3h3ba2            g.3.9.0                  g.3.9.0   \n",
       "3276864       d1t1ra3            c.2.1.3                  c.2.1.3   \n",
       "\n",
       "        query_family query_superfamily query_fold query_class match_scop_id  \\\n",
       "945139     a.298.1.1           a.298.1      a.298           a       d3v6ta_   \n",
       "2048779    c.111.1.2           c.111.1      c.111           c       d1ngvb_   \n",
       "2195396    b.179.1.1           b.179.1      b.179           b       d3tewa2   \n",
       "2867133      g.3.9.0             g.3.9        g.3           g       d5my6a2   \n",
       "3276864      c.2.1.3             c.2.1        c.2           c       d2egha2   \n",
       "\n",
       "        match_scop_lineage match_scop_lineage_fixed match_family  \\\n",
       "945139           a.298.1.1                a.298.1.1    a.298.1.1   \n",
       "2048779          c.111.1.2                c.111.1.2    c.111.1.2   \n",
       "2195396          b.179.1.1                b.179.1.1    b.179.1.1   \n",
       "2867133            g.3.9.0                  g.3.9.0      g.3.9.0   \n",
       "3276864            c.2.1.3                  c.2.1.3      c.2.1.3   \n",
       "\n",
       "        match_superfamily match_fold match_class  same_family  \\\n",
       "945139            a.298.1      a.298           a         True   \n",
       "2048779           c.111.1      c.111           c         True   \n",
       "2195396           b.179.1      b.179           b         True   \n",
       "2867133             g.3.9        g.3           g         True   \n",
       "3276864             c.2.1        c.2           c         True   \n",
       "\n",
       "         same_superfamily  same_fold  same_class  n_family  n_superfamily  \\\n",
       "945139               True       True        True         3              3   \n",
       "2048779              True       True        True         3              4   \n",
       "2195396              True       True        True         3              6   \n",
       "2867133              True       True        True         3              7   \n",
       "3276864              True       True        True        30            372   \n",
       "\n",
       "         n_fold  n_class  \n",
       "945139        3     2644  \n",
       "2048779       4     4463  \n",
       "2195396       6     3059  \n",
       "2867133     139      722  \n",
       "3276864     372     4463  "
      ]
     },
     "execution_count": 106,
     "metadata": {},
     "output_type": "execute_result"
    }
   ],
   "source": [
    "for lineage, series in n_groups_per_scop_lineage.items():\n",
    "    on = f\"query_{lineage}\"\n",
    "    multisearch = multisearch.join(series, on=on)\n",
    "multisearch.head()"
   ]
  },
  {
   "cell_type": "markdown",
   "id": "57022822-0b00-4470-bd09-ef8a0813d20f",
   "metadata": {},
   "source": [
    "### Write function for sensitive to first FP"
   ]
  },
  {
   "cell_type": "code",
   "execution_count": 107,
   "id": "ba055ecb-f7e0-4db5-9515-89a564caed6a",
   "metadata": {},
   "outputs": [
    {
     "data": {
      "text/plain": [
       "['n_family', 'n_superfamily', 'n_fold', 'n_class']"
      ]
     },
     "execution_count": 107,
     "metadata": {},
     "output_type": "execute_result"
    }
   ],
   "source": [
    "n_scop_cols = \"n_family\tn_superfamily\tn_fold\tn_class\".split()\n",
    "n_scop_cols"
   ]
  },
  {
   "cell_type": "code",
   "execution_count": 114,
   "id": "18207747-1393-468f-ab9b-7eb1667b47e2",
   "metadata": {},
   "outputs": [
    {
     "name": "stderr",
     "output_type": "stream",
     "text": [
      "/tmp/ipykernel_16470/1015786021.py:23: DeprecationWarning: DataFrameGroupBy.apply operated on the grouping columns. This behavior is deprecated, and in a future version of pandas the grouping columns will be excluded from the operation. Either pass `include_groups=False` to exclude the groupings or explicitly select the grouping columns after groupby to silence this warning.\n",
      "  multisearch_sensitivity = multisearch.groupby(\"query_scop_id\").apply(\n"
     ]
    }
   ],
   "source": [
    "def sensitivity_until_first_false_positive(\n",
    "    df, same_scop_cols=same_scop_cols, n_scop_cols=n_scop_cols\n",
    "):\n",
    "    # Index of minimum value, will return the first thing\n",
    "    first_zeros = df[same_scop_cols].idxmin()\n",
    "    count_until_first_fp = df[same_scop_cols].apply(\n",
    "        lambda x: x.loc[: first_zeros[x.name]].sum()\n",
    "    )\n",
    "\n",
    "    # Subtract 1 to ignore self-matches\n",
    "    n_per_lineage = df[n_scop_cols] - 1\n",
    "    # Take the first row since all the values are the same for the query\n",
    "    n_per_lineage = n_per_lineage.values[0]\n",
    "\n",
    "    sensitivity_until_first_fp = count_until_first_fp / n_per_lineage\n",
    "    sensitivity_until_first_fp.index = sensitivity_until_first_fp.index.str.replace(\n",
    "        \"same\", \"sensitivity\"\n",
    "    )\n",
    "    sensitivity_until_first_fp = sensitivity_until_first_fp.fillna(0)\n",
    "    return sensitivity_until_first_fp\n",
    "\n",
    "\n",
    "multisearch = multisearch.sort_values(sourmash_col, ascending=False)\n",
    "multisearch_sensitivity = multisearch.groupby(\"query_scop_id\").apply(\n",
    "    sensitivity_until_first_false_positive\n",
    ")"
   ]
  },
  {
   "cell_type": "code",
   "execution_count": 115,
   "id": "b02a29ef-3b76-42d9-8a2f-3e17a0c33218",
   "metadata": {},
   "outputs": [
    {
     "data": {
      "text/html": [
       "<div>\n",
       "<style scoped>\n",
       "    .dataframe tbody tr th:only-of-type {\n",
       "        vertical-align: middle;\n",
       "    }\n",
       "\n",
       "    .dataframe tbody tr th {\n",
       "        vertical-align: top;\n",
       "    }\n",
       "\n",
       "    .dataframe thead th {\n",
       "        text-align: right;\n",
       "    }\n",
       "</style>\n",
       "<table border=\"1\" class=\"dataframe\">\n",
       "  <thead>\n",
       "    <tr style=\"text-align: right;\">\n",
       "      <th></th>\n",
       "      <th>sensitivity_family</th>\n",
       "      <th>sensitivity_superfamily</th>\n",
       "      <th>sensitivity_fold</th>\n",
       "      <th>sensitivity_class</th>\n",
       "    </tr>\n",
       "    <tr>\n",
       "      <th>query_scop_id</th>\n",
       "      <th></th>\n",
       "      <th></th>\n",
       "      <th></th>\n",
       "      <th></th>\n",
       "    </tr>\n",
       "  </thead>\n",
       "  <tbody>\n",
       "    <tr>\n",
       "      <th>d12asa_</th>\n",
       "      <td>0.0</td>\n",
       "      <td>0.0</td>\n",
       "      <td>0.0</td>\n",
       "      <td>0.000548</td>\n",
       "    </tr>\n",
       "    <tr>\n",
       "      <th>d16vpa_</th>\n",
       "      <td>NaN</td>\n",
       "      <td>NaN</td>\n",
       "      <td>NaN</td>\n",
       "      <td>0.000000</td>\n",
       "    </tr>\n",
       "    <tr>\n",
       "      <th>d1914a1</th>\n",
       "      <td>0.0</td>\n",
       "      <td>0.0</td>\n",
       "      <td>0.0</td>\n",
       "      <td>0.000274</td>\n",
       "    </tr>\n",
       "    <tr>\n",
       "      <th>d1914a2</th>\n",
       "      <td>0.0</td>\n",
       "      <td>0.0</td>\n",
       "      <td>0.0</td>\n",
       "      <td>0.000000</td>\n",
       "    </tr>\n",
       "    <tr>\n",
       "      <th>d1a04a1</th>\n",
       "      <td>0.0</td>\n",
       "      <td>0.0</td>\n",
       "      <td>0.0</td>\n",
       "      <td>0.000000</td>\n",
       "    </tr>\n",
       "    <tr>\n",
       "      <th>...</th>\n",
       "      <td>...</td>\n",
       "      <td>...</td>\n",
       "      <td>...</td>\n",
       "      <td>...</td>\n",
       "    </tr>\n",
       "    <tr>\n",
       "      <th>g2dbx.1</th>\n",
       "      <td>0.0</td>\n",
       "      <td>0.0</td>\n",
       "      <td>0.0</td>\n",
       "      <td>0.000000</td>\n",
       "    </tr>\n",
       "    <tr>\n",
       "      <th>g2vt1.1</th>\n",
       "      <td>0.0</td>\n",
       "      <td>0.0</td>\n",
       "      <td>0.0</td>\n",
       "      <td>0.000000</td>\n",
       "    </tr>\n",
       "    <tr>\n",
       "      <th>g3bzy.1</th>\n",
       "      <td>0.0</td>\n",
       "      <td>0.0</td>\n",
       "      <td>0.0</td>\n",
       "      <td>0.000000</td>\n",
       "    </tr>\n",
       "    <tr>\n",
       "      <th>g3n55.1</th>\n",
       "      <td>NaN</td>\n",
       "      <td>0.0</td>\n",
       "      <td>0.0</td>\n",
       "      <td>0.000000</td>\n",
       "    </tr>\n",
       "    <tr>\n",
       "      <th>g6rlx.1</th>\n",
       "      <td>0.0</td>\n",
       "      <td>0.0</td>\n",
       "      <td>0.0</td>\n",
       "      <td>0.000000</td>\n",
       "    </tr>\n",
       "  </tbody>\n",
       "</table>\n",
       "<p>15163 rows × 4 columns</p>\n",
       "</div>"
      ],
      "text/plain": [
       "               sensitivity_family  sensitivity_superfamily  sensitivity_fold  \\\n",
       "query_scop_id                                                                  \n",
       "d12asa_                       0.0                      0.0               0.0   \n",
       "d16vpa_                       NaN                      NaN               NaN   \n",
       "d1914a1                       0.0                      0.0               0.0   \n",
       "d1914a2                       0.0                      0.0               0.0   \n",
       "d1a04a1                       0.0                      0.0               0.0   \n",
       "...                           ...                      ...               ...   \n",
       "g2dbx.1                       0.0                      0.0               0.0   \n",
       "g2vt1.1                       0.0                      0.0               0.0   \n",
       "g3bzy.1                       0.0                      0.0               0.0   \n",
       "g3n55.1                       NaN                      0.0               0.0   \n",
       "g6rlx.1                       0.0                      0.0               0.0   \n",
       "\n",
       "               sensitivity_class  \n",
       "query_scop_id                     \n",
       "d12asa_                 0.000548  \n",
       "d16vpa_                 0.000000  \n",
       "d1914a1                 0.000274  \n",
       "d1914a2                 0.000000  \n",
       "d1a04a1                 0.000000  \n",
       "...                          ...  \n",
       "g2dbx.1                 0.000000  \n",
       "g2vt1.1                 0.000000  \n",
       "g3bzy.1                 0.000000  \n",
       "g3n55.1                 0.000000  \n",
       "g6rlx.1                 0.000000  \n",
       "\n",
       "[15163 rows x 4 columns]"
      ]
     },
     "execution_count": 115,
     "metadata": {},
     "output_type": "execute_result"
    }
   ],
   "source": [
    "multisearch_sensitivity"
   ]
  },
  {
   "cell_type": "code",
   "execution_count": 122,
   "id": "421f6c54-7570-43af-83d9-4e09eb536e9a",
   "metadata": {},
   "outputs": [
    {
     "data": {
      "text/html": [
       "<div>\n",
       "<style scoped>\n",
       "    .dataframe tbody tr th:only-of-type {\n",
       "        vertical-align: middle;\n",
       "    }\n",
       "\n",
       "    .dataframe tbody tr th {\n",
       "        vertical-align: top;\n",
       "    }\n",
       "\n",
       "    .dataframe thead th {\n",
       "        text-align: right;\n",
       "    }\n",
       "</style>\n",
       "<table border=\"1\" class=\"dataframe\">\n",
       "  <thead>\n",
       "    <tr style=\"text-align: right;\">\n",
       "      <th></th>\n",
       "      <th>sensitivity_family</th>\n",
       "      <th>sensitivity_superfamily</th>\n",
       "      <th>sensitivity_fold</th>\n",
       "      <th>sensitivity_class</th>\n",
       "    </tr>\n",
       "    <tr>\n",
       "      <th>query_scop_id</th>\n",
       "      <th></th>\n",
       "      <th></th>\n",
       "      <th></th>\n",
       "      <th></th>\n",
       "    </tr>\n",
       "  </thead>\n",
       "  <tbody>\n",
       "    <tr>\n",
       "      <th>d1k91a1</th>\n",
       "      <td>1.0</td>\n",
       "      <td>1.0</td>\n",
       "      <td>1.000000</td>\n",
       "      <td>0.001635</td>\n",
       "    </tr>\n",
       "    <tr>\n",
       "      <th>d1ouva1</th>\n",
       "      <td>1.0</td>\n",
       "      <td>1.0</td>\n",
       "      <td>0.005618</td>\n",
       "      <td>0.000378</td>\n",
       "    </tr>\n",
       "    <tr>\n",
       "      <th>d2ekna_</th>\n",
       "      <td>1.0</td>\n",
       "      <td>1.0</td>\n",
       "      <td>0.002132</td>\n",
       "      <td>0.000548</td>\n",
       "    </tr>\n",
       "    <tr>\n",
       "      <th>d2i8da1</th>\n",
       "      <td>1.0</td>\n",
       "      <td>1.0</td>\n",
       "      <td>0.050000</td>\n",
       "      <td>0.000274</td>\n",
       "    </tr>\n",
       "    <tr>\n",
       "      <th>d3jqka_</th>\n",
       "      <td>1.0</td>\n",
       "      <td>1.0</td>\n",
       "      <td>0.002132</td>\n",
       "      <td>0.000274</td>\n",
       "    </tr>\n",
       "    <tr>\n",
       "      <th>d7dkzl_</th>\n",
       "      <td>1.0</td>\n",
       "      <td>1.0</td>\n",
       "      <td>1.000000</td>\n",
       "      <td>0.009063</td>\n",
       "    </tr>\n",
       "    <tr>\n",
       "      <th>d7lx0l_</th>\n",
       "      <td>1.0</td>\n",
       "      <td>1.0</td>\n",
       "      <td>1.000000</td>\n",
       "      <td>0.003021</td>\n",
       "    </tr>\n",
       "  </tbody>\n",
       "</table>\n",
       "</div>"
      ],
      "text/plain": [
       "               sensitivity_family  sensitivity_superfamily  sensitivity_fold  \\\n",
       "query_scop_id                                                                  \n",
       "d1k91a1                       1.0                      1.0          1.000000   \n",
       "d1ouva1                       1.0                      1.0          0.005618   \n",
       "d2ekna_                       1.0                      1.0          0.002132   \n",
       "d2i8da1                       1.0                      1.0          0.050000   \n",
       "d3jqka_                       1.0                      1.0          0.002132   \n",
       "d7dkzl_                       1.0                      1.0          1.000000   \n",
       "d7lx0l_                       1.0                      1.0          1.000000   \n",
       "\n",
       "               sensitivity_class  \n",
       "query_scop_id                     \n",
       "d1k91a1                 0.001635  \n",
       "d1ouva1                 0.000378  \n",
       "d2ekna_                 0.000548  \n",
       "d2i8da1                 0.000274  \n",
       "d3jqka_                 0.000274  \n",
       "d7dkzl_                 0.009063  \n",
       "d7lx0l_                 0.003021  "
      ]
     },
     "execution_count": 122,
     "metadata": {},
     "output_type": "execute_result"
    }
   ],
   "source": [
    "multisearch_sensitivity.query(\n",
    "    \"sensitivity_family > .9 and sensitivity_superfamily > .5\"\n",
    ").sort_index()"
   ]
  },
  {
   "cell_type": "code",
   "execution_count": 112,
   "id": "52a591ba-0afd-4c9a-91e4-60d6e517ee8c",
   "metadata": {},
   "outputs": [],
   "source": [
    "# %debug"
   ]
  },
  {
   "cell_type": "markdown",
   "id": "c8b4b1ff-b4a4-4d76-93d8-ee077a95c8ca",
   "metadata": {},
   "source": [
    "## Count number of same scop per column"
   ]
  },
  {
   "cell_type": "code",
   "execution_count": 15,
   "id": "ce7ee597-518f-4a3d-9f45-8876ac8f1391",
   "metadata": {},
   "outputs": [
    {
     "data": {
      "text/html": [
       "<div><style>\n",
       ".dataframe > thead > tr,\n",
       ".dataframe > tbody > tr {\n",
       "  text-align: right;\n",
       "  white-space: pre-wrap;\n",
       "}\n",
       "</style>\n",
       "<small>shape: (5, 9)</small><table border=\"1\" class=\"dataframe\"><thead><tr><th>query_scop_id</th><th>query_family</th><th>query_superfamily</th><th>query_fold</th><th>query_class</th><th>same_family</th><th>same_superfamily</th><th>same_fold</th><th>same_class</th></tr><tr><td>str</td><td>cat</td><td>cat</td><td>cat</td><td>cat</td><td>u64</td><td>u64</td><td>u64</td><td>u64</td></tr></thead><tbody><tr><td>&quot;d2e9ja1&quot;</td><td>&quot;b.1.18.10&quot;</td><td>&quot;b.1.18&quot;</td><td>&quot;b.1&quot;</td><td>&quot;b&quot;</td><td>0</td><td>0</td><td>2</td><td>7</td></tr><tr><td>&quot;d2qxza_&quot;</td><td>&quot;b.80.1.0&quot;</td><td>&quot;b.80.1&quot;</td><td>&quot;b.80&quot;</td><td>&quot;b&quot;</td><td>0</td><td>2</td><td>2</td><td>33</td></tr><tr><td>&quot;d6pzda1&quot;</td><td>&quot;b.68.1.1&quot;</td><td>&quot;b.68.1&quot;</td><td>&quot;b.68&quot;</td><td>&quot;b&quot;</td><td>0</td><td>0</td><td>0</td><td>29</td></tr><tr><td>&quot;d2cw9a1&quot;</td><td>&quot;d.17.4.13&quot;</td><td>&quot;d.17.4&quot;</td><td>&quot;d.17&quot;</td><td>&quot;d&quot;</td><td>0</td><td>0</td><td>0</td><td>30</td></tr><tr><td>&quot;d1vj7a1&quot;</td><td>&quot;a.211.1.1&quot;</td><td>&quot;a.211.1&quot;</td><td>&quot;a.211&quot;</td><td>&quot;a&quot;</td><td>0</td><td>0</td><td>0</td><td>10</td></tr></tbody></table></div>"
      ],
      "text/plain": [
       "shape: (5, 9)\n",
       "┌───────────┬───────────┬───────────┬───────────┬───┬───────────┬───────────┬───────────┬──────────┐\n",
       "│ query_sco ┆ query_fam ┆ query_sup ┆ query_fol ┆ … ┆ same_fami ┆ same_supe ┆ same_fold ┆ same_cla │\n",
       "│ p_id      ┆ ily       ┆ erfamily  ┆ d         ┆   ┆ ly        ┆ rfamily   ┆ ---       ┆ ss       │\n",
       "│ ---       ┆ ---       ┆ ---       ┆ ---       ┆   ┆ ---       ┆ ---       ┆ u64       ┆ ---      │\n",
       "│ str       ┆ cat       ┆ cat       ┆ cat       ┆   ┆ u64       ┆ u64       ┆           ┆ u64      │\n",
       "╞═══════════╪═══════════╪═══════════╪═══════════╪═══╪═══════════╪═══════════╪═══════════╪══════════╡\n",
       "│ d2e9ja1   ┆ b.1.18.10 ┆ b.1.18    ┆ b.1       ┆ … ┆ 0         ┆ 0         ┆ 2         ┆ 7        │\n",
       "│ d2qxza_   ┆ b.80.1.0  ┆ b.80.1    ┆ b.80      ┆ … ┆ 0         ┆ 2         ┆ 2         ┆ 33       │\n",
       "│ d6pzda1   ┆ b.68.1.1  ┆ b.68.1    ┆ b.68      ┆ … ┆ 0         ┆ 0         ┆ 0         ┆ 29       │\n",
       "│ d2cw9a1   ┆ d.17.4.13 ┆ d.17.4    ┆ d.17      ┆ … ┆ 0         ┆ 0         ┆ 0         ┆ 30       │\n",
       "│ d1vj7a1   ┆ a.211.1.1 ┆ a.211.1   ┆ a.211     ┆ … ┆ 0         ┆ 0         ┆ 0         ┆ 10       │\n",
       "└───────────┴───────────┴───────────┴───────────┴───┴───────────┴───────────┴───────────┴──────────┘"
      ]
     },
     "execution_count": 15,
     "metadata": {},
     "output_type": "execute_result"
    }
   ],
   "source": [
    "same_scop_counts = multisearch.group_by([\"query_scop_id\"] + query_scop_cols).agg(\n",
    "    pl.col(same_scop_cols).sum()\n",
    ")\n",
    "\n",
    "# Subtract 1 for self-matches\n",
    "# Doing this after the fact makes sure that we have ALL 15,177 samples for\n",
    "# each analyses, otherwise they'd be unobserved\n",
    "# same_scop_counts -= 1\n",
    "\n",
    "# same_scop_bool = same_scop_counts > 0\n",
    "# same_scop_bool.columns = same_scop_bool.columns + \"_bool\"\n",
    "# same_scop_counts = pd.concat([same_scop_counts, same_scop_bool], axis=1)\n",
    "same_scop_counts.head()"
   ]
  },
  {
   "cell_type": "code",
   "execution_count": null,
   "id": "d33f9ce5-c775-4553-940a-cb5d43d5a76a",
   "metadata": {},
   "outputs": [],
   "source": []
  }
 ],
 "metadata": {
  "kernelspec": {
   "display_name": "Python [conda env:2024-kmerseek-analysis-polars]",
   "language": "python",
   "name": "conda-env-2024-kmerseek-analysis-polars-py"
  },
  "language_info": {
   "codemirror_mode": {
    "name": "ipython",
    "version": 3
   },
   "file_extension": ".py",
   "mimetype": "text/x-python",
   "name": "python",
   "nbconvert_exporter": "python",
   "pygments_lexer": "ipython3",
   "version": "3.12.7"
  }
 },
 "nbformat": 4,
 "nbformat_minor": 5
}
