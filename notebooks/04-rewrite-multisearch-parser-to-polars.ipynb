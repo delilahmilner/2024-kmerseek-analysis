{
 "cells": [
  {
   "cell_type": "markdown",
   "id": "dd0c5de7-7f03-4c9a-833f-af93d3c1b75c",
   "metadata": {},
   "source": [
    "# Imports and setup"
   ]
  },
  {
   "cell_type": "markdown",
   "id": "0a95d790-3b1c-49f5-9287-f489a36d2e9d",
   "metadata": {},
   "source": [
    "### Auto-re-import python modules, useful for editing local files"
   ]
  },
  {
   "cell_type": "code",
   "execution_count": 1,
   "id": "cecf42bd-f874-43b5-843b-d8ab8805cc21",
   "metadata": {},
   "outputs": [],
   "source": [
    "%load_ext autoreload\n",
    "%autoreload 2"
   ]
  },
  {
   "cell_type": "markdown",
   "id": "0e266009-a264-475f-8df9-a57316cfbb79",
   "metadata": {},
   "source": [
    "## Imports"
   ]
  },
  {
   "cell_type": "code",
   "execution_count": 37,
   "id": "cdf370bf-b8d8-411a-99b2-7aca8ebc8a82",
   "metadata": {},
   "outputs": [],
   "source": [
    "from typing import get_args\n",
    "\n",
    "import polars as pl\n",
    "\n",
    "# Local modules\n",
    "import process_scop_sourmash_multisearch_polars\n",
    "from scop_constants import SCOP_LINEAGES"
   ]
  },
  {
   "cell_type": "code",
   "execution_count": 76,
   "id": "0b6b9676-1700-4811-b6a2-057dcbe420a8",
   "metadata": {},
   "outputs": [
    {
     "data": {
      "text/plain": [
       "'1.9.0'"
      ]
     },
     "execution_count": 76,
     "metadata": {},
     "output_type": "execute_result"
    }
   ],
   "source": [
    "pl.__version__"
   ]
  },
  {
   "cell_type": "markdown",
   "id": "9c138f58-215e-41a0-adbf-49778187a243",
   "metadata": {},
   "source": [
    "# Read in data"
   ]
  },
  {
   "cell_type": "code",
   "execution_count": 6,
   "id": "11fd19ce-11d7-496e-96f1-2e2be78bf9fd",
   "metadata": {},
   "outputs": [
    {
     "name": "stdout",
     "output_type": "stream",
     "text": [
      "                           PRE 2024-10-08__dayhoff_k5-20/\n",
      "                           PRE 2024-10-08__protein_k5-20/\n",
      "                           PRE 2024-10-09__dayhoff_k5-20/\n",
      "                           PRE 2024-10-09__hp_k20-60/\n",
      "                           PRE dayhoff_k5-20/\n",
      "                           PRE hp_k10-60/\n",
      "                           PRE protein/\n",
      "                           PRE protein_k5-20/\n"
     ]
    }
   ],
   "source": [
    "! aws s3 ls s3://seanome-kmerseek/scope-benchmark/pipeline-outputs/"
   ]
  },
  {
   "cell_type": "code",
   "execution_count": 8,
   "id": "7ffbd6f9-c83c-480d-aade-736e79f26a4a",
   "metadata": {},
   "outputs": [
    {
     "name": "stdout",
     "output_type": "stream",
     "text": [
      "                           PRE multiqc/\n",
      "                           PRE pipeline_info/\n",
      "                           PRE seqkit/\n",
      "                           PRE sourmash/\n"
     ]
    }
   ],
   "source": [
    "! aws s3 ls s3://seanome-kmerseek/scope-benchmark/pipeline-outputs/protein_k5-20/"
   ]
  },
  {
   "cell_type": "code",
   "execution_count": 4,
   "id": "ef227575-fffc-4068-a089-17c5c44d5aa9",
   "metadata": {},
   "outputs": [
    {
     "name": "stdout",
     "output_type": "stream",
     "text": [
      "                           PRE multiqc/\n",
      "                           PRE pipeline_info/\n",
      "                           PRE seqkit/\n",
      "                           PRE sourmash/\n"
     ]
    }
   ],
   "source": [
    "outdir = (\n",
    "    \"s3://seanome-kmerseek/scope-benchmark/pipeline-outputs/2024-10-08__protein_k5-20\"\n",
    ")\n",
    "! aws s3 ls $outdir/"
   ]
  },
  {
   "cell_type": "code",
   "execution_count": 5,
   "id": "2658dcec-8c87-4664-b20e-fd7639c26641",
   "metadata": {},
   "outputs": [
    {
     "name": "stdout",
     "output_type": "stream",
     "text": [
      "                           PRE multisearch/\n",
      "                           PRE sigs/\n"
     ]
    }
   ],
   "source": [
    "! aws s3 ls $outdir/sourmash/"
   ]
  },
  {
   "cell_type": "code",
   "execution_count": null,
   "id": "0dbef9cc-ebf7-41ae-b559-06bf4ebd3956",
   "metadata": {},
   "outputs": [],
   "source": []
  },
  {
   "cell_type": "code",
   "execution_count": 15,
   "id": "219b946f-cf08-4f8e-8a94-e5c7db25a2a8",
   "metadata": {},
   "outputs": [
    {
     "data": {
      "text/plain": [
       "'s3://seanome-kmerseek/scope-benchmark/analysis-outputs/2024-10-08__protein_k5-20'"
      ]
     },
     "execution_count": 15,
     "metadata": {},
     "output_type": "execute_result"
    }
   ],
   "source": [
    "analysis_outdir = outdir.replace(\"pipeline\", \"analysis\")\n",
    "analysis_outdir"
   ]
  },
  {
   "cell_type": "code",
   "execution_count": 16,
   "id": "84057b8c-24a0-4adc-9da3-59a5ab9c9e94",
   "metadata": {},
   "outputs": [],
   "source": [
    "import polars as pl"
   ]
  },
  {
   "cell_type": "code",
   "execution_count": 17,
   "id": "89932445-e239-4b8e-b540-1e005f1fa81b",
   "metadata": {},
   "outputs": [
    {
     "name": "stderr",
     "output_type": "stream",
     "text": [
      "/home/ec2-user/miniconda3/envs/2024-kmerseek-analysis-polars/lib/python3.12/site-packages/IPython/core/formatters.py:347: UserWarning: '(default_)region' not set; polars will try to get it from bucket\n",
      "\n",
      "Set the region manually to silence this warning.\n",
      "  return method()\n"
     ]
    },
    {
     "data": {
      "text/html": [
       "<h4>NAIVE QUERY PLAN</h4><p>run <b>LazyFrame.show_graph()</b> to see the optimized version</p><?xml version=\"1.0\" encoding=\"UTF-8\" standalone=\"no\"?>\n",
       "<!DOCTYPE svg PUBLIC \"-//W3C//DTD SVG 1.1//EN\"\n",
       " \"http://www.w3.org/Graphics/SVG/1.1/DTD/svg11.dtd\">\n",
       "<!-- Generated by graphviz version 2.44.0 (0)\n",
       " -->\n",
       "<!-- Title: polars_query Pages: 1 -->\n",
       "<svg width=\"1666pt\" height=\"46pt\"\n",
       " viewBox=\"0.00 0.00 1666.00 46.00\" xmlns=\"http://www.w3.org/2000/svg\" xmlns:xlink=\"http://www.w3.org/1999/xlink\">\n",
       "<g id=\"graph0\" class=\"graph\" transform=\"scale(1 1) rotate(0) translate(4 42)\">\n",
       "<title>polars_query</title>\n",
       "<polygon fill=\"white\" stroke=\"transparent\" points=\"-4,4 -4,-42 1662,-42 1662,4 -4,4\"/>\n",
       "<!-- p1 -->\n",
       "<g id=\"node1\" class=\"node\">\n",
       "<title>p1</title>\n",
       "<polygon fill=\"none\" stroke=\"black\" points=\"1658,-38 0,-38 0,0 1658,0 1658,-38\"/>\n",
       "<text text-anchor=\"middle\" x=\"829\" y=\"-22.8\" font-family=\"Times-Roman\" font-size=\"14.00\">Csv SCAN [s3://seanome&#45;kmerseek/scope&#45;benchmark/pipeline&#45;outputs/2024&#45;10&#45;08__protein_k5&#45;20/sourmash/multisearch/astral&#45;scopedom&#45;seqres&#45;gd&#45;sel&#45;gs&#45;bib&#45;40&#45;2.08.part_001.fa&#45;&#45;in&#45;&#45;astral&#45;scopedom&#45;seqres&#45;gd&#45;sel&#45;gs&#45;bib&#45;40&#45;2.08.part_001.fa.protein.10.multisearch.csv]</text>\n",
       "<text text-anchor=\"middle\" x=\"829\" y=\"-7.8\" font-family=\"Times-Roman\" font-size=\"14.00\">π */13;</text>\n",
       "</g>\n",
       "</g>\n",
       "</svg>\n"
      ],
      "text/plain": [
       "<LazyFrame at 0x7F7E6DB163F0>"
      ]
     },
     "execution_count": 17,
     "metadata": {},
     "output_type": "execute_result"
    }
   ],
   "source": [
    "multisearch = pl.scan_csv(\n",
    "    f\"{outdir}/sourmash/multisearch/astral-scopedom-seqres-gd-sel-gs-bib-40-2.08.part_001.fa--in--astral-scopedom-seqres-gd-sel-gs-bib-40-2.08.part_001.fa.protein.10.multisearch.csv\"\n",
    ")\n",
    "multisearch"
   ]
  },
  {
   "cell_type": "markdown",
   "id": "fd0cd537-2fa6-4330-a7f9-5e8649aad190",
   "metadata": {},
   "source": [
    "## Test the pipeline"
   ]
  },
  {
   "cell_type": "code",
   "execution_count": 52,
   "id": "4ba01ce5-febc-45cf-8a31-81854d3b5d4c",
   "metadata": {},
   "outputs": [
    {
     "data": {
      "text/html": [
       "<h4>NAIVE QUERY PLAN</h4><p>run <b>LazyFrame.show_graph()</b> to see the optimized version</p><?xml version=\"1.0\" encoding=\"UTF-8\" standalone=\"no\"?>\n",
       "<!DOCTYPE svg PUBLIC \"-//W3C//DTD SVG 1.1//EN\"\n",
       " \"http://www.w3.org/Graphics/SVG/1.1/DTD/svg11.dtd\">\n",
       "<!-- Generated by graphviz version 2.44.0 (0)\n",
       " -->\n",
       "<!-- Title: polars_query Pages: 1 -->\n",
       "<svg width=\"672pt\" height=\"46pt\"\n",
       " viewBox=\"0.00 0.00 672.00 46.00\" xmlns=\"http://www.w3.org/2000/svg\" xmlns:xlink=\"http://www.w3.org/1999/xlink\">\n",
       "<g id=\"graph0\" class=\"graph\" transform=\"scale(1 1) rotate(0) translate(4 42)\">\n",
       "<title>polars_query</title>\n",
       "<polygon fill=\"white\" stroke=\"transparent\" points=\"-4,4 -4,-42 668,-42 668,4 -4,4\"/>\n",
       "<!-- p1 -->\n",
       "<g id=\"node1\" class=\"node\">\n",
       "<title>p1</title>\n",
       "<polygon fill=\"none\" stroke=\"black\" points=\"664,-38 0,-38 0,0 664,0 664,-38\"/>\n",
       "<text text-anchor=\"middle\" x=\"332\" y=\"-22.8\" font-family=\"Times-Roman\" font-size=\"14.00\">Parquet SCAN [s3://seanome&#45;kmerseek/scope&#45;benchmark/reference_files/scop.e.2.08.query_metadata.pq]</text>\n",
       "<text text-anchor=\"middle\" x=\"332\" y=\"-7.8\" font-family=\"Times-Roman\" font-size=\"14.00\">π */10;</text>\n",
       "</g>\n",
       "</g>\n",
       "</svg>\n"
      ],
      "text/plain": [
       "<LazyFrame at 0x7F7E63B8DF70>"
      ]
     },
     "execution_count": 52,
     "metadata": {},
     "output_type": "execute_result"
    }
   ],
   "source": [
    "query_metadata = pl.scan_parquet(\n",
    "    \"s3://seanome-kmerseek/scope-benchmark/reference_files/scop.e.2.08.query_metadata.pq\"\n",
    ")\n",
    "query_metadata"
   ]
  },
  {
   "cell_type": "code",
   "execution_count": 53,
   "id": "d3979c9e-5e18-4a26-ae63-188f81402b0d",
   "metadata": {},
   "outputs": [
    {
     "name": "stderr",
     "output_type": "stream",
     "text": [
      "/tmp/ipykernel_8064/709868202.py:1: PerformanceWarning: Resolving the schema of a LazyFrame is a potentially expensive operation. Use `LazyFrame.collect_schema()` to get the schema without this warning.\n",
      "  query_metadata.schema\n"
     ]
    },
    {
     "data": {
      "text/plain": [
       "Schema([('query_name', String),\n",
       "        ('query_family', Categorical(ordering='physical')),\n",
       "        ('query_superfamily', Categorical(ordering='physical')),\n",
       "        ('query_fold', Categorical(ordering='physical')),\n",
       "        ('query_class', Categorical(ordering='physical')),\n",
       "        ('n_family', Int64),\n",
       "        ('n_superfamily', Int64),\n",
       "        ('n_fold', Int64),\n",
       "        ('n_class', Int64),\n",
       "        ('query_scop_id', String)])"
      ]
     },
     "execution_count": 53,
     "metadata": {},
     "output_type": "execute_result"
    }
   ],
   "source": [
    "query_metadata.schema"
   ]
  },
  {
   "cell_type": "markdown",
   "id": "b5095838-c6ac-4099-9675-6d8067d98124",
   "metadata": {},
   "source": [
    "### Make match metadata"
   ]
  },
  {
   "cell_type": "code",
   "execution_count": 54,
   "id": "0b86a111-d95e-4dd6-b4a0-03c76cdc6741",
   "metadata": {},
   "outputs": [
    {
     "data": {
      "text/html": [
       "<h4>NAIVE QUERY PLAN</h4><p>run <b>LazyFrame.show_graph()</b> to see the optimized version</p><?xml version=\"1.0\" encoding=\"UTF-8\" standalone=\"no\"?>\n",
       "<!DOCTYPE svg PUBLIC \"-//W3C//DTD SVG 1.1//EN\"\n",
       " \"http://www.w3.org/Graphics/SVG/1.1/DTD/svg11.dtd\">\n",
       "<!-- Generated by graphviz version 2.44.0 (0)\n",
       " -->\n",
       "<!-- Title: polars_query Pages: 1 -->\n",
       "<svg width=\"675pt\" height=\"46pt\"\n",
       " viewBox=\"0.00 0.00 675.00 46.00\" xmlns=\"http://www.w3.org/2000/svg\" xmlns:xlink=\"http://www.w3.org/1999/xlink\">\n",
       "<g id=\"graph0\" class=\"graph\" transform=\"scale(1 1) rotate(0) translate(4 42)\">\n",
       "<title>polars_query</title>\n",
       "<polygon fill=\"white\" stroke=\"transparent\" points=\"-4,4 -4,-42 671,-42 671,4 -4,4\"/>\n",
       "<!-- p1 -->\n",
       "<g id=\"node1\" class=\"node\">\n",
       "<title>p1</title>\n",
       "<polygon fill=\"none\" stroke=\"black\" points=\"667,-38 0,-38 0,0 667,0 667,-38\"/>\n",
       "<text text-anchor=\"middle\" x=\"333.5\" y=\"-22.8\" font-family=\"Times-Roman\" font-size=\"14.00\">Parquet SCAN [s3://seanome&#45;kmerseek/scope&#45;benchmark/reference_files/scop.e.2.08.match_metadata.pq]</text>\n",
       "<text text-anchor=\"middle\" x=\"333.5\" y=\"-7.8\" font-family=\"Times-Roman\" font-size=\"14.00\">π */6;</text>\n",
       "</g>\n",
       "</g>\n",
       "</svg>\n"
      ],
      "text/plain": [
       "<LazyFrame at 0x7F7E63B8DA00>"
      ]
     },
     "execution_count": 54,
     "metadata": {},
     "output_type": "execute_result"
    }
   ],
   "source": [
    "match_metadata = pl.scan_parquet(\n",
    "    \"s3://seanome-kmerseek/scope-benchmark/reference_files/scop.e.2.08.match_metadata.pq\"\n",
    ")\n",
    "match_metadata"
   ]
  },
  {
   "cell_type": "code",
   "execution_count": 55,
   "id": "fb8e68ea-b9d8-496a-80cb-198d108c6d9e",
   "metadata": {},
   "outputs": [
    {
     "data": {
      "text/html": [
       "<h4>NAIVE QUERY PLAN</h4><p>run <b>LazyFrame.show_graph()</b> to see the optimized version</p><?xml version=\"1.0\" encoding=\"UTF-8\" standalone=\"no\"?>\n",
       "<!DOCTYPE svg PUBLIC \"-//W3C//DTD SVG 1.1//EN\"\n",
       " \"http://www.w3.org/Graphics/SVG/1.1/DTD/svg11.dtd\">\n",
       "<!-- Generated by graphviz version 2.44.0 (0)\n",
       " -->\n",
       "<!-- Title: polars_query Pages: 1 -->\n",
       "<svg width=\"2348pt\" height=\"224pt\"\n",
       " viewBox=\"0.00 0.00 2348.00 224.00\" xmlns=\"http://www.w3.org/2000/svg\" xmlns:xlink=\"http://www.w3.org/1999/xlink\">\n",
       "<g id=\"graph0\" class=\"graph\" transform=\"scale(1 1) rotate(0) translate(4 220)\">\n",
       "<title>polars_query</title>\n",
       "<polygon fill=\"white\" stroke=\"transparent\" points=\"-4,4 -4,-220 2344,-220 2344,4 -4,4\"/>\n",
       "<!-- p1 -->\n",
       "<g id=\"node1\" class=\"node\">\n",
       "<title>p1</title>\n",
       "<polygon fill=\"none\" stroke=\"black\" points=\"1723,-216 1549,-216 1549,-163 1723,-163 1723,-216\"/>\n",
       "<text text-anchor=\"middle\" x=\"1636\" y=\"-200.8\" font-family=\"Times-Roman\" font-size=\"14.00\">JOIN INNER</text>\n",
       "<text text-anchor=\"middle\" x=\"1636\" y=\"-185.8\" font-family=\"Times-Roman\" font-size=\"14.00\">left: [col(&quot;match_name&quot;)];</text>\n",
       "<text text-anchor=\"middle\" x=\"1636\" y=\"-170.8\" font-family=\"Times-Roman\" font-size=\"14.00\">right: [col(&quot;match_name&quot;)]</text>\n",
       "</g>\n",
       "<!-- p2 -->\n",
       "<g id=\"node2\" class=\"node\">\n",
       "<title>p2</title>\n",
       "<polygon fill=\"none\" stroke=\"black\" points=\"1503.5,-127 1332.5,-127 1332.5,-74 1503.5,-74 1503.5,-127\"/>\n",
       "<text text-anchor=\"middle\" x=\"1418\" y=\"-111.8\" font-family=\"Times-Roman\" font-size=\"14.00\">JOIN INNER</text>\n",
       "<text text-anchor=\"middle\" x=\"1418\" y=\"-96.8\" font-family=\"Times-Roman\" font-size=\"14.00\">left: [col(&quot;query_name&quot;)];</text>\n",
       "<text text-anchor=\"middle\" x=\"1418\" y=\"-81.8\" font-family=\"Times-Roman\" font-size=\"14.00\">right: [col(&quot;query_name&quot;)]</text>\n",
       "</g>\n",
       "<!-- p1&#45;&#45;p2 -->\n",
       "<g id=\"edge1\" class=\"edge\">\n",
       "<title>p1&#45;&#45;p2</title>\n",
       "<path fill=\"none\" stroke=\"black\" d=\"M1572.07,-162.98C1543.67,-151.65 1510.33,-138.35 1481.93,-127.01\"/>\n",
       "</g>\n",
       "<!-- p5 -->\n",
       "<g id=\"node5\" class=\"node\">\n",
       "<title>p5</title>\n",
       "<polygon fill=\"none\" stroke=\"black\" points=\"2188.5,-119.5 1521.5,-119.5 1521.5,-81.5 2188.5,-81.5 2188.5,-119.5\"/>\n",
       "<text text-anchor=\"middle\" x=\"1855\" y=\"-104.3\" font-family=\"Times-Roman\" font-size=\"14.00\">Parquet SCAN [s3://seanome&#45;kmerseek/scope&#45;benchmark/reference_files/scop.e.2.08.match_metadata.pq]</text>\n",
       "<text text-anchor=\"middle\" x=\"1855\" y=\"-89.3\" font-family=\"Times-Roman\" font-size=\"14.00\">π */6;</text>\n",
       "</g>\n",
       "<!-- p1&#45;&#45;p5 -->\n",
       "<g id=\"edge4\" class=\"edge\">\n",
       "<title>p1&#45;&#45;p5</title>\n",
       "<path fill=\"none\" stroke=\"black\" d=\"M1700.23,-162.98C1735.31,-149.05 1777.93,-132.12 1809.55,-119.55\"/>\n",
       "</g>\n",
       "<!-- p3 -->\n",
       "<g id=\"node3\" class=\"node\">\n",
       "<title>p3</title>\n",
       "<polygon fill=\"none\" stroke=\"black\" points=\"1658,-38 0,-38 0,0 1658,0 1658,-38\"/>\n",
       "<text text-anchor=\"middle\" x=\"829\" y=\"-22.8\" font-family=\"Times-Roman\" font-size=\"14.00\">Csv SCAN [s3://seanome&#45;kmerseek/scope&#45;benchmark/pipeline&#45;outputs/2024&#45;10&#45;08__protein_k5&#45;20/sourmash/multisearch/astral&#45;scopedom&#45;seqres&#45;gd&#45;sel&#45;gs&#45;bib&#45;40&#45;2.08.part_001.fa&#45;&#45;in&#45;&#45;astral&#45;scopedom&#45;seqres&#45;gd&#45;sel&#45;gs&#45;bib&#45;40&#45;2.08.part_001.fa.protein.10.multisearch.csv]</text>\n",
       "<text text-anchor=\"middle\" x=\"829\" y=\"-7.8\" font-family=\"Times-Roman\" font-size=\"14.00\">π */13;</text>\n",
       "</g>\n",
       "<!-- p2&#45;&#45;p3 -->\n",
       "<g id=\"edge2\" class=\"edge\">\n",
       "<title>p2&#45;&#45;p3</title>\n",
       "<path fill=\"none\" stroke=\"black\" d=\"M1332.35,-87.94C1235.28,-74.84 1075.83,-53.32 962.42,-38.01\"/>\n",
       "</g>\n",
       "<!-- p4 -->\n",
       "<g id=\"node4\" class=\"node\">\n",
       "<title>p4</title>\n",
       "<polygon fill=\"none\" stroke=\"black\" points=\"2340,-38 1676,-38 1676,0 2340,0 2340,-38\"/>\n",
       "<text text-anchor=\"middle\" x=\"2008\" y=\"-22.8\" font-family=\"Times-Roman\" font-size=\"14.00\">Parquet SCAN [s3://seanome&#45;kmerseek/scope&#45;benchmark/reference_files/scop.e.2.08.query_metadata.pq]</text>\n",
       "<text text-anchor=\"middle\" x=\"2008\" y=\"-7.8\" font-family=\"Times-Roman\" font-size=\"14.00\">π */10;</text>\n",
       "</g>\n",
       "<!-- p2&#45;&#45;p4 -->\n",
       "<g id=\"edge3\" class=\"edge\">\n",
       "<title>p2&#45;&#45;p4</title>\n",
       "<path fill=\"none\" stroke=\"black\" d=\"M1503.57,-75.88C1506.74,-75.21 1509.89,-74.58 1513,-74 1597.75,-58.1 1691.61,-46.39 1774.61,-38.02\"/>\n",
       "</g>\n",
       "</g>\n",
       "</svg>\n"
      ],
      "text/plain": [
       "<LazyFrame at 0x7F7E63B8DAC0>"
      ]
     },
     "execution_count": 55,
     "metadata": {},
     "output_type": "execute_result"
    }
   ],
   "source": [
    "multisearch_metadata = multisearch.join(query_metadata, on=\"query_name\").join(\n",
    "    match_metadata, on=\"match_name\"\n",
    ")\n",
    "multisearch_metadata"
   ]
  },
  {
   "cell_type": "code",
   "execution_count": 56,
   "id": "d5ed5590-36ff-4c5b-9457-1e8d8797ddda",
   "metadata": {},
   "outputs": [],
   "source": [
    "check_same_cols = get_args(SCOP_LINEAGES)"
   ]
  },
  {
   "cell_type": "code",
   "execution_count": 57,
   "id": "cccbacac-0a25-4434-92f2-67b2c058d609",
   "metadata": {},
   "outputs": [
    {
     "data": {
      "text/html": [
       "<h4>NAIVE QUERY PLAN</h4><p>run <b>LazyFrame.show_graph()</b> to see the optimized version</p><?xml version=\"1.0\" encoding=\"UTF-8\" standalone=\"no\"?>\n",
       "<!DOCTYPE svg PUBLIC \"-//W3C//DTD SVG 1.1//EN\"\n",
       " \"http://www.w3.org/Graphics/SVG/1.1/DTD/svg11.dtd\">\n",
       "<!-- Generated by graphviz version 2.44.0 (0)\n",
       " -->\n",
       "<!-- Title: polars_query Pages: 1 -->\n",
       "<svg width=\"2348pt\" height=\"512pt\"\n",
       " viewBox=\"0.00 0.00 2348.00 512.00\" xmlns=\"http://www.w3.org/2000/svg\" xmlns:xlink=\"http://www.w3.org/1999/xlink\">\n",
       "<g id=\"graph0\" class=\"graph\" transform=\"scale(1 1) rotate(0) translate(4 508)\">\n",
       "<title>polars_query</title>\n",
       "<polygon fill=\"white\" stroke=\"transparent\" points=\"-4,4 -4,-508 2344,-508 2344,4 -4,4\"/>\n",
       "<!-- p1 -->\n",
       "<g id=\"node1\" class=\"node\">\n",
       "<title>p1</title>\n",
       "<polygon fill=\"none\" stroke=\"black\" points=\"1901,-504 1371,-504 1371,-468 1901,-468 1901,-504\"/>\n",
       "<text text-anchor=\"middle\" x=\"1636\" y=\"-482.3\" font-family=\"Times-Roman\" font-size=\"14.00\">WITH COLUMNS [[(col(&quot;query_class&quot;)) == (col(&quot;match_class&quot;))].alias(&quot;same_class&quot;)]</text>\n",
       "</g>\n",
       "<!-- p2 -->\n",
       "<g id=\"node2\" class=\"node\">\n",
       "<title>p2</title>\n",
       "<polygon fill=\"none\" stroke=\"black\" points=\"1887.5,-432 1384.5,-432 1384.5,-396 1887.5,-396 1887.5,-432\"/>\n",
       "<text text-anchor=\"middle\" x=\"1636\" y=\"-410.3\" font-family=\"Times-Roman\" font-size=\"14.00\">WITH COLUMNS [[(col(&quot;query_fold&quot;)) == (col(&quot;match_fold&quot;))].alias(&quot;same_fold&quot;)]</text>\n",
       "</g>\n",
       "<!-- p1&#45;&#45;p2 -->\n",
       "<g id=\"edge1\" class=\"edge\">\n",
       "<title>p1&#45;&#45;p2</title>\n",
       "<path fill=\"none\" stroke=\"black\" d=\"M1636,-467.7C1636,-456.85 1636,-442.92 1636,-432.1\"/>\n",
       "</g>\n",
       "<!-- p3 -->\n",
       "<g id=\"node3\" class=\"node\">\n",
       "<title>p3</title>\n",
       "<polygon fill=\"none\" stroke=\"black\" points=\"1960.5,-360 1311.5,-360 1311.5,-324 1960.5,-324 1960.5,-360\"/>\n",
       "<text text-anchor=\"middle\" x=\"1636\" y=\"-338.3\" font-family=\"Times-Roman\" font-size=\"14.00\">WITH COLUMNS [[(col(&quot;query_superfamily&quot;)) == (col(&quot;match_superfamily&quot;))].alias(&quot;same_superfamily&quot;)]</text>\n",
       "</g>\n",
       "<!-- p2&#45;&#45;p3 -->\n",
       "<g id=\"edge2\" class=\"edge\">\n",
       "<title>p2&#45;&#45;p3</title>\n",
       "<path fill=\"none\" stroke=\"black\" d=\"M1636,-395.7C1636,-384.85 1636,-370.92 1636,-360.1\"/>\n",
       "</g>\n",
       "<!-- p4 -->\n",
       "<g id=\"node4\" class=\"node\">\n",
       "<title>p4</title>\n",
       "<polygon fill=\"none\" stroke=\"black\" points=\"1908.5,-288 1363.5,-288 1363.5,-252 1908.5,-252 1908.5,-288\"/>\n",
       "<text text-anchor=\"middle\" x=\"1636\" y=\"-266.3\" font-family=\"Times-Roman\" font-size=\"14.00\">WITH COLUMNS [[(col(&quot;query_family&quot;)) == (col(&quot;match_family&quot;))].alias(&quot;same_family&quot;)]</text>\n",
       "</g>\n",
       "<!-- p3&#45;&#45;p4 -->\n",
       "<g id=\"edge3\" class=\"edge\">\n",
       "<title>p3&#45;&#45;p4</title>\n",
       "<path fill=\"none\" stroke=\"black\" d=\"M1636,-323.7C1636,-312.85 1636,-298.92 1636,-288.1\"/>\n",
       "</g>\n",
       "<!-- p5 -->\n",
       "<g id=\"node5\" class=\"node\">\n",
       "<title>p5</title>\n",
       "<polygon fill=\"none\" stroke=\"black\" points=\"1723,-216 1549,-216 1549,-163 1723,-163 1723,-216\"/>\n",
       "<text text-anchor=\"middle\" x=\"1636\" y=\"-200.8\" font-family=\"Times-Roman\" font-size=\"14.00\">JOIN INNER</text>\n",
       "<text text-anchor=\"middle\" x=\"1636\" y=\"-185.8\" font-family=\"Times-Roman\" font-size=\"14.00\">left: [col(&quot;match_name&quot;)];</text>\n",
       "<text text-anchor=\"middle\" x=\"1636\" y=\"-170.8\" font-family=\"Times-Roman\" font-size=\"14.00\">right: [col(&quot;match_name&quot;)]</text>\n",
       "</g>\n",
       "<!-- p4&#45;&#45;p5 -->\n",
       "<g id=\"edge4\" class=\"edge\">\n",
       "<title>p4&#45;&#45;p5</title>\n",
       "<path fill=\"none\" stroke=\"black\" d=\"M1636,-251.97C1636,-241.51 1636,-227.9 1636,-216.16\"/>\n",
       "</g>\n",
       "<!-- p6 -->\n",
       "<g id=\"node6\" class=\"node\">\n",
       "<title>p6</title>\n",
       "<polygon fill=\"none\" stroke=\"black\" points=\"1503.5,-127 1332.5,-127 1332.5,-74 1503.5,-74 1503.5,-127\"/>\n",
       "<text text-anchor=\"middle\" x=\"1418\" y=\"-111.8\" font-family=\"Times-Roman\" font-size=\"14.00\">JOIN INNER</text>\n",
       "<text text-anchor=\"middle\" x=\"1418\" y=\"-96.8\" font-family=\"Times-Roman\" font-size=\"14.00\">left: [col(&quot;query_name&quot;)];</text>\n",
       "<text text-anchor=\"middle\" x=\"1418\" y=\"-81.8\" font-family=\"Times-Roman\" font-size=\"14.00\">right: [col(&quot;query_name&quot;)]</text>\n",
       "</g>\n",
       "<!-- p5&#45;&#45;p6 -->\n",
       "<g id=\"edge5\" class=\"edge\">\n",
       "<title>p5&#45;&#45;p6</title>\n",
       "<path fill=\"none\" stroke=\"black\" d=\"M1572.07,-162.98C1543.67,-151.65 1510.33,-138.35 1481.93,-127.01\"/>\n",
       "</g>\n",
       "<!-- p9 -->\n",
       "<g id=\"node9\" class=\"node\">\n",
       "<title>p9</title>\n",
       "<polygon fill=\"none\" stroke=\"black\" points=\"2188.5,-119.5 1521.5,-119.5 1521.5,-81.5 2188.5,-81.5 2188.5,-119.5\"/>\n",
       "<text text-anchor=\"middle\" x=\"1855\" y=\"-104.3\" font-family=\"Times-Roman\" font-size=\"14.00\">Parquet SCAN [s3://seanome&#45;kmerseek/scope&#45;benchmark/reference_files/scop.e.2.08.match_metadata.pq]</text>\n",
       "<text text-anchor=\"middle\" x=\"1855\" y=\"-89.3\" font-family=\"Times-Roman\" font-size=\"14.00\">π */6;</text>\n",
       "</g>\n",
       "<!-- p5&#45;&#45;p9 -->\n",
       "<g id=\"edge8\" class=\"edge\">\n",
       "<title>p5&#45;&#45;p9</title>\n",
       "<path fill=\"none\" stroke=\"black\" d=\"M1700.23,-162.98C1735.31,-149.05 1777.93,-132.12 1809.55,-119.55\"/>\n",
       "</g>\n",
       "<!-- p7 -->\n",
       "<g id=\"node7\" class=\"node\">\n",
       "<title>p7</title>\n",
       "<polygon fill=\"none\" stroke=\"black\" points=\"1658,-38 0,-38 0,0 1658,0 1658,-38\"/>\n",
       "<text text-anchor=\"middle\" x=\"829\" y=\"-22.8\" font-family=\"Times-Roman\" font-size=\"14.00\">Csv SCAN [s3://seanome&#45;kmerseek/scope&#45;benchmark/pipeline&#45;outputs/2024&#45;10&#45;08__protein_k5&#45;20/sourmash/multisearch/astral&#45;scopedom&#45;seqres&#45;gd&#45;sel&#45;gs&#45;bib&#45;40&#45;2.08.part_001.fa&#45;&#45;in&#45;&#45;astral&#45;scopedom&#45;seqres&#45;gd&#45;sel&#45;gs&#45;bib&#45;40&#45;2.08.part_001.fa.protein.10.multisearch.csv]</text>\n",
       "<text text-anchor=\"middle\" x=\"829\" y=\"-7.8\" font-family=\"Times-Roman\" font-size=\"14.00\">π */13;</text>\n",
       "</g>\n",
       "<!-- p6&#45;&#45;p7 -->\n",
       "<g id=\"edge6\" class=\"edge\">\n",
       "<title>p6&#45;&#45;p7</title>\n",
       "<path fill=\"none\" stroke=\"black\" d=\"M1332.35,-87.94C1235.28,-74.84 1075.83,-53.32 962.42,-38.01\"/>\n",
       "</g>\n",
       "<!-- p8 -->\n",
       "<g id=\"node8\" class=\"node\">\n",
       "<title>p8</title>\n",
       "<polygon fill=\"none\" stroke=\"black\" points=\"2340,-38 1676,-38 1676,0 2340,0 2340,-38\"/>\n",
       "<text text-anchor=\"middle\" x=\"2008\" y=\"-22.8\" font-family=\"Times-Roman\" font-size=\"14.00\">Parquet SCAN [s3://seanome&#45;kmerseek/scope&#45;benchmark/reference_files/scop.e.2.08.query_metadata.pq]</text>\n",
       "<text text-anchor=\"middle\" x=\"2008\" y=\"-7.8\" font-family=\"Times-Roman\" font-size=\"14.00\">π */10;</text>\n",
       "</g>\n",
       "<!-- p6&#45;&#45;p8 -->\n",
       "<g id=\"edge7\" class=\"edge\">\n",
       "<title>p6&#45;&#45;p8</title>\n",
       "<path fill=\"none\" stroke=\"black\" d=\"M1503.57,-75.88C1506.74,-75.21 1509.89,-74.58 1513,-74 1597.75,-58.1 1691.61,-46.39 1774.61,-38.02\"/>\n",
       "</g>\n",
       "</g>\n",
       "</svg>\n"
      ],
      "text/plain": [
       "<LazyFrame at 0x7F7E63B8F110>"
      ]
     },
     "execution_count": 57,
     "metadata": {},
     "output_type": "execute_result"
    }
   ],
   "source": [
    "for col in check_same_cols:\n",
    "    query = f\"query_{col}\"\n",
    "    match = f\"match_{col}\"\n",
    "    same = f\"same_{col}\"\n",
    "\n",
    "    multisearch_metadata = multisearch_metadata.with_columns(\n",
    "        (pl.col(query) == pl.col(match)).alias(same)\n",
    "    )\n",
    "multisearch_metadata"
   ]
  },
  {
   "cell_type": "code",
   "execution_count": 58,
   "id": "56f2370c-5faa-42e4-9648-d73a614324ef",
   "metadata": {},
   "outputs": [
    {
     "name": "stderr",
     "output_type": "stream",
     "text": [
      "/tmp/ipykernel_8064/383488162.py:1: PerformanceWarning: Determining the column names of a LazyFrame requires resolving its schema, which is a potentially expensive operation. Use `LazyFrame.collect_schema().names()` to get the column names without this warning.\n",
      "  multisearch_metadata.columns\n"
     ]
    },
    {
     "data": {
      "text/plain": [
       "['query_name',\n",
       " 'query_md5',\n",
       " 'match_name',\n",
       " 'match_md5',\n",
       " 'containment',\n",
       " 'max_containment',\n",
       " 'jaccard',\n",
       " 'intersect_hashes',\n",
       " 'prob_overlap',\n",
       " 'prob_overlap_adjusted',\n",
       " 'containment_adjusted',\n",
       " 'containment_adjusted_log10',\n",
       " 'tf_idf_score',\n",
       " 'query_family',\n",
       " 'query_superfamily',\n",
       " 'query_fold',\n",
       " 'query_class',\n",
       " 'n_family',\n",
       " 'n_superfamily',\n",
       " 'n_fold',\n",
       " 'n_class',\n",
       " 'query_scop_id',\n",
       " 'match_family',\n",
       " 'match_superfamily',\n",
       " 'match_fold',\n",
       " 'match_class',\n",
       " 'match_scop_id',\n",
       " 'same_family',\n",
       " 'same_superfamily',\n",
       " 'same_fold',\n",
       " 'same_class']"
      ]
     },
     "execution_count": 58,
     "metadata": {},
     "output_type": "execute_result"
    }
   ],
   "source": [
    "multisearch_metadata.columns"
   ]
  },
  {
   "cell_type": "code",
   "execution_count": 59,
   "id": "5adaf9e2-e46c-46a5-8360-0aa2fe637305",
   "metadata": {},
   "outputs": [
    {
     "data": {
      "text/plain": [
       "16725"
      ]
     },
     "execution_count": 59,
     "metadata": {},
     "output_type": "execute_result"
    }
   ],
   "source": [
    "multisearch_metadata.select(pl.len()).collect().item()"
   ]
  },
  {
   "cell_type": "code",
   "execution_count": 45,
   "id": "d433568c-c3c2-443f-9558-c48b20deeedd",
   "metadata": {},
   "outputs": [
    {
     "name": "stderr",
     "output_type": "stream",
     "text": [
      "/tmp/ipykernel_8064/2424175793.py:1: PerformanceWarning: Determining the width of a LazyFrame requires resolving its schema, which is a potentially expensive operation. Use `LazyFrame.collect_schema().len()` to get the width without this warning.\n",
      "  multisearch_metadata.width\n"
     ]
    },
    {
     "data": {
      "text/plain": [
       "31"
      ]
     },
     "execution_count": 45,
     "metadata": {},
     "output_type": "execute_result"
    }
   ],
   "source": [
    "multisearch_metadata.width"
   ]
  },
  {
   "cell_type": "code",
   "execution_count": 46,
   "id": "e0c80abf-e408-4e03-9f95-24915de453c8",
   "metadata": {},
   "outputs": [
    {
     "name": "stderr",
     "output_type": "stream",
     "text": [
      "/tmp/ipykernel_8064/3771303307.py:1: PerformanceWarning: Resolving the schema of a LazyFrame is a potentially expensive operation. Use `LazyFrame.collect_schema()` to get the schema without this warning.\n",
      "  multisearch_metadata.schema\n"
     ]
    },
    {
     "data": {
      "text/plain": [
       "Schema([('query_name', String),\n",
       "        ('query_md5', String),\n",
       "        ('match_name', String),\n",
       "        ('match_md5', String),\n",
       "        ('containment', Float64),\n",
       "        ('max_containment', Float64),\n",
       "        ('jaccard', Float64),\n",
       "        ('intersect_hashes', Float64),\n",
       "        ('prob_overlap', Float64),\n",
       "        ('prob_overlap_adjusted', Float64),\n",
       "        ('containment_adjusted', Float64),\n",
       "        ('containment_adjusted_log10', Float64),\n",
       "        ('tf_idf_score', Float64),\n",
       "        ('query_family', Categorical(ordering='physical')),\n",
       "        ('query_superfamily', Categorical(ordering='physical')),\n",
       "        ('query_fold', Categorical(ordering='physical')),\n",
       "        ('query_class', Categorical(ordering='physical')),\n",
       "        ('n_family', Int64),\n",
       "        ('n_superfamily', Int64),\n",
       "        ('n_fold', Int64),\n",
       "        ('n_class', Int64),\n",
       "        ('query_scop_id', String),\n",
       "        ('match_family', Categorical(ordering='physical')),\n",
       "        ('match_superfamily', Categorical(ordering='physical')),\n",
       "        ('match_fold', Categorical(ordering='physical')),\n",
       "        ('match_class', Categorical(ordering='physical')),\n",
       "        ('match_scop_id', String),\n",
       "        ('same_family', Boolean),\n",
       "        ('same_superfamily', Boolean),\n",
       "        ('same_fold', Boolean),\n",
       "        ('same_class', Boolean)])"
      ]
     },
     "execution_count": 46,
     "metadata": {},
     "output_type": "execute_result"
    }
   ],
   "source": [
    "multisearch_metadata.schema"
   ]
  },
  {
   "cell_type": "markdown",
   "id": "d10325f3-f33b-4c9a-ae0d-f7917f27615f",
   "metadata": {},
   "source": [
    "## Test end-to-end parser run"
   ]
  },
  {
   "cell_type": "code",
   "execution_count": 82,
   "id": "64517ff3-0147-40bf-97b7-adfc563d425b",
   "metadata": {},
   "outputs": [
    {
     "name": "stdout",
     "output_type": "stream",
     "text": [
      "\n",
      "\n",
      "--- moltype: protein, ksize: 10 --\n",
      "\n",
      "Reading s3://seanome-kmerseek/scope-benchmark/pipeline-outputs/2024-10-08__protein_k5-20/sourmash/multisearch/astral-scopedom-seqres-gd-sel-gs-bib-40-2.08.part_001.fa--in--astral-scopedom-seqres-gd-sel-gs-bib-40-2.08.part_001.fa.protein.10.multisearch.csv ...\n",
      "\tDone\n",
      "\n",
      "Writing 16725 rows and 33 columns to s3://seanome-kmerseek/scope-benchmark/analysis-outputs/2024-10-08__protein_k5-20/00_cleaned_multisearch_results/scope40.multisearch.protein.k10.pq ...\n"
     ]
    },
    {
     "name": "stderr",
     "output_type": "stream",
     "text": [
      "/home/ec2-user/2024-kmerseek-analysis/notebooks/polars_utils.py:34: PerformanceWarning: Determining the column names of a LazyFrame requires resolving its schema, which is a potentially expensive operation. Use `LazyFrame.collect_schema().names()` to get the column names without this warning.\n",
      "  f\"\\nWriting {df.select(pl.len()).collect().item()} rows and {len(df.columns)} columns to {pq} ...\"\n"
     ]
    },
    {
     "name": "stdout",
     "output_type": "stream",
     "text": [
      "\tDone.\n",
      "\n",
      "Writing 832 rows and 33 columns to s3://seanome-kmerseek/scope-benchmark/analysis-outputs/2024-10-08__protein_k5-20/00_cleaned_multisearch_results/scope40.multisearch.protein.k10.filtered.pq ...\n",
      "\tDone.\n"
     ]
    },
    {
     "data": {
      "text/html": [
       "<div><style>\n",
       ".dataframe > thead > tr,\n",
       ".dataframe > tbody > tr {\n",
       "  text-align: right;\n",
       "  white-space: pre-wrap;\n",
       "}\n",
       "</style>\n",
       "<small>shape: (5, 33)</small><table border=\"1\" class=\"dataframe\"><thead><tr><th>query_name</th><th>query_md5</th><th>match_name</th><th>match_md5</th><th>containment</th><th>max_containment</th><th>jaccard</th><th>intersect_hashes</th><th>prob_overlap</th><th>prob_overlap_adjusted</th><th>containment_adjusted</th><th>containment_adjusted_log10</th><th>tf_idf_score</th><th>query_family</th><th>query_superfamily</th><th>query_fold</th><th>query_class</th><th>n_family</th><th>n_superfamily</th><th>n_fold</th><th>n_class</th><th>query_scop_id</th><th>match_family</th><th>match_superfamily</th><th>match_fold</th><th>match_class</th><th>match_scop_id</th><th>same_family</th><th>same_superfamily</th><th>same_fold</th><th>same_class</th><th>ksize</th><th>moltype</th></tr><tr><td>str</td><td>str</td><td>str</td><td>str</td><td>f64</td><td>f64</td><td>f64</td><td>f64</td><td>f64</td><td>f64</td><td>f64</td><td>f64</td><td>f64</td><td>cat</td><td>cat</td><td>cat</td><td>cat</td><td>i64</td><td>i64</td><td>i64</td><td>i64</td><td>str</td><td>cat</td><td>cat</td><td>cat</td><td>cat</td><td>str</td><td>bool</td><td>bool</td><td>bool</td><td>bool</td><td>i32</td><td>str</td></tr></thead><tbody><tr><td>&quot;d1fp3a_ a.102.1.3 (A:) N-acyl-…</td><td>&quot;8358aea911022b5d3d233702fff0a4…</td><td>&quot;d2gz6a_ a.102.1.0 (A:) automat…</td><td>&quot;aada4480cca78dcc9ea2f35d1fa6f2…</td><td>0.010178</td><td>0.01061</td><td>0.005222</td><td>4.0</td><td>2.2470e-12</td><td>0.000518</td><td>19.664533</td><td>1.293684</td><td>0.096987</td><td>&quot;a.102.1.3&quot;</td><td>&quot;a.102.1&quot;</td><td>&quot;a.102&quot;</td><td>&quot;a&quot;</td><td>2</td><td>28</td><td>55</td><td>2644</td><td>&quot;d1fp3a_&quot;</td><td>&quot;a.102.1.0&quot;</td><td>&quot;a.102.1&quot;</td><td>&quot;a.102&quot;</td><td>&quot;a&quot;</td><td>&quot;d2gz6a_&quot;</td><td>false</td><td>true</td><td>true</td><td>true</td><td>10</td><td>&quot;protein&quot;</td></tr><tr><td>&quot;d1ks8a1 a.102.1.2 (A:2-433) En…</td><td>&quot;7eb43ac76d78fa95e5f567cad82cbc…</td><td>&quot;d1ia6a_ a.102.1.2 (A:) Nonproc…</td><td>&quot;fd71810b383181e09539c279a3a540…</td><td>0.004728</td><td>0.004739</td><td>0.002372</td><td>2.0</td><td>1.1235e-12</td><td>0.000259</td><td>18.269885</td><td>1.261736</td><td>0.045054</td><td>&quot;a.102.1.2&quot;</td><td>&quot;a.102.1&quot;</td><td>&quot;a.102&quot;</td><td>&quot;a&quot;</td><td>10</td><td>28</td><td>55</td><td>2644</td><td>&quot;d1ks8a1&quot;</td><td>&quot;a.102.1.2&quot;</td><td>&quot;a.102.1&quot;</td><td>&quot;a.102&quot;</td><td>&quot;a&quot;</td><td>&quot;d1ia6a_&quot;</td><td>true</td><td>true</td><td>true</td><td>true</td><td>10</td><td>&quot;protein&quot;</td></tr><tr><td>&quot;d1ia6a_ a.102.1.2 (A:) Nonproc…</td><td>&quot;fd71810b383181e09539c279a3a540…</td><td>&quot;d1ks8a1 a.102.1.2 (A:2-433) En…</td><td>&quot;7eb43ac76d78fa95e5f567cad82cbc…</td><td>0.004739</td><td>0.004739</td><td>0.002372</td><td>2.0</td><td>1.1235e-12</td><td>0.000259</td><td>18.313179</td><td>1.262764</td><td>0.045161</td><td>&quot;a.102.1.2&quot;</td><td>&quot;a.102.1&quot;</td><td>&quot;a.102&quot;</td><td>&quot;a&quot;</td><td>10</td><td>28</td><td>55</td><td>2644</td><td>&quot;d1ia6a_&quot;</td><td>&quot;a.102.1.2&quot;</td><td>&quot;a.102.1&quot;</td><td>&quot;a.102&quot;</td><td>&quot;a&quot;</td><td>&quot;d1ks8a1&quot;</td><td>true</td><td>true</td><td>true</td><td>true</td><td>10</td><td>&quot;protein&quot;</td></tr><tr><td>&quot;d1xwta1 a.102.1.2 (A:1-404) En…</td><td>&quot;3f99b13f5f5a92491e7c5285e5bac6…</td><td>&quot;d1wu4a1 a.102.1.2 (A:6-381) Xy…</td><td>&quot;70d077485c5d0efa9f4372c21db317…</td><td>0.005063</td><td>0.00545</td><td>0.002632</td><td>2.0</td><td>1.1235e-12</td><td>0.000259</td><td>19.564966</td><td>1.291479</td><td>0.048248</td><td>&quot;a.102.1.2&quot;</td><td>&quot;a.102.1&quot;</td><td>&quot;a.102&quot;</td><td>&quot;a&quot;</td><td>10</td><td>28</td><td>55</td><td>2644</td><td>&quot;d1xwta1&quot;</td><td>&quot;a.102.1.2&quot;</td><td>&quot;a.102.1&quot;</td><td>&quot;a.102&quot;</td><td>&quot;a&quot;</td><td>&quot;d1wu4a1&quot;</td><td>true</td><td>true</td><td>true</td><td>true</td><td>10</td><td>&quot;protein&quot;</td></tr><tr><td>&quot;d1wu4a1 a.102.1.2 (A:6-381) Xy…</td><td>&quot;70d077485c5d0efa9f4372c21db317…</td><td>&quot;d1xwta1 a.102.1.2 (A:1-404) En…</td><td>&quot;3f99b13f5f5a92491e7c5285e5bac6…</td><td>0.00545</td><td>0.00545</td><td>0.002632</td><td>2.0</td><td>1.1235e-12</td><td>0.000259</td><td>21.057661</td><td>1.32341</td><td>0.051929</td><td>&quot;a.102.1.2&quot;</td><td>&quot;a.102.1&quot;</td><td>&quot;a.102&quot;</td><td>&quot;a&quot;</td><td>10</td><td>28</td><td>55</td><td>2644</td><td>&quot;d1wu4a1&quot;</td><td>&quot;a.102.1.2&quot;</td><td>&quot;a.102.1&quot;</td><td>&quot;a.102&quot;</td><td>&quot;a&quot;</td><td>&quot;d1xwta1&quot;</td><td>true</td><td>true</td><td>true</td><td>true</td><td>10</td><td>&quot;protein&quot;</td></tr></tbody></table></div>"
      ],
      "text/plain": [
       "shape: (5, 33)\n",
       "┌────────────┬────────────┬────────────┬────────────┬───┬───────────┬────────────┬───────┬─────────┐\n",
       "│ query_name ┆ query_md5  ┆ match_name ┆ match_md5  ┆ … ┆ same_fold ┆ same_class ┆ ksize ┆ moltype │\n",
       "│ ---        ┆ ---        ┆ ---        ┆ ---        ┆   ┆ ---       ┆ ---        ┆ ---   ┆ ---     │\n",
       "│ str        ┆ str        ┆ str        ┆ str        ┆   ┆ bool      ┆ bool       ┆ i32   ┆ str     │\n",
       "╞════════════╪════════════╪════════════╪════════════╪═══╪═══════════╪════════════╪═══════╪═════════╡\n",
       "│ d1fp3a_    ┆ 8358aea911 ┆ d2gz6a_    ┆ aada4480cc ┆ … ┆ true      ┆ true       ┆ 10    ┆ protein │\n",
       "│ a.102.1.3  ┆ 022b5d3d23 ┆ a.102.1.0  ┆ a78dcc9ea2 ┆   ┆           ┆            ┆       ┆         │\n",
       "│ (A:)       ┆ 3702fff0a4 ┆ (A:)       ┆ f35d1fa6f2 ┆   ┆           ┆            ┆       ┆         │\n",
       "│ N-acyl-…   ┆ …          ┆ automat…   ┆ …          ┆   ┆           ┆            ┆       ┆         │\n",
       "│ d1ks8a1    ┆ 7eb43ac76d ┆ d1ia6a_    ┆ fd71810b38 ┆ … ┆ true      ┆ true       ┆ 10    ┆ protein │\n",
       "│ a.102.1.2  ┆ 78fa95e5f5 ┆ a.102.1.2  ┆ 3181e09539 ┆   ┆           ┆            ┆       ┆         │\n",
       "│ (A:2-433)  ┆ 67cad82cbc ┆ (A:)       ┆ c279a3a540 ┆   ┆           ┆            ┆       ┆         │\n",
       "│ En…        ┆ …          ┆ Nonproc…   ┆ …          ┆   ┆           ┆            ┆       ┆         │\n",
       "│ d1ia6a_    ┆ fd71810b38 ┆ d1ks8a1    ┆ 7eb43ac76d ┆ … ┆ true      ┆ true       ┆ 10    ┆ protein │\n",
       "│ a.102.1.2  ┆ 3181e09539 ┆ a.102.1.2  ┆ 78fa95e5f5 ┆   ┆           ┆            ┆       ┆         │\n",
       "│ (A:)       ┆ c279a3a540 ┆ (A:2-433)  ┆ 67cad82cbc ┆   ┆           ┆            ┆       ┆         │\n",
       "│ Nonproc…   ┆ …          ┆ En…        ┆ …          ┆   ┆           ┆            ┆       ┆         │\n",
       "│ d1xwta1    ┆ 3f99b13f5f ┆ d1wu4a1    ┆ 70d077485c ┆ … ┆ true      ┆ true       ┆ 10    ┆ protein │\n",
       "│ a.102.1.2  ┆ 5a92491e7c ┆ a.102.1.2  ┆ 5d0efa9f43 ┆   ┆           ┆            ┆       ┆         │\n",
       "│ (A:1-404)  ┆ 5285e5bac6 ┆ (A:6-381)  ┆ 72c21db317 ┆   ┆           ┆            ┆       ┆         │\n",
       "│ En…        ┆ …          ┆ Xy…        ┆ …          ┆   ┆           ┆            ┆       ┆         │\n",
       "│ d1wu4a1    ┆ 70d077485c ┆ d1xwta1    ┆ 3f99b13f5f ┆ … ┆ true      ┆ true       ┆ 10    ┆ protein │\n",
       "│ a.102.1.2  ┆ 5d0efa9f43 ┆ a.102.1.2  ┆ 5a92491e7c ┆   ┆           ┆            ┆       ┆         │\n",
       "│ (A:6-381)  ┆ 72c21db317 ┆ (A:1-404)  ┆ 5285e5bac6 ┆   ┆           ┆            ┆       ┆         │\n",
       "│ Xy…        ┆ …          ┆ En…        ┆ …          ┆   ┆           ┆            ┆       ┆         │\n",
       "└────────────┴────────────┴────────────┴────────────┴───┴───────────┴────────────┴───────┴─────────┘"
      ]
     },
     "execution_count": 82,
     "metadata": {},
     "output_type": "execute_result"
    }
   ],
   "source": [
    "parser = process_scop_sourmash_multisearch_polars.MultisearchParser(\n",
    "    query_metadata=query_metadata,\n",
    "    match_metadata=match_metadata,\n",
    "    pipeline_outdir=outdir,\n",
    "    moltype=\"protein\",\n",
    "    ksize=10,\n",
    "    analysis_outdir=analysis_outdir,\n",
    "    verbose=True,\n",
    ")\n",
    "lf = parser.process_multisearch_scop_results()\n",
    "lf.head().collect()"
   ]
  },
  {
   "cell_type": "code",
   "execution_count": 78,
   "id": "2c111881-fb8f-4dda-9266-a8e90b679500",
   "metadata": {},
   "outputs": [
    {
     "name": "stdout",
     "output_type": "stream",
     "text": [
      "2024-10-18 18:29:36     149184 scope40.multisearch.protein.k10.filtered.pq\n"
     ]
    }
   ],
   "source": [
    "! aws s3 ls s3://seanome-kmerseek/scope-benchmark/analysis-outputs/2024-10-08__protein_k5-20/00_cleaned_multisearch_results/scope40.multisearch.protein.k10.filtered.pq"
   ]
  },
  {
   "cell_type": "code",
   "execution_count": 71,
   "id": "045b25f2-dde0-4ad6-ac25-555f37ffebcd",
   "metadata": {},
   "outputs": [
    {
     "name": "stdout",
     "output_type": "stream",
     "text": [
      "> \u001b[0;32m<frozen posixpath>\u001b[0m(259)\u001b[0;36mexpanduser\u001b[0;34m()\u001b[0m\n",
      "\n"
     ]
    },
    {
     "name": "stdin",
     "output_type": "stream",
     "text": [
      "ipdb>  ll\n"
     ]
    },
    {
     "name": "stdout",
     "output_type": "stream",
     "text": [
      "*** could not get source code\n"
     ]
    },
    {
     "name": "stdin",
     "output_type": "stream",
     "text": [
      "ipdb>  u\n"
     ]
    },
    {
     "name": "stdout",
     "output_type": "stream",
     "text": [
      "> \u001b[0;32m/home/ec2-user/miniconda3/envs/2024-kmerseek-analysis-polars/lib/python3.12/site-packages/polars/_utils/various.py\u001b[0m(220)\u001b[0;36mnormalize_filepath\u001b[0;34m()\u001b[0m\n",
      "\u001b[0;32m    218 \u001b[0;31m    \u001b[0;34m\"\"\"Create a string path, expanding the home directory if present.\"\"\"\u001b[0m\u001b[0;34m\u001b[0m\u001b[0;34m\u001b[0m\u001b[0m\n",
      "\u001b[0m\u001b[0;32m    219 \u001b[0;31m    \u001b[0;31m# don't use pathlib here as it modifies slashes (s3:// -> s3:/)\u001b[0m\u001b[0;34m\u001b[0m\u001b[0;34m\u001b[0m\u001b[0m\n",
      "\u001b[0m\u001b[0;32m--> 220 \u001b[0;31m    \u001b[0mpath\u001b[0m \u001b[0;34m=\u001b[0m \u001b[0mos\u001b[0m\u001b[0;34m.\u001b[0m\u001b[0mpath\u001b[0m\u001b[0;34m.\u001b[0m\u001b[0mexpanduser\u001b[0m\u001b[0;34m(\u001b[0m\u001b[0mpath\u001b[0m\u001b[0;34m)\u001b[0m  \u001b[0;31m# noqa: PTH111\u001b[0m\u001b[0;34m\u001b[0m\u001b[0;34m\u001b[0m\u001b[0m\n",
      "\u001b[0m\u001b[0;32m    221 \u001b[0;31m    if (\n",
      "\u001b[0m\u001b[0;32m    222 \u001b[0;31m        \u001b[0mcheck_not_directory\u001b[0m\u001b[0;34m\u001b[0m\u001b[0;34m\u001b[0m\u001b[0m\n",
      "\u001b[0m\n"
     ]
    },
    {
     "name": "stdin",
     "output_type": "stream",
     "text": [
      "ipdb>  ll\n"
     ]
    },
    {
     "name": "stdout",
     "output_type": "stream",
     "text": [
      "\u001b[1;32m    217 \u001b[0m\u001b[0;32mdef\u001b[0m \u001b[0mnormalize_filepath\u001b[0m\u001b[0;34m(\u001b[0m\u001b[0mpath\u001b[0m\u001b[0;34m:\u001b[0m \u001b[0mstr\u001b[0m \u001b[0;34m|\u001b[0m \u001b[0mPath\u001b[0m\u001b[0;34m,\u001b[0m \u001b[0;34m*\u001b[0m\u001b[0;34m,\u001b[0m \u001b[0mcheck_not_directory\u001b[0m\u001b[0;34m:\u001b[0m \u001b[0mbool\u001b[0m \u001b[0;34m=\u001b[0m \u001b[0;32mTrue\u001b[0m\u001b[0;34m)\u001b[0m \u001b[0;34m->\u001b[0m \u001b[0mstr\u001b[0m\u001b[0;34m:\u001b[0m\u001b[0;34m\u001b[0m\u001b[0;34m\u001b[0m\u001b[0m\n",
      "\u001b[1;32m    218 \u001b[0m    \u001b[0;34m\"\"\"Create a string path, expanding the home directory if present.\"\"\"\u001b[0m\u001b[0;34m\u001b[0m\u001b[0;34m\u001b[0m\u001b[0m\n",
      "\u001b[1;32m    219 \u001b[0m    \u001b[0;31m# don't use pathlib here as it modifies slashes (s3:// -> s3:/)\u001b[0m\u001b[0;34m\u001b[0m\u001b[0;34m\u001b[0m\u001b[0m\n",
      "\u001b[0;32m--> 220 \u001b[0;31m    \u001b[0mpath\u001b[0m \u001b[0;34m=\u001b[0m \u001b[0mos\u001b[0m\u001b[0;34m.\u001b[0m\u001b[0mpath\u001b[0m\u001b[0;34m.\u001b[0m\u001b[0mexpanduser\u001b[0m\u001b[0;34m(\u001b[0m\u001b[0mpath\u001b[0m\u001b[0;34m)\u001b[0m  \u001b[0;31m# noqa: PTH111\u001b[0m\u001b[0;34m\u001b[0m\u001b[0;34m\u001b[0m\u001b[0m\n",
      "\u001b[0m\u001b[1;32m    221 \u001b[0m    if (\n",
      "\u001b[1;32m    222 \u001b[0m        \u001b[0mcheck_not_directory\u001b[0m\u001b[0;34m\u001b[0m\u001b[0;34m\u001b[0m\u001b[0m\n",
      "\u001b[1;32m    223 \u001b[0m        \u001b[0;32mand\u001b[0m \u001b[0mos\u001b[0m\u001b[0;34m.\u001b[0m\u001b[0mpath\u001b[0m\u001b[0;34m.\u001b[0m\u001b[0mexists\u001b[0m\u001b[0;34m(\u001b[0m\u001b[0mpath\u001b[0m\u001b[0;34m)\u001b[0m  \u001b[0;31m# noqa: PTH110\u001b[0m\u001b[0;34m\u001b[0m\u001b[0;34m\u001b[0m\u001b[0m\n",
      "\u001b[1;32m    224 \u001b[0m        \u001b[0;32mand\u001b[0m \u001b[0mos\u001b[0m\u001b[0;34m.\u001b[0m\u001b[0mpath\u001b[0m\u001b[0;34m.\u001b[0m\u001b[0misdir\u001b[0m\u001b[0;34m(\u001b[0m\u001b[0mpath\u001b[0m\u001b[0;34m)\u001b[0m  \u001b[0;31m# noqa: PTH112\u001b[0m\u001b[0;34m\u001b[0m\u001b[0;34m\u001b[0m\u001b[0m\n",
      "\u001b[1;32m    225 \u001b[0m    \u001b[0;34m)\u001b[0m\u001b[0;34m:\u001b[0m\u001b[0;34m\u001b[0m\u001b[0;34m\u001b[0m\u001b[0m\n",
      "\u001b[1;32m    226 \u001b[0m        \u001b[0mmsg\u001b[0m \u001b[0;34m=\u001b[0m \u001b[0;34mf\"\u001b[0m\u001b[0;34mexpected a file path; \u001b[0m\u001b[0;34m{\u001b[0m\u001b[0mpath\u001b[0m\u001b[0;34m!\u001b[0m\u001b[0mr\u001b[0m\u001b[0;34m}\u001b[0m\u001b[0;34m is a directory\u001b[0m\u001b[0;34m\"\u001b[0m\u001b[0;34m\u001b[0m\u001b[0;34m\u001b[0m\u001b[0m\n",
      "\u001b[1;32m    227 \u001b[0m        \u001b[0;32mraise\u001b[0m \u001b[0mIsADirectoryError\u001b[0m\u001b[0;34m(\u001b[0m\u001b[0mmsg\u001b[0m\u001b[0;34m)\u001b[0m\u001b[0;34m\u001b[0m\u001b[0;34m\u001b[0m\u001b[0m\n",
      "\u001b[1;32m    228 \u001b[0m    \u001b[0;32mreturn\u001b[0m \u001b[0mpath\u001b[0m\u001b[0;34m\u001b[0m\u001b[0;34m\u001b[0m\u001b[0m\n",
      "\u001b[1;32m    229 \u001b[0m\u001b[0;34m\u001b[0m\u001b[0m\n",
      "\n"
     ]
    },
    {
     "name": "stdin",
     "output_type": "stream",
     "text": [
      "ipdb>  os.path.expanduser('s3://seanome-kmerseek/scope-benchmark/analysis-outputs/')\n"
     ]
    },
    {
     "name": "stdout",
     "output_type": "stream",
     "text": [
      "'s3://seanome-kmerseek/scope-benchmark/analysis-outputs/'\n"
     ]
    },
    {
     "name": "stdin",
     "output_type": "stream",
     "text": [
      "ipdb>  q\n"
     ]
    }
   ],
   "source": [
    "%debug"
   ]
  },
  {
   "cell_type": "code",
   "execution_count": 18,
   "id": "bfa55058-c822-4f2a-943b-e19a215744bb",
   "metadata": {},
   "outputs": [
    {
     "data": {
      "text/html": [
       "<h4>NAIVE QUERY PLAN</h4><p>run <b>LazyFrame.show_graph()</b> to see the optimized version</p><?xml version=\"1.0\" encoding=\"UTF-8\" standalone=\"no\"?>\n",
       "<!DOCTYPE svg PUBLIC \"-//W3C//DTD SVG 1.1//EN\"\n",
       " \"http://www.w3.org/Graphics/SVG/1.1/DTD/svg11.dtd\">\n",
       "<!-- Generated by graphviz version 2.44.0 (0)\n",
       " -->\n",
       "<!-- Title: polars_query Pages: 1 -->\n",
       "<svg width=\"1666pt\" height=\"118pt\"\n",
       " viewBox=\"0.00 0.00 1666.00 118.00\" xmlns=\"http://www.w3.org/2000/svg\" xmlns:xlink=\"http://www.w3.org/1999/xlink\">\n",
       "<g id=\"graph0\" class=\"graph\" transform=\"scale(1 1) rotate(0) translate(4 114)\">\n",
       "<title>polars_query</title>\n",
       "<polygon fill=\"white\" stroke=\"transparent\" points=\"-4,4 -4,-114 1662,-114 1662,4 -4,4\"/>\n",
       "<!-- p1 -->\n",
       "<g id=\"node1\" class=\"node\">\n",
       "<title>p1</title>\n",
       "<polygon fill=\"none\" stroke=\"black\" points=\"856,-110 802,-110 802,-74 856,-74 856,-110\"/>\n",
       "<text text-anchor=\"middle\" x=\"829\" y=\"-88.3\" font-family=\"Times-Roman\" font-size=\"14.00\">π 1/1</text>\n",
       "</g>\n",
       "<!-- p2 -->\n",
       "<g id=\"node2\" class=\"node\">\n",
       "<title>p2</title>\n",
       "<polygon fill=\"none\" stroke=\"black\" points=\"1658,-38 0,-38 0,0 1658,0 1658,-38\"/>\n",
       "<text text-anchor=\"middle\" x=\"829\" y=\"-22.8\" font-family=\"Times-Roman\" font-size=\"14.00\">Csv SCAN [s3://seanome&#45;kmerseek/scope&#45;benchmark/pipeline&#45;outputs/2024&#45;10&#45;08__protein_k5&#45;20/sourmash/multisearch/astral&#45;scopedom&#45;seqres&#45;gd&#45;sel&#45;gs&#45;bib&#45;40&#45;2.08.part_001.fa&#45;&#45;in&#45;&#45;astral&#45;scopedom&#45;seqres&#45;gd&#45;sel&#45;gs&#45;bib&#45;40&#45;2.08.part_001.fa.protein.10.multisearch.csv]</text>\n",
       "<text text-anchor=\"middle\" x=\"829\" y=\"-7.8\" font-family=\"Times-Roman\" font-size=\"14.00\">π */13;</text>\n",
       "</g>\n",
       "<!-- p1&#45;&#45;p2 -->\n",
       "<g id=\"edge1\" class=\"edge\">\n",
       "<title>p1&#45;&#45;p2</title>\n",
       "<path fill=\"none\" stroke=\"black\" d=\"M829,-73.81C829,-62.98 829,-49.01 829,-38.02\"/>\n",
       "</g>\n",
       "</g>\n",
       "</svg>\n"
      ],
      "text/plain": [
       "<LazyFrame at 0x7F7E002D5490>"
      ]
     },
     "execution_count": 18,
     "metadata": {},
     "output_type": "execute_result"
    }
   ],
   "source": [
    "name_series = multisearch.select(\"query_name\")\n",
    "name_series"
   ]
  },
  {
   "cell_type": "code",
   "execution_count": 20,
   "id": "4f708270-59ac-4057-b510-796e7f44f36c",
   "metadata": {},
   "outputs": [
    {
     "data": {
      "text/html": [
       "<div><style>\n",
       ".dataframe > thead > tr,\n",
       ".dataframe > tbody > tr {\n",
       "  text-align: right;\n",
       "  white-space: pre-wrap;\n",
       "}\n",
       "</style>\n",
       "<small>shape: (15_177, 1)</small><table border=\"1\" class=\"dataframe\"><thead><tr><th>query_name</th></tr><tr><td>str</td></tr></thead><tbody><tr><td>&quot;d1fnfa2 b.1.2.1 (A:1236-1326) …</td></tr><tr><td>&quot;d6jbra_ c.87.1.0 (A:) automate…</td></tr><tr><td>&quot;d1yuda1 b.82.1.16 (A:1-158) Hy…</td></tr><tr><td>&quot;d3equa1 d.175.1.0 (A:63-237) a…</td></tr><tr><td>&quot;d1wdkc1 c.95.1.1 (C:2-263) Fat…</td></tr><tr><td>&hellip;</td></tr><tr><td>&quot;d2zkmx3 b.55.1.1 (X:11-141) Ph…</td></tr><tr><td>&quot;d1svia_ c.37.1.8 (A:) Probable…</td></tr><tr><td>&quot;d1td6a_ a.234.1.1 (A:) Hypothe…</td></tr><tr><td>&quot;d2wy4a_ a.1.1.0 (A:) automated…</td></tr><tr><td>&quot;d4e01a2 d.122.1.4 (A:186-375) …</td></tr></tbody></table></div>"
      ],
      "text/plain": [
       "shape: (15_177, 1)\n",
       "┌─────────────────────────────────┐\n",
       "│ query_name                      │\n",
       "│ ---                             │\n",
       "│ str                             │\n",
       "╞═════════════════════════════════╡\n",
       "│ d1fnfa2 b.1.2.1 (A:1236-1326) … │\n",
       "│ d6jbra_ c.87.1.0 (A:) automate… │\n",
       "│ d1yuda1 b.82.1.16 (A:1-158) Hy… │\n",
       "│ d3equa1 d.175.1.0 (A:63-237) a… │\n",
       "│ d1wdkc1 c.95.1.1 (C:2-263) Fat… │\n",
       "│ …                               │\n",
       "│ d2zkmx3 b.55.1.1 (X:11-141) Ph… │\n",
       "│ d1svia_ c.37.1.8 (A:) Probable… │\n",
       "│ d1td6a_ a.234.1.1 (A:) Hypothe… │\n",
       "│ d2wy4a_ a.1.1.0 (A:) automated… │\n",
       "│ d4e01a2 d.122.1.4 (A:186-375) … │\n",
       "└─────────────────────────────────┘"
      ]
     },
     "execution_count": 20,
     "metadata": {},
     "output_type": "execute_result"
    }
   ],
   "source": [
    "name_series.unique().collect()"
   ]
  },
  {
   "cell_type": "code",
   "execution_count": null,
   "id": "12cfb870-6264-4e0d-816c-ed41ceee14ec",
   "metadata": {},
   "outputs": [],
   "source": []
  }
 ],
 "metadata": {
  "kernelspec": {
   "display_name": "Python [conda env:2024-kmerseek-analysis-polars]",
   "language": "python",
   "name": "conda-env-2024-kmerseek-analysis-polars-py"
  },
  "language_info": {
   "codemirror_mode": {
    "name": "ipython",
    "version": 3
   },
   "file_extension": ".py",
   "mimetype": "text/x-python",
   "name": "python",
   "nbconvert_exporter": "python",
   "pygments_lexer": "ipython3",
   "version": "3.12.7"
  }
 },
 "nbformat": 4,
 "nbformat_minor": 5
}
