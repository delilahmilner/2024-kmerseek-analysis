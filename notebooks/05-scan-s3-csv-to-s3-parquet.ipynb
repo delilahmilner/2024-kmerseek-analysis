{
 "cells": [
  {
   "cell_type": "code",
   "execution_count": 16,
   "id": "74768072-fc94-4e7f-82a7-5cfb6ce55bba",
   "metadata": {},
   "outputs": [],
   "source": [
    "import boto3\n",
    "import polars as pl\n",
    "\n",
    "pl.Config.set_verbose(True)\n",
    "\n",
    "import process_scop_sourmash_multisearch_polars\n",
    "\n",
    "# Handwritten local modules\n",
    "from polars_utils import scan_csv_sink_parquet, sink_parquet"
   ]
  },
  {
   "cell_type": "code",
   "execution_count": 17,
   "id": "76c826c2-1902-45b8-bad3-566e3ce8385d",
   "metadata": {},
   "outputs": [],
   "source": [
    "s3 = boto3.resource(\"s3\")"
   ]
  },
  {
   "cell_type": "code",
   "execution_count": 18,
   "id": "7d934996-2e36-4bb3-9bc4-be6068f09a6d",
   "metadata": {},
   "outputs": [],
   "source": [
    "# !pip install boto3"
   ]
  },
  {
   "cell_type": "code",
   "execution_count": 3,
   "id": "2ed3dc68-0eb5-4504-9097-1c38f72090cd",
   "metadata": {},
   "outputs": [],
   "source": [
    "csv = \"s3://seanome-kmerseek/scope-benchmark/pipeline-outputs/2024-10-09__hp_k20-60/sourmash/multisearch/astral-scopedom-seqres-gd-sel-gs-bib-40-2.08.part_001.fa--in--astral-scopedom-seqres-gd-sel-gs-bib-40-2.08.part_001.fa.hp.10.multisearch.csv\""
   ]
  },
  {
   "cell_type": "code",
   "execution_count": 10,
   "id": "80ddae7b-8598-45ec-99e7-98332ecc26b5",
   "metadata": {},
   "outputs": [
    {
     "name": "stderr",
     "output_type": "stream",
     "text": [
      "/home/ec2-user/tmp/lecdzqve: 100%|█████████████████████████████████████████████████████████████████████████████████████| 94.4G/94.4G [24:20<00:00, 64.6MB/s]\n",
      "/home/ec2-user/2024-kmerseek-analysis/notebooks/polars_utils.py:40: PerformanceWarning: Determining the column names of a LazyFrame requires resolving its schema, which is a potentially expensive operation. Use `LazyFrame.collect_schema().names()` to get the column names without this warning.\n",
      "  f\"\\nWriting {df.select(pl.len()).collect().item()} rows and {len(df.columns)} columns to {pq} ...\"\n"
     ]
    },
    {
     "name": "stdout",
     "output_type": "stream",
     "text": [
      "\n",
      "Writing 225197519 rows and 13 columns to s3://seanome-kmerseek/scope-benchmark/pipeline-outputs/2024-10-09__hp_k20-60/sourmash/multisearch/astral-scopedom-seqres-gd-sel-gs-bib-40-2.08.part_001.fa--in--astral-scopedom-seqres-gd-sel-gs-bib-40-2.08.part_001.fa.hp.10.multisearch.pq ...\n"
     ]
    },
    {
     "name": "stderr",
     "output_type": "stream",
     "text": [
      "RUN STREAMING PIPELINE\n",
      "[csv -> parquet_sink]\n",
      "STREAMING CHUNK SIZE: 3846 rows\n",
      "/tmp/tmpnxp98qit: 100%|█████████████████████████████████████████████████████████████████████████████████████████████████| 11.9G/11.9G [00:45<00:00, 262MB/s]\n"
     ]
    },
    {
     "name": "stdout",
     "output_type": "stream",
     "text": [
      "\tDone.\n"
     ]
    },
    {
     "data": {
      "text/plain": [
       "'s3://seanome-kmerseek/scope-benchmark/pipeline-outputs/2024-10-09__hp_k20-60/sourmash/multisearch/astral-scopedom-seqres-gd-sel-gs-bib-40-2.08.part_001.fa--in--astral-scopedom-seqres-gd-sel-gs-bib-40-2.08.part_001.fa.hp.10.multisearch.pq'"
      ]
     },
     "execution_count": 10,
     "metadata": {},
     "output_type": "execute_result"
    }
   ],
   "source": [
    "pq = scan_csv_sink_parquet(csv, verbose=True)\n",
    "pq"
   ]
  },
  {
   "cell_type": "markdown",
   "id": "b5871a79-9cc2-4158-8ede-5bd5b18563bc",
   "metadata": {},
   "source": [
    "### Look at the difference in file sizes between the CSV and parquet files"
   ]
  },
  {
   "cell_type": "code",
   "execution_count": 14,
   "id": "c92cacc5-4397-4070-80eb-b49da969cde9",
   "metadata": {},
   "outputs": [
    {
     "name": "stdout",
     "output_type": "stream",
     "text": [
      "2024-10-11 23:54:22   87.9 GiB astral-scopedom-seqres-gd-sel-gs-bib-40-2.08.part_001.fa--in--astral-scopedom-seqres-gd-sel-gs-bib-40-2.08.part_001.fa.hp.10.multisearch.csv\n"
     ]
    }
   ],
   "source": [
    "! aws s3 ls --human-readable $csv"
   ]
  },
  {
   "cell_type": "code",
   "execution_count": 15,
   "id": "8890c289-d244-44e0-9d26-5f31cadde6c9",
   "metadata": {},
   "outputs": [
    {
     "name": "stdout",
     "output_type": "stream",
     "text": [
      "2024-10-29 21:16:54   11.1 GiB astral-scopedom-seqres-gd-sel-gs-bib-40-2.08.part_001.fa--in--astral-scopedom-seqres-gd-sel-gs-bib-40-2.08.part_001.fa.hp.10.multisearch.pq\n"
     ]
    }
   ],
   "source": [
    "! aws s3 ls --human-readable $pq"
   ]
  },
  {
   "cell_type": "markdown",
   "id": "510a989f-ac1c-4a19-90ca-552629dd2f2c",
   "metadata": {},
   "source": [
    "# Apply to all hp files"
   ]
  },
  {
   "cell_type": "markdown",
   "id": "d9a35971-0e7e-4152-aba0-07b65cc2439e",
   "metadata": {},
   "source": [
    "## Read metadata"
   ]
  },
  {
   "cell_type": "markdown",
   "id": "e0a1a123-01de-4902-b4f0-bfe37711d65b",
   "metadata": {},
   "source": [
    "### Read Query Metadata"
   ]
  },
  {
   "cell_type": "code",
   "execution_count": 21,
   "id": "86ca4902-d6d4-4a67-b403-5af756090b08",
   "metadata": {},
   "outputs": [
    {
     "name": "stderr",
     "output_type": "stream",
     "text": [
      "Async thread count: 4\n",
      "/home/ec2-user/miniconda3/envs/2024-kmerseek-analysis-polars/lib/python3.12/site-packages/IPython/core/formatters.py:347: UserWarning: '(default_)region' not set; polars will try to get it from bucket\n",
      "\n",
      "Set the region manually to silence this warning.\n",
      "  return method()\n"
     ]
    },
    {
     "data": {
      "text/html": [
       "<h4>NAIVE QUERY PLAN</h4><p>run <b>LazyFrame.show_graph()</b> to see the optimized version</p><?xml version=\"1.0\" encoding=\"UTF-8\" standalone=\"no\"?>\n",
       "<!DOCTYPE svg PUBLIC \"-//W3C//DTD SVG 1.1//EN\"\n",
       " \"http://www.w3.org/Graphics/SVG/1.1/DTD/svg11.dtd\">\n",
       "<!-- Generated by graphviz version 2.44.0 (0)\n",
       " -->\n",
       "<!-- Title: polars_query Pages: 1 -->\n",
       "<svg width=\"672pt\" height=\"46pt\"\n",
       " viewBox=\"0.00 0.00 672.00 46.00\" xmlns=\"http://www.w3.org/2000/svg\" xmlns:xlink=\"http://www.w3.org/1999/xlink\">\n",
       "<g id=\"graph0\" class=\"graph\" transform=\"scale(1 1) rotate(0) translate(4 42)\">\n",
       "<title>polars_query</title>\n",
       "<polygon fill=\"white\" stroke=\"transparent\" points=\"-4,4 -4,-42 668,-42 668,4 -4,4\"/>\n",
       "<!-- p1 -->\n",
       "<g id=\"node1\" class=\"node\">\n",
       "<title>p1</title>\n",
       "<polygon fill=\"none\" stroke=\"black\" points=\"664,-38 0,-38 0,0 664,0 664,-38\"/>\n",
       "<text text-anchor=\"middle\" x=\"332\" y=\"-22.8\" font-family=\"Times-Roman\" font-size=\"14.00\">Parquet SCAN [s3://seanome&#45;kmerseek/scope&#45;benchmark/reference_files/scop.e.2.08.query_metadata.pq]</text>\n",
       "<text text-anchor=\"middle\" x=\"332\" y=\"-7.8\" font-family=\"Times-Roman\" font-size=\"14.00\">π */10;</text>\n",
       "</g>\n",
       "</g>\n",
       "</svg>\n"
      ],
      "text/plain": [
       "<LazyFrame at 0x7F89C019F3E0>"
      ]
     },
     "execution_count": 21,
     "metadata": {},
     "output_type": "execute_result"
    }
   ],
   "source": [
    "query_metadata = pl.scan_parquet(\n",
    "    \"s3://seanome-kmerseek/scope-benchmark/reference_files/scop.e.2.08.query_metadata.pq\"\n",
    ")\n",
    "query_metadata"
   ]
  },
  {
   "cell_type": "markdown",
   "id": "b5344e99-2746-4dcc-9e75-b1ac5880b060",
   "metadata": {},
   "source": [
    "### Read match metadata"
   ]
  },
  {
   "cell_type": "code",
   "execution_count": 22,
   "id": "f0991ef9-51b2-4346-9472-79ab08625f38",
   "metadata": {},
   "outputs": [
    {
     "data": {
      "text/html": [
       "<h4>NAIVE QUERY PLAN</h4><p>run <b>LazyFrame.show_graph()</b> to see the optimized version</p><?xml version=\"1.0\" encoding=\"UTF-8\" standalone=\"no\"?>\n",
       "<!DOCTYPE svg PUBLIC \"-//W3C//DTD SVG 1.1//EN\"\n",
       " \"http://www.w3.org/Graphics/SVG/1.1/DTD/svg11.dtd\">\n",
       "<!-- Generated by graphviz version 2.44.0 (0)\n",
       " -->\n",
       "<!-- Title: polars_query Pages: 1 -->\n",
       "<svg width=\"675pt\" height=\"46pt\"\n",
       " viewBox=\"0.00 0.00 675.00 46.00\" xmlns=\"http://www.w3.org/2000/svg\" xmlns:xlink=\"http://www.w3.org/1999/xlink\">\n",
       "<g id=\"graph0\" class=\"graph\" transform=\"scale(1 1) rotate(0) translate(4 42)\">\n",
       "<title>polars_query</title>\n",
       "<polygon fill=\"white\" stroke=\"transparent\" points=\"-4,4 -4,-42 671,-42 671,4 -4,4\"/>\n",
       "<!-- p1 -->\n",
       "<g id=\"node1\" class=\"node\">\n",
       "<title>p1</title>\n",
       "<polygon fill=\"none\" stroke=\"black\" points=\"667,-38 0,-38 0,0 667,0 667,-38\"/>\n",
       "<text text-anchor=\"middle\" x=\"333.5\" y=\"-22.8\" font-family=\"Times-Roman\" font-size=\"14.00\">Parquet SCAN [s3://seanome&#45;kmerseek/scope&#45;benchmark/reference_files/scop.e.2.08.match_metadata.pq]</text>\n",
       "<text text-anchor=\"middle\" x=\"333.5\" y=\"-7.8\" font-family=\"Times-Roman\" font-size=\"14.00\">π */6;</text>\n",
       "</g>\n",
       "</g>\n",
       "</svg>\n"
      ],
      "text/plain": [
       "<LazyFrame at 0x7F89BE5DC8C0>"
      ]
     },
     "execution_count": 22,
     "metadata": {},
     "output_type": "execute_result"
    }
   ],
   "source": [
    "match_metadata = pl.scan_parquet(\n",
    "    \"s3://seanome-kmerseek/scope-benchmark/reference_files/scop.e.2.08.match_metadata.pq\"\n",
    ")\n",
    "match_metadata"
   ]
  },
  {
   "cell_type": "markdown",
   "id": "0773f579-fdc8-4a5f-83c5-09ba90025697",
   "metadata": {},
   "source": [
    "## Iterate over all files"
   ]
  },
  {
   "cell_type": "code",
   "execution_count": null,
   "id": "af0105a8-96c8-41b8-90fa-196e733b9830",
   "metadata": {},
   "outputs": [
    {
     "name": "stderr",
     "output_type": "stream",
     "text": [
      "/home/ec2-user/tmp/i8i06qp3: 100%|██████████████████████████████████████████████████████████████████████████████████████| 89.7G/89.7G [10:34<00:00, 142MB/s]\n",
      "/home/ec2-user/2024-kmerseek-analysis/notebooks/polars_utils.py:40: PerformanceWarning: Determining the column names of a LazyFrame requires resolving its schema, which is a potentially expensive operation. Use `LazyFrame.collect_schema().names()` to get the column names without this warning.\n",
      "  f\"\\nWriting {df.select(pl.len()).collect().item()} rows and {len(df.columns)} columns to {pq} ...\"\n",
      "RUN STREAMING PIPELINE\n",
      "[csv -> parquet_sink]\n",
      "STREAMING CHUNK SIZE: 3846 rows\n"
     ]
    },
    {
     "name": "stdout",
     "output_type": "stream",
     "text": [
      "\n",
      "Writing 214441887 rows and 13 columns to s3://seanome-kmerseek/scope-benchmark/pipeline-outputs/2024-10-09__hp_k20-60/sourmash/multisearch/astral-scopedom-seqres-gd-sel-gs-bib-40-2.08.part_001.fa--in--astral-scopedom-seqres-gd-sel-gs-bib-40-2.08.part_001.fa.hp.11.multisearch.pq ...\n"
     ]
    },
    {
     "name": "stderr",
     "output_type": "stream",
     "text": [
      "/tmp/tmpwbe7r2yl: 100%|███████████████████████████████████████████████████████████████████████████████████████████████████████████████████████| 11.1G/11.1G [00:37<00:00, 298MB/s]\n"
     ]
    },
    {
     "name": "stdout",
     "output_type": "stream",
     "text": [
      "\tDone.\n"
     ]
    },
    {
     "name": "stderr",
     "output_type": "stream",
     "text": [
      "/home/ec2-user/tmp/5q0woao9: 100%|████████████████████████████████████████████████████████████████████████████████████████████████████████████| 80.3G/80.3G [09:04<00:00, 147MB/s]\n"
     ]
    },
    {
     "name": "stdout",
     "output_type": "stream",
     "text": [
      "\n",
      "Writing 191843183 rows and 13 columns to s3://seanome-kmerseek/scope-benchmark/pipeline-outputs/2024-10-09__hp_k20-60/sourmash/multisearch/astral-scopedom-seqres-gd-sel-gs-bib-40-2.08.part_001.fa--in--astral-scopedom-seqres-gd-sel-gs-bib-40-2.08.part_001.fa.hp.12.multisearch.pq ...\n"
     ]
    },
    {
     "name": "stderr",
     "output_type": "stream",
     "text": [
      "RUN STREAMING PIPELINE\n",
      "[csv -> parquet_sink]\n",
      "STREAMING CHUNK SIZE: 3846 rows\n",
      "/tmp/tmpqajbcrc0: 100%|███████████████████████████████████████████████████████████████████████████████████████████████████████████████████████| 9.65G/9.65G [00:35<00:00, 268MB/s]\n"
     ]
    },
    {
     "name": "stdout",
     "output_type": "stream",
     "text": [
      "\tDone.\n"
     ]
    },
    {
     "name": "stderr",
     "output_type": "stream",
     "text": [
      "/home/ec2-user/tmp/4q9kd29g: 100%|███████████████████████████████████████████████████████████████████████████████████████████████████████████| 65.5G/65.5G [11:30<00:00, 94.8MB/s]\n"
     ]
    }
   ],
   "source": [
    "# Skip ksizes 5 and 6 for now because those files are enormous, 2.3 GiB for k=5 and 175 MiB for k=6\n",
    "# # -> Figure out how to use polars later\n",
    "# ksizes = range(7, 21)\n",
    "# moltype = \"protein\"\n",
    "\n",
    "\n",
    "moltype_info = {\n",
    "    # \"protein\": dict(\n",
    "    #     ksizes=range(5, 21),\n",
    "    #     pipeline_outdir=\"s3://seanome-kmerseek/scope-benchmark/pipeline-outputs/2024-10-08__protein_k5-20\",\n",
    "    #     analysis_outdir=\"s3://seanome-kmerseek/scope-benchmark/analysis-outputs/protein\",\n",
    "    # ),\n",
    "    # \"dayhoff\": dict(\n",
    "    #     ksizes=range(5, 21),\n",
    "    #     pipeline_outdir=\"s3://seanome-kmerseek/scope-benchmark/pipeline-outputs/2024-10-09__dayhoff_k5-20\",\n",
    "    #     analysis_outdir=\"s3://seanome-kmerseek/scope-benchmark/analysis-outputs/dayhoff\",\n",
    "    # ),\n",
    "    \"hp\": dict(\n",
    "        ksizes=range(11, 20),\n",
    "        pipeline_outdir=\"s3://seanome-kmerseek/scope-benchmark/pipeline-outputs/2024-10-09__hp_k20-60\",\n",
    "        analysis_outdir=\"s3://seanome-kmerseek/scope-benchmark/analysis-outputs/hp/\",\n",
    "    ),\n",
    "}\n",
    "\n",
    "for moltype, info in moltype_info.items():\n",
    "    print(f\"-- {moltype} --\")\n",
    "    ksizes = info[\"ksizes\"]\n",
    "    analysis_outdir = info[\"analysis_outdir\"]\n",
    "    pipeline_outdir = info[\"pipeline_outdir\"]\n",
    "    for ksize in ksizes:\n",
    "        print(f\"\\t-- {ksize} --\")\n",
    "        try:\n",
    "            parser = process_scop_sourmash_multisearch_polars.MultisearchParser(\n",
    "                query_metadata=query_metadata,\n",
    "                match_metadata=match_metadata,\n",
    "                pipeline_outdir=pipeline_outdir,\n",
    "                moltype=moltype,\n",
    "                ksize=ksize,\n",
    "                analysis_outdir=analysis_outdir,\n",
    "                verbose=True,\n",
    "            )\n",
    "            csv = parser._make_multisearch_csv()\n",
    "            scan_csv_sink_parquet(csv, verbose=True)\n",
    "            # pq = csv.replace('.csv', '.pq')\n",
    "            # if not\n",
    "            # lf = parser.process_multisearch_scop_results()\n",
    "            # lf.head().collect()\n",
    "        except FileNotFoundError:\n",
    "            pass\n",
    "    # break\n",
    "multisearch_metadata_filtered.head()"
   ]
  },
  {
   "cell_type": "code",
   "execution_count": null,
   "id": "9fd5c66b-9ce1-4529-8780-d5a54c151cf2",
   "metadata": {},
   "outputs": [],
   "source": [
    "1+1"
   ]
  },
  {
   "cell_type": "code",
   "execution_count": null,
   "id": "52fb3d2b-df62-46ab-8ad2-79951a7be87d",
   "metadata": {},
   "outputs": [],
   "source": []
  }
 ],
 "metadata": {
  "kernelspec": {
   "display_name": "Python [conda env:2024-kmerseek-analysis-polars]",
   "language": "python",
   "name": "conda-env-2024-kmerseek-analysis-polars-py"
  },
  "language_info": {
   "codemirror_mode": {
    "name": "ipython",
    "version": 3
   },
   "file_extension": ".py",
   "mimetype": "text/x-python",
   "name": "python",
   "nbconvert_exporter": "python",
   "pygments_lexer": "ipython3",
   "version": "3.12.7"
  }
 },
 "nbformat": 4,
 "nbformat_minor": 5
}
