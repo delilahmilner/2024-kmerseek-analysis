{
 "cells": [
  {
   "cell_type": "markdown",
   "id": "c866294f-52e5-4491-845c-f1ed02f0223f",
   "metadata": {},
   "source": [
    "# Imports and setup"
   ]
  },
  {
   "cell_type": "markdown",
   "id": "b3c8a7a1-ef4d-41de-9219-25143882bb2e",
   "metadata": {},
   "source": [
    "### Auto-re-import python modules, useful for editing local files"
   ]
  },
  {
   "cell_type": "code",
   "execution_count": 4,
   "id": "359e82df-d6c5-4e51-ab68-97dd9a7746ca",
   "metadata": {
    "execution": {
     "iopub.execute_input": "2024-11-06T17:57:22.507300Z",
     "iopub.status.busy": "2024-11-06T17:57:22.507010Z",
     "iopub.status.idle": "2024-11-06T17:57:22.521116Z",
     "shell.execute_reply": "2024-11-06T17:57:22.520854Z",
     "shell.execute_reply.started": "2024-11-06T17:57:22.507287Z"
    }
   },
   "outputs": [
    {
     "name": "stdout",
     "output_type": "stream",
     "text": [
      "The autoreload extension is already loaded. To reload it, use:\n",
      "  %reload_ext autoreload\n"
     ]
    }
   ],
   "source": [
    "%load_ext autoreload\n",
    "%autoreload 2"
   ]
  },
  {
   "cell_type": "markdown",
   "id": "73f228f4-e18c-4adf-ad2e-1c8de0bd464c",
   "metadata": {},
   "source": [
    "## Imports"
   ]
  },
  {
   "cell_type": "code",
   "execution_count": 6,
   "id": "bd6d5ccc-4d7a-4ecb-968a-c51589a2ae75",
   "metadata": {
    "execution": {
     "iopub.execute_input": "2024-11-06T17:58:19.921311Z",
     "iopub.status.busy": "2024-11-06T17:58:19.921086Z",
     "iopub.status.idle": "2024-11-06T17:58:20.515458Z",
     "shell.execute_reply": "2024-11-06T17:58:20.515134Z",
     "shell.execute_reply.started": "2024-11-06T17:58:19.921298Z"
    }
   },
   "outputs": [
    {
     "name": "stderr",
     "output_type": "stream",
     "text": [
      "INFO:aiobotocore.credentials:Found credentials in shared credentials file: ~/.aws/credentials\n"
     ]
    }
   ],
   "source": [
    "import itertools\n",
    "import logging\n",
    "import os\n",
    "import warnings\n",
    "from collections import Counter\n",
    "\n",
    "import matplotlib as mpl\n",
    "import numpy as np\n",
    "import pandas as pd\n",
    "import polars as pl\n",
    "import seaborn as sns\n",
    "from tqdm import tqdm\n",
    "\n",
    "logging.basicConfig(level=logging.INFO)\n",
    "\n",
    "pl.Config.set_verbose()\n",
    "# mpl.rcParams[\"figure.max_open_warning\"] = 0\n",
    "\n",
    "from notifications import notify, notify_done\n",
    "from scop_constants import n_scop_cols, same_scop_cols\n",
    "from sensitivity_until_first_false_positive import (\n",
    "    sensitivity_until_first_false_positive,\n",
    "    tidify_sensitivity,\n",
    ")\n",
    "from sourmash_constants import sourmash_score_cols"
   ]
  },
  {
   "cell_type": "markdown",
   "id": "bd733c28-ca05-4a2d-8e1b-b00316ae037c",
   "metadata": {},
   "source": [
    "# Read in data"
   ]
  },
  {
   "cell_type": "code",
   "execution_count": 7,
   "id": "0b9fbc04-b484-4f5d-a803-2559332d6585",
   "metadata": {
    "execution": {
     "iopub.execute_input": "2024-11-06T17:58:21.703028Z",
     "iopub.status.busy": "2024-11-06T17:58:21.702789Z",
     "iopub.status.idle": "2024-11-06T17:58:21.717600Z",
     "shell.execute_reply": "2024-11-06T17:58:21.717300Z",
     "shell.execute_reply.started": "2024-11-06T17:58:21.703015Z"
    }
   },
   "outputs": [],
   "source": [
    "pq = \"/home/ec2-user/data/seanome-kmerseek/scope-benchmark/analysis-outputs/hp/00_cleaned_multisearch_results/scope40.multisearch.hp.k19.filtered.pq\""
   ]
  },
  {
   "cell_type": "markdown",
   "id": "99ede8ba-4042-4485-ae5f-c54eff283700",
   "metadata": {},
   "source": [
    "### Read one of the files for schema"
   ]
  },
  {
   "cell_type": "code",
   "execution_count": 8,
   "id": "af45facc-f5db-4654-b3df-56f50007b689",
   "metadata": {
    "execution": {
     "iopub.execute_input": "2024-11-06T17:58:22.229491Z",
     "iopub.status.busy": "2024-11-06T17:58:22.229187Z",
     "iopub.status.idle": "2024-11-06T17:58:22.454928Z",
     "shell.execute_reply": "2024-11-06T17:58:22.454616Z",
     "shell.execute_reply.started": "2024-11-06T17:58:22.229478Z"
    }
   },
   "outputs": [
    {
     "data": {
      "text/plain": [
       "{'query_name': String,\n",
       " 'query_md5': String,\n",
       " 'match_name': String,\n",
       " 'match_md5': String,\n",
       " 'containment': Float64,\n",
       " 'max_containment': Float64,\n",
       " 'jaccard': Float64,\n",
       " 'intersect_hashes': Float64,\n",
       " 'prob_overlap': Float64,\n",
       " 'prob_overlap_adjusted': Float64,\n",
       " 'containment_adjusted': Float64,\n",
       " 'containment_adjusted_log10': Float64,\n",
       " 'tf_idf_score': Float64,\n",
       " 'query_family': Categorical(ordering='physical'),\n",
       " 'query_superfamily': Categorical(ordering='physical'),\n",
       " 'query_fold': Categorical(ordering='physical'),\n",
       " 'query_class': Categorical(ordering='physical'),\n",
       " 'n_family': Int64,\n",
       " 'n_superfamily': Int64,\n",
       " 'n_fold': Int64,\n",
       " 'n_class': Int64,\n",
       " 'query_scop_id': String,\n",
       " 'match_family': Categorical(ordering='physical'),\n",
       " 'match_superfamily': Categorical(ordering='physical'),\n",
       " 'match_fold': Categorical(ordering='physical'),\n",
       " 'match_class': Categorical(ordering='physical'),\n",
       " 'match_scop_id': String,\n",
       " 'same_family': Boolean,\n",
       " 'same_superfamily': Boolean,\n",
       " 'same_fold': Boolean,\n",
       " 'same_class': Boolean,\n",
       " 'ksize': Int32,\n",
       " 'moltype': String,\n",
       " 'log10_prob_overlap_adjusted': Float64,\n",
       " 'log10_containment': Float64,\n",
       " 'log10_max_containment': Float64,\n",
       " 'log10_tf_idf_score': Float64,\n",
       " 'log10_jaccard': Float64}"
      ]
     },
     "execution_count": 8,
     "metadata": {},
     "output_type": "execute_result"
    }
   ],
   "source": [
    "multisearch_schema = pl.read_parquet_schema(pq)\n",
    "multisearch_schema"
   ]
  },
  {
   "cell_type": "markdown",
   "id": "fab3307b-dd1c-4107-9be3-da5f35c3861e",
   "metadata": {},
   "source": [
    "## Test initial function"
   ]
  },
  {
   "cell_type": "code",
   "execution_count": 9,
   "id": "13e4969e-0053-4886-b873-fc01d7971f97",
   "metadata": {
    "execution": {
     "iopub.execute_input": "2024-11-06T17:58:23.412810Z",
     "iopub.status.busy": "2024-11-06T17:58:23.412567Z",
     "iopub.status.idle": "2024-11-06T17:58:23.427518Z",
     "shell.execute_reply": "2024-11-06T17:58:23.427156Z",
     "shell.execute_reply.started": "2024-11-06T17:58:23.412797Z"
    }
   },
   "outputs": [],
   "source": [
    "# dfs = []\n",
    "\n",
    "# for sourmash_col in sourmash_score_cols:\n",
    "#     df = (\n",
    "#         multisearch.sort(sourmash_col, descending=True)\n",
    "#         # .head(1000)\n",
    "#         .group_by(\"query_scop_id\").agg(\n",
    "#             sensitivity_until_first_false_positive(same_scop_cols, n_scop_cols)\n",
    "#         )\n",
    "#     ).fill_nan(0)\n",
    "#     tidy = tidify_sensitivity(df)\n",
    "#     tidy = tidy.with_columns(pl.lit(sourmash_col).alias(\"sourmash_score\"))\n",
    "\n",
    "#     dfs.append(tidy)\n",
    "\n",
    "# sensitivity = pl.concat(dfs)\n",
    "# sensitivity = sensitivity.with_columns(pl.lit(\"hp\").alias(\"moltype\"))\n",
    "# sensitivity = sensitivity.with_columns(pl.lit(19).alias(\"ksize\"))\n",
    "# sensitivity"
   ]
  },
  {
   "cell_type": "code",
   "execution_count": 10,
   "id": "774b7335-66b1-4ac0-a166-7bcc4b154e1d",
   "metadata": {
    "execution": {
     "iopub.execute_input": "2024-11-06T17:58:23.646978Z",
     "iopub.status.busy": "2024-11-06T17:58:23.646595Z",
     "iopub.status.idle": "2024-11-06T17:58:23.661180Z",
     "shell.execute_reply": "2024-11-06T17:58:23.660919Z",
     "shell.execute_reply.started": "2024-11-06T17:58:23.646965Z"
    }
   },
   "outputs": [],
   "source": [
    "# dict(\n",
    "#     [\n",
    "#         (\"query_scop_id\", str),\n",
    "#         (\"lineage\", str),\n",
    "#         (\"sensitivity\", float),\n",
    "#         (\"sensitivity_rank\", int),\n",
    "#     ]\n",
    "# )"
   ]
  },
  {
   "cell_type": "markdown",
   "id": "c00a0d69-e730-4c76-8f96-d6938813d0f3",
   "metadata": {},
   "source": [
    "### Function to compute sensitivity"
   ]
  },
  {
   "cell_type": "code",
   "execution_count": 11,
   "id": "d0a3db55-68ce-4d64-afdc-109c1fca74ae",
   "metadata": {
    "execution": {
     "iopub.execute_input": "2024-11-06T17:58:23.935455Z",
     "iopub.status.busy": "2024-11-06T17:58:23.935071Z",
     "iopub.status.idle": "2024-11-06T17:58:23.949921Z",
     "shell.execute_reply": "2024-11-06T17:58:23.949652Z",
     "shell.execute_reply.started": "2024-11-06T17:58:23.935442Z"
    }
   },
   "outputs": [],
   "source": [
    "# def compute_sensitivity(multisearch, sourmash_cols, moltype, ksize):\n",
    "#     dfs = []\n",
    "\n",
    "#     for sourmash_col in tqdm(sourmash_score_cols):\n",
    "#         df = (\n",
    "#             multisearch.sort(sourmash_col, descending=True)\n",
    "#             # .head(1000)\n",
    "#             .group_by(\"query_scop_id\").agg(\n",
    "#                 sensitivity_until_first_false_positive(same_scop_cols, n_scop_cols)\n",
    "#             )\n",
    "#         ).fill_nan(0)\n",
    "#         tidy = tidify_sensitivity(df)\n",
    "#         tidy = tidy.with_columns(pl.lit(sourmash_col).alias(\"sourmash_score\"))\n",
    "#         dfs.append(tidy)\n",
    "\n",
    "#     sensitivity = pl.concat(dfs)\n",
    "#     # print(\"sensitivity.shape:\", sensitivity.shape)\n",
    "#     sensitivity = sensitivity.with_columns(pl.lit(moltype).alias(\"moltype\"))\n",
    "#     sensitivity = sensitivity.with_columns(pl.lit(ksize).alias(\"ksize\"))\n",
    "#     return sensitivity"
   ]
  },
  {
   "cell_type": "code",
   "execution_count": 12,
   "id": "ad5d11e4-b23d-49cb-ad1f-dc378718c6c9",
   "metadata": {
    "execution": {
     "iopub.execute_input": "2024-11-06T17:58:24.060216Z",
     "iopub.status.busy": "2024-11-06T17:58:24.059987Z",
     "iopub.status.idle": "2024-11-06T17:58:24.074684Z",
     "shell.execute_reply": "2024-11-06T17:58:24.074420Z",
     "shell.execute_reply.started": "2024-11-06T17:58:24.060203Z"
    }
   },
   "outputs": [],
   "source": [
    "from sensitivity_until_first_false_positive import compute_sensitivity"
   ]
  },
  {
   "cell_type": "markdown",
   "id": "e5d39005-6b22-4d8e-9cde-a3e8217c4103",
   "metadata": {},
   "source": [
    "## Iterate over all ksizes and moltypes"
   ]
  },
  {
   "cell_type": "code",
   "execution_count": null,
   "id": "a09f0448-15f4-4d8b-afac-f210657836c8",
   "metadata": {
    "execution": {
     "iopub.execute_input": "2024-11-06T17:58:24.863286Z",
     "iopub.status.busy": "2024-11-06T17:58:24.862962Z"
    }
   },
   "outputs": [
    {
     "name": "stderr",
     "output_type": "stream",
     "text": [
      "INFO:notifications:--- moltype: hp, ksize: 15 --\n",
      "INFO:notifications:pq out: /home/ec2-user/data/seanome-kmerseek/scope-benchmark/analysis-outputs/hp/01_sensitivity_until_first_false_positive/scope40.multisearch.hp.15.sensitivity_to_first_fp.pq\n",
      "INFO:notifications:Reading /home/ec2-user/data/seanome-kmerseek/scope-benchmark/analysis-outputs/hp/00_cleaned_multisearch_results/scope40.multisearch.hp.k15.filtered.pq ...\n",
      "INFO:notifications:Done.\n",
      "  0%|                                                                                                                                 | 0/8 [00:00<?, ?it/s]INFO:notifications:Writing 'containment' sensitivity dataframe to /tmp/tmpesfo2d44.parquet ...\n",
      "keys/aggregates are not partitionable: running default HASH AGGREGATION\n",
      "keys/aggregates are not partitionable: running default HASH AGGREGATION\n",
      "INFO:notifications:Done.\n",
      " 12%|██████████████▋                                                                                                      | 1/8 [17:15<2:00:47, 1035.33s/it]INFO:notifications:Writing 'tf_idf_score' sensitivity dataframe to /tmp/tmphspsryhy.parquet ...\n",
      "keys/aggregates are not partitionable: running default HASH AGGREGATION\n",
      "keys/aggregates are not partitionable: running default HASH AGGREGATION\n",
      "INFO:notifications:Done.\n",
      " 25%|█████████████████████████████▎                                                                                       | 2/8 [34:32<1:43:38, 1036.34s/it]INFO:notifications:Writing 'containment_adjusted_log10' sensitivity dataframe to /tmp/tmpqtb8floj.parquet ...\n",
      "keys/aggregates are not partitionable: running default HASH AGGREGATION\n",
      "keys/aggregates are not partitionable: running default HASH AGGREGATION\n",
      "INFO:notifications:Done.\n",
      " 38%|███████████████████████████████████████████▉                                                                         | 3/8 [51:36<1:25:53, 1030.78s/it]INFO:notifications:Writing 'log10_prob_overlap_adjusted' sensitivity dataframe to /tmp/tmps6qw57s5.parquet ...\n",
      "keys/aggregates are not partitionable: running default HASH AGGREGATION\n",
      "keys/aggregates are not partitionable: running default HASH AGGREGATION\n"
     ]
    }
   ],
   "source": [
    "\n",
    "moltype_info = {\n",
    "    # \"protein\": dict(\n",
    "    #     ksizes=range(5, 21),\n",
    "    #     pipeline_outdir=\"s3://seanome-kmerseek/scope-benchmark/pipeline-outputs/2024-10-08__protein_k5-20\",\n",
    "    #     analysis_outdir=\"s3://seanome-kmerseek/scope-benchmark/analysis-outputs/protein\",\n",
    "    # ),\n",
    "    # \"dayhoff\": dict(\n",
    "    #     ksizes=range(5, 21),\n",
    "    #     pipeline_outdir=\"s3://seanome-kmerseek/scope-benchmark/pipeline-outputs/2024-10-09__dayhoff_k5-20\",\n",
    "    #     analysis_outdir=\"s3://seanome-kmerseek/scope-benchmark/analysis-outputs/dayhoff\",\n",
    "    # ),\n",
    "    \"hp\": dict(\n",
    "        ksizes=reversed(range(10, 16)),\n",
    "        # pipeline_outdir=\"s3://seanome-kmerseek/scope-benchmark/pipeline-outputs/2024-10-09__hp_k20-60\",\n",
    "        pipeline_outdir=\"/home/ec2-user/data/seanome-kmerseek/scope-benchmark/pipeline-outputs/2024-10-09__hp_k20-60\",\n",
    "        # analysis_outdir=\"s3://seanome-kmerseek/scope-benchmark/analysis-outputs/hp\",\n",
    "        analysis_outdir=\"/home/ec2-user/data/seanome-kmerseek/scope-benchmark/analysis-outputs/hp\",\n",
    "    ),\n",
    "}\n",
    "\n",
    "basename_template = r\"scope40.multisearch.{moltype}.k{ksize}.filtered.pq\"\n",
    "\n",
    "for moltype, info in moltype_info.items():\n",
    "    ksizes = info[\"ksizes\"]\n",
    "    cleaned_outdir = os.path.join(\n",
    "        info[\"analysis_outdir\"], \"00_cleaned_multisearch_results\"\n",
    "    )\n",
    "    sensitivity_outdir = os.path.join(\n",
    "        info[\"analysis_outdir\"], \"01_sensitivity_until_first_false_positive\"\n",
    "    )\n",
    "    if not os.path.exists(sensitivity_outdir):\n",
    "        ! mkdir $sensitivity_outdir\n",
    "    for ksize in ksizes:\n",
    "        notify(f\"--- moltype: {moltype}, ksize: {ksize} --\")\n",
    "\n",
    "        pq_out = os.path.join(\n",
    "            sensitivity_outdir, \n",
    "            f\"scope40.multisearch.{moltype}.{ksize}.sensitivity_to_first_fp.pq\"\n",
    "        )\n",
    "        notify(f'pq out: {pq_out}')\n",
    "        if os.path.exists(pq_out):\n",
    "            continue\n",
    "        \n",
    "        basename = basename_template.format(moltype=moltype, ksize=ksize)\n",
    "        pq = os.path.join(cleaned_outdir, basename)\n",
    "        notify(f\"Reading {pq} ...\")\n",
    "        multisearch = pl.scan_parquet(pq, schema=multisearch_schema, parallel='row_groups')\n",
    "        notify_done()\n",
    "        sensitivity = compute_sensitivity(\n",
    "            multisearch, sourmash_score_cols, moltype, ksize\n",
    "        )\n",
    "\n",
    "        notify(f'Writing {pq_out} ... ')\n",
    "        sensitivity.sink_parquet(pq_out, row_group_size=1000)\n",
    "        # sensitivity.collect().write_parquet(pq_out)\n",
    "        notify_done()"
   ]
  },
  {
   "cell_type": "code",
   "execution_count": null,
   "id": "5d28acda-5b57-4033-8928-54f849f2c8fa",
   "metadata": {},
   "outputs": [],
   "source": [
    "# sensitivity.show_graph()"
   ]
  },
  {
   "cell_type": "code",
   "execution_count": null,
   "id": "bb9d7b5e-3b69-473a-8e22-072003c3cca4",
   "metadata": {},
   "outputs": [],
   "source": [
    "sensitivity.comm"
   ]
  },
  {
   "cell_type": "code",
   "execution_count": null,
   "id": "e218eec4-34c6-4fe2-bf38-1ebc124c1f2a",
   "metadata": {},
   "outputs": [],
   "source": [
    "sensitivity.shape"
   ]
  },
  {
   "cell_type": "code",
   "execution_count": null,
   "id": "67b33ba3-1872-492a-8ece-3d630d0c63bd",
   "metadata": {},
   "outputs": [],
   "source": [
    "# g = sns.catplot(\n",
    "#     data=sensitivity,\n",
    "#     col=\"sourmash_score\",\n",
    "#     hue=\"ksize\",\n",
    "#     y=\"variable\",\n",
    "#     x=\"sensitivity\",\n",
    "#     col_wrap=4, height=3\n",
    "# )"
   ]
  },
  {
   "cell_type": "code",
   "execution_count": null,
   "id": "46ab4dfc-e48c-4659-9400-9cfb446825b1",
   "metadata": {},
   "outputs": [],
   "source": [
    "# %debug"
   ]
  },
  {
   "cell_type": "code",
   "execution_count": null,
   "id": "d34d52fd-e904-4fcf-af69-0b51b85aa8d8",
   "metadata": {},
   "outputs": [],
   "source": []
  },
  {
   "cell_type": "code",
   "execution_count": null,
   "id": "6d1ff1e3-c1f8-47df-8577-e72da3ae1984",
   "metadata": {},
   "outputs": [],
   "source": [
    "cv"
   ]
  }
 ],
 "metadata": {
  "kernelspec": {
   "display_name": "Python [conda env:2024-kmerseek-analysis-polars]",
   "language": "python",
   "name": "conda-env-2024-kmerseek-analysis-polars-py"
  },
  "language_info": {
   "codemirror_mode": {
    "name": "ipython",
    "version": 3
   },
   "file_extension": ".py",
   "mimetype": "text/x-python",
   "name": "python",
   "nbconvert_exporter": "python",
   "pygments_lexer": "ipython3",
   "version": "3.12.7"
  }
 },
 "nbformat": 4,
 "nbformat_minor": 5
}
